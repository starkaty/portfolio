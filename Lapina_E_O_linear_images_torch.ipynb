{
 "cells": [
  {
   "cell_type": "markdown",
   "metadata": {
    "id": "FJr1KeA_jgoq"
   },
   "source": [
    "## Сети прямого распространения"
   ]
  },
  {
   "cell_type": "code",
   "execution_count": 63,
   "metadata": {
    "id": "Bbsk6gcVaJMJ"
   },
   "outputs": [],
   "source": [
    "import torch\n",
    "import torchvision\n",
    "import matplotlib.pyplot as plt\n",
    "import numpy as np\n",
    "from torch import optim\n",
    "import torchvision.transforms as transforms\n",
    "import torch.nn as nn"
   ]
  },
  {
   "cell_type": "code",
   "execution_count": 64,
   "metadata": {
    "colab": {
     "base_uri": "https://localhost:8080/",
     "height": 122,
     "referenced_widgets": [
      "5f6a4e99ed964343ac697d166d8c92b6",
      "7db40f22bdb248b2ab76d9504c867bc3",
      "d6e555108b8344a7a3f1b423e805fea7",
      "ea8d5abd79b04e208b90023b7261fd54",
      "d2dc4119bec04059ae744ed2511967be",
      "61af6dce3d004e25ad1c2dcb5989dbf5",
      "f1d79c697a734eaf93e64045cfc3f4d8",
      "61174812d0564de49a75118d6ca02a47",
      "569fb80224674514b427882a0416563f",
      "f96baa58fcf846da87e0d00278dee964",
      "9ab1e83850eb49ac9860160c42eea6e6"
     ]
    },
    "executionInfo": {
     "elapsed": 18174,
     "status": "ok",
     "timestamp": 1665417887283,
     "user": {
      "displayName": "Mariia Korliakova",
      "userId": "14165537686129864864"
     },
     "user_tz": -180
    },
    "id": "1ABe6EY5tZ20",
    "outputId": "d9171efb-30d2-48ce-e11d-08a0b7593ae5"
   },
   "outputs": [
    {
     "name": "stdout",
     "output_type": "stream",
     "text": [
      "Files already downloaded and verified\n"
     ]
    }
   ],
   "source": [
    "train_dataset = torchvision.datasets.CIFAR10(root='data/',\n",
    "                                             train=True,  \n",
    "                                             transform=transforms.ToTensor(), \n",
    "                                             download=True)\n"
   ]
  },
  {
   "cell_type": "code",
   "execution_count": 65,
   "metadata": {},
   "outputs": [
    {
     "name": "stdout",
     "output_type": "stream",
     "text": [
      "torch.Size([3, 32, 32])\n",
      "9\n"
     ]
    }
   ],
   "source": [
    "image, label = train_dataset[1]\n",
    "print(image.size())\n",
    "print(label)"
   ]
  },
  {
   "cell_type": "code",
   "execution_count": 66,
   "metadata": {
    "colab": {
     "base_uri": "https://localhost:8080/"
    },
    "executionInfo": {
     "elapsed": 11,
     "status": "ok",
     "timestamp": 1665417887283,
     "user": {
      "displayName": "Mariia Korliakova",
      "userId": "14165537686129864864"
     },
     "user_tz": -180
    },
    "id": "wgkIcZL6FQWk",
    "outputId": "ceb60a5e-5d56-4f80-f98e-68eec053b342"
   },
   "outputs": [
    {
     "data": {
      "text/plain": [
       "torch.Size([32, 32, 3])"
      ]
     },
     "execution_count": 66,
     "metadata": {},
     "output_type": "execute_result"
    }
   ],
   "source": [
    "image.permute(1, 2, 0).shape"
   ]
  },
  {
   "cell_type": "code",
   "execution_count": 67,
   "metadata": {
    "colab": {
     "base_uri": "https://localhost:8080/",
     "height": 266
    },
    "executionInfo": {
     "elapsed": 738,
     "status": "ok",
     "timestamp": 1665417897675,
     "user": {
      "displayName": "Mariia Korliakova",
      "userId": "14165537686129864864"
     },
     "user_tz": -180
    },
    "id": "gk9lX8VdtZ21",
    "outputId": "c546b909-52fe-43e5-9a8e-690570e2a740"
   },
   "outputs": [
    {
     "data": {
      "image/png": "[encoded data removed]",
      "text/plain": [
       "<Figure size 432x288 with 1 Axes>"
      ]
     },
     "metadata": {
      "needs_background": "light"
     },
     "output_type": "display_data"
    }
   ],
   "source": [
    "plt.imshow(image.permute(1, 2, 0).numpy());"
   ]
  },
  {
   "cell_type": "markdown",
   "metadata": {},
   "source": [
    "Создадим загрузчик (генератор пакетов):"
   ]
  },
  {
   "cell_type": "code",
   "execution_count": 68,
   "metadata": {
    "id": "dzocRyIKtZ22"
   },
   "outputs": [],
   "source": [
    "train_loader = torch.utils.data.DataLoader(dataset=train_dataset,\n",
    "                                           batch_size=64, \n",
    "                                           shuffle=True)"
   ]
  },
  {
   "cell_type": "markdown",
   "metadata": {},
   "source": [
    "Повторим для тестовых данных:"
   ]
  },
  {
   "cell_type": "code",
   "execution_count": 69,
   "metadata": {
    "colab": {
     "base_uri": "https://localhost:8080/"
    },
    "executionInfo": {
     "elapsed": 1461,
     "status": "ok",
     "timestamp": 1665417908905,
     "user": {
      "displayName": "Mariia Korliakova",
      "userId": "14165537686129864864"
     },
     "user_tz": -180
    },
    "id": "K1XeQ1aPtZ23",
    "outputId": "88562a7e-8323-4473-c5a9-502319856eeb"
   },
   "outputs": [
    {
     "name": "stdout",
     "output_type": "stream",
     "text": [
      "Files already downloaded and verified\n"
     ]
    }
   ],
   "source": [
    "test_dataset = torchvision.datasets.CIFAR10(root='./data', train=False,\n",
    "                                            download=True, transform=transforms.ToTensor())\n",
    "test_loader = torch.utils.data.DataLoader(test_dataset, batch_size=8,\n",
    "                                          shuffle=False)"
   ]
  },
  {
   "cell_type": "markdown",
   "metadata": {},
   "source": [
    "Список классов:"
   ]
  },
  {
   "cell_type": "code",
   "execution_count": 70,
   "metadata": {
    "id": "oFYrzU1NtZ24"
   },
   "outputs": [],
   "source": [
    "classes = ('plane', 'car', 'bird', 'cat',\n",
    "           'deer', 'dog', 'frog', 'horse', 'ship', 'truck')"
   ]
  },
  {
   "cell_type": "markdown",
   "metadata": {},
   "source": [
    "нейронка:"
   ]
  },
  {
   "cell_type": "code",
   "execution_count": 71,
   "metadata": {
    "colab": {
     "base_uri": "https://localhost:8080/"
    },
    "executionInfo": {
     "elapsed": 2,
     "status": "ok",
     "timestamp": 1665417913395,
     "user": {
      "displayName": "Mariia Korliakova",
      "userId": "14165537686129864864"
     },
     "user_tz": -180
    },
    "id": "8wS-xS37tZ26",
    "outputId": "2bf3b860-41b8-4606-ca8b-ecfef29afce1"
   },
   "outputs": [
    {
     "data": {
      "text/plain": [
       "Net(\n",
       "  (fc1): Linear(in_features=3072, out_features=800, bias=True)\n",
       "  (fc2): Linear(in_features=800, out_features=400, bias=True)\n",
       "  (fc3): Linear(in_features=400, out_features=200, bias=True)\n",
       "  (fc4): Linear(in_features=200, out_features=100, bias=True)\n",
       "  (fc5): Linear(in_features=100, out_features=10, bias=True)\n",
       ")"
      ]
     },
     "execution_count": 71,
     "metadata": {},
     "output_type": "execute_result"
    }
   ],
   "source": [
    "import torch.nn.functional as F\n",
    "\n",
    "\n",
    "class Net(nn.Module):\n",
    "    def __init__(self, input_dim, hidden_dim, output_dim):\n",
    "        super().__init__()\n",
    "        self.fc1 = nn.Linear(input_dim, 8 * hidden_dim)\n",
    "        self.fc2 = nn.Linear(8 * hidden_dim, 4 * hidden_dim)\n",
    "        self.fc3 = nn.Linear(4 * hidden_dim, 2 * hidden_dim)\n",
    "        self.fc4 = nn.Linear(2 * hidden_dim, hidden_dim)\n",
    "        self.fc5 = nn.Linear(hidden_dim, output_dim)\n",
    "\n",
    "    def forward(self, x):\n",
    "        x = x.view(x.shape[0], -1)\n",
    "        x = self.fc1(x)\n",
    "        x = F.leaky_relu(x)\n",
    "        x = self.fc2(x)\n",
    "        x = F.leaky_relu(x)\n",
    "        x = self.fc3(x)\n",
    "        x = F.leaky_relu(x)\n",
    "        x = self.fc4(x)\n",
    "        x = F.leaky_relu(x)\n",
    "        x = self.fc5(x)\n",
    "        return x\n",
    "    \n",
    "    def predict(self, x):\n",
    "        x = x.view(x.shape[0], -1)\n",
    "        x = self.fc1(x)\n",
    "        x = F.leaky_relu(x)\n",
    "        x = self.fc2(x)\n",
    "        x = F.leaky_relu(x)\n",
    "        x = self.fc3(x)\n",
    "        x = F.leaky_relu(x)\n",
    "        x = self.fc4(x)\n",
    "        x = F.leaky_relu(x)\n",
    "        x = self.fc5(x)\n",
    "        x = F.softmax(x)\n",
    "        return x\n",
    "\n",
    "\n",
    "net = Net(3072, 100, 10)\n",
    "net.train()"
   ]
  },
  {
   "cell_type": "code",
   "execution_count": 72,
   "metadata": {
    "colab": {
     "base_uri": "https://localhost:8080/"
    },
    "executionInfo": {
     "elapsed": 4,
     "status": "ok",
     "timestamp": 1665417916314,
     "user": {
      "displayName": "Mariia Korliakova",
      "userId": "14165537686129864864"
     },
     "user_tz": -180
    },
    "id": "Gdc_JriftZ25",
    "outputId": "868644f5-5a18-4b48-b616-6929aa9f7306"
   },
   "outputs": [
    {
     "data": {
      "text/plain": [
       "3072"
      ]
     },
     "execution_count": 72,
     "metadata": {},
     "output_type": "execute_result"
    }
   ],
   "source": [
    "3 * 32 * 32"
   ]
  },
  {
   "cell_type": "markdown",
   "metadata": {},
   "source": [
    "Потери и оптимизатор:"
   ]
  },
  {
   "cell_type": "code",
   "execution_count": 73,
   "metadata": {
    "id": "cps8zpkctZ26"
   },
   "outputs": [],
   "source": [
    "criterion = nn.CrossEntropyLoss()\n",
    "optimizer = optim.SGD(net.parameters(), lr=0.01, momentum=0.5)"
   ]
  },
  {
   "cell_type": "markdown",
   "metadata": {},
   "source": [
    "цикл обучения:"
   ]
  },
  {
   "cell_type": "code",
   "execution_count": 74,
   "metadata": {
    "colab": {
     "base_uri": "https://localhost:8080/"
    },
    "executionInfo": {
     "elapsed": 56789,
     "status": "ok",
     "timestamp": 1665417982707,
     "user": {
      "displayName": "Mariia Korliakova",
      "userId": "14165537686129864864"
     },
     "user_tz": -180
    },
    "id": "5fKNYUqetZ27",
    "outputId": "900f272b-a6e6-427e-d0ec-0ba9c9de854b"
   },
   "outputs": [
    {
     "name": "stdout",
     "output_type": "stream",
     "text": [
      "Epoch [1/10]. Step [1/782]. Loss: 0.036\n",
      "Epoch [1/10]. Step [301/782]. Loss: 0.036\n",
      "Epoch [1/10]. Step [601/782]. Loss: 0.036\n",
      "Epoch [2/10]. Step [1/782]. Loss: 0.034\n",
      "Epoch [2/10]. Step [301/782]. Loss: 0.032\n",
      "Epoch [2/10]. Step [601/782]. Loss: 0.031\n",
      "Epoch [3/10]. Step [1/782]. Loss: 0.029\n",
      "Epoch [3/10]. Step [301/782]. Loss: 0.030\n",
      "Epoch [3/10]. Step [601/782]. Loss: 0.029\n",
      "Epoch [4/10]. Step [1/782]. Loss: 0.031\n",
      "Epoch [4/10]. Step [301/782]. Loss: 0.028\n",
      "Epoch [4/10]. Step [601/782]. Loss: 0.028\n",
      "Epoch [5/10]. Step [1/782]. Loss: 0.026\n",
      "Epoch [5/10]. Step [301/782]. Loss: 0.027\n",
      "Epoch [5/10]. Step [601/782]. Loss: 0.027\n",
      "Epoch [6/10]. Step [1/782]. Loss: 0.027\n",
      "Epoch [6/10]. Step [301/782]. Loss: 0.026\n",
      "Epoch [6/10]. Step [601/782]. Loss: 0.026\n",
      "Epoch [7/10]. Step [1/782]. Loss: 0.026\n",
      "Epoch [7/10]. Step [301/782]. Loss: 0.025\n",
      "Epoch [7/10]. Step [601/782]. Loss: 0.025\n",
      "Epoch [8/10]. Step [1/782]. Loss: 0.027\n",
      "Epoch [8/10]. Step [301/782]. Loss: 0.024\n",
      "Epoch [8/10]. Step [601/782]. Loss: 0.024\n",
      "Epoch [9/10]. Step [1/782]. Loss: 0.023\n",
      "Epoch [9/10]. Step [301/782]. Loss: 0.024\n",
      "Epoch [9/10]. Step [601/782]. Loss: 0.024\n",
      "Epoch [10/10]. Step [1/782]. Loss: 0.024\n",
      "Epoch [10/10]. Step [301/782]. Loss: 0.023\n",
      "Epoch [10/10]. Step [601/782]. Loss: 0.023\n",
      "Training is finished!\n"
     ]
    }
   ],
   "source": [
    "num_epochs = 10\n",
    "\n",
    "for epoch in range(num_epochs):\n",
    "    running_loss = 0.0\n",
    "    running_items = 0.0\n",
    "\n",
    "\n",
    "    for i, data in enumerate(train_loader):\n",
    "        inputs, labels = data[0], data[1]\n",
    "\n",
    "         # Обнуляем градиент\n",
    "        optimizer.zero_grad()\n",
    "        # Делаем предсказание\n",
    "        outputs = net(inputs)\n",
    "        # Рассчитываем лосс-функцию\n",
    "        loss = criterion(outputs, labels)\n",
    "        # Делаем шаг назад по лоссу\n",
    "        loss.backward()\n",
    "        # Делаем шаг нашего оптимайзера\n",
    "        optimizer.step()\n",
    "\n",
    "        # выводим статистику о процессе обучения\n",
    "        running_loss += loss.item()\n",
    "        running_items += len(labels)\n",
    "        if i % 300 == 0:    # печатаем каждые 300 mini-batches\n",
    "            print(f'Epoch [{epoch + 1}/{num_epochs}]. ' \\\n",
    "                  f'Step [{i + 1}/{len(train_loader)}]. ' \\\n",
    "                  f'Loss: {running_loss / running_items:.3f}')\n",
    "            running_loss, running_items = 0.0, 0.0\n",
    "\n",
    "print('Training is finished!')"
   ]
  },
  {
   "cell_type": "markdown",
   "metadata": {
    "id": "_sTks3KslrhC"
   },
   "source": [
    "## Загрузка и сохранение модели"
   ]
  },
  {
   "cell_type": "markdown",
   "metadata": {
    "id": "LPFEiskvlrhC"
   },
   "source": [
    "### Сохранение модели"
   ]
  },
  {
   "cell_type": "code",
   "execution_count": 75,
   "metadata": {
    "id": "KD7mnuaeAhhs"
   },
   "outputs": [],
   "source": [
    "PATH_WEIGHTS = './cifar_net_test_version_weights.pth'\n",
    "torch.save(net.state_dict(), PATH_WEIGHTS)"
   ]
  },
  {
   "cell_type": "code",
   "execution_count": 76,
   "metadata": {
    "colab": {
     "base_uri": "https://localhost:8080/"
    },
    "executionInfo": {
     "elapsed": 3,
     "status": "ok",
     "timestamp": 1665418045630,
     "user": {
      "displayName": "Mariia Korliakova",
      "userId": "14165537686129864864"
     },
     "user_tz": -180
    },
    "id": "vfaFpun1Ahhs",
    "outputId": "b13efbeb-8095-4d3c-8e78-712ff4db0493"
   },
   "outputs": [
    {
     "name": "stdout",
     "output_type": "stream",
     "text": [
      "Model state_dict: \n",
      "fc1.weight \t torch.Size([800, 3072])\n",
      "fc1.bias \t torch.Size([800])\n",
      "fc2.weight \t torch.Size([400, 800])\n",
      "fc2.bias \t torch.Size([400])\n",
      "fc3.weight \t torch.Size([200, 400])\n",
      "fc3.bias \t torch.Size([200])\n",
      "fc4.weight \t torch.Size([100, 200])\n",
      "fc4.bias \t torch.Size([100])\n",
      "fc5.weight \t torch.Size([10, 100])\n",
      "fc5.bias \t torch.Size([10])\n"
     ]
    }
   ],
   "source": [
    "print(\"Model state_dict: \")\n",
    "for param in net.state_dict():\n",
    "    print(param, \"\\t\", net.state_dict()[param].size())"
   ]
  },
  {
   "cell_type": "code",
   "execution_count": 77,
   "metadata": {
    "id": "7uo21kDtpehh"
   },
   "outputs": [],
   "source": [
    "PATH_MODEL = './cifar_net_test_version_model.pth'\n",
    "torch.save(net, PATH_MODEL)"
   ]
  },
  {
   "cell_type": "markdown",
   "metadata": {
    "id": "ehNiDFWtAhht"
   },
   "source": [
    "### Загрузка и использование модели "
   ]
  },
  {
   "cell_type": "code",
   "execution_count": 78,
   "metadata": {
    "colab": {
     "base_uri": "https://localhost:8080/"
    },
    "executionInfo": {
     "elapsed": 1005,
     "status": "ok",
     "timestamp": 1665418079518,
     "user": {
      "displayName": "Mariia Korliakova",
      "userId": "14165537686129864864"
     },
     "user_tz": -180
    },
    "id": "3bobKodiAhht",
    "outputId": "48dc24c2-8a66-4c89-ca48-3a7514dbde49"
   },
   "outputs": [
    {
     "data": {
      "text/plain": [
       "Net(\n",
       "  (fc1): Linear(in_features=3072, out_features=800, bias=True)\n",
       "  (fc2): Linear(in_features=800, out_features=400, bias=True)\n",
       "  (fc3): Linear(in_features=400, out_features=200, bias=True)\n",
       "  (fc4): Linear(in_features=200, out_features=100, bias=True)\n",
       "  (fc5): Linear(in_features=100, out_features=10, bias=True)\n",
       ")"
      ]
     },
     "execution_count": 78,
     "metadata": {},
     "output_type": "execute_result"
    }
   ],
   "source": [
    "net = Net(3072, 100, 10)\n",
    "net.load_state_dict(torch.load(PATH_WEIGHTS))\n",
    "net"
   ]
  },
  {
   "cell_type": "code",
   "execution_count": 79,
   "metadata": {
    "id": "EcC_eMaxphxr"
   },
   "outputs": [],
   "source": [
    "net = torch.load(PATH_MODEL)"
   ]
  },
  {
   "cell_type": "code",
   "execution_count": 80,
   "metadata": {
    "id": "bnItAZIgAhht"
   },
   "outputs": [],
   "source": [
    "data_iter = iter(test_loader)\n",
    "images, labels = next(data_iter)"
   ]
  },
  {
   "cell_type": "code",
   "execution_count": 81,
   "metadata": {
    "colab": {
     "base_uri": "https://localhost:8080/",
     "height": 142
    },
    "executionInfo": {
     "elapsed": 1540,
     "status": "ok",
     "timestamp": 1665418088853,
     "user": {
      "displayName": "Mariia Korliakova",
      "userId": "14165537686129864864"
     },
     "user_tz": -180
    },
    "id": "xaZVP7lWAhhu",
    "outputId": "420ffe8a-74a3-4a5e-d4db-b5496ccba0cd"
   },
   "outputs": [
    {
     "name": "stdout",
     "output_type": "stream",
     "text": [
      "GroundTruth:  cat ship ship plane frog frog car frog\n"
     ]
    },
    {
     "data": {
      "image/png": "[encoded data removed]",
      "text/plain": [
       "<Figure size 720x360 with 1 Axes>"
      ]
     },
     "metadata": {
      "needs_background": "light"
     },
     "output_type": "display_data"
    }
   ],
   "source": [
    "net.eval()\n",
    "outputs = net(images)\n",
    "imgs = torchvision.utils.make_grid(images)\n",
    "plt.figure(figsize=(10, 5))\n",
    "plt.imshow(imgs.permute(1, 2, 0).numpy())\n",
    "print('GroundTruth: ', ' '.join(classes[labels[j]] for j in range(len(labels))))"
   ]
  },
  {
   "cell_type": "code",
   "execution_count": 82,
   "metadata": {
    "colab": {
     "base_uri": "https://localhost:8080/"
    },
    "executionInfo": {
     "elapsed": 451,
     "status": "ok",
     "timestamp": 1665418155433,
     "user": {
      "displayName": "Mariia Korliakova",
      "userId": "14165537686129864864"
     },
     "user_tz": -180
    },
    "id": "OK5qzXeCAhhv",
    "outputId": "8ffa9fcd-f61d-4f7c-e536-0652e116b477"
   },
   "outputs": [
    {
     "name": "stdout",
     "output_type": "stream",
     "text": [
      "tensor([[ 0.5380,  0.6978,  0.3815,  1.1373, -0.5303,  0.5336,  0.6725, -2.9123,\n",
      "          0.7952, -1.3996],\n",
      "        [ 1.8025,  4.4062, -2.5568, -1.5081, -2.3023, -2.7764, -3.5067, -3.3086,\n",
      "          4.1903,  3.8994],\n",
      "        [ 2.7207,  3.2026, -1.5147, -1.6477, -1.4853, -2.4111, -4.1114, -3.0436,\n",
      "          4.4162,  1.9058],\n",
      "        [ 2.0752,  1.3120,  0.0151, -0.8081, -0.6106, -1.1364, -2.5992, -2.0784,\n",
      "          2.6409, -0.1518],\n",
      "        [-0.3145, -1.3212,  1.1984,  0.3016,  2.2349,  0.2093,  2.3552, -1.5029,\n",
      "         -0.4999, -2.3638],\n",
      "        [-0.9547, -0.1958,  0.5352,  1.4044, -0.0154,  0.9954,  2.1455, -0.8129,\n",
      "         -2.3261, -0.5894],\n",
      "        [-0.1732,  2.9577, -0.7963,  1.5412, -2.5451,  1.1522, -0.7896, -1.8584,\n",
      "         -0.8332,  0.6674],\n",
      "        [-0.5470, -1.5385,  1.7288,  0.4196,  1.8755,  0.3443,  2.3503, -0.4491,\n",
      "         -1.6870, -2.0101]], grad_fn=<AddmmBackward0>)\n"
     ]
    }
   ],
   "source": [
    "print(outputs)"
   ]
  },
  {
   "cell_type": "code",
   "execution_count": 83,
   "metadata": {
    "colab": {
     "base_uri": "https://localhost:8080/"
    },
    "executionInfo": {
     "elapsed": 3,
     "status": "ok",
     "timestamp": 1665418157420,
     "user": {
      "displayName": "Mariia Korliakova",
      "userId": "14165537686129864864"
     },
     "user_tz": -180
    },
    "id": "lR4a_Km2BGlq",
    "outputId": "c4d13d5e-0aab-44f7-9241-6c0b55c9e07b"
   },
   "outputs": [
    {
     "name": "stderr",
     "output_type": "stream",
     "text": [
      "/tmp/ipykernel_16785/2910908592.py:37: UserWarning: Implicit dimension choice for softmax has been deprecated. Change the call to include dim=X as an argument.\n",
      "  x = F.softmax(x)\n"
     ]
    },
    {
     "data": {
      "text/plain": [
       "tensor([[1.1362e-01, 1.3331e-01, 9.7155e-02, 2.0689e-01, 3.9036e-02, 1.1311e-01,\n",
       "         1.2997e-01, 3.6056e-03, 1.4694e-01, 1.6366e-02],\n",
       "        [2.9734e-02, 4.0183e-01, 3.8022e-04, 1.0851e-03, 4.9042e-04, 3.0526e-04,\n",
       "         1.4706e-04, 1.7929e-04, 3.2378e-01, 2.4207e-01],\n",
       "        [1.1677e-01, 1.8908e-01, 1.6903e-03, 1.4797e-03, 1.7407e-03, 6.8965e-04,\n",
       "         1.2596e-04, 3.6641e-04, 6.3636e-01, 5.1693e-02],\n",
       "        [2.7385e-01, 1.2767e-01, 3.4899e-02, 1.5322e-02, 1.8667e-02, 1.1034e-02,\n",
       "         2.5553e-03, 4.3017e-03, 4.8217e-01, 2.9534e-02],\n",
       "        [2.6354e-02, 9.6303e-03, 1.1964e-01, 4.8799e-02, 3.3731e-01, 4.4498e-02,\n",
       "         3.8045e-01, 8.0302e-03, 2.1894e-02, 3.3951e-03],\n",
       "        [1.8942e-02, 4.0461e-02, 8.4040e-02, 2.0044e-01, 4.8460e-02, 1.3315e-01,\n",
       "         4.2058e-01, 2.1828e-02, 4.8065e-03, 2.7296e-02],\n",
       "        [2.6735e-02, 6.1215e-01, 1.4338e-02, 1.4848e-01, 2.4946e-03, 1.0063e-01,\n",
       "         1.4434e-02, 4.9573e-03, 1.3819e-02, 6.1966e-02],\n",
       "        [2.1175e-02, 7.8561e-03, 2.0615e-01, 5.5671e-02, 2.3872e-01, 5.1628e-02,\n",
       "         3.8378e-01, 2.3354e-02, 6.7720e-03, 4.9021e-03]],\n",
       "       grad_fn=<SoftmaxBackward0>)"
      ]
     },
     "execution_count": 83,
     "metadata": {},
     "output_type": "execute_result"
    }
   ],
   "source": [
    "net.predict(images)"
   ]
  },
  {
   "cell_type": "code",
   "execution_count": 84,
   "metadata": {
    "colab": {
     "base_uri": "https://localhost:8080/"
    },
    "executionInfo": {
     "elapsed": 3,
     "status": "ok",
     "timestamp": 1665418159560,
     "user": {
      "displayName": "Mariia Korliakova",
      "userId": "14165537686129864864"
     },
     "user_tz": -180
    },
    "id": "VF-ezeboAhhv",
    "outputId": "9e2cd37a-7baa-46e9-901d-65d52a8a9bc5"
   },
   "outputs": [
    {
     "data": {
      "text/plain": [
       "tensor([3, 1, 8, 8, 6, 6, 1, 6])"
      ]
     },
     "execution_count": 84,
     "metadata": {},
     "output_type": "execute_result"
    }
   ],
   "source": [
    "_, predicted = torch.max(outputs, 1)\n",
    "\n",
    "predicted"
   ]
  },
  {
   "cell_type": "code",
   "execution_count": 85,
   "metadata": {
    "colab": {
     "base_uri": "https://localhost:8080/"
    },
    "executionInfo": {
     "elapsed": 433,
     "status": "ok",
     "timestamp": 1665418178025,
     "user": {
      "displayName": "Mariia Korliakova",
      "userId": "14165537686129864864"
     },
     "user_tz": -180
    },
    "id": "Vd6w5xrvHP-O",
    "outputId": "c1272934-0167-42b8-f6f1-9d0fe8f05aa4"
   },
   "outputs": [
    {
     "name": "stdout",
     "output_type": "stream",
     "text": [
      "Predicted:  cat car ship ship frog frog car frog\n"
     ]
    }
   ],
   "source": [
    "print('Predicted: ', ' '.join(classes[predicted[j]] for j in range(len(labels))))"
   ]
  },
  {
   "cell_type": "code",
   "execution_count": 86,
   "metadata": {
    "colab": {
     "base_uri": "https://localhost:8080/"
    },
    "executionInfo": {
     "elapsed": 3,
     "status": "ok",
     "timestamp": 1665418180287,
     "user": {
      "displayName": "Mariia Korliakova",
      "userId": "14165537686129864864"
     },
     "user_tz": -180
    },
    "id": "oxPcScN3ROv2",
    "outputId": "6bd95256-86e2-4aa7-a825-bd45a8c04a1b"
   },
   "outputs": [
    {
     "name": "stdout",
     "output_type": "stream",
     "text": [
      "['cat' 'ship' 'ship' 'plane' 'frog' 'frog' 'car' 'frog']\n",
      "['cat' 'car' 'ship' 'ship' 'frog' 'frog' 'car' 'frog']\n",
      "Accuracy is 0.75\n"
     ]
    }
   ],
   "source": [
    "gt = np.array([classes[labels[j]] for j in range(len(labels))])\n",
    "pred = np.array([classes[predicted[j]] for j in range(len(labels))])\n",
    "\n",
    "print(gt)\n",
    "print(pred)\n",
    "print(f'Accuracy is {(gt == pred).sum() / len(gt)}')"
   ]
  },
  {
   "cell_type": "markdown",
   "metadata": {
    "id": "MkJ7emsMxaYF"
   },
   "source": [
    "Вывод: существенно улучшить показатели первоначальной модели помогло увеличениие количества эпох до 10 и установка momentum = 0,5 в оптимизаторе SGD (только эти два изменения уже привели к accuracy 0.625), добавление еще одного слоя нейронов в количестве 8*hidden_dim еще улучшило accuracy до 0.75. Уменьшение количества слоев на один слой, а также изменение показателя hidden_dim до 64 ухудшало работу модели даже при увеличении количества эпох обучения до 15."
   ]
  },
  {
   "cell_type": "code",
   "execution_count": null,
   "metadata": {},
   "outputs": [],
   "source": []
  }
 ],
 "metadata": {
  "accelerator": "GPU",
  "colab": {
   "collapsed_sections": [],
   "provenance": []
  },
  "kernelspec": {
   "display_name": "Python 3 (ipykernel)",
   "language": "python",
   "name": "python3"
  },
  "language_info": {
   "codemirror_mode": {
    "name": "ipython",
    "version": 3
   },
   "file_extension": ".py",
   "mimetype": "text/x-python",
   "name": "python",
   "nbconvert_exporter": "python",
   "pygments_lexer": "ipython3",
   "version": "3.9.12"
  },
  "widgets": {
   "application/vnd.jupyter.widget-state+json": {
    "569fb80224674514b427882a0416563f": {
     "model_module": "@jupyter-widgets/controls",
     "model_module_version": "1.5.0",
     "model_name": "ProgressStyleModel",
     "state": {
      "_model_module": "@jupyter-widgets/controls",
      "_model_module_version": "1.5.0",
      "_model_name": "ProgressStyleModel",
      "_view_count": null,
      "_view_module": "@jupyter-widgets/base",
      "_view_module_version": "1.2.0",
      "_view_name": "StyleView",
      "bar_color": null,
      "description_width": ""
     }
    },
    "5f6a4e99ed964343ac697d166d8c92b6": {
     "model_module": "@jupyter-widgets/controls",
     "model_module_version": "1.5.0",
     "model_name": "HBoxModel",
     "state": {
      "_dom_classes": [],
      "_model_module": "@jupyter-widgets/controls",
      "_model_module_version": "1.5.0",
      "_model_name": "HBoxModel",
      "_view_count": null,
      "_view_module": "@jupyter-widgets/controls",
      "_view_module_version": "1.5.0",
      "_view_name": "HBoxView",
      "box_style": "",
      "children": [
       "IPY_MODEL_7db40f22bdb248b2ab76d9504c867bc3",
       "IPY_MODEL_d6e555108b8344a7a3f1b423e805fea7",
       "IPY_MODEL_ea8d5abd79b04e208b90023b7261fd54"
      ],
      "layout": "IPY_MODEL_d2dc4119bec04059ae744ed2511967be"
     }
    },
    "61174812d0564de49a75118d6ca02a47": {
     "model_module": "@jupyter-widgets/base",
     "model_module_version": "1.2.0",
     "model_name": "LayoutModel",
     "state": {
      "_model_module": "@jupyter-widgets/base",
      "_model_module_version": "1.2.0",
      "_model_name": "LayoutModel",
      "_view_count": null,
      "_view_module": "@jupyter-widgets/base",
      "_view_module_version": "1.2.0",
      "_view_name": "LayoutView",
      "align_content": null,
      "align_items": null,
      "align_self": null,
      "border": null,
      "bottom": null,
      "display": null,
      "flex": null,
      "flex_flow": null,
      "grid_area": null,
      "grid_auto_columns": null,
      "grid_auto_flow": null,
      "grid_auto_rows": null,
      "grid_column": null,
      "grid_gap": null,
      "grid_row": null,
      "grid_template_areas": null,
      "grid_template_columns": null,
      "grid_template_rows": null,
      "height": null,
      "justify_content": null,
      "justify_items": null,
      "left": null,
      "margin": null,
      "max_height": null,
      "max_width": null,
      "min_height": null,
      "min_width": null,
      "object_fit": null,
      "object_position": null,
      "order": null,
      "overflow": null,
      "overflow_x": null,
      "overflow_y": null,
      "padding": null,
      "right": null,
      "top": null,
      "visibility": null,
      "width": null
     }
    },
    "61af6dce3d004e25ad1c2dcb5989dbf5": {
     "model_module": "@jupyter-widgets/base",
     "model_module_version": "1.2.0",
     "model_name": "LayoutModel",
     "state": {
      "_model_module": "@jupyter-widgets/base",
      "_model_module_version": "1.2.0",
      "_model_name": "LayoutModel",
      "_view_count": null,
      "_view_module": "@jupyter-widgets/base",
      "_view_module_version": "1.2.0",
      "_view_name": "LayoutView",
      "align_content": null,
      "align_items": null,
      "align_self": null,
      "border": null,
      "bottom": null,
      "display": null,
      "flex": null,
      "flex_flow": null,
      "grid_area": null,
      "grid_auto_columns": null,
      "grid_auto_flow": null,
      "grid_auto_rows": null,
      "grid_column": null,
      "grid_gap": null,
      "grid_row": null,
      "grid_template_areas": null,
      "grid_template_columns": null,
      "grid_template_rows": null,
      "height": null,
      "justify_content": null,
      "justify_items": null,
      "left": null,
      "margin": null,
      "max_height": null,
      "max_width": null,
      "min_height": null,
      "min_width": null,
      "object_fit": null,
      "object_position": null,
      "order": null,
      "overflow": null,
      "overflow_x": null,
      "overflow_y": null,
      "padding": null,
      "right": null,
      "top": null,
      "visibility": null,
      "width": null
     }
    },
    "7db40f22bdb248b2ab76d9504c867bc3": {
     "model_module": "@jupyter-widgets/controls",
     "model_module_version": "1.5.0",
     "model_name": "HTMLModel",
     "state": {
      "_dom_classes": [],
      "_model_module": "@jupyter-widgets/controls",
      "_model_module_version": "1.5.0",
      "_model_name": "HTMLModel",
      "_view_count": null,
      "_view_module": "@jupyter-widgets/controls",
      "_view_module_version": "1.5.0",
      "_view_name": "HTMLView",
      "description": "",
      "description_tooltip": null,
      "layout": "IPY_MODEL_61af6dce3d004e25ad1c2dcb5989dbf5",
      "placeholder": "​",
      "style": "IPY_MODEL_f1d79c697a734eaf93e64045cfc3f4d8",
      "value": "100%"
     }
    },
    "9ab1e83850eb49ac9860160c42eea6e6": {
     "model_module": "@jupyter-widgets/controls",
     "model_module_version": "1.5.0",
     "model_name": "DescriptionStyleModel",
     "state": {
      "_model_module": "@jupyter-widgets/controls",
      "_model_module_version": "1.5.0",
      "_model_name": "DescriptionStyleModel",
      "_view_count": null,
      "_view_module": "@jupyter-widgets/base",
      "_view_module_version": "1.2.0",
      "_view_name": "StyleView",
      "description_width": ""
     }
    },
    "d2dc4119bec04059ae744ed2511967be": {
     "model_module": "@jupyter-widgets/base",
     "model_module_version": "1.2.0",
     "model_name": "LayoutModel",
     "state": {
      "_model_module": "@jupyter-widgets/base",
      "_model_module_version": "1.2.0",
      "_model_name": "LayoutModel",
      "_view_count": null,
      "_view_module": "@jupyter-widgets/base",
      "_view_module_version": "1.2.0",
      "_view_name": "LayoutView",
      "align_content": null,
      "align_items": null,
      "align_self": null,
      "border": null,
      "bottom": null,
      "display": null,
      "flex": null,
      "flex_flow": null,
      "grid_area": null,
      "grid_auto_columns": null,
      "grid_auto_flow": null,
      "grid_auto_rows": null,
      "grid_column": null,
      "grid_gap": null,
      "grid_row": null,
      "grid_template_areas": null,
      "grid_template_columns": null,
      "grid_template_rows": null,
      "height": null,
      "justify_content": null,
      "justify_items": null,
      "left": null,
      "margin": null,
      "max_height": null,
      "max_width": null,
      "min_height": null,
      "min_width": null,
      "object_fit": null,
      "object_position": null,
      "order": null,
      "overflow": null,
      "overflow_x": null,
      "overflow_y": null,
      "padding": null,
      "right": null,
      "top": null,
      "visibility": null,
      "width": null
     }
    },
    "d6e555108b8344a7a3f1b423e805fea7": {
     "model_module": "@jupyter-widgets/controls",
     "model_module_version": "1.5.0",
     "model_name": "FloatProgressModel",
     "state": {
      "_dom_classes": [],
      "_model_module": "@jupyter-widgets/controls",
      "_model_module_version": "1.5.0",
      "_model_name": "FloatProgressModel",
      "_view_count": null,
      "_view_module": "@jupyter-widgets/controls",
      "_view_module_version": "1.5.0",
      "_view_name": "ProgressView",
      "bar_style": "success",
      "description": "",
      "description_tooltip": null,
      "layout": "IPY_MODEL_61174812d0564de49a75118d6ca02a47",
      "max": 170498071,
      "min": 0,
      "orientation": "horizontal",
      "style": "IPY_MODEL_569fb80224674514b427882a0416563f",
      "value": 170498071
     }
    },
    "ea8d5abd79b04e208b90023b7261fd54": {
     "model_module": "@jupyter-widgets/controls",
     "model_module_version": "1.5.0",
     "model_name": "HTMLModel",
     "state": {
      "_dom_classes": [],
      "_model_module": "@jupyter-widgets/controls",
      "_model_module_version": "1.5.0",
      "_model_name": "HTMLModel",
      "_view_count": null,
      "_view_module": "@jupyter-widgets/controls",
      "_view_module_version": "1.5.0",
      "_view_name": "HTMLView",
      "description": "",
      "description_tooltip": null,
      "layout": "IPY_MODEL_f96baa58fcf846da87e0d00278dee964",
      "placeholder": "​",
      "style": "IPY_MODEL_9ab1e83850eb49ac9860160c42eea6e6",
      "value": " 170498071/170498071 [00:13&lt;00:00, 13367628.79it/s]"
     }
    },
    "f1d79c697a734eaf93e64045cfc3f4d8": {
     "model_module": "@jupyter-widgets/controls",
     "model_module_version": "1.5.0",
     "model_name": "DescriptionStyleModel",
     "state": {
      "_model_module": "@jupyter-widgets/controls",
      "_model_module_version": "1.5.0",
      "_model_name": "DescriptionStyleModel",
      "_view_count": null,
      "_view_module": "@jupyter-widgets/base",
      "_view_module_version": "1.2.0",
      "_view_name": "StyleView",
      "description_width": ""
     }
    },
    "f96baa58fcf846da87e0d00278dee964": {
     "model_module": "@jupyter-widgets/base",
     "model_module_version": "1.2.0",
     "model_name": "LayoutModel",
     "state": {
      "_model_module": "@jupyter-widgets/base",
      "_model_module_version": "1.2.0",
      "_model_name": "LayoutModel",
      "_view_count": null,
      "_view_module": "@jupyter-widgets/base",
      "_view_module_version": "1.2.0",
      "_view_name": "LayoutView",
      "align_content": null,
      "align_items": null,
      "align_self": null,
      "border": null,
      "bottom": null,
      "display": null,
      "flex": null,
      "flex_flow": null,
      "grid_area": null,
      "grid_auto_columns": null,
      "grid_auto_flow": null,
      "grid_auto_rows": null,
      "grid_column": null,
      "grid_gap": null,
      "grid_row": null,
      "grid_template_areas": null,
      "grid_template_columns": null,
      "grid_template_rows": null,
      "height": null,
      "justify_content": null,
      "justify_items": null,
      "left": null,
      "margin": null,
      "max_height": null,
      "max_width": null,
      "min_height": null,
      "min_width": null,
      "object_fit": null,
      "object_position": null,
      "order": null,
      "overflow": null,
      "overflow_x": null,
      "overflow_y": null,
      "padding": null,
      "right": null,
      "top": null,
      "visibility": null,
      "width": null
     }
    }
   }
  }
 },
 "nbformat": 4,
 "nbformat_minor": 1
}
