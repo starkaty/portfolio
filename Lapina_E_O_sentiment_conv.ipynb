{
 "cells": [
  {
   "cell_type": "markdown",
   "metadata": {},
   "source": [
    "## Нейронная сеть с применением одномерных сверток для предсказания сентимента сообщений с твитера на примере https://www.kaggle.com/datasets/arkhoshghalb/twitter-sentiment-analysis-hatred-speech"
   ]
  },
  {
   "cell_type": "code",
   "execution_count": 267,
   "metadata": {
    "colab": {
     "base_uri": "https://localhost:8080/"
    },
    "executionInfo": {
     "elapsed": 263,
     "status": "ok",
     "timestamp": 1657301934983,
     "user": {
      "displayName": "Mariia Korliakova",
      "userId": "14165537686129864864"
     },
     "user_tz": -180
    },
    "id": "go3riF-s_kRv",
    "outputId": "b5265572-53c9-443b-f07d-7004ca480713"
   },
   "outputs": [],
   "source": [
    "import torch"
   ]
  },
  {
   "cell_type": "code",
   "execution_count": 412,
   "metadata": {
    "executionInfo": {
     "elapsed": 239,
     "status": "ok",
     "timestamp": 1657302419415,
     "user": {
      "displayName": "Mariia Korliakova",
      "userId": "14165537686129864864"
     },
     "user_tz": -180
    },
    "id": "2H5tFUEMCE7d"
   },
   "outputs": [],
   "source": [
    "max_words = 2000\n",
    "max_len = 20\n",
    "num_classes = 1\n",
    "\n",
    "# Training\n",
    "epochs = 5\n",
    "batch_size = 512\n",
    "print_batch_n = 100"
   ]
  },
  {
   "cell_type": "code",
   "execution_count": 413,
   "metadata": {
    "executionInfo": {
     "elapsed": 2125,
     "status": "ok",
     "timestamp": 1657302744307,
     "user": {
      "displayName": "Mariia Korliakova",
      "userId": "14165537686129864864"
     },
     "user_tz": -180
    },
    "id": "LUCk-5M2yg3S"
   },
   "outputs": [],
   "source": [
    "import pandas as pd\n",
    "\n",
    "df = pd.read_csv('train.csv')"
   ]
  },
  {
   "cell_type": "code",
   "execution_count": 414,
   "metadata": {
    "colab": {
     "base_uri": "https://localhost:8080/",
     "height": 206
    },
    "executionInfo": {
     "elapsed": 265,
     "status": "ok",
     "timestamp": 1657302746562,
     "user": {
      "displayName": "Mariia Korliakova",
      "userId": "14165537686129864864"
     },
     "user_tz": -180
    },
    "id": "KBSf-OfDzWOI",
    "outputId": "a9550221-9913-4014-e106-1617d4f731db"
   },
   "outputs": [
    {
     "data": {
      "text/html": [
       "<div>\n",
       "<style scoped>\n",
       "    .dataframe tbody tr th:only-of-type {\n",
       "        vertical-align: middle;\n",
       "    }\n",
       "\n",
       "    .dataframe tbody tr th {\n",
       "        vertical-align: top;\n",
       "    }\n",
       "\n",
       "    .dataframe thead th {\n",
       "        text-align: right;\n",
       "    }\n",
       "</style>\n",
       "<table border=\"1\" class=\"dataframe\">\n",
       "  <thead>\n",
       "    <tr style=\"text-align: right;\">\n",
       "      <th></th>\n",
       "      <th>id</th>\n",
       "      <th>label</th>\n",
       "      <th>tweet</th>\n",
       "    </tr>\n",
       "  </thead>\n",
       "  <tbody>\n",
       "    <tr>\n",
       "      <th>0</th>\n",
       "      <td>1</td>\n",
       "      <td>0</td>\n",
       "      <td>@user when a father is dysfunctional and is s...</td>\n",
       "    </tr>\n",
       "    <tr>\n",
       "      <th>1</th>\n",
       "      <td>2</td>\n",
       "      <td>0</td>\n",
       "      <td>@user @user thanks for #lyft credit i can't us...</td>\n",
       "    </tr>\n",
       "    <tr>\n",
       "      <th>2</th>\n",
       "      <td>3</td>\n",
       "      <td>0</td>\n",
       "      <td>bihday your majesty</td>\n",
       "    </tr>\n",
       "    <tr>\n",
       "      <th>3</th>\n",
       "      <td>4</td>\n",
       "      <td>0</td>\n",
       "      <td>#model   i love u take with u all the time in ...</td>\n",
       "    </tr>\n",
       "    <tr>\n",
       "      <th>4</th>\n",
       "      <td>5</td>\n",
       "      <td>0</td>\n",
       "      <td>factsguide: society now    #motivation</td>\n",
       "    </tr>\n",
       "  </tbody>\n",
       "</table>\n",
       "</div>"
      ],
      "text/plain": [
       "   id  label                                              tweet\n",
       "0   1      0   @user when a father is dysfunctional and is s...\n",
       "1   2      0  @user @user thanks for #lyft credit i can't us...\n",
       "2   3      0                                bihday your majesty\n",
       "3   4      0  #model   i love u take with u all the time in ...\n",
       "4   5      0             factsguide: society now    #motivation"
      ]
     },
     "execution_count": 414,
     "metadata": {},
     "output_type": "execute_result"
    }
   ],
   "source": [
    "df.head()"
   ]
  },
  {
   "cell_type": "markdown",
   "metadata": {
    "id": "CRaO-Ub5e8hx"
   },
   "source": [
    "0 - negative<br>\n",
    "1 - positive"
   ]
  },
  {
   "cell_type": "code",
   "execution_count": 415,
   "metadata": {},
   "outputs": [],
   "source": [
    "from sklearn.model_selection import train_test_split"
   ]
  },
  {
   "cell_type": "code",
   "execution_count": 416,
   "metadata": {},
   "outputs": [],
   "source": [
    "df_train, df_val = train_test_split(df, test_size=0.3, random_state = 21)"
   ]
  },
  {
   "cell_type": "code",
   "execution_count": 417,
   "metadata": {},
   "outputs": [
    {
     "data": {
      "text/plain": [
       "0    20837\n",
       "1     1536\n",
       "Name: label, dtype: int64"
      ]
     },
     "execution_count": 417,
     "metadata": {},
     "output_type": "execute_result"
    }
   ],
   "source": [
    "df_train['label'].value_counts()"
   ]
  },
  {
   "cell_type": "code",
   "execution_count": 418,
   "metadata": {},
   "outputs": [
    {
     "data": {
      "text/plain": [
       "0    8883\n",
       "1     706\n",
       "Name: label, dtype: int64"
      ]
     },
     "execution_count": 418,
     "metadata": {},
     "output_type": "execute_result"
    }
   ],
   "source": [
    "df_val['label'].value_counts()"
   ]
  },
  {
   "cell_type": "markdown",
   "metadata": {},
   "source": [
    "## Классы несбаланстированы. Проведем балансировку классов, тогда показатель accuracyбудет давать более объективную оценку работы модели."
   ]
  },
  {
   "cell_type": "code",
   "execution_count": 419,
   "metadata": {},
   "outputs": [],
   "source": [
    "def balance_df_by_target(df, target_name):\n",
    "\n",
    "    target_counts = df[target_name].value_counts()\n",
    "\n",
    "    major_class_name = target_counts.argmax()\n",
    "    minor_class_name = target_counts.argmin()\n",
    "\n",
    "    disbalance_coeff = int(target_counts[major_class_name] / target_counts[minor_class_name]) - 1\n",
    "\n",
    "    for i in range(disbalance_coeff):\n",
    "        sample = df[df[target_name] == minor_class_name].sample(target_counts[minor_class_name])\n",
    "        df = df.append(sample, ignore_index=True)\n",
    "\n",
    "    return df.sample(frac=1) "
   ]
  },
  {
   "cell_type": "code",
   "execution_count": 420,
   "metadata": {},
   "outputs": [
    {
     "name": "stderr",
     "output_type": "stream",
     "text": [
      "/tmp/ipykernel_136510/1895660404.py:12: FutureWarning: The frame.append method is deprecated and will be removed from pandas in a future version. Use pandas.concat instead.\n",
      "  df = df.append(sample, ignore_index=True)\n"
     ]
    },
    {
     "data": {
      "text/plain": [
       "0    20837\n",
       "1    19968\n",
       "Name: label, dtype: int64"
      ]
     },
     "execution_count": 420,
     "metadata": {},
     "output_type": "execute_result"
    }
   ],
   "source": [
    "df_for_balancing = df_train\n",
    "df_train = balance_df_by_target(df_for_balancing, 'label')\n",
    "    \n",
    "df_train['label'].value_counts()"
   ]
  },
  {
   "cell_type": "code",
   "execution_count": 421,
   "metadata": {},
   "outputs": [
    {
     "name": "stderr",
     "output_type": "stream",
     "text": [
      "/tmp/ipykernel_136510/1895660404.py:12: FutureWarning: The frame.append method is deprecated and will be removed from pandas in a future version. Use pandas.concat instead.\n",
      "  df = df.append(sample, ignore_index=True)\n"
     ]
    },
    {
     "data": {
      "text/plain": [
       "0    8883\n",
       "1    8472\n",
       "Name: label, dtype: int64"
      ]
     },
     "execution_count": 421,
     "metadata": {},
     "output_type": "execute_result"
    }
   ],
   "source": [
    "df_for_balancing = df_val\n",
    "df_val = balance_df_by_target(df_for_balancing, 'label')\n",
    "    \n",
    "df_val['label'].value_counts()"
   ]
  },
  {
   "cell_type": "markdown",
   "metadata": {
    "id": "qEyvOxoOJDTP"
   },
   "source": [
    "### Предобработка"
   ]
  },
  {
   "cell_type": "code",
   "execution_count": 422,
   "metadata": {
    "colab": {
     "base_uri": "https://localhost:8080/"
    },
    "executionInfo": {
     "elapsed": 5666,
     "status": "ok",
     "timestamp": 1657302914645,
     "user": {
      "displayName": "Mariia Korliakova",
      "userId": "14165537686129864864"
     },
     "user_tz": -180
    },
    "id": "JimEynHhitb4",
    "outputId": "1f7f817b-831a-49da-abe4-ce14ec0ca57f"
   },
   "outputs": [],
   "source": [
    "#!pip install stop-words pymorphy2"
   ]
  },
  {
   "cell_type": "code",
   "execution_count": 423,
   "metadata": {
    "executionInfo": {
     "elapsed": 226,
     "status": "ok",
     "timestamp": 1657302997453,
     "user": {
      "displayName": "Mariia Korliakova",
      "userId": "14165537686129864864"
     },
     "user_tz": -180
    },
    "id": "zuPoTViZRHlM"
   },
   "outputs": [],
   "source": [
    "from string import punctuation\n",
    "from stop_words import get_stop_words\n",
    "from pymorphy2 import MorphAnalyzer\n",
    "import re"
   ]
  },
  {
   "cell_type": "code",
   "execution_count": 424,
   "metadata": {
    "executionInfo": {
     "elapsed": 236,
     "status": "ok",
     "timestamp": 1657303210726,
     "user": {
      "displayName": "Mariia Korliakova",
      "userId": "14165537686129864864"
     },
     "user_tz": -180
    },
    "id": "MrICmUgeRHlO"
   },
   "outputs": [],
   "source": [
    "sw = set(get_stop_words(\"en\"))\n",
    "sw_left = set(['no','not', 'nor', \"mustn't\", \"shouldn't\",\"shan't\", 'against', \"aren't\", \"can't\",\n",
    " 'cannot',\"wouldn't\",\n",
    " \"couldn't\",\"didn't\", \"doesn't\", \"don't\", \"hadn't\", \"hasn't\",\"haven't\", \"isn't\", \"wasn't\", \"weren't\", \"won't\"\n",
    "              ])\n",
    "sw_in = set(['im', 'u', 'will', 'just'])"
   ]
  },
  {
   "cell_type": "code",
   "execution_count": 425,
   "metadata": {},
   "outputs": [
    {
     "data": {
      "text/plain": [
       "{'against',\n",
       " \"aren't\",\n",
       " \"can't\",\n",
       " 'cannot',\n",
       " \"couldn't\",\n",
       " \"didn't\",\n",
       " \"doesn't\",\n",
       " \"don't\",\n",
       " \"hadn't\",\n",
       " \"hasn't\",\n",
       " \"haven't\",\n",
       " \"isn't\",\n",
       " \"mustn't\",\n",
       " 'no',\n",
       " 'nor',\n",
       " 'not',\n",
       " \"shan't\",\n",
       " \"shouldn't\",\n",
       " \"wasn't\",\n",
       " \"weren't\",\n",
       " \"won't\",\n",
       " \"wouldn't\"}"
      ]
     },
     "execution_count": 425,
     "metadata": {},
     "output_type": "execute_result"
    }
   ],
   "source": [
    "sw_left"
   ]
  },
  {
   "cell_type": "code",
   "execution_count": 426,
   "metadata": {},
   "outputs": [],
   "source": [
    "sw.symmetric_difference_update(sw_left)"
   ]
  },
  {
   "cell_type": "code",
   "execution_count": 427,
   "metadata": {},
   "outputs": [],
   "source": [
    "sw.update(sw_in)"
   ]
  },
  {
   "cell_type": "code",
   "execution_count": 428,
   "metadata": {},
   "outputs": [
    {
     "data": {
      "text/plain": [
       "{'a',\n",
       " 'about',\n",
       " 'above',\n",
       " 'after',\n",
       " 'again',\n",
       " 'all',\n",
       " 'am',\n",
       " 'an',\n",
       " 'and',\n",
       " 'any',\n",
       " 'are',\n",
       " 'as',\n",
       " 'at',\n",
       " 'be',\n",
       " 'because',\n",
       " 'been',\n",
       " 'before',\n",
       " 'being',\n",
       " 'below',\n",
       " 'between',\n",
       " 'both',\n",
       " 'but',\n",
       " 'by',\n",
       " 'could',\n",
       " 'did',\n",
       " 'do',\n",
       " 'does',\n",
       " 'doing',\n",
       " 'down',\n",
       " 'during',\n",
       " 'each',\n",
       " 'few',\n",
       " 'for',\n",
       " 'from',\n",
       " 'further',\n",
       " 'had',\n",
       " 'has',\n",
       " 'have',\n",
       " 'having',\n",
       " 'he',\n",
       " \"he'd\",\n",
       " \"he'll\",\n",
       " \"he's\",\n",
       " 'her',\n",
       " 'here',\n",
       " \"here's\",\n",
       " 'hers',\n",
       " 'herself',\n",
       " 'him',\n",
       " 'himself',\n",
       " 'his',\n",
       " 'how',\n",
       " \"how's\",\n",
       " 'i',\n",
       " \"i'd\",\n",
       " \"i'll\",\n",
       " \"i'm\",\n",
       " \"i've\",\n",
       " 'if',\n",
       " 'im',\n",
       " 'in',\n",
       " 'into',\n",
       " 'is',\n",
       " 'it',\n",
       " \"it's\",\n",
       " 'its',\n",
       " 'itself',\n",
       " 'just',\n",
       " \"let's\",\n",
       " 'me',\n",
       " 'more',\n",
       " 'most',\n",
       " 'my',\n",
       " 'myself',\n",
       " 'of',\n",
       " 'off',\n",
       " 'on',\n",
       " 'once',\n",
       " 'only',\n",
       " 'or',\n",
       " 'other',\n",
       " 'ought',\n",
       " 'our',\n",
       " 'ours',\n",
       " 'ourselves',\n",
       " 'out',\n",
       " 'over',\n",
       " 'own',\n",
       " 'same',\n",
       " 'she',\n",
       " \"she'd\",\n",
       " \"she'll\",\n",
       " \"she's\",\n",
       " 'should',\n",
       " 'so',\n",
       " 'some',\n",
       " 'such',\n",
       " 'than',\n",
       " 'that',\n",
       " \"that's\",\n",
       " 'the',\n",
       " 'their',\n",
       " 'theirs',\n",
       " 'them',\n",
       " 'themselves',\n",
       " 'then',\n",
       " 'there',\n",
       " \"there's\",\n",
       " 'these',\n",
       " 'they',\n",
       " \"they'd\",\n",
       " \"they'll\",\n",
       " \"they're\",\n",
       " \"they've\",\n",
       " 'this',\n",
       " 'those',\n",
       " 'through',\n",
       " 'to',\n",
       " 'too',\n",
       " 'u',\n",
       " 'under',\n",
       " 'until',\n",
       " 'up',\n",
       " 'very',\n",
       " 'was',\n",
       " 'we',\n",
       " \"we'd\",\n",
       " \"we'll\",\n",
       " \"we're\",\n",
       " \"we've\",\n",
       " 'were',\n",
       " 'what',\n",
       " \"what's\",\n",
       " 'when',\n",
       " \"when's\",\n",
       " 'where',\n",
       " \"where's\",\n",
       " 'which',\n",
       " 'while',\n",
       " 'who',\n",
       " \"who's\",\n",
       " 'whom',\n",
       " 'why',\n",
       " \"why's\",\n",
       " 'will',\n",
       " 'with',\n",
       " 'would',\n",
       " 'you',\n",
       " \"you'd\",\n",
       " \"you'll\",\n",
       " \"you're\",\n",
       " \"you've\",\n",
       " 'your',\n",
       " 'yours',\n",
       " 'yourself',\n",
       " 'yourselves'}"
      ]
     },
     "execution_count": 428,
     "metadata": {},
     "output_type": "execute_result"
    }
   ],
   "source": [
    "sw"
   ]
  },
  {
   "cell_type": "code",
   "execution_count": 429,
   "metadata": {
    "colab": {
     "base_uri": "https://localhost:8080/"
    },
    "executionInfo": {
     "elapsed": 248,
     "status": "ok",
     "timestamp": 1657303162253,
     "user": {
      "displayName": "Mariia Korliakova",
      "userId": "14165537686129864864"
     },
     "user_tz": -180
    },
    "id": "Kdmt_DVPjN4j",
    "outputId": "502fafd3-a407-49f6-8e67-0efb204935a1"
   },
   "outputs": [
    {
     "data": {
      "text/plain": [
       "{'!',\n",
       " '\"',\n",
       " '#',\n",
       " '$',\n",
       " '%',\n",
       " '&',\n",
       " \"'\",\n",
       " '(',\n",
       " ')',\n",
       " '*',\n",
       " '+',\n",
       " ',',\n",
       " '-',\n",
       " '.',\n",
       " '/',\n",
       " ':',\n",
       " ';',\n",
       " '<',\n",
       " '=',\n",
       " '>',\n",
       " '?',\n",
       " '@',\n",
       " '[',\n",
       " '\\\\',\n",
       " ']',\n",
       " '^',\n",
       " '_',\n",
       " '`',\n",
       " '{',\n",
       " '|',\n",
       " '}',\n",
       " '~'}"
      ]
     },
     "execution_count": 429,
     "metadata": {},
     "output_type": "execute_result"
    }
   ],
   "source": [
    "puncts = set(punctuation)\n",
    "puncts"
   ]
  },
  {
   "cell_type": "code",
   "execution_count": 430,
   "metadata": {
    "executionInfo": {
     "elapsed": 251,
     "status": "ok",
     "timestamp": 1657303290984,
     "user": {
      "displayName": "Mariia Korliakova",
      "userId": "14165537686129864864"
     },
     "user_tz": -180
    },
    "id": "A5aTsDZxjPym"
   },
   "outputs": [],
   "source": [
    "morpher = MorphAnalyzer()\n",
    "\n",
    "\n",
    "def preprocess_text(txt):\n",
    "    txt = str(txt)\n",
    "    txt = \"\".join(c for c in txt if c not in puncts)\n",
    "    txt = txt.lower()\n",
    "#     txt = re.sub(\"no\\s\", \"not\", 'nore', txt)\n",
    "    txt = [morpher.parse(word)[0].normal_form for word in txt.split() if word not in sw]\n",
    "    for word in txt:\n",
    "        if '@' in word:\n",
    "            txt.remove(word)\n",
    "    return \" \".join(txt)"
   ]
  },
  {
   "cell_type": "code",
   "execution_count": 431,
   "metadata": {
    "colab": {
     "base_uri": "https://localhost:8080/"
    },
    "executionInfo": {
     "elapsed": 247,
     "status": "ok",
     "timestamp": 1657303292939,
     "user": {
      "displayName": "Mariia Korliakova",
      "userId": "14165537686129864864"
     },
     "user_tz": -180
    },
    "id": "6J4Ybdk-jC-n",
    "outputId": "bdbced58-e7d8-4e36-9768-9e3cdf41f7ec"
   },
   "outputs": [
    {
     "data": {
      "text/plain": [
       "array([' sex videos fucking cross '], dtype=object)"
      ]
     },
     "execution_count": 431,
     "metadata": {},
     "output_type": "execute_result"
    }
   ],
   "source": [
    "df_train['tweet'].iloc[0:1].values"
   ]
  },
  {
   "cell_type": "code",
   "execution_count": 432,
   "metadata": {
    "colab": {
     "base_uri": "https://localhost:8080/"
    },
    "executionInfo": {
     "elapsed": 244,
     "status": "ok",
     "timestamp": 1657303295742,
     "user": {
      "displayName": "Mariia Korliakova",
      "userId": "14165537686129864864"
     },
     "user_tz": -180
    },
    "id": "UFDyfZLpi8BR",
    "outputId": "25fb7291-9f19-4a50-8ab0-964ea5455003"
   },
   "outputs": [
    {
     "data": {
      "text/plain": [
       "array(['sex videos fucking cross'], dtype=object)"
      ]
     },
     "execution_count": 432,
     "metadata": {},
     "output_type": "execute_result"
    }
   ],
   "source": [
    "df_train['tweet'].iloc[0:1].apply(preprocess_text).values"
   ]
  },
  {
   "cell_type": "code",
   "execution_count": 433,
   "metadata": {
    "colab": {
     "base_uri": "https://localhost:8080/"
    },
    "executionInfo": {
     "elapsed": 242442,
     "status": "ok",
     "timestamp": 1657303549458,
     "user": {
      "displayName": "Mariia Korliakova",
      "userId": "14165537686129864864"
     },
     "user_tz": -180
    },
    "id": "iWrPbjNzi7pB",
    "outputId": "15e418e5-8b8d-4e9d-9a13-88b4693f5b53"
   },
   "outputs": [
    {
     "name": "stderr",
     "output_type": "stream",
     "text": [
      "100%|██████████| 40805/40805 [00:04<00:00, 9285.74it/s]\n",
      "100%|██████████| 17355/17355 [00:01<00:00, 9264.98it/s]\n"
     ]
    }
   ],
   "source": [
    "from tqdm import tqdm \n",
    "tqdm.pandas()\n",
    "\n",
    "df_train['tweet'] = df_train['tweet'].progress_apply(preprocess_text)\n",
    "df_val['tweet'] = df_val['tweet'].progress_apply(preprocess_text)"
   ]
  },
  {
   "cell_type": "code",
   "execution_count": 434,
   "metadata": {
    "executionInfo": {
     "elapsed": 227,
     "status": "ok",
     "timestamp": 1657303797623,
     "user": {
      "displayName": "Mariia Korliakova",
      "userId": "14165537686129864864"
     },
     "user_tz": -180
    },
    "id": "C4o9QgmWI3Pw"
   },
   "outputs": [],
   "source": [
    "train_corpus = \" \".join(df_train[\"tweet\"])\n",
    "train_corpus = train_corpus.lower()"
   ]
  },
  {
   "cell_type": "code",
   "execution_count": 435,
   "metadata": {},
   "outputs": [],
   "source": [
    "#!pip install nltk"
   ]
  },
  {
   "cell_type": "code",
   "execution_count": 436,
   "metadata": {
    "colab": {
     "base_uri": "https://localhost:8080/"
    },
    "executionInfo": {
     "elapsed": 6382,
     "status": "ok",
     "timestamp": 1657303822905,
     "user": {
      "displayName": "Mariia Korliakova",
      "userId": "14165537686129864864"
     },
     "user_tz": -180
    },
    "id": "Hed2ySbwJH6B",
    "outputId": "f42fc2c4-3976-450a-84a2-47eb71e1aa2c"
   },
   "outputs": [
    {
     "name": "stderr",
     "output_type": "stream",
     "text": [
      "[nltk_data] Downloading package punkt to /home/ekaterina/nltk_data...\n",
      "[nltk_data]   Package punkt is already up-to-date!\n"
     ]
    },
    {
     "data": {
      "text/plain": [
       "['sex', 'videos', 'fucking', 'cross', 'user']"
      ]
     },
     "execution_count": 436,
     "metadata": {},
     "output_type": "execute_result"
    }
   ],
   "source": [
    "import nltk\n",
    "from nltk.tokenize import word_tokenize\n",
    "nltk.download(\"punkt\")\n",
    "\n",
    "tokens = word_tokenize(train_corpus)\n",
    "tokens[:5]"
   ]
  },
  {
   "cell_type": "markdown",
   "metadata": {
    "id": "yJ8T0fwYJYJX"
   },
   "source": [
    "Отфильтруем данные\n",
    "\n",
    "и соберём в корпус N наиболее частых токенов"
   ]
  },
  {
   "cell_type": "code",
   "execution_count": 437,
   "metadata": {
    "executionInfo": {
     "elapsed": 238,
     "status": "ok",
     "timestamp": 1657303906704,
     "user": {
      "displayName": "Mariia Korliakova",
      "userId": "14165537686129864864"
     },
     "user_tz": -180
    },
    "id": "EXOLVK1tJLT8"
   },
   "outputs": [],
   "source": [
    "tokens_filtered = [word for word in tokens if word.isalnum()]"
   ]
  },
  {
   "cell_type": "code",
   "execution_count": 438,
   "metadata": {
    "colab": {
     "base_uri": "https://localhost:8080/"
    },
    "executionInfo": {
     "elapsed": 1139,
     "status": "ok",
     "timestamp": 1657303939484,
     "user": {
      "displayName": "Mariia Korliakova",
      "userId": "14165537686129864864"
     },
     "user_tz": -180
    },
    "id": "8qCQH5nIJoiB",
    "outputId": "f059b974-c153-431c-ff80-9a2b31ea02b5"
   },
   "outputs": [
    {
     "data": {
      "text/plain": [
       "1999"
      ]
     },
     "execution_count": 438,
     "metadata": {},
     "output_type": "execute_result"
    }
   ],
   "source": [
    "from nltk.probability import FreqDist\n",
    "\n",
    "dist = FreqDist(tokens_filtered)\n",
    "tokens_filtered_top = [pair[0] for pair in dist.most_common(max_words-1)]  # вычитание 1 для padding\n",
    "len(tokens_filtered_top)"
   ]
  },
  {
   "cell_type": "code",
   "execution_count": 439,
   "metadata": {
    "colab": {
     "base_uri": "https://localhost:8080/"
    },
    "executionInfo": {
     "elapsed": 243,
     "status": "ok",
     "timestamp": 1657304044365,
     "user": {
      "displayName": "Mariia Korliakova",
      "userId": "14165537686129864864"
     },
     "user_tz": -180
    },
    "id": "bRQ-6wwjJrGo",
    "outputId": "47975bb4-43e6-43bd-d7e9-b83e1ef1f9e9"
   },
   "outputs": [
    {
     "data": {
      "text/plain": [
       "['user',\n",
       " 'amp',\n",
       " 'not',\n",
       " 'love',\n",
       " 'like',\n",
       " 'trump',\n",
       " 'libtard',\n",
       " 'day',\n",
       " 'black',\n",
       " 'white']"
      ]
     },
     "execution_count": 439,
     "metadata": {},
     "output_type": "execute_result"
    }
   ],
   "source": [
    "tokens_filtered_top[:10]"
   ]
  },
  {
   "cell_type": "code",
   "execution_count": 440,
   "metadata": {
    "colab": {
     "base_uri": "https://localhost:8080/"
    },
    "executionInfo": {
     "elapsed": 292,
     "status": "ok",
     "timestamp": 1657304064353,
     "user": {
      "displayName": "Mariia Korliakova",
      "userId": "14165537686129864864"
     },
     "user_tz": -180
    },
    "id": "Tdk777qGJtz4",
    "outputId": "e5c2d941-7a06-407b-cf06-02fe96b4318a"
   },
   "outputs": [
    {
     "data": {
      "text/plain": [
       "{'user': 1,\n",
       " 'amp': 2,\n",
       " 'not': 3,\n",
       " 'love': 4,\n",
       " 'like': 5,\n",
       " 'trump': 6,\n",
       " 'libtard': 7,\n",
       " 'day': 8,\n",
       " 'black': 9,\n",
       " 'white': 10,\n",
       " 'people': 11,\n",
       " 'happy': 12,\n",
       " 'no': 13,\n",
       " 'new': 14,\n",
       " 'politics': 15,\n",
       " 'can': 16,\n",
       " 'dont': 17,\n",
       " 'one': 18,\n",
       " 'might': 19,\n",
       " 'us': 20,\n",
       " 'get': 21,\n",
       " 'liberal': 22,\n",
       " 'time': 23,\n",
       " 'cant': 24,\n",
       " 'good': 25,\n",
       " 'now': 26,\n",
       " 'sjw': 27,\n",
       " 'today': 28,\n",
       " 'life': 29,\n",
       " 'racist': 30,\n",
       " 'allahsoil': 31,\n",
       " 'see': 32,\n",
       " 'women': 33,\n",
       " 'hate': 34,\n",
       " 'go': 35,\n",
       " '2': 36,\n",
       " 'want': 37,\n",
       " 'obama': 38,\n",
       " 'positive': 39,\n",
       " 'great': 40,\n",
       " 'thankful': 41,\n",
       " 'feel': 42,\n",
       " 'make': 43,\n",
       " 'back': 44,\n",
       " 'got': 45,\n",
       " 'racism': 46,\n",
       " 'against': 47,\n",
       " 'bihday': 48,\n",
       " 'take': 49,\n",
       " 'via': 50,\n",
       " 'youre': 51,\n",
       " 'work': 52,\n",
       " 'really': 53,\n",
       " 'think': 54,\n",
       " 'never': 55,\n",
       " 'way': 56,\n",
       " 'girl': 57,\n",
       " 'fathers': 58,\n",
       " 'going': 59,\n",
       " 'america': 60,\n",
       " 'right': 61,\n",
       " 'woman': 62,\n",
       " 'retweet': 63,\n",
       " 'world': 64,\n",
       " 'need': 65,\n",
       " 'sex': 66,\n",
       " 'thanks': 67,\n",
       " 'listen': 68,\n",
       " 'best': 69,\n",
       " 'smile': 70,\n",
       " 'year': 71,\n",
       " 'first': 72,\n",
       " 'men': 73,\n",
       " 'much': 74,\n",
       " 'ever': 75,\n",
       " 'even': 76,\n",
       " 'thats': 77,\n",
       " 'know': 78,\n",
       " 'healthy': 79,\n",
       " 'fun': 80,\n",
       " 'still': 81,\n",
       " 'video': 82,\n",
       " 'comments': 83,\n",
       " 'man': 84,\n",
       " '2016': 85,\n",
       " 'girls': 86,\n",
       " 'weekend': 87,\n",
       " 'many': 88,\n",
       " 'race': 89,\n",
       " 'friday': 90,\n",
       " 'look': 91,\n",
       " 'sad': 92,\n",
       " 'wait': 93,\n",
       " 'stop': 94,\n",
       " 'beautiful': 95,\n",
       " '4': 96,\n",
       " 'latest': 97,\n",
       " 'days': 98,\n",
       " 'nothing': 99,\n",
       " 'friends': 100,\n",
       " 'family': 101,\n",
       " 'bull': 102,\n",
       " 'say': 103,\n",
       " 'come': 104,\n",
       " 'music': 105,\n",
       " 'pay': 106,\n",
       " 'call': 107,\n",
       " 'well': 108,\n",
       " 'summer': 109,\n",
       " 'president': 110,\n",
       " 'says': 111,\n",
       " 'live': 112,\n",
       " 'hope': 113,\n",
       " 'stomping': 114,\n",
       " '2017': 115,\n",
       " 'act': 116,\n",
       " 'free': 117,\n",
       " 'always': 118,\n",
       " 'calgary': 119,\n",
       " 'blm': 120,\n",
       " 'home': 121,\n",
       " 'please': 122,\n",
       " 'sikh': 123,\n",
       " 'week': 124,\n",
       " 'makes': 125,\n",
       " 'isnt': 126,\n",
       " 'find': 127,\n",
       " 'next': 128,\n",
       " 'real': 129,\n",
       " 'every': 130,\n",
       " 'temple': 131,\n",
       " 'vandalised': 132,\n",
       " 'wso': 133,\n",
       " 'condemns': 134,\n",
       " 'believe': 135,\n",
       " 'thing': 136,\n",
       " 'morning': 137,\n",
       " 'show': 138,\n",
       " 'fathersday': 139,\n",
       " 'thank': 140,\n",
       " 'news': 141,\n",
       " 'tomorrow': 142,\n",
       " 'let': 143,\n",
       " 'business': 144,\n",
       " 'everyone': 145,\n",
       " 'orlando': 146,\n",
       " 'end': 147,\n",
       " 'blog': 148,\n",
       " 'peace': 149,\n",
       " 'na': 150,\n",
       " 'police': 151,\n",
       " 'cute': 152,\n",
       " 'things': 153,\n",
       " 'done': 154,\n",
       " 'brexit': 155,\n",
       " 'saying': 156,\n",
       " 'keep': 157,\n",
       " 'fuck': 158,\n",
       " 'model': 159,\n",
       " 'made': 160,\n",
       " 'history': 161,\n",
       " 'dad': 162,\n",
       " 'night': 163,\n",
       " 'last': 164,\n",
       " 'little': 165,\n",
       " 'also': 166,\n",
       " 'guy': 167,\n",
       " 'bigot': 168,\n",
       " 'another': 169,\n",
       " 'sunday': 170,\n",
       " 'happiness': 171,\n",
       " 'years': 172,\n",
       " 'ive': 173,\n",
       " 'altright': 174,\n",
       " 'help': 175,\n",
       " 'school': 176,\n",
       " 'finally': 177,\n",
       " 'hatred': 178,\n",
       " 'r': 179,\n",
       " 'affirmation': 180,\n",
       " 'lost': 181,\n",
       " 'doesnt': 182,\n",
       " 'face': 183,\n",
       " 'leadership': 184,\n",
       " 'thought': 185,\n",
       " 'give': 186,\n",
       " 'porn': 187,\n",
       " 'better': 188,\n",
       " 'tampa': 189,\n",
       " 'amazing': 190,\n",
       " 'said': 191,\n",
       " 'selfie': 192,\n",
       " 'must': 193,\n",
       " 'job': 194,\n",
       " 'daily': 195,\n",
       " 'misogyny': 196,\n",
       " 'ignorance': 197,\n",
       " 'american': 198,\n",
       " 'use': 199,\n",
       " 'enough': 200,\n",
       " 'looking': 201,\n",
       " 'malevote': 202,\n",
       " 'wow': 203,\n",
       " 'factory': 204,\n",
       " '1': 205,\n",
       " 'gold': 206,\n",
       " 'watch': 207,\n",
       " 'ready': 208,\n",
       " 'person': 209,\n",
       " 'hard': 210,\n",
       " 'game': 211,\n",
       " 'media': 212,\n",
       " 'someone': 213,\n",
       " 'big': 214,\n",
       " 'team': 215,\n",
       " 'silver': 216,\n",
       " 'hey': 217,\n",
       " 'gets': 218,\n",
       " 'pa': 219,\n",
       " 'word': 220,\n",
       " 'old': 221,\n",
       " 'wont': 222,\n",
       " 'didnt': 223,\n",
       " 'iam': 224,\n",
       " 'getting': 225,\n",
       " 'god': 226,\n",
       " 'americans': 227,\n",
       " 'altwaystoheal': 228,\n",
       " 'win': 229,\n",
       " 'follow': 230,\n",
       " 'true': 231,\n",
       " 'change': 232,\n",
       " 'everything': 233,\n",
       " 'proud': 234,\n",
       " 'guys': 235,\n",
       " 'kids': 236,\n",
       " 'sta': 237,\n",
       " 'nude': 238,\n",
       " 'country': 239,\n",
       " 'city': 240,\n",
       " 'equality': 241,\n",
       " 'book': 242,\n",
       " 'ppl': 243,\n",
       " 'n': 244,\n",
       " 'coming': 245,\n",
       " 'without': 246,\n",
       " 'healing': 247,\n",
       " 'attack': 248,\n",
       " 'christmas': 249,\n",
       " 'check': 250,\n",
       " 'yet': 251,\n",
       " 'friend': 252,\n",
       " 'feeling': 253,\n",
       " 'hes': 254,\n",
       " 'shit': 255,\n",
       " 'forex': 256,\n",
       " 'tonight': 257,\n",
       " 'tweet': 258,\n",
       " 'yes': 259,\n",
       " 'muslims': 260,\n",
       " 'lol': 261,\n",
       " 'suppoers': 262,\n",
       " 'matter': 263,\n",
       " 'bad': 264,\n",
       " 'hispanic': 265,\n",
       " 'rest': 266,\n",
       " 'already': 267,\n",
       " 'bear': 268,\n",
       " 'usa': 269,\n",
       " 'holiday': 270,\n",
       " 'two': 271,\n",
       " 'gon': 272,\n",
       " 'climb': 273,\n",
       " 'may': 274,\n",
       " 'resist': 275,\n",
       " 'left': 276,\n",
       " 'baby': 277,\n",
       " 'ur': 278,\n",
       " 'feminism': 279,\n",
       " 'ignored': 280,\n",
       " 'blessed': 281,\n",
       " 'children': 282,\n",
       " 'kkk': 283,\n",
       " 'waiting': 284,\n",
       " 'feminismiscancer': 285,\n",
       " 'feminismisterrorism': 286,\n",
       " 'feminismmuktbharat': 287,\n",
       " 'funny': 288,\n",
       " 'strong': 289,\n",
       " 'long': 290,\n",
       " 'terrorism': 291,\n",
       " '3': 292,\n",
       " 'goes': 293,\n",
       " 'read': 294,\n",
       " 'angry': 295,\n",
       " 'awesome': 296,\n",
       " 'play': 297,\n",
       " 'soon': 298,\n",
       " 'sea': 299,\n",
       " 'whatever': 300,\n",
       " 'ass': 301,\n",
       " 'enjoy': 302,\n",
       " 'post': 303,\n",
       " 'misogynist': 304,\n",
       " 'tell': 305,\n",
       " 'oh': 306,\n",
       " 'around': 307,\n",
       " 'comment': 308,\n",
       " 'cool': 309,\n",
       " 'wish': 310,\n",
       " 'd': 311,\n",
       " 'excited': 312,\n",
       " 'israel': 313,\n",
       " 'words': 314,\n",
       " 'looks': 315,\n",
       " 'sexy': 316,\n",
       " 'hot': 317,\n",
       " 'polar': 318,\n",
       " 'found': 319,\n",
       " 'miss': 320,\n",
       " 'videos': 321,\n",
       " 'putinschoice': 322,\n",
       " 'homophobic': 323,\n",
       " 'fucking': 324,\n",
       " 'newyear': 325,\n",
       " 'seashepherd': 326,\n",
       " 'suppo': 327,\n",
       " 'father': 328,\n",
       " 'buffalo': 329,\n",
       " 'remarks': 330,\n",
       " 'away': 331,\n",
       " 'talk': 332,\n",
       " 'nice': 333,\n",
       " 'money': 334,\n",
       " 'food': 335,\n",
       " 'gay': 336,\n",
       " 'omg': 337,\n",
       " 'paladino': 338,\n",
       " 'trying': 339,\n",
       " 'others': 340,\n",
       " 'point': 341,\n",
       " 'saturday': 342,\n",
       " 'message': 343,\n",
       " 'death': 344,\n",
       " 'naked': 345,\n",
       " 'hea': 346,\n",
       " 'truth': 347,\n",
       " 'leave': 348,\n",
       " 'seems': 349,\n",
       " 'leftright': 350,\n",
       " 'polarisation': 351,\n",
       " 'uselections2016': 352,\n",
       " 'towards': 353,\n",
       " 'notmypresident': 354,\n",
       " 'discrimination': 355,\n",
       " 'hear': 356,\n",
       " 'yeah': 357,\n",
       " 'bc': 358,\n",
       " '8': 359,\n",
       " 'boy': 360,\n",
       " 'forward': 361,\n",
       " '10': 362,\n",
       " 'needs': 363,\n",
       " 'obamas': 364,\n",
       " 'anything': 365,\n",
       " 'religion': 366,\n",
       " 'beach': 367,\n",
       " 'single': 368,\n",
       " 'dog': 369,\n",
       " 'pretty': 370,\n",
       " 'african': 371,\n",
       " 'place': 372,\n",
       " 's': 373,\n",
       " 'lot': 374,\n",
       " 'power': 375,\n",
       " 'whites': 376,\n",
       " 'anyone': 377,\n",
       " 'uk': 378,\n",
       " 'sun': 379,\n",
       " 'try': 380,\n",
       " 'shepherd': 381,\n",
       " 'mother': 382,\n",
       " 'reality': 383,\n",
       " 'wedding': 384,\n",
       " 'calls': 385,\n",
       " 'acts': 386,\n",
       " 'antiracism': 387,\n",
       " 'twitter': 388,\n",
       " 'theyre': 389,\n",
       " 'male': 390,\n",
       " 'instagood': 391,\n",
       " 'stopracism': 392,\n",
       " 'something': 393,\n",
       " 'mean': 394,\n",
       " 'emiratis': 395,\n",
       " 'lgbt': 396,\n",
       " 'jews': 397,\n",
       " 'kill': 398,\n",
       " 'body': 399,\n",
       " 'yay': 400,\n",
       " 'watching': 401,\n",
       " 'maga': 402,\n",
       " 'agree': 403,\n",
       " 'antisemitism': 404,\n",
       " '5': 405,\n",
       " 'japan': 406,\n",
       " 'gorilla': 407,\n",
       " 'gop': 408,\n",
       " 'direct': 409,\n",
       " 'kind': 410,\n",
       " 'house': 411,\n",
       " 'grateful': 412,\n",
       " 'times': 413,\n",
       " 'tcot': 414,\n",
       " 'worst': 415,\n",
       " 'dominate': 416,\n",
       " 'living': 417,\n",
       " 'hell': 418,\n",
       " 'dangerous': 419,\n",
       " 'southafrica': 420,\n",
       " 'making': 421,\n",
       " 'hair': 422,\n",
       " 'fascism': 423,\n",
       " 'ally': 424,\n",
       " 'weeks': 425,\n",
       " 'bigotry': 426,\n",
       " 'michelle': 427,\n",
       " 'crazy': 428,\n",
       " 'asian': 429,\n",
       " 'lets': 430,\n",
       " 'wrong': 431,\n",
       " 'blacklivesmatter': 432,\n",
       " 'monday': 433,\n",
       " 'perfect': 434,\n",
       " 'health': 435,\n",
       " 'sick': 436,\n",
       " 'rip': 437,\n",
       " 'full': 438,\n",
       " 'reflections': 439,\n",
       " 'social': 440,\n",
       " 'dear': 441,\n",
       " 'tweets': 442,\n",
       " 'motivation': 443,\n",
       " 'xenophobia': 444,\n",
       " 'heres': 445,\n",
       " 'working': 446,\n",
       " 'maybe': 447,\n",
       " 'reason': 448,\n",
       " 'joke': 449,\n",
       " 'cochair': 450,\n",
       " 'open': 451,\n",
       " 'islamophobia': 452,\n",
       " 'theres': 453,\n",
       " 'theresistance': 454,\n",
       " 'profiling': 455,\n",
       " 'oil': 456,\n",
       " 'science': 457,\n",
       " 'traitor': 458,\n",
       " 'dead': 459,\n",
       " 'talking': 460,\n",
       " 'cow': 461,\n",
       " 'list': 462,\n",
       " 'join': 463,\n",
       " 'pussy': 464,\n",
       " '7': 465,\n",
       " 'industry': 466,\n",
       " 'ny': 467,\n",
       " 'far': 468,\n",
       " 'means': 469,\n",
       " 'stupid': 470,\n",
       " 'leaving': 471,\n",
       " 'disgusting': 472,\n",
       " 'racing': 473,\n",
       " 'blacks': 474,\n",
       " 'carl': 475,\n",
       " 'mad': 476,\n",
       " 'buy': 477,\n",
       " 'travel': 478,\n",
       " 'since': 479,\n",
       " 'quote': 480,\n",
       " 'else': 481,\n",
       " 'accept': 482,\n",
       " 'inspiration': 483,\n",
       " 'tbt': 484,\n",
       " 'vs': 485,\n",
       " 'impression': 486,\n",
       " 'lives': 487,\n",
       " 'ignorant': 488,\n",
       " 'lies': 489,\n",
       " 'w': 490,\n",
       " 'stay': 491,\n",
       " 'surprise': 492,\n",
       " 'treason': 493,\n",
       " 'lovely': 494,\n",
       " 'put': 495,\n",
       " 'tedtalks': 496,\n",
       " 'wants': 497,\n",
       " 'joy': 498,\n",
       " 'shooting': 499,\n",
       " 'islam': 500,\n",
       " 'remember': 501,\n",
       " 'song': 502,\n",
       " 'fear': 503,\n",
       " 'national': 504,\n",
       " 'whats': 505,\n",
       " 'policies': 506,\n",
       " 'arent': 507,\n",
       " 'color': 508,\n",
       " 'son': 509,\n",
       " 'wall': 510,\n",
       " 'auspol': 511,\n",
       " 'quotes': 512,\n",
       " 'cnn': 513,\n",
       " 'reading': 514,\n",
       " 'christians': 515,\n",
       " 'justice': 516,\n",
       " 'till': 517,\n",
       " 'won': 518,\n",
       " 'head': 519,\n",
       " 'playing': 520,\n",
       " 'super': 521,\n",
       " 'flag': 522,\n",
       " 'cold': 523,\n",
       " 'racial': 524,\n",
       " 'though': 525,\n",
       " 'send': 526,\n",
       " 'comes': 527,\n",
       " 'photooftheday': 528,\n",
       " 'almost': 529,\n",
       " 'run': 530,\n",
       " 'ok': 531,\n",
       " 'past': 532,\n",
       " 'impoant': 533,\n",
       " 'campaign': 534,\n",
       " 'seen': 535,\n",
       " 'problem': 536,\n",
       " 'followme': 537,\n",
       " 'came': 538,\n",
       " 'mindset': 539,\n",
       " 'office': 540,\n",
       " 'together': 541,\n",
       " 'homes': 542,\n",
       " 'wonderful': 543,\n",
       " 'sleep': 544,\n",
       " 'states': 545,\n",
       " 'june': 546,\n",
       " 'conference': 547,\n",
       " 'lying': 548,\n",
       " 'africa': 549,\n",
       " 'loving': 550,\n",
       " 'aicle': 551,\n",
       " 'yall': 552,\n",
       " 'seriously': 553,\n",
       " 'meet': 554,\n",
       " 'course': 555,\n",
       " 'republican': 556,\n",
       " '2016in4words': 557,\n",
       " 'called': 558,\n",
       " 'hand': 559,\n",
       " 'hours': 560,\n",
       " 'absolutely': 561,\n",
       " 'hateful': 562,\n",
       " 'government': 563,\n",
       " 'car': 564,\n",
       " 'bit': 565,\n",
       " 'believes': 566,\n",
       " 'given': 567,\n",
       " 'brown': 568,\n",
       " 'actually': 569,\n",
       " 'war': 570,\n",
       " 'endof2016': 571,\n",
       " 'tedatibm': 572,\n",
       " 'fashion': 573,\n",
       " 'moment': 574,\n",
       " 'seeing': 575,\n",
       " 'told': 576,\n",
       " 'fight': 577,\n",
       " 'vote': 578,\n",
       " 'due': 579,\n",
       " 'forget': 580,\n",
       " 'ill': 581,\n",
       " 'south': 582,\n",
       " 'bing': 583,\n",
       " 'bong': 584,\n",
       " 'story': 585,\n",
       " 'gone': 586,\n",
       " 'fans': 587,\n",
       " 'fire': 588,\n",
       " 'trumps': 589,\n",
       " 'mind': 590,\n",
       " 'went': 591,\n",
       " 'shows': 592,\n",
       " 'tired': 593,\n",
       " 'sorry': 594,\n",
       " 'violence': 595,\n",
       " 'tech': 596,\n",
       " 'form': 597,\n",
       " 'bullying': 598,\n",
       " 'future': 599,\n",
       " 'young': 600,\n",
       " 'todays': 601,\n",
       " 'victims': 602,\n",
       " 'running': 603,\n",
       " 'nazis': 604,\n",
       " 'share': 605,\n",
       " 'boricua': 606,\n",
       " 'apparently': 607,\n",
       " 'whole': 608,\n",
       " 'human': 609,\n",
       " 'cleveland': 610,\n",
       " 'dads': 611,\n",
       " 'aint': 612,\n",
       " 'celebrate': 613,\n",
       " 'lt3': 614,\n",
       " 'community': 615,\n",
       " 'damn': 616,\n",
       " 'picture': 617,\n",
       " 'speak': 618,\n",
       " 'humanity': 619,\n",
       " 'wishes': 620,\n",
       " 'tear': 621,\n",
       " 'boys': 622,\n",
       " 'neverump': 623,\n",
       " 'opposition': 624,\n",
       " 'disease': 625,\n",
       " 'hello': 626,\n",
       " 'muslim': 627,\n",
       " 'mom': 628,\n",
       " 'americas': 629,\n",
       " 'success': 630,\n",
       " 'turn': 631,\n",
       " 'everyday': 632,\n",
       " 'cat': 633,\n",
       " 'move': 634,\n",
       " 'da': 635,\n",
       " 'anti': 636,\n",
       " 'calling': 637,\n",
       " 'hillary': 638,\n",
       " 'state': 639,\n",
       " 'boycott': 640,\n",
       " 'rights': 641,\n",
       " 'euro2016': 642,\n",
       " 'least': 643,\n",
       " 'depression': 644,\n",
       " 'happening': 645,\n",
       " 'beauty': 646,\n",
       " 'present': 647,\n",
       " 'environmental': 648,\n",
       " 'coffee': 649,\n",
       " 'environment': 650,\n",
       " 'bed': 651,\n",
       " 'rejected': 652,\n",
       " 'group': 653,\n",
       " 'whitepeople': 654,\n",
       " 'illegal': 655,\n",
       " 'london': 656,\n",
       " 'official': 657,\n",
       " 'rwnj': 658,\n",
       " 'couple': 659,\n",
       " 'actions': 660,\n",
       " 'fired': 661,\n",
       " 'teambts': 662,\n",
       " 'nazi': 663,\n",
       " 'systemic': 664,\n",
       " 'liberals': 665,\n",
       " 'telling': 666,\n",
       " 'movie': 667,\n",
       " 'sign': 668,\n",
       " 'main': 669,\n",
       " 'freedom': 670,\n",
       " '12': 671,\n",
       " 'potus': 672,\n",
       " 'fucked': 673,\n",
       " 'povey': 674,\n",
       " 'care': 675,\n",
       " 'stand': 676,\n",
       " 'poetry': 677,\n",
       " 'id': 678,\n",
       " 'originally': 679,\n",
       " 'realize': 680,\n",
       " 'simulator': 681,\n",
       " 'adapt': 682,\n",
       " 'promote': 683,\n",
       " 'loved': 684,\n",
       " 'total': 685,\n",
       " 'tv': 686,\n",
       " 'simulation': 687,\n",
       " 'university': 688,\n",
       " 'terrorists': 689,\n",
       " 'different': 690,\n",
       " 'shop': 691,\n",
       " 'common': 692,\n",
       " 'nasty': 693,\n",
       " 'blue': 694,\n",
       " 'shot': 695,\n",
       " 'eah': 696,\n",
       " 'target': 697,\n",
       " 'koreans': 698,\n",
       " 'heard': 699,\n",
       " 'carlpaladino': 700,\n",
       " 'decades': 701,\n",
       " 'delete': 702,\n",
       " 'surprised': 703,\n",
       " 'cologne': 704,\n",
       " 'meant': 705,\n",
       " 'season': 706,\n",
       " 'zionism': 707,\n",
       " 'fact': 708,\n",
       " 'service': 709,\n",
       " 'newyork': 710,\n",
       " 'small': 711,\n",
       " 'dance': 712,\n",
       " 'wonder': 713,\n",
       " 'become': 714,\n",
       " 'assault': 715,\n",
       " 'smh': 716,\n",
       " 'bring': 717,\n",
       " 'happened': 718,\n",
       " 'places': 719,\n",
       " 'sure': 720,\n",
       " 'month': 721,\n",
       " 'lack': 722,\n",
       " 'shes': 723,\n",
       " 't': 724,\n",
       " 'welcome': 725,\n",
       " 'thursday': 726,\n",
       " 'jealous': 727,\n",
       " 'child': 728,\n",
       " 'daughter': 729,\n",
       " 'despite': 730,\n",
       " 'less': 731,\n",
       " 'citizens': 732,\n",
       " 'massive': 733,\n",
       " 'x': 734,\n",
       " 'ugly': 735,\n",
       " 'special': 736,\n",
       " 'mtv': 737,\n",
       " 'b': 738,\n",
       " 'thoughts': 739,\n",
       " 'australia': 740,\n",
       " 'cause': 741,\n",
       " 'along': 742,\n",
       " 'alive': 743,\n",
       " 'lifestyle': 744,\n",
       " 'truly': 745,\n",
       " 'denial': 746,\n",
       " 'denounce': 747,\n",
       " 'sense': 748,\n",
       " 'fool': 749,\n",
       " 'dream': 750,\n",
       " 'blame': 751,\n",
       " 'nyc': 752,\n",
       " 'miami': 753,\n",
       " 'xxx': 754,\n",
       " 'jeffsessions': 755,\n",
       " 'either': 756,\n",
       " 'close': 757,\n",
       " 'sexist': 758,\n",
       " 'order': 759,\n",
       " 'ad': 760,\n",
       " 'evil': 761,\n",
       " 'public': 762,\n",
       " 'keeps': 763,\n",
       " 'customer': 764,\n",
       " 'couldnt': 765,\n",
       " 'pig': 766,\n",
       " 'hour': 767,\n",
       " 'anc': 768,\n",
       " 'coal': 769,\n",
       " 'ash': 770,\n",
       " 'die': 771,\n",
       " 'shopping': 772,\n",
       " 'anymore': 773,\n",
       " 'alone': 774,\n",
       " 'russia': 775,\n",
       " 'late': 776,\n",
       " 'corruption': 777,\n",
       " 'india': 778,\n",
       " 'ago': 779,\n",
       " 'add': 780,\n",
       " 'plz': 781,\n",
       " 'question': 782,\n",
       " 'photo': 783,\n",
       " 'schools': 784,\n",
       " 'memes': 785,\n",
       " 'mc': 786,\n",
       " 'pick': 787,\n",
       " 'criticism': 788,\n",
       " 'whos': 789,\n",
       " 'islamic': 790,\n",
       " 'especially': 791,\n",
       " 'room': 792,\n",
       " 'board': 793,\n",
       " 'bbc': 794,\n",
       " 'nation': 795,\n",
       " 'fascist': 796,\n",
       " 'donald': 797,\n",
       " 'yo': 798,\n",
       " 'rather': 799,\n",
       " 'education': 800,\n",
       " 'abuse': 801,\n",
       " 'happens': 802,\n",
       " 'smiles': 803,\n",
       " 'pic': 804,\n",
       " 'quit': 805,\n",
       " 'freemilo': 806,\n",
       " 'flight': 807,\n",
       " 'texas': 808,\n",
       " 'photos': 809,\n",
       " 'hollywood': 810,\n",
       " 'wake': 811,\n",
       " 'transformation': 812,\n",
       " 'tgif': 813,\n",
       " 'protesting': 814,\n",
       " 'understand': 815,\n",
       " 'hood': 816,\n",
       " 'santa': 817,\n",
       " '6': 818,\n",
       " 'wear': 819,\n",
       " 'phillysuppophilly': 820,\n",
       " 'combat': 821,\n",
       " 'officially': 822,\n",
       " 'staing': 823,\n",
       " 'age': 824,\n",
       " 'met': 825,\n",
       " 'mexico': 826,\n",
       " 'force': 827,\n",
       " '50': 828,\n",
       " 'murdering': 829,\n",
       " 'yesterday': 830,\n",
       " 'ones': 831,\n",
       " 'stupidity': 832,\n",
       " 'tickets': 833,\n",
       " 'ends': 834,\n",
       " 'hopeful': 835,\n",
       " 'green': 836,\n",
       " '1st': 837,\n",
       " 'woh': 838,\n",
       " 'pos': 839,\n",
       " 'staff': 840,\n",
       " 'fitness': 841,\n",
       " 'stands': 842,\n",
       " 'mood': 843,\n",
       " 'atlanta': 844,\n",
       " 'relax': 845,\n",
       " 'msg': 846,\n",
       " 'opinion': 847,\n",
       " 'shiless': 848,\n",
       " 'york': 849,\n",
       " 'stuff': 850,\n",
       " 'rude': 851,\n",
       " 'top': 852,\n",
       " 'europe': 853,\n",
       " 'pizza': 854,\n",
       " 'takes': 855,\n",
       " 'adam': 856,\n",
       " 'acting': 857,\n",
       " 'wonthey': 858,\n",
       " 'fuhered': 859,\n",
       " 'pop': 860,\n",
       " 'months': 861,\n",
       " 'destroy': 862,\n",
       " 'donkey': 863,\n",
       " 'rape': 864,\n",
       " 'members': 865,\n",
       " 'alabama': 866,\n",
       " 'landholding': 867,\n",
       " 'born': 868,\n",
       " 'fail': 869,\n",
       " 'prevents': 870,\n",
       " 'gym': 871,\n",
       " 'liar': 872,\n",
       " 'fought': 873,\n",
       " 'voters': 874,\n",
       " 'unpresidented': 875,\n",
       " 'useful': 876,\n",
       " 'loves': 877,\n",
       " 'palestinian': 878,\n",
       " 'semitic': 879,\n",
       " 'sunshine': 880,\n",
       " 'vacation': 881,\n",
       " 'favorite': 882,\n",
       " 'inequality': 883,\n",
       " 'fo': 884,\n",
       " 'kid': 885,\n",
       " 'issue': 886,\n",
       " 'street': 887,\n",
       " 'whitesupremacy': 888,\n",
       " 'revolution': 889,\n",
       " 'able': 890,\n",
       " 'trip': 891,\n",
       " 'trumpusa': 892,\n",
       " 'joe': 893,\n",
       " 'sweet': 894,\n",
       " 'intellectual': 895,\n",
       " 'canada': 896,\n",
       " 'station': 897,\n",
       " 'hitler': 898,\n",
       " 'dude': 899,\n",
       " 'sessions': 900,\n",
       " 'response': 901,\n",
       " 'soros': 902,\n",
       " 'star': 903,\n",
       " 'football': 904,\n",
       " 'milo': 905,\n",
       " 'refugees': 906,\n",
       " 'scum': 907,\n",
       " 'vine': 908,\n",
       " 'stories': 909,\n",
       " 'comedy': 910,\n",
       " 'democracy': 911,\n",
       " 'deletetweets': 912,\n",
       " 'gift': 913,\n",
       " 'bought': 914,\n",
       " 'fall': 915,\n",
       " 'wan': 916,\n",
       " 'horrible': 917,\n",
       " 'dare': 918,\n",
       " 'innocent': 919,\n",
       " 'stas': 920,\n",
       " 'sexism': 921,\n",
       " 'minute': 922,\n",
       " 'funded': 923,\n",
       " 'causes': 924,\n",
       " 'blamed': 925,\n",
       " 'shut': 926,\n",
       " 'vandals': 927,\n",
       " 'wtf': 928,\n",
       " 'saw': 929,\n",
       " 'anywhere': 930,\n",
       " 'red': 931,\n",
       " 'parents': 932,\n",
       " 'female': 933,\n",
       " 'students': 934,\n",
       " 'claims': 935,\n",
       " 'passed': 936,\n",
       " 'killed': 937,\n",
       " 'privilege': 938,\n",
       " 'meeting': 939,\n",
       " 'protests': 940,\n",
       " 'disappointed': 941,\n",
       " 'early': 942,\n",
       " 'newswithed': 943,\n",
       " 'app': 944,\n",
       " 'assholes': 945,\n",
       " 'clinton': 946,\n",
       " 'deal': 947,\n",
       " 'reveals': 948,\n",
       " 'safe': 949,\n",
       " 'silence': 950,\n",
       " 'following': 951,\n",
       " '20': 952,\n",
       " 'class': 953,\n",
       " 'tuesday': 954,\n",
       " 'slavery': 955,\n",
       " 'forever': 956,\n",
       " 'crisis': 957,\n",
       " 'wednesday': 958,\n",
       " 'fraud': 959,\n",
       " 'lady': 960,\n",
       " 'clothes': 961,\n",
       " 'followers': 962,\n",
       " 'mens': 963,\n",
       " 'smiling': 964,\n",
       " 'insane': 965,\n",
       " 'guess': 966,\n",
       " 'p2': 967,\n",
       " 'la': 968,\n",
       " 'reaction': 969,\n",
       " 'kills': 970,\n",
       " 'isis': 971,\n",
       " 'snapchat': 972,\n",
       " 'ag': 973,\n",
       " 'empty': 974,\n",
       " 'imagine': 975,\n",
       " 'gun': 976,\n",
       " 'flowers': 977,\n",
       " 'biden': 978,\n",
       " 'prayfororlando': 979,\n",
       " 'whores': 980,\n",
       " 'fast': 981,\n",
       " '100': 982,\n",
       " 'hunger': 983,\n",
       " 'steal': 984,\n",
       " 'bitch': 985,\n",
       " 'laugh': 986,\n",
       " 'husband': 987,\n",
       " 'idea': 988,\n",
       " 'pueorico': 989,\n",
       " 'attention': 990,\n",
       " 'havent': 991,\n",
       " 'anal': 992,\n",
       " 'chick': 993,\n",
       " 'unbelievable': 994,\n",
       " 'three': 995,\n",
       " 'high': 996,\n",
       " 'pigs': 997,\n",
       " 'perhaps': 998,\n",
       " 'church': 999,\n",
       " 'glad': 1000,\n",
       " ...}"
      ]
     },
     "execution_count": 440,
     "metadata": {},
     "output_type": "execute_result"
    }
   ],
   "source": [
    "vocabulary = {v: k for k, v in dict(enumerate(tokens_filtered_top, 1)).items()}\n",
    "vocabulary"
   ]
  },
  {
   "cell_type": "code",
   "execution_count": 441,
   "metadata": {
    "executionInfo": {
     "elapsed": 220,
     "status": "ok",
     "timestamp": 1657304250727,
     "user": {
      "displayName": "Mariia Korliakova",
      "userId": "14165537686129864864"
     },
     "user_tz": -180
    },
    "id": "5OULZgvkJzpj"
   },
   "outputs": [],
   "source": [
    "import numpy as np\n",
    "\n",
    "\n",
    "def text_to_sequence(text, maxlen):\n",
    "    result = []\n",
    "    tokens = word_tokenize(text.lower())\n",
    "    tokens_filtered = [word for word in tokens if word.isalnum()]\n",
    "    for word in tokens_filtered:\n",
    "        if word in vocabulary:\n",
    "            result.append(vocabulary[word])\n",
    "\n",
    "    padding = [0] * (maxlen-len(result))\n",
    "    return result[-maxlen:] + padding"
   ]
  },
  {
   "cell_type": "code",
   "execution_count": 442,
   "metadata": {
    "colab": {
     "base_uri": "https://localhost:8080/"
    },
    "executionInfo": {
     "elapsed": 20143,
     "status": "ok",
     "timestamp": 1657304272443,
     "user": {
      "displayName": "Mariia Korliakova",
      "userId": "14165537686129864864"
     },
     "user_tz": -180
    },
    "id": "pqHlf5nNJ2hl",
    "outputId": "d20b9717-d2d7-4782-a1b2-08e02d9cb60e"
   },
   "outputs": [
    {
     "name": "stdout",
     "output_type": "stream",
     "text": [
      "CPU times: user 3.39 s, sys: 7.95 ms, total: 3.4 s\n",
      "Wall time: 3.4 s\n"
     ]
    }
   ],
   "source": [
    "%%time\n",
    "x_train = np.asarray([text_to_sequence(text, max_len) for text in df_train[\"tweet\"]])\n",
    "x_val = np.asarray([text_to_sequence(text, max_len) for text in df_val[\"tweet\"]])"
   ]
  },
  {
   "cell_type": "code",
   "execution_count": 443,
   "metadata": {
    "colab": {
     "base_uri": "https://localhost:8080/"
    },
    "executionInfo": {
     "elapsed": 226,
     "status": "ok",
     "timestamp": 1657304277026,
     "user": {
      "displayName": "Mariia Korliakova",
      "userId": "14165537686129864864"
     },
     "user_tz": -180
    },
    "id": "lI4NUg_TJ6NK",
    "outputId": "5f65b5da-f288-4bb7-ac1b-363cabda1ea5"
   },
   "outputs": [
    {
     "data": {
      "text/plain": [
       "(40805, 20)"
      ]
     },
     "execution_count": 443,
     "metadata": {},
     "output_type": "execute_result"
    }
   ],
   "source": [
    "x_train.shape"
   ]
  },
  {
   "cell_type": "code",
   "execution_count": 444,
   "metadata": {
    "colab": {
     "base_uri": "https://localhost:8080/",
     "height": 35
    },
    "executionInfo": {
     "elapsed": 221,
     "status": "ok",
     "timestamp": 1657304389426,
     "user": {
      "displayName": "Mariia Korliakova",
      "userId": "14165537686129864864"
     },
     "user_tz": -180
    },
    "id": "0I6B2MHb81pF",
    "outputId": "723a4ff9-b6d2-418a-a58b-7ab5ce0de677"
   },
   "outputs": [
    {
     "data": {
      "text/plain": [
       "'user feeling blessed love'"
      ]
     },
     "execution_count": 444,
     "metadata": {},
     "output_type": "execute_result"
    }
   ],
   "source": [
    "df_train['tweet'].iloc[1]"
   ]
  },
  {
   "cell_type": "code",
   "execution_count": 445,
   "metadata": {
    "colab": {
     "base_uri": "https://localhost:8080/"
    },
    "executionInfo": {
     "elapsed": 319,
     "status": "ok",
     "timestamp": 1657304397469,
     "user": {
      "displayName": "Mariia Korliakova",
      "userId": "14165537686129864864"
     },
     "user_tz": -180
    },
    "id": "9QlLvXd9KDf3",
    "outputId": "b298a0a4-91bf-4ac3-9e0c-f3e7fac746dd"
   },
   "outputs": [
    {
     "data": {
      "text/plain": [
       "array([  1, 253, 281,   4,   0,   0,   0,   0,   0,   0,   0,   0,   0,\n",
       "         0,   0,   0,   0,   0,   0,   0])"
      ]
     },
     "execution_count": 445,
     "metadata": {},
     "output_type": "execute_result"
    }
   ],
   "source": [
    "x_train[1]"
   ]
  },
  {
   "cell_type": "code",
   "execution_count": 446,
   "metadata": {
    "executionInfo": {
     "elapsed": 223,
     "status": "ok",
     "timestamp": 1657305140473,
     "user": {
      "displayName": "Mariia Korliakova",
      "userId": "14165537686129864864"
     },
     "user_tz": -180
    },
    "id": "Ynw9XOZNK4Wp"
   },
   "outputs": [],
   "source": [
    "import torch\n",
    "import torch.nn as nn\n",
    "import torch.nn.functional as F\n",
    "\n",
    "\n",
    "class Net(nn.Module):\n",
    "    def __init__(self, vocab_size=2000, embedding_dim=128, out_channel=128, num_classes=1):\n",
    "        super().__init__()\n",
    "        self.embedding = nn.Embedding(vocab_size, embedding_dim)\n",
    "        self.conv_1 = nn.Conv1d(embedding_dim, out_channel, kernel_size=2)\n",
    "        self.conv_2 = nn.Conv1d(embedding_dim, out_channel, kernel_size=3)\n",
    "        self.pool = nn.MaxPool1d(2)\n",
    "        self.relu = nn.ReLU()\n",
    "        self.linear_1 = nn.Linear(out_channel, out_channel // 2)\n",
    "        self.linear_2 = nn.Linear(out_channel // 2, num_classes)\n",
    "        \n",
    "    def forward(self, x):        \n",
    "        output = self.embedding(x) # B, L, E\n",
    "        #                       B  E  L         \n",
    "        output = output.permute(0, 2, 1)\n",
    "        output = self.conv_1(output)\n",
    "        output = self.relu(output)\n",
    "        output = self.pool(output)\n",
    "\n",
    "        output = self.conv_2(output)\n",
    "        output = self.relu(output)\n",
    "        output = self.pool(output)\n",
    "        output = torch.max(output, axis=2).values\n",
    "        output = self.linear_1(output)\n",
    "        output = self.relu(output)\n",
    "        output = self.linear_2(output)\n",
    "        output = F.sigmoid(output)\n",
    "        return output"
   ]
  },
  {
   "cell_type": "code",
   "execution_count": 447,
   "metadata": {
    "executionInfo": {
     "elapsed": 228,
     "status": "ok",
     "timestamp": 1657305142838,
     "user": {
      "displayName": "Mariia Korliakova",
      "userId": "14165537686129864864"
     },
     "user_tz": -180
    },
    "id": "PhwK7yLAK8b0"
   },
   "outputs": [],
   "source": [
    "from torch.utils.data import DataLoader, Dataset\n",
    "\n",
    "\n",
    "class DataWrapper(Dataset):\n",
    "    def __init__(self, data, target, transform=None):\n",
    "        self.data = torch.from_numpy(data).long()\n",
    "        self.target = torch.from_numpy(target).long()\n",
    "        self.transform = transform\n",
    "        \n",
    "    def __getitem__(self, index):\n",
    "        x = self.data[index]\n",
    "        y = self.target[index]\n",
    "        \n",
    "        if self.transform:\n",
    "            x = self.transform(x)\n",
    "            \n",
    "        return x, y\n",
    "    \n",
    "    def __len__(self):\n",
    "        return len(self.data)"
   ]
  },
  {
   "cell_type": "code",
   "execution_count": 448,
   "metadata": {
    "executionInfo": {
     "elapsed": 238,
     "status": "ok",
     "timestamp": 1657305183097,
     "user": {
      "displayName": "Mariia Korliakova",
      "userId": "14165537686129864864"
     },
     "user_tz": -180
    },
    "id": "Qq0DK08tHKHf"
   },
   "outputs": [],
   "source": [
    "train_dataset = DataWrapper(x_train, df_train['label'].values)\n",
    "train_loader = DataLoader(train_dataset, batch_size=batch_size, shuffle=True)\n",
    "\n",
    "val_dataset = DataWrapper(x_val, df_val['label'].values)\n",
    "val_loader = DataLoader(val_dataset, batch_size=8, shuffle=True)"
   ]
  },
  {
   "cell_type": "code",
   "execution_count": 449,
   "metadata": {
    "colab": {
     "base_uri": "https://localhost:8080/"
    },
    "executionInfo": {
     "elapsed": 213,
     "status": "ok",
     "timestamp": 1657305207804,
     "user": {
      "displayName": "Mariia Korliakova",
      "userId": "14165537686129864864"
     },
     "user_tz": -180
    },
    "id": "J6v8MCvfPqJN",
    "outputId": "b3895d97-b37b-4384-a9af-f752a9425e47"
   },
   "outputs": [
    {
     "name": "stdout",
     "output_type": "stream",
     "text": [
      "torch.Size([512, 20])\n",
      "torch.Size([512])\n",
      "tensor(1)\n"
     ]
    }
   ],
   "source": [
    "for x, l in train_loader:\n",
    "    print(x.shape)\n",
    "    print(l.shape)\n",
    "    print(l[0])\n",
    "    break"
   ]
  },
  {
   "cell_type": "code",
   "execution_count": 450,
   "metadata": {
    "colab": {
     "base_uri": "https://localhost:8080/",
     "height": 35
    },
    "executionInfo": {
     "elapsed": 234,
     "status": "ok",
     "timestamp": 1657305277204,
     "user": {
      "displayName": "Mariia Korliakova",
      "userId": "14165537686129864864"
     },
     "user_tz": -180
    },
    "id": "F-3ExwIMG8BB",
    "outputId": "d1f8b34d-9108-4a05-c01f-d5ee1e1e36eb"
   },
   "outputs": [
    {
     "data": {
      "text/plain": [
       "'cpu'"
      ]
     },
     "execution_count": 450,
     "metadata": {},
     "output_type": "execute_result"
    }
   ],
   "source": [
    "model = Net(vocab_size=max_words)\n",
    "\n",
    "device = 'cuda' if torch.cuda.is_available() else 'cpu'\n",
    "device"
   ]
  },
  {
   "cell_type": "code",
   "execution_count": 451,
   "metadata": {
    "colab": {
     "base_uri": "https://localhost:8080/"
    },
    "executionInfo": {
     "elapsed": 245,
     "status": "ok",
     "timestamp": 1657305293673,
     "user": {
      "displayName": "Mariia Korliakova",
      "userId": "14165537686129864864"
     },
     "user_tz": -180
    },
    "id": "ayB6rEFkHB1D",
    "outputId": "1a57c3e2-3b6f-4a7e-d428-51cde605b769"
   },
   "outputs": [
    {
     "name": "stdout",
     "output_type": "stream",
     "text": [
      "Net(\n",
      "  (embedding): Embedding(2000, 128)\n",
      "  (conv_1): Conv1d(128, 128, kernel_size=(2,), stride=(1,))\n",
      "  (conv_2): Conv1d(128, 128, kernel_size=(3,), stride=(1,))\n",
      "  (pool): MaxPool1d(kernel_size=2, stride=2, padding=0, dilation=1, ceil_mode=False)\n",
      "  (relu): ReLU()\n",
      "  (linear_1): Linear(in_features=128, out_features=64, bias=True)\n",
      "  (linear_2): Linear(in_features=64, out_features=1, bias=True)\n",
      ")\n",
      "Parameters: 346497\n"
     ]
    }
   ],
   "source": [
    "print(model)\n",
    "print(\"Parameters:\", sum([param.nelement() for param in model.parameters()]))"
   ]
  },
  {
   "cell_type": "code",
   "execution_count": 452,
   "metadata": {
    "executionInfo": {
     "elapsed": 250,
     "status": "ok",
     "timestamp": 1657305308400,
     "user": {
      "displayName": "Mariia Korliakova",
      "userId": "14165537686129864864"
     },
     "user_tz": -180
    },
    "id": "vOpjN8zrHIfJ"
   },
   "outputs": [],
   "source": [
    "optimizer = torch.optim.Adam(model.parameters(), lr=0.01 )\n",
    "criterion = nn.BCELoss()"
   ]
  },
  {
   "cell_type": "code",
   "execution_count": 457,
   "metadata": {
    "colab": {
     "base_uri": "https://localhost:8080/"
    },
    "executionInfo": {
     "elapsed": 39463,
     "status": "ok",
     "timestamp": 1657305361107,
     "user": {
      "displayName": "Mariia Korliakova",
      "userId": "14165537686129864864"
     },
     "user_tz": -180
    },
    "id": "ee9kfUQaCXpl",
    "outputId": "c82b8205-c48d-4c5d-9d42-25d4a65b3279"
   },
   "outputs": [
    {
     "name": "stdout",
     "output_type": "stream",
     "text": [
      "Epoch [1/5]. Step [80/80]. Loss: 0.028. Acc: 0.995. Test loss: 0.130. Test acc: 0.780\n",
      "Epoch [2/5]. Step [80/80]. Loss: 0.005. Acc: 0.995. Test loss: 0.000. Test acc: 0.781\n",
      "Epoch [3/5]. Step [80/80]. Loss: 0.050. Acc: 0.992. Test loss: 0.000. Test acc: 0.823\n",
      "Epoch [4/5]. Step [80/80]. Loss: 0.024. Acc: 0.991. Test loss: 6.810. Test acc: 0.773\n",
      "Epoch [5/5]. Step [80/80]. Loss: 0.010. Acc: 0.996. Test loss: 0.000. Test acc: 0.784\n",
      "Training is finished!\n"
     ]
    }
   ],
   "source": [
    "model = model.to(device)\n",
    "model.train()\n",
    "th = 0.5\n",
    "\n",
    "train_loss_history = []\n",
    "test_loss_history = []\n",
    "\n",
    "\n",
    "for epoch in range(epochs):  \n",
    "    running_items, running_right = 0.0, 0.0\n",
    "    for i, data in enumerate(train_loader, 0):\n",
    "        inputs, labels = data[0].to(device), data[1].to(device)\n",
    "        \n",
    "        # обнуляем градиент\n",
    "        optimizer.zero_grad()\n",
    "        outputs = model(inputs)\n",
    "        \n",
    "        loss = criterion(outputs, labels.float().view(-1, 1))\n",
    "        loss.backward()\n",
    "        optimizer.step()\n",
    "\n",
    "        # подсчет ошибки на обучении\n",
    "        loss = loss.item()\n",
    "        running_items += len(labels)\n",
    "        # подсчет метрики на обучении\n",
    "        pred_labels = torch.squeeze((outputs > th).int())\n",
    "        running_right += (labels == pred_labels).sum()\n",
    "        \n",
    "    # выводим статистику о процессе обучения\n",
    "    model.eval()\n",
    "    \n",
    "    print(f'Epoch [{epoch + 1}/{epochs}]. ' \\\n",
    "            f'Step [{i + 1}/{len(train_loader)}]. ' \\\n",
    "            f'Loss: {loss:.3f}. ' \\\n",
    "            f'Acc: {running_right / running_items:.3f}', end='. ')\n",
    "    running_loss, running_items, running_right = 0.0, 0.0, 0.0\n",
    "    train_loss_history.append(loss)\n",
    "\n",
    "        # выводим статистику на тестовых данных\n",
    "    test_running_right, test_running_total, test_loss = 0.0, 0.0, 0.0\n",
    "    for j, data in enumerate(val_loader):\n",
    "        test_labels = data[1].to(device)\n",
    "        test_outputs = model(data[0].to(device))\n",
    "        \n",
    "        # подсчет ошибки на тесте\n",
    "        test_loss = criterion(test_outputs, test_labels.float().view(-1, 1))\n",
    "        # подсчет метрики на тесте\n",
    "        test_running_total += len(data[1])\n",
    "        pred_test_labels = torch.squeeze((test_outputs > th).int())\n",
    "        test_running_right += (test_labels == pred_test_labels).sum()\n",
    "    \n",
    "    test_loss_history.append(test_loss.item())\n",
    "    print(f'Test loss: {test_loss:.3f}. Test acc: {test_running_right / test_running_total:.3f}')\n",
    "    \n",
    "    model.train()\n",
    "        \n",
    "print('Training is finished!')"
   ]
  },
  {
   "cell_type": "code",
   "execution_count": 458,
   "metadata": {
    "colab": {
     "base_uri": "https://localhost:8080/",
     "height": 295
    },
    "executionInfo": {
     "elapsed": 284,
     "status": "ok",
     "timestamp": 1657305440678,
     "user": {
      "displayName": "Mariia Korliakova",
      "userId": "14165537686129864864"
     },
     "user_tz": -180
    },
    "id": "jRFEu1X4jpLU",
    "outputId": "62e46faa-d206-465e-ee00-d7a76df0c32f"
   },
   "outputs": [
    {
     "data": {
      "image/png": "[encoded data removed]",
      "text/plain": [
       "<Figure size 432x288 with 1 Axes>"
      ]
     },
     "metadata": {
      "needs_background": "light"
     },
     "output_type": "display_data"
    }
   ],
   "source": [
    "import matplotlib.pyplot as plt\n",
    "\n",
    "plt.title('Loss history')\n",
    "plt.grid(True)\n",
    "plt.ylabel('Loss')\n",
    "plt.xlabel('Epoch')\n",
    "plt.plot(train_loss_history, label='train')\n",
    "plt.plot(test_loss_history, label='test')\n",
    "plt.legend();"
   ]
  },
  {
   "cell_type": "code",
   "execution_count": 459,
   "metadata": {},
   "outputs": [
    {
     "data": {
      "text/plain": [
       "torch.Size([3, 1])"
      ]
     },
     "execution_count": 459,
     "metadata": {},
     "output_type": "execute_result"
    }
   ],
   "source": [
    "test_outputs.shape"
   ]
  },
  {
   "cell_type": "code",
   "execution_count": 460,
   "metadata": {},
   "outputs": [
    {
     "data": {
      "text/plain": [
       "(tensor([[1.0000e+00],\n",
       "         [3.9763e-17],\n",
       "         [1.4022e-05]], grad_fn=<SigmoidBackward0>),\n",
       " tensor([1, 0, 0]))"
      ]
     },
     "execution_count": 460,
     "metadata": {},
     "output_type": "execute_result"
    }
   ],
   "source": [
    "test_outputs, test_labels"
   ]
  },
  {
   "cell_type": "markdown",
   "metadata": {
    "id": "pxrx8gGqpQe-"
   },
   "source": [
    "Вывод: после балансировки классов и обучения модель дает accuracy 0.78. Это для 5 эпох неплохой показатель. Улучшить точность помогла работа со stop_words. Мы взяли англоязычный словарь, дополнили его, но убрали из словаря слова с отрицанием, чтобы модель в работе могла ориентироваться опираясь также на них для оценки твита."
   ]
  },
  {
   "cell_type": "code",
   "execution_count": null,
   "metadata": {},
   "outputs": [],
   "source": []
  }
 ],
 "metadata": {
  "accelerator": "GPU",
  "colab": {
   "collapsed_sections": [],
   "name": "web_6.ipynb",
   "provenance": [
    {
     "file_id": "1WgwQ-cYhMmkeXpxrr3sLU4DJEcbcikkH",
     "timestamp": 1657278544369
    }
   ]
  },
  "kernelspec": {
   "display_name": "Python 3 (ipykernel)",
   "language": "python",
   "name": "python3"
  },
  "language_info": {
   "codemirror_mode": {
    "name": "ipython",
    "version": 3
   },
   "file_extension": ".py",
   "mimetype": "text/x-python",
   "name": "python",
   "nbconvert_exporter": "python",
   "pygments_lexer": "ipython3",
   "version": "3.9.12"
  }
 },
 "nbformat": 4,
 "nbformat_minor": 1
}
