{
 "cells": [
  {
   "cell_type": "markdown",
   "metadata": {},
   "source": [
    "## Рекуррентные сети\n",
    "https://www.kaggle.com/datasets/arkhoshghalb/twitter-sentiment-analysis-hatred-speech"
   ]
  },
  {
   "cell_type": "code",
   "execution_count": 75,
   "metadata": {
    "colab": {
     "base_uri": "https://localhost:8080/"
    },
    "executionInfo": {
     "elapsed": 263,
     "status": "ok",
     "timestamp": 1657301934983,
     "user": {
      "displayName": "Mariia Korliakova",
      "userId": "14165537686129864864"
     },
     "user_tz": -180
    },
    "id": "go3riF-s_kRv",
    "outputId": "b5265572-53c9-443b-f07d-7004ca480713"
   },
   "outputs": [],
   "source": [
    "import numpy as np\n",
    "\n",
    "import torch\n",
    "import torch.nn as nn\n",
    "import torch.nn.functional as F\n",
    "\n",
    "from collections import Counter"
   ]
  },
  {
   "cell_type": "code",
   "execution_count": 76,
   "metadata": {
    "executionInfo": {
     "elapsed": 239,
     "status": "ok",
     "timestamp": 1657302419415,
     "user": {
      "displayName": "Mariia Korliakova",
      "userId": "14165537686129864864"
     },
     "user_tz": -180
    },
    "id": "2H5tFUEMCE7d"
   },
   "outputs": [],
   "source": [
    "max_words = 2000\n",
    "max_len = 30\n",
    "num_classes = 1\n",
    "\n",
    "# Training\n",
    "epochs = 10\n",
    "batch_size = 512\n",
    "print_batch_n = 100"
   ]
  },
  {
   "cell_type": "code",
   "execution_count": 77,
   "metadata": {
    "executionInfo": {
     "elapsed": 2125,
     "status": "ok",
     "timestamp": 1657302744307,
     "user": {
      "displayName": "Mariia Korliakova",
      "userId": "14165537686129864864"
     },
     "user_tz": -180
    },
    "id": "LUCk-5M2yg3S"
   },
   "outputs": [],
   "source": [
    "import pandas as pd\n",
    "\n",
    "df = pd.read_csv('train.csv')"
   ]
  },
  {
   "cell_type": "code",
   "execution_count": 78,
   "metadata": {
    "colab": {
     "base_uri": "https://localhost:8080/",
     "height": 206
    },
    "executionInfo": {
     "elapsed": 265,
     "status": "ok",
     "timestamp": 1657302746562,
     "user": {
      "displayName": "Mariia Korliakova",
      "userId": "14165537686129864864"
     },
     "user_tz": -180
    },
    "id": "KBSf-OfDzWOI",
    "outputId": "a9550221-9913-4014-e106-1617d4f731db"
   },
   "outputs": [
    {
     "data": {
      "text/html": [
       "<div>\n",
       "<style scoped>\n",
       "    .dataframe tbody tr th:only-of-type {\n",
       "        vertical-align: middle;\n",
       "    }\n",
       "\n",
       "    .dataframe tbody tr th {\n",
       "        vertical-align: top;\n",
       "    }\n",
       "\n",
       "    .dataframe thead th {\n",
       "        text-align: right;\n",
       "    }\n",
       "</style>\n",
       "<table border=\"1\" class=\"dataframe\">\n",
       "  <thead>\n",
       "    <tr style=\"text-align: right;\">\n",
       "      <th></th>\n",
       "      <th>id</th>\n",
       "      <th>label</th>\n",
       "      <th>tweet</th>\n",
       "    </tr>\n",
       "  </thead>\n",
       "  <tbody>\n",
       "    <tr>\n",
       "      <th>0</th>\n",
       "      <td>1</td>\n",
       "      <td>0</td>\n",
       "      <td>@user when a father is dysfunctional and is s...</td>\n",
       "    </tr>\n",
       "    <tr>\n",
       "      <th>1</th>\n",
       "      <td>2</td>\n",
       "      <td>0</td>\n",
       "      <td>@user @user thanks for #lyft credit i can't us...</td>\n",
       "    </tr>\n",
       "    <tr>\n",
       "      <th>2</th>\n",
       "      <td>3</td>\n",
       "      <td>0</td>\n",
       "      <td>bihday your majesty</td>\n",
       "    </tr>\n",
       "    <tr>\n",
       "      <th>3</th>\n",
       "      <td>4</td>\n",
       "      <td>0</td>\n",
       "      <td>#model   i love u take with u all the time in ...</td>\n",
       "    </tr>\n",
       "    <tr>\n",
       "      <th>4</th>\n",
       "      <td>5</td>\n",
       "      <td>0</td>\n",
       "      <td>factsguide: society now    #motivation</td>\n",
       "    </tr>\n",
       "  </tbody>\n",
       "</table>\n",
       "</div>"
      ],
      "text/plain": [
       "   id  label                                              tweet\n",
       "0   1      0   @user when a father is dysfunctional and is s...\n",
       "1   2      0  @user @user thanks for #lyft credit i can't us...\n",
       "2   3      0                                bihday your majesty\n",
       "3   4      0  #model   i love u take with u all the time in ...\n",
       "4   5      0             factsguide: society now    #motivation"
      ]
     },
     "execution_count": 78,
     "metadata": {},
     "output_type": "execute_result"
    }
   ],
   "source": [
    "df.head()"
   ]
  },
  {
   "cell_type": "markdown",
   "metadata": {
    "id": "CRaO-Ub5e8hx"
   },
   "source": [
    "0 - negative<br>\n",
    "1 - positive"
   ]
  },
  {
   "cell_type": "code",
   "execution_count": 79,
   "metadata": {},
   "outputs": [],
   "source": [
    "from sklearn.model_selection import train_test_split"
   ]
  },
  {
   "cell_type": "code",
   "execution_count": 80,
   "metadata": {},
   "outputs": [],
   "source": [
    "df_train, df_val = train_test_split(df, test_size=0.3, random_state = 21)"
   ]
  },
  {
   "cell_type": "code",
   "execution_count": 81,
   "metadata": {},
   "outputs": [
    {
     "data": {
      "text/plain": [
       "0    20837\n",
       "1     1536\n",
       "Name: label, dtype: int64"
      ]
     },
     "execution_count": 81,
     "metadata": {},
     "output_type": "execute_result"
    }
   ],
   "source": [
    "df_train['label'].value_counts()"
   ]
  },
  {
   "cell_type": "code",
   "execution_count": 82,
   "metadata": {},
   "outputs": [
    {
     "data": {
      "text/plain": [
       "0    8883\n",
       "1     706\n",
       "Name: label, dtype: int64"
      ]
     },
     "execution_count": 82,
     "metadata": {},
     "output_type": "execute_result"
    }
   ],
   "source": [
    "df_val['label'].value_counts()"
   ]
  },
  {
   "cell_type": "markdown",
   "metadata": {},
   "source": [
    "## Классы несбаланстированы. Проведем балансировку классов, тогда показатель accuracyбудет давать более объективную оценку работы модели."
   ]
  },
  {
   "cell_type": "code",
   "execution_count": 83,
   "metadata": {},
   "outputs": [],
   "source": [
    "def balance_df_by_target(df, target_name):\n",
    "\n",
    "    target_counts = df[target_name].value_counts()\n",
    "\n",
    "    major_class_name = target_counts.argmax()\n",
    "    minor_class_name = target_counts.argmin()\n",
    "\n",
    "    disbalance_coeff = int(target_counts[major_class_name] / target_counts[minor_class_name]) - 1\n",
    "\n",
    "    for i in range(disbalance_coeff):\n",
    "        sample = df[df[target_name] == minor_class_name].sample(target_counts[minor_class_name])\n",
    "        df = df.append(sample, ignore_index=True)\n",
    "\n",
    "    return df.sample(frac=1) "
   ]
  },
  {
   "cell_type": "code",
   "execution_count": 84,
   "metadata": {},
   "outputs": [
    {
     "name": "stderr",
     "output_type": "stream",
     "text": [
      "/tmp/ipykernel_6028/1895660404.py:12: FutureWarning: The frame.append method is deprecated and will be removed from pandas in a future version. Use pandas.concat instead.\n",
      "  df = df.append(sample, ignore_index=True)\n"
     ]
    },
    {
     "data": {
      "text/plain": [
       "0    20837\n",
       "1    19968\n",
       "Name: label, dtype: int64"
      ]
     },
     "execution_count": 84,
     "metadata": {},
     "output_type": "execute_result"
    }
   ],
   "source": [
    "df_for_balancing = df_train\n",
    "df_train = balance_df_by_target(df_for_balancing, 'label')\n",
    "    \n",
    "df_train['label'].value_counts()"
   ]
  },
  {
   "cell_type": "code",
   "execution_count": 85,
   "metadata": {},
   "outputs": [
    {
     "name": "stderr",
     "output_type": "stream",
     "text": [
      "/tmp/ipykernel_6028/1895660404.py:12: FutureWarning: The frame.append method is deprecated and will be removed from pandas in a future version. Use pandas.concat instead.\n",
      "  df = df.append(sample, ignore_index=True)\n"
     ]
    },
    {
     "data": {
      "text/plain": [
       "0    8883\n",
       "1    8472\n",
       "Name: label, dtype: int64"
      ]
     },
     "execution_count": 85,
     "metadata": {},
     "output_type": "execute_result"
    }
   ],
   "source": [
    "df_for_balancing = df_val\n",
    "df_val = balance_df_by_target(df_for_balancing, 'label')\n",
    "    \n",
    "df_val['label'].value_counts()"
   ]
  },
  {
   "cell_type": "markdown",
   "metadata": {
    "id": "qEyvOxoOJDTP"
   },
   "source": [
    "### Предобработка"
   ]
  },
  {
   "cell_type": "code",
   "execution_count": 86,
   "metadata": {
    "colab": {
     "base_uri": "https://localhost:8080/"
    },
    "executionInfo": {
     "elapsed": 5666,
     "status": "ok",
     "timestamp": 1657302914645,
     "user": {
      "displayName": "Mariia Korliakova",
      "userId": "14165537686129864864"
     },
     "user_tz": -180
    },
    "id": "JimEynHhitb4",
    "outputId": "1f7f817b-831a-49da-abe4-ce14ec0ca57f"
   },
   "outputs": [],
   "source": [
    "#!pip install stop-words pymorphy2"
   ]
  },
  {
   "cell_type": "code",
   "execution_count": 87,
   "metadata": {
    "executionInfo": {
     "elapsed": 226,
     "status": "ok",
     "timestamp": 1657302997453,
     "user": {
      "displayName": "Mariia Korliakova",
      "userId": "14165537686129864864"
     },
     "user_tz": -180
    },
    "id": "zuPoTViZRHlM"
   },
   "outputs": [],
   "source": [
    "from string import punctuation\n",
    "from stop_words import get_stop_words\n",
    "from pymorphy2 import MorphAnalyzer\n",
    "import re"
   ]
  },
  {
   "cell_type": "code",
   "execution_count": 88,
   "metadata": {
    "executionInfo": {
     "elapsed": 236,
     "status": "ok",
     "timestamp": 1657303210726,
     "user": {
      "displayName": "Mariia Korliakova",
      "userId": "14165537686129864864"
     },
     "user_tz": -180
    },
    "id": "MrICmUgeRHlO"
   },
   "outputs": [],
   "source": [
    "sw = set(get_stop_words(\"en\"))\n",
    "sw_left = set(['no','not', 'nor', \"mustn't\", \"shouldn't\",\"shan't\", 'against', \"aren't\", \"can't\",\n",
    " 'cannot',\"wouldn't\",\n",
    " \"couldn't\",\"didn't\", \"doesn't\", \"don't\", \"hadn't\", \"hasn't\",\"haven't\", \"isn't\", \"wasn't\", \"weren't\", \"won't\"\n",
    "              ])\n",
    "sw_in = set(['im', 'u', 'will', 'just'])"
   ]
  },
  {
   "cell_type": "code",
   "execution_count": 89,
   "metadata": {},
   "outputs": [
    {
     "data": {
      "text/plain": [
       "{'against',\n",
       " \"aren't\",\n",
       " \"can't\",\n",
       " 'cannot',\n",
       " \"couldn't\",\n",
       " \"didn't\",\n",
       " \"doesn't\",\n",
       " \"don't\",\n",
       " \"hadn't\",\n",
       " \"hasn't\",\n",
       " \"haven't\",\n",
       " \"isn't\",\n",
       " \"mustn't\",\n",
       " 'no',\n",
       " 'nor',\n",
       " 'not',\n",
       " \"shan't\",\n",
       " \"shouldn't\",\n",
       " \"wasn't\",\n",
       " \"weren't\",\n",
       " \"won't\",\n",
       " \"wouldn't\"}"
      ]
     },
     "execution_count": 89,
     "metadata": {},
     "output_type": "execute_result"
    }
   ],
   "source": [
    "sw_left"
   ]
  },
  {
   "cell_type": "code",
   "execution_count": 90,
   "metadata": {},
   "outputs": [],
   "source": [
    "sw.symmetric_difference_update(sw_left)"
   ]
  },
  {
   "cell_type": "code",
   "execution_count": 91,
   "metadata": {},
   "outputs": [],
   "source": [
    "sw.update(sw_in)"
   ]
  },
  {
   "cell_type": "code",
   "execution_count": 92,
   "metadata": {},
   "outputs": [
    {
     "data": {
      "text/plain": [
       "{'a',\n",
       " 'about',\n",
       " 'above',\n",
       " 'after',\n",
       " 'again',\n",
       " 'all',\n",
       " 'am',\n",
       " 'an',\n",
       " 'and',\n",
       " 'any',\n",
       " 'are',\n",
       " 'as',\n",
       " 'at',\n",
       " 'be',\n",
       " 'because',\n",
       " 'been',\n",
       " 'before',\n",
       " 'being',\n",
       " 'below',\n",
       " 'between',\n",
       " 'both',\n",
       " 'but',\n",
       " 'by',\n",
       " 'could',\n",
       " 'did',\n",
       " 'do',\n",
       " 'does',\n",
       " 'doing',\n",
       " 'down',\n",
       " 'during',\n",
       " 'each',\n",
       " 'few',\n",
       " 'for',\n",
       " 'from',\n",
       " 'further',\n",
       " 'had',\n",
       " 'has',\n",
       " 'have',\n",
       " 'having',\n",
       " 'he',\n",
       " \"he'd\",\n",
       " \"he'll\",\n",
       " \"he's\",\n",
       " 'her',\n",
       " 'here',\n",
       " \"here's\",\n",
       " 'hers',\n",
       " 'herself',\n",
       " 'him',\n",
       " 'himself',\n",
       " 'his',\n",
       " 'how',\n",
       " \"how's\",\n",
       " 'i',\n",
       " \"i'd\",\n",
       " \"i'll\",\n",
       " \"i'm\",\n",
       " \"i've\",\n",
       " 'if',\n",
       " 'im',\n",
       " 'in',\n",
       " 'into',\n",
       " 'is',\n",
       " 'it',\n",
       " \"it's\",\n",
       " 'its',\n",
       " 'itself',\n",
       " 'just',\n",
       " \"let's\",\n",
       " 'me',\n",
       " 'more',\n",
       " 'most',\n",
       " 'my',\n",
       " 'myself',\n",
       " 'of',\n",
       " 'off',\n",
       " 'on',\n",
       " 'once',\n",
       " 'only',\n",
       " 'or',\n",
       " 'other',\n",
       " 'ought',\n",
       " 'our',\n",
       " 'ours',\n",
       " 'ourselves',\n",
       " 'out',\n",
       " 'over',\n",
       " 'own',\n",
       " 'same',\n",
       " 'she',\n",
       " \"she'd\",\n",
       " \"she'll\",\n",
       " \"she's\",\n",
       " 'should',\n",
       " 'so',\n",
       " 'some',\n",
       " 'such',\n",
       " 'than',\n",
       " 'that',\n",
       " \"that's\",\n",
       " 'the',\n",
       " 'their',\n",
       " 'theirs',\n",
       " 'them',\n",
       " 'themselves',\n",
       " 'then',\n",
       " 'there',\n",
       " \"there's\",\n",
       " 'these',\n",
       " 'they',\n",
       " \"they'd\",\n",
       " \"they'll\",\n",
       " \"they're\",\n",
       " \"they've\",\n",
       " 'this',\n",
       " 'those',\n",
       " 'through',\n",
       " 'to',\n",
       " 'too',\n",
       " 'u',\n",
       " 'under',\n",
       " 'until',\n",
       " 'up',\n",
       " 'very',\n",
       " 'was',\n",
       " 'we',\n",
       " \"we'd\",\n",
       " \"we'll\",\n",
       " \"we're\",\n",
       " \"we've\",\n",
       " 'were',\n",
       " 'what',\n",
       " \"what's\",\n",
       " 'when',\n",
       " \"when's\",\n",
       " 'where',\n",
       " \"where's\",\n",
       " 'which',\n",
       " 'while',\n",
       " 'who',\n",
       " \"who's\",\n",
       " 'whom',\n",
       " 'why',\n",
       " \"why's\",\n",
       " 'will',\n",
       " 'with',\n",
       " 'would',\n",
       " 'you',\n",
       " \"you'd\",\n",
       " \"you'll\",\n",
       " \"you're\",\n",
       " \"you've\",\n",
       " 'your',\n",
       " 'yours',\n",
       " 'yourself',\n",
       " 'yourselves'}"
      ]
     },
     "execution_count": 92,
     "metadata": {},
     "output_type": "execute_result"
    }
   ],
   "source": [
    "sw"
   ]
  },
  {
   "cell_type": "code",
   "execution_count": 93,
   "metadata": {
    "colab": {
     "base_uri": "https://localhost:8080/"
    },
    "executionInfo": {
     "elapsed": 248,
     "status": "ok",
     "timestamp": 1657303162253,
     "user": {
      "displayName": "Mariia Korliakova",
      "userId": "14165537686129864864"
     },
     "user_tz": -180
    },
    "id": "Kdmt_DVPjN4j",
    "outputId": "502fafd3-a407-49f6-8e67-0efb204935a1"
   },
   "outputs": [
    {
     "data": {
      "text/plain": [
       "{'!',\n",
       " '\"',\n",
       " '#',\n",
       " '$',\n",
       " '%',\n",
       " '&',\n",
       " \"'\",\n",
       " '(',\n",
       " ')',\n",
       " '*',\n",
       " '+',\n",
       " ',',\n",
       " '-',\n",
       " '.',\n",
       " '/',\n",
       " ':',\n",
       " ';',\n",
       " '<',\n",
       " '=',\n",
       " '>',\n",
       " '?',\n",
       " '@',\n",
       " '[',\n",
       " '\\\\',\n",
       " ']',\n",
       " '^',\n",
       " '_',\n",
       " '`',\n",
       " '{',\n",
       " '|',\n",
       " '}',\n",
       " '~'}"
      ]
     },
     "execution_count": 93,
     "metadata": {},
     "output_type": "execute_result"
    }
   ],
   "source": [
    "puncts = set(punctuation)\n",
    "puncts"
   ]
  },
  {
   "cell_type": "code",
   "execution_count": 94,
   "metadata": {
    "executionInfo": {
     "elapsed": 251,
     "status": "ok",
     "timestamp": 1657303290984,
     "user": {
      "displayName": "Mariia Korliakova",
      "userId": "14165537686129864864"
     },
     "user_tz": -180
    },
    "id": "A5aTsDZxjPym"
   },
   "outputs": [],
   "source": [
    "morpher = MorphAnalyzer()\n",
    "\n",
    "\n",
    "def preprocess_text(txt):\n",
    "    txt = str(txt)\n",
    "    txt = \"\".join(c for c in txt if c not in puncts)\n",
    "    txt = txt.lower()\n",
    "#     txt = re.sub(\"no\\s\", \"not\", 'nore', txt)\n",
    "    txt = [morpher.parse(word)[0].normal_form for word in txt.split() if word not in sw]\n",
    "    for word in txt:\n",
    "        if '@' in word:\n",
    "            txt.remove(word)\n",
    "    return \" \".join(txt)"
   ]
  },
  {
   "cell_type": "code",
   "execution_count": 95,
   "metadata": {
    "colab": {
     "base_uri": "https://localhost:8080/"
    },
    "executionInfo": {
     "elapsed": 247,
     "status": "ok",
     "timestamp": 1657303292939,
     "user": {
      "displayName": "Mariia Korliakova",
      "userId": "14165537686129864864"
     },
     "user_tz": -180
    },
    "id": "6J4Ybdk-jC-n",
    "outputId": "bdbced58-e7d8-4e36-9768-9e3cdf41f7ec"
   },
   "outputs": [
    {
     "data": {
      "text/plain": [
       "array([\"holiday fun, socially relevant! #podcast celebrates '70 bewitched xmas ep   \"],\n",
       "      dtype=object)"
      ]
     },
     "execution_count": 95,
     "metadata": {},
     "output_type": "execute_result"
    }
   ],
   "source": [
    "df_train['tweet'].iloc[0:1].values"
   ]
  },
  {
   "cell_type": "code",
   "execution_count": 96,
   "metadata": {
    "colab": {
     "base_uri": "https://localhost:8080/"
    },
    "executionInfo": {
     "elapsed": 244,
     "status": "ok",
     "timestamp": 1657303295742,
     "user": {
      "displayName": "Mariia Korliakova",
      "userId": "14165537686129864864"
     },
     "user_tz": -180
    },
    "id": "UFDyfZLpi8BR",
    "outputId": "25fb7291-9f19-4a50-8ab0-964ea5455003"
   },
   "outputs": [
    {
     "data": {
      "text/plain": [
       "array(['holiday fun socially relevant podcast celebrates 70 bewitched xmas ep'],\n",
       "      dtype=object)"
      ]
     },
     "execution_count": 96,
     "metadata": {},
     "output_type": "execute_result"
    }
   ],
   "source": [
    "df_train['tweet'].iloc[0:1].apply(preprocess_text).values"
   ]
  },
  {
   "cell_type": "code",
   "execution_count": 97,
   "metadata": {
    "colab": {
     "base_uri": "https://localhost:8080/"
    },
    "executionInfo": {
     "elapsed": 242442,
     "status": "ok",
     "timestamp": 1657303549458,
     "user": {
      "displayName": "Mariia Korliakova",
      "userId": "14165537686129864864"
     },
     "user_tz": -180
    },
    "id": "iWrPbjNzi7pB",
    "outputId": "15e418e5-8b8d-4e9d-9a13-88b4693f5b53"
   },
   "outputs": [
    {
     "name": "stderr",
     "output_type": "stream",
     "text": [
      "100%|██████████| 40805/40805 [00:04<00:00, 8892.63it/s]\n",
      "100%|██████████| 17355/17355 [00:01<00:00, 8922.00it/s]\n"
     ]
    }
   ],
   "source": [
    "from tqdm import tqdm \n",
    "tqdm.pandas()\n",
    "\n",
    "df_train['tweet'] = df_train['tweet'].progress_apply(preprocess_text)\n",
    "df_val['tweet'] = df_val['tweet'].progress_apply(preprocess_text)"
   ]
  },
  {
   "cell_type": "code",
   "execution_count": 98,
   "metadata": {
    "executionInfo": {
     "elapsed": 227,
     "status": "ok",
     "timestamp": 1657303797623,
     "user": {
      "displayName": "Mariia Korliakova",
      "userId": "14165537686129864864"
     },
     "user_tz": -180
    },
    "id": "C4o9QgmWI3Pw"
   },
   "outputs": [],
   "source": [
    "train_corpus = \" \".join(df_train[\"tweet\"])\n",
    "train_corpus = train_corpus.lower()"
   ]
  },
  {
   "cell_type": "code",
   "execution_count": 99,
   "metadata": {},
   "outputs": [],
   "source": [
    "#!pip install nltk"
   ]
  },
  {
   "cell_type": "code",
   "execution_count": 100,
   "metadata": {
    "colab": {
     "base_uri": "https://localhost:8080/"
    },
    "executionInfo": {
     "elapsed": 6382,
     "status": "ok",
     "timestamp": 1657303822905,
     "user": {
      "displayName": "Mariia Korliakova",
      "userId": "14165537686129864864"
     },
     "user_tz": -180
    },
    "id": "Hed2ySbwJH6B",
    "outputId": "f42fc2c4-3976-450a-84a2-47eb71e1aa2c"
   },
   "outputs": [
    {
     "name": "stderr",
     "output_type": "stream",
     "text": [
      "[nltk_data] Downloading package punkt to /home/ekaterina/nltk_data...\n",
      "[nltk_data]   Package punkt is already up-to-date!\n"
     ]
    },
    {
     "data": {
      "text/plain": [
       "['holiday', 'fun', 'socially', 'relevant', 'podcast']"
      ]
     },
     "execution_count": 100,
     "metadata": {},
     "output_type": "execute_result"
    }
   ],
   "source": [
    "import nltk\n",
    "from nltk.tokenize import word_tokenize\n",
    "nltk.download(\"punkt\")\n",
    "\n",
    "tokens = word_tokenize(train_corpus)\n",
    "tokens[:5]"
   ]
  },
  {
   "cell_type": "markdown",
   "metadata": {
    "id": "yJ8T0fwYJYJX"
   },
   "source": [
    "Отфильтруем данные\n",
    "\n",
    "и соберём в корпус N наиболее частых токенов"
   ]
  },
  {
   "cell_type": "code",
   "execution_count": 101,
   "metadata": {
    "executionInfo": {
     "elapsed": 238,
     "status": "ok",
     "timestamp": 1657303906704,
     "user": {
      "displayName": "Mariia Korliakova",
      "userId": "14165537686129864864"
     },
     "user_tz": -180
    },
    "id": "EXOLVK1tJLT8"
   },
   "outputs": [],
   "source": [
    "tokens_filtered = [word for word in tokens if word.isalnum()]"
   ]
  },
  {
   "cell_type": "code",
   "execution_count": 102,
   "metadata": {
    "colab": {
     "base_uri": "https://localhost:8080/"
    },
    "executionInfo": {
     "elapsed": 1139,
     "status": "ok",
     "timestamp": 1657303939484,
     "user": {
      "displayName": "Mariia Korliakova",
      "userId": "14165537686129864864"
     },
     "user_tz": -180
    },
    "id": "8qCQH5nIJoiB",
    "outputId": "f059b974-c153-431c-ff80-9a2b31ea02b5"
   },
   "outputs": [
    {
     "data": {
      "text/plain": [
       "1999"
      ]
     },
     "execution_count": 102,
     "metadata": {},
     "output_type": "execute_result"
    }
   ],
   "source": [
    "from nltk.probability import FreqDist\n",
    "\n",
    "dist = FreqDist(tokens_filtered)\n",
    "tokens_filtered_top = [pair[0] for pair in dist.most_common(max_words-1)]  # вычитание 1 для padding\n",
    "len(tokens_filtered_top)"
   ]
  },
  {
   "cell_type": "code",
   "execution_count": 103,
   "metadata": {
    "colab": {
     "base_uri": "https://localhost:8080/"
    },
    "executionInfo": {
     "elapsed": 243,
     "status": "ok",
     "timestamp": 1657304044365,
     "user": {
      "displayName": "Mariia Korliakova",
      "userId": "14165537686129864864"
     },
     "user_tz": -180
    },
    "id": "bRQ-6wwjJrGo",
    "outputId": "47975bb4-43e6-43bd-d7e9-b83e1ef1f9e9"
   },
   "outputs": [
    {
     "data": {
      "text/plain": [
       "['user',\n",
       " 'amp',\n",
       " 'not',\n",
       " 'love',\n",
       " 'like',\n",
       " 'trump',\n",
       " 'day',\n",
       " 'libtard',\n",
       " 'people',\n",
       " 'black']"
      ]
     },
     "execution_count": 103,
     "metadata": {},
     "output_type": "execute_result"
    }
   ],
   "source": [
    "tokens_filtered_top[:10]"
   ]
  },
  {
   "cell_type": "code",
   "execution_count": 104,
   "metadata": {
    "colab": {
     "base_uri": "https://localhost:8080/"
    },
    "executionInfo": {
     "elapsed": 292,
     "status": "ok",
     "timestamp": 1657304064353,
     "user": {
      "displayName": "Mariia Korliakova",
      "userId": "14165537686129864864"
     },
     "user_tz": -180
    },
    "id": "Tdk777qGJtz4",
    "outputId": "e5c2d941-7a06-407b-cf06-02fe96b4318a"
   },
   "outputs": [
    {
     "data": {
      "text/plain": [
       "{'user': 1,\n",
       " 'amp': 2,\n",
       " 'not': 3,\n",
       " 'love': 4,\n",
       " 'like': 5,\n",
       " 'trump': 6,\n",
       " 'day': 7,\n",
       " 'libtard': 8,\n",
       " 'people': 9,\n",
       " 'black': 10,\n",
       " 'white': 11,\n",
       " 'happy': 12,\n",
       " 'no': 13,\n",
       " 'new': 14,\n",
       " 'can': 15,\n",
       " 'dont': 16,\n",
       " 'one': 17,\n",
       " 'get': 18,\n",
       " 'us': 19,\n",
       " 'cant': 20,\n",
       " 'time': 21,\n",
       " 'good': 22,\n",
       " 'today': 23,\n",
       " 'politics': 24,\n",
       " 'might': 25,\n",
       " 'allahsoil': 26,\n",
       " 'racist': 27,\n",
       " 'life': 28,\n",
       " 'liberal': 29,\n",
       " 'now': 30,\n",
       " 'hate': 31,\n",
       " 'feel': 32,\n",
       " 'see': 33,\n",
       " 'go': 34,\n",
       " 'women': 35,\n",
       " 'positive': 36,\n",
       " '2': 37,\n",
       " 'sjw': 38,\n",
       " 'want': 39,\n",
       " 'obama': 40,\n",
       " 'thankful': 41,\n",
       " 'great': 42,\n",
       " 'against': 43,\n",
       " 'back': 44,\n",
       " 'got': 45,\n",
       " 'bihday': 46,\n",
       " 'make': 47,\n",
       " 'retweet': 48,\n",
       " 'girl': 49,\n",
       " 'take': 50,\n",
       " 'need': 51,\n",
       " 'listen': 52,\n",
       " 'via': 53,\n",
       " 'racism': 54,\n",
       " 'work': 55,\n",
       " 'best': 56,\n",
       " 'think': 57,\n",
       " 'fathers': 58,\n",
       " 'world': 59,\n",
       " 'first': 60,\n",
       " 'never': 61,\n",
       " 'thats': 62,\n",
       " 'right': 63,\n",
       " 'youre': 64,\n",
       " 'really': 65,\n",
       " 'going': 66,\n",
       " 'way': 67,\n",
       " 'smile': 68,\n",
       " 'thanks': 69,\n",
       " 'comments': 70,\n",
       " 'video': 71,\n",
       " 'america': 72,\n",
       " 'man': 73,\n",
       " 'healthy': 74,\n",
       " 'much': 75,\n",
       " 'stomping': 76,\n",
       " 'fun': 77,\n",
       " 'look': 78,\n",
       " '2016': 79,\n",
       " 'men': 80,\n",
       " 'sex': 81,\n",
       " 'many': 82,\n",
       " 'know': 83,\n",
       " 'even': 84,\n",
       " '4': 85,\n",
       " 'year': 86,\n",
       " 'still': 87,\n",
       " 'weekend': 88,\n",
       " 'woman': 89,\n",
       " 'family': 90,\n",
       " 'friday': 91,\n",
       " 'beautiful': 92,\n",
       " 'friends': 93,\n",
       " 'sad': 94,\n",
       " 'pay': 95,\n",
       " 'race': 96,\n",
       " 'say': 97,\n",
       " 'wait': 98,\n",
       " 'act': 99,\n",
       " 'ever': 100,\n",
       " 'stop': 101,\n",
       " 'calgary': 102,\n",
       " 'latest': 103,\n",
       " 'bull': 104,\n",
       " 'sikh': 105,\n",
       " 'girls': 106,\n",
       " 'music': 107,\n",
       " 'makes': 108,\n",
       " 'summer': 109,\n",
       " 'call': 110,\n",
       " 'days': 111,\n",
       " 'bigot': 112,\n",
       " 'news': 113,\n",
       " 'live': 114,\n",
       " 'hope': 115,\n",
       " 'well': 116,\n",
       " 'temple': 117,\n",
       " 'nothing': 118,\n",
       " 'vandalised': 119,\n",
       " 'wso': 120,\n",
       " 'condemns': 121,\n",
       " 'next': 122,\n",
       " 'says': 123,\n",
       " 'always': 124,\n",
       " 'home': 125,\n",
       " 'free': 126,\n",
       " 'done': 127,\n",
       " 'week': 128,\n",
       " '2017': 129,\n",
       " 'thing': 130,\n",
       " 'find': 131,\n",
       " 'keep': 132,\n",
       " 'show': 133,\n",
       " 'come': 134,\n",
       " 'thank': 135,\n",
       " 'morning': 136,\n",
       " 'isnt': 137,\n",
       " 'things': 138,\n",
       " 'real': 139,\n",
       " 'fathersday': 140,\n",
       " 'tomorrow': 141,\n",
       " 'years': 142,\n",
       " 'blog': 143,\n",
       " 'tampa': 144,\n",
       " 'altright': 145,\n",
       " 'believe': 146,\n",
       " 'orlando': 147,\n",
       " 'every': 148,\n",
       " 'president': 149,\n",
       " 'last': 150,\n",
       " 'cute': 151,\n",
       " 'fuck': 152,\n",
       " 'na': 153,\n",
       " 'everyone': 154,\n",
       " 'please': 155,\n",
       " 'peace': 156,\n",
       " 'let': 157,\n",
       " 'porn': 158,\n",
       " 'history': 159,\n",
       " 'another': 160,\n",
       " 'little': 161,\n",
       " 'guy': 162,\n",
       " 'hatred': 163,\n",
       " 'face': 164,\n",
       " 'police': 165,\n",
       " 'misogyny': 166,\n",
       " 'business': 167,\n",
       " 'model': 168,\n",
       " 'made': 169,\n",
       " 'night': 170,\n",
       " 'help': 171,\n",
       " 'also': 172,\n",
       " 'dad': 173,\n",
       " 'sunday': 174,\n",
       " 'happiness': 175,\n",
       " 'said': 176,\n",
       " 'pa': 177,\n",
       " 'someone': 178,\n",
       " 'book': 179,\n",
       " 'blm': 180,\n",
       " 'media': 181,\n",
       " 'school': 182,\n",
       " 'affirmation': 183,\n",
       " 'finally': 184,\n",
       " 'end': 185,\n",
       " 'game': 186,\n",
       " 'hey': 187,\n",
       " 'team': 188,\n",
       " 'hispanic': 189,\n",
       " 'amazing': 190,\n",
       " 'better': 191,\n",
       " 'equality': 192,\n",
       " 'ive': 193,\n",
       " 'tweet': 194,\n",
       " 'daily': 195,\n",
       " 'ignorance': 196,\n",
       " 'give': 197,\n",
       " 'r': 198,\n",
       " 'selfie': 199,\n",
       " 'looking': 200,\n",
       " 'brexit': 201,\n",
       " 'use': 202,\n",
       " 'watch': 203,\n",
       " 'saying': 204,\n",
       " 'sta': 205,\n",
       " 'enough': 206,\n",
       " 'gold': 207,\n",
       " 'attack': 208,\n",
       " 'americans': 209,\n",
       " 'ready': 210,\n",
       " 'suppoers': 211,\n",
       " 'country': 212,\n",
       " 'malevote': 213,\n",
       " 'lost': 214,\n",
       " 'gets': 215,\n",
       " 'doesnt': 216,\n",
       " 'may': 217,\n",
       " 'silver': 218,\n",
       " 'win': 219,\n",
       " 'person': 220,\n",
       " '1': 221,\n",
       " 'follow': 222,\n",
       " 'thought': 223,\n",
       " 'shit': 224,\n",
       " 'around': 225,\n",
       " 'iam': 226,\n",
       " 'christmas': 227,\n",
       " 'change': 228,\n",
       " 'altwaystoheal': 229,\n",
       " 'job': 230,\n",
       " 'left': 231,\n",
       " 'sea': 232,\n",
       " 'must': 233,\n",
       " 'israel': 234,\n",
       " 'yet': 235,\n",
       " 'big': 236,\n",
       " 'hard': 237,\n",
       " 'god': 238,\n",
       " 'city': 239,\n",
       " 'wont': 240,\n",
       " 'wow': 241,\n",
       " 'getting': 242,\n",
       " 'old': 243,\n",
       " 'without': 244,\n",
       " 'proud': 245,\n",
       " 'kind': 246,\n",
       " 'lol': 247,\n",
       " 'seashepherd': 248,\n",
       " 'yes': 249,\n",
       " 'tonight': 250,\n",
       " 'friend': 251,\n",
       " 'funny': 252,\n",
       " 'two': 253,\n",
       " 'forex': 254,\n",
       " 'guys': 255,\n",
       " '3': 256,\n",
       " 'looks': 257,\n",
       " 'read': 258,\n",
       " 'bigotry': 259,\n",
       " 'hes': 260,\n",
       " 'enjoy': 261,\n",
       " 'feminism': 262,\n",
       " 'american': 263,\n",
       " 'true': 264,\n",
       " 'n': 265,\n",
       " 'usa': 266,\n",
       " 'kids': 267,\n",
       " 'everything': 268,\n",
       " 'oil': 269,\n",
       " 'feeling': 270,\n",
       " 'bear': 271,\n",
       " 'didnt': 272,\n",
       " 'coming': 273,\n",
       " 'climb': 274,\n",
       " 'bad': 275,\n",
       " 'ppl': 276,\n",
       " 'shepherd': 277,\n",
       " 'words': 278,\n",
       " 'antiracism': 279,\n",
       " '8': 280,\n",
       " 'paladino': 281,\n",
       " 'money': 282,\n",
       " 'nude': 283,\n",
       " 'blessed': 284,\n",
       " 'already': 285,\n",
       " 'uk': 286,\n",
       " 'ur': 287,\n",
       " 'islamophobia': 288,\n",
       " 'found': 289,\n",
       " 'tell': 290,\n",
       " 'ignored': 291,\n",
       " 'wish': 292,\n",
       " 'feminismiscancer': 293,\n",
       " 'feminismisterrorism': 294,\n",
       " 'feminismmuktbharat': 295,\n",
       " 'check': 296,\n",
       " 'children': 297,\n",
       " 'healing': 298,\n",
       " 'antisemitism': 299,\n",
       " 'whatever': 300,\n",
       " 'hot': 301,\n",
       " 'long': 302,\n",
       " 'post': 303,\n",
       " 'gop': 304,\n",
       " 'baby': 305,\n",
       " 'kkk': 306,\n",
       " 'misogynist': 307,\n",
       " 'awesome': 308,\n",
       " 'excited': 309,\n",
       " 'terrorism': 310,\n",
       " 'word': 311,\n",
       " 'place': 312,\n",
       " 'others': 313,\n",
       " 'fear': 314,\n",
       " 'muslims': 315,\n",
       " 'miss': 316,\n",
       " 'discrimination': 317,\n",
       " 'polar': 318,\n",
       " 's': 319,\n",
       " 'needs': 320,\n",
       " 'maga': 321,\n",
       " 'waiting': 322,\n",
       " 'gon': 323,\n",
       " 'cool': 324,\n",
       " 'soon': 325,\n",
       " 'father': 326,\n",
       " 'leadership': 327,\n",
       " 'power': 328,\n",
       " 'sexy': 329,\n",
       " 'xenophobia': 330,\n",
       " 'angry': 331,\n",
       " 'yeah': 332,\n",
       " 'loving': 333,\n",
       " 'leave': 334,\n",
       " 'gay': 335,\n",
       " 'food': 336,\n",
       " 'fucking': 337,\n",
       " 'talk': 338,\n",
       " 'holiday': 339,\n",
       " 'gorilla': 340,\n",
       " 'truth': 341,\n",
       " 'oh': 342,\n",
       " 'saturday': 343,\n",
       " 'rest': 344,\n",
       " 'twitter': 345,\n",
       " 'putinschoice': 346,\n",
       " 'nice': 347,\n",
       " 'asian': 348,\n",
       " 'trying': 349,\n",
       " 'hea': 350,\n",
       " 'war': 351,\n",
       " 'away': 352,\n",
       " 'comment': 353,\n",
       " 'homophobic': 354,\n",
       " 'suppo': 355,\n",
       " '10': 356,\n",
       " 'maybe': 357,\n",
       " 'won': 358,\n",
       " 'house': 359,\n",
       " 'd': 360,\n",
       " 'buffalo': 361,\n",
       " 'play': 362,\n",
       " 'hateful': 363,\n",
       " 'strong': 364,\n",
       " 'forward': 365,\n",
       " 'dear': 366,\n",
       " 'fascism': 367,\n",
       " 'matter': 368,\n",
       " 'boy': 369,\n",
       " 'beach': 370,\n",
       " 'ass': 371,\n",
       " 'lot': 372,\n",
       " 'dog': 373,\n",
       " 'lies': 374,\n",
       " 'newyear': 375,\n",
       " 'hell': 376,\n",
       " 'omg': 377,\n",
       " 'carl': 378,\n",
       " 'sick': 379,\n",
       " 'sun': 380,\n",
       " 'factory': 381,\n",
       " 'message': 382,\n",
       " 'instagood': 383,\n",
       " 'wedding': 384,\n",
       " 'calls': 385,\n",
       " 'join': 386,\n",
       " 'point': 387,\n",
       " 'pretty': 388,\n",
       " 'anything': 389,\n",
       " 'notmypresident': 390,\n",
       " 'send': 391,\n",
       " 'lovely': 392,\n",
       " 'w': 393,\n",
       " 'times': 394,\n",
       " 'resist': 395,\n",
       " '5': 396,\n",
       " 'death': 397,\n",
       " 'emiratis': 398,\n",
       " 'running': 399,\n",
       " 'theyre': 400,\n",
       " 'tcot': 401,\n",
       " 'hear': 402,\n",
       " 'yay': 403,\n",
       " 'something': 404,\n",
       " 'ally': 405,\n",
       " 'kill': 406,\n",
       " 'americas': 407,\n",
       " 'stopracism': 408,\n",
       " 'direct': 409,\n",
       " 'stay': 410,\n",
       " 'remarks': 411,\n",
       " 'try': 412,\n",
       " 'single': 413,\n",
       " 'comes': 414,\n",
       " 'called': 415,\n",
       " 'watching': 416,\n",
       " 'grateful': 417,\n",
       " 'came': 418,\n",
       " 'joy': 419,\n",
       " 'dominate': 420,\n",
       " 'vs': 421,\n",
       " 'cow': 422,\n",
       " 'freemilo': 423,\n",
       " 'mother': 424,\n",
       " 'hair': 425,\n",
       " 'color': 426,\n",
       " 'shooting': 427,\n",
       " 'far': 428,\n",
       " 'videos': 429,\n",
       " 'fans': 430,\n",
       " 'open': 431,\n",
       " 'tweets': 432,\n",
       " 'goes': 433,\n",
       " 'lets': 434,\n",
       " 'crazy': 435,\n",
       " 'victims': 436,\n",
       " 'perfect': 437,\n",
       " 'problem': 438,\n",
       " 'body': 439,\n",
       " 'together': 440,\n",
       " 'lgbt': 441,\n",
       " 'monday': 442,\n",
       " '7': 443,\n",
       " 'weeks': 444,\n",
       " 'living': 445,\n",
       " 'else': 446,\n",
       " 'rip': 447,\n",
       " 'anyone': 448,\n",
       " 'head': 449,\n",
       " 'dangerous': 450,\n",
       " 'course': 451,\n",
       " 'arent': 452,\n",
       " 'promote': 453,\n",
       " 'motivation': 454,\n",
       " 'since': 455,\n",
       " 'christians': 456,\n",
       " 'ignorant': 457,\n",
       " 'blacks': 458,\n",
       " 'almost': 459,\n",
       " 'jews': 460,\n",
       " 'obamas': 461,\n",
       " 'boricua': 462,\n",
       " 'mean': 463,\n",
       " 'cnn': 464,\n",
       " 'whites': 465,\n",
       " 'disgusting': 466,\n",
       " 'reflections': 467,\n",
       " 'newyork': 468,\n",
       " 'mad': 469,\n",
       " 'reality': 470,\n",
       " 'naked': 471,\n",
       " 'cold': 472,\n",
       " 'making': 473,\n",
       " 'working': 474,\n",
       " 'super': 475,\n",
       " 'gone': 476,\n",
       " 'full': 477,\n",
       " 'justice': 478,\n",
       " 'heres': 479,\n",
       " 'travel': 480,\n",
       " 'quote': 481,\n",
       " 'seems': 482,\n",
       " 'racing': 483,\n",
       " 'yall': 484,\n",
       " 'damn': 485,\n",
       " 'muslim': 486,\n",
       " 'tech': 487,\n",
       " 'japan': 488,\n",
       " 'story': 489,\n",
       " 'tbt': 490,\n",
       " 'industry': 491,\n",
       " 'michelleobama': 492,\n",
       " 'means': 493,\n",
       " 'towards': 494,\n",
       " 'health': 495,\n",
       " 'milo': 496,\n",
       " 'son': 497,\n",
       " 'official': 498,\n",
       " 'shes': 499,\n",
       " 'blacklivesmatter': 500,\n",
       " 'meet': 501,\n",
       " 'song': 502,\n",
       " 'reading': 503,\n",
       " 'remember': 504,\n",
       " 'id': 505,\n",
       " 'accept': 506,\n",
       " 'profiling': 507,\n",
       " 'bc': 508,\n",
       " 'buy': 509,\n",
       " 'inspiration': 510,\n",
       " 'brown': 511,\n",
       " 'cat': 512,\n",
       " 'seen': 513,\n",
       " 'impression': 514,\n",
       " 'teambts': 515,\n",
       " 'islam': 516,\n",
       " 'group': 517,\n",
       " 'playing': 518,\n",
       " 'hours': 519,\n",
       " 'agree': 520,\n",
       " 'lying': 521,\n",
       " 'told': 522,\n",
       " 'conference': 523,\n",
       " 'photooftheday': 524,\n",
       " 'realize': 525,\n",
       " 'truly': 526,\n",
       " 'whats': 527,\n",
       " 'reason': 528,\n",
       " 'social': 529,\n",
       " 'australia': 530,\n",
       " 'total': 531,\n",
       " 'stupid': 532,\n",
       " 'cologne': 533,\n",
       " 'actually': 534,\n",
       " 'heard': 535,\n",
       " 'followme': 536,\n",
       " 'mindset': 537,\n",
       " 'loves': 538,\n",
       " 'mind': 539,\n",
       " 'racial': 540,\n",
       " 'june': 541,\n",
       " 'vote': 542,\n",
       " 'run': 543,\n",
       " 'calling': 544,\n",
       " 'freedom': 545,\n",
       " 'government': 546,\n",
       " 'talking': 547,\n",
       " 'homes': 548,\n",
       " 'education': 549,\n",
       " 'list': 550,\n",
       " 'auspol': 551,\n",
       " 'potus': 552,\n",
       " 'ill': 553,\n",
       " 'fucked': 554,\n",
       " 'wants': 555,\n",
       " 'impoant': 556,\n",
       " 'theresistance': 557,\n",
       " 'become': 558,\n",
       " 'sleep': 559,\n",
       " 'traitor': 560,\n",
       " 'fought': 561,\n",
       " 'moment': 562,\n",
       " 'states': 563,\n",
       " 'neverump': 564,\n",
       " 'nazis': 565,\n",
       " 'aicle': 566,\n",
       " 'fashion': 567,\n",
       " 'liberals': 568,\n",
       " 'republican': 569,\n",
       " 'corruption': 570,\n",
       " 'quotes': 571,\n",
       " 'season': 572,\n",
       " 'stand': 573,\n",
       " 'pussy': 574,\n",
       " 'bing': 575,\n",
       " 'bong': 576,\n",
       " 'todays': 577,\n",
       " 'ugly': 578,\n",
       " 'sorry': 579,\n",
       " 'dead': 580,\n",
       " 'democrats': 581,\n",
       " 'coffee': 582,\n",
       " 'target': 583,\n",
       " 'understand': 584,\n",
       " 'present': 585,\n",
       " 'india': 586,\n",
       " 'though': 587,\n",
       " 'till': 588,\n",
       " 'male': 589,\n",
       " 'went': 590,\n",
       " 'culture': 591,\n",
       " 'disease': 592,\n",
       " 'worst': 593,\n",
       " 'surprise': 594,\n",
       " 'lt3': 595,\n",
       " 'assault': 596,\n",
       " 'delete': 597,\n",
       " 'none': 598,\n",
       " 'seeing': 599,\n",
       " 'wtf': 600,\n",
       " 'past': 601,\n",
       " 'put': 602,\n",
       " 'dads': 603,\n",
       " 'young': 604,\n",
       " 'bullying': 605,\n",
       " 'decades': 606,\n",
       " 'tear': 607,\n",
       " 'cochair': 608,\n",
       " 'boys': 609,\n",
       " 'miami': 610,\n",
       " 'speak': 611,\n",
       " 'wall': 612,\n",
       " 'wishes': 613,\n",
       " 'texas': 614,\n",
       " 'community': 615,\n",
       " 'flag': 616,\n",
       " 'mom': 617,\n",
       " 'success': 618,\n",
       " 'wrong': 619,\n",
       " 'rape': 620,\n",
       " 'cleveland': 621,\n",
       " 'systemic': 622,\n",
       " 'unpresidented': 623,\n",
       " 'lives': 624,\n",
       " 'beauty': 625,\n",
       " 'bbc': 626,\n",
       " 'different': 627,\n",
       " 'wan': 628,\n",
       " 'euro2016': 629,\n",
       " '12': 630,\n",
       " '2016in4words': 631,\n",
       " 'isis': 632,\n",
       " 'depression': 633,\n",
       " 'terrorists': 634,\n",
       " 'joke': 635,\n",
       " 'national': 636,\n",
       " 'environment': 637,\n",
       " 'human': 638,\n",
       " 'donald': 639,\n",
       " 'care': 640,\n",
       " 'car': 641,\n",
       " 'london': 642,\n",
       " 'less': 643,\n",
       " 'million': 644,\n",
       " 'environmental': 645,\n",
       " 'religion': 646,\n",
       " 'close': 647,\n",
       " 'couple': 648,\n",
       " 'sign': 649,\n",
       " 'pick': 650,\n",
       " 'anymore': 651,\n",
       " 'mc': 652,\n",
       " 'campaign': 653,\n",
       " 'tedtalks': 654,\n",
       " 'shows': 655,\n",
       " 'southafrica': 656,\n",
       " 'plz': 657,\n",
       " 'everyday': 658,\n",
       " 'poetry': 659,\n",
       " 'small': 660,\n",
       " 'science': 661,\n",
       " 'simulator': 662,\n",
       " 'adapt': 663,\n",
       " 'green': 664,\n",
       " 'service': 665,\n",
       " 'fool': 666,\n",
       " 'movie': 667,\n",
       " 'special': 668,\n",
       " 'originally': 669,\n",
       " 'carlpaladino': 670,\n",
       " 'b': 671,\n",
       " 'violence': 672,\n",
       " 'loved': 673,\n",
       " 'either': 674,\n",
       " 'lose': 675,\n",
       " 'simulation': 676,\n",
       " 'shop': 677,\n",
       " 'phillysuppophilly': 678,\n",
       " 'combat': 679,\n",
       " 'meant': 680,\n",
       " 'child': 681,\n",
       " 'memes': 682,\n",
       " 'university': 683,\n",
       " 'ad': 684,\n",
       " 'thoughts': 685,\n",
       " 'die': 686,\n",
       " 'shot': 687,\n",
       " 'attention': 688,\n",
       " 'fact': 689,\n",
       " 'gender': 690,\n",
       " 'office': 691,\n",
       " 'acts': 692,\n",
       " 'aint': 693,\n",
       " 'happened': 694,\n",
       " 'company': 695,\n",
       " 'sure': 696,\n",
       " 'share': 697,\n",
       " 'genetics': 698,\n",
       " 'land': 699,\n",
       " 'absolutely': 700,\n",
       " 'russia': 701,\n",
       " 'leftright': 702,\n",
       " 'polarisation': 703,\n",
       " 'uselections2016': 704,\n",
       " 'dance': 705,\n",
       " 'kid': 706,\n",
       " 'politicians': 707,\n",
       " 'hillary': 708,\n",
       " 'order': 709,\n",
       " 'protesting': 710,\n",
       " 'wear': 711,\n",
       " 'yo': 712,\n",
       " 'deaths': 713,\n",
       " 'thursday': 714,\n",
       " 'fight': 715,\n",
       " 'endof2016': 716,\n",
       " 'tedatibm': 717,\n",
       " 'fake': 718,\n",
       " 'alabama': 719,\n",
       " 'month': 720,\n",
       " 'stuff': 721,\n",
       " 'apparently': 722,\n",
       " 'islamic': 723,\n",
       " 'shut': 724,\n",
       " 'mexican': 725,\n",
       " 'global': 726,\n",
       " 'bed': 727,\n",
       " 'cause': 728,\n",
       " 'x': 729,\n",
       " '50': 730,\n",
       " 'picture': 731,\n",
       " 'ok': 732,\n",
       " 'yrs': 733,\n",
       " 'officially': 734,\n",
       " 'least': 735,\n",
       " 'humanity': 736,\n",
       " 'opposition': 737,\n",
       " 'lack': 738,\n",
       " 'alone': 739,\n",
       " 'anc': 740,\n",
       " 'along': 741,\n",
       " 'following': 742,\n",
       " 'hello': 743,\n",
       " 'sexism': 744,\n",
       " 'evil': 745,\n",
       " 'dream': 746,\n",
       " 'wonthey': 747,\n",
       " 'fuhered': 748,\n",
       " 'hour': 749,\n",
       " 'nyc': 750,\n",
       " 'surprised': 751,\n",
       " 'safe': 752,\n",
       " 'used': 753,\n",
       " 'class': 754,\n",
       " 'jeffsessions': 755,\n",
       " 'state': 756,\n",
       " 'vandals': 757,\n",
       " 'blue': 758,\n",
       " 'cheer': 759,\n",
       " 'michelle': 760,\n",
       " 'wonderful': 761,\n",
       " 'places': 762,\n",
       " 'smiling': 763,\n",
       " 'bring': 764,\n",
       " 'joe': 765,\n",
       " 'sense': 766,\n",
       " 'putin': 767,\n",
       " 'tv': 768,\n",
       " 'turn': 769,\n",
       " 'staing': 770,\n",
       " 'lifestyle': 771,\n",
       " 'dumb': 772,\n",
       " 'african': 773,\n",
       " 'tired': 774,\n",
       " 'photo': 775,\n",
       " 'future': 776,\n",
       " 'theres': 777,\n",
       " 'age': 778,\n",
       " 'given': 779,\n",
       " '20': 780,\n",
       " 'form': 781,\n",
       " 'early': 782,\n",
       " '1st': 783,\n",
       " 'blame': 784,\n",
       " 'citizens': 785,\n",
       " 'sexist': 786,\n",
       " 'stands': 787,\n",
       " 'street': 788,\n",
       " 'quit': 789,\n",
       " 'thinks': 790,\n",
       " 'assholes': 791,\n",
       " 'blamed': 792,\n",
       " 'female': 793,\n",
       " 'typical': 794,\n",
       " 'laws': 795,\n",
       " 'fire': 796,\n",
       " 'upset': 797,\n",
       " 'smiles': 798,\n",
       " 'wars': 799,\n",
       " 'hollywood': 800,\n",
       " 'forever': 801,\n",
       " 'dude': 802,\n",
       " 'instead': 803,\n",
       " 'daughter': 804,\n",
       " 'snapchat': 805,\n",
       " 'disappointed': 806,\n",
       " '6': 807,\n",
       " 'south': 808,\n",
       " 'effect': 809,\n",
       " 'tgif': 810,\n",
       " 'question': 811,\n",
       " 'believes': 812,\n",
       " 'freedoms': 813,\n",
       " 'couldnt': 814,\n",
       " 'fo': 815,\n",
       " 'promoting': 816,\n",
       " 'diversity': 817,\n",
       " 'telling': 818,\n",
       " 'ends': 819,\n",
       " 'hopeful': 820,\n",
       " 'ago': 821,\n",
       " 'experience': 822,\n",
       " 'fail': 823,\n",
       " 'whole': 824,\n",
       " 'boycott': 825,\n",
       " 'bit': 826,\n",
       " 'africa': 827,\n",
       " 'fired': 828,\n",
       " 'vine': 829,\n",
       " 'council': 830,\n",
       " 'deal': 831,\n",
       " 'mens': 832,\n",
       " 'mood': 833,\n",
       " 'crisis': 834,\n",
       " 'beginning': 835,\n",
       " 'build': 836,\n",
       " 'decided': 837,\n",
       " 'term': 838,\n",
       " 'tickets': 839,\n",
       " 'choose': 840,\n",
       " 'murdering': 841,\n",
       " 'fascist': 842,\n",
       " 'jokes': 843,\n",
       " 'actions': 844,\n",
       " 'mt': 845,\n",
       " 'star': 846,\n",
       " 'fitness': 847,\n",
       " 'relax': 848,\n",
       " 'woh': 849,\n",
       " 'months': 850,\n",
       " 'illegal': 851,\n",
       " 'newswithed': 852,\n",
       " 'move': 853,\n",
       " 'rejected': 854,\n",
       " 'knows': 855,\n",
       " 'xxx': 856,\n",
       " 'football': 857,\n",
       " 'pizza': 858,\n",
       " 'hood': 859,\n",
       " 'apaheid': 860,\n",
       " 'trumps': 861,\n",
       " 'stories': 862,\n",
       " 'gave': 863,\n",
       " 'lady': 864,\n",
       " 'useful': 865,\n",
       " 'mark': 866,\n",
       " 'donkey': 867,\n",
       " 'scum': 868,\n",
       " 'treason': 869,\n",
       " 'teamsuperjunior': 870,\n",
       " 'public': 871,\n",
       " 'gym': 872,\n",
       " 'met': 873,\n",
       " 'action': 874,\n",
       " 'trip': 875,\n",
       " 'case': 876,\n",
       " 'market': 877,\n",
       " 'pig': 878,\n",
       " 'msnbc': 879,\n",
       " 'putinspuppet': 880,\n",
       " 'da': 881,\n",
       " 'folx': 882,\n",
       " 'favorite': 883,\n",
       " 'eyes': 884,\n",
       " 'sweet': 885,\n",
       " 'sunshine': 886,\n",
       " 'vacation': 887,\n",
       " 'florida': 888,\n",
       " 'palestinian': 889,\n",
       " 'semitic': 890,\n",
       " 'late': 891,\n",
       " 'landholding': 892,\n",
       " 'claim': 893,\n",
       " 'knew': 894,\n",
       " 'biden': 895,\n",
       " 'smh': 896,\n",
       " 'response': 897,\n",
       " 'yesterday': 898,\n",
       " 'idiot': 899,\n",
       " 'deletetweets': 900,\n",
       " 'staff': 901,\n",
       " 'msg': 902,\n",
       " 'revolution': 903,\n",
       " 'block': 904,\n",
       " 'keeps': 905,\n",
       " 'welcome': 906,\n",
       " 'gift': 907,\n",
       " 'snowflakes': 908,\n",
       " 'nazi': 909,\n",
       " 'chick': 910,\n",
       " 'drink': 911,\n",
       " 'movement': 912,\n",
       " 'notmypres': 913,\n",
       " 'three': 914,\n",
       " 'issue': 915,\n",
       " 'atlanta': 916,\n",
       " 'destroy': 917,\n",
       " 'nasty': 918,\n",
       " 'celebrate': 919,\n",
       " 'leaving': 920,\n",
       " 'saw': 921,\n",
       " 'immigrants': 922,\n",
       " 'despite': 923,\n",
       " 'projection': 924,\n",
       " 'anti': 925,\n",
       " 'povey': 926,\n",
       " 'pathetic': 927,\n",
       " 'unless': 928,\n",
       " 'canada': 929,\n",
       " 'prejudice': 930,\n",
       " 'policies': 931,\n",
       " 'happening': 932,\n",
       " 'second': 933,\n",
       " 'main': 934,\n",
       " 'high': 935,\n",
       " 'stas': 936,\n",
       " 'rights': 937,\n",
       " 'app': 938,\n",
       " 'york': 939,\n",
       " 'needed': 940,\n",
       " 'customer': 941,\n",
       " 'zionism': 942,\n",
       " 'teen': 943,\n",
       " '70': 944,\n",
       " 'wednesday': 945,\n",
       " 'ag': 946,\n",
       " 'folks': 947,\n",
       " 'save': 948,\n",
       " 'especially': 949,\n",
       " 'tuesday': 950,\n",
       " 'loser': 951,\n",
       " 'afternoon': 952,\n",
       " 'using': 953,\n",
       " 'common': 954,\n",
       " 'followers': 955,\n",
       " 'learned': 956,\n",
       " 'coal': 957,\n",
       " 'ash': 958,\n",
       " 'jew': 959,\n",
       " 'add': 960,\n",
       " 'palestine': 961,\n",
       " 'chief': 962,\n",
       " 'mtv': 963,\n",
       " 'whitepeople': 964,\n",
       " 'feelings': 965,\n",
       " 'hasnt': 966,\n",
       " 'flowers': 967,\n",
       " 'trumpusa': 968,\n",
       " 'colonialism': 969,\n",
       " 'notice': 970,\n",
       " 'gun': 971,\n",
       " 'empty': 972,\n",
       " 'due': 973,\n",
       " 'roots': 974,\n",
       " 'voted': 975,\n",
       " 'cake': 976,\n",
       " 'clean': 977,\n",
       " 'prayfororlando': 978,\n",
       " 'dark': 979,\n",
       " 'killed': 980,\n",
       " 'facebook': 981,\n",
       " 'language': 982,\n",
       " 'greatness': 983,\n",
       " 'quick': 984,\n",
       " 'pigs': 985,\n",
       " '30': 986,\n",
       " 'wtf2016': 987,\n",
       " 'silent': 988,\n",
       " 'walk': 989,\n",
       " 'hand': 990,\n",
       " 'guess': 991,\n",
       " 'happens': 992,\n",
       " 'laugh': 993,\n",
       " 'indigenous': 994,\n",
       " 'ask': 995,\n",
       " 'havent': 996,\n",
       " 'final': 997,\n",
       " 'rather': 998,\n",
       " 'top': 999,\n",
       " 'idea': 1000,\n",
       " ...}"
      ]
     },
     "execution_count": 104,
     "metadata": {},
     "output_type": "execute_result"
    }
   ],
   "source": [
    "vocabulary = {v: k for k, v in dict(enumerate(tokens_filtered_top, 1)).items()}\n",
    "vocabulary"
   ]
  },
  {
   "cell_type": "code",
   "execution_count": 105,
   "metadata": {
    "executionInfo": {
     "elapsed": 220,
     "status": "ok",
     "timestamp": 1657304250727,
     "user": {
      "displayName": "Mariia Korliakova",
      "userId": "14165537686129864864"
     },
     "user_tz": -180
    },
    "id": "5OULZgvkJzpj"
   },
   "outputs": [],
   "source": [
    "import numpy as np\n",
    "\n",
    "\n",
    "def text_to_sequence(text, maxlen):\n",
    "    result = []\n",
    "    tokens = word_tokenize(text.lower())\n",
    "    tokens_filtered = [word for word in tokens if word.isalnum()]\n",
    "    for word in tokens_filtered:\n",
    "        if word in vocabulary:\n",
    "            result.append(vocabulary[word])\n",
    "\n",
    "    padding = [0] * (maxlen-len(result))\n",
    "    return result[-maxlen:] + padding"
   ]
  },
  {
   "cell_type": "code",
   "execution_count": 106,
   "metadata": {
    "colab": {
     "base_uri": "https://localhost:8080/"
    },
    "executionInfo": {
     "elapsed": 20143,
     "status": "ok",
     "timestamp": 1657304272443,
     "user": {
      "displayName": "Mariia Korliakova",
      "userId": "14165537686129864864"
     },
     "user_tz": -180
    },
    "id": "pqHlf5nNJ2hl",
    "outputId": "d20b9717-d2d7-4782-a1b2-08e02d9cb60e"
   },
   "outputs": [
    {
     "name": "stdout",
     "output_type": "stream",
     "text": [
      "CPU times: user 3.62 s, sys: 0 ns, total: 3.62 s\n",
      "Wall time: 3.62 s\n"
     ]
    }
   ],
   "source": [
    "%%time\n",
    "x_train = np.asarray([text_to_sequence(text, max_len) for text in df_train[\"tweet\"]])\n",
    "x_val = np.asarray([text_to_sequence(text, max_len) for text in df_val[\"tweet\"]])"
   ]
  },
  {
   "cell_type": "code",
   "execution_count": 107,
   "metadata": {
    "colab": {
     "base_uri": "https://localhost:8080/"
    },
    "executionInfo": {
     "elapsed": 226,
     "status": "ok",
     "timestamp": 1657304277026,
     "user": {
      "displayName": "Mariia Korliakova",
      "userId": "14165537686129864864"
     },
     "user_tz": -180
    },
    "id": "lI4NUg_TJ6NK",
    "outputId": "5f65b5da-f288-4bb7-ac1b-363cabda1ea5"
   },
   "outputs": [
    {
     "data": {
      "text/plain": [
       "(40805, 30)"
      ]
     },
     "execution_count": 107,
     "metadata": {},
     "output_type": "execute_result"
    }
   ],
   "source": [
    "x_train.shape"
   ]
  },
  {
   "cell_type": "code",
   "execution_count": 108,
   "metadata": {
    "colab": {
     "base_uri": "https://localhost:8080/",
     "height": 35
    },
    "executionInfo": {
     "elapsed": 221,
     "status": "ok",
     "timestamp": 1657304389426,
     "user": {
      "displayName": "Mariia Korliakova",
      "userId": "14165537686129864864"
     },
     "user_tz": -180
    },
    "id": "0I6B2MHb81pF",
    "outputId": "723a4ff9-b6d2-418a-a58b-7ab5ce0de677"
   },
   "outputs": [
    {
     "data": {
      "text/plain": [
       "'best day ever'"
      ]
     },
     "execution_count": 108,
     "metadata": {},
     "output_type": "execute_result"
    }
   ],
   "source": [
    "df_train['tweet'].iloc[1]"
   ]
  },
  {
   "cell_type": "code",
   "execution_count": 109,
   "metadata": {
    "colab": {
     "base_uri": "https://localhost:8080/"
    },
    "executionInfo": {
     "elapsed": 319,
     "status": "ok",
     "timestamp": 1657304397469,
     "user": {
      "displayName": "Mariia Korliakova",
      "userId": "14165537686129864864"
     },
     "user_tz": -180
    },
    "id": "9QlLvXd9KDf3",
    "outputId": "b298a0a4-91bf-4ac3-9e0c-f3e7fac746dd"
   },
   "outputs": [
    {
     "data": {
      "text/plain": [
       "array([ 56,   7, 100,   0,   0,   0,   0,   0,   0,   0,   0,   0,   0,\n",
       "         0,   0,   0,   0,   0,   0,   0,   0,   0,   0,   0,   0,   0,\n",
       "         0,   0,   0,   0])"
      ]
     },
     "execution_count": 109,
     "metadata": {},
     "output_type": "execute_result"
    }
   ],
   "source": [
    "x_train[1]"
   ]
  },
  {
   "cell_type": "code",
   "execution_count": 110,
   "metadata": {},
   "outputs": [
    {
     "name": "stdout",
     "output_type": "stream",
     "text": [
      "num_words before: 37085\n",
      "num_words after: 14201\n"
     ]
    }
   ],
   "source": [
    "text_corpus_train = df_train['tweet'].values\n",
    "text_corpus_valid = df_val['tweet'].values\n",
    "\n",
    "counts = Counter()\n",
    "for sequence in text_corpus_train:\n",
    "    counts.update(sequence.split())\n",
    "\n",
    "print(\"num_words before:\",len(counts.keys()))\n",
    "for word in list(counts):\n",
    "    if counts[word] < 2:\n",
    "        del counts[word]\n",
    "print(\"num_words after:\",len(counts.keys()))\n",
    "    \n",
    "vocab2index = {\"\":0, \"UNK\":1}\n",
    "words = [\"\", \"UNK\"]\n",
    "for word in counts:\n",
    "    vocab2index[word] = len(words)\n",
    "    words.append(word)"
   ]
  },
  {
   "cell_type": "code",
   "execution_count": 111,
   "metadata": {},
   "outputs": [
    {
     "data": {
      "text/plain": [
       "24"
      ]
     },
     "execution_count": 111,
     "metadata": {},
     "output_type": "execute_result"
    }
   ],
   "source": [
    "max([len(i.split()) for i in text_corpus_train])"
   ]
  },
  {
   "cell_type": "code",
   "execution_count": 112,
   "metadata": {
    "executionInfo": {
     "elapsed": 223,
     "status": "ok",
     "timestamp": 1657305140473,
     "user": {
      "displayName": "Mariia Korliakova",
      "userId": "14165537686129864864"
     },
     "user_tz": -180
    },
    "id": "Ynw9XOZNK4Wp"
   },
   "outputs": [],
   "source": [
    "class GRUFixedLen(nn.Module) :\n",
    "    def __init__(self, vocab_size, embedding_dim=64, hidden_dim=32, use_last=True):\n",
    "        super().__init__()\n",
    "        self.use_last = use_last\n",
    "        self.embeddings = nn.Embedding(vocab_size, embedding_dim, padding_idx=0)\n",
    "        self.gru = nn.GRU(embedding_dim, hidden_dim, num_layers=2, batch_first=True)\n",
    "        self.linear = nn.Linear(hidden_dim, 1)\n",
    "        self.dropout = nn.Dropout(0.5)\n",
    "               \n",
    "    def forward(self, x):\n",
    "        x = self.embeddings(x)\n",
    "        x = self.dropout(x)\n",
    "        gru_out, ht = self.gru(x)\n",
    "       \n",
    "        if self.use_last:\n",
    "            last_tensor = gru_out[:,-1,:]\n",
    "        else:\n",
    "            # использовать среднее значение\n",
    "            last_tensor = torch.mean(gru_out[:,:], dim=1)\n",
    "    \n",
    "        out = self.linear(last_tensor)\n",
    "        return torch.sigmoid(out)"
   ]
  },
  {
   "cell_type": "code",
   "execution_count": 113,
   "metadata": {
    "executionInfo": {
     "elapsed": 228,
     "status": "ok",
     "timestamp": 1657305142838,
     "user": {
      "displayName": "Mariia Korliakova",
      "userId": "14165537686129864864"
     },
     "user_tz": -180
    },
    "id": "PhwK7yLAK8b0"
   },
   "outputs": [],
   "source": [
    "from torch.utils.data import DataLoader, Dataset\n",
    "\n",
    "\n",
    "class DataWrapper(Dataset):\n",
    "    def __init__(self, data, target, transform=None):\n",
    "        self.data = torch.from_numpy(data).long()\n",
    "        self.target = torch.from_numpy(target).long()\n",
    "        self.transform = transform\n",
    "        \n",
    "    def __getitem__(self, index):\n",
    "        x = self.data[index]\n",
    "        y = self.target[index]\n",
    "        \n",
    "        if self.transform:\n",
    "            x = self.transform(x)\n",
    "            \n",
    "        return x, y\n",
    "    \n",
    "    def __len__(self):\n",
    "        return len(self.data)"
   ]
  },
  {
   "cell_type": "code",
   "execution_count": 114,
   "metadata": {
    "executionInfo": {
     "elapsed": 238,
     "status": "ok",
     "timestamp": 1657305183097,
     "user": {
      "displayName": "Mariia Korliakova",
      "userId": "14165537686129864864"
     },
     "user_tz": -180
    },
    "id": "Qq0DK08tHKHf"
   },
   "outputs": [],
   "source": [
    "train_dataset = DataWrapper(x_train, df_train['label'].values)\n",
    "train_loader = DataLoader(train_dataset, batch_size=batch_size, shuffle=True)\n",
    "\n",
    "val_dataset = DataWrapper(x_val, df_val['label'].values)\n",
    "val_loader = DataLoader(val_dataset, batch_size=8, shuffle=True)"
   ]
  },
  {
   "cell_type": "code",
   "execution_count": 115,
   "metadata": {
    "colab": {
     "base_uri": "https://localhost:8080/"
    },
    "executionInfo": {
     "elapsed": 213,
     "status": "ok",
     "timestamp": 1657305207804,
     "user": {
      "displayName": "Mariia Korliakova",
      "userId": "14165537686129864864"
     },
     "user_tz": -180
    },
    "id": "J6v8MCvfPqJN",
    "outputId": "b3895d97-b37b-4384-a9af-f752a9425e47"
   },
   "outputs": [
    {
     "name": "stdout",
     "output_type": "stream",
     "text": [
      "torch.Size([512, 30])\n",
      "torch.Size([512])\n",
      "tensor(1)\n"
     ]
    }
   ],
   "source": [
    "for x, l in train_loader:\n",
    "    print(x.shape)\n",
    "    print(l.shape)\n",
    "    print(l[0])\n",
    "    break"
   ]
  },
  {
   "cell_type": "code",
   "execution_count": 116,
   "metadata": {
    "colab": {
     "base_uri": "https://localhost:8080/",
     "height": 35
    },
    "executionInfo": {
     "elapsed": 234,
     "status": "ok",
     "timestamp": 1657305277204,
     "user": {
      "displayName": "Mariia Korliakova",
      "userId": "14165537686129864864"
     },
     "user_tz": -180
    },
    "id": "F-3ExwIMG8BB",
    "outputId": "d1f8b34d-9108-4a05-c01f-d5ee1e1e36eb"
   },
   "outputs": [],
   "source": [
    "model = GRUFixedLen(len(vocab2index))\n",
    "\n",
    "optimizer = torch.optim.Adam(model.parameters(), lr=0.005)\n",
    "criterion = nn.BCELoss()"
   ]
  },
  {
   "cell_type": "code",
   "execution_count": 117,
   "metadata": {},
   "outputs": [
    {
     "data": {
      "text/plain": [
       "'cpu'"
      ]
     },
     "execution_count": 117,
     "metadata": {},
     "output_type": "execute_result"
    }
   ],
   "source": [
    "device = 'cuda' if torch.cuda.is_available() else 'cpu'\n",
    "device"
   ]
  },
  {
   "cell_type": "code",
   "execution_count": 118,
   "metadata": {
    "colab": {
     "base_uri": "https://localhost:8080/"
    },
    "executionInfo": {
     "elapsed": 245,
     "status": "ok",
     "timestamp": 1657305293673,
     "user": {
      "displayName": "Mariia Korliakova",
      "userId": "14165537686129864864"
     },
     "user_tz": -180
    },
    "id": "ayB6rEFkHB1D",
    "outputId": "1a57c3e2-3b6f-4a7e-d428-51cde605b769"
   },
   "outputs": [
    {
     "name": "stdout",
     "output_type": "stream",
     "text": [
      "GRUFixedLen(\n",
      "  (embeddings): Embedding(14203, 64, padding_idx=0)\n",
      "  (gru): GRU(64, 32, num_layers=2, batch_first=True)\n",
      "  (linear): Linear(in_features=32, out_features=1, bias=True)\n",
      "  (dropout): Dropout(p=0.5, inplace=False)\n",
      ")\n",
      "Parameters: 924769\n"
     ]
    }
   ],
   "source": [
    "print(model)\n",
    "print(\"Parameters:\", sum([param.nelement() for param in model.parameters()]))"
   ]
  },
  {
   "cell_type": "code",
   "execution_count": 119,
   "metadata": {
    "colab": {
     "base_uri": "https://localhost:8080/"
    },
    "executionInfo": {
     "elapsed": 39463,
     "status": "ok",
     "timestamp": 1657305361107,
     "user": {
      "displayName": "Mariia Korliakova",
      "userId": "14165537686129864864"
     },
     "user_tz": -180
    },
    "id": "ee9kfUQaCXpl",
    "outputId": "c82b8205-c48d-4c5d-9d42-25d4a65b3279"
   },
   "outputs": [
    {
     "name": "stdout",
     "output_type": "stream",
     "text": [
      "Epoch [1/10]. Step [80/80]. Loss: 0.353. Acc: 0.691. Test loss: 0.210. Test acc: 0.805\n",
      "Epoch [2/10]. Step [80/80]. Loss: 0.287. Acc: 0.877. Test loss: 0.673. Test acc: 0.830\n",
      "Epoch [3/10]. Step [80/80]. Loss: 0.257. Acc: 0.908. Test loss: 0.057. Test acc: 0.847\n",
      "Epoch [4/10]. Step [80/80]. Loss: 0.200. Acc: 0.922. Test loss: 0.011. Test acc: 0.835\n",
      "Epoch [5/10]. Step [80/80]. Loss: 0.208. Acc: 0.929. Test loss: 0.591. Test acc: 0.828\n",
      "Epoch [6/10]. Step [80/80]. Loss: 0.145. Acc: 0.937. Test loss: 0.002. Test acc: 0.833\n",
      "Epoch [7/10]. Step [80/80]. Loss: 0.152. Acc: 0.943. Test loss: 0.009. Test acc: 0.843\n",
      "Epoch [8/10]. Step [80/80]. Loss: 0.116. Acc: 0.948. Test loss: 0.052. Test acc: 0.826\n",
      "Epoch [9/10]. Step [80/80]. Loss: 0.094. Acc: 0.952. Test loss: 0.002. Test acc: 0.836\n",
      "Epoch [10/10]. Step [80/80]. Loss: 0.115. Acc: 0.953. Test loss: 1.256. Test acc: 0.837\n",
      "Training is finished!\n"
     ]
    }
   ],
   "source": [
    "model = model.to(device)\n",
    "model.train()\n",
    "th = 0.5\n",
    "\n",
    "train_loss_history = []\n",
    "test_loss_history = []\n",
    "\n",
    "\n",
    "for epoch in range(epochs):  \n",
    "    running_items, running_right = 0.0, 0.0\n",
    "    for i, data in enumerate(train_loader, 0):\n",
    "        inputs, labels = data[0].to(device), data[1].to(device)\n",
    "        \n",
    "        # обнуляем градиент\n",
    "        optimizer.zero_grad()\n",
    "        outputs = model(inputs)\n",
    "        \n",
    "        loss = criterion(outputs, labels.float().view(-1, 1))\n",
    "        loss.backward()\n",
    "        optimizer.step()\n",
    "\n",
    "        # подсчет ошибки на обучении\n",
    "        loss = loss.item()\n",
    "        running_items += len(labels)\n",
    "        # подсчет метрики на обучении\n",
    "        pred_labels = torch.squeeze((outputs > th).int())\n",
    "        running_right += (labels == pred_labels).sum()\n",
    "        \n",
    "    # выводим статистику о процессе обучения\n",
    "    model.eval()\n",
    "    \n",
    "    print(f'Epoch [{epoch + 1}/{epochs}]. ' \\\n",
    "            f'Step [{i + 1}/{len(train_loader)}]. ' \\\n",
    "            f'Loss: {loss:.3f}. ' \\\n",
    "            f'Acc: {running_right / running_items:.3f}', end='. ')\n",
    "    running_loss, running_items, running_right = 0.0, 0.0, 0.0\n",
    "    train_loss_history.append(loss)\n",
    "\n",
    "        # выводим статистику на тестовых данных\n",
    "    test_running_right, test_running_total, test_loss = 0.0, 0.0, 0.0\n",
    "    for j, data in enumerate(val_loader):\n",
    "        test_labels = data[1].to(device)\n",
    "        test_outputs = model(data[0].to(device))\n",
    "        \n",
    "        # подсчет ошибки на тесте\n",
    "        test_loss = criterion(test_outputs, test_labels.float().view(-1, 1))\n",
    "        # подсчет метрики на тесте\n",
    "        test_running_total += len(data[1])\n",
    "        pred_test_labels = torch.squeeze((test_outputs > th).int())\n",
    "        test_running_right += (test_labels == pred_test_labels).sum()\n",
    "    \n",
    "    test_loss_history.append(test_loss.item())\n",
    "    print(f'Test loss: {test_loss:.3f}. Test acc: {test_running_right / test_running_total:.3f}')\n",
    "    \n",
    "    model.train()\n",
    "        \n",
    "print('Training is finished!')"
   ]
  },
  {
   "cell_type": "code",
   "execution_count": 120,
   "metadata": {
    "colab": {
     "base_uri": "https://localhost:8080/",
     "height": 295
    },
    "executionInfo": {
     "elapsed": 284,
     "status": "ok",
     "timestamp": 1657305440678,
     "user": {
      "displayName": "Mariia Korliakova",
      "userId": "14165537686129864864"
     },
     "user_tz": -180
    },
    "id": "jRFEu1X4jpLU",
    "outputId": "62e46faa-d206-465e-ee00-d7a76df0c32f"
   },
   "outputs": [
    {
     "data": {
      "image/png": "[encoded data removed]",
      "text/plain": [
       "<Figure size 432x288 with 1 Axes>"
      ]
     },
     "metadata": {
      "needs_background": "light"
     },
     "output_type": "display_data"
    }
   ],
   "source": [
    "import matplotlib.pyplot as plt\n",
    "\n",
    "plt.title('Loss history')\n",
    "plt.grid(True)\n",
    "plt.ylabel('Loss')\n",
    "plt.xlabel('Epoch')\n",
    "plt.plot(train_loss_history, label='train')\n",
    "plt.plot(test_loss_history, label='test')\n",
    "plt.legend();"
   ]
  },
  {
   "cell_type": "code",
   "execution_count": 121,
   "metadata": {},
   "outputs": [
    {
     "data": {
      "text/plain": [
       "torch.Size([3, 1])"
      ]
     },
     "execution_count": 121,
     "metadata": {},
     "output_type": "execute_result"
    }
   ],
   "source": [
    "test_outputs.shape"
   ]
  },
  {
   "cell_type": "code",
   "execution_count": 122,
   "metadata": {},
   "outputs": [
    {
     "data": {
      "text/plain": [
       "(tensor([[1.],\n",
       "         [1.],\n",
       "         [0.]], grad_fn=<RoundBackward0>),\n",
       " tensor([1, 0, 1]))"
      ]
     },
     "execution_count": 122,
     "metadata": {},
     "output_type": "execute_result"
    }
   ],
   "source": [
    "test_outputs.round(), test_labels"
   ]
  },
  {
   "cell_type": "markdown",
   "metadata": {},
   "source": [
    "Вывод: модель хорошо обучилась, accuracy на трейне 0.95, на тесте 0.84."
   ]
  },
  {
   "cell_type": "code",
   "execution_count": null,
   "metadata": {},
   "outputs": [],
   "source": []
  }
 ],
 "metadata": {
  "accelerator": "GPU",
  "colab": {
   "collapsed_sections": [],
   "name": "web_6.ipynb",
   "provenance": [
    {
     "file_id": "1WgwQ-cYhMmkeXpxrr3sLU4DJEcbcikkH",
     "timestamp": 1657278544369
    }
   ]
  },
  "kernelspec": {
   "display_name": "Python 3 (ipykernel)",
   "language": "python",
   "name": "python3"
  },
  "language_info": {
   "codemirror_mode": {
    "name": "ipython",
    "version": 3
   },
   "file_extension": ".py",
   "mimetype": "text/x-python",
   "name": "python",
   "nbconvert_exporter": "python",
   "pygments_lexer": "ipython3",
   "version": "3.9.12"
  }
 },
 "nbformat": 4,
 "nbformat_minor": 1
}
