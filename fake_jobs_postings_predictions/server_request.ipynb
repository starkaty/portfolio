{
 "cells": [
  {
   "cell_type": "markdown",
   "metadata": {
    "id": "mCvG3HpmbRKo"
   },
   "source": [
    "Строим запрос к нашему сервису"
   ]
  },
  {
   "cell_type": "code",
   "execution_count": 71,
   "metadata": {
    "id": "Cxm28pii80xp"
   },
   "outputs": [],
   "source": [
    "import requests\n",
    "\n",
    "import urllib.request\n",
    "import json "
   ]
  },
  {
   "cell_type": "code",
   "execution_count": 72,
   "metadata": {
    "id": "EWP3BCM6OBXv"
   },
   "outputs": [],
   "source": [
    "# Пример данных\n",
    "data = ( \n",
    "    \"Stylect is a dynamic startup that helps helps women discover and buy shoes. We’re a small team based in London that has previously worked at Google, Techstars, Pixelmator and Rocket Internet.We place a high premium on simplicity no matter what we’re working on (i.e. design, programming, marketing). We’re also a team that ships fast. We built version 1 of our app in a week, the next release (built in a month) was featured in the Apple Appstore Italy as a best new fashion app. Fast release cycles are challenging, but also very fun - which is why we love them.\\xa0As we’ve grown, the projects that we’re working on have grown both in scale and in technical complexity. \\xa0Stylect is looking for someone who can help us improve our backend which gathers product data; analyses/categorizes it; and shows it to thousands of users daily. Each step in the process has unique challenges that demands a strong technical background.\",\n",
    "    \"ustwo offers you the opportunity to be yourself, whilst delivering the best work on the planet for some of the biggest and most innovative brands. A culture thriving on collaboration underpins what is an amazing work smart/ live well environment.We genuinely care about the work that we deliver and the people who help make it all possible. We only invest in projects, people and practices that we believe in, to ensure we remain excited about every opportunity.\",\n",
    "    \"We are negotiable on salary and there is the potential for equity for the right candidate.\",\n",
    "    \"We don’t care where you studied or what your GPA in college was. But we do want someone who is:Strong with Python and No SQL DatabasesEntrepreneurial--independent and can solve problems without being micro-managedCan brainstorm multiple approaches to solving problems instead of being attached to just one way of doing thingsIcing on the cakePrevious experience with Google Appengine’s Datastore (NDB)Previous experience at e-commerce and app-based startupsFull Stack Development Experience from the Frontend (either with apps or html) all the way to the linux server.An understanding of algorithms and experience with libraries to implement themExperience with machine learning and natural language processing\"\n",
    ")"
   ]
  },
  {
   "cell_type": "code",
   "execution_count": 73,
   "metadata": {
    "id": "J_xtPIQt8toy"
   },
   "outputs": [],
   "source": [
    "# формируем запрос\n",
    "def send_json(x):\n",
    "    description, company_profile, benefits, requirements = x\n",
    "    #print(description, company_profile, benefits)\n",
    "    body = {\n",
    "        'description': description, \n",
    "        'company_profile': company_profile,\n",
    "        'benefits': benefits,\n",
    "        'requirements': requirements\n",
    "        }\n",
    "    #myurl = 'http://948a-35-230-58-89.ngrok.io/' + '/predict'\n",
    "    myurl = 'http://127.0.0.1:8082/' + '/predict'\n",
    "    headers = {'content-type': 'application/json; charset=utf-8'}\n",
    "    response = requests.post(myurl, json=body, headers=headers)\n",
    "    return response.json()['predictions']"
   ]
  },
  {
   "cell_type": "code",
   "execution_count": 74,
   "metadata": {
    "colab": {
     "base_uri": "https://localhost:8080/"
    },
    "id": "OehA49hRN_pU",
    "outputId": "9aad034b-84c6-44c0-dfc2-1abff5f42ffe"
   },
   "outputs": [
    {
     "name": "stdout",
     "output_type": "stream",
     "text": [
      "предсказание 0.01\n"
     ]
    }
   ],
   "source": [
    "# обращение к серверу с запросом из одного набора (его построили руками выше - data)\n",
    "response = send_json(data)\n",
    "print('предсказание', response)"
   ]
  },
  {
   "cell_type": "markdown",
   "metadata": {
    "id": "0ap3kT0Ndwy8"
   },
   "source": [
    "Сделаем обработку массы запросов:\n",
    "\n",
    "1. загрузим данные X_test"
   ]
  },
  {
   "cell_type": "code",
   "execution_count": 75,
   "metadata": {
    "id": "86un8JyLFzIy"
   },
   "outputs": [],
   "source": [
    "import pandas as pd\n",
    "from sklearn.metrics import roc_auc_score, roc_curve, precision_recall_curve\n",
    "from sklearn.metrics import f1_score\n",
    "from urllib import request, parse\n",
    "\n",
    "\n",
    "X_test = pd.read_csv(\"X_test.csv\")\n",
    "y_test = pd.read_csv(\"y_test.csv\")\n",
    "\n",
    "X_test.fillna('', inplace=True)"
   ]
  },
  {
   "cell_type": "code",
   "execution_count": 76,
   "metadata": {
    "colab": {
     "base_uri": "https://localhost:8080/",
     "height": 572
    },
    "id": "5T0e7gnRdmZ8",
    "outputId": "f614bcbc-5cba-45e5-ea66-768191775986"
   },
   "outputs": [
    {
     "data": {
      "text/html": [
       "<div>\n",
       "<style scoped>\n",
       "    .dataframe tbody tr th:only-of-type {\n",
       "        vertical-align: middle;\n",
       "    }\n",
       "\n",
       "    .dataframe tbody tr th {\n",
       "        vertical-align: top;\n",
       "    }\n",
       "\n",
       "    .dataframe thead th {\n",
       "        text-align: right;\n",
       "    }\n",
       "</style>\n",
       "<table border=\"1\" class=\"dataframe\">\n",
       "  <thead>\n",
       "    <tr style=\"text-align: right;\">\n",
       "      <th></th>\n",
       "      <th>description</th>\n",
       "      <th>company_profile</th>\n",
       "      <th>benefits</th>\n",
       "      <th>requirements</th>\n",
       "    </tr>\n",
       "  </thead>\n",
       "  <tbody>\n",
       "    <tr>\n",
       "      <th>0</th>\n",
       "      <td>Stylect is a dynamic startup that helps helps ...</td>\n",
       "      <td></td>\n",
       "      <td>We are negotiable on salary and there is the p...</td>\n",
       "      <td>We don’t care where you studied or what your G...</td>\n",
       "    </tr>\n",
       "    <tr>\n",
       "      <th>1</th>\n",
       "      <td>General Summary: Achieves maximum sales profit...</td>\n",
       "      <td></td>\n",
       "      <td>Great Health and DentalFast Advancement Opport...</td>\n",
       "      <td></td>\n",
       "    </tr>\n",
       "    <tr>\n",
       "      <th>2</th>\n",
       "      <td>At ustwo™ you get to be yourself, whilst deliv...</td>\n",
       "      <td>ustwo offers you the opportunity to be yoursel...</td>\n",
       "      <td></td>\n",
       "      <td>Skills• Experience interfacing directly with c...</td>\n",
       "    </tr>\n",
       "    <tr>\n",
       "      <th>3</th>\n",
       "      <td>About EDITDEDITD runs the world's biggest appa...</td>\n",
       "      <td>We build software for fashion retailers, to he...</td>\n",
       "      <td></td>\n",
       "      <td>Required Skills / Experience:Ability to analys...</td>\n",
       "    </tr>\n",
       "    <tr>\n",
       "      <th>4</th>\n",
       "      <td>As a Web Engineer at Runscope you'll be respon...</td>\n",
       "      <td>Runscope is building tools for developers work...</td>\n",
       "      <td>Be a part of an experienced team who have work...</td>\n",
       "      <td>Extensive front-end web experience (HTML/CSS/J...</td>\n",
       "    </tr>\n",
       "    <tr>\n",
       "      <th>...</th>\n",
       "      <td>...</td>\n",
       "      <td>...</td>\n",
       "      <td>...</td>\n",
       "      <td>...</td>\n",
       "    </tr>\n",
       "    <tr>\n",
       "      <th>5896</th>\n",
       "      <td>Fabrication and Printing Company in Long Islan...</td>\n",
       "      <td></td>\n",
       "      <td>Excellent opportunity to learn exci...</td>\n",
       "      <td>-        You must be proficient in Photoshop a...</td>\n",
       "    </tr>\n",
       "    <tr>\n",
       "      <th>5897</th>\n",
       "      <td>Serve as the primary lead and project manager ...</td>\n",
       "      <td>Palerra, Inc. designed LORIC™ to protect an en...</td>\n",
       "      <td>What's In It For You?Competitive compensation ...</td>\n",
       "      <td>5-6 years running, managing and operating mark...</td>\n",
       "    </tr>\n",
       "    <tr>\n",
       "      <th>5898</th>\n",
       "      <td>Jiffy, a world wide leader in mobile applicati...</td>\n",
       "      <td>Jiffy Worldwide is the parent company of the J...</td>\n",
       "      <td></td>\n",
       "      <td>iOS Developer should be very familiar and expe...</td>\n",
       "    </tr>\n",
       "    <tr>\n",
       "      <th>5899</th>\n",
       "      <td>What our client needs…A Medical Director who i...</td>\n",
       "      <td>Human capital is usually the biggest asset and...</td>\n",
       "      <td></td>\n",
       "      <td>What you need to have….Doctor of Medicine (MD)...</td>\n",
       "    </tr>\n",
       "    <tr>\n",
       "      <th>5900</th>\n",
       "      <td>We seek a Paris-based Back-end Developer with ...</td>\n",
       "      <td>AREA 17 is an interactive agency. We take an i...</td>\n",
       "      <td>MutuelleTransportation Stipend25 vacation days...</td>\n",
       "      <td>Required Skills:2-3 years of experience min. d...</td>\n",
       "    </tr>\n",
       "  </tbody>\n",
       "</table>\n",
       "<p>5901 rows × 4 columns</p>\n",
       "</div>"
      ],
      "text/plain": [
       "                                            description  \\\n",
       "0     Stylect is a dynamic startup that helps helps ...   \n",
       "1     General Summary: Achieves maximum sales profit...   \n",
       "2     At ustwo™ you get to be yourself, whilst deliv...   \n",
       "3     About EDITDEDITD runs the world's biggest appa...   \n",
       "4     As a Web Engineer at Runscope you'll be respon...   \n",
       "...                                                 ...   \n",
       "5896  Fabrication and Printing Company in Long Islan...   \n",
       "5897  Serve as the primary lead and project manager ...   \n",
       "5898  Jiffy, a world wide leader in mobile applicati...   \n",
       "5899  What our client needs…A Medical Director who i...   \n",
       "5900  We seek a Paris-based Back-end Developer with ...   \n",
       "\n",
       "                                        company_profile  \\\n",
       "0                                                         \n",
       "1                                                         \n",
       "2     ustwo offers you the opportunity to be yoursel...   \n",
       "3     We build software for fashion retailers, to he...   \n",
       "4     Runscope is building tools for developers work...   \n",
       "...                                                 ...   \n",
       "5896                                                      \n",
       "5897  Palerra, Inc. designed LORIC™ to protect an en...   \n",
       "5898  Jiffy Worldwide is the parent company of the J...   \n",
       "5899  Human capital is usually the biggest asset and...   \n",
       "5900  AREA 17 is an interactive agency. We take an i...   \n",
       "\n",
       "                                               benefits  \\\n",
       "0     We are negotiable on salary and there is the p...   \n",
       "1     Great Health and DentalFast Advancement Opport...   \n",
       "2                                                         \n",
       "3                                                         \n",
       "4     Be a part of an experienced team who have work...   \n",
       "...                                                 ...   \n",
       "5896             Excellent opportunity to learn exci...   \n",
       "5897  What's In It For You?Competitive compensation ...   \n",
       "5898                                                      \n",
       "5899                                                      \n",
       "5900  MutuelleTransportation Stipend25 vacation days...   \n",
       "\n",
       "                                           requirements  \n",
       "0     We don’t care where you studied or what your G...  \n",
       "1                                                        \n",
       "2     Skills• Experience interfacing directly with c...  \n",
       "3     Required Skills / Experience:Ability to analys...  \n",
       "4     Extensive front-end web experience (HTML/CSS/J...  \n",
       "...                                                 ...  \n",
       "5896  -        You must be proficient in Photoshop a...  \n",
       "5897  5-6 years running, managing and operating mark...  \n",
       "5898  iOS Developer should be very familiar and expe...  \n",
       "5899  What you need to have….Doctor of Medicine (MD)...  \n",
       "5900  Required Skills:2-3 years of experience min. d...  \n",
       "\n",
       "[5901 rows x 4 columns]"
      ]
     },
     "execution_count": 76,
     "metadata": {},
     "output_type": "execute_result"
    }
   ],
   "source": [
    "X_test[['description', 'company_profile', 'benefits', 'requirements']]"
   ]
  },
  {
   "cell_type": "markdown",
   "metadata": {
    "id": "EEI1n7m4d6hl"
   },
   "source": [
    "2. Передаем запрос одиночный из наших данных и посмотрим на ответ"
   ]
  },
  {
   "cell_type": "code",
   "execution_count": 77,
   "metadata": {
    "id": "6hdMT1q39TuA"
   },
   "outputs": [],
   "source": [
    "response = send_json(X_test[['description', 'company_profile', 'benefits', 'requirements']].iloc[0,:])"
   ]
  },
  {
   "cell_type": "code",
   "execution_count": 78,
   "metadata": {
    "colab": {
     "base_uri": "https://localhost:8080/"
    },
    "id": "bfMibegjGgKq",
    "outputId": "153c79af-8e7f-45a8-b6c6-d3759163295b"
   },
   "outputs": [
    {
     "data": {
      "text/plain": [
       "0.04"
      ]
     },
     "execution_count": 78,
     "metadata": {},
     "output_type": "execute_result"
    }
   ],
   "source": [
    "response"
   ]
  },
  {
   "cell_type": "markdown",
   "metadata": {
    "id": "mPcCXiQ1eMwN"
   },
   "source": [
    "3. Сделаем N запросов и оценим время"
   ]
  },
  {
   "cell_type": "code",
   "execution_count": 86,
   "metadata": {
    "id": "B8rN18B4qCJV"
   },
   "outputs": [],
   "source": [
    "N = 500"
   ]
  },
  {
   "cell_type": "code",
   "execution_count": 87,
   "metadata": {
    "colab": {
     "base_uri": "https://localhost:8080/"
    },
    "id": "UbD-kDI7j5G_",
    "outputId": "9811d307-96f1-45df-f9c8-7e06b90f5fa0"
   },
   "outputs": [
    {
     "name": "stdout",
     "output_type": "stream",
     "text": [
      "CPU times: user 757 ms, sys: 33.8 ms, total: 791 ms\n",
      "Wall time: 7.54 s\n"
     ]
    }
   ],
   "source": [
    "%%time\n",
    "predictions = X_test[['description', 'company_profile', 'benefits', 'requirements']].iloc[:N].apply(lambda x: send_json(x), axis=1)"
   ]
  },
  {
   "cell_type": "code",
   "execution_count": 88,
   "metadata": {
    "colab": {
     "base_uri": "https://localhost:8080/"
    },
    "id": "bMtyzhLNo5b7",
    "outputId": "095696ab-64f7-4a5c-eee4-586f16cd65cb"
   },
   "outputs": [
    {
     "data": {
      "text/plain": [
       "array([0.04, 0.  , 0.  , 0.  , 0.  ])"
      ]
     },
     "execution_count": 88,
     "metadata": {},
     "output_type": "execute_result"
    }
   ],
   "source": [
    "predictions.values[:5]"
   ]
  },
  {
   "cell_type": "markdown",
   "metadata": {
    "id": "5-Emg5b1eTia"
   },
   "source": [
    "4. Посчитаем метрику"
   ]
  },
  {
   "cell_type": "code",
   "execution_count": 89,
   "metadata": {
    "colab": {
     "base_uri": "https://localhost:8080/"
    },
    "id": "PhGNR_vtNbg5",
    "outputId": "ec0212f4-dae1-4918-a54c-a16d992d5d89"
   },
   "outputs": [
    {
     "name": "stdout",
     "output_type": "stream",
     "text": [
      "Best Threshold=0.19, F-Score=0.923, Precision=1.000, Recall=0.857\n"
     ]
    }
   ],
   "source": [
    "import numpy as np\n",
    "\n",
    "precision, recall, thresholds = precision_recall_curve(y_test[:N], predictions)\n",
    "\n",
    "fscore = (2 * precision * recall) / (precision + recall)\n",
    "# locate the index of the largest f score\n",
    "ix = np.argmax(fscore)\n",
    "print(f'Best Threshold={thresholds[ix]}, F-Score={fscore[ix]:.3f}, Precision={precision[ix]:.3f}, Recall={recall[ix]:.3f}')"
   ]
  },
  {
   "cell_type": "code",
   "execution_count": 90,
   "metadata": {
    "colab": {
     "base_uri": "https://localhost:8080/"
    },
    "id": "RNQmFOfXnAky",
    "outputId": "7f2ab84a-6cfb-47c6-ec66-1d0f75ef9406"
   },
   "outputs": [
    {
     "data": {
      "text/plain": [
       "0.991698976041356"
      ]
     },
     "execution_count": 90,
     "metadata": {},
     "output_type": "execute_result"
    }
   ],
   "source": [
    "roc_auc_score(y_score=predictions.values, y_true=y_test.values[:N])"
   ]
  },
  {
   "cell_type": "code",
   "execution_count": null,
   "metadata": {},
   "outputs": [],
   "source": []
  },
  {
   "cell_type": "code",
   "execution_count": null,
   "metadata": {},
   "outputs": [],
   "source": []
  }
 ],
 "metadata": {
  "colab": {
   "provenance": []
  },
  "kernelspec": {
   "display_name": "Python 3 (ipykernel)",
   "language": "python",
   "name": "python3"
  },
  "language_info": {
   "codemirror_mode": {
    "name": "ipython",
    "version": 3
   },
   "file_extension": ".py",
   "mimetype": "text/x-python",
   "name": "python",
   "nbconvert_exporter": "python",
   "pygments_lexer": "ipython3",
   "version": "3.9.12"
  }
 },
 "nbformat": 4,
 "nbformat_minor": 1
}
