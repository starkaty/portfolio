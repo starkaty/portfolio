{
 "cells": [
  {
   "cell_type": "markdown",
   "metadata": {
    "id": "qYscTwZ1S20f"
   },
   "source": [
    "# АБ-тестирование"
   ]
  },
  {
   "cell_type": "code",
   "execution_count": 1,
   "metadata": {
    "id": "0xMoPgKl-otD"
   },
   "outputs": [],
   "source": [
    "import pandas as pd\n",
    "import numpy as np"
   ]
  },
  {
   "cell_type": "markdown",
   "metadata": {
    "id": "0jNrzDzgdjNS"
   },
   "source": [
    "Задача: Взять датасет из google диска: https://drive.google.com/file/d/1MpWBFIbqu4mbiD0BBKYX6YhS-f4mN3Z_. Проверить гипотезу о том, в каком варианте теста (control/personalization) больше конверсия (converted) и значимо ли это отличие статистически."
   ]
  },
  {
   "cell_type": "code",
   "execution_count": 2,
   "metadata": {
    "colab": {
     "base_uri": "https://localhost:8080/"
    },
    "id": "ZA0LHs38UapJ",
    "outputId": "d3932512-3d1f-42aa-e350-af76d11509bf"
   },
   "outputs": [],
   "source": [
    "#!wget 'https://drive.google.com/uc?export=download&id=1MpWBFIbqu4mbiD0BBKYX6YhS-f4mN3Z_' -O data.zip"
   ]
  },
  {
   "cell_type": "code",
   "execution_count": 3,
   "metadata": {
    "colab": {
     "base_uri": "https://localhost:8080/"
    },
    "id": "OA9xfFutUhCA",
    "outputId": "c95a6f48-8671-40fd-f919-3a5128032c76"
   },
   "outputs": [],
   "source": [
    "#!unzip data.zip"
   ]
  },
  {
   "cell_type": "code",
   "execution_count": 4,
   "metadata": {
    "colab": {
     "base_uri": "https://localhost:8080/",
     "height": 424
    },
    "id": "Gp_nrpcCVIPv",
    "outputId": "d94182fe-4ab6-45db-9197-58371f2c1a21"
   },
   "outputs": [
    {
     "data": {
      "text/html": [
       "<div>\n",
       "<style scoped>\n",
       "    .dataframe tbody tr th:only-of-type {\n",
       "        vertical-align: middle;\n",
       "    }\n",
       "\n",
       "    .dataframe tbody tr th {\n",
       "        vertical-align: top;\n",
       "    }\n",
       "\n",
       "    .dataframe thead th {\n",
       "        text-align: right;\n",
       "    }\n",
       "</style>\n",
       "<table border=\"1\" class=\"dataframe\">\n",
       "  <thead>\n",
       "    <tr style=\"text-align: right;\">\n",
       "      <th></th>\n",
       "      <th>user_id</th>\n",
       "      <th>date_served</th>\n",
       "      <th>marketing_channel</th>\n",
       "      <th>variant</th>\n",
       "      <th>language_displayed</th>\n",
       "      <th>converted</th>\n",
       "    </tr>\n",
       "  </thead>\n",
       "  <tbody>\n",
       "    <tr>\n",
       "      <th>0</th>\n",
       "      <td>a1000</td>\n",
       "      <td>1/1/18</td>\n",
       "      <td>House Ads</td>\n",
       "      <td>personalization</td>\n",
       "      <td>English</td>\n",
       "      <td>True</td>\n",
       "    </tr>\n",
       "    <tr>\n",
       "      <th>1</th>\n",
       "      <td>a1001</td>\n",
       "      <td>1/1/18</td>\n",
       "      <td>House Ads</td>\n",
       "      <td>personalization</td>\n",
       "      <td>English</td>\n",
       "      <td>True</td>\n",
       "    </tr>\n",
       "    <tr>\n",
       "      <th>2</th>\n",
       "      <td>a1002</td>\n",
       "      <td>1/1/18</td>\n",
       "      <td>House Ads</td>\n",
       "      <td>personalization</td>\n",
       "      <td>English</td>\n",
       "      <td>True</td>\n",
       "    </tr>\n",
       "    <tr>\n",
       "      <th>3</th>\n",
       "      <td>a1003</td>\n",
       "      <td>1/1/18</td>\n",
       "      <td>House Ads</td>\n",
       "      <td>personalization</td>\n",
       "      <td>English</td>\n",
       "      <td>True</td>\n",
       "    </tr>\n",
       "    <tr>\n",
       "      <th>4</th>\n",
       "      <td>a1004</td>\n",
       "      <td>1/1/18</td>\n",
       "      <td>House Ads</td>\n",
       "      <td>personalization</td>\n",
       "      <td>English</td>\n",
       "      <td>True</td>\n",
       "    </tr>\n",
       "    <tr>\n",
       "      <th>...</th>\n",
       "      <td>...</td>\n",
       "      <td>...</td>\n",
       "      <td>...</td>\n",
       "      <td>...</td>\n",
       "      <td>...</td>\n",
       "      <td>...</td>\n",
       "    </tr>\n",
       "    <tr>\n",
       "      <th>10032</th>\n",
       "      <td>a11032</td>\n",
       "      <td>1/17/18</td>\n",
       "      <td>Email</td>\n",
       "      <td>control</td>\n",
       "      <td>German</td>\n",
       "      <td>True</td>\n",
       "    </tr>\n",
       "    <tr>\n",
       "      <th>10033</th>\n",
       "      <td>a11033</td>\n",
       "      <td>1/17/18</td>\n",
       "      <td>Email</td>\n",
       "      <td>control</td>\n",
       "      <td>German</td>\n",
       "      <td>True</td>\n",
       "    </tr>\n",
       "    <tr>\n",
       "      <th>10034</th>\n",
       "      <td>a11034</td>\n",
       "      <td>1/5/18</td>\n",
       "      <td>Instagram</td>\n",
       "      <td>control</td>\n",
       "      <td>German</td>\n",
       "      <td>False</td>\n",
       "    </tr>\n",
       "    <tr>\n",
       "      <th>10035</th>\n",
       "      <td>a11035</td>\n",
       "      <td>1/17/18</td>\n",
       "      <td>Email</td>\n",
       "      <td>control</td>\n",
       "      <td>German</td>\n",
       "      <td>True</td>\n",
       "    </tr>\n",
       "    <tr>\n",
       "      <th>10036</th>\n",
       "      <td>a11036</td>\n",
       "      <td>1/6/18</td>\n",
       "      <td>Facebook</td>\n",
       "      <td>control</td>\n",
       "      <td>German</td>\n",
       "      <td>False</td>\n",
       "    </tr>\n",
       "  </tbody>\n",
       "</table>\n",
       "<p>10037 rows × 6 columns</p>\n",
       "</div>"
      ],
      "text/plain": [
       "      user_id date_served marketing_channel          variant  \\\n",
       "0       a1000      1/1/18         House Ads  personalization   \n",
       "1       a1001      1/1/18         House Ads  personalization   \n",
       "2       a1002      1/1/18         House Ads  personalization   \n",
       "3       a1003      1/1/18         House Ads  personalization   \n",
       "4       a1004      1/1/18         House Ads  personalization   \n",
       "...       ...         ...               ...              ...   \n",
       "10032  a11032     1/17/18             Email          control   \n",
       "10033  a11033     1/17/18             Email          control   \n",
       "10034  a11034      1/5/18         Instagram          control   \n",
       "10035  a11035     1/17/18             Email          control   \n",
       "10036  a11036      1/6/18          Facebook          control   \n",
       "\n",
       "      language_displayed converted  \n",
       "0                English      True  \n",
       "1                English      True  \n",
       "2                English      True  \n",
       "3                English      True  \n",
       "4                English      True  \n",
       "...                  ...       ...  \n",
       "10032             German      True  \n",
       "10033             German      True  \n",
       "10034             German     False  \n",
       "10035             German      True  \n",
       "10036             German     False  \n",
       "\n",
       "[10037 rows x 6 columns]"
      ]
     },
     "execution_count": 4,
     "metadata": {},
     "output_type": "execute_result"
    }
   ],
   "source": [
    "marketing_campaign = pd.read_csv('marketing_campaign.csv')\n",
    "marketing_campaign"
   ]
  },
  {
   "cell_type": "code",
   "execution_count": 5,
   "metadata": {
    "colab": {
     "base_uri": "https://localhost:8080/"
    },
    "id": "NvMSG1UHW7Iy",
    "outputId": "7f0335da-8d62-4e83-e860-ea3c79cf3a11"
   },
   "outputs": [
    {
     "data": {
      "text/plain": [
       "control            5091\n",
       "personalization    4946\n",
       "Name: variant, dtype: int64"
      ]
     },
     "execution_count": 5,
     "metadata": {},
     "output_type": "execute_result"
    }
   ],
   "source": [
    "marketing_campaign.variant.value_counts()"
   ]
  },
  {
   "cell_type": "code",
   "execution_count": 6,
   "metadata": {
    "colab": {
     "base_uri": "https://localhost:8080/"
    },
    "id": "179ucsW4XFoU",
    "outputId": "e183d96c-18e2-4d30-a812-a86443d7d2c5"
   },
   "outputs": [
    {
     "data": {
      "text/plain": [
       "False    8946\n",
       "True     1076\n",
       "Name: converted, dtype: int64"
      ]
     },
     "execution_count": 6,
     "metadata": {},
     "output_type": "execute_result"
    }
   ],
   "source": [
    "marketing_campaign.converted.value_counts()"
   ]
  },
  {
   "cell_type": "markdown",
   "metadata": {},
   "source": [
    "Нулевая гипотеза: группы воздействия и контрольная не имеют статистически значимых отличий с учетом доверительного интервала в 95%. Проведем расчет конверсии и применим статистические методы оценки гипотез."
   ]
  },
  {
   "cell_type": "code",
   "execution_count": 7,
   "metadata": {},
   "outputs": [
    {
     "data": {
      "text/plain": [
       "705"
      ]
     },
     "execution_count": 7,
     "metadata": {},
     "output_type": "execute_result"
    }
   ],
   "source": [
    "k1 = marketing_campaign.loc[(marketing_campaign['variant']=='personalization') & (marketing_campaign['converted']==True)].value_counts().shape[0]\n",
    "k1"
   ]
  },
  {
   "cell_type": "code",
   "execution_count": 8,
   "metadata": {},
   "outputs": [
    {
     "data": {
      "text/plain": [
       "371"
      ]
     },
     "execution_count": 8,
     "metadata": {},
     "output_type": "execute_result"
    }
   ],
   "source": [
    "k2 = marketing_campaign.loc[(marketing_campaign['variant']=='control') & (marketing_campaign['converted']==True)].value_counts().shape[0]\n",
    "k2"
   ]
  },
  {
   "cell_type": "code",
   "execution_count": 9,
   "metadata": {},
   "outputs": [
    {
     "data": {
      "text/plain": [
       "4945"
      ]
     },
     "execution_count": 9,
     "metadata": {},
     "output_type": "execute_result"
    }
   ],
   "source": [
    "n1 = marketing_campaign.loc[marketing_campaign['variant']=='personalization'].value_counts().shape[0]\n",
    "n1"
   ]
  },
  {
   "cell_type": "code",
   "execution_count": 10,
   "metadata": {},
   "outputs": [
    {
     "data": {
      "text/plain": [
       "5076"
      ]
     },
     "execution_count": 10,
     "metadata": {},
     "output_type": "execute_result"
    }
   ],
   "source": [
    "n2 = marketing_campaign.loc[marketing_campaign['variant']=='control'].value_counts().shape[0]\n",
    "n2"
   ]
  },
  {
   "cell_type": "code",
   "execution_count": 11,
   "metadata": {},
   "outputs": [
    {
     "name": "stdout",
     "output_type": "stream",
     "text": [
      " конверсия в группе \"personalization\" 0.14, конверсия в группе \"control\" 0.07\n"
     ]
    }
   ],
   "source": [
    "#Проанализируем конверсию по группам:\n",
    "\n",
    "conv_pers = round(k1/n1, 2)\n",
    "conv_control = round(k2/n2, 2)\n",
    "    \n",
    "print(f' конверсия в группе \"personalization\" {conv_pers}, конверсия в группе \"control\" {conv_control}')"
   ]
  },
  {
   "cell_type": "markdown",
   "metadata": {},
   "source": [
    "Вывод: в результате воздействия на покупателя конверсия в группе воздействия оказалась выше, чем в контрольной группе, в два раза. Это хороший показатель. Проведем проверку статистической значимости различий в данных группах."
   ]
  },
  {
   "cell_type": "markdown",
   "metadata": {},
   "source": [
    "Наиболее очевидным статистическим критерием для нашего случая выглядит z-критерий."
   ]
  },
  {
   "cell_type": "code",
   "execution_count": 12,
   "metadata": {},
   "outputs": [],
   "source": [
    "#!pip install statsmodels"
   ]
  },
  {
   "cell_type": "code",
   "execution_count": 13,
   "metadata": {},
   "outputs": [
    {
     "name": "stdout",
     "output_type": "stream",
     "text": [
      "Results are z_score=11.232 pvalue=0.000\n"
     ]
    }
   ],
   "source": [
    "from statsmodels.stats import proportion\n",
    "\n",
    "z_score, z_pvalue = proportion.proportions_ztest(np.array([k1, k2]), \n",
    "                                                 np.array([n1, n2]))\n",
    "\n",
    "print(f'Results are z_score={z_score:.3f} pvalue={z_pvalue:.3f}')"
   ]
  },
  {
   "cell_type": "code",
   "execution_count": 14,
   "metadata": {},
   "outputs": [],
   "source": [
    "z_crit_value = 1.96 # соответствует доверительному интервалу в 95%"
   ]
  },
  {
   "cell_type": "code",
   "execution_count": 15,
   "metadata": {},
   "outputs": [
    {
     "name": "stdout",
     "output_type": "stream",
     "text": [
      "We may reject the null hypothesis!\n"
     ]
    }
   ],
   "source": [
    "if z_score > z_crit_value:\n",
    "    print(\"We may reject the null hypothesis!\")\n",
    "else:\n",
    "    print(\"We have failed to reject the null hypothesis\")"
   ]
  },
  {
   "cell_type": "markdown",
   "metadata": {},
   "source": [
    "Нулевая гипотеза о том, что статистически значимых различий в группах нет, отклонена. Различия статистически значимы. Мероприятия по воздействию на покупателя можно считать эффективными. Рекомендуется провести расчет финансовой обоснованности воздействия на покупателя, сопоставить расходы на воздействие с доходами от дополнительных покупок группы воздействия."
   ]
  },
  {
   "cell_type": "code",
   "execution_count": null,
   "metadata": {},
   "outputs": [],
   "source": []
  }
 ],
 "metadata": {
  "colab": {
   "provenance": [],
   "toc_visible": true
  },
  "kernelspec": {
   "display_name": "Python 3 (ipykernel)",
   "language": "python",
   "name": "python3"
  },
  "language_info": {
   "codemirror_mode": {
    "name": "ipython",
    "version": 3
   },
   "file_extension": ".py",
   "mimetype": "text/x-python",
   "name": "python",
   "nbconvert_exporter": "python",
   "pygments_lexer": "ipython3",
   "version": "3.9.12"
  }
 },
 "nbformat": 4,
 "nbformat_minor": 1
}
