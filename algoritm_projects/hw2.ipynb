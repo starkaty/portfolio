{
 "cells": [
  {
   "cell_type": "code",
   "execution_count": 533,
   "metadata": {
    "id": "c7NGnJrtiqs_"
   },
   "outputs": [],
   "source": [
    "import numpy as np\n",
    "from sklearn import datasets\n",
    "import matplotlib.pyplot as plt\n",
    "\n",
    "%matplotlib inline\n",
    "import warnings\n",
    "warnings.filterwarnings('ignore')"
   ]
  },
  {
   "cell_type": "code",
   "execution_count": 534,
   "metadata": {},
   "outputs": [],
   "source": [
    "def calc_mse(y, y_pred): #расчет mse\n",
    "    err = np.mean((y - y_pred)**2)\n",
    "    return err"
   ]
  },
  {
   "cell_type": "markdown",
   "metadata": {},
   "source": [
    "__Задача:__ предсказание баллов ЕГЭ ученика"
   ]
  },
  {
   "cell_type": "code",
   "execution_count": 535,
   "metadata": {
    "colab": {},
    "colab_type": "code",
    "id": "_n6il-AZaLuA"
   },
   "outputs": [],
   "source": [
    "X = np.array([[   1,    1,  500,    1],\n",
    "              [   1,    1,  700,    1],\n",
    "              [   1,    2,  750,    2],\n",
    "              [   1,    5,  600,    1],\n",
    "              [   1,    3, 1450,    2],\n",
    "              [   1,    0,  800,    1],\n",
    "              [   1,    5, 1500,    3],\n",
    "              [   1,   10, 2000,    3],\n",
    "              [   1,    1,  450,    1],\n",
    "              [   1,    2, 1000,    2]])"
   ]
  },
  {
   "cell_type": "code",
   "execution_count": 536,
   "metadata": {
    "colab": {},
    "colab_type": "code",
    "id": "x8yoci01ni-t"
   },
   "outputs": [],
   "source": [
    "y = [45, 55, 50, 55, 60, 35, 75, 80, 50, 60]"
   ]
  },
  {
   "cell_type": "markdown",
   "metadata": {},
   "source": [
    "Нумерация задач в домашнем задании может не совпадать с указанной в задании на сайте, так как в задании и методичке к уроку задания пронумерованы по-разному. Задания будут пронумерованы по мере их выполнения."
   ]
  },
  {
   "cell_type": "markdown",
   "metadata": {},
   "source": [
    "## 1. *Можно ли к одному и тому же признаку применить сразу и нормализацию, и стандартизацию?"
   ]
  },
  {
   "cell_type": "markdown",
   "metadata": {},
   "source": [
    "Проведем сначала нормализацию, а потом стандартизацию:"
   ]
  },
  {
   "cell_type": "markdown",
   "metadata": {},
   "source": [
    "Нормализация:"
   ]
  },
  {
   "cell_type": "code",
   "execution_count": 537,
   "metadata": {},
   "outputs": [],
   "source": [
    "def min_max_scale(X):\n",
    "    return (X - X.min()) / (X.max() - X.min())"
   ]
  },
  {
   "cell_type": "code",
   "execution_count": 538,
   "metadata": {
    "colab": {
     "base_uri": "https://localhost:8080/",
     "height": 121
    },
    "colab_type": "code",
    "id": "E55S9Bzob9Xa",
    "outputId": "4abf56a2-d484-4c24-8520-8ed1b58ccca8"
   },
   "outputs": [
    {
     "data": {
      "text/plain": [
       "array([[1.00e+00, 1.00e+00, 5.00e+02, 1.00e+00],\n",
       "       [1.00e+00, 1.00e+00, 7.00e+02, 1.00e+00],\n",
       "       [1.00e+00, 2.00e+00, 7.50e+02, 2.00e+00],\n",
       "       [1.00e+00, 5.00e+00, 6.00e+02, 1.00e+00],\n",
       "       [1.00e+00, 3.00e+00, 1.45e+03, 2.00e+00],\n",
       "       [1.00e+00, 0.00e+00, 8.00e+02, 1.00e+00],\n",
       "       [1.00e+00, 5.00e+00, 1.50e+03, 3.00e+00],\n",
       "       [1.00e+00, 1.00e+01, 2.00e+03, 3.00e+00],\n",
       "       [1.00e+00, 1.00e+00, 4.50e+02, 1.00e+00],\n",
       "       [1.00e+00, 2.00e+00, 1.00e+03, 2.00e+00]])"
      ]
     },
     "execution_count": 538,
     "metadata": {},
     "output_type": "execute_result"
    }
   ],
   "source": [
    "X_norm = X.copy()\n",
    "X_norm = X_norm.astype(np.float64)\n",
    "X_norm"
   ]
  },
  {
   "cell_type": "code",
   "execution_count": 539,
   "metadata": {
    "colab": {
     "base_uri": "https://localhost:8080/",
     "height": 121
    },
    "colab_type": "code",
    "id": "7x-6IuPOcIo0",
    "outputId": "1668fec7-37ae-4671-ad9f-f093c30a6c72"
   },
   "outputs": [],
   "source": [
    "X_norm[:, 1] = min_max_scale(X_norm[:, 1])\n",
    "X_norm[:, 2] = min_max_scale(X_norm[:, 2])\n",
    "X_norm[:, 3] = min_max_scale(X_norm[:, 3])"
   ]
  },
  {
   "cell_type": "code",
   "execution_count": 540,
   "metadata": {},
   "outputs": [
    {
     "name": "stdout",
     "output_type": "stream",
     "text": [
      "Исходные данные после нормализации в формате float\n",
      " [[1.   0.1  0.03 0.  ]\n",
      " [1.   0.1  0.16 0.  ]\n",
      " [1.   0.2  0.19 0.5 ]\n",
      " [1.   0.5  0.1  0.  ]\n",
      " [1.   0.3  0.65 0.5 ]\n",
      " [1.   0.   0.23 0.  ]\n",
      " [1.   0.5  0.68 1.  ]\n",
      " [1.   1.   1.   1.  ]\n",
      " [1.   0.1  0.   0.  ]\n",
      " [1.   0.2  0.35 0.5 ]]\n",
      "Столбец 1: mean: 0.3, std: 0.28, min: 0.0, max: 1.0\n",
      "Столбец 2: mean: 0.34, std: 0.31, min: 0.0, max: 1.0\n",
      "Столбец 3: mean: 0.35, std: 0.39, min: 0.0, max: 1.0\n"
     ]
    }
   ],
   "source": [
    "print('Исходные данные после нормализации в формате float\\n', np.around(X_norm, 2))\n",
    "for i in range(1, X_norm.shape[1]):\n",
    "    print(f'Столбец {i}: mean: {round(X_norm[:,i].mean(), 2)}, std: {round(X_norm[:,i].std(),2)}, min: {round(X_norm[:,i].min(),2)}, max: {round(X_norm[:,i].max(),2)}')"
   ]
  },
  {
   "cell_type": "markdown",
   "metadata": {
    "colab": {},
    "colab_type": "code",
    "id": "Zy63bpFfeqzu"
   },
   "source": [
    "Стандартизация на нормализованных данных:"
   ]
  },
  {
   "cell_type": "code",
   "execution_count": 541,
   "metadata": {},
   "outputs": [],
   "source": [
    "def standard_scale(X):\n",
    "    mean = X.mean()\n",
    "    std = X.std()\n",
    "    return (X - mean) / std"
   ]
  },
  {
   "cell_type": "code",
   "execution_count": 542,
   "metadata": {},
   "outputs": [
    {
     "data": {
      "text/plain": [
       "(10, 4)"
      ]
     },
     "execution_count": 542,
     "metadata": {},
     "output_type": "execute_result"
    }
   ],
   "source": [
    "X_norm.shape"
   ]
  },
  {
   "cell_type": "code",
   "execution_count": 543,
   "metadata": {
    "colab": {},
    "colab_type": "code",
    "id": "M57-Pzl_f_rF"
   },
   "outputs": [
    {
     "name": "stdout",
     "output_type": "stream",
     "text": [
      "Нормализованные данные\n",
      " [[1.   0.1  0.03 0.  ]\n",
      " [1.   0.1  0.16 0.  ]\n",
      " [1.   0.2  0.19 0.5 ]\n",
      " [1.   0.5  0.1  0.  ]\n",
      " [1.   0.3  0.65 0.5 ]\n",
      " [1.   0.   0.23 0.  ]\n",
      " [1.   0.5  0.68 1.  ]\n",
      " [1.   1.   1.   1.  ]\n",
      " [1.   0.1  0.   0.  ]\n",
      " [1.   0.2  0.35 0.5 ]]\n",
      "После стандартизации\n",
      " [[ 1.   -0.71 -0.98 -0.9 ]\n",
      " [ 1.   -0.71 -0.57 -0.9 ]\n",
      " [ 1.   -0.35 -0.46  0.38]\n",
      " [ 1.    0.71 -0.77 -0.9 ]\n",
      " [ 1.   -0.    0.98  0.38]\n",
      " [ 1.   -1.06 -0.36 -0.9 ]\n",
      " [ 1.    0.71  1.08  1.66]\n",
      " [ 1.    2.47  2.11  1.66]\n",
      " [ 1.   -0.71 -1.08 -0.9 ]\n",
      " [ 1.   -0.35  0.05  0.38]]\n",
      "Столбец 1: mean: -0.0, std: 1.0, min: -1.06, max: 2.47\n",
      "Столбец 2: mean: -0.0, std: 1.0, min: -1.08, max: 2.11\n",
      "Столбец 3: mean: 0.0, std: 1.0, min: -0.9, max: 1.66\n"
     ]
    }
   ],
   "source": [
    "X_st = X_norm.copy().astype(np.float64)\n",
    "print('Нормализованные данные\\n', np.around(X_st,2))\n",
    "X_st[:, 1] = standard_scale(X_st[:, 1])\n",
    "X_st[:, 2] = standard_scale(X_st[:, 2])\n",
    "X_st[:, 3] = standard_scale(X_st[:, 3])\n",
    "print('После стандартизации\\n',np.around(X_st, 2))\n",
    "for i in range(1, X_st.shape[1]):\n",
    "    print(f'Столбец {i}: mean: {round(X_st[:,i].mean(), 2)}, std: {round(X_st[:,i].std(),2)}, min: {round(X_st[:,i].min(),2)}, max: {round(X_st[:,i].max(),2)}')"
   ]
  },
  {
   "cell_type": "markdown",
   "metadata": {},
   "source": [
    "Теперь попробуем провести стандартизацию на исходных данных"
   ]
  },
  {
   "cell_type": "markdown",
   "metadata": {},
   "source": [
    "Стандартизация на исходных данных:"
   ]
  },
  {
   "cell_type": "code",
   "execution_count": 544,
   "metadata": {},
   "outputs": [
    {
     "name": "stdout",
     "output_type": "stream",
     "text": [
      "Ненормализованные исходные данные в формате float\n",
      " [[1.00e+00 1.00e+00 5.00e+02 1.00e+00]\n",
      " [1.00e+00 1.00e+00 7.00e+02 1.00e+00]\n",
      " [1.00e+00 2.00e+00 7.50e+02 2.00e+00]\n",
      " [1.00e+00 5.00e+00 6.00e+02 1.00e+00]\n",
      " [1.00e+00 3.00e+00 1.45e+03 2.00e+00]\n",
      " [1.00e+00 0.00e+00 8.00e+02 1.00e+00]\n",
      " [1.00e+00 5.00e+00 1.50e+03 3.00e+00]\n",
      " [1.00e+00 1.00e+01 2.00e+03 3.00e+00]\n",
      " [1.00e+00 1.00e+00 4.50e+02 1.00e+00]\n",
      " [1.00e+00 2.00e+00 1.00e+03 2.00e+00]]\n",
      "После стандартизации\n",
      " [[ 1.   -0.71 -0.98 -0.9 ]\n",
      " [ 1.   -0.71 -0.57 -0.9 ]\n",
      " [ 1.   -0.35 -0.46  0.38]\n",
      " [ 1.    0.71 -0.77 -0.9 ]\n",
      " [ 1.    0.    0.98  0.38]\n",
      " [ 1.   -1.06 -0.36 -0.9 ]\n",
      " [ 1.    0.71  1.08  1.66]\n",
      " [ 1.    2.47  2.11  1.66]\n",
      " [ 1.   -0.71 -1.08 -0.9 ]\n",
      " [ 1.   -0.35  0.05  0.38]]\n",
      "Столбец 1: mean: 0.0, std: 1.0, min: -1.06, max: 2.47\n",
      "Столбец 2: mean: -0.0, std: 1.0, min: -1.08, max: 2.11\n",
      "Столбец 3: mean: 0.0, std: 1.0, min: -0.9, max: 1.66\n"
     ]
    }
   ],
   "source": [
    "X_st = X.copy().astype(np.float64)\n",
    "print('Ненормализованные исходные данные в формате float\\n', np.around(X_st,2))\n",
    "X_st[:, 1] = standard_scale(X_st[:, 1])\n",
    "X_st[:, 2] = standard_scale(X_st[:, 2])\n",
    "X_st[:, 3] = standard_scale(X_st[:, 3])\n",
    "print('После стандартизации\\n',np.around(X_st,2))\n",
    "for i in range(1, X_st.shape[1]):\n",
    "    print(f'Столбец {i}: mean: {round(X_st[:,i].mean(), 2)}, std: {round(X_st[:,i].std(),2)}, min: {round(X_st[:,i].min(),2)}, max: {round(X_st[:,i].max(),2)}')"
   ]
  },
  {
   "cell_type": "markdown",
   "metadata": {},
   "source": [
    "Вывод: проведение нормализации перед стандартизацией не имеет смысла. Итоговый результат стандартизации как исходных данных, так и нормализованных, один и тот же"
   ]
  },
  {
   "cell_type": "markdown",
   "metadata": {},
   "source": [
    "Теперь попробуем провести на стандартизованных исходных данных нормализацию"
   ]
  },
  {
   "cell_type": "code",
   "execution_count": 545,
   "metadata": {},
   "outputs": [
    {
     "name": "stdout",
     "output_type": "stream",
     "text": [
      "Стандартизованные данные в формате float\n",
      " [[ 1.   -0.71 -0.98 -0.9 ]\n",
      " [ 1.   -0.71 -0.57 -0.9 ]\n",
      " [ 1.   -0.35 -0.46  0.38]\n",
      " [ 1.    0.71 -0.77 -0.9 ]\n",
      " [ 1.    0.    0.98  0.38]\n",
      " [ 1.   -1.06 -0.36 -0.9 ]\n",
      " [ 1.    0.71  1.08  1.66]\n",
      " [ 1.    2.47  2.11  1.66]\n",
      " [ 1.   -0.71 -1.08 -0.9 ]\n",
      " [ 1.   -0.35  0.05  0.38]]\n",
      "Данные после стандартизации и последующей нормализации в формате float\n",
      " [[1.   0.1  0.03 0.  ]\n",
      " [1.   0.1  0.16 0.  ]\n",
      " [1.   0.2  0.19 0.5 ]\n",
      " [1.   0.5  0.1  0.  ]\n",
      " [1.   0.3  0.65 0.5 ]\n",
      " [1.   0.   0.23 0.  ]\n",
      " [1.   0.5  0.68 1.  ]\n",
      " [1.   1.   1.   1.  ]\n",
      " [1.   0.1  0.   0.  ]\n",
      " [1.   0.2  0.35 0.5 ]]\n",
      "Столбец 1: mean: 0.3, std: 0.28, min: 0.0, max: 1.0\n",
      "Столбец 2: mean: 0.34, std: 0.31, min: 0.0, max: 1.0\n",
      "Столбец 3: mean: 0.35, std: 0.39, min: 0.0, max: 1.0\n"
     ]
    }
   ],
   "source": [
    "X_norm = X_st.copy()\n",
    "X_norm = X_norm.astype(np.float64)\n",
    "print('Стандартизованные данные в формате float\\n', np.around(X_norm,2))\n",
    "X_norm[:, 1] = min_max_scale(X_norm[:, 1])\n",
    "X_norm[:, 2] = min_max_scale(X_norm[:, 2])\n",
    "X_norm[:, 3] = min_max_scale(X_norm[:, 3])\n",
    "X_norm\n",
    "print('Данные после стандартизации и последующей нормализации в формате float\\n', np.around(X_norm,2))\n",
    "for i in range(1, X_norm.shape[1]):\n",
    "    print(f'Столбец {i}: mean: {round(X_norm[:,i].mean(), 2)}, std: {round(X_norm[:,i].std(),2)}, min: {round(X_norm[:,i].min(),2)}, max: {round(X_norm[:,i].max(),2)}')"
   ]
  },
  {
   "cell_type": "markdown",
   "metadata": {},
   "source": [
    "Вывод: проведение стандартизации перед нормализацией не имеет смысла. Итоговый результат нормализации как исходных данных, так и стандартизированных, один и тот же"
   ]
  },
  {
   "cell_type": "markdown",
   "metadata": {},
   "source": [
    "Ответ: применение к одному и тому же признаку и нормализации, и стандартизации одновременно невозможно в силу того, что это разные преобразования (нормализация задает диапазон разброса данных 0-1 с сохранением соотношений между данными, стандартизация задает среднее значение 0 и среднеквадратичное отклонение 1 с сохранением соотношений между данными). Применение их последовательно не имеет смысла, так как приводит к такому же результату, что и применение последней операции к исходным данным. Нужно выбирать один из методов масштабирования в зависимости от задачи."
   ]
  },
  {
   "cell_type": "markdown",
   "metadata": {},
   "source": [
    "## 2. Постройте график зависимости весов всех признаков от lambda в самописной L2-регуляризации (на данных про ЕГЭ). Сделайте вывод"
   ]
  },
  {
   "cell_type": "code",
   "execution_count": 546,
   "metadata": {},
   "outputs": [],
   "source": [
    "def gradient_descent_reg_l2(X, y, iterations=5000, eta=1e-4, reg=1e-8):\n",
    "    W = np.random.randn(X.shape[1])\n",
    "    n = X.shape[0]\n",
    "    \n",
    "    for i in range(0, iterations):\n",
    "        y_pred = np.dot(X, W)\n",
    "        err = calc_mse(y, y_pred)\n",
    "        \n",
    "        dQ = 2/n * X.T @ (y_pred - y) # градиент функции ошибки\n",
    "        dReg = reg * W # градиент регуляризации\n",
    "        \n",
    "        W -= eta * (dQ + dReg)\n",
    "        \n",
    "        #if i % (iterations / 10) == 0:\n",
    "            #print(f'Iter: {i}, weights: {W}, error {err}')\n",
    "    \n",
    "    #print(f'Final MSE: {calc_mse(y, np.dot(X, W))}')\n",
    "    return W"
   ]
  },
  {
   "cell_type": "code",
   "execution_count": 547,
   "metadata": {},
   "outputs": [],
   "source": [
    "lambdas = np.logspace(-3, 2, 50)\n",
    "w_array= gradient_descent_reg_l2(X_st, y, iterations=5000, eta=1e-2, reg=0)\n",
    "for l in lambdas[1:]:\n",
    "    w_array = np.vstack([w_array, gradient_descent_reg_l2(X_st, y, iterations=5000, eta=1e-2, reg=l)])"
   ]
  },
  {
   "cell_type": "code",
   "execution_count": 548,
   "metadata": {},
   "outputs": [
    {
     "data": {
      "text/plain": [
       "array([1.00000000e-03, 1.26485522e-03, 1.59985872e-03, 2.02358965e-03,\n",
       "       2.55954792e-03, 3.23745754e-03, 4.09491506e-03, 5.17947468e-03,\n",
       "       6.55128557e-03, 8.28642773e-03, 1.04811313e-02, 1.32571137e-02,\n",
       "       1.67683294e-02, 2.12095089e-02, 2.68269580e-02, 3.39322177e-02,\n",
       "       4.29193426e-02, 5.42867544e-02, 6.86648845e-02, 8.68511374e-02,\n",
       "       1.09854114e-01, 1.38949549e-01, 1.75751062e-01, 2.22299648e-01,\n",
       "       2.81176870e-01, 3.55648031e-01, 4.49843267e-01, 5.68986603e-01,\n",
       "       7.19685673e-01, 9.10298178e-01, 1.15139540e+00, 1.45634848e+00,\n",
       "       1.84206997e+00, 2.32995181e+00, 2.94705170e+00, 3.72759372e+00,\n",
       "       4.71486636e+00, 5.96362332e+00, 7.54312006e+00, 9.54095476e+00,\n",
       "       1.20679264e+01, 1.52641797e+01, 1.93069773e+01, 2.44205309e+01,\n",
       "       3.08884360e+01, 3.90693994e+01, 4.94171336e+01, 6.25055193e+01,\n",
       "       7.90604321e+01, 1.00000000e+02])"
      ]
     },
     "execution_count": 548,
     "metadata": {},
     "output_type": "execute_result"
    }
   ],
   "source": [
    "lambdas"
   ]
  },
  {
   "cell_type": "code",
   "execution_count": 549,
   "metadata": {},
   "outputs": [
    {
     "data": {
      "image/png": "[encoded data removed]",
      "text/plain": [
       "<Figure size 1080x504 with 1 Axes>"
      ]
     },
     "metadata": {
      "needs_background": "light"
     },
     "output_type": "display_data"
    }
   ],
   "source": [
    "plt.figure(figsize=(15, 7))\n",
    "plt.plot(lambdas, w_array[:,0], label='x1', color='blue')\n",
    "plt.plot(lambdas, w_array[:,1], label='x2', color='red')\n",
    "plt.plot(lambdas, w_array[:,2], label='x3', color='green')\n",
    "plt.plot(lambdas, w_array[:,3], label='x4', color='orange')\n",
    "plt.xlabel('lambda', fontsize = 15)\n",
    "plt.ylabel('weight', fontsize = 15)\n",
    "plt.title('График зависимости весов признаков от lambda при L2', fontsize = 17)\n",
    "plt.legend()\n",
    "plt.grid()\n",
    "plt.show()"
   ]
  },
  {
   "cell_type": "markdown",
   "metadata": {},
   "source": [
    "Вывод: изменение lambda приводит к плавному понижению весов с ростом lambda, веса не обнуляются"
   ]
  },
  {
   "cell_type": "markdown",
   "metadata": {},
   "source": [
    "## 3. Напишите функцию наподобие gradient_descent_reg_l2, но для применения L1-регуляризации."
   ]
  },
  {
   "cell_type": "code",
   "execution_count": 550,
   "metadata": {},
   "outputs": [],
   "source": [
    "def gradient_descent_reg_l1(X, y, iterations=5000, eta=1e-2, lambda_=1e-4):\n",
    "    W = np.random.randn(X.shape[1])\n",
    "    n = X.shape[0]\n",
    "    \n",
    "    for i in range(0, iterations):\n",
    "        y_pred = np.dot(X, W)\n",
    "        err = calc_mse(y, y_pred)\n",
    "        \n",
    "        W -= eta * (2/n * np.dot(X.T, (y_pred - y)) + lambda_ * W / np.abs(W)) \n",
    "               \n",
    "        if i % (iterations / 10) == 0:\n",
    "            print(f'Iter: {i}, weights: {W}, error {err}')\n",
    "    \n",
    "    print(f'Final MSE: {calc_mse(y, np.dot(X, W))}')\n",
    "    return W"
   ]
  },
  {
   "cell_type": "code",
   "execution_count": 551,
   "metadata": {},
   "outputs": [
    {
     "name": "stdout",
     "output_type": "stream",
     "text": [
      "Iter: 0, weights: [ 0.56758931 -0.23536574 -1.10441605  1.37824284], error 3431.175958609161\n",
      "Iter: 200, weights: [55.51621463  5.2975028   1.72232873  5.40324361], error 26.710552939107203\n",
      "Iter: 400, weights: [56.48264811  5.85628126  0.95544339  5.65545693], error 25.198146957788193\n",
      "Iter: 600, weights: [56.4996457   6.0735818   0.49414401  5.92021034], error 25.02859788523444\n",
      "Iter: 800, weights: [56.49994465  6.17109943  0.20233733  6.12574271], error 24.958853743655567\n",
      "Iter: 1000, weights: [5.64999499e+01 6.22162490e+00 1.29167186e-02 6.27133313e+00], error 24.928519764602225\n",
      "Iter: 1200, weights: [56.49995     6.25078148 -0.11138246  6.37071976], error 24.91518355003074\n",
      "Iter: 1400, weights: [56.49995     6.26883536 -0.19356249  6.43756812], error 24.909294471617404\n",
      "Iter: 1600, weights: [56.49995     6.28043505 -0.24804613  6.48223938], error 24.906690766989435\n",
      "Iter: 1800, weights: [56.49995     6.28802211 -0.28421235  6.51199964], error 24.905538653308643\n",
      "Final MSE: 24.90502829415339\n"
     ]
    },
    {
     "data": {
      "text/plain": [
       "array([56.49995   ,  6.29300663, -0.3081358 ,  6.53171823])"
      ]
     },
     "execution_count": 551,
     "metadata": {},
     "output_type": "execute_result"
    }
   ],
   "source": [
    "gradient_descent_reg_l1(X_st, y, iterations=2000, eta=1e-2, lambda_=1e-4)"
   ]
  },
  {
   "cell_type": "code",
   "execution_count": 552,
   "metadata": {},
   "outputs": [
    {
     "name": "stdout",
     "output_type": "stream",
     "text": [
      "Iter: 0, weights: [-0.29435797  2.11649657  2.10842742 -0.22443   ], error 3455.2781639472387\n",
      "Iter: 200, weights: [55.50110386  5.45319032  3.13225178  3.81304762], error 28.05036827213247\n",
      "Iter: 400, weights: [56.48243147  5.78735147  1.94646054  4.70762296], error 25.832316376834257\n",
      "Iter: 600, weights: [56.49969101  5.97529802  1.16916229  5.32353384], error 25.31383839532677\n",
      "Iter: 800, weights: [56.49999457  6.08981574  0.65590829  5.73935484], error 25.085287153335116\n",
      "Iter: 1000, weights: [56.4999999   6.16275399  0.31584483  6.01766111], error 24.984391690848582\n",
      "Iter: 1200, weights: [56.5         6.21025945  0.09017591  6.20320207], error 24.939842811440457\n",
      "Iter: 1400, weights: [56.5         6.2415338  -0.05968834  6.32667837], error 24.920172189721477\n",
      "Iter: 1600, weights: [56.5         6.26222633 -0.15924462  6.40878428], error 24.91148653059084\n",
      "Iter: 1800, weights: [56.5         6.27594929 -0.2253909   6.46336053], error 24.90765132907268\n",
      "Final MSE: 24.90595787374244\n",
      "Iter: 0, weights: [1.45191281 0.1122405  1.07099704 1.45052701], error 3274.8908450917365\n",
      "Iter: 200, weights: [55.53119588  5.05654485  2.53418297  4.80189326], error 27.36026114326193\n",
      "Iter: 400, weights: [56.48233942  5.72395909  1.48610321  5.23813187], error 25.482637382903164\n",
      "Iter: 600, weights: [56.49906808  5.99404947  0.84406229  5.63744165], error 25.152753641688584\n",
      "Iter: 800, weights: [56.4993623   6.12073492  0.43401019  5.93611913], error 25.013548918051953\n",
      "Iter: 1000, weights: [56.49936748  6.18884239  0.16658126  6.14474085], error 24.952665190163128\n",
      "Iter: 1200, weights: [ 5.64993676e+01  6.22917945e+00 -9.29125110e-03  6.28643134e+00], error 24.9258548062244\n",
      "Iter: 1400, weights: [56.49936757  6.25352701 -0.12327121  6.38005488], error 24.91419600139195\n",
      "Iter: 1600, weights: [56.49936757  6.26940626 -0.19899022  6.44236719], error 24.908982893271293\n",
      "Iter: 1800, weights: [56.49936757  6.27988293 -0.24928168  6.48382089], error 24.906637603209795\n",
      "Final MSE: 24.905573163465846\n",
      "Iter: 0, weights: [ 1.38282105  0.67878862 -0.41450663  0.64861177], error 3316.9577803512293\n",
      "Iter: 200, weights: [55.52981614  5.44462794  2.07316979  4.90340121], error 26.892948789703297\n",
      "Iter: 400, weights: [56.4821506   5.8691162   1.21516291  5.37674091], error 25.32764616890984\n",
      "Iter: 600, weights: [56.49890021  6.05615752  0.67479378  5.75119401], error 25.089190451424198\n",
      "Iter: 800, weights: [56.4991948   6.15152546  0.32480476  6.01828085], error 24.985935653610934\n",
      "Iter: 1000, weights: [56.49919998  6.20609064  0.0950045   6.20132069], error 24.94051532219708\n",
      "Iter: 1200, weights: [ 5.64992001e+01  6.23912585e+00 -5.50656276e-02  6.32395172e+00], error 24.920623496755304\n",
      "Iter: 1400, weights: [56.49920007  6.25961317 -0.15299773  6.40459909], error 24.911906811616987\n",
      "Iter: 1600, weights: [56.49920007  6.2731488  -0.21805085  6.45823579], error 24.90798686128159\n",
      "Iter: 1800, weights: [56.49920007  6.28211985 -0.26127111  6.49389192], error 24.906208753423762\n",
      "Final MSE: 24.905392230495018\n",
      "Iter: 0, weights: [ 1.2894866  -0.67210007  0.21619432 -0.14565812], error 3363.897477483852\n",
      "Iter: 200, weights: [55.52796644  5.10655831  2.74349721  4.53965633], error 27.546920955232814\n",
      "Iter: 400, weights: [56.48190993  5.72109584  1.63650928  5.0865976 ], error 25.582368693022076\n",
      "Iter: 600, weights: [56.49868783  5.98110333  0.94743244  5.54362047], error 25.198665080706885\n",
      "Iter: 800, weights: [56.49898292  6.10872252  0.50372721  5.87582718], error 25.034003164259335\n",
      "Iter: 1000, weights: [56.49898811  6.17977502  0.21320571  6.10526093], error 24.961718997301993\n",
      "Iter: 1200, weights: [5.64989882e+01 6.22280217e+00 2.14703579e-02 6.26036310e+00], error 24.929837219785774\n",
      "Iter: 1400, weights: [56.49898821  6.24875875 -0.10158308  6.36228072], error 24.91606119098926\n",
      "Iter: 1600, weights: [56.49898821  6.26559844 -0.1830238   6.42952991], error 24.90990902813723\n",
      "Iter: 1800, weights: [56.49898821  6.27679986 -0.23714453  6.47420948], error 24.9071176593836\n",
      "Final MSE: 24.90583538170106\n",
      "Iter: 0, weights: [ 0.53271993 -0.8975423   0.30191778 -0.53296286], error 3465.0779582518976\n",
      "Iter: 200, weights: [55.5143932   5.06877037  2.91810097  4.39676544], error 27.76023626215949\n",
      "Iter: 400, weights: [56.48140793  5.69650468  1.75234293  4.99125203], error 25.66408816905203\n",
      "Iter: 600, weights: [56.49841574  5.96488667  1.02433406  5.48011364], error 25.234723585520292\n",
      "Iter: 800, weights: [56.49871487  6.09795127  0.55479612  5.8335525 ], error 25.049929389801562\n",
      "Iter: 1000, weights: [56.49872013  6.17258585  0.2471203   6.07711792], error 24.968756036722947\n",
      "Iter: 1200, weights: [5.64987202e+01 6.21798222e+00 4.39894395e-02 6.24161752e+00], error 24.932948010307804\n",
      "Iter: 1400, weights: [56.49872023  6.24539327 -0.08622936  6.34968805], error 24.917482322347816\n",
      "Iter: 1600, weights: [56.49872023  6.26290677 -0.17172181  6.42043954], error 24.910618686831025\n",
      "Iter: 1800, weights: [56.49872023  6.27461962 -0.22855501  6.46740603], error 24.90748853620462\n",
      "Final MSE: 24.906040311529047\n",
      "Iter: 0, weights: [ 0.66834637  1.27352587  0.8288396  -0.76961699], error 3391.7017272359167\n",
      "Iter: 200, weights: [55.5164456   5.48501288  2.88539256  4.03329152], error 27.72505194617127\n",
      "Iter: 400, weights: [56.48111104  5.81529693  1.78012145  4.84926928], error 25.701906959646465\n",
      "Iter: 600, weights: [56.49807752  5.99573415  1.05786007  5.41604581], error 25.256204601833225\n",
      "Iter: 800, weights: [56.49837593  6.10376377  0.58164849  5.80016333], error 25.059866463540253\n",
      "Iter: 1000, weights: [56.49838118  6.17193448  0.26634291  6.05769086], error 24.973191420282806\n",
      "Iter: 1200, weights: [56.49838127  6.21613301  0.05716915  6.22951215], error 24.93491498456526\n",
      "Iter: 1400, weights: [56.49838127  6.24349228 -0.07669425  6.3416251 ], error 24.91841586299209\n",
      "Iter: 1600, weights: [56.49838127  6.26094899 -0.16395764  6.41424289], error 24.91113193285128\n",
      "Iter: 1800, weights: [56.49838127  6.27278715 -0.22201913  6.46234621], error 24.907787014753435\n",
      "Final MSE: 24.906224553403188\n",
      "Iter: 0, weights: [1.4748123  0.29903952 1.84969481 1.53957012], error 3254.1768274681976\n",
      "Iter: 200, weights: [55.53020849  4.97949484  2.79791216  4.60398172], error 27.63140795649138\n",
      "Iter: 400, weights: [56.48093191  5.68083171  1.65864655  5.10113545], error 25.59650755075515\n",
      "Iter: 600, weights: [56.49765318  5.96767617  0.95783811  5.54458678], error 25.202581235275108\n",
      "Iter: 800, weights: [56.49794728  6.10373077  0.50928925  5.87371012], error 25.035537142810078\n",
      "Iter: 1000, weights: [56.49795245  6.17752689  0.21644809  6.10290222], error 24.962392667279616\n",
      "Iter: 1200, weights: [5.64979525e+01 6.22150577e+00 2.34450548e-02 6.25839411e+00], error 24.930145179233328\n",
      "Iter: 1400, weights: [56.49795254  6.24647726 -0.09642739  6.35881114], error 24.916511780210676\n",
      "Iter: 1600, weights: [56.49795254  6.26251442 -0.17540924  6.42431027], error 24.91036873871521\n",
      "Iter: 1800, weights: [56.49795254  6.27329544 -0.22793155  6.4677556 ], error 24.90750908874341\n",
      "Final MSE: 24.906148637923188\n",
      "Iter: 0, weights: [-0.37302196  1.03158453  1.42517982  0.72947844], error 3477.3946590669393\n",
      "Iter: 200, weights: [55.497178    5.25196677  2.74536221  4.39748527], error 27.59152034877419\n",
      "Iter: 400, weights: [56.47981823  5.76095286  1.65537506  5.02752224], error 25.599539455492312\n",
      "Iter: 600, weights: [56.49710085  5.9901129   0.9652785   5.51497929], error 25.208606348205894\n",
      "Iter: 800, weights: [56.49740482  6.10919296  0.51713913  5.85985705], error 25.038646012715816\n",
      "Iter: 1000, weights: [56.49741017  6.1782128   0.22252729  6.09541092], error 24.963816027505104\n",
      "Iter: 1200, weights: [5.64974103e+01 6.22099815e+00 2.77255889e-02 6.25387959e+00], error 24.930785253554\n",
      "Iter: 1400, weights: [56.49741026  6.2451464  -0.09166807  6.35501756], error 24.916952174654394\n",
      "Iter: 1600, weights: [56.49741026  6.26069725 -0.17001835  6.42033424], error 24.91071188257923\n",
      "Iter: 1800, weights: [56.49741026  6.27129199 -0.22216402  6.46357185], error 24.907771445922663\n",
      "Final MSE: 24.90635018617985\n",
      "Iter: 0, weights: [0.80136161 2.54188473 0.77406108 2.10676016], error 3303.9189615857895\n",
      "Iter: 200, weights: [55.51715729  5.59120244  1.88156239  4.95698336], error 26.76335058902821\n",
      "Iter: 400, weights: [56.47949578  5.92437387  1.10076569  5.43826038], error 25.270938781461183\n",
      "Iter: 600, weights: [56.49642134  6.07974455  0.60262042  5.79970443], error 25.065252459557044\n",
      "Iter: 800, weights: [56.49671903  6.16289432  0.27791631  6.0525724 ], error 24.97551018899121\n",
      "Iter: 1000, weights: [56.49672426  6.21202842  0.0640735   6.2244664 ], error 24.935955378558994\n",
      "Iter: 1200, weights: [56.49672436  6.23962818 -0.06777452  6.33558873], error 24.91927995795499\n",
      "Iter: 1400, weights: [56.49672436  6.25590181 -0.15133758  6.40555226], error 24.91199075102908\n",
      "Iter: 1600, weights: [56.49672436  6.26711404 -0.20699144  6.45178955], error 24.9085222261997\n",
      "Iter: 1800, weights: [56.49672436  6.27468614 -0.24401145  6.48243727], error 24.906824635697014\n",
      "Final MSE: 24.90596477538699\n",
      "Iter: 0, weights: [ 2.454366    0.67987342 -0.36606305  0.1964513 ], error 3204.3646843140236\n",
      "Iter: 200, weights: [55.54537793  5.46457834  2.21731657  4.73313285], error 26.98186414433757\n",
      "Iter: 400, weights: [56.47913981  5.86187319  1.31700974  5.27565379], error 25.387066109767314\n",
      "Iter: 600, weights: [56.49556277  6.04468834  0.74418115  5.68733161], error 25.116046125289536\n",
      "Iter: 800, weights: [56.49585161  6.14146413  0.37129855  5.97649155], error 24.9979179118277\n",
      "Iter: 1000, weights: [56.4958567   6.19824867  0.12588232  6.17338812], error 24.945866351912876\n",
      "Iter: 1200, weights: [ 5.64958568e+01  6.23213379e+00 -3.01819315e-02  6.30377327e+00], error 24.923397639773306\n",
      "Iter: 1400, weights: [56.49585679  6.24911664 -0.12263535  6.38235164], error 24.914203142651452\n",
      "Iter: 1600, weights: [56.49585679  6.26122375 -0.18438876  6.43397463], error 24.909792381048607\n",
      "Iter: 1800, weights: [56.49585679  6.26953242 -0.22550647  6.4681115 ], error 24.90761115491381\n",
      "Final MSE: 24.90649289178412\n",
      "Iter: 0, weights: [ 0.91263061 -1.00735445  0.8370821   1.75828644], error 3358.5010414614685\n",
      "Iter: 200, weights: [55.51718392  4.82286243  2.51313892  5.04077392], error 27.482827004434153\n",
      "Iter: 400, weights: [56.47756589  5.65851302  1.44338307  5.33891002], error 25.460014515437166\n",
      "Iter: 600, weights: [56.49445704  5.97734526  0.80673714  5.68626115], error 25.136832095253148\n",
      "Iter: 800, weights: [56.49475412  6.11722156  0.40630041  5.9625363 ], error 25.006064473981954\n",
      "Iter: 1000, weights: [56.49475934  6.18824838  0.1470972   6.15996361], error 24.94939001920752\n",
      "Iter: 1200, weights: [ 5.64947594e+01  6.22779316e+00 -1.77035552e-02  6.29421141e+00], error 24.92486064074526\n",
      "Iter: 1400, weights: [56.49475943  6.24478585 -0.10981147  6.37296999], error 24.91527157783486\n",
      "Iter: 1600, weights: [56.49475943  6.25683421 -0.17147624  6.42455832], error 24.910594868187935\n",
      "Iter: 1800, weights: [56.49475943  6.2651194  -0.21253995  6.45866234], error 24.908234625353295\n",
      "Final MSE: 24.906996451618387\n",
      "Iter: 0, weights: [ 0.83779515  2.34506231 -1.37020175  1.24594526], error 3352.656788435852\n",
      "Iter: 200, weights: [55.51450414  5.90791172  1.27956703  5.26700936], error 26.38133143963882\n",
      "Iter: 400, weights: [56.47615518  6.05957201  0.72402105  5.69092673], error 25.110537343387854\n"
     ]
    },
    {
     "name": "stdout",
     "output_type": "stream",
     "text": [
      "Iter: 600, weights: [56.49306864  6.14624856  0.35922329  5.98144036], error 24.99541780150963\n",
      "Iter: 800, weights: [56.49336612  6.19956599  0.11816046  6.1771879 ], error 24.944827149248045\n",
      "Iter: 1000, weights: [ 5.64933713e+01  6.23068973e+00 -3.03076383e-02  6.30438045e+00], error 24.923402823021583\n",
      "Iter: 1200, weights: [56.49337144  6.24383954 -0.1124904   6.37611533], error 24.915043073447677\n",
      "Iter: 1400, weights: [56.49337144  6.25405579 -0.16762772  6.42277329], error 24.910849046146506\n",
      "Iter: 1600, weights: [56.49337144  6.26130837 -0.20441201  6.45348437], error 24.90866169103668\n",
      "Iter: 1800, weights: [56.49337144  6.26626895 -0.22889942  6.47380257], error 24.907473240673802\n",
      "Final MSE: 24.906800699605974\n",
      "Iter: 0, weights: [2.76792215 0.00369676 0.01125246 1.2443962 ], error 3152.7029957733603\n",
      "Iter: 200, weights: [55.54672638  5.19422784  2.17495815  5.02921075], error 26.99117796937481\n",
      "Iter: 400, weights: [56.47499717  5.78802268  1.25514215  5.40444276], error 25.348959961059695\n",
      "Iter: 600, weights: [56.49132355  6.02730782  0.69263253  5.75176259], error 25.095238488460033\n",
      "Iter: 800, weights: [56.49161069  6.1390414   0.33369536  6.0124081 ], error 24.988471624012384\n",
      "Iter: 1000, weights: [56.49161574  6.19889372  0.09970432  6.19469654], error 24.94176287427922\n",
      "Iter: 1200, weights: [ 5.64916158e+01  6.22891051e+00 -3.63734775e-02  6.31177135e+00], error 24.922663101593354\n",
      "Iter: 1400, weights: [56.49161584  6.24036859 -0.10957235  6.37581037], error 24.91528679208293\n",
      "Iter: 1600, weights: [56.49161584  6.24940301 -0.15868627  6.4174339 ], error 24.911461223780584\n",
      "Iter: 1800, weights: [56.49161584  6.25584491 -0.19146006  6.44481564], error 24.909393675817018\n",
      "Final MSE: 24.908229770976703\n",
      "Iter: 0, weights: [ 1.62565919 -1.72816619 -0.58593277  0.24728154], error 3363.9616098036067\n",
      "Iter: 200, weights: [55.52445479  4.96110868  2.45797986  4.95924939], error 27.35041799256731\n",
      "Iter: 400, weights: [56.47242392  5.69942993  1.42214804  5.31550752], error 25.44672964022876\n",
      "Iter: 600, weights: [56.48909675  5.98835212  0.79709943  5.67949553], error 25.134641427234644\n",
      "Iter: 800, weights: [56.48939     6.11894495  0.40104204  5.96013692], error 25.005608877737753\n",
      "Iter: 1000, weights: [56.48939515  6.18702818  0.14373578  6.15842876], error 24.94937882705417\n",
      "Iter: 1200, weights: [ 5.64893952e+01  6.22430843e+00 -1.38085660e-02  6.29109082e+00], error 24.925457365466514\n",
      "Iter: 1400, weights: [56.48939525  6.23299356 -0.08494236  6.35685293], error 24.91754753302595\n",
      "Iter: 1600, weights: [56.48939525  6.24101377 -0.13329908  6.39866841], error 24.91334951986789\n",
      "Iter: 1800, weights: [56.48939525  6.24711185 -0.16567343  6.4259692 ], error 24.91102078555902\n",
      "Final MSE: 24.90967760024501\n",
      "Iter: 0, weights: [-0.21203595 -0.22231309 -1.09468518 -0.11528106], error 3559.7772522833598\n",
      "Iter: 200, weights: [55.48938381  5.38572416  2.13621638  4.88056373], error 27.036573447804834\n",
      "Iter: 400, weights: [56.46904777  5.84264223  1.25165869  5.35021198], error 25.350406308989317\n",
      "Iter: 600, weights: [56.48627805  6.04086056  0.69688923  5.72874372], error 25.099040439357598\n",
      "Iter: 800, weights: [56.4865811   6.14050049  0.3383223   6.00053331], error 24.990637874214244\n",
      "Iter: 1000, weights: [56.48658643  6.19694365  0.10312385  6.18730486], error 24.942929190241898\n",
      "Iter: 1200, weights: [ 5.64865865e+01  6.22337454e+00 -2.45461607e-02  6.30306158e+00], error 24.924131873196128\n",
      "Iter: 1400, weights: [56.48658652  6.22800039 -0.08100828  6.35658271], error 24.917958131026708\n",
      "Iter: 1600, weights: [56.48658652  6.23378501 -0.11943271  6.39036993], error 24.914512907411552\n",
      "Iter: 1800, weights: [56.48658652  6.23846618 -0.14522864  6.41229264], error 24.912510415551957\n",
      "Final MSE: 24.911307630501543\n",
      "Iter: 0, weights: [0.80044905 0.55420301 0.10474684 0.70531697], error 3374.610309732828\n",
      "Iter: 200, weights: [55.50369156  5.33153748  2.28085813  4.78025975], error 27.13521576466593\n",
      "Iter: 400, weights: [56.46580927  5.81455445  1.34486201  5.27758637], error 25.404411471917225\n",
      "Iter: 600, weights: [56.48273095  6.02417281  0.75779751  5.67828613], error 25.122768885368195\n",
      "Iter: 800, weights: [56.48302856  6.1295743   0.37834034  5.96595173], error 25.001283431605437\n",
      "Iter: 1000, weights: [56.4830338   6.1892937   0.12943389  6.16362161], error 24.947802655281823\n",
      "Iter: 1200, weights: [ 5.64830339e+01  6.21994918e+00 -1.04169202e-02  6.28981330e+00], error 24.926033046351133\n",
      "Iter: 1400, weights: [56.48303389  6.21898419 -0.05658841  6.33892769], error 24.920503593880916\n",
      "Iter: 1600, weights: [56.48303389  6.22233621 -0.08881289  6.36869166], error 24.917296989077926\n",
      "Iter: 1800, weights: [56.48303389  6.22584308 -0.11062786  6.3876617 ], error 24.915359762883238\n",
      "Final MSE: 24.914159909551568\n",
      "Iter: 0, weights: [1.50544393 1.20112704 1.03482731 0.93820105], error 3258.371588807501\n",
      "Iter: 200, weights: [55.51167644  5.3234798   2.49895055  4.55978379], error 27.318517289106687\n",
      "Iter: 400, weights: [56.46153518  5.79312874  1.49430854  5.140014  ], error 25.498983369035447\n",
      "Iter: 600, weights: [56.47824124  6.00448892  0.85830388  5.58910792], error 25.165350161075434\n",
      "Iter: 800, weights: [56.47853507  6.1142805   0.4453107   5.90688976], error 25.02044402509298\n",
      "Iter: 1000, weights: [56.47854024  6.17790147  0.17381048  6.12395013], error 24.956545049291044\n",
      "Iter: 1200, weights: [ 5.64785403e+01  6.21707743e+00 -3.19138046e-05  6.26968676e+00], error 24.928466733066706\n",
      "Iter: 1400, weights: [ 5.64785403e+01  6.20931241e+00 -2.83607745e-02  6.31766628e+00], error 24.92377601187978\n",
      "Iter: 1600, weights: [ 5.64785403e+01  6.20855143e+00 -5.17078288e-02  6.34226992e+00], error 24.921159019198004\n",
      "Iter: 1800, weights: [56.47854033  6.21020085 -0.06789891  6.35725786], error 24.919498187213563\n",
      "Final MSE: 24.91843175908016\n",
      "Iter: 0, weights: [4.17222721 0.50895035 2.73717137 0.56855497], error 2951.2651502598\n",
      "Iter: 200, weights: [55.55299595  4.94711078  3.38959181  4.00099413], error 28.2510949448043\n",
      "Iter: 400, weights: [56.45667816  5.61466696  2.06298353  4.72193562], error 25.916822963398722\n",
      "Iter: 600, weights: [56.47257208  5.90701342  1.22890828  5.29644388], error 25.347514329031046\n",
      "Iter: 800, weights: [56.47285162  6.05523457  0.68913076  5.70727951], error 25.101172212567732\n",
      "Iter: 1000, weights: [56.47285653  6.13970684  0.33485441  5.98913254], error 24.99265847099003\n",
      "Iter: 1200, weights: [56.47285662  6.19156912  0.10078002  6.17911909], error 24.944651563874842\n",
      "Iter: 1400, weights: [ 5.64728566e+01  6.20937439e+00 -9.82410746e-04  6.28680031e+00], error 24.92760490104874\n",
      "Iter: 1600, weights: [ 5.64728566e+01  6.19526405e+00 -8.81423381e-03  6.30902852e+00], error 24.926331077854844\n",
      "Iter: 1800, weights: [ 5.64728566e+01  6.19189711e+00 -1.61362671e-02  6.31972518e+00], error 24.925441396199535\n",
      "Final MSE: 24.924808955385412\n",
      "Iter: 0, weights: [ 1.04949275 -0.19677847  1.66426249  1.80188619], error 3310.649364509479\n",
      "Iter: 200, weights: [55.49101083  4.86625099  2.71079592  4.76404359], error 27.6841043353784\n",
      "Iter: 400, weights: [56.44852535  5.64336711  1.58521841  5.17500402], error 25.559292508699077\n",
      "Iter: 600, weights: [56.46536606  5.95029621  0.90301174  5.58029381], error 25.185111522525297\n",
      "Iter: 800, weights: [56.46566226  6.09047992  0.46971895  5.88987975], error 25.029524956750826\n",
      "Iter: 1000, weights: [56.46566746  6.16421316  0.18789701  6.10786179], error 24.961508695135386\n",
      "Iter: 1200, weights: [5.64656676e+01 6.20729561e+00 2.48468212e-03 6.25644438e+00], error 24.931425548624496\n",
      "Iter: 1400, weights: [ 5.64656676e+01  6.19295013e+00 -1.85647649e-04  6.29605223e+00], error 24.92824040835108\n",
      "Iter: 1600, weights: [ 5.64656676e+01  6.18402693e+00 -9.42223601e-05  6.30500077e+00], error 24.928155724049482\n",
      "Iter: 1800, weights: [ 5.64656676e+01  6.18107906e+00 -9.46600945e-04  6.30797111e+00], error 24.928103110803633\n",
      "Final MSE: 24.928158131826184\n",
      "Iter: 0, weights: [ 1.71691967  1.3681322  -1.03216566 -1.29420927], error 3324.84729063243\n",
      "Iter: 200, weights: [55.49381631  5.78448073  2.25031853  4.34961633], error 27.189616350048453\n",
      "Iter: 400, weights: [56.43964149  5.93310759  1.37887768  5.0995767 ], error 25.45512179115135\n",
      "Iter: 600, weights: [56.45627662  6.04412695  0.79586833  5.5900735 ], error 25.150286050464743\n",
      "Iter: 800, weights: [56.45656919  6.12165106  0.40728195  5.91363742], error 25.016095868567895\n",
      "Iter: 1000, weights: [56.45657434  6.17430811  0.1487087   6.12792301], error 24.95660943600685\n",
      "Iter: 1200, weights: [5.64565744e+01 6.20560255e+00 6.69793549e-04 6.26531143e+00], error 24.931084329688467\n",
      "Iter: 1400, weights: [5.64565744e+01 6.18587281e+00 1.59409692e-04 6.29244057e+00], error 24.929754476717694\n",
      "Iter: 1600, weights: [5.64565744e+01 6.17811314e+00 3.87359944e-04 6.30018920e+00], error 24.929696088669182\n",
      "Iter: 1800, weights: [5.64565744e+01 6.17555733e+00 3.57497462e-04 6.30276906e+00], error 24.929685977930045\n",
      "Final MSE: 24.929663110638327\n",
      "Iter: 0, weights: [ 2.35030181  0.09113497  0.95679752 -0.49697945], error 3215.945068542496\n",
      "Iter: 200, weights: [55.493657    5.16429579  3.01333091  4.14703203], error 27.917857029399908\n",
      "Iter: 400, weights: [56.42833949  5.69438776  1.83011203  4.85237052], error 25.749818361912986\n",
      "Iter: 600, weights: [56.44477864  5.93687822  1.07826418  5.39028282], error 25.27936617428094\n",
      "Iter: 800, weights: [56.44506777  6.06460864  0.58915652  5.76881907], error 25.074574799386546\n",
      "Iter: 1000, weights: [56.44507285  6.13931339  0.26734124  6.02677883], error 24.984036227481578\n",
      "Iter: 1200, weights: [5.64450729e+01 6.18585709e+00 5.44690084e-02 6.20014829e+00], error 24.943832700427482\n",
      "Iter: 1400, weights: [ 5.64450729e+01  6.18727254e+00 -3.91784899e-04  6.27725289e+00], error 24.932400413451848\n",
      "Iter: 1600, weights: [ 5.64450729e+01  6.17412611e+00 -3.09843779e-05  6.29065803e+00], error 24.932167422907234\n",
      "Iter: 1800, weights: [ 5.64450729e+01  6.16973407e+00 -1.05939541e-03  6.29505192e+00], error 24.93215247327131\n",
      "Final MSE: 24.93214995432025\n",
      "Iter: 0, weights: [ 2.7524592  -1.29175425 -1.149271    1.67742803], error 3201.8424319315995\n",
      "Iter: 200, weights: [55.48643827  5.0224881   1.75548141  5.55194879], error 26.931288554091775\n",
      "Iter: 400, weights: [56.41392067  5.74933058  0.9457704   5.68784638], error 25.224256463178282\n",
      "Iter: 600, weights: [56.43023319  6.01701217  0.47526375  5.91401384], error 25.04070172340355\n",
      "Iter: 800, weights: [56.43052009  6.12934337  0.18320174  6.10569309], error 24.970272791196255\n",
      "Iter: 1000, weights: [5.64305251e+01 6.18379088e+00 6.46667997e-04 6.24539503e+00], error 24.939622095667012\n",
      "Iter: 1200, weights: [ 5.64305252e+01  6.17025368e+00 -6.15817951e-04  6.27730160e+00], error 24.936162189531622\n",
      "Iter: 1400, weights: [5.64305252e+01 6.16273830e+00 1.92326931e-05 6.28483869e+00], error 24.936082905339127\n",
      "Iter: 1600, weights: [5.64305252e+01 6.16026869e+00 1.46599682e-03 6.28734623e+00], error 24.936099866320422\n",
      "Iter: 1800, weights: [ 5.64305252e+01  6.15945602e+00 -4.92353528e-04  6.28819008e+00], error 24.93607651703595\n",
      "Final MSE: 24.93607693227481\n",
      "Iter: 0, weights: [-1.42588745  0.59725082  0.11256788 -0.50666398], error 3664.594599497455\n",
      "Iter: 200, weights: [55.39500006  5.38186674  2.58975804  4.33524959], error 27.694543248846447\n",
      "Iter: 400, weights: [56.39423534  5.77594339  1.56469882  5.00843207], error 25.584270458097556\n",
      "Iter: 600, weights: [56.41180984  5.96780885  0.90545683  5.49986651], error 25.213744769259414\n",
      "Iter: 800, weights: [56.41211894  6.07400588  0.47408249  5.83987262], error 25.05190834313239\n",
      "Iter: 1000, weights: [56.41212437  6.13808838  0.18947278  6.06990105], error 24.980047403427072\n",
      "Iter: 1200, weights: [5.64121245e+01 6.17869622e+00 9.70882232e-04 6.22400128e+00], error 24.94797193754704\n",
      "Iter: 1400, weights: [5.64121245e+01 6.16216678e+00 1.62995373e-03 6.26371597e+00], error 24.942583036382683\n",
      "Iter: 1600, weights: [5.64121245e+01 6.15288391e+00 1.44971371e-03 6.27308463e+00], error 24.942478427837454\n",
      "Iter: 1800, weights: [ 5.64121245e+01  6.14979682e+00 -1.20673722e-03  6.27616809e+00], error 24.942413783368437\n",
      "Final MSE: 24.942408553713786\n",
      "Iter: 0, weights: [ 0.93628194 -0.66299879  1.69911896  1.96735529], error 3329.2108226470446\n",
      "Iter: 200, weights: [55.41355337  4.71687451  2.71952799  4.80957376], error 27.961321198183764\n",
      "Iter: 400, weights: [56.37169671  5.57055031  1.57397609  5.16802058], error 25.600612682711876\n",
      "Iter: 600, weights: [56.38854848  5.90046729  0.88725504  5.55602476], error 25.214561250036358\n",
      "Iter: 800, weights: [56.38884487  6.04743513  0.45362972  5.85948693], error 25.05702137664778\n",
      "Iter: 1000, weights: [56.38885008  6.12309075  0.17239903  6.07503265], error 24.988017491220123\n"
     ]
    },
    {
     "name": "stdout",
     "output_type": "stream",
     "text": [
      "Iter: 1200, weights: [5.63888502e+01 6.16519265e+00 3.44578230e-03 6.22078645e+00], error 24.956373276865996\n",
      "Iter: 1400, weights: [5.63888502e+01 6.14683124e+00 8.79786666e-04 6.25168388e+00], error 24.952402871164033\n",
      "Iter: 1600, weights: [ 5.63888502e+01  6.13864210e+00 -8.62034796e-04  6.25979498e+00], error 24.95253525527321\n",
      "Iter: 1800, weights: [ 5.63888502e+01  6.13595828e+00 -1.87899078e-04  6.26251830e+00], error 24.95244381333074\n",
      "Final MSE: 24.952443593699524\n",
      "Iter: 0, weights: [ 0.46078893  0.48809857 -1.1104005   1.28478781], error 3429.270880942925\n",
      "Iter: 200, weights: [55.37626957  5.39192079  1.61482027  5.26251305], error 26.959018432728648\n",
      "Iter: 400, weights: [56.34212012  5.8356659   0.89419392  5.57699951], error 25.242661967212126\n",
      "Iter: 600, weights: [56.35910744  6.01713148  0.45088433  5.85749709], error 25.074786668031802\n",
      "Iter: 800, weights: [56.35940622  6.10320005  0.16714831  6.06568375], error 25.004923083676402\n",
      "Iter: 1000, weights: [5.63594115e+01 6.14682669e+00 2.23450442e-04 6.20707652e+00], error 24.97221099968636\n",
      "Iter: 1200, weights: [5.63594116e+01 6.12870113e+00 2.51023816e-03 6.23493115e+00], error 24.968271059605076\n",
      "Iter: 1400, weights: [ 5.63594116e+01  6.12121455e+00 -3.38484012e-05  6.24270399e+00], error 24.968547776390647\n",
      "Iter: 1600, weights: [5.63594116e+01 6.11862256e+00 8.21009374e-04 6.24514840e+00], error 24.968439580970973\n",
      "Iter: 1800, weights: [5.63594116e+01 6.11777127e+00 1.06878612e-03 6.24595988e+00], error 24.96840900637091\n",
      "Final MSE: 24.968356374271284\n",
      "Iter: 0, weights: [ 2.15251251 -0.06903938  0.22809799  0.1320248 ], error 3243.4541103841157\n",
      "Iter: 200, weights: [55.36944284  5.13907109  2.52922069  4.52562373], error 27.763300641009685\n",
      "Iter: 400, weights: [56.30541936  5.67735185  1.49452776  5.07125737], error 25.608391157086494\n",
      "Iter: 600, weights: [56.32188127  5.91028451  0.84608558  5.5125177 ], error 25.25162742458013\n",
      "Iter: 800, weights: [56.3221708   6.0270966   0.42712529  5.82971334], error 25.098718278060716\n",
      "Iter: 1000, weights: [56.32217589  6.09315541  0.15235956  6.04779076], error 25.030576879450145\n",
      "Iter: 1200, weights: [5.63221760e+01 6.12699401e+00 4.18905311e-03 6.18709605e+00], error 24.99625959747872\n",
      "Iter: 1400, weights: [ 5.63221760e+01  6.10694163e+00 -3.46418235e-05  6.21297105e+00], error 24.9945420635516\n",
      "Iter: 1600, weights: [5.63221760e+01 6.09933023e+00 1.08979588e-03 6.22054103e+00], error 24.994211181170968\n",
      "Iter: 1800, weights: [5.63221760e+01 6.09681723e+00 2.47692744e-04 6.22304879e+00], error 24.994411279123533\n",
      "Final MSE: 24.994799470066525\n",
      "Iter: 0, weights: [-0.45159024  1.74928751 -0.54899571 -0.53279083], error 3538.159832516076\n",
      "Iter: 200, weights: [55.27753421  5.66293448  2.12753022  4.38346097], error 27.67052517419682\n",
      "Iter: 400, weights: [56.25753361  5.83716092  1.28139251  5.08310879], error 25.543961714652887\n",
      "Iter: 600, weights: [56.27476979  5.95331876  0.71893899  5.54768612], error 25.25001236610175\n",
      "Iter: 800, weights: [56.27507294  6.03063936  0.34514838  5.8563115 ], error 25.121872624829845\n",
      "Iter: 1000, weights: [56.27507827  6.08205948  0.09675294  6.06136625], error 25.064128282703837\n",
      "Iter: 1200, weights: [5.62750784e+01 6.09426610e+00 2.21680526e-03 6.16922647e+00], error 25.036013194979123\n",
      "Iter: 1400, weights: [5.62750784e+01 6.07699876e+00 6.78030494e-03 6.18769581e+00], error 25.036614115772437\n",
      "Iter: 1600, weights: [5.62750784e+01 6.07093591e+00 6.04455925e-03 6.19347582e+00], error 25.0338834754576\n",
      "Iter: 1800, weights: [5.62750784e+01 6.06899760e+00 3.90110725e-03 6.19544893e+00], error 25.034578972867692\n",
      "Final MSE: 25.035455989964056\n",
      "Iter: 0, weights: [ 0.98827841  1.22316358 -0.34579206 -1.69495155], error 3406.1090757315615\n",
      "Iter: 200, weights: [55.24417316  5.55849446  2.56715219  3.96518013], error 28.250656618948927\n",
      "Iter: 400, weights: [56.19842294  5.74935652  1.57253245  4.80086772], error 25.81961347027957\n",
      "Iter: 600, weights: [56.21520623  5.88200394  0.90969704  5.35239988], error 25.410359590797462\n",
      "Iter: 800, weights: [56.21550141  5.97193882  0.46868251  5.71776003], error 25.231155140726592\n",
      "Iter: 1000, weights: [56.21550661  6.03224564  0.1754585   5.96019618], error 25.150267635215037\n",
      "Iter: 1200, weights: [5.62155067e+01 6.06871056e+00 9.46438133e-03 6.11673400e+00], error 25.109612132001416\n",
      "Iter: 1400, weights: [5.62155067e+01 6.04626554e+00 2.91541424e-03 6.14773705e+00], error 25.10121968363552\n",
      "Iter: 1600, weights: [5.62155067e+01 6.03758336e+00 8.16956356e-03 6.15674866e+00], error 25.09852274740093\n",
      "Iter: 1800, weights: [ 5.62155067e+01  6.03462155e+00 -3.61330770e-04  6.15966684e+00], error 25.102468765177413\n",
      "Final MSE: 25.101690318437544\n",
      "Iter: 0, weights: [ 0.26793876  0.60805195  2.36337274 -1.05631506], error 3428.235935728347\n",
      "Iter: 200, weights: [55.15747957  4.96229108  3.54473852  3.44729177], error 29.69533967911972\n",
      "Iter: 400, weights: [56.12287388  5.47497483  2.17528582  4.35964612], error 26.42567099260782\n",
      "Iter: 600, weights: [56.13985319  5.7274566   1.29292662  5.02151981], error 25.738283730487268\n",
      "Iter: 800, weights: [56.14015182  5.86838837  0.71503331  5.47828381], error 25.437730857416366\n",
      "Iter: 1000, weights: [56.14015707  5.95386359  0.33359258  5.78696371], error 25.302401613813224\n",
      "Iter: 1200, weights: [56.14015716  6.00817271  0.0809083   5.99365227], error 25.240715422653857\n",
      "Iter: 1400, weights: [5.61401572e+01 6.01356837e+00 2.31223558e-03 6.09155960e+00], error 25.207862190766505\n",
      "Iter: 1600, weights: [5.61401572e+01 5.99715214e+00 1.34830002e-03 6.10818433e+00], error 25.20797288911138\n",
      "Iter: 1800, weights: [5.61401572e+01 5.99178660e+00 1.05409877e-02 6.11377650e+00], error 25.202114961428972\n",
      "Final MSE: 25.206539932703052\n",
      "Iter: 0, weights: [-0.13146875 -1.24938053 -1.38385777  1.43993994], error 3545.536839089798\n",
      "Iter: 200, weights: [55.05715154  4.9042343   1.63399996  5.34775128], error 28.240706883631788\n",
      "Iter: 400, weights: [56.02747931  5.57346208  0.85172801  5.51047467], error 25.702303796461667\n",
      "Iter: 600, weights: [56.04454538  5.82285486  0.3931751   5.74184185], error 25.497871247566202\n",
      "Iter: 800, weights: [56.04484554  5.92912177  0.10714377  5.9331312 ], error 25.42091398178484\n",
      "Iter: 1000, weights: [5.60448508e+01 5.95514063e+00 4.26174727e-03 6.03718310e+00], error 25.376559132029254\n",
      "Iter: 1200, weights: [5.60448509e+01 5.94047324e+00 8.67747305e-03 6.05240259e+00], error 25.372156799239765\n",
      "Iter: 1400, weights: [5.60448509e+01 5.93548093e+00 8.72712709e-03 6.05725364e+00], error 25.372218523419612\n",
      "Iter: 1600, weights: [5.60448509e+01 5.93398504e+00 7.83648030e-03 6.05906240e+00], error 25.372634843437947\n",
      "Iter: 1800, weights: [5.60448509e+01 5.93344190e+00 6.33893015e-03 6.05960950e+00], error 25.373843051257815\n",
      "Final MSE: 25.37557156395267\n",
      "Iter: 0, weights: [ 2.58328085  0.3597404  -0.27274804  1.96595057], error 3155.305951649069\n",
      "Iter: 200, weights: [54.98614326  4.99665767  1.65265723  5.10280072], error 28.56558918428356\n",
      "Iter: 400, weights: [55.90780201  5.55012816  0.87701144  5.36896921], error 26.003711718547084\n",
      "Iter: 600, weights: [55.92401209  5.76664795  0.40904652  5.64128372], error 25.786046092572697\n",
      "Iter: 800, weights: [55.9242972   5.86447903  0.11254919  5.85131483], error 25.700465879262783\n",
      "Iter: 1000, weights: [5.59243022e+01 5.88708343e+00 8.90504746e-03 5.96279239e+00], error 25.64387129057577\n",
      "Iter: 1200, weights: [5.59243023e+01 5.87069204e+00 6.82542454e-03 5.97990732e+00], error 25.644856902598956\n",
      "Iter: 1400, weights: [5.59243023e+01 5.86562581e+00 6.41138277e-04 5.98600271e+00], error 25.650167521314206\n",
      "Iter: 1600, weights: [5.59243023e+01 5.86367781e+00 1.54689866e-02 5.98775773e+00], error 25.634690214997068\n",
      "Iter: 1800, weights: [5.59243023e+01 5.86270326e+00 6.65014609e-03 5.98801619e+00], error 25.644837995440536\n",
      "Final MSE: 25.65132597996358\n",
      "Iter: 0, weights: [ 1.2858664   1.27620717 -0.30061613  0.2386014 ], error 3319.812125662001\n",
      "Iter: 200, weights: [54.81352962  5.23721195  1.94756521  4.39757082], error 29.569756303441448\n",
      "Iter: 400, weights: [55.7549713   5.533537    1.11105743  4.97100849], error 26.597138826840258\n",
      "Iter: 600, weights: [55.77152933  5.68304948  0.57001925  5.38190311], error 26.297761338050794\n",
      "Iter: 800, weights: [55.77182055  5.76798316  0.2150298   5.66404584], error 26.171447285535653\n",
      "Iter: 1000, weights: [5.57718257e+01 5.81468965e+00 2.22068018e-03 5.84798900e+00], error 26.09965518531905\n",
      "Iter: 1200, weights: [5.57718258e+01 5.78834142e+00 1.10674440e-02 5.88282102e+00], error 26.0729983623825\n",
      "Iter: 1400, weights: [5.57718258e+01 5.77824103e+00 7.85114066e-03 5.89295418e+00], error 26.07723157824024\n",
      "Iter: 1600, weights: [5.57718258e+01 5.77535457e+00 2.81243543e-03 5.89689386e+00], error 26.082554186044312\n",
      "Iter: 1800, weights: [5.57718258e+01 5.77445860e+00 2.56330770e-02 5.89826010e+00], error 26.050740148926813\n",
      "Final MSE: 26.063565997706867\n",
      "Iter: 0, weights: [-0.06417411  0.82387605  0.38358538 -0.65438722], error 3495.9507718056984\n",
      "Iter: 200, weights: [54.60097764  5.00657295  2.42427908  3.90916597], error 31.248626432434133\n",
      "Iter: 400, weights: [55.56176423  5.35479833  1.41389702  4.6109919 ], error 27.540754506675135\n",
      "Iter: 600, weights: [55.57866249  5.53268183  0.75923895  5.11106002], error 27.104324204029105\n",
      "Iter: 800, weights: [55.57895969  5.63460595  0.32933435  5.45363417], error 26.91786929072366\n",
      "Iter: 1000, weights: [5.55789649e+01 5.69737713e+00 4.52212860e-02 5.68440405e+00], error 26.830324253301377\n",
      "Iter: 1200, weights: [ 5.55789650e+01  5.68416628e+00 -4.15957266e-04  5.76236915e+00], error 26.78244489185637\n",
      "Iter: 1400, weights: [5.55789650e+01 5.66776365e+00 2.04813065e-02 5.77614488e+00], error 26.750079142211565\n",
      "Iter: 1600, weights: [5.55789650e+01 5.66330901e+00 2.66425122e-03 5.78174349e+00], error 26.77940340235271\n",
      "Iter: 1800, weights: [5.55789650e+01 5.66093261e+00 1.87973763e-02 5.78259016e+00], error 26.753733892531443\n",
      "Final MSE: 26.781239900197875\n",
      "Iter: 0, weights: [ 0.28981451  1.7481863   2.09620964 -0.02774086], error 3391.7234711584424\n",
      "Iter: 200, weights: [54.36689189  4.81474027  2.75469792  3.47507396], error 33.27720567408371\n",
      "Iter: 400, weights: [55.31799664  5.17836783  1.62106197  4.28820409], error 28.881095780702584\n",
      "Iter: 600, weights: [55.33472462  5.37039089  0.88329903  4.85979599], error 28.31884562375554\n",
      "Iter: 800, weights: [55.33501883  5.48289458  0.39779966  5.24914978], error 28.07655456974652\n",
      "Iter: 1000, weights: [55.335024    5.55305636  0.07663081  5.51077691], error 27.961983780085397\n",
      "Iter: 1200, weights: [5.53350241e+01 5.54590396e+00 3.68358608e-02 5.61252680e+00], error 27.815969092730928\n",
      "Iter: 1400, weights: [5.53350241e+01 5.52727247e+00 3.43077412e-02 5.63090001e+00], error 27.82183675289026\n",
      "Iter: 1600, weights: [5.53350241e+01 5.52038063e+00 2.59417340e-02 5.63609473e+00], error 27.844661535462528\n",
      "Iter: 1800, weights: [5.53350241e+01 5.51822836e+00 1.67915482e-02 5.63794746e+00], error 27.86607958574994\n",
      "Final MSE: 27.88291138271928\n",
      "Iter: 0, weights: [ 1.16692798  0.60024205  0.34797716 -1.40339329], error 3371.0230618621836\n",
      "Iter: 200, weights: [54.07919533  4.73155988  2.39578495  3.56842061], error 35.2539422453812\n",
      "Iter: 400, weights: [55.00981346  5.06174088  1.36675843  4.30650726], error 30.533181090525837\n",
      "Iter: 600, weights: [55.02618112  5.23606887  0.69706176  4.82534385], error 30.03383278741611\n",
      "Iter: 800, weights: [55.02646899  5.33819881  0.25635727  5.17876752], error 29.821518018327982\n",
      "Iter: 1000, weights: [5.50264741e+01 5.38925245e+00 5.41145106e-03 5.40102388e+00], error 29.68629325730285\n",
      "Iter: 1200, weights: [5.50264741e+01 5.35497499e+00 1.23489456e-02 5.43893592e+00], error 29.652692214979453\n",
      "Iter: 1400, weights: [5.50264741e+01 5.34332659e+00 8.64008818e-03 5.45121200e+00], error 29.661327223926293\n",
      "Iter: 1600, weights: [5.50264741e+01 5.34041973e+00 2.82886412e-03 5.45637451e+00], error 29.671261566360336\n",
      "Iter: 1800, weights: [5.50264741e+01 5.33954989e+00 5.39352848e-02 5.45814900e+00], error 29.52115673118837\n",
      "Final MSE: 29.561692836421734\n",
      "Iter: 0, weights: [ 1.51203733 -1.78902343 -0.44822529  0.71772846], error 3359.0861049142645\n",
      "Iter: 200, weights: [53.70185815  4.14559655  1.7959689   4.29380587], error 38.425364267813016\n",
      "Iter: 400, weights: [54.61976993  4.79150223  0.88636198  4.60893853], error 33.129931890428665\n",
      "Iter: 600, weights: [54.63591411  5.04453619  0.33719675  4.92951054], error 32.73686939315627\n",
      "Iter: 800, weights: [54.63619806  5.15295881  0.05573557  5.16940621], error 32.38929998206392\n"
     ]
    },
    {
     "name": "stdout",
     "output_type": "stream",
     "text": [
      "Iter: 1000, weights: [5.46362031e+01 5.12509920e+00 5.15292493e-02 5.20893338e+00], error 32.357918531975415\n",
      "Iter: 1200, weights: [5.46362031e+01 5.11308364e+00 3.12071796e-02 5.21891504e+00], error 32.440437023054145\n",
      "Iter: 1400, weights: [5.46362031e+01 5.11112383e+00 1.19011305e-02 5.22462971e+00], error 32.49738747985899\n",
      "Iter: 1600, weights: [54.63620314  5.11135127  0.06608369  5.22761507], error 32.28577251200833\n",
      "Iter: 1800, weights: [5.46362031e+01 5.10819296e+00 3.96836874e-02 5.22486053e+00], error 32.40495959298328\n",
      "Final MSE: 32.48193471635581\n",
      "Iter: 0, weights: [ 1.67084566 -0.51526664 -0.17002914 -0.29852341], error 3327.9366120971526\n",
      "Iter: 200, weights: [53.21969699  4.12200024  1.84142455  3.70520994], error 43.912154456357214\n",
      "Iter: 400, weights: [54.12633543  4.58607883  0.92000515  4.20565255], error 37.78422404832848\n",
      "Iter: 600, weights: [54.14228134  4.78924341  0.34070699  4.60455837], error 37.32636620195463\n",
      "Iter: 800, weights: [5.41425618e+01 4.87403960e+00 3.45747631e-02 4.86826458e+00], error 37.01385682888828\n",
      "Iter: 1000, weights: [5.41425667e+01 4.84376522e+00 5.71513383e-04 4.91870162e+00], error 37.07258379207898\n",
      "Iter: 1200, weights: [5.41425668e+01 4.82532785e+00 3.27983244e-02 4.92602003e+00], error 36.97457744182508\n",
      "Iter: 1400, weights: [54.14256682  4.82241521  0.07027764  4.9321705 ], error 36.783004337035365\n",
      "Iter: 1600, weights: [5.41425668e+01 4.82225991e+00 1.16347715e-02 4.93498913e+00], error 37.04541872693215\n",
      "Iter: 1800, weights: [5.41425668e+01 4.81837563e+00 4.11655356e-02 4.93158924e+00], error 36.94188035028317\n",
      "Final MSE: 36.716551368298504\n",
      "Iter: 0, weights: [ 1.08884895  0.24605385  0.81390268 -0.24206657], error 3362.027353895658\n",
      "Iter: 200, weights: [52.59606392  3.8291525   1.93171867  3.17779176], error 52.621203978270046\n",
      "Iter: 400, weights: [53.50197007  4.25013303  0.9533576   3.77748666], error 45.20601655401091\n",
      "Iter: 600, weights: [53.5179031   4.4457982   0.32959615  4.22901288], error 44.64728875012629\n",
      "Iter: 800, weights: [53.51818332  4.5216829   0.11610703  4.509303  ], error 44.3802627923249\n",
      "Iter: 1000, weights: [ 5.35181883e+01  4.48106880e+00 -1.17569116e-03  4.55091618e+00], error 44.358920062038116\n",
      "Iter: 1200, weights: [53.51818834  4.46552422  0.10744764  4.56261203], error 43.73506691441532\n",
      "Iter: 1400, weights: [53.51818834  4.45752996  0.0907916   4.56318178], error 43.878645041731815\n",
      "Iter: 1600, weights: [53.51818834  4.45440019  0.0746936   4.56264351], error 43.996653759774716\n",
      "Iter: 1800, weights: [53.51818834  4.45253873  0.05920181  4.56164626], error 44.10678373605394\n",
      "Final MSE: 44.19258588266403\n",
      "Iter: 0, weights: [1.42049707 0.63776395 0.32437857 0.02652115], error 3301.226919473828\n",
      "Iter: 200, weights: [51.82603861  3.6075998   1.39287355  3.03672728], error 65.13873001147569\n",
      "Iter: 400, weights: [52.71256858  3.91889742  0.5632456   3.5887889 ], error 56.65610647695926\n",
      "Iter: 600, weights: [5.27281608e+01 4.07204995e+00 2.87828485e-02 3.98949025e+00], error 56.150196195731795\n",
      "Iter: 800, weights: [52.72843506  4.023816    0.11329973  4.06694371], error 55.26586741971967\n",
      "Iter: 1000, weights: [5.27284399e+01 4.00592434e+00 1.87213101e-02 4.09066849e+00], error 55.93709917983104\n",
      "Iter: 1200, weights: [52.72843997  3.99288941  0.05868261  4.09049282], error 55.73637705363008\n",
      "Iter: 1400, weights: [52.72843997  3.99315812  0.10829614  4.09582627], error 55.31663144581031\n",
      "Iter: 1600, weights: [5.27284400e+01 3.99821354e+00 9.80249296e-03 4.10302045e+00], error 55.968204260019846\n",
      "Iter: 1800, weights: [5.27284400e+01 3.99082298e+00 4.56048842e-02 4.09503238e+00], error 55.816482087907914\n",
      "Final MSE: 55.47895583646165\n",
      "Iter: 0, weights: [1.21162301 0.81751118 0.89165835 1.87419142], error 3269.348829157073\n",
      "Iter: 200, weights: [50.8410165   2.98365481  0.77694202  3.11872454], error 85.09510057228225\n",
      "Iter: 400, weights: [51.71389562  3.39864202  0.07347715  3.44287211], error 75.03430561736239\n",
      "Iter: 600, weights: [5.17292478e+01 3.41667459e+00 4.55133305e-02 3.49723244e+00], error 74.42170513054626\n",
      "Iter: 800, weights: [51.72951778  3.4236601   0.1851855   3.51821835], error 74.63445447482142\n",
      "Iter: 1000, weights: [51.72952253  3.40529854  0.09412292  3.5014672 ], error 74.0201640295218\n",
      "Iter: 1200, weights: [5.17295226e+01 3.41101852e+00 3.11099783e-02 3.50910721e+00], error 74.49605244880561\n",
      "Iter: 1400, weights: [51.72952262  3.41211885  0.15386243  3.51121066], error 73.28451530621773\n",
      "Iter: 1600, weights: [51.72952262  3.40492422  0.07332078  3.50292384], error 74.21010779282118\n",
      "Iter: 1800, weights: [5.17295226e+01 3.41475091e+00 1.48189024e-02 3.51407727e+00], error 74.56678540940841\n",
      "Final MSE: 73.70787091260269\n",
      "Iter: 0, weights: [ 0.28045355 -0.08305351 -1.26140876  1.04322359], error 3489.893484589603\n",
      "Iter: 200, weights: [49.58337544  2.4703185   0.234797    2.71715531], error 116.6801090100522\n",
      "Iter: 400, weights: [50.4505126   2.64367531  0.05518643  2.78410271], error 104.31836868724626\n",
      "Iter: 600, weights: [5.04657638e+01 2.66651246e+00 2.90217596e-02 2.77404715e+00], error 104.29013883880187\n",
      "Iter: 800, weights: [5.04660320e+01 2.67796078e+00 8.08883228e-03 2.77542319e+00], error 104.38173670286535\n",
      "Iter: 1000, weights: [50.46603671  2.67875347  0.22128637  2.77271595], error 101.8131997535852\n",
      "Iter: 1200, weights: [50.4660368   2.67057811  0.18339054  2.76225798], error 102.50022096370863\n",
      "Iter: 1400, weights: [50.4660368   2.66610397  0.15085603  2.7567975 ], error 103.0186524447266\n",
      "Iter: 1600, weights: [50.4660368   2.66310509  0.12005039  2.75310174], error 103.478545789543\n",
      "Iter: 1800, weights: [50.4660368   2.66415842  0.09441159  2.75407521], error 103.76669488739404\n",
      "Final MSE: 103.98082463311471\n",
      "Iter: 0, weights: [ 0.95482444  0.27929928 -0.22821208  0.05663872], error 3406.2261561221203\n",
      "Iter: 200, weights: [48.02521737  1.75961202  0.14989935  1.65328926], error 166.43662277591565\n",
      "Iter: 400, weights: [48.85308893  1.78593111  0.29942662  1.80825437], error 152.29709805444537\n",
      "Iter: 600, weights: [4.88676495e+01 1.75712540e+00 1.97725518e-02 1.81888837e+00], error 151.96073128594338\n",
      "Iter: 800, weights: [4.88679056e+01 1.74365006e+00 4.25020200e-02 1.81782516e+00], error 151.83558270731385\n",
      "Iter: 1000, weights: [48.86791008  1.73592268  0.06546854  1.81377093], error 151.6666163002958\n",
      "Iter: 1200, weights: [48.86791016  1.73083968  0.08963244  1.80966904], error 151.43754610890943\n",
      "Iter: 1400, weights: [48.86791016  1.72758719  0.11568701  1.80671867], error 151.13158679232382\n",
      "Iter: 1600, weights: [48.86791016  1.72647254  0.14391418  1.80581612], error 150.72559292282716\n",
      "Iter: 1800, weights: [48.86791016  1.72795293  0.17504093  1.80768555], error 150.1904240269709\n",
      "Final MSE: 149.487654425912\n",
      "Iter: 0, weights: [2.13565653 0.69357246 0.26801739 0.76770142], error 3188.099971744246\n",
      "Iter: 200, weights: [46.06013923  0.54270385  0.21568271  0.61152272], error 241.57120212299947\n",
      "Iter: 400, weights: [46.83268068  0.56593606  0.34482276  0.63680828], error 222.2311047996956\n",
      "Iter: 600, weights: [46.8462681   0.5612962   0.04959302  0.63004317], error 227.95678384495096\n",
      "Iter: 800, weights: [46.84650708  0.54550407  0.12997665  0.61223519], error 227.0479297304541\n",
      "Iter: 1000, weights: [46.84651128  0.54518014  0.23181442  0.61267799], error 225.04632210460258\n",
      "Iter: 1200, weights: [46.84651135  0.57423678  0.36808937  0.6453549 ], error 221.17798900820867\n",
      "Iter: 1400, weights: [46.84651136  0.55868449  0.05999854  0.6268914 ], error 227.86358108633598\n",
      "Iter: 1600, weights: [46.84651136  0.54426279  0.14274723  0.61092571], error 226.84791893931612\n",
      "Iter: 1800, weights: [46.84651136  0.54442225  0.24471926  0.61171096], error 224.82948151244378\n",
      "Final MSE: 228.257362342607\n",
      "Iter: 0, weights: [ 1.65989677  0.11233063 -0.9645232  -0.38873675], error 3329.324264507703\n",
      "Iter: 200, weights: [43.53996322  0.26384432  0.13743735  0.32306553], error 310.788788705284\n",
      "Iter: 400, weights: [ 4.42765476e+01  3.64943200e-01  2.02442645e-01 -2.36922292e-03], error 295.3303095551974\n",
      "Iter: 600, weights: [ 4.42895026e+01 -2.09867189e-02  2.69682864e-01  1.57258630e-01], error 298.4733125759863\n",
      "Iter: 800, weights: [44.28973045  0.05782556  0.31889995  0.30169177], error 292.6357847255651\n",
      "Iter: 1000, weights: [ 4.42897345e+01  1.39793081e-01  3.70903588e-01 -3.59715486e-02], error 297.057568881391\n",
      "Iter: 1200, weights: [44.28973453  0.24250948  0.43360258  0.11683081], error 300.46958853636784\n",
      "Iter: 1400, weights: [4.42897345e+01 3.62774159e-01 1.65120520e-02 2.82714061e-01], error 292.76968231931335\n",
      "Iter: 1600, weights: [4.42897345e+01 3.05138813e-02 1.31464026e-01 5.22683705e-04], error 303.73327785055693\n",
      "Iter: 1800, weights: [44.28973453  0.14221623  0.21070146  0.17724383], error 295.72725542186845\n",
      "Final MSE: 286.38078591004967\n",
      "Iter: 0, weights: [0.12516633 1.00397268 1.16474728 1.42142699], error 3432.9614662574663\n",
      "Iter: 200, weights: [40.33589653 -0.06821714  0.41444077  0.37285138], error 413.2681161446063\n",
      "Iter: 400, weights: [41.04312071  0.32837377 -0.10812942  0.16561295], error 384.3278973738076\n",
      "Iter: 600, weights: [ 4.10555593e+01  1.17904474e-01 -6.06712222e-03 -3.74700156e-02], error 390.78309548697035\n",
      "Iter: 800, weights: [41.0557781  -0.08631512  0.09704329  0.37638312], error 384.0415594940359\n",
      "Iter: 1000, weights: [41.05578195  0.32386778  0.19808372  0.1687237 ], error 377.6768620272841\n",
      "Iter: 1200, weights: [ 4.10557820e+01  1.16137524e-01  3.00421812e-01 -3.64537271e-02], error 384.338016243787\n",
      "Iter: 1400, weights: [41.05578202 -0.08011187  0.41366918  0.38496822], error 390.05151765675555\n",
      "Iter: 1600, weights: [41.05578202  0.32511162 -0.11009859  0.17073509], error 383.928917210085\n",
      "Iter: 1800, weights: [ 4.10557820e+01  1.17149905e-01 -7.81951634e-03 -3.49587983e-02], error 390.77450051135173\n",
      "Final MSE: 384.0400104958603\n",
      "Iter: 0, weights: [-0.45847044  0.82415951  1.94944579  0.86048761], error 3508.5320715227726\n",
      "Iter: 200, weights: [36.32111651  0.24997508 -0.17091278  0.32544712], error 547.5149688353813\n",
      "Iter: 400, weights: [36.95397044 -0.15719559  0.24006638 -0.03879704], error 529.8387025069155\n",
      "Iter: 600, weights: [36.96510105  0.20745599 -0.14464119  0.36680669], error 520.8988738299365\n",
      "Iter: 800, weights: [36.96529681  0.5315308   0.21414237 -0.04591359], error 532.1077765270553\n",
      "Iter: 1000, weights: [36.96530025  0.10051621 -0.17069634  0.36067025], error 523.8029351657494\n",
      "Iter: 1200, weights: [3.69653003e+01 4.85189405e-01 2.56522913e-01 1.35845734e-02], error 530.9353836259888\n",
      "Iter: 1400, weights: [36.96530031  0.06512473 -0.12351631  0.42924433], error 539.2079624426203\n",
      "Iter: 1600, weights: [3.69653003e+01 3.73322351e-01 2.17375167e-01 6.12017952e-04], error 517.8184995171716\n",
      "Iter: 1800, weights: [ 3.69653003e+01 -3.65437544e-02 -1.62654131e-01  4.09005068e-01], error 525.5318430345156\n",
      "Final MSE: 514.0606923503765\n",
      "Iter: 0, weights: [-0.48403369  1.45714151 -0.26808708  0.45644443], error 3568.9241143707322\n",
      "Iter: 200, weights: [ 3.12415117e+01 -7.40065278e-02  6.56947553e-01 -1.64142548e-02], error 789.3896873508866\n",
      "Iter: 400, weights: [31.7817612   0.45123518  0.67214583  0.57775128], error 781.0036544852048\n",
      "Iter: 600, weights: [ 3.17912631e+01 -2.51196929e-02  6.60104663e-01  1.54457229e-01], error 756.505917279658\n",
      "Iter: 800, weights: [31.7914302   0.50725795  0.66198348 -0.25560409], error 775.8133680302859\n",
      "Iter: 1000, weights: [31.79143314  0.0381156   0.66045344  0.32329468], error 751.5468863517583\n",
      "Iter: 1200, weights: [31.79143319  0.56874692  0.66018582 -0.08557204], error 770.5393404555173\n",
      "Iter: 1400, weights: [31.79143319  0.09421206  0.66387997  0.50196642], error 767.991191323563\n",
      "Iter: 1600, weights: [31.79143319  0.62711184  0.66433472  0.0951429 ], error 765.0739660740271\n",
      "Iter: 1800, weights: [31.79143319  0.1766278   0.67010003  0.68221831], error 761.988430333967\n",
      "Final MSE: 758.7793437613361\n",
      "Iter: 0, weights: [ 0.9470182  -0.21082073 -0.42595812  1.19449422], error 3290.499396601678\n",
      "Iter: 200, weights: [24.81984936  0.1123133  -0.42940299  0.20626977], error 1140.0628500806347\n",
      "Iter: 400, weights: [25.23972344  0.5286833  -0.32485464  0.6004125 ], error 1148.2365954720033\n",
      "Iter: 600, weights: [25.24710817 -0.33547476 -0.23965163 -0.2727006 ], error 1128.4610377979136\n",
      "Iter: 800, weights: [25.24723805  0.10275371 -0.08807187  0.16662169], error 1106.9087433611871\n",
      "Iter: 1000, weights: [25.24724033  0.53951005  0.05699009  0.60295693], error 1138.863247100378\n"
     ]
    },
    {
     "name": "stdout",
     "output_type": "stream",
     "text": [
      "Iter: 1200, weights: [25.24724037 -0.32672613  0.14690562 -0.26551801], error 1120.046856559318\n",
      "Iter: 1400, weights: [25.24724037  0.09233469  0.27714623  0.15439824], error 1100.440403272882\n",
      "Iter: 1600, weights: [25.24724037  0.55545528  0.4540766   0.62067109], error 1157.6465486448872\n",
      "Iter: 1800, weights: [25.24724037 -0.31716846  0.53074026 -0.25628814], error 1138.1276807631916\n",
      "Final MSE: 1117.4102003078358\n",
      "Iter: 0, weights: [ 0.94934461 -0.50199469 -0.47384016 -0.15322256], error 3306.1159044097853\n",
      "Iter: 200, weights: [16.68801731  0.98079415 -0.50624869 -0.21096406], error 1736.5114208393438\n",
      "Iter: 400, weights: [16.96482825  0.92429545 -0.48832245 -0.21478216], error 1715.0469801585562\n",
      "Iter: 600, weights: [16.96969678  0.85284954 -0.48862624 -0.23518773], error 1716.6982300644352\n",
      "Iter: 800, weights: [16.96978241  0.78031987 -0.49157329 -0.25603381], error 1718.8437373241832\n",
      "Iter: 1000, weights: [16.96978392  0.73149572 -0.48070161 -0.26695705], error 1719.9536003988765\n",
      "Iter: 1200, weights: [16.96978394  0.65842931 -0.4748523  -0.27245739], error 1721.607943989858\n",
      "Iter: 1400, weights: [16.96978395  0.58201834 -0.47883448 -0.28406015], error 1723.7051227427971\n",
      "Iter: 1600, weights: [16.96978395  0.5154617  -0.48563578 -0.30067308], error 1725.7682700596656\n",
      "Iter: 1800, weights: [16.96978395  0.42574824 -0.48746923 -0.3250738 ], error 1728.4565268528418\n",
      "Final MSE: 1696.022312483829\n",
      "Iter: 0, weights: [ 1.98301187 -0.37030838  0.27537584 -0.92016333], error 3437.728696652979\n",
      "Iter: 200, weights: [ 6.42055545  0.39799911 -0.37247816 -0.0290134 ], error 2620.3670718103335\n",
      "Iter: 400, weights: [6.49860273 1.11685418 0.87469775 0.75163454], error 2681.431515335916\n",
      "Iter: 600, weights: [ 6.49997542 -0.15468083  0.12801835 -0.46167958], error 2621.732635152912\n",
      "Iter: 800, weights: [6.49999957 1.15680982 0.06024379 0.96543156], error 2648.893312608648\n",
      "Iter: 1000, weights: [ 6.49999999  0.30462079 -0.23973478  0.17765413], error 2607.8905410377292\n",
      "Iter: 1200, weights: [ 6.5         1.19564524 -0.74802921  1.1828449 ], error 2660.516851472087\n",
      "Iter: 1400, weights: [ 6.5        -0.09675638  0.51181739 -0.02288433], error 2643.3278137334623\n",
      "Iter: 1600, weights: [ 6.5         1.20749149  0.44794973 -0.59280611], error 2673.28483268489\n",
      "Iter: 1800, weights: [6.5        0.36709365 0.23128755 0.70343913], error 2626.1950060309446\n",
      "Final MSE: 2645.103259744462\n"
     ]
    }
   ],
   "source": [
    "#посмотрим график изменения весов при L1 регуляризации в зависимости от lambda\n",
    "lambdas = np.logspace(-3, 2, 50)\n",
    "w_array_L1= gradient_descent_reg_l1(X_st, y, iterations=2000, eta=1e-2, lambda_=0)\n",
    "for l in lambdas[1:]:\n",
    "    w_array_L1 = np.vstack([w_array_L1, gradient_descent_reg_l1(X_st, y, iterations=2000, eta=1e-2, lambda_=l)])"
   ]
  },
  {
   "cell_type": "code",
   "execution_count": 553,
   "metadata": {},
   "outputs": [
    {
     "data": {
      "image/png": "[encoded data removed]",
      "text/plain": [
       "<Figure size 1080x504 with 1 Axes>"
      ]
     },
     "metadata": {
      "needs_background": "light"
     },
     "output_type": "display_data"
    }
   ],
   "source": [
    "plt.figure(figsize=(15, 7))\n",
    "plt.plot(lambdas, w_array_L1[:,0], label='x1', color='blue')\n",
    "plt.plot(lambdas, w_array_L1[:,1], label='x2', color='red')\n",
    "plt.plot(lambdas, w_array_L1[:,2], label='x3', color='green')\n",
    "plt.plot(lambdas, w_array_L1[:,3], label='x4', color='orange')\n",
    "plt.xlabel('lambda', fontsize = 15)\n",
    "plt.ylabel('weight', fontsize = 15)\n",
    "plt.title('График зависимости весов признаков от lambda при L1', fontsize = 17)\n",
    "plt.legend()\n",
    "plt.grid()\n",
    "plt.show()"
   ]
  },
  {
   "cell_type": "markdown",
   "metadata": {},
   "source": [
    "## 4. *Сгенерируйте датасет при помощи sklearn.datasets.make_regression и обучите линейную модель при помощи градиентного и стохастического градиентного спуска. Нанесите среднеквадратичную ошибку для обоих методов на один график, сделайте выводы о разнице скорости сходимости каждого из методов."
   ]
  },
  {
   "cell_type": "code",
   "execution_count": 554,
   "metadata": {},
   "outputs": [
    {
     "name": "stdout",
     "output_type": "stream",
     "text": [
      "[[ 1.80409807e-01  5.53164274e-01]\n",
      " [-2.76179492e-01 -5.16883894e-01]\n",
      " [-4.62005348e-01  3.50888494e-01]\n",
      " [ 3.96520159e-01 -3.14617436e-01]\n",
      " [-1.02141473e+00  4.32395701e-01]\n",
      " [-3.13508197e-01  7.71011738e-01]\n",
      " [-1.45336435e+00 -3.38017777e-01]\n",
      " [-4.16757847e-01 -5.62668272e-02]\n",
      " [ 1.24823646e-01  7.56502143e-01]\n",
      " [ 1.00036589e+00 -3.81092518e-01]\n",
      " [-1.73795950e+00  1.04082395e+00]\n",
      " [-1.54667461e+00 -2.08265194e+00]\n",
      " [ 2.04207979e-01  1.40669624e+00]\n",
      " [-2.13619610e+00  1.64027081e+00]\n",
      " [ 4.33496330e-01  1.27837923e+00]\n",
      " [ 2.41439629e-01  4.97425649e-01]\n",
      " [-2.69056960e-01  2.23136679e+00]\n",
      " [-3.25049628e-01 -5.60234506e-01]\n",
      " [-9.02246068e-01 -5.90972275e-01]\n",
      " [-1.41881055e+00 -2.51774118e-01]\n",
      " [ 6.95119605e-01 -2.03346655e+00]\n",
      " [-1.09873895e+00  1.58448706e+00]\n",
      " [-6.53250268e-01  8.42456282e-01]\n",
      " [ 1.79259285e+00 -4.29013319e-01]\n",
      " [ 6.01515814e-01  3.65949071e-03]\n",
      " [-3.95702397e-02  3.26003433e-01]\n",
      " [-1.05795222e+00 -9.09007615e-01]\n",
      " [-3.75669423e-01 -7.44707629e-02]\n",
      " [ 1.03302907e+00 -3.29002435e-01]\n",
      " [ 2.55043824e+00 -1.47317325e+00]\n",
      " [-3.64479092e-01 -8.75979478e-01]\n",
      " [ 4.10869262e+00  8.21120877e-01]\n",
      " [-1.25542722e+00  9.38163671e-01]\n",
      " [ 1.83533272e+00  4.40689872e-01]\n",
      " [-1.83256574e-01  1.01985473e+00]\n",
      " [-1.86809065e+00  1.73118467e+00]\n",
      " [ 1.46767801e+00 -3.35677339e-01]\n",
      " [-1.06079904e+00  5.91666521e-01]\n",
      " [-4.54227855e-01  5.14370717e-01]\n",
      " [ 1.74181219e+00 -4.47500876e-01]\n",
      " [-7.19253841e-01 -5.83414595e-01]\n",
      " [-4.03892269e-01 -1.38451867e+00]\n",
      " [-1.91304965e-02  1.17500122e+00]\n",
      " [ 1.11788673e+00 -2.74242089e-01]\n",
      " [ 1.17353150e+00 -2.34360319e+00]\n",
      " [ 2.56570452e-01 -9.88779049e-01]\n",
      " [-2.04032305e+00  4.62555231e-02]\n",
      " [-1.48246548e+00  8.46311892e-01]\n",
      " [ 5.01857207e-01 -8.44213704e-01]\n",
      " [ 1.33556617e+00  3.02629336e-01]\n",
      " [ 3.70444537e-01  1.35963386e+00]\n",
      " [-6.34679305e-01  5.08396243e-01]\n",
      " [ 5.24296430e-01  7.35279576e-01]\n",
      " [-1.42121723e+00 -1.53495196e-01]\n",
      " [-2.43476758e+00  1.12726505e-01]\n",
      " [ 9.76147160e-06  5.42352572e-01]\n",
      " [ 6.96197980e-01  6.97416272e-01]\n",
      " [ 6.11340780e-01  4.79705919e-02]\n",
      " [-8.78107893e-01 -1.56434170e-01]\n",
      " [-4.19316482e-01 -1.32328898e-01]\n",
      " [ 1.53176032e+00 -1.98584577e+00]\n",
      " [ 7.51964849e-01 -9.93760983e-01]\n",
      " [ 8.29458431e-01  6.30621967e-01]\n",
      " [-4.68346260e-01 -1.25472031e+00]\n",
      " [ 3.59133332e-01  6.22220414e-01]\n",
      " [-6.37655012e-01 -1.18761229e+00]\n",
      " [-3.81516482e-01  6.64890091e-02]\n",
      " [ 4.15393930e-02 -1.11792545e+00]\n",
      " [-3.23580070e-01  4.23824708e-01]\n",
      " [-1.89469265e-01 -7.72186654e-02]\n",
      " [ 8.24703005e-01  1.24821292e+00]\n",
      " [-1.14421297e-01 -4.98174194e-01]\n",
      " [ 3.27974540e+00  9.70861320e-01]\n",
      " [ 1.16152149e+00  3.86078048e-01]\n",
      " [-1.13431848e+00 -7.07420888e-01]\n",
      " [ 3.80471970e-01 -2.17135269e-01]\n",
      " [ 9.60781945e-01  7.58370347e-01]\n",
      " [-2.28247558e-01 -2.06961226e+00]\n",
      " [ 6.10144086e-01  4.23496900e-01]\n",
      " [ 2.16116006e-01 -1.85861239e+00]\n",
      " [ 3.65053516e-01  7.74082033e-01]\n",
      " [-1.79343559e+00 -8.41747366e-01]\n",
      " [-2.65944946e+00 -9.14526229e-02]\n",
      " [ 5.39058321e-01 -5.96159700e-01]\n",
      " [ 4.97940148e-01  1.26504175e-01]\n",
      " [ 5.02881417e-01 -1.24528809e+00]\n",
      " [ 1.10914328e+00 -1.76491773e+00]\n",
      " [-3.38821966e-01 -2.36184031e-01]\n",
      " [ 1.36723542e+00  1.21788563e+00]\n",
      " [-1.13313327e+00  4.33092555e-01]\n",
      " [ 5.51454045e-01  2.29220801e+00]\n",
      " [-5.93755583e-01  1.14950057e+00]\n",
      " [ 7.99179995e-01  1.26261366e+00]\n",
      " [-6.98589950e-01 -9.28891925e-01]\n",
      " [ 3.81866234e-01  5.66275441e-01]\n",
      " [-1.22142917e+00  1.80447664e+00]\n",
      " [-3.04086439e-01  2.58529487e+00]\n",
      " [-6.77675577e-01 -1.43943903e+00]\n",
      " [-7.47870949e-01  9.02525097e-03]\n",
      " [-8.29135289e-01  8.77102184e-02]] [  21.08753812  -10.2113785   -14.42801175   14.63017999  -35.43465264\n",
      "    2.4152653   -59.90806541  -17.61385853   18.23133634   33.14946116\n",
      "  -49.29551565  -99.29660866   35.42512207  -44.58993795   43.81287377\n",
      "   17.36697077   31.03960734  -23.04457944  -43.21493563  -63.85196915\n",
      "  -19.91703588  -13.96940065   -0.72349      58.85456498   29.81560852\n",
      "    0.99511117  -53.17342795  -10.20406789   36.43457794   74.17734112\n",
      "  -23.32849507  171.26018756  -41.19417684   78.03864215    4.02102053\n",
      "  -44.50092649   50.20494557  -30.71942926  -13.47890606   50.69198041\n",
      "  -35.9087789   -40.86586723   10.97093152   45.16305074    5.59058232\n",
      "  -14.61090017  -81.98678202  -49.62161465    2.49583688   65.91933251\n",
      "   34.14764615  -13.15143035   20.54828602  -59.62061539  -87.94080078\n",
      "   20.39444153   44.17371022   17.4418219   -37.80553839  -17.36894674\n",
      "   14.71591393    5.81628331   39.97286329  -38.86731153   18.79533295\n",
      "  -44.25796821  -21.91263736  -23.6587488    -9.02618701   -9.00296065\n",
      "   52.13760899  -17.90916691  139.14121025   51.4002827   -56.67337208\n",
      "    9.19875764   47.6686998   -41.96795206   28.98782795  -20.03380115\n",
      "   21.92011473  -78.95388881 -109.48838947    9.35424361   17.83857639\n",
      "   -8.49081189   10.72713027  -20.60433756   76.52414151  -34.63096638\n",
      "   65.54570598   -5.72244605   50.54589844  -42.73802094   26.53240297\n",
      "  -16.31225685   22.64694878  -53.71287001  -26.66500169  -24.34516712] [38.07925837 17.83098278]\n"
     ]
    }
   ],
   "source": [
    "# сгенерируем набор данных\n",
    "X, y, coef = datasets.make_regression(n_samples=100, n_features=2, n_informative=2, n_targets=1, \n",
    "                                      noise=5, coef=True, random_state=2)\n",
    "print(X, y, coef)"
   ]
  },
  {
   "cell_type": "code",
   "execution_count": 555,
   "metadata": {
    "colab": {},
    "colab_type": "code",
    "id": "VDpN7UxYnrcS"
   },
   "outputs": [],
   "source": [
    "def calc_mse(y, y_pred):\n",
    "    err = np.mean((y - y_pred)**2)\n",
    "    return err"
   ]
  },
  {
   "cell_type": "code",
   "execution_count": 556,
   "metadata": {},
   "outputs": [
    {
     "data": {
      "text/plain": [
       "array([0.85490038, 0.9794109 ])"
      ]
     },
     "execution_count": 556,
     "metadata": {},
     "output_type": "execute_result"
    }
   ],
   "source": [
    "W = np.random.randn(X.shape[1])\n",
    "W"
   ]
  },
  {
   "cell_type": "code",
   "execution_count": 557,
   "metadata": {
    "colab": {},
    "colab_type": "code",
    "id": "SgEyis2zlJeb"
   },
   "outputs": [],
   "source": [
    "# классический  GD\n",
    "def gradient_descent(X, y, iterations, eta=1e-4):\n",
    "    np.random.seed(42)\n",
    "    W = np.random.randn(X.shape[1])\n",
    "    n = X.shape[0]\n",
    "    \n",
    "    for i in range(0, iterations):\n",
    "        y_pred = np.dot(X, W)\n",
    "        err = calc_mse(y, y_pred)\n",
    "        mse_gd.append(err)\n",
    "        dQ = 2/n * X.T @ (y_pred - y) # градиент функции ошибки\n",
    "        W -= (eta * dQ)\n",
    "        if i % (iterations / 10) == 0:\n",
    "            print(f'Iter: {i}, weights: {W}, error {err}')\n",
    "    print(f'Final MSE: {calc_mse(y, np.dot(X, W))}')\n",
    "    return W"
   ]
  },
  {
   "cell_type": "code",
   "execution_count": 558,
   "metadata": {},
   "outputs": [],
   "source": [
    "# Стохастический градиентноый спуск (SGD):\n",
    "def stohastic_gradient_descent(X, y, iterations, size, eta=1e-4):\n",
    "    np.random.seed(42)\n",
    "    W = np.random.randn(X.shape[1])             \n",
    "    n = X.shape[0]                             \n",
    "    for i in range(0, iterations):              \n",
    "        inds = np.random.randint(n, size=size)  \n",
    "\n",
    "        X_tmp = X[inds, ]                       \n",
    "        y_tmp = np.array(y)[inds]               \n",
    "\n",
    "        y_pred_tmp = np.dot(X_tmp, W)           \n",
    "        error = calc_mse(y, np.dot(X, W))\n",
    "        mse_sgd.append(error)\n",
    "        \n",
    "        W -= (eta * (2/len(y_tmp) * np.dot(X_tmp.T, (y_pred_tmp - y_tmp)))) \n",
    "\n",
    "        if i % (iterations / 10) == 0:                                      \n",
    "            print(f'Итерация №: {i}, веса: {W}, MSE: {error}')\n",
    "    \n",
    "    print(f'Финальная MSE: {calc_mse(y, np.dot(X, W))}')                   \n",
    "    return W"
   ]
  },
  {
   "cell_type": "code",
   "execution_count": 559,
   "metadata": {},
   "outputs": [
    {
     "name": "stdout",
     "output_type": "stream",
     "text": [
      "Iter: 0, weights: [1.43657135 0.17124246], error 2070.5703674840142\n",
      "Iter: 15, weights: [13.00989515  4.2519021 ], error 1017.3279923403929\n",
      "Iter: 30, weights: [20.92063897  7.4215366 ], error 509.6676532677593\n",
      "Iter: 45, weights: [26.33450945  9.86476286], error 263.2073883081923\n",
      "Iter: 60, weights: [30.04436507 11.73615545], error 142.66516788821514\n",
      "Iter: 75, weights: [32.58997551 13.16194803], error 83.26414305767997\n",
      "Iter: 90, weights: [34.33917566 14.24335496], error 53.77198823989822\n",
      "Iter: 105, weights: [35.54289703 15.06039978], error 39.020902986762586\n",
      "Iter: 120, weights: [36.37251238 15.67565761], error 31.589885971722833\n",
      "Iter: 135, weights: [36.94519799 16.13762727], error 27.820751591248303\n",
      "Final MSE: 25.89662334021373\n"
     ]
    },
    {
     "data": {
      "text/plain": [
       "array([37.31906291, 16.46355437])"
      ]
     },
     "execution_count": 559,
     "metadata": {},
     "output_type": "execute_result"
    }
   ],
   "source": [
    "mse_gd = []\n",
    "gradient_descent(X, y, iterations=150, eta=1e-2)"
   ]
  },
  {
   "cell_type": "code",
   "execution_count": 562,
   "metadata": {},
   "outputs": [
    {
     "name": "stdout",
     "output_type": "stream",
     "text": [
      "Итерация №: 0, веса: [0.53772552 0.04029341], MSE: 2070.5703674840142\n",
      "Итерация №: 15, веса: [13.5748095   0.16359587], MSE: 1163.8718859935523\n",
      "Итерация №: 30, веса: [17.38675609  5.95060163], MSE: 683.2433660708602\n",
      "Итерация №: 45, веса: [26.166162   10.40059234], MSE: 392.7892444011627\n",
      "Итерация №: 60, веса: [28.23214889 11.13962394], MSE: 193.08664371957366\n",
      "Итерация №: 75, веса: [31.5018813  11.81043239], MSE: 112.57119971580536\n",
      "Итерация №: 90, веса: [32.75387651 13.15957838], MSE: 78.18748072655268\n",
      "Итерация №: 105, веса: [34.19652446 14.29918739], MSE: 59.2662352733419\n",
      "Итерация №: 120, веса: [35.09564679 14.11972612], MSE: 47.24796408277588\n",
      "Итерация №: 135, веса: [36.84440742 15.21360469], MSE: 32.026160582462055\n",
      "Финальная MSE: 28.294994297224044\n",
      "Итерация №: 0, веса: [0.55488509 0.0186356 ], MSE: 2070.5703674840142\n",
      "Итерация №: 15, веса: [12.386086    4.09921448], MSE: 1186.6627738337595\n",
      "Итерация №: 30, веса: [18.72563151  5.76706332], MSE: 631.7301358498352\n",
      "Итерация №: 45, веса: [24.87383837  8.98757761], MSE: 323.1220321285635\n",
      "Итерация №: 60, веса: [28.78244295 10.78681512], MSE: 183.3584691174462\n",
      "Итерация №: 75, веса: [31.2864282  12.27198154], MSE: 109.27206092924449\n",
      "Итерация №: 90, веса: [34.53471821 13.31293186], MSE: 58.729825697628186\n",
      "Итерация №: 105, веса: [36.3049958  14.11012394], MSE: 40.45037201210243\n",
      "Итерация №: 120, веса: [36.5508222 15.014803 ], MSE: 34.039247683485016\n",
      "Итерация №: 135, веса: [37.36248983 15.23762049], MSE: 29.840801209477835\n",
      "Финальная MSE: 26.62972202930594\n",
      "Итерация №: 0, веса: [ 1.72647903 -0.07466887], MSE: 2070.5703674840142\n",
      "Итерация №: 15, веса: [11.86278466  3.35953683], MSE: 1121.9595738953938\n",
      "Итерация №: 30, веса: [19.11352892  6.69881725], MSE: 604.3651234900386\n",
      "Итерация №: 45, веса: [24.55415629  9.03553538], MSE: 324.79818041866395\n",
      "Итерация №: 60, веса: [30.89672304 10.95788039], MSE: 135.99565976622995\n",
      "Итерация №: 75, веса: [32.46385789 12.22902854], MSE: 91.85314480589501\n",
      "Итерация №: 90, веса: [34.4363725 13.4400099], MSE: 56.84800111317376\n",
      "Итерация №: 105, веса: [35.28472339 14.24539131], MSE: 45.35922827514725\n",
      "Итерация №: 120, веса: [36.37444728 15.27628923], MSE: 34.297028129368954\n",
      "Итерация №: 135, веса: [36.77676131 16.11487525], MSE: 28.656907652196136\n",
      "Финальная MSE: 25.832072975549327\n",
      "Итерация №: 0, веса: [1.62776447 0.00837216], MSE: 2070.5703674840142\n",
      "Итерация №: 15, веса: [11.47424577  3.61733866], MSE: 1111.4282543448614\n",
      "Итерация №: 30, веса: [21.53566211  6.76870406], MSE: 492.03684782103824\n",
      "Итерация №: 45, веса: [26.32735495  8.98559318], MSE: 268.8601997106175\n",
      "Итерация №: 60, веса: [30.03329703 10.96691264], MSE: 155.88715766422862\n",
      "Итерация №: 75, веса: [32.1018578  12.66612775], MSE: 93.10613630140823\n",
      "Итерация №: 90, веса: [34.07699427 13.82161217], MSE: 58.53725119801723\n",
      "Итерация №: 105, веса: [34.97890702 14.92767494], MSE: 43.46074119774477\n",
      "Итерация №: 120, веса: [35.9695935  15.25198426], MSE: 34.93404538046514\n",
      "Итерация №: 135, веса: [36.80472966 15.82907471], MSE: 29.661274324490407\n",
      "Финальная MSE: 27.206494186373156\n"
     ]
    }
   ],
   "source": [
    "mse_sgd_all = []\n",
    "for i in [1,3,5,10]: #проанализируем использование стохастического градиентного спуска с разными объемами выборки объектов\n",
    "    mse_sgd = []\n",
    "    stohastic_gradient_descent(X, y, iterations=150, size=i, eta=1e-2)\n",
    "    mse_sgd_all.append(mse_sgd)"
   ]
  },
  {
   "cell_type": "code",
   "execution_count": 563,
   "metadata": {},
   "outputs": [
    {
     "data": {
      "image/png": "[encoded data removed]",
      "text/plain": [
       "<Figure size 1080x504 with 1 Axes>"
      ]
     },
     "metadata": {
      "needs_background": "light"
     },
     "output_type": "display_data"
    }
   ],
   "source": [
    "plt.figure(figsize=(15, 7))\n",
    "plt.plot(mse_gd, label = 'mse_gd', color='red')\n",
    "plt.plot(mse_sgd_all[0], label = 'mse_sgd_size1', color='blue')\n",
    "plt.plot(mse_sgd_all[1], label = 'mse_sgd_size3', color='green')\n",
    "plt.plot(mse_sgd_all[2], label = 'mse_sgd_size5', color='yellow')\n",
    "plt.plot(mse_sgd_all[3], label = 'mse_sgd_size10', color='orange')\n",
    "\n",
    "\n",
    "plt.xlabel('iterations', fontsize = 15)\n",
    "plt.ylabel('mse', fontsize = 15)\n",
    "plt.title('График mse при градиентном спуске и стохастическом градиентном спуске', fontsize = 17)\n",
    "plt.legend()\n",
    "plt.grid()\n",
    "plt.show()"
   ]
  },
  {
   "cell_type": "markdown",
   "metadata": {},
   "source": [
    "Вывод: в конечном итоге применение классического градиентного спуска и стохастического градиентного спуска (с вариантами размера выборки 1,3,5,10 объектов) приводят к одинаковому оптимальному результату. Градиентный спуск приводит модель к оптимальному результату немного быстрее, но, как видно из графика, уже к 140 итерации и стохастический градиентный спуск (даже с одним объектов в выборке) достигает оптимальной минимальной mse. Использование небольшой выборки (3-5 объектов) ускоряет процесс сходимости."
   ]
  },
  {
   "cell_type": "code",
   "execution_count": null,
   "metadata": {},
   "outputs": [],
   "source": []
  }
 ],
 "metadata": {
  "colab": {
   "collapsed_sections": [
    "Ws1-N-_Qiqus",
    "Lq5zA2Itiqu3"
   ],
   "name": "Lesson_2.ipynb",
   "provenance": []
  },
  "kernelspec": {
   "display_name": "Python 3 (ipykernel)",
   "language": "python",
   "name": "python3"
  },
  "language_info": {
   "codemirror_mode": {
    "name": "ipython",
    "version": 3
   },
   "file_extension": ".py",
   "mimetype": "text/x-python",
   "name": "python",
   "nbconvert_exporter": "python",
   "pygments_lexer": "ipython3",
   "version": "3.9.12"
  }
 },
 "nbformat": 4,
 "nbformat_minor": 1
}
