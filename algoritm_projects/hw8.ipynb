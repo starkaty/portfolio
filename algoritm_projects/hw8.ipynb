{
 "cells": [
  {
   "cell_type": "markdown",
   "metadata": {
    "id": "UIAqr2CPdfJe"
   },
   "source": [
    "# Урок 8. Снижение размерности данных. Домашняя работа"
   ]
  },
  {
   "cell_type": "markdown",
   "metadata": {},
   "source": [
    "## 1. Обучите любую модель классификации на датасете IRIS до применения PCA и после него. Сравните качество классификации по отложенной выборке.\n"
   ]
  },
  {
   "cell_type": "markdown",
   "metadata": {},
   "source": [
    "Оценивать работу модели будем по метрикам accuracy и f1(macro), так как датасет сбалансирован по классам"
   ]
  },
  {
   "cell_type": "code",
   "execution_count": 186,
   "metadata": {},
   "outputs": [],
   "source": [
    "import pandas as pd\n",
    "import numpy as np\n",
    "from sklearn import datasets\n",
    "from sklearn.tree import DecisionTreeRegressor, plot_tree\n",
    "import matplotlib.pyplot as plt\n",
    "from sklearn.decomposition import PCA\n",
    "from sklearn.metrics import f1_score as f1, accuracy_score as acc\n",
    "import seaborn as sns"
   ]
  },
  {
   "cell_type": "code",
   "execution_count": 187,
   "metadata": {},
   "outputs": [],
   "source": [
    "def standard_scale(x):\n",
    "    res = (x - x.mean(axis=0)) / x.std(axis=0)\n",
    "    return res"
   ]
  },
  {
   "cell_type": "code",
   "execution_count": 188,
   "metadata": {
    "id": "m3d93Gx2dfJ6",
    "outputId": "eaee1c83-f56e-474c-a5f2-bdd5d4659ab4"
   },
   "outputs": [
    {
     "data": {
      "text/plain": [
       "(150, 4)"
      ]
     },
     "execution_count": 188,
     "metadata": {},
     "output_type": "execute_result"
    }
   ],
   "source": [
    "# Загрузим игрушечный датасет из sklearn\n",
    "iris = datasets.load_iris()\n",
    "X = iris.data\n",
    "y = iris.target\n",
    "X.shape"
   ]
  },
  {
   "cell_type": "markdown",
   "metadata": {},
   "source": [
    "Оценим работу модели Дерево решений для исходных данных (4 признака)"
   ]
  },
  {
   "cell_type": "code",
   "execution_count": 189,
   "metadata": {},
   "outputs": [],
   "source": [
    "# Для начала отмасштабируем выборку\n",
    "X = X.astype(float)\n",
    "\n",
    "X = standard_scale(X)"
   ]
  },
  {
   "cell_type": "code",
   "execution_count": 190,
   "metadata": {},
   "outputs": [],
   "source": [
    "from sklearn.model_selection import train_test_split"
   ]
  },
  {
   "cell_type": "code",
   "execution_count": 191,
   "metadata": {},
   "outputs": [],
   "source": [
    "x_train, x_test, y_train, y_test =train_test_split(X, y, test_size = 0.25, random_state = 100)"
   ]
  },
  {
   "cell_type": "code",
   "execution_count": 192,
   "metadata": {},
   "outputs": [
    {
     "data": {
      "text/plain": [
       "DecisionTreeRegressor()"
      ]
     },
     "execution_count": 192,
     "metadata": {},
     "output_type": "execute_result"
    }
   ],
   "source": [
    "tree = DecisionTreeRegressor()\n",
    "tree.fit(x_train, y_train)"
   ]
  },
  {
   "cell_type": "code",
   "execution_count": 193,
   "metadata": {},
   "outputs": [],
   "source": [
    "y_pred_train = tree.predict(x_train)\n",
    "y_pred_test = tree.predict(x_test)"
   ]
  },
  {
   "cell_type": "code",
   "execution_count": 194,
   "metadata": {},
   "outputs": [],
   "source": [
    "acc_train, acc_test, f1_train, f1_test = acc(y_train, y_pred_train), acc(y_test, y_pred_test), f1(y_train, y_pred_train, average = 'macro'), f1(y_test, y_pred_test, average = 'macro')"
   ]
  },
  {
   "cell_type": "code",
   "execution_count": 195,
   "metadata": {},
   "outputs": [
    {
     "name": "stdout",
     "output_type": "stream",
     "text": [
      "До снижениия размерности accuracy train 1.0, f1 train 1.0, accuracy test 0.9474, f1 test 0.9429\n"
     ]
    }
   ],
   "source": [
    "print(f'До снижениия размерности accuracy train {round(acc_train,4)}, f1 train {round(f1_train,4)}, accuracy test {round(acc_test,4)}, f1 test {round(f1_test,4)}')"
   ]
  },
  {
   "cell_type": "markdown",
   "metadata": {},
   "source": [
    "Теперь попробуем снижать размерность с помощью PCA до разного количества компонент и оценим работу модели"
   ]
  },
  {
   "cell_type": "code",
   "execution_count": 196,
   "metadata": {},
   "outputs": [],
   "source": [
    "n = [3,2,1]"
   ]
  },
  {
   "cell_type": "code",
   "execution_count": 197,
   "metadata": {},
   "outputs": [
    {
     "name": "stdout",
     "output_type": "stream",
     "text": [
      "3 components: accuracy train 1.0, f1 train 1.0, accuracy test 0.9474, f1 test 0.9429\n",
      "2 components: accuracy train 1.0, f1 train 1.0, accuracy test 0.9474, f1 test 0.9429\n",
      "1 components: accuracy train 1.0, f1 train 1.0, accuracy test 0.8947, f1 test 0.8881\n"
     ]
    }
   ],
   "source": [
    "for el in n:\n",
    "    pca = PCA(n_components=el)\n",
    "    x_train_reduced = pca.fit_transform(x_train)\n",
    "    x_test_reduced = pca.transform(x_test)\n",
    "    tree.fit(x_train_reduced, y_train)\n",
    "    y_pred_train = tree.predict(x_train_reduced)\n",
    "    y_pred_test = tree.predict(x_test_reduced)\n",
    "    acc_train, acc_test, f1_train, f1_test = acc(y_train, y_pred_train), acc(y_test, y_pred_test), f1(y_train, y_pred_train, average = 'macro'), f1(y_test, y_pred_test, average = 'macro')\n",
    "    print(f'{el} components: accuracy train {round(acc_train,4)}, f1 train {round(f1_train, 4)}, accuracy test {round(acc_test, 4)}, f1 test {round(f1_test, 4)}')"
   ]
  },
  {
   "cell_type": "markdown",
   "metadata": {},
   "source": [
    "Вывод: после снижения размерности до 3х и потом до 2х компонент модель работает так же хорошо, как и без PCA. Можно в данной задаче снизить размерность до 2х компонент. Одна компонента приводит к ухудшению качества работы модели. Можно сделать вывод, что большая часть решающей информации для разбиения по классам содержится в двух компонентах."
   ]
  },
  {
   "cell_type": "markdown",
   "metadata": {},
   "source": [
    "Данные после снижения размерности PCA до 2х компонент можно визуализировать. Посмотрим на тренировочные данные."
   ]
  },
  {
   "cell_type": "code",
   "execution_count": 198,
   "metadata": {},
   "outputs": [
    {
     "name": "stderr",
     "output_type": "stream",
     "text": [
      "/home/ekaterina/anaconda3/lib/python3.9/site-packages/seaborn/_decorators.py:36: FutureWarning: Pass the following variables as keyword args: x, y. From version 0.12, the only valid positional argument will be `data`, and passing other arguments without an explicit keyword will result in an error or misinterpretation.\n",
      "  warnings.warn(\n"
     ]
    },
    {
     "data": {
      "text/plain": [
       "<AxesSubplot:>"
      ]
     },
     "execution_count": 198,
     "metadata": {},
     "output_type": "execute_result"
    },
    {
     "data": {
      "image/png": "[encoded data removed]",
      "text/plain": [
       "<Figure size 432x288 with 1 Axes>"
      ]
     },
     "metadata": {
      "needs_background": "light"
     },
     "output_type": "display_data"
    }
   ],
   "source": [
    "pca = PCA(n_components=2)\n",
    "x_train_reduced = pca.fit_transform(x_train)\n",
    "\n",
    "sns.scatterplot(x_train_reduced[:,0], x_train_reduced[:,1], hue = y_train)"
   ]
  },
  {
   "cell_type": "markdown",
   "metadata": {},
   "source": [
    "## 2. Напишите свою реализацию метода главных компонент посредством сингулярного разложения с использованием функции numpy.linalg.svd()."
   ]
  },
  {
   "cell_type": "code",
   "execution_count": 226,
   "metadata": {},
   "outputs": [],
   "source": [
    "# так как X = U@D@Vh, при расчете главных компонент X@Vмакс.соб.знач. = U@Dмакс.соб.знач, так как V - ортагональная и Vh@V = I \n",
    "\n",
    "#функция расчета компонент на основе svd\n",
    "def pca_svd(x, n_components):\n",
    "    u, s, vh = np.linalg.svd(x)\n",
    "    s_matrix = np.zeros((u.shape[1], n_components))\n",
    "    for i in range(n_components):\n",
    "        s_matrix[i,i] = s[i]\n",
    "    \n",
    "    return u@s_matrix"
   ]
  },
  {
   "cell_type": "code",
   "execution_count": 227,
   "metadata": {},
   "outputs": [
    {
     "data": {
      "text/plain": [
       "array([[-2.26, -0.48],\n",
       "       [-2.08,  0.67],\n",
       "       [-2.36,  0.34],\n",
       "       [-2.3 ,  0.6 ],\n",
       "       [-2.39, -0.65],\n",
       "       [-2.08, -1.49],\n",
       "       [-2.44, -0.05],\n",
       "       [-2.23, -0.22],\n",
       "       [-2.33,  1.12],\n",
       "       [-2.18,  0.47],\n",
       "       [-2.17, -1.04],\n",
       "       [-2.33, -0.13],\n",
       "       [-2.22,  0.73],\n",
       "       [-2.63,  0.96],\n",
       "       [-2.2 , -1.86],\n",
       "       [-2.26, -2.69],\n",
       "       [-2.21, -1.48],\n",
       "       [-2.19, -0.49],\n",
       "       [-1.9 , -1.41],\n",
       "       [-2.34, -1.13],\n",
       "       [-1.91, -0.41],\n",
       "       [-2.21, -0.92],\n",
       "       [-2.77, -0.46],\n",
       "       [-1.82, -0.09],\n",
       "       [-2.23, -0.14],\n",
       "       [-1.95,  0.63],\n",
       "       [-2.05, -0.24],\n",
       "       [-2.17, -0.53],\n",
       "       [-2.14, -0.31],\n",
       "       [-2.27,  0.34],\n",
       "       [-2.14,  0.5 ],\n",
       "       [-1.83, -0.42],\n",
       "       [-2.61, -1.79],\n",
       "       [-2.45, -2.15],\n",
       "       [-2.11,  0.46],\n",
       "       [-2.21,  0.21],\n",
       "       [-2.05, -0.66],\n",
       "       [-2.53, -0.59],\n",
       "       [-2.43,  0.9 ],\n",
       "       [-2.17, -0.27],\n",
       "       [-2.29, -0.44],\n",
       "       [-1.86,  2.34],\n",
       "       [-2.55,  0.48],\n",
       "       [-1.96, -0.47],\n",
       "       [-2.14, -1.14],\n",
       "       [-2.07,  0.71],\n",
       "       [-2.38, -1.12],\n",
       "       [-2.39,  0.39],\n",
       "       [-2.23, -1.  ],\n",
       "       [-2.2 , -0.01],\n",
       "       [ 1.1 , -0.86],\n",
       "       [ 0.73, -0.59],\n",
       "       [ 1.24, -0.62],\n",
       "       [ 0.41,  1.75],\n",
       "       [ 1.08,  0.21],\n",
       "       [ 0.39,  0.59],\n",
       "       [ 0.75, -0.77],\n",
       "       [-0.49,  1.85],\n",
       "       [ 0.93, -0.03],\n",
       "       [ 0.01,  1.03],\n",
       "       [-0.11,  2.65],\n",
       "       [ 0.44,  0.06],\n",
       "       [ 0.56,  1.76],\n",
       "       [ 0.72,  0.19],\n",
       "       [-0.03,  0.44],\n",
       "       [ 0.88, -0.51],\n",
       "       [ 0.35,  0.2 ],\n",
       "       [ 0.16,  0.79],\n",
       "       [ 1.23,  1.62],\n",
       "       [ 0.16,  1.3 ],\n",
       "       [ 0.74, -0.4 ],\n",
       "       [ 0.48,  0.42],\n",
       "       [ 1.23,  0.93],\n",
       "       [ 0.63,  0.42],\n",
       "       [ 0.7 ,  0.06],\n",
       "       [ 0.87, -0.25],\n",
       "       [ 1.26,  0.08],\n",
       "       [ 1.36, -0.33],\n",
       "       [ 0.66,  0.23],\n",
       "       [-0.04,  1.06],\n",
       "       [ 0.13,  1.56],\n",
       "       [ 0.02,  1.57],\n",
       "       [ 0.24,  0.78],\n",
       "       [ 1.06,  0.63],\n",
       "       [ 0.22,  0.29],\n",
       "       [ 0.43, -0.85],\n",
       "       [ 1.05, -0.52],\n",
       "       [ 1.04,  1.38],\n",
       "       [ 0.07,  0.22],\n",
       "       [ 0.28,  1.33],\n",
       "       [ 0.28,  1.12],\n",
       "       [ 0.62, -0.02],\n",
       "       [ 0.34,  0.99],\n",
       "       [-0.36,  2.02],\n",
       "       [ 0.29,  0.86],\n",
       "       [ 0.09,  0.18],\n",
       "       [ 0.23,  0.38],\n",
       "       [ 0.58,  0.15],\n",
       "       [-0.45,  1.54],\n",
       "       [ 0.26,  0.6 ],\n",
       "       [ 1.84, -0.87],\n",
       "       [ 1.16,  0.7 ],\n",
       "       [ 2.21, -0.56],\n",
       "       [ 1.44,  0.05],\n",
       "       [ 1.87, -0.3 ],\n",
       "       [ 2.75, -0.8 ],\n",
       "       [ 0.37,  1.56],\n",
       "       [ 2.3 , -0.42],\n",
       "       [ 2.01,  0.71],\n",
       "       [ 2.26, -1.92],\n",
       "       [ 1.36, -0.69],\n",
       "       [ 1.6 ,  0.42],\n",
       "       [ 1.88, -0.42],\n",
       "       [ 1.26,  1.16],\n",
       "       [ 1.47,  0.44],\n",
       "       [ 1.59, -0.68],\n",
       "       [ 1.47, -0.26],\n",
       "       [ 2.43, -2.56],\n",
       "       [ 3.31, -0.02],\n",
       "       [ 1.26,  1.71],\n",
       "       [ 2.04, -0.91],\n",
       "       [ 0.98,  0.57],\n",
       "       [ 2.9 , -0.41],\n",
       "       [ 1.33,  0.48],\n",
       "       [ 1.7 , -1.01],\n",
       "       [ 1.95, -1.01],\n",
       "       [ 1.18,  0.32],\n",
       "       [ 1.02, -0.06],\n",
       "       [ 1.79,  0.19],\n",
       "       [ 1.86, -0.56],\n",
       "       [ 2.44, -0.26],\n",
       "       [ 2.3 , -2.63],\n",
       "       [ 1.86,  0.18],\n",
       "       [ 1.11,  0.29],\n",
       "       [ 1.2 ,  0.81],\n",
       "       [ 2.8 , -0.86],\n",
       "       [ 1.58, -1.07],\n",
       "       [ 1.35, -0.42],\n",
       "       [ 0.92, -0.02],\n",
       "       [ 1.85, -0.68],\n",
       "       [ 2.01, -0.61],\n",
       "       [ 1.9 , -0.69],\n",
       "       [ 1.16,  0.7 ],\n",
       "       [ 2.04, -0.87],\n",
       "       [ 2.  , -1.05],\n",
       "       [ 1.87, -0.39],\n",
       "       [ 1.56,  0.9 ],\n",
       "       [ 1.52, -0.27],\n",
       "       [ 1.37, -1.01],\n",
       "       [ 0.96,  0.02]])"
      ]
     },
     "execution_count": 227,
     "metadata": {},
     "output_type": "execute_result"
    }
   ],
   "source": [
    "#полученные 2 компоненты с помощью svd\n",
    "x_reduced_svd = pca_svd(X, 2)\n",
    "np.around(x_reduced_svd,2)"
   ]
  },
  {
   "cell_type": "code",
   "execution_count": 228,
   "metadata": {},
   "outputs": [
    {
     "data": {
      "text/plain": [
       "array([[-2.26,  0.48],\n",
       "       [-2.08, -0.67],\n",
       "       [-2.36, -0.34],\n",
       "       [-2.3 , -0.6 ],\n",
       "       [-2.39,  0.65],\n",
       "       [-2.08,  1.49],\n",
       "       [-2.44,  0.05],\n",
       "       [-2.23,  0.22],\n",
       "       [-2.33, -1.12],\n",
       "       [-2.18, -0.47],\n",
       "       [-2.17,  1.04],\n",
       "       [-2.33,  0.13],\n",
       "       [-2.22, -0.73],\n",
       "       [-2.63, -0.96],\n",
       "       [-2.2 ,  1.86],\n",
       "       [-2.26,  2.69],\n",
       "       [-2.21,  1.48],\n",
       "       [-2.19,  0.49],\n",
       "       [-1.9 ,  1.41],\n",
       "       [-2.34,  1.13],\n",
       "       [-1.91,  0.41],\n",
       "       [-2.21,  0.92],\n",
       "       [-2.77,  0.46],\n",
       "       [-1.82,  0.09],\n",
       "       [-2.23,  0.14],\n",
       "       [-1.95, -0.63],\n",
       "       [-2.05,  0.24],\n",
       "       [-2.17,  0.53],\n",
       "       [-2.14,  0.31],\n",
       "       [-2.27, -0.34],\n",
       "       [-2.14, -0.5 ],\n",
       "       [-1.83,  0.42],\n",
       "       [-2.61,  1.79],\n",
       "       [-2.45,  2.15],\n",
       "       [-2.11, -0.46],\n",
       "       [-2.21, -0.21],\n",
       "       [-2.05,  0.66],\n",
       "       [-2.53,  0.59],\n",
       "       [-2.43, -0.9 ],\n",
       "       [-2.17,  0.27],\n",
       "       [-2.29,  0.44],\n",
       "       [-1.86, -2.34],\n",
       "       [-2.55, -0.48],\n",
       "       [-1.96,  0.47],\n",
       "       [-2.14,  1.14],\n",
       "       [-2.07, -0.71],\n",
       "       [-2.38,  1.12],\n",
       "       [-2.39, -0.39],\n",
       "       [-2.23,  1.  ],\n",
       "       [-2.2 ,  0.01],\n",
       "       [ 1.1 ,  0.86],\n",
       "       [ 0.73,  0.59],\n",
       "       [ 1.24,  0.62],\n",
       "       [ 0.41, -1.75],\n",
       "       [ 1.08, -0.21],\n",
       "       [ 0.39, -0.59],\n",
       "       [ 0.75,  0.77],\n",
       "       [-0.49, -1.85],\n",
       "       [ 0.93,  0.03],\n",
       "       [ 0.01, -1.03],\n",
       "       [-0.11, -2.65],\n",
       "       [ 0.44, -0.06],\n",
       "       [ 0.56, -1.76],\n",
       "       [ 0.72, -0.19],\n",
       "       [-0.03, -0.44],\n",
       "       [ 0.88,  0.51],\n",
       "       [ 0.35, -0.2 ],\n",
       "       [ 0.16, -0.79],\n",
       "       [ 1.23, -1.62],\n",
       "       [ 0.16, -1.3 ],\n",
       "       [ 0.74,  0.4 ],\n",
       "       [ 0.48, -0.42],\n",
       "       [ 1.23, -0.93],\n",
       "       [ 0.63, -0.42],\n",
       "       [ 0.7 , -0.06],\n",
       "       [ 0.87,  0.25],\n",
       "       [ 1.26, -0.08],\n",
       "       [ 1.36,  0.33],\n",
       "       [ 0.66, -0.23],\n",
       "       [-0.04, -1.06],\n",
       "       [ 0.13, -1.56],\n",
       "       [ 0.02, -1.57],\n",
       "       [ 0.24, -0.78],\n",
       "       [ 1.06, -0.63],\n",
       "       [ 0.22, -0.29],\n",
       "       [ 0.43,  0.85],\n",
       "       [ 1.05,  0.52],\n",
       "       [ 1.04, -1.38],\n",
       "       [ 0.07, -0.22],\n",
       "       [ 0.28, -1.33],\n",
       "       [ 0.28, -1.12],\n",
       "       [ 0.62,  0.02],\n",
       "       [ 0.34, -0.99],\n",
       "       [-0.36, -2.02],\n",
       "       [ 0.29, -0.86],\n",
       "       [ 0.09, -0.18],\n",
       "       [ 0.23, -0.38],\n",
       "       [ 0.58, -0.15],\n",
       "       [-0.45, -1.54],\n",
       "       [ 0.26, -0.6 ],\n",
       "       [ 1.84,  0.87],\n",
       "       [ 1.16, -0.7 ],\n",
       "       [ 2.21,  0.56],\n",
       "       [ 1.44, -0.05],\n",
       "       [ 1.87,  0.3 ],\n",
       "       [ 2.75,  0.8 ],\n",
       "       [ 0.37, -1.56],\n",
       "       [ 2.3 ,  0.42],\n",
       "       [ 2.01, -0.71],\n",
       "       [ 2.26,  1.92],\n",
       "       [ 1.36,  0.69],\n",
       "       [ 1.6 , -0.42],\n",
       "       [ 1.88,  0.42],\n",
       "       [ 1.26, -1.16],\n",
       "       [ 1.47, -0.44],\n",
       "       [ 1.59,  0.68],\n",
       "       [ 1.47,  0.26],\n",
       "       [ 2.43,  2.56],\n",
       "       [ 3.31,  0.02],\n",
       "       [ 1.26, -1.71],\n",
       "       [ 2.04,  0.91],\n",
       "       [ 0.98, -0.57],\n",
       "       [ 2.9 ,  0.41],\n",
       "       [ 1.33, -0.48],\n",
       "       [ 1.7 ,  1.01],\n",
       "       [ 1.95,  1.01],\n",
       "       [ 1.18, -0.32],\n",
       "       [ 1.02,  0.06],\n",
       "       [ 1.79, -0.19],\n",
       "       [ 1.86,  0.56],\n",
       "       [ 2.44,  0.26],\n",
       "       [ 2.3 ,  2.63],\n",
       "       [ 1.86, -0.18],\n",
       "       [ 1.11, -0.29],\n",
       "       [ 1.2 , -0.81],\n",
       "       [ 2.8 ,  0.86],\n",
       "       [ 1.58,  1.07],\n",
       "       [ 1.35,  0.42],\n",
       "       [ 0.92,  0.02],\n",
       "       [ 1.85,  0.68],\n",
       "       [ 2.01,  0.61],\n",
       "       [ 1.9 ,  0.69],\n",
       "       [ 1.16, -0.7 ],\n",
       "       [ 2.04,  0.87],\n",
       "       [ 2.  ,  1.05],\n",
       "       [ 1.87,  0.39],\n",
       "       [ 1.56, -0.9 ],\n",
       "       [ 1.52,  0.27],\n",
       "       [ 1.37,  1.01],\n",
       "       [ 0.96, -0.02]])"
      ]
     },
     "execution_count": 228,
     "metadata": {},
     "output_type": "execute_result"
    }
   ],
   "source": [
    "#компоненты с помощью PCA\n",
    "pca = PCA(n_components=2)\n",
    "x_reduced = pca.fit_transform(X)\n",
    "np.around(x_reduced,2)"
   ]
  },
  {
   "cell_type": "markdown",
   "metadata": {},
   "source": [
    "Визуализируем компоненты, полученные с помощью встроенного метода PCA и нашей функции на базе svd"
   ]
  },
  {
   "cell_type": "code",
   "execution_count": 231,
   "metadata": {},
   "outputs": [
    {
     "name": "stderr",
     "output_type": "stream",
     "text": [
      "/home/ekaterina/anaconda3/lib/python3.9/site-packages/seaborn/_decorators.py:36: FutureWarning: Pass the following variables as keyword args: x, y. From version 0.12, the only valid positional argument will be `data`, and passing other arguments without an explicit keyword will result in an error or misinterpretation.\n",
      "  warnings.warn(\n"
     ]
    },
    {
     "data": {
      "text/plain": [
       "<AxesSubplot:>"
      ]
     },
     "execution_count": 231,
     "metadata": {},
     "output_type": "execute_result"
    },
    {
     "data": {
      "image/png": "[encoded data removed]",
      "text/plain": [
       "<Figure size 432x288 with 1 Axes>"
      ]
     },
     "metadata": {
      "needs_background": "light"
     },
     "output_type": "display_data"
    }
   ],
   "source": [
    "#наша функция svd\n",
    "sns.scatterplot(x_reduced_svd[:,0], x_reduced_svd[:,1], hue = y)"
   ]
  },
  {
   "cell_type": "code",
   "execution_count": 232,
   "metadata": {},
   "outputs": [
    {
     "name": "stderr",
     "output_type": "stream",
     "text": [
      "/home/ekaterina/anaconda3/lib/python3.9/site-packages/seaborn/_decorators.py:36: FutureWarning: Pass the following variables as keyword args: x, y. From version 0.12, the only valid positional argument will be `data`, and passing other arguments without an explicit keyword will result in an error or misinterpretation.\n",
      "  warnings.warn(\n"
     ]
    },
    {
     "data": {
      "text/plain": [
       "<AxesSubplot:>"
      ]
     },
     "execution_count": 232,
     "metadata": {},
     "output_type": "execute_result"
    },
    {
     "data": {
      "image/png": "[encoded data removed]",
      "text/plain": [
       "<Figure size 432x288 with 1 Axes>"
      ]
     },
     "metadata": {
      "needs_background": "light"
     },
     "output_type": "display_data"
    }
   ],
   "source": [
    "#PCA sklearn\n",
    "sns.scatterplot(x_reduced[:,0], x_reduced[:,1], hue = y)"
   ]
  },
  {
   "cell_type": "markdown",
   "metadata": {},
   "source": [
    "Вывод: Расчет главных компонент на базе svd дает компоненты аналогично PCA, но их зеркальное отображение. На графиках это видно. Для модели эти данные имеют одинаковую информативность."
   ]
  },
  {
   "cell_type": "code",
   "execution_count": null,
   "metadata": {},
   "outputs": [],
   "source": []
  }
 ],
 "metadata": {
  "colab": {
   "collapsed_sections": [],
   "name": "Lesson_8.ipynb",
   "provenance": []
  },
  "kernelspec": {
   "display_name": "Python 3 (ipykernel)",
   "language": "python",
   "name": "python3"
  },
  "language_info": {
   "codemirror_mode": {
    "name": "ipython",
    "version": 3
   },
   "file_extension": ".py",
   "mimetype": "text/x-python",
   "name": "python",
   "nbconvert_exporter": "python",
   "pygments_lexer": "ipython3",
   "version": "3.9.12"
  }
 },
 "nbformat": 4,
 "nbformat_minor": 1
}
