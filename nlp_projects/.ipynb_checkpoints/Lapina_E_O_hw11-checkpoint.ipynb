{
 "cells": [
  {
   "cell_type": "markdown",
   "metadata": {
    "id": "J0Qjg6vuaHNt"
   },
   "source": [
    "# Neural machine translation with attention"
   ]
  },
  {
   "cell_type": "markdown",
   "metadata": {},
   "source": [
    "Разобраться с моделькой перевода как она устроена (c механизмом внимания), запустить для перевода с русского на английский (при желании можно взять другие пары языков)\n",
    "**внимание классическое** с RNN-ками в энкодере и декодере"
   ]
  },
  {
   "cell_type": "code",
   "execution_count": 1,
   "metadata": {
    "id": "tnxXKDjq3jEL"
   },
   "outputs": [
    {
     "name": "stderr",
     "output_type": "stream",
     "text": [
      "2024-01-16 21:47:14.578798: I tensorflow/core/util/port.cc:110] oneDNN custom operations are on. You may see slightly different numerical results due to floating-point round-off errors from different computation orders. To turn them off, set the environment variable `TF_ENABLE_ONEDNN_OPTS=0`.\n",
      "2024-01-16 21:47:14.580176: I tensorflow/tsl/cuda/cudart_stub.cc:28] Could not find cuda drivers on your machine, GPU will not be used.\n",
      "2024-01-16 21:47:14.608124: I tensorflow/tsl/cuda/cudart_stub.cc:28] Could not find cuda drivers on your machine, GPU will not be used.\n",
      "2024-01-16 21:47:14.608664: I tensorflow/core/platform/cpu_feature_guard.cc:182] This TensorFlow binary is optimized to use available CPU instructions in performance-critical operations.\n",
      "To enable the following instructions: AVX2 AVX512F AVX512_VNNI FMA, in other operations, rebuild TensorFlow with the appropriate compiler flags.\n",
      "2024-01-16 21:47:15.576549: W tensorflow/compiler/tf2tensorrt/utils/py_utils.cc:38] TF-TRT Warning: Could not find TensorRT\n"
     ]
    }
   ],
   "source": [
    "import tensorflow as tf\n",
    "\n",
    "import matplotlib.pyplot as plt\n",
    "import matplotlib.ticker as ticker\n",
    "from sklearn.model_selection import train_test_split\n",
    "\n",
    "import unicodedata\n",
    "import re\n",
    "import numpy as np\n",
    "import os\n",
    "import io\n",
    "import time"
   ]
  },
  {
   "cell_type": "markdown",
   "metadata": {
    "id": "wfodePkj3jEa"
   },
   "source": [
    "## Download and prepare the dataset\n",
    "\n",
    "We'll use a language dataset provided by http://www.manythings.org/anki/"
   ]
  },
  {
   "cell_type": "code",
   "execution_count": 2,
   "metadata": {
    "colab": {
     "base_uri": "https://localhost:8080/"
    },
    "id": "CNvjhDyAKk3U",
    "outputId": "6c4134ee-2bcc-44fb-f159-10685073fa65"
   },
   "outputs": [],
   "source": [
    "# !wget http://www.manythings.org/anki/rus-eng.zip"
   ]
  },
  {
   "cell_type": "code",
   "execution_count": 3,
   "metadata": {
    "colab": {
     "base_uri": "https://localhost:8080/"
    },
    "id": "83bg17Lr-7XK",
    "outputId": "eeb9d53d-e2b2-4324-e0e7-0646e187da62"
   },
   "outputs": [],
   "source": [
    "# !mkdir rus-eng\n",
    "# !unzip rus-eng.zip -d rus-eng/"
   ]
  },
  {
   "cell_type": "code",
   "execution_count": 4,
   "metadata": {
    "colab": {
     "base_uri": "https://localhost:8080/"
    },
    "id": "7o5L92efMMhf",
    "outputId": "1742dd1c-be9c-4b0c-a845-8967a3bab60e"
   },
   "outputs": [],
   "source": [
    "# !ls /content/rus-eng/ -lah"
   ]
  },
  {
   "cell_type": "code",
   "execution_count": 6,
   "metadata": {
    "id": "kRVATYOgJs1b"
   },
   "outputs": [],
   "source": [
    "# Download the file\n",
    "path_to_file = \"rus-eng/rus.txt\""
   ]
  },
  {
   "cell_type": "code",
   "execution_count": 7,
   "metadata": {
    "id": "rd0jw-eC3jEh"
   },
   "outputs": [],
   "source": [
    "def preprocess_sentence(w):\n",
    "  w = w.lower().strip()\n",
    "\n",
    "  # creating a space between a word and the punctuation following it\n",
    "  # eg: \"he is a boy.\" => \"he is a boy .\"\n",
    "  # Reference:- https://stackoverflow.com/questions/3645931/python-padding-punctuation-with-white-spaces-keeping-punctuation\n",
    "  w = re.sub(r\"([?.!,])\", r\" \\1 \", w)\n",
    "  w = re.sub(r'[\" \"]+', \" \", w)\n",
    "\n",
    "  # replacing everything with space except (a-z, A-Z, \".\", \"?\", \"!\", \",\")\n",
    "  w = re.sub(r\"[^a-zA-Zа-яА-Я?.!,']+\", \" \", w)\n",
    "\n",
    "  w = w.strip()\n",
    "\n",
    "  # adding a start and an end token to the sentence\n",
    "  # so that the model know when to start and stop predicting.\n",
    "  w = '<start> ' + w + ' <end>'\n",
    "  return w"
   ]
  },
  {
   "cell_type": "code",
   "execution_count": 8,
   "metadata": {
    "colab": {
     "base_uri": "https://localhost:8080/",
     "height": 35
    },
    "id": "yV9lZXQXNbnH",
    "outputId": "62abb77d-47e0-4640-9d96-2ae53f702131"
   },
   "outputs": [
    {
     "data": {
      "text/plain": [
       "\"<start> i can't go . <end>\""
      ]
     },
     "execution_count": 8,
     "metadata": {},
     "output_type": "execute_result"
    }
   ],
   "source": [
    "preprocess_sentence(\"I can't go.\")"
   ]
  },
  {
   "cell_type": "code",
   "execution_count": 9,
   "metadata": {
    "id": "OHn4Dct23jEm"
   },
   "outputs": [],
   "source": [
    "# 1. Remove the accents\n",
    "# 2. Clean the sentences\n",
    "# 3. Return word pairs in the format: [ENG, RUS]\n",
    "def create_dataset(path, num_examples):\n",
    "  lines = io.open(path, encoding='UTF-8').read().strip().split('\\n')\n",
    "\n",
    "  word_pairs = [[preprocess_sentence(w) for w in l.split('\\t')[:2]]  for l in lines[:num_examples]]\n",
    "\n",
    "  return zip(*word_pairs)"
   ]
  },
  {
   "cell_type": "code",
   "execution_count": 10,
   "metadata": {
    "colab": {
     "base_uri": "https://localhost:8080/"
    },
    "id": "cTbSbBz55QtF",
    "outputId": "a6d817af-c6cc-4fcf-b6fd-3ef49cda2a27"
   },
   "outputs": [
    {
     "name": "stdout",
     "output_type": "stream",
     "text": [
      "<start> doubtless there exists in this world precisely the right woman for any given man to marry and vice versa but when you consider that a human being has the opportunity of being acquainted with only a few hundred people , and out of the few hundred that there are but a dozen or less whom he knows intimately , and out of the dozen , one or two friends at most , it will easily be seen , when we remember the number of millions who inhabit this world , that probably , since the earth was created , the right man has never yet met the right woman . <end>\n",
      "<start> несомненно , для каждого мужчины в этом мире где то есть подходящая женщина , которая может стать ему женой , обратное верно и для женщин . но если учесть , что у человека может быть максимум несколько сотен знакомых , из которых лишь дюжина , а то и меньше , тех , кого он знает близко , а из этой дюжины у него один или от силы два друга , то можно легко увидеть , что с уч том миллионов живущих на земле людей , ни один подходящий мужчина , возможно , ещ не встретил подходящую женщину . <end>\n"
     ]
    }
   ],
   "source": [
    "en, ru = create_dataset(path_to_file, None)\n",
    "print(en[-1])\n",
    "print(ru[-1])"
   ]
  },
  {
   "cell_type": "code",
   "execution_count": 11,
   "metadata": {
    "id": "bIOn8RCNDJXG"
   },
   "outputs": [],
   "source": [
    "def tokenize(lang):\n",
    "  lang_tokenizer = tf.keras.preprocessing.text.Tokenizer(\n",
    "      filters='')\n",
    "  lang_tokenizer.fit_on_texts(lang)\n",
    "\n",
    "  tensor = lang_tokenizer.texts_to_sequences(lang)\n",
    "\n",
    "  tensor = tf.keras.preprocessing.sequence.pad_sequences(tensor,\n",
    "                                                         padding='post')\n",
    "\n",
    "  return tensor, lang_tokenizer"
   ]
  },
  {
   "cell_type": "code",
   "execution_count": 12,
   "metadata": {
    "id": "eAY9k49G3jE_"
   },
   "outputs": [],
   "source": [
    "def load_dataset(path, num_examples=None):\n",
    "  # creating cleaned input, output pairs\n",
    "  targ_lang, inp_lang = create_dataset(path, num_examples)\n",
    "\n",
    "  input_tensor, inp_lang_tokenizer = tokenize(inp_lang)\n",
    "  target_tensor, targ_lang_tokenizer = tokenize(targ_lang)\n",
    "\n",
    "  return input_tensor, target_tensor, inp_lang_tokenizer, targ_lang_tokenizer"
   ]
  },
  {
   "cell_type": "markdown",
   "metadata": {
    "id": "GOi42V79Ydlr"
   },
   "source": [
    "### Limit the size of the dataset to experiment faster (optional)\n"
   ]
  },
  {
   "cell_type": "code",
   "execution_count": 13,
   "metadata": {
    "colab": {
     "base_uri": "https://localhost:8080/"
    },
    "id": "C8j9g9AnIeZV",
    "outputId": "2ef267ad-0118-4a27-c6fe-700538dce395"
   },
   "outputs": [
    {
     "data": {
      "text/plain": [
       "(487600, 487600)"
      ]
     },
     "execution_count": 13,
     "metadata": {},
     "output_type": "execute_result"
    }
   ],
   "source": [
    "len(en), len(ru)"
   ]
  },
  {
   "cell_type": "code",
   "execution_count": 14,
   "metadata": {
    "id": "cnxC7q-j3jFD"
   },
   "outputs": [],
   "source": [
    "# Try experimenting with the size of that dataset\n",
    "num_examples = 100000\n",
    "input_tensor, target_tensor, inp_lang, targ_lang = load_dataset(path_to_file, num_examples)\n",
    "\n",
    "# Calculate max_length of the target tensors\n",
    "max_length_targ, max_length_inp = target_tensor.shape[1], input_tensor.shape[1]"
   ]
  },
  {
   "cell_type": "code",
   "execution_count": 15,
   "metadata": {
    "colab": {
     "base_uri": "https://localhost:8080/"
    },
    "id": "4QILQkOs3jFG",
    "outputId": "6080cf0b-ce7a-41da-fdff-cff002d0e4da"
   },
   "outputs": [
    {
     "name": "stdout",
     "output_type": "stream",
     "text": [
      "80000 80000 20000 20000\n"
     ]
    }
   ],
   "source": [
    "# Creating training and validation sets using an 80-20 split\n",
    "input_tensor_train, input_tensor_val, target_tensor_train, target_tensor_val = train_test_split(input_tensor, target_tensor, test_size=0.2)\n",
    "\n",
    "# Show length\n",
    "print(len(input_tensor_train), len(target_tensor_train), len(input_tensor_val), len(target_tensor_val))"
   ]
  },
  {
   "cell_type": "code",
   "execution_count": 16,
   "metadata": {
    "id": "lJPmLZGMeD5q"
   },
   "outputs": [],
   "source": [
    "def convert(lang, tensor):\n",
    "  for t in tensor:\n",
    "    if t!=0:\n",
    "      print (\"%d ----> %s\" % (t, lang.index_word[t]))"
   ]
  },
  {
   "cell_type": "code",
   "execution_count": 17,
   "metadata": {
    "colab": {
     "base_uri": "https://localhost:8080/"
    },
    "id": "VXukARTDd7MT",
    "outputId": "341e28ce-7ca5-4f66-e751-157f5bbaa276"
   },
   "outputs": [
    {
     "name": "stdout",
     "output_type": "stream",
     "text": [
      "Input Language; index to word mapping\n",
      "1 ----> <start>\n",
      "12 ----> вы\n",
      "6 ----> не\n",
      "789 ----> против\n",
      "339 ----> подождать\n",
      "5 ----> ?\n",
      "2 ----> <end>\n",
      "\n",
      "Target Language; index to word mapping\n",
      "1 ----> <start>\n",
      "15 ----> do\n",
      "7 ----> you\n",
      "514 ----> mind\n",
      "619 ----> waiting\n",
      "6 ----> ?\n",
      "2 ----> <end>\n"
     ]
    }
   ],
   "source": [
    "print (\"Input Language; index to word mapping\")\n",
    "convert(inp_lang, input_tensor_train[0])\n",
    "print ()\n",
    "print (\"Target Language; index to word mapping\")\n",
    "convert(targ_lang, target_tensor_train[0])"
   ]
  },
  {
   "cell_type": "markdown",
   "metadata": {
    "id": "rgCLkfv5uO3d"
   },
   "source": [
    "### Create a tf.data dataset"
   ]
  },
  {
   "cell_type": "code",
   "execution_count": 18,
   "metadata": {
    "id": "TqHsArVZ3jFS"
   },
   "outputs": [],
   "source": [
    "BUFFER_SIZE = len(input_tensor_train)\n",
    "BATCH_SIZE = 64\n",
    "steps_per_epoch = len(input_tensor_train)//BATCH_SIZE\n",
    "embedding_dim = 256\n",
    "units = 1024\n",
    "vocab_inp_size = len(inp_lang.word_index)+1\n",
    "vocab_tar_size = len(targ_lang.word_index)+1\n",
    "\n",
    "dataset = tf.data.Dataset.from_tensor_slices((input_tensor_train, target_tensor_train)).shuffle(BUFFER_SIZE)\n",
    "dataset = dataset.batch(BATCH_SIZE, drop_remainder=True)"
   ]
  },
  {
   "cell_type": "code",
   "execution_count": 19,
   "metadata": {
    "colab": {
     "base_uri": "https://localhost:8080/"
    },
    "id": "qc6-NK1GtWQt",
    "outputId": "119b41d0-fae4-4422-cc8e-ce6a758be16d"
   },
   "outputs": [
    {
     "data": {
      "text/plain": [
       "(TensorShape([64, 15]), TensorShape([64, 11]))"
      ]
     },
     "execution_count": 19,
     "metadata": {},
     "output_type": "execute_result"
    }
   ],
   "source": [
    "example_input_batch, example_target_batch = next(iter(dataset))\n",
    "example_input_batch.shape, example_target_batch.shape"
   ]
  },
  {
   "cell_type": "code",
   "execution_count": 20,
   "metadata": {
    "id": "nZ2rI24i3jFg"
   },
   "outputs": [],
   "source": [
    "class Encoder(tf.keras.Model):\n",
    "  def __init__(self, vocab_size, embedding_dim, enc_units, batch_sz):\n",
    "    super(Encoder, self).__init__()\n",
    "    self.batch_sz = batch_sz\n",
    "    self.enc_units = enc_units\n",
    "    self.embedding = tf.keras.layers.Embedding(vocab_size, embedding_dim)\n",
    "    self.gru = tf.keras.layers.GRU(self.enc_units,\n",
    "                                   return_sequences=True,\n",
    "                                   return_state=True,\n",
    "                                   recurrent_initializer='glorot_uniform')\n",
    "\n",
    "  def call(self, x, hidden):\n",
    "    x = self.embedding(x)\n",
    "    output, state = self.gru(x, initial_state = hidden)\n",
    "    return output, state\n",
    "\n",
    "  def initialize_hidden_state(self):\n",
    "    return tf.zeros((self.batch_sz, self.enc_units))"
   ]
  },
  {
   "cell_type": "code",
   "execution_count": 21,
   "metadata": {
    "colab": {
     "base_uri": "https://localhost:8080/"
    },
    "id": "60gSVh05Jl6l",
    "outputId": "5b654acc-f67d-4357-b000-fdde32228982"
   },
   "outputs": [
    {
     "name": "stdout",
     "output_type": "stream",
     "text": [
      "Encoder output shape: (batch size, sequence length, units) (64, 15, 1024)\n",
      "Encoder Hidden state shape: (batch size, units) (64, 1024)\n"
     ]
    }
   ],
   "source": [
    "encoder = Encoder(vocab_inp_size, embedding_dim, units, BATCH_SIZE)\n",
    "\n",
    "# sample input\n",
    "sample_hidden = encoder.initialize_hidden_state()\n",
    "sample_output, sample_hidden = encoder(example_input_batch, sample_hidden)\n",
    "print ('Encoder output shape: (batch size, sequence length, units) {}'.format(sample_output.shape))\n",
    "print ('Encoder Hidden state shape: (batch size, units) {}'.format(sample_hidden.shape))"
   ]
  },
  {
   "cell_type": "code",
   "execution_count": 22,
   "metadata": {
    "id": "YTyhL28Niqk1"
   },
   "outputs": [],
   "source": [
    "class BahdanauAttention(tf.keras.layers.Layer):\n",
    "  def __init__(self, units):\n",
    "    super(BahdanauAttention, self).__init__()\n",
    "    self.W1 = tf.keras.layers.Dense(units)\n",
    "    self.W2 = tf.keras.layers.Dense(units)\n",
    "    self.V = tf.keras.layers.Dense(1)\n",
    "\n",
    "  def call(self, query, values):\n",
    "    # query hidden state shape == (batch_size, hidden size)\n",
    "    # query_with_time_axis shape == (batch_size, 1, hidden size)\n",
    "    # values shape == (batch_size, max_len, hidden size)\n",
    "    # we are doing this to broadcast addition along the time axis to calculate the score\n",
    "    query_with_time_axis = tf.expand_dims(query, 1)\n",
    "\n",
    "    # score shape == (batch_size, max_length, 1)\n",
    "    # we get 1 at the last axis because we are applying score to self.V\n",
    "    # the shape of the tensor before applying self.V is (batch_size, max_length, units)\n",
    "    score = self.V(tf.nn.tanh(\n",
    "        self.W1(query_with_time_axis) + self.W2(values)))\n",
    "\n",
    "    # attention_weights shape == (batch_size, max_length, 1)\n",
    "    attention_weights = tf.nn.softmax(score, axis=1)\n",
    "\n",
    "    # context_vector shape after sum == (batch_size, hidden_size)\n",
    "    context_vector = attention_weights * values\n",
    "    context_vector = tf.reduce_sum(context_vector, axis=1)\n",
    "\n",
    "    return context_vector, attention_weights"
   ]
  },
  {
   "cell_type": "code",
   "execution_count": 23,
   "metadata": {
    "colab": {
     "base_uri": "https://localhost:8080/"
    },
    "id": "XUqssWcci1XJ",
    "outputId": "607dc7d5-fa08-4d88-9935-ce76fc101464"
   },
   "outputs": [
    {
     "name": "stdout",
     "output_type": "stream",
     "text": [
      "Attention result shape: (batch size, units) (64, 1024)\n",
      "Attention weights shape: (batch_size, sequence_length, 1) (64, 15, 1)\n"
     ]
    }
   ],
   "source": [
    "attention_layer = BahdanauAttention(10)\n",
    "attention_result, attention_weights = attention_layer(sample_hidden, sample_output)\n",
    "\n",
    "print(\"Attention result shape: (batch size, units) {}\".format(attention_result.shape))\n",
    "print(\"Attention weights shape: (batch_size, sequence_length, 1) {}\".format(attention_weights.shape))"
   ]
  },
  {
   "cell_type": "code",
   "execution_count": 24,
   "metadata": {
    "id": "yJ_B3mhW3jFk"
   },
   "outputs": [],
   "source": [
    "class Decoder(tf.keras.Model):\n",
    "  def __init__(self, vocab_size, embedding_dim, dec_units, batch_sz):\n",
    "    super(Decoder, self).__init__()\n",
    "    self.batch_sz = batch_sz\n",
    "    self.dec_units = dec_units\n",
    "    self.embedding = tf.keras.layers.Embedding(vocab_size, embedding_dim)\n",
    "    self.gru = tf.keras.layers.GRU(self.dec_units,\n",
    "                                   return_sequences=True,\n",
    "                                   return_state=True,\n",
    "                                   recurrent_initializer='glorot_uniform')\n",
    "    self.fc = tf.keras.layers.Dense(vocab_size)\n",
    "\n",
    "    # used for attention\n",
    "    self.attention = BahdanauAttention(self.dec_units)\n",
    "\n",
    "  def call(self, x, hidden, enc_output):\n",
    "    # enc_output shape == (batch_size, max_length, hidden_size)\n",
    "    context_vector, attention_weights = self.attention(hidden, enc_output)\n",
    "\n",
    "    # x shape after passing through embedding == (batch_size, 1, embedding_dim)\n",
    "    x = self.embedding(x)\n",
    "\n",
    "    # x shape after concatenation == (batch_size, 1, embedding_dim + hidden_size)\n",
    "    x = tf.concat([tf.expand_dims(context_vector, 1), x], axis=-1)\n",
    "\n",
    "    # passing the concatenated vector to the GRU\n",
    "    output, state = self.gru(x)\n",
    "\n",
    "    # output shape == (batch_size * 1, hidden_size)\n",
    "    output = tf.reshape(output, (-1, output.shape[2]))\n",
    "\n",
    "    # output shape == (batch_size, vocab)\n",
    "    x = self.fc(output)\n",
    "\n",
    "    return x, state, attention_weights"
   ]
  },
  {
   "cell_type": "code",
   "execution_count": 25,
   "metadata": {
    "colab": {
     "base_uri": "https://localhost:8080/"
    },
    "id": "P5UY8wko3jFp",
    "outputId": "e8cb3233-c781-4016-8f6d-9ba936848a51"
   },
   "outputs": [
    {
     "name": "stdout",
     "output_type": "stream",
     "text": [
      "Decoder output shape: (batch_size, vocab size) (64, 7356)\n"
     ]
    }
   ],
   "source": [
    "decoder = Decoder(vocab_tar_size, embedding_dim, units, BATCH_SIZE)\n",
    "\n",
    "sample_decoder_output, _, _ = decoder(tf.random.uniform((BATCH_SIZE, 1)),\n",
    "                                      sample_hidden, sample_output)\n",
    "\n",
    "print ('Decoder output shape: (batch_size, vocab size) {}'.format(sample_decoder_output.shape))"
   ]
  },
  {
   "cell_type": "markdown",
   "metadata": {
    "id": "_ch_71VbIRfK"
   },
   "source": [
    "## Define the optimizer and the loss function"
   ]
  },
  {
   "cell_type": "code",
   "execution_count": 26,
   "metadata": {
    "id": "WmTHr5iV3jFr"
   },
   "outputs": [],
   "source": [
    "optimizer = tf.keras.optimizers.Adam()\n",
    "loss_object = tf.keras.losses.SparseCategoricalCrossentropy(\n",
    "    from_logits=True, reduction='none')\n",
    "\n",
    "def loss_function(real, pred):\n",
    "  mask = tf.math.logical_not(tf.math.equal(real, 0))\n",
    "  loss_ = loss_object(real, pred)\n",
    "\n",
    "  mask = tf.cast(mask, dtype=loss_.dtype)\n",
    "  loss_ *= mask\n",
    "\n",
    "  return tf.reduce_mean(loss_)"
   ]
  },
  {
   "cell_type": "markdown",
   "metadata": {
    "id": "DMVWzzsfNl4e"
   },
   "source": [
    "## Checkpoints (Object-based saving)"
   ]
  },
  {
   "cell_type": "code",
   "execution_count": 27,
   "metadata": {
    "id": "Zj8bXQTgNwrF"
   },
   "outputs": [],
   "source": [
    "checkpoint_dir = './training_attention_checkpoints'\n",
    "checkpoint_prefix = os.path.join(checkpoint_dir, \"ckpt\")\n",
    "checkpoint = tf.train.Checkpoint(optimizer=optimizer,\n",
    "                                 encoder=encoder,\n",
    "                                 decoder=decoder)"
   ]
  },
  {
   "cell_type": "code",
   "execution_count": 28,
   "metadata": {
    "id": "sC9ArXSsVfqn"
   },
   "outputs": [],
   "source": [
    "@tf.function\n",
    "def train_step(inp, targ, enc_hidden):\n",
    "  loss = 0\n",
    "\n",
    "  with tf.GradientTape() as tape:\n",
    "    enc_output, enc_hidden = encoder(inp, enc_hidden)\n",
    "\n",
    "    dec_hidden = enc_hidden\n",
    "\n",
    "    dec_input = tf.expand_dims([targ_lang.word_index['<start>']] * BATCH_SIZE, 1)\n",
    "\n",
    "    # Teacher forcing - feeding the target as the next input\n",
    "    for t in range(1, targ.shape[1]):\n",
    "      # passing enc_output to the decoder\n",
    "      predictions, dec_hidden, _ = decoder(dec_input, dec_hidden, enc_output)\n",
    "\n",
    "      loss += loss_function(targ[:, t], predictions)\n",
    "\n",
    "      # using teacher forcing\n",
    "      dec_input = tf.expand_dims(targ[:, t], 1)\n",
    "\n",
    "  batch_loss = (loss / int(targ.shape[1]))\n",
    "\n",
    "  variables = encoder.trainable_variables + decoder.trainable_variables\n",
    "\n",
    "  gradients = tape.gradient(loss, variables)\n",
    "\n",
    "  optimizer.apply_gradients(zip(gradients, variables))\n",
    "\n",
    "  return batch_loss"
   ]
  },
  {
   "cell_type": "code",
   "execution_count": 29,
   "metadata": {
    "colab": {
     "base_uri": "https://localhost:8080/",
     "height": 1000
    },
    "id": "ddefjBMa3jF0",
    "outputId": "18129808-55c4-4935-869b-ad5fa8f4de43"
   },
   "outputs": [
    {
     "name": "stdout",
     "output_type": "stream",
     "text": [
      "Epoch 1 Batch 0 Loss 4.5655\n",
      "Epoch 1 Batch 100 Loss 2.1083\n",
      "Epoch 1 Batch 200 Loss 1.8145\n",
      "Epoch 1 Batch 300 Loss 1.6222\n",
      "Epoch 1 Batch 400 Loss 1.6181\n",
      "Epoch 1 Batch 500 Loss 1.5688\n",
      "Epoch 1 Batch 600 Loss 1.3271\n",
      "Epoch 1 Batch 700 Loss 1.3795\n",
      "Epoch 1 Batch 800 Loss 1.1542\n",
      "Epoch 1 Batch 900 Loss 1.1503\n",
      "Epoch 1 Batch 1000 Loss 1.0340\n",
      "Epoch 1 Batch 1100 Loss 0.9746\n",
      "Epoch 1 Batch 1200 Loss 1.0273\n",
      "Epoch 1 Loss 1.4710\n",
      "Time taken for 1 epoch 1138.6814923286438 sec\n",
      "\n",
      "Epoch 2 Batch 0 Loss 0.9045\n",
      "Epoch 2 Batch 100 Loss 0.8058\n",
      "Epoch 2 Batch 200 Loss 0.7070\n",
      "Epoch 2 Batch 300 Loss 0.7789\n",
      "Epoch 2 Batch 400 Loss 0.6078\n",
      "Epoch 2 Batch 500 Loss 0.6483\n",
      "Epoch 2 Batch 600 Loss 0.5315\n",
      "Epoch 2 Batch 700 Loss 0.6832\n",
      "Epoch 2 Batch 800 Loss 0.6103\n",
      "Epoch 2 Batch 900 Loss 0.7068\n",
      "Epoch 2 Batch 1000 Loss 0.5580\n",
      "Epoch 2 Batch 1100 Loss 0.5398\n",
      "Epoch 2 Batch 1200 Loss 0.5321\n",
      "Epoch 2 Loss 0.6530\n",
      "Time taken for 1 epoch 1117.7277505397797 sec\n",
      "\n",
      "Epoch 3 Batch 0 Loss 0.3573\n",
      "Epoch 3 Batch 100 Loss 0.3343\n",
      "Epoch 3 Batch 200 Loss 0.2708\n",
      "Epoch 3 Batch 300 Loss 0.2968\n",
      "Epoch 3 Batch 400 Loss 0.2859\n",
      "Epoch 3 Batch 500 Loss 0.4004\n",
      "Epoch 3 Batch 600 Loss 0.3155\n",
      "Epoch 3 Batch 700 Loss 0.3385\n",
      "Epoch 3 Batch 800 Loss 0.3563\n",
      "Epoch 3 Batch 900 Loss 0.3422\n",
      "Epoch 3 Batch 1000 Loss 0.3577\n",
      "Epoch 3 Batch 1100 Loss 0.3691\n",
      "Epoch 3 Batch 1200 Loss 0.3710\n",
      "Epoch 3 Loss 0.3452\n",
      "Time taken for 1 epoch 1128.3909194469452 sec\n",
      "\n",
      "Epoch 4 Batch 0 Loss 0.1952\n",
      "Epoch 4 Batch 100 Loss 0.1889\n",
      "Epoch 4 Batch 200 Loss 0.1830\n",
      "Epoch 4 Batch 300 Loss 0.1610\n",
      "Epoch 4 Batch 400 Loss 0.1881\n",
      "Epoch 4 Batch 500 Loss 0.2131\n",
      "Epoch 4 Batch 600 Loss 0.2403\n",
      "Epoch 4 Batch 700 Loss 0.2703\n",
      "Epoch 4 Batch 800 Loss 0.1917\n",
      "Epoch 4 Batch 900 Loss 0.1690\n",
      "Epoch 4 Batch 1000 Loss 0.2929\n",
      "Epoch 4 Batch 1100 Loss 0.2626\n",
      "Epoch 4 Batch 1200 Loss 0.2031\n",
      "Epoch 4 Loss 0.2144\n",
      "Time taken for 1 epoch 1097.9284007549286 sec\n",
      "\n",
      "Epoch 5 Batch 0 Loss 0.1283\n",
      "Epoch 5 Batch 100 Loss 0.1390\n",
      "Epoch 5 Batch 200 Loss 0.1311\n",
      "Epoch 5 Batch 300 Loss 0.1676\n",
      "Epoch 5 Batch 400 Loss 0.1348\n",
      "Epoch 5 Batch 500 Loss 0.1755\n",
      "Epoch 5 Batch 600 Loss 0.1670\n",
      "Epoch 5 Batch 700 Loss 0.1416\n",
      "Epoch 5 Batch 800 Loss 0.2076\n",
      "Epoch 5 Batch 900 Loss 0.1162\n",
      "Epoch 5 Batch 1000 Loss 0.1814\n",
      "Epoch 5 Batch 1100 Loss 0.1463\n",
      "Epoch 5 Batch 1200 Loss 0.1767\n",
      "Epoch 5 Loss 0.1516\n",
      "Time taken for 1 epoch 1097.8028948307037 sec\n",
      "\n",
      "Epoch 6 Batch 0 Loss 0.0864\n",
      "Epoch 6 Batch 100 Loss 0.0819\n",
      "Epoch 6 Batch 200 Loss 0.0964\n",
      "Epoch 6 Batch 300 Loss 0.1130\n",
      "Epoch 6 Batch 400 Loss 0.1413\n",
      "Epoch 6 Batch 500 Loss 0.1705\n",
      "Epoch 6 Batch 600 Loss 0.1459\n",
      "Epoch 6 Batch 700 Loss 0.1083\n",
      "Epoch 6 Batch 800 Loss 0.1229\n",
      "Epoch 6 Batch 900 Loss 0.0975\n",
      "Epoch 6 Batch 1000 Loss 0.1268\n",
      "Epoch 6 Batch 1100 Loss 0.1080\n",
      "Epoch 6 Batch 1200 Loss 0.1037\n",
      "Epoch 6 Loss 0.1204\n",
      "Time taken for 1 epoch 1097.6312592029572 sec\n",
      "\n",
      "Epoch 7 Batch 0 Loss 0.0894\n",
      "Epoch 7 Batch 100 Loss 0.0879\n",
      "Epoch 7 Batch 200 Loss 0.1106\n",
      "Epoch 7 Batch 300 Loss 0.1091\n",
      "Epoch 7 Batch 400 Loss 0.1088\n",
      "Epoch 7 Batch 500 Loss 0.0942\n",
      "Epoch 7 Batch 600 Loss 0.0975\n",
      "Epoch 7 Batch 700 Loss 0.1091\n",
      "Epoch 7 Batch 800 Loss 0.1049\n",
      "Epoch 7 Batch 900 Loss 0.0816\n",
      "Epoch 7 Batch 1000 Loss 0.0848\n",
      "Epoch 7 Batch 1100 Loss 0.0965\n",
      "Epoch 7 Batch 1200 Loss 0.1527\n",
      "Epoch 7 Loss 0.1014\n",
      "Time taken for 1 epoch 1121.6983885765076 sec\n",
      "\n",
      "Epoch 8 Batch 0 Loss 0.0926\n",
      "Epoch 8 Batch 100 Loss 0.0882\n",
      "Epoch 8 Batch 200 Loss 0.0694\n",
      "Epoch 8 Batch 300 Loss 0.0788\n",
      "Epoch 8 Batch 400 Loss 0.0595\n",
      "Epoch 8 Batch 500 Loss 0.0553\n",
      "Epoch 8 Batch 600 Loss 0.0803\n",
      "Epoch 8 Batch 700 Loss 0.0541\n",
      "Epoch 8 Batch 800 Loss 0.1431\n",
      "Epoch 8 Batch 900 Loss 0.0834\n",
      "Epoch 8 Batch 1000 Loss 0.0958\n",
      "Epoch 8 Batch 1100 Loss 0.0921\n",
      "Epoch 8 Batch 1200 Loss 0.0844\n",
      "Epoch 8 Loss 0.0906\n",
      "Time taken for 1 epoch 1133.6882808208466 sec\n",
      "\n",
      "Epoch 9 Batch 0 Loss 0.0837\n",
      "Epoch 9 Batch 100 Loss 0.0657\n",
      "Epoch 9 Batch 200 Loss 0.0560\n",
      "Epoch 9 Batch 300 Loss 0.0810\n",
      "Epoch 9 Batch 400 Loss 0.0794\n",
      "Epoch 9 Batch 500 Loss 0.0705\n",
      "Epoch 9 Batch 600 Loss 0.0927\n",
      "Epoch 9 Batch 700 Loss 0.0639\n",
      "Epoch 9 Batch 800 Loss 0.0754\n",
      "Epoch 9 Batch 900 Loss 0.1171\n",
      "Epoch 9 Batch 1000 Loss 0.0872\n",
      "Epoch 9 Batch 1100 Loss 0.1133\n",
      "Epoch 9 Batch 1200 Loss 0.0884\n",
      "Epoch 9 Loss 0.0830\n",
      "Time taken for 1 epoch 1096.3871717453003 sec\n",
      "\n",
      "Epoch 10 Batch 0 Loss 0.0510\n",
      "Epoch 10 Batch 100 Loss 0.0352\n",
      "Epoch 10 Batch 200 Loss 0.0508\n",
      "Epoch 10 Batch 300 Loss 0.0459\n",
      "Epoch 10 Batch 400 Loss 0.0746\n",
      "Epoch 10 Batch 500 Loss 0.0564\n",
      "Epoch 10 Batch 600 Loss 0.1129\n",
      "Epoch 10 Batch 700 Loss 0.0966\n",
      "Epoch 10 Batch 800 Loss 0.0860\n",
      "Epoch 10 Batch 900 Loss 0.0773\n",
      "Epoch 10 Batch 1000 Loss 0.0857\n",
      "Epoch 10 Batch 1100 Loss 0.0733\n",
      "Epoch 10 Batch 1200 Loss 0.1130\n",
      "Epoch 10 Loss 0.0779\n",
      "Time taken for 1 epoch 1095.9806616306305 sec\n",
      "\n",
      "Epoch 11 Batch 0 Loss 0.0662\n",
      "Epoch 11 Batch 100 Loss 0.0906\n",
      "Epoch 11 Batch 200 Loss 0.0685\n",
      "Epoch 11 Batch 300 Loss 0.0504\n",
      "Epoch 11 Batch 400 Loss 0.0604\n",
      "Epoch 11 Batch 500 Loss 0.0418\n",
      "Epoch 11 Batch 600 Loss 0.0599\n",
      "Epoch 11 Batch 700 Loss 0.0896\n",
      "Epoch 11 Batch 800 Loss 0.0882\n",
      "Epoch 11 Batch 900 Loss 0.1060\n",
      "Epoch 11 Batch 1000 Loss 0.0758\n",
      "Epoch 11 Batch 1100 Loss 0.0571\n",
      "Epoch 11 Batch 1200 Loss 0.0973\n",
      "Epoch 11 Loss 0.0741\n",
      "Time taken for 1 epoch 1096.8754062652588 sec\n",
      "\n",
      "Epoch 12 Batch 0 Loss 0.0319\n",
      "Epoch 12 Batch 100 Loss 0.0728\n",
      "Epoch 12 Batch 200 Loss 0.0882\n",
      "Epoch 12 Batch 300 Loss 0.0732\n",
      "Epoch 12 Batch 400 Loss 0.0903\n",
      "Epoch 12 Batch 500 Loss 0.0887\n",
      "Epoch 12 Batch 600 Loss 0.0638\n",
      "Epoch 12 Batch 700 Loss 0.0572\n",
      "Epoch 12 Batch 800 Loss 0.0834\n",
      "Epoch 12 Batch 900 Loss 0.1088\n",
      "Epoch 12 Batch 1000 Loss 0.0840\n",
      "Epoch 12 Batch 1100 Loss 0.0465\n",
      "Epoch 12 Batch 1200 Loss 0.0576\n",
      "Epoch 12 Loss 0.0695\n",
      "Time taken for 1 epoch 1097.8805623054504 sec\n",
      "\n",
      "Epoch 13 Batch 0 Loss 0.0430\n",
      "Epoch 13 Batch 100 Loss 0.0322\n",
      "Epoch 13 Batch 200 Loss 0.0825\n",
      "Epoch 13 Batch 300 Loss 0.0644\n",
      "Epoch 13 Batch 400 Loss 0.0563\n",
      "Epoch 13 Batch 500 Loss 0.0709\n",
      "Epoch 13 Batch 600 Loss 0.0733\n",
      "Epoch 13 Batch 700 Loss 0.0507\n",
      "Epoch 13 Batch 800 Loss 0.0780\n",
      "Epoch 13 Batch 900 Loss 0.0469\n",
      "Epoch 13 Batch 1000 Loss 0.0480\n",
      "Epoch 13 Batch 1100 Loss 0.0927\n",
      "Epoch 13 Batch 1200 Loss 0.0859\n",
      "Epoch 13 Loss 0.0670\n",
      "Time taken for 1 epoch 1097.48170876503 sec\n",
      "\n",
      "Epoch 14 Batch 0 Loss 0.0662\n",
      "Epoch 14 Batch 100 Loss 0.0626\n",
      "Epoch 14 Batch 200 Loss 0.0544\n",
      "Epoch 14 Batch 300 Loss 0.0723\n",
      "Epoch 14 Batch 400 Loss 0.0442\n",
      "Epoch 14 Batch 500 Loss 0.0853\n",
      "Epoch 14 Batch 600 Loss 0.0375\n",
      "Epoch 14 Batch 700 Loss 0.0465\n",
      "Epoch 14 Batch 800 Loss 0.0873\n",
      "Epoch 14 Batch 900 Loss 0.0768\n",
      "Epoch 14 Batch 1000 Loss 0.0942\n",
      "Epoch 14 Batch 1100 Loss 0.0548\n",
      "Epoch 14 Batch 1200 Loss 0.0696\n",
      "Epoch 14 Loss 0.0646\n",
      "Time taken for 1 epoch 1096.980319261551 sec\n",
      "\n",
      "Epoch 15 Batch 0 Loss 0.0471\n",
      "Epoch 15 Batch 100 Loss 0.0373\n",
      "Epoch 15 Batch 200 Loss 0.0468\n",
      "Epoch 15 Batch 300 Loss 0.0549\n",
      "Epoch 15 Batch 400 Loss 0.0446\n",
      "Epoch 15 Batch 500 Loss 0.0755\n",
      "Epoch 15 Batch 600 Loss 0.0577\n",
      "Epoch 15 Batch 700 Loss 0.0680\n",
      "Epoch 15 Batch 800 Loss 0.0857\n",
      "Epoch 15 Batch 900 Loss 0.0769\n",
      "Epoch 15 Batch 1000 Loss 0.0651\n",
      "Epoch 15 Batch 1100 Loss 0.0883\n",
      "Epoch 15 Batch 1200 Loss 0.1099\n",
      "Epoch 15 Loss 0.0625\n",
      "Time taken for 1 epoch 1097.0134556293488 sec\n",
      "\n",
      "Epoch 16 Batch 0 Loss 0.0701\n",
      "Epoch 16 Batch 100 Loss 0.0508\n",
      "Epoch 16 Batch 200 Loss 0.0687\n",
      "Epoch 16 Batch 300 Loss 0.0565\n",
      "Epoch 16 Batch 400 Loss 0.0483\n",
      "Epoch 16 Batch 500 Loss 0.0448\n",
      "Epoch 16 Batch 600 Loss 0.0481\n",
      "Epoch 16 Batch 700 Loss 0.0423\n",
      "Epoch 16 Batch 800 Loss 0.0289\n",
      "Epoch 16 Batch 900 Loss 0.0672\n",
      "Epoch 16 Batch 1000 Loss 0.0668\n",
      "Epoch 16 Batch 1100 Loss 0.0790\n",
      "Epoch 16 Batch 1200 Loss 0.0864\n",
      "Epoch 16 Loss 0.0601\n",
      "Time taken for 1 epoch 1097.7868075370789 sec\n",
      "\n",
      "Epoch 17 Batch 0 Loss 0.0451\n",
      "Epoch 17 Batch 100 Loss 0.0602\n",
      "Epoch 17 Batch 200 Loss 0.0399\n",
      "Epoch 17 Batch 300 Loss 0.0826\n",
      "Epoch 17 Batch 400 Loss 0.0600\n",
      "Epoch 17 Batch 500 Loss 0.0424\n",
      "Epoch 17 Batch 600 Loss 0.0598\n",
      "Epoch 17 Batch 700 Loss 0.0559\n",
      "Epoch 17 Batch 800 Loss 0.0508\n",
      "Epoch 17 Batch 900 Loss 0.0574\n",
      "Epoch 17 Batch 1000 Loss 0.0816\n",
      "Epoch 17 Batch 1100 Loss 0.0443\n",
      "Epoch 17 Batch 1200 Loss 0.0598\n",
      "Epoch 17 Loss 0.0584\n",
      "Time taken for 1 epoch 1097.8685677051544 sec\n",
      "\n",
      "Epoch 18 Batch 0 Loss 0.0413\n",
      "Epoch 18 Batch 100 Loss 0.0310\n",
      "Epoch 18 Batch 200 Loss 0.0405\n",
      "Epoch 18 Batch 300 Loss 0.0248\n",
      "Epoch 18 Batch 400 Loss 0.0347\n",
      "Epoch 18 Batch 500 Loss 0.0912\n",
      "Epoch 18 Batch 600 Loss 0.0794\n",
      "Epoch 18 Batch 700 Loss 0.0478\n",
      "Epoch 18 Batch 800 Loss 0.0403\n",
      "Epoch 18 Batch 900 Loss 0.0391\n"
     ]
    },
    {
     "name": "stdout",
     "output_type": "stream",
     "text": [
      "Epoch 18 Batch 1000 Loss 0.0548\n",
      "Epoch 18 Batch 1100 Loss 0.0611\n",
      "Epoch 18 Batch 1200 Loss 0.0922\n",
      "Epoch 18 Loss 0.0569\n",
      "Time taken for 1 epoch 1096.9949781894684 sec\n",
      "\n",
      "Epoch 19 Batch 0 Loss 0.0389\n",
      "Epoch 19 Batch 100 Loss 0.0441\n",
      "Epoch 19 Batch 200 Loss 0.0505\n",
      "Epoch 19 Batch 300 Loss 0.0570\n",
      "Epoch 19 Batch 400 Loss 0.0654\n",
      "Epoch 19 Batch 500 Loss 0.0650\n",
      "Epoch 19 Batch 600 Loss 0.0801\n",
      "Epoch 19 Batch 700 Loss 0.0520\n",
      "Epoch 19 Batch 800 Loss 0.0835\n",
      "Epoch 19 Batch 900 Loss 0.0641\n",
      "Epoch 19 Batch 1000 Loss 0.0551\n",
      "Epoch 19 Batch 1100 Loss 0.0473\n",
      "Epoch 19 Batch 1200 Loss 0.0596\n",
      "Epoch 19 Loss 0.0558\n",
      "Time taken for 1 epoch 1097.162302017212 sec\n",
      "\n",
      "Epoch 20 Batch 0 Loss 0.0347\n",
      "Epoch 20 Batch 100 Loss 0.0489\n",
      "Epoch 20 Batch 200 Loss 0.0468\n",
      "Epoch 20 Batch 300 Loss 0.0598\n",
      "Epoch 20 Batch 400 Loss 0.0812\n",
      "Epoch 20 Batch 500 Loss 0.0531\n",
      "Epoch 20 Batch 600 Loss 0.0430\n",
      "Epoch 20 Batch 700 Loss 0.0444\n",
      "Epoch 20 Batch 800 Loss 0.0368\n",
      "Epoch 20 Batch 900 Loss 0.0734\n",
      "Epoch 20 Batch 1000 Loss 0.0641\n",
      "Epoch 20 Batch 1100 Loss 0.0763\n",
      "Epoch 20 Batch 1200 Loss 0.0814\n",
      "Epoch 20 Loss 0.0553\n",
      "Time taken for 1 epoch 1097.1186201572418 sec\n",
      "\n",
      "Epoch 21 Batch 0 Loss 0.0615\n",
      "Epoch 21 Batch 100 Loss 0.0680\n",
      "Epoch 21 Batch 200 Loss 0.0187\n",
      "Epoch 21 Batch 300 Loss 0.0358\n",
      "Epoch 21 Batch 400 Loss 0.0434\n",
      "Epoch 21 Batch 500 Loss 0.0677\n",
      "Epoch 21 Batch 600 Loss 0.0534\n",
      "Epoch 21 Batch 700 Loss 0.0425\n",
      "Epoch 21 Batch 800 Loss 0.0580\n",
      "Epoch 21 Batch 900 Loss 0.0865\n",
      "Epoch 21 Batch 1000 Loss 0.0512\n",
      "Epoch 21 Batch 1100 Loss 0.0862\n",
      "Epoch 21 Batch 1200 Loss 0.0707\n",
      "Epoch 21 Loss 0.0535\n",
      "Time taken for 1 epoch 1097.8870739936829 sec\n",
      "\n",
      "Epoch 22 Batch 0 Loss 0.0631\n",
      "Epoch 22 Batch 100 Loss 0.0340\n",
      "Epoch 22 Batch 200 Loss 0.0459\n",
      "Epoch 22 Batch 300 Loss 0.0745\n",
      "Epoch 22 Batch 400 Loss 0.0292\n",
      "Epoch 22 Batch 500 Loss 0.0512\n",
      "Epoch 22 Batch 600 Loss 0.0905\n",
      "Epoch 22 Batch 700 Loss 0.0514\n",
      "Epoch 22 Batch 800 Loss 0.0728\n",
      "Epoch 22 Batch 900 Loss 0.0765\n",
      "Epoch 22 Batch 1000 Loss 0.0425\n",
      "Epoch 22 Batch 1100 Loss 0.0723\n",
      "Epoch 22 Batch 1200 Loss 0.0558\n",
      "Epoch 22 Loss 0.0523\n",
      "Time taken for 1 epoch 1097.6449542045593 sec\n",
      "\n",
      "Epoch 23 Batch 0 Loss 0.0431\n",
      "Epoch 23 Batch 100 Loss 0.0586\n",
      "Epoch 23 Batch 200 Loss 0.0433\n",
      "Epoch 23 Batch 300 Loss 0.0388\n",
      "Epoch 23 Batch 400 Loss 0.0356\n",
      "Epoch 23 Batch 500 Loss 0.0403\n",
      "Epoch 23 Batch 600 Loss 0.0573\n",
      "Epoch 23 Batch 700 Loss 0.0638\n",
      "Epoch 23 Batch 800 Loss 0.0553\n",
      "Epoch 23 Batch 900 Loss 0.0401\n",
      "Epoch 23 Batch 1000 Loss 0.0775\n",
      "Epoch 23 Batch 1100 Loss 0.0681\n",
      "Epoch 23 Batch 1200 Loss 0.0493\n",
      "Epoch 23 Loss 0.0509\n",
      "Time taken for 1 epoch 1097.5775265693665 sec\n",
      "\n",
      "Epoch 24 Batch 0 Loss 0.0330\n",
      "Epoch 24 Batch 100 Loss 0.0382\n",
      "Epoch 24 Batch 200 Loss 0.0239\n",
      "Epoch 24 Batch 300 Loss 0.0233\n",
      "Epoch 24 Batch 400 Loss 0.0348\n",
      "Epoch 24 Batch 500 Loss 0.0549\n",
      "Epoch 24 Batch 600 Loss 0.0491\n",
      "Epoch 24 Batch 700 Loss 0.0549\n",
      "Epoch 24 Batch 800 Loss 0.0533\n",
      "Epoch 24 Batch 900 Loss 0.0627\n",
      "Epoch 24 Batch 1000 Loss 0.0685\n",
      "Epoch 24 Batch 1100 Loss 0.0332\n",
      "Epoch 24 Batch 1200 Loss 0.0405\n",
      "Epoch 24 Loss 0.0501\n",
      "Time taken for 1 epoch 1098.2941842079163 sec\n",
      "\n",
      "Epoch 25 Batch 0 Loss 0.0237\n",
      "Epoch 25 Batch 100 Loss 0.0409\n",
      "Epoch 25 Batch 200 Loss 0.0225\n",
      "Epoch 25 Batch 300 Loss 0.0528\n",
      "Epoch 25 Batch 400 Loss 0.0461\n",
      "Epoch 25 Batch 500 Loss 0.0424\n",
      "Epoch 25 Batch 600 Loss 0.0384\n",
      "Epoch 25 Batch 700 Loss 0.0359\n",
      "Epoch 25 Batch 800 Loss 0.0583\n",
      "Epoch 25 Batch 900 Loss 0.0488\n",
      "Epoch 25 Batch 1000 Loss 0.0668\n",
      "Epoch 25 Batch 1100 Loss 0.0426\n",
      "Epoch 25 Batch 1200 Loss 0.0849\n",
      "Epoch 25 Loss 0.0502\n",
      "Time taken for 1 epoch 1097.9702923297882 sec\n",
      "\n",
      "Epoch 26 Batch 0 Loss 0.0497\n",
      "Epoch 26 Batch 100 Loss 0.0395\n",
      "Epoch 26 Batch 200 Loss 0.0492\n",
      "Epoch 26 Batch 300 Loss 0.0394\n",
      "Epoch 26 Batch 400 Loss 0.0263\n",
      "Epoch 26 Batch 500 Loss 0.0461\n",
      "Epoch 26 Batch 600 Loss 0.0518\n",
      "Epoch 26 Batch 700 Loss 0.0522\n",
      "Epoch 26 Batch 800 Loss 0.0190\n",
      "Epoch 26 Batch 900 Loss 0.0695\n",
      "Epoch 26 Batch 1000 Loss 0.0536\n",
      "Epoch 26 Batch 1100 Loss 0.0641\n",
      "Epoch 26 Batch 1200 Loss 0.0453\n",
      "Epoch 26 Loss 0.0486\n",
      "Time taken for 1 epoch 1097.934944152832 sec\n",
      "\n",
      "Epoch 27 Batch 0 Loss 0.0246\n",
      "Epoch 27 Batch 100 Loss 0.0281\n",
      "Epoch 27 Batch 200 Loss 0.0325\n",
      "Epoch 27 Batch 300 Loss 0.0434\n",
      "Epoch 27 Batch 400 Loss 0.0251\n",
      "Epoch 27 Batch 500 Loss 0.0403\n",
      "Epoch 27 Batch 600 Loss 0.0292\n",
      "Epoch 27 Batch 700 Loss 0.0571\n",
      "Epoch 27 Batch 800 Loss 0.0527\n",
      "Epoch 27 Batch 900 Loss 0.0737\n",
      "Epoch 27 Batch 1000 Loss 0.0838\n",
      "Epoch 27 Batch 1100 Loss 0.0677\n",
      "Epoch 27 Batch 1200 Loss 0.0520\n",
      "Epoch 27 Loss 0.0479\n",
      "Time taken for 1 epoch 1097.457598209381 sec\n",
      "\n",
      "Epoch 28 Batch 0 Loss 0.0601\n",
      "Epoch 28 Batch 100 Loss 0.0356\n",
      "Epoch 28 Batch 200 Loss 0.0347\n",
      "Epoch 28 Batch 300 Loss 0.0367\n",
      "Epoch 28 Batch 400 Loss 0.0284\n",
      "Epoch 28 Batch 500 Loss 0.0621\n",
      "Epoch 28 Batch 600 Loss 0.0268\n",
      "Epoch 28 Batch 700 Loss 0.0342\n",
      "Epoch 28 Batch 800 Loss 0.0230\n",
      "Epoch 28 Batch 900 Loss 0.0625\n",
      "Epoch 28 Batch 1000 Loss 0.0473\n",
      "Epoch 28 Batch 1100 Loss 0.0722\n",
      "Epoch 28 Batch 1200 Loss 0.0382\n",
      "Epoch 28 Loss 0.0477\n",
      "Time taken for 1 epoch 1098.2066068649292 sec\n",
      "\n",
      "Epoch 29 Batch 0 Loss 0.0261\n",
      "Epoch 29 Batch 100 Loss 0.0409\n",
      "Epoch 29 Batch 200 Loss 0.0380\n",
      "Epoch 29 Batch 300 Loss 0.0298\n",
      "Epoch 29 Batch 400 Loss 0.0348\n",
      "Epoch 29 Batch 500 Loss 0.0630\n",
      "Epoch 29 Batch 600 Loss 0.0304\n",
      "Epoch 29 Batch 700 Loss 0.0294\n",
      "Epoch 29 Batch 800 Loss 0.0487\n",
      "Epoch 29 Batch 900 Loss 0.0446\n",
      "Epoch 29 Batch 1000 Loss 0.0306\n",
      "Epoch 29 Batch 1100 Loss 0.0370\n",
      "Epoch 29 Batch 1200 Loss 0.0534\n",
      "Epoch 29 Loss 0.0467\n",
      "Time taken for 1 epoch 1098.4468998908997 sec\n",
      "\n",
      "Epoch 30 Batch 0 Loss 0.0368\n",
      "Epoch 30 Batch 100 Loss 0.0277\n",
      "Epoch 30 Batch 200 Loss 0.0503\n",
      "Epoch 30 Batch 300 Loss 0.0386\n",
      "Epoch 30 Batch 400 Loss 0.0472\n",
      "Epoch 30 Batch 500 Loss 0.0478\n",
      "Epoch 30 Batch 600 Loss 0.0511\n",
      "Epoch 30 Batch 700 Loss 0.0743\n",
      "Epoch 30 Batch 800 Loss 0.0391\n",
      "Epoch 30 Batch 900 Loss 0.0566\n",
      "Epoch 30 Batch 1000 Loss 0.0561\n",
      "Epoch 30 Batch 1100 Loss 0.0499\n",
      "Epoch 30 Batch 1200 Loss 0.0854\n",
      "Epoch 30 Loss 0.0460\n",
      "Time taken for 1 epoch 1097.0572638511658 sec\n",
      "\n"
     ]
    }
   ],
   "source": [
    "EPOCHS = 30\n",
    "\n",
    "for epoch in range(EPOCHS):\n",
    "  start = time.time()\n",
    "\n",
    "  enc_hidden = encoder.initialize_hidden_state()\n",
    "  total_loss = 0\n",
    "\n",
    "  for (batch, (inp, targ)) in enumerate(dataset.take(steps_per_epoch)):\n",
    "    batch_loss = train_step(inp, targ, enc_hidden)\n",
    "    total_loss += batch_loss\n",
    "\n",
    "    if batch % 100 == 0:\n",
    "      print('Epoch {} Batch {} Loss {:.4f}'.format(epoch + 1,\n",
    "                                                   batch,\n",
    "                                                   batch_loss.numpy()))\n",
    "  # saving (checkpoint) the model every 2 epochs\n",
    "  if (epoch + 1) % 2 == 0:\n",
    "    checkpoint.save(file_prefix = checkpoint_prefix)\n",
    "\n",
    "  print('Epoch {} Loss {:.4f}'.format(epoch + 1,\n",
    "                                      total_loss / steps_per_epoch))\n",
    "  print('Time taken for 1 epoch {} sec\\n'.format(time.time() - start))"
   ]
  },
  {
   "cell_type": "markdown",
   "metadata": {
    "id": "mU3Ce8M6I3rz"
   },
   "source": [
    "## Translate\n",
    "\n",
    "* The evaluate function is similar to the training loop, except we don't use *teacher forcing* here. The input to the decoder at each time step is its previous predictions along with the hidden state and the encoder output.\n",
    "* Stop predicting when the model predicts the *end token*.\n",
    "* And store the *attention weights for every time step*.\n",
    "\n",
    "Note: The encoder output is calculated only once for one input."
   ]
  },
  {
   "cell_type": "code",
   "execution_count": 30,
   "metadata": {
    "id": "EbQpyYs13jF_"
   },
   "outputs": [],
   "source": [
    "def evaluate(sentence):\n",
    "  attention_plot = np.zeros((max_length_targ, max_length_inp))\n",
    "\n",
    "  sentence = preprocess_sentence(sentence)\n",
    "\n",
    "  inputs = [inp_lang.word_index[i] for i in sentence.split(' ')]\n",
    "  inputs = tf.keras.preprocessing.sequence.pad_sequences([inputs],\n",
    "                                                         maxlen=max_length_inp,\n",
    "                                                         padding='post')\n",
    "  inputs = tf.convert_to_tensor(inputs)\n",
    "\n",
    "  result = ''\n",
    "\n",
    "  hidden = [tf.zeros((1, units))]\n",
    "  enc_out, enc_hidden = encoder(inputs, hidden)\n",
    "\n",
    "  dec_hidden = enc_hidden\n",
    "  dec_input = tf.expand_dims([targ_lang.word_index['<start>']], 0)\n",
    "\n",
    "  for t in range(max_length_targ):\n",
    "    predictions, dec_hidden, attention_weights = decoder(dec_input,\n",
    "                                                         dec_hidden,\n",
    "                                                         enc_out)\n",
    "\n",
    "    # storing the attention weights to plot later on\n",
    "    attention_weights = tf.reshape(attention_weights, (-1, ))\n",
    "    attention_plot[t] = attention_weights.numpy()\n",
    "\n",
    "    predicted_id = tf.argmax(predictions[0]).numpy()\n",
    "\n",
    "    result += targ_lang.index_word[predicted_id] + ' '\n",
    "\n",
    "    if targ_lang.index_word[predicted_id] == '<end>':\n",
    "      return result, sentence, attention_plot\n",
    "\n",
    "    # the predicted ID is fed back into the model\n",
    "    dec_input = tf.expand_dims([predicted_id], 0)\n",
    "\n",
    "  return result, sentence, attention_plot"
   ]
  },
  {
   "cell_type": "code",
   "execution_count": 31,
   "metadata": {
    "id": "Qjy26Fe8Bv5d"
   },
   "outputs": [],
   "source": [
    "# function for plotting the attention weights\n",
    "def plot_attention(attention, sentence, predicted_sentence):\n",
    "  fig = plt.figure(figsize=(10,10))\n",
    "  ax = fig.add_subplot(1, 1, 1)\n",
    "  ax.matshow(attention, cmap='viridis')\n",
    "\n",
    "  fontdict = {'fontsize': 14}\n",
    "\n",
    "  ax.set_xticklabels([''] + sentence, fontdict=fontdict, rotation=90)\n",
    "  ax.set_yticklabels([''] + predicted_sentence, fontdict=fontdict)\n",
    "\n",
    "  ax.xaxis.set_major_locator(ticker.MultipleLocator(1))\n",
    "  ax.yaxis.set_major_locator(ticker.MultipleLocator(1))\n",
    "\n",
    "  plt.show()"
   ]
  },
  {
   "cell_type": "code",
   "execution_count": 32,
   "metadata": {
    "id": "sl9zUHzg3jGI"
   },
   "outputs": [],
   "source": [
    "def translate(sentence):\n",
    "  result, sentence, attention_plot = evaluate(sentence)\n",
    "\n",
    "  print('Input: %s' % (sentence))\n",
    "  print('Predicted translation: {}'.format(result))\n",
    "\n",
    "  attention_plot = attention_plot[:len(result.split(' ')), :len(sentence.split(' '))]\n",
    "  plot_attention(attention_plot, sentence.split(' '), result.split(' '))"
   ]
  },
  {
   "cell_type": "markdown",
   "metadata": {
    "id": "n250XbnjOaqP"
   },
   "source": [
    "## Restore the latest checkpoint and test"
   ]
  },
  {
   "cell_type": "code",
   "execution_count": 33,
   "metadata": {
    "colab": {
     "base_uri": "https://localhost:8080/"
    },
    "id": "UJpT9D5_OgP6",
    "outputId": "28722f54-a505-40a1-f884-ca7815272d0c"
   },
   "outputs": [
    {
     "data": {
      "text/plain": [
       "<tensorflow.python.checkpoint.checkpoint.CheckpointLoadStatus at 0x7fc66532c490>"
      ]
     },
     "execution_count": 33,
     "metadata": {},
     "output_type": "execute_result"
    }
   ],
   "source": [
    "# restoring the latest checkpoint in checkpoint_dir\n",
    "checkpoint.restore(tf.train.latest_checkpoint(checkpoint_dir))"
   ]
  },
  {
   "cell_type": "code",
   "execution_count": 34,
   "metadata": {
    "colab": {
     "base_uri": "https://localhost:8080/",
     "height": 677
    },
    "id": "WrAM0FDomq3E",
    "outputId": "1441a3f6-b48f-4970-f372-4c8103bbb4b6"
   },
   "outputs": [
    {
     "name": "stdout",
     "output_type": "stream",
     "text": [
      "Input: <start> здесь хорошо . <end>\n",
      "Predicted translation: it's fine here . <end> \n"
     ]
    },
    {
     "name": "stderr",
     "output_type": "stream",
     "text": [
      "/tmp/ipykernel_63047/282331986.py:9: UserWarning: FixedFormatter should only be used together with FixedLocator\n",
      "  ax.set_xticklabels([''] + sentence, fontdict=fontdict, rotation=90)\n",
      "/tmp/ipykernel_63047/282331986.py:10: UserWarning: FixedFormatter should only be used together with FixedLocator\n",
      "  ax.set_yticklabels([''] + predicted_sentence, fontdict=fontdict)\n"
     ]
    },
    {
     "data": {
      "image/png": "[encoded data removed]",
      "text/plain": [
       "<Figure size 720x720 with 1 Axes>"
      ]
     },
     "metadata": {
      "needs_background": "light"
     },
     "output_type": "display_data"
    }
   ],
   "source": [
    "translate('Здесь хорошо.')"
   ]
  },
  {
   "cell_type": "code",
   "execution_count": 35,
   "metadata": {
    "colab": {
     "base_uri": "https://localhost:8080/",
     "height": 615
    },
    "id": "5bhFfwcIMX5i",
    "outputId": "7fe0e655-0b2d-4ade-db04-d4c146a80713"
   },
   "outputs": [
    {
     "name": "stdout",
     "output_type": "stream",
     "text": [
      "Input: <start> я не смогу поехать . <end>\n",
      "Predicted translation: i can't go . <end> \n"
     ]
    },
    {
     "name": "stderr",
     "output_type": "stream",
     "text": [
      "/tmp/ipykernel_63047/282331986.py:9: UserWarning: FixedFormatter should only be used together with FixedLocator\n",
      "  ax.set_xticklabels([''] + sentence, fontdict=fontdict, rotation=90)\n",
      "/tmp/ipykernel_63047/282331986.py:10: UserWarning: FixedFormatter should only be used together with FixedLocator\n",
      "  ax.set_yticklabels([''] + predicted_sentence, fontdict=fontdict)\n"
     ]
    },
    {
     "data": {
      "image/png": "[encoded data removed]",
      "text/plain": [
       "<Figure size 720x720 with 1 Axes>"
      ]
     },
     "metadata": {
      "needs_background": "light"
     },
     "output_type": "display_data"
    }
   ],
   "source": [
    "translate('Я не смогу поехать.')"
   ]
  },
  {
   "cell_type": "code",
   "execution_count": 36,
   "metadata": {
    "colab": {
     "base_uri": "https://localhost:8080/",
     "height": 677
    },
    "id": "zSx2iM36EZQZ",
    "outputId": "dbe4427c-3b27-40a5-f3ca-9d29e04b18a2"
   },
   "outputs": [
    {
     "name": "stdout",
     "output_type": "stream",
     "text": [
      "Input: <start> вы еще дома ? <end>\n",
      "Predicted translation: are you still home ? <end> \n"
     ]
    },
    {
     "name": "stderr",
     "output_type": "stream",
     "text": [
      "/tmp/ipykernel_63047/282331986.py:9: UserWarning: FixedFormatter should only be used together with FixedLocator\n",
      "  ax.set_xticklabels([''] + sentence, fontdict=fontdict, rotation=90)\n",
      "/tmp/ipykernel_63047/282331986.py:10: UserWarning: FixedFormatter should only be used together with FixedLocator\n",
      "  ax.set_yticklabels([''] + predicted_sentence, fontdict=fontdict)\n"
     ]
    },
    {
     "data": {
      "image/png": "[encoded data removed]",
      "text/plain": [
       "<Figure size 720x720 with 1 Axes>"
      ]
     },
     "metadata": {
      "needs_background": "light"
     },
     "output_type": "display_data"
    }
   ],
   "source": [
    "translate(u'Вы еще дома?')"
   ]
  },
  {
   "cell_type": "code",
   "execution_count": 37,
   "metadata": {
    "colab": {
     "base_uri": "https://localhost:8080/",
     "height": 677
    },
    "id": "A3LLCx3ZE0Ls",
    "outputId": "1549f08a-fef9-4621-aec3-26a38d9a8f54"
   },
   "outputs": [
    {
     "name": "stdout",
     "output_type": "stream",
     "text": [
      "Input: <start> вы все еще дома ? <end>\n",
      "Predicted translation: are you still home ? <end> \n"
     ]
    },
    {
     "name": "stderr",
     "output_type": "stream",
     "text": [
      "/tmp/ipykernel_63047/282331986.py:9: UserWarning: FixedFormatter should only be used together with FixedLocator\n",
      "  ax.set_xticklabels([''] + sentence, fontdict=fontdict, rotation=90)\n",
      "/tmp/ipykernel_63047/282331986.py:10: UserWarning: FixedFormatter should only be used together with FixedLocator\n",
      "  ax.set_yticklabels([''] + predicted_sentence, fontdict=fontdict)\n"
     ]
    },
    {
     "data": {
      "image/png": "[encoded data removed]",
      "text/plain": [
       "<Figure size 720x720 with 1 Axes>"
      ]
     },
     "metadata": {
      "needs_background": "light"
     },
     "output_type": "display_data"
    }
   ],
   "source": [
    "translate(u'Вы все еще дома?')"
   ]
  },
  {
   "cell_type": "code",
   "execution_count": 38,
   "metadata": {
    "colab": {
     "base_uri": "https://localhost:8080/",
     "height": 691
    },
    "id": "DUQVLVqUE1YW",
    "outputId": "386cbb83-4e83-423a-cdee-f4b53d61a457"
   },
   "outputs": [
    {
     "name": "stdout",
     "output_type": "stream",
     "text": [
      "Input: <start> попробуй сделать это . <end>\n",
      "Predicted translation: try to do this . <end> \n"
     ]
    },
    {
     "name": "stderr",
     "output_type": "stream",
     "text": [
      "/tmp/ipykernel_63047/282331986.py:9: UserWarning: FixedFormatter should only be used together with FixedLocator\n",
      "  ax.set_xticklabels([''] + sentence, fontdict=fontdict, rotation=90)\n",
      "/tmp/ipykernel_63047/282331986.py:10: UserWarning: FixedFormatter should only be used together with FixedLocator\n",
      "  ax.set_yticklabels([''] + predicted_sentence, fontdict=fontdict)\n"
     ]
    },
    {
     "data": {
      "image/png": "[encoded data removed]",
      "text/plain": [
       "<Figure size 720x720 with 1 Axes>"
      ]
     },
     "metadata": {
      "needs_background": "light"
     },
     "output_type": "display_data"
    }
   ],
   "source": [
    "translate(u'Попробуй сделать это.')"
   ]
  },
  {
   "cell_type": "code",
   "execution_count": 39,
   "metadata": {
    "colab": {
     "base_uri": "https://localhost:8080/",
     "height": 525
    },
    "id": "f09_hUFx9EJh",
    "outputId": "0a870a16-883d-45ee-84e3-123f41607bd6"
   },
   "outputs": [
    {
     "name": "stdout",
     "output_type": "stream",
     "text": [
      "Input: <start> я не люблю , когда идет снег . <end>\n",
      "Predicted translation: i don't like snow . <end> \n"
     ]
    },
    {
     "name": "stderr",
     "output_type": "stream",
     "text": [
      "/tmp/ipykernel_63047/282331986.py:9: UserWarning: FixedFormatter should only be used together with FixedLocator\n",
      "  ax.set_xticklabels([''] + sentence, fontdict=fontdict, rotation=90)\n",
      "/tmp/ipykernel_63047/282331986.py:10: UserWarning: FixedFormatter should only be used together with FixedLocator\n",
      "  ax.set_yticklabels([''] + predicted_sentence, fontdict=fontdict)\n"
     ]
    },
    {
     "data": {
      "image/png": "[encoded data removed]",
      "text/plain": [
       "<Figure size 720x720 with 1 Axes>"
      ]
     },
     "metadata": {
      "needs_background": "light"
     },
     "output_type": "display_data"
    }
   ],
   "source": [
    "translate(u'Я не люблю, когда идет снег.')"
   ]
  },
  {
   "cell_type": "code",
   "execution_count": 40,
   "metadata": {
    "colab": {
     "base_uri": "https://localhost:8080/",
     "height": 627
    },
    "id": "e7c5p8rmkHQG",
    "outputId": "b77034fd-d8eb-4755-87f8-5b79861190fd"
   },
   "outputs": [
    {
     "name": "stdout",
     "output_type": "stream",
     "text": [
      "Input: <start> я никогда такого не делаю . <end>\n",
      "Predicted translation: i never do that . <end> \n"
     ]
    },
    {
     "name": "stderr",
     "output_type": "stream",
     "text": [
      "/tmp/ipykernel_63047/282331986.py:9: UserWarning: FixedFormatter should only be used together with FixedLocator\n",
      "  ax.set_xticklabels([''] + sentence, fontdict=fontdict, rotation=90)\n",
      "/tmp/ipykernel_63047/282331986.py:10: UserWarning: FixedFormatter should only be used together with FixedLocator\n",
      "  ax.set_yticklabels([''] + predicted_sentence, fontdict=fontdict)\n"
     ]
    },
    {
     "data": {
      "image/png": "[encoded data removed]",
      "text/plain": [
       "<Figure size 720x720 with 1 Axes>"
      ]
     },
     "metadata": {
      "needs_background": "light"
     },
     "output_type": "display_data"
    }
   ],
   "source": [
    "translate(u'Я никогда такого не делаю.')"
   ]
  },
  {
   "cell_type": "code",
   "execution_count": null,
   "metadata": {
    "id": "jdXES85KkTVS"
   },
   "outputs": [],
   "source": []
  },
  {
   "cell_type": "code",
   "execution_count": null,
   "metadata": {},
   "outputs": [],
   "source": []
  }
 ],
 "metadata": {
  "accelerator": "GPU",
  "colab": {
   "collapsed_sections": [],
   "name": "nmt_with_attention.ipynb",
   "provenance": [],
   "toc_visible": true
  },
  "kernelspec": {
   "display_name": "Python 3 (ipykernel)",
   "language": "python",
   "name": "python3"
  },
  "language_info": {
   "codemirror_mode": {
    "name": "ipython",
    "version": 3
   },
   "file_extension": ".py",
   "mimetype": "text/x-python",
   "name": "python",
   "nbconvert_exporter": "python",
   "pygments_lexer": "ipython3",
   "version": "3.9.12"
  }
 },
 "nbformat": 4,
 "nbformat_minor": 1
}
