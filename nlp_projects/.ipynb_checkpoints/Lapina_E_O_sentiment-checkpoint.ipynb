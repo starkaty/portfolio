{
 "cells": [
  {
   "cell_type": "markdown",
   "metadata": {
    "id": "DUotKHRULVPD"
   },
   "source": [
    "## Инструменты для работы с языком "
   ]
  },
  {
   "cell_type": "markdown",
   "metadata": {
    "id": "8ba5Z02VLVPK"
   },
   "source": [
    "## Задача: классификация твитов по тональности\n",
    "\n",
    "У нас есть датасет из твитов, про каждый указано, как он эмоционально окрашен: положительно или отрицательно. Задача: предсказывать эмоциональную окраску.\n",
    "\n",
    "Скачиваем куски датасета ([источник](http://study.mokoron.com/)): [положительные](https://www.dropbox.com/s/fnpq3z4bcnoktiv/positive.csv?dl=0), [отрицательные](https://www.dropbox.com/s/r6u59ljhhjdg6j0/negative.csv)."
   ]
  },
  {
   "cell_type": "code",
   "execution_count": 2,
   "metadata": {
    "colab": {
     "base_uri": "https://localhost:8080/"
    },
    "id": "2zHB70n5LVPN",
    "outputId": "76e9cc41-c912-464c-a06e-e02879e69c08",
    "scrolled": true
   },
   "outputs": [
    {
     "name": "stdout",
     "output_type": "stream",
     "text": [
      "/bin/bash: /home/ekaterina/anaconda3/lib/libtinfo.so.6: no version information available (required by /bin/bash)\n",
      "--2023-12-07 18:20:36--  https://www.dropbox.com/s/fnpq3z4bcnoktiv/positive.csv\n",
      "Распознаётся www.dropbox.com (www.dropbox.com)… 162.125.70.18, 2620:100:6026:18::a27d:4612\n",
      "Подключение к www.dropbox.com (www.dropbox.com)|162.125.70.18|:443... соединение установлено.\n",
      "HTTP-запрос отправлен. Ожидание ответа… 302 Found\n",
      "Адрес: /s/raw/fnpq3z4bcnoktiv/positive.csv [переход]\n",
      "--2023-12-07 18:20:38--  https://www.dropbox.com/s/raw/fnpq3z4bcnoktiv/positive.csv\n",
      "Повторное использование соединения с www.dropbox.com:443.\n",
      "HTTP-запрос отправлен. Ожидание ответа… 302 Found\n",
      "Адрес: https://uce948adabe3a7c45a1c10cea9a1.dl.dropboxusercontent.com/cd/0/inline/CI8LAfiMKmsUWjWHWtw8tUVyYbTRNqbaOAAuO_96R5a3WN9Wr8_7jkYQUp-WWS2I3ASNvsDvDYOSJjiTiT5n_k8duGeQuk4zsFSuzBeS9oEElXkdVISQRNgAHOKhExcuHAY/file# [переход]\n",
      "--2023-12-07 18:20:38--  https://uce948adabe3a7c45a1c10cea9a1.dl.dropboxusercontent.com/cd/0/inline/CI8LAfiMKmsUWjWHWtw8tUVyYbTRNqbaOAAuO_96R5a3WN9Wr8_7jkYQUp-WWS2I3ASNvsDvDYOSJjiTiT5n_k8duGeQuk4zsFSuzBeS9oEElXkdVISQRNgAHOKhExcuHAY/file\n",
      "Распознаётся uce948adabe3a7c45a1c10cea9a1.dl.dropboxusercontent.com (uce948adabe3a7c45a1c10cea9a1.dl.dropboxusercontent.com)… 162.125.70.15, 2620:100:6026:15::a27d:460f\n",
      "Подключение к uce948adabe3a7c45a1c10cea9a1.dl.dropboxusercontent.com (uce948adabe3a7c45a1c10cea9a1.dl.dropboxusercontent.com)|162.125.70.15|:443... соединение установлено.\n",
      "HTTP-запрос отправлен. Ожидание ответа… 200 OK\n",
      "Длина: 26233379 (25M) [text/plain]\n",
      "Сохранение в: «positive.csv.11»\n",
      "\n",
      "positive.csv.11     100%[===================>]  25,02M  8,01MB/s    за 3,1s    \n",
      "\n",
      "2023-12-07 18:20:42 (8,01 MB/s) - «positive.csv.11» сохранён [26233379/26233379]\n",
      "\n",
      "/bin/bash: /home/ekaterina/anaconda3/lib/libtinfo.so.6: no version information available (required by /bin/bash)\n",
      "--2023-12-07 18:20:42--  https://www.dropbox.com/s/r6u59ljhhjdg6j0/negative.csv\n",
      "Распознаётся www.dropbox.com (www.dropbox.com)… 162.125.70.18, 2620:100:6026:18::a27d:4612\n",
      "Подключение к www.dropbox.com (www.dropbox.com)|162.125.70.18|:443... соединение установлено.\n",
      "HTTP-запрос отправлен. Ожидание ответа… 302 Found\n",
      "Адрес: /s/raw/r6u59ljhhjdg6j0/negative.csv [переход]\n",
      "--2023-12-07 18:20:43--  https://www.dropbox.com/s/raw/r6u59ljhhjdg6j0/negative.csv\n",
      "Повторное использование соединения с www.dropbox.com:443.\n",
      "HTTP-запрос отправлен. Ожидание ответа… 302 Found\n",
      "Адрес: https://uc2a2db20fe966f05a5ffb654f44.dl.dropboxusercontent.com/cd/0/inline/CI9MulFlpSpz_dofX9xF-Z3EdKLU7v4EUhoQUXLqLWvr1u3DlNbfd0HMPVBK2yZwdNiKi3BPigisZWqu2pojcy09SLpt3TxXwRlbT6DbBjgjYKEIjv3BeS_fPJrIaR8ENq8/file# [переход]\n",
      "--2023-12-07 18:20:44--  https://uc2a2db20fe966f05a5ffb654f44.dl.dropboxusercontent.com/cd/0/inline/CI9MulFlpSpz_dofX9xF-Z3EdKLU7v4EUhoQUXLqLWvr1u3DlNbfd0HMPVBK2yZwdNiKi3BPigisZWqu2pojcy09SLpt3TxXwRlbT6DbBjgjYKEIjv3BeS_fPJrIaR8ENq8/file\n",
      "Распознаётся uc2a2db20fe966f05a5ffb654f44.dl.dropboxusercontent.com (uc2a2db20fe966f05a5ffb654f44.dl.dropboxusercontent.com)… 162.125.70.15, 2620:100:6026:15::a27d:460f\n",
      "Подключение к uc2a2db20fe966f05a5ffb654f44.dl.dropboxusercontent.com (uc2a2db20fe966f05a5ffb654f44.dl.dropboxusercontent.com)|162.125.70.15|:443... соединение установлено.\n",
      "HTTP-запрос отправлен. Ожидание ответа… 200 OK\n",
      "Длина: 24450101 (23M) [text/plain]\n",
      "Сохранение в: «negative.csv.11»\n",
      "\n",
      "negative.csv.11     100%[===================>]  23,32M  7,63MB/s    за 3,1s    \n",
      "\n",
      "2023-12-07 18:20:47 (7,63 MB/s) - «negative.csv.11» сохранён [24450101/24450101]\n",
      "\n"
     ]
    }
   ],
   "source": [
    "# если у вас линукс / мак / collab или ещё какая-то среда, в которой работает wget, можно так:\n",
    "!wget https://www.dropbox.com/s/fnpq3z4bcnoktiv/positive.csv\n",
    "!wget https://www.dropbox.com/s/r6u59ljhhjdg6j0/negative.csv"
   ]
  },
  {
   "cell_type": "code",
   "execution_count": 3,
   "metadata": {
    "id": "J5YiZNCPLVPe"
   },
   "outputs": [],
   "source": [
    "import pandas as pd\n",
    "import numpy as np\n",
    "from sklearn.metrics import *\n",
    "from sklearn.model_selection import train_test_split\n",
    "from sklearn.pipeline import Pipeline"
   ]
  },
  {
   "cell_type": "code",
   "execution_count": 4,
   "metadata": {
    "id": "DFLtXAZ-LVPq"
   },
   "outputs": [
    {
     "name": "stderr",
     "output_type": "stream",
     "text": [
      "/tmp/ipykernel_4334/3125191635.py:6: FutureWarning: The frame.append method is deprecated and will be removed from pandas in a future version. Use pandas.concat instead.\n",
      "  df = positive.append(negative)\n"
     ]
    }
   ],
   "source": [
    "# считываем данные и заполняем общий датасет\n",
    "positive = pd.read_csv('positive.csv', sep=';', usecols=[3], names=['text'])\n",
    "positive['label'] = ['positive'] * len(positive)\n",
    "negative = pd.read_csv('negative.csv', sep=';', usecols=[3], names=['text'])\n",
    "negative['label'] = ['negative'] * len(negative)\n",
    "df = positive.append(negative)"
   ]
  },
  {
   "cell_type": "code",
   "execution_count": 5,
   "metadata": {
    "colab": {
     "base_uri": "https://localhost:8080/",
     "height": 203
    },
    "id": "j1AEISlBLVP0",
    "outputId": "443eadf2-9df4-4507-f2a5-a64f7968182f"
   },
   "outputs": [
    {
     "data": {
      "text/html": [
       "<div>\n",
       "<style scoped>\n",
       "    .dataframe tbody tr th:only-of-type {\n",
       "        vertical-align: middle;\n",
       "    }\n",
       "\n",
       "    .dataframe tbody tr th {\n",
       "        vertical-align: top;\n",
       "    }\n",
       "\n",
       "    .dataframe thead th {\n",
       "        text-align: right;\n",
       "    }\n",
       "</style>\n",
       "<table border=\"1\" class=\"dataframe\">\n",
       "  <thead>\n",
       "    <tr style=\"text-align: right;\">\n",
       "      <th></th>\n",
       "      <th>text</th>\n",
       "      <th>label</th>\n",
       "    </tr>\n",
       "  </thead>\n",
       "  <tbody>\n",
       "    <tr>\n",
       "      <th>111918</th>\n",
       "      <td>Но не каждый хочет что то исправлять:( http://...</td>\n",
       "      <td>negative</td>\n",
       "    </tr>\n",
       "    <tr>\n",
       "      <th>111919</th>\n",
       "      <td>скучаю так :-( только @taaannyaaa вправляет мо...</td>\n",
       "      <td>negative</td>\n",
       "    </tr>\n",
       "    <tr>\n",
       "      <th>111920</th>\n",
       "      <td>Вот и в школу, в говно это идти уже надо(</td>\n",
       "      <td>negative</td>\n",
       "    </tr>\n",
       "    <tr>\n",
       "      <th>111921</th>\n",
       "      <td>RT @_Them__: @LisaBeroud Тауриэль, не грусти :...</td>\n",
       "      <td>negative</td>\n",
       "    </tr>\n",
       "    <tr>\n",
       "      <th>111922</th>\n",
       "      <td>Такси везет меня на работу. Раздумываю приплат...</td>\n",
       "      <td>negative</td>\n",
       "    </tr>\n",
       "  </tbody>\n",
       "</table>\n",
       "</div>"
      ],
      "text/plain": [
       "                                                     text     label\n",
       "111918  Но не каждый хочет что то исправлять:( http://...  negative\n",
       "111919  скучаю так :-( только @taaannyaaa вправляет мо...  negative\n",
       "111920          Вот и в школу, в говно это идти уже надо(  negative\n",
       "111921  RT @_Them__: @LisaBeroud Тауриэль, не грусти :...  negative\n",
       "111922  Такси везет меня на работу. Раздумываю приплат...  negative"
      ]
     },
     "execution_count": 5,
     "metadata": {},
     "output_type": "execute_result"
    }
   ],
   "source": [
    "df.tail()"
   ]
  },
  {
   "cell_type": "code",
   "execution_count": 6,
   "metadata": {
    "id": "ZWta7oDgLVP8"
   },
   "outputs": [],
   "source": [
    "x_train, x_test, y_train, y_test = train_test_split(df.text, df.label)"
   ]
  },
  {
   "cell_type": "markdown",
   "metadata": {
    "id": "tAapBC7VLVQC"
   },
   "source": [
    "## Baseline: классификация необработанных n-грамм\n",
    "\n",
    "### Векторизаторы"
   ]
  },
  {
   "cell_type": "code",
   "execution_count": 7,
   "metadata": {
    "id": "M-AvVt8XLVQD"
   },
   "outputs": [],
   "source": [
    "from sklearn.linear_model import LogisticRegression # можно заменить на любимый классификатор\n",
    "from sklearn.feature_extraction.text import CountVectorizer"
   ]
  },
  {
   "cell_type": "code",
   "execution_count": 8,
   "metadata": {
    "id": "zeNA7732LVQJ"
   },
   "outputs": [],
   "source": [
    "from nltk import ngrams"
   ]
  },
  {
   "cell_type": "code",
   "execution_count": 9,
   "metadata": {
    "colab": {
     "base_uri": "https://localhost:8080/"
    },
    "id": "NeApDOmrLVQN",
    "outputId": "d8c763fe-2658-47ac-fcee-5b7bbe49f0d0"
   },
   "outputs": [
    {
     "data": {
      "text/plain": [
       "[('Если',), ('б',), ('мне',), ('платили',), ('каждый',), ('раз',)]"
      ]
     },
     "execution_count": 9,
     "metadata": {},
     "output_type": "execute_result"
    }
   ],
   "source": [
    "sent = 'Если б мне платили каждый раз'.split()\n",
    "list(ngrams(sent, 1)) # униграммы"
   ]
  },
  {
   "cell_type": "code",
   "execution_count": 10,
   "metadata": {
    "colab": {
     "base_uri": "https://localhost:8080/"
    },
    "id": "OPAS0fS-LVQQ",
    "outputId": "aa3ae031-c661-4639-b7ab-f93ba1b6cee5"
   },
   "outputs": [
    {
     "data": {
      "text/plain": [
       "[('Если', 'б'),\n",
       " ('б', 'мне'),\n",
       " ('мне', 'платили'),\n",
       " ('платили', 'каждый'),\n",
       " ('каждый', 'раз')]"
      ]
     },
     "execution_count": 10,
     "metadata": {},
     "output_type": "execute_result"
    }
   ],
   "source": [
    "list(ngrams(sent, 2)) # биграммы"
   ]
  },
  {
   "cell_type": "code",
   "execution_count": 11,
   "metadata": {
    "colab": {
     "base_uri": "https://localhost:8080/"
    },
    "id": "d77jmVPhLVQU",
    "outputId": "c8de801b-8efc-437e-8673-4e9e31665ea5"
   },
   "outputs": [
    {
     "data": {
      "text/plain": [
       "[('Если', 'б', 'мне'),\n",
       " ('б', 'мне', 'платили'),\n",
       " ('мне', 'платили', 'каждый'),\n",
       " ('платили', 'каждый', 'раз')]"
      ]
     },
     "execution_count": 11,
     "metadata": {},
     "output_type": "execute_result"
    }
   ],
   "source": [
    "list(ngrams(sent, 3)) # триграммы"
   ]
  },
  {
   "cell_type": "code",
   "execution_count": 12,
   "metadata": {
    "colab": {
     "base_uri": "https://localhost:8080/"
    },
    "id": "5xXTBrGELVQX",
    "outputId": "f5b423d9-db6b-4efa-8bfa-a446a55ee018"
   },
   "outputs": [
    {
     "data": {
      "text/plain": [
       "[('Если', 'б', 'мне', 'платили', 'каждый'),\n",
       " ('б', 'мне', 'платили', 'каждый', 'раз')]"
      ]
     },
     "execution_count": 12,
     "metadata": {},
     "output_type": "execute_result"
    }
   ],
   "source": [
    "list(ngrams(sent, 5)) # ... пентаграммы?"
   ]
  },
  {
   "cell_type": "code",
   "execution_count": 13,
   "metadata": {
    "id": "eMqZFBTgLVQb"
   },
   "outputs": [],
   "source": [
    "vec = CountVectorizer(ngram_range=(1, 1))\n",
    "bow = vec.fit_transform(x_train) # bow -- bag of words (мешок слов)"
   ]
  },
  {
   "cell_type": "code",
   "execution_count": 14,
   "metadata": {
    "colab": {
     "base_uri": "https://localhost:8080/"
    },
    "id": "hWRtOSzKLVQf",
    "outputId": "668857b0-def2-4547-8fd5-014fe3858bec"
   },
   "outputs": [
    {
     "data": {
      "text/plain": [
       "[('sashasatira', 76325),\n",
       " ('да', 122940),\n",
       " ('это', 241611),\n",
       " ('жесть', 131492),\n",
       " ('какая', 142653),\n",
       " ('то', 222177),\n",
       " ('на', 161753),\n",
       " ('меня', 157605),\n",
       " ('никак', 168134),\n",
       " ('не', 165394)]"
      ]
     },
     "execution_count": 14,
     "metadata": {},
     "output_type": "execute_result"
    }
   ],
   "source": [
    "list(vec.vocabulary_.items())[:10]"
   ]
  },
  {
   "cell_type": "code",
   "execution_count": 15,
   "metadata": {
    "colab": {
     "base_uri": "https://localhost:8080/"
    },
    "id": "hkmX3iBbLVQi",
    "outputId": "5bbb432e-1c45-422a-edc2-60841ef0ee33"
   },
   "outputs": [
    {
     "name": "stderr",
     "output_type": "stream",
     "text": [
      "/home/ekaterina/anaconda3/lib/python3.9/site-packages/sklearn/linear_model/_logistic.py:814: ConvergenceWarning: lbfgs failed to converge (status=1):\n",
      "STOP: TOTAL NO. of ITERATIONS REACHED LIMIT.\n",
      "\n",
      "Increase the number of iterations (max_iter) or scale the data as shown in:\n",
      "    https://scikit-learn.org/stable/modules/preprocessing.html\n",
      "Please also refer to the documentation for alternative solver options:\n",
      "    https://scikit-learn.org/stable/modules/linear_model.html#logistic-regression\n",
      "  n_iter_i = _check_optimize_result(\n"
     ]
    },
    {
     "data": {
      "text/plain": [
       "LogisticRegression(random_state=42)"
      ]
     },
     "execution_count": 15,
     "metadata": {},
     "output_type": "execute_result"
    }
   ],
   "source": [
    "clf = LogisticRegression(random_state=42)\n",
    "clf.fit(bow, y_train)"
   ]
  },
  {
   "cell_type": "code",
   "execution_count": 16,
   "metadata": {
    "colab": {
     "base_uri": "https://localhost:8080/"
    },
    "id": "bJ8q5_59LVQm",
    "outputId": "d88c6de2-640a-4cc9-ae95-29fe12c80131"
   },
   "outputs": [
    {
     "name": "stdout",
     "output_type": "stream",
     "text": [
      "              precision    recall  f1-score   support\n",
      "\n",
      "    negative       0.76      0.76      0.76     28177\n",
      "    positive       0.76      0.76      0.76     28532\n",
      "\n",
      "    accuracy                           0.76     56709\n",
      "   macro avg       0.76      0.76      0.76     56709\n",
      "weighted avg       0.76      0.76      0.76     56709\n",
      "\n"
     ]
    }
   ],
   "source": [
    "pred = clf.predict(vec.transform(x_test))\n",
    "print(classification_report(pred, y_test))"
   ]
  },
  {
   "cell_type": "markdown",
   "metadata": {
    "id": "QAhgaYgqLVQp"
   },
   "source": [
    "Попробуем сделать то же самое для триграмм:"
   ]
  },
  {
   "cell_type": "code",
   "execution_count": 17,
   "metadata": {
    "colab": {
     "base_uri": "https://localhost:8080/"
    },
    "id": "GPWXlh6ALVQq",
    "outputId": "094a7189-bc36-42df-81ee-f599a206ca0c"
   },
   "outputs": [
    {
     "name": "stderr",
     "output_type": "stream",
     "text": [
      "/home/ekaterina/anaconda3/lib/python3.9/site-packages/sklearn/linear_model/_logistic.py:814: ConvergenceWarning: lbfgs failed to converge (status=1):\n",
      "STOP: TOTAL NO. of ITERATIONS REACHED LIMIT.\n",
      "\n",
      "Increase the number of iterations (max_iter) or scale the data as shown in:\n",
      "    https://scikit-learn.org/stable/modules/preprocessing.html\n",
      "Please also refer to the documentation for alternative solver options:\n",
      "    https://scikit-learn.org/stable/modules/linear_model.html#logistic-regression\n",
      "  n_iter_i = _check_optimize_result(\n"
     ]
    },
    {
     "name": "stdout",
     "output_type": "stream",
     "text": [
      "              precision    recall  f1-score   support\n",
      "\n",
      "    negative       0.46      0.72      0.56     18148\n",
      "    positive       0.82      0.61      0.70     38561\n",
      "\n",
      "    accuracy                           0.65     56709\n",
      "   macro avg       0.64      0.66      0.63     56709\n",
      "weighted avg       0.71      0.65      0.66     56709\n",
      "\n"
     ]
    }
   ],
   "source": [
    "vec = CountVectorizer(ngram_range=(3, 3))\n",
    "bow = vec.fit_transform(x_train)\n",
    "clf = LogisticRegression(random_state=42)\n",
    "clf.fit(bow, y_train)\n",
    "pred = clf.predict(vec.transform(x_test))\n",
    "print(classification_report(pred, y_test))"
   ]
  },
  {
   "cell_type": "markdown",
   "metadata": {
    "id": "dnfyJkzTLVQu"
   },
   "source": [
    "Kомбинации триграмм встречаются намного реже, чем униграммы, поэтому модель хуже обучается. Для целей повышения качества обучения нужно использовать комбинации из униграмм, биграмм и триграмм. Тогда учитываются и отдельные слова, и контекст (комбинации)."
   ]
  },
  {
   "cell_type": "markdown",
   "metadata": {
    "id": "gJABxhalLVQu"
   },
   "source": [
    "## TF-IDF векторизация"
   ]
  },
  {
   "cell_type": "code",
   "execution_count": 18,
   "metadata": {
    "id": "FmEcRD28LVQ0"
   },
   "outputs": [],
   "source": [
    "from sklearn.feature_extraction.text import TfidfVectorizer"
   ]
  },
  {
   "cell_type": "code",
   "execution_count": 19,
   "metadata": {
    "colab": {
     "base_uri": "https://localhost:8080/"
    },
    "id": "AWLhMl9xLVQ3",
    "outputId": "054e5662-1c41-42f6-92e4-ce0194317ce8"
   },
   "outputs": [
    {
     "name": "stdout",
     "output_type": "stream",
     "text": [
      "              precision    recall  f1-score   support\n",
      "\n",
      "    negative       0.73      0.77      0.75     26766\n",
      "    positive       0.78      0.75      0.76     29943\n",
      "\n",
      "    accuracy                           0.76     56709\n",
      "   macro avg       0.76      0.76      0.76     56709\n",
      "weighted avg       0.76      0.76      0.76     56709\n",
      "\n"
     ]
    }
   ],
   "source": [
    "vec = TfidfVectorizer(ngram_range=(1, 1))\n",
    "bow = vec.fit_transform(x_train)\n",
    "clf = LogisticRegression(random_state=42)\n",
    "clf.fit(bow, y_train)\n",
    "pred = clf.predict(vec.transform(x_test))\n",
    "print(classification_report(pred, y_test))"
   ]
  },
  {
   "cell_type": "markdown",
   "metadata": {
    "id": "j8v9Scpn9Y0M"
   },
   "source": [
    "## PMI"
   ]
  },
  {
   "cell_type": "markdown",
   "metadata": {
    "id": "WXgDwf6W6Kk5"
   },
   "source": [
    "Оценим важность биграмм в нашем обучающем корпусе."
   ]
  },
  {
   "cell_type": "code",
   "execution_count": 21,
   "metadata": {
    "colab": {
     "base_uri": "https://localhost:8080/"
    },
    "id": "LKmiOEaW53F9",
    "outputId": "96a85968-e0cb-4b17-cd62-bc3de5e3e9b3"
   },
   "outputs": [
    {
     "name": "stderr",
     "output_type": "stream",
     "text": [
      "[nltk_data] Downloading package genesis to\n",
      "[nltk_data]     /home/ekaterina/nltk_data...\n",
      "[nltk_data]   Package genesis is already up-to-date!\n"
     ]
    },
    {
     "name": "stdout",
     "output_type": "stream",
     "text": [
      "<class 'nltk.corpus.reader.util.StreamBackedCorpusView'>\n",
      "[('+Никита', '=полностью'), ('+СОННО', '+НЕ'), ('+живіт', 'болить.ну'), (',4', 'запирайте'), ('-/////', 'прбрм-прбрм'), ('-10,11', 'болсо'), ('-163', '-КРАСНЫЙ'), ('-165', '-СИНИЙ'), ('-53', 'dBm'), ('-700', 'рублей.-А'), ('-800', 'нахууй'), ('-S', 'console'), ('-АХАХАХАХ', 'ЮБКУ'), ('-АХАХАХАХХАХАХАХАХАХХА', '-АХАХАХХАХАХАХАХАХ'), ('-Айгуль', 'Маратовна'), ('-Аха', 'спетросянил'), ('-Без', 'презерватива'), ('-ВАХАХАХА', 'СТИПЕНДИЯ'), ('-Вам', 'завернуть'), ('-Весело', 'кншн:3'), ('-Восьмигрудый', 'трипи'), ('-Время', 'эмокора'), ('-Выздоравливай', 'педрилк'), ('-ГНИДОТА', '-Над'), ('-ДЕТЕЙ', 'НАКРЫЛО'), ('-Дирол', 'Сенсес'), ('-Домашка', '-кл.час'), ('-ЖАРЕНЫЙ', 'КАРТОФЕЛЬ'), ('-ЗАШЛА', 'ОДЕЛА'), ('-КРАСНЫЙ', '-ЧЕРНЫЕ'), ('-Керем', 'севгили'), ('-Маладец', '-Лол'), ('-НА', 'РЕАЛЬНЫХ'), ('-НАЧИНАЕТ', 'БЕСИТЬ'), ('-ОЗВУЧИВАТЕЛЬ', 'МУЛЬТИКОВ'), ('-ОНИ', 'СТОЯТ'), ('-Плохое', 'пищеварение'), ('-Поэзия', 'заключает'), ('-ПриФетиГг', 'СолНыСко='), ('-Рыбу', 'соленую'), ('-СИНИЙ', '-БЕЛЫЕ'), ('-Серые', '-НЕМЕЦКИЕ'), ('-Снежное', 'древо'), ('-Танцы', '-Хорошие'), ('-Ти', 'кантужена'), ('-Трахався', '-Іди'), ('-ФОН', '-БИО'), ('-ШАПКА', '-ФОН'), ('-ЮН', '-ЮП'), ('-ЮП', '-ШАПКА'), ('-Я.банан', '-ахх'), ('-аас', 'бусдыг'), ('-анатолий', 'николаевич'), ('-аниме', '-15-16'), ('-бляя', 'хммммммм'), ('-водичку', 'лью'), ('-г', 'үзээ'), ('-гoop', 'Хакүхо'), ('-говорит', 'одноногий'), ('-дайте', 'winston'), ('-дак', 'Бася'), ('-дерьмо', 'редкосное'), ('-дирекшионер', '-one'), ('-иногда', '.Ностальгирую'), ('-киллджой', '-шатенка'), ('-крутенько', '-выйду'), ('-ладно', '-АХАХАХАХХАХАХАХАХАХХА'), ('-ложусь', 'спать-темно'), ('-любому', 'умрёшь'), ('-место', '-кровать'), ('-напиши', '-нит'), ('-патлатые', '-лысый'), ('-пиздишь', '-отвечаю'), ('-пиши', 'Ненси'), ('-распускаю', 'волосы-'), ('-руу', 'орох'), ('-случайные', 'вопросы-'), ('-столько', 'бабосов'), ('-удивительная', 'штука.Его'), ('-указуказуказуказуа', '-материшся'), ('-умильного', 'львенка'), ('-хаски', '-розовое'), ('-хор', '-найл'), ('-хуи', 'сосешь'), ('-цвета', 'Магнита'), ('-цитирую', 'гастролога'), ('-цытата', 'Шимы'), ('-черные', '-аниме'), ('-шапку', '-фон'), ('-ыг', 'үгүйсгэж'), ('-ынхаа', 'кодын'), ('-эртага', 'бозорга'), ('-юн', '-юп'), ('-юп', '-шапку'), ('-языком', 'владеешь'), ('.NET', 'языки.'), ('.Вы', 'ахуеете'), ('.Прозвучало', 'неубедительно.Учитель'), ('.Спасибо', 'Бердянску'), ('.Суудлынхаа', 'даруулгыг')]\n"
     ]
    }
   ],
   "source": [
    "import nltk\n",
    "from nltk import collocations \n",
    "nltk.download('genesis')\n",
    "\n",
    "print(type(nltk.corpus.genesis.words('english-web.txt')))\n",
    "bigram_measures = collocations.BigramAssocMeasures()\n",
    "# bigram_finder.apply_freq_filter(5)\n",
    "bigram_finder = collocations.BigramCollocationFinder.from_documents([nltk.word_tokenize(x) for x in x_train])\n",
    "bigrams = bigram_finder.nbest(bigram_measures.pmi, 100)\n",
    "print(bigrams)"
   ]
  },
  {
   "cell_type": "code",
   "execution_count": 154,
   "metadata": {
    "colab": {
     "base_uri": "https://localhost:8080/"
    },
    "id": "lTOJg4KoOo84",
    "outputId": "45d38953-84e0-4a65-fccd-1e96fd83c3f3"
   },
   "outputs": [
    {
     "name": "stdout",
     "output_type": "stream",
     "text": [
      "[('(', '('), ('RT', '@'), (')', ')'), ('http', ':'), ('!', '!'), (':', 'D'), ('у', 'меня'), (':', '('), (',', 'а'), (',', 'что'), (',', 'но'), (')', 'http'), ('*', '*'), ('у', 'нас'), ('(', ','), (':', ')'), (':', '-'), (',', '('), ('не', 'могу'), (',', ')'), ('?', '?'), (')', ','), (',', ':'), ('@', '('), (',', ','), ('(', ':'), (':', ','), ('@', ')'), ('&', 'lt'), ('@', ','), ('со', 'мной'), ('@', ':'), (':', ':'), ('(', '@'), (':', '*'), ('новый', 'год'), (';', ')'), ('gt', ';'), ('не', 'знаю'), (')', ':'), (',', '@'), ('У', 'меня'), ('а', 'я'), ('@', '@'), (',', 'когда'), ('сих', 'пор'), ('lt', ';'), ('потому', 'что'), ('&', 'gt'), ('у', 'тебя'), (';', '('), ('все', 'равно'), ('с', 'тобой'), (',', 'как'), ('в', 'школу'), (')', '@'), ('&', 'amp'), ('(', 'http'), ('Доброе', 'утро'), ('-', ')'), ('ничего', 'не'), ('Как', 'же'), (',', 'я'), (':', 'DD'), ('не', '('), ('я', 'не'), ('--', '--'), ('самом', 'деле'), ('не', ')'), ('до', 'сих'), ('amp', ';'), ('как', 'же'), ('об', 'этом'), ('(', '!'), (',', '!'), ('что', 'я'), (',', 'чтобы'), ('никто', 'не'), ('не', ':'), ('D', 'http'), ('!', ','), ('и', '('), ('=', ')'), ('.', 'А'), ('с', 'кем'), (':', '!'), ('?', '—'), ('а', 'потом'), (':', '|'), ('никогда', 'не'), (',', '.'), ('.', ','), ('Новый', 'Год'), ('#', 'євромайдан'), ('@', 'не'), ('не', '@'), ('.', 'Но'), ('=', '('), ('в', 'этом'), ('не', 'хочу')]\n"
     ]
    }
   ],
   "source": [
    "bigrams = bigram_finder.nbest(bigram_measures.likelihood_ratio, 100)\n",
    "print(bigrams)"
   ]
  },
  {
   "cell_type": "markdown",
   "metadata": {
    "id": "5AJk1B39LVRP"
   },
   "source": [
    "## Стоп-слова и пунктуация"
   ]
  },
  {
   "cell_type": "code",
   "execution_count": 155,
   "metadata": {
    "colab": {
     "base_uri": "https://localhost:8080/"
    },
    "id": "fpWhsTuRLVRP",
    "outputId": "1cd18efe-a3cd-4f56-ec4c-bec8b6ee442e"
   },
   "outputs": [
    {
     "name": "stdout",
     "output_type": "stream",
     "text": [
      "['и', 'в', 'во', 'не', 'что', 'он', 'на', 'я', 'с', 'со', 'как', 'а', 'то', 'все', 'она', 'так', 'его', 'но', 'да', 'ты', 'к', 'у', 'же', 'вы', 'за', 'бы', 'по', 'только', 'ее', 'мне', 'было', 'вот', 'от', 'меня', 'еще', 'нет', 'о', 'из', 'ему', 'теперь', 'когда', 'даже', 'ну', 'вдруг', 'ли', 'если', 'уже', 'или', 'ни', 'быть', 'был', 'него', 'до', 'вас', 'нибудь', 'опять', 'уж', 'вам', 'ведь', 'там', 'потом', 'себя', 'ничего', 'ей', 'может', 'они', 'тут', 'где', 'есть', 'надо', 'ней', 'для', 'мы', 'тебя', 'их', 'чем', 'была', 'сам', 'чтоб', 'без', 'будто', 'чего', 'раз', 'тоже', 'себе', 'под', 'будет', 'ж', 'тогда', 'кто', 'этот', 'того', 'потому', 'этого', 'какой', 'совсем', 'ним', 'здесь', 'этом', 'один', 'почти', 'мой', 'тем', 'чтобы', 'нее', 'сейчас', 'были', 'куда', 'зачем', 'всех', 'никогда', 'можно', 'при', 'наконец', 'два', 'об', 'другой', 'хоть', 'после', 'над', 'больше', 'тот', 'через', 'эти', 'нас', 'про', 'всего', 'них', 'какая', 'много', 'разве', 'три', 'эту', 'моя', 'впрочем', 'хорошо', 'свою', 'этой', 'перед', 'иногда', 'лучше', 'чуть', 'том', 'нельзя', 'такой', 'им', 'более', 'всегда', 'конечно', 'всю', 'между']\n"
     ]
    },
    {
     "name": "stderr",
     "output_type": "stream",
     "text": [
      "[nltk_data] Downloading package stopwords to\n",
      "[nltk_data]     /home/ekaterina/nltk_data...\n",
      "[nltk_data]   Package stopwords is already up-to-date!\n"
     ]
    }
   ],
   "source": [
    "# у вас здесь, вероятно, выскочит ошибка и надо будет загрузить стоп слова (в тексте ошибки написано, как)\n",
    "from nltk.corpus import stopwords\n",
    "nltk.download('stopwords')\n",
    "print(stopwords.words('russian'))"
   ]
  },
  {
   "cell_type": "code",
   "execution_count": 156,
   "metadata": {
    "colab": {
     "base_uri": "https://localhost:8080/",
     "height": 35
    },
    "id": "OdRF7rlyLVRS",
    "outputId": "dd4ce4f0-13d0-4b21-a3a1-b9ecb281894f"
   },
   "outputs": [
    {
     "data": {
      "text/plain": [
       "'!\"#$%&\\'()*+,-./:;<=>?@[\\\\]^_`{|}~'"
      ]
     },
     "execution_count": 156,
     "metadata": {},
     "output_type": "execute_result"
    }
   ],
   "source": [
    "from string import punctuation\n",
    "punctuation"
   ]
  },
  {
   "cell_type": "code",
   "execution_count": 157,
   "metadata": {
    "id": "OfXiH98XLVRV"
   },
   "outputs": [],
   "source": [
    "noise = stopwords.words('russian') + list(punctuation)"
   ]
  },
  {
   "cell_type": "code",
   "execution_count": 158,
   "metadata": {
    "colab": {
     "base_uri": "https://localhost:8080/"
    },
    "id": "IZnbarm_LVRY",
    "outputId": "88f40278-165a-46ad-a75e-2e5d8e7e3a4d"
   },
   "outputs": [
    {
     "name": "stderr",
     "output_type": "stream",
     "text": [
      "/home/ekaterina/anaconda3/lib/python3.9/site-packages/sklearn/linear_model/_logistic.py:814: ConvergenceWarning: lbfgs failed to converge (status=1):\n",
      "STOP: TOTAL NO. of ITERATIONS REACHED LIMIT.\n",
      "\n",
      "Increase the number of iterations (max_iter) or scale the data as shown in:\n",
      "    https://scikit-learn.org/stable/modules/preprocessing.html\n",
      "Please also refer to the documentation for alternative solver options:\n",
      "    https://scikit-learn.org/stable/modules/linear_model.html#logistic-regression\n",
      "  n_iter_i = _check_optimize_result(\n"
     ]
    },
    {
     "name": "stdout",
     "output_type": "stream",
     "text": [
      "              precision    recall  f1-score   support\n",
      "\n",
      "    negative       0.76      0.74      0.75     28453\n",
      "    positive       0.75      0.76      0.75     28256\n",
      "\n",
      "    accuracy                           0.75     56709\n",
      "   macro avg       0.75      0.75      0.75     56709\n",
      "weighted avg       0.75      0.75      0.75     56709\n",
      "\n"
     ]
    }
   ],
   "source": [
    "vec = CountVectorizer(ngram_range=(1, 1), analyzer = 'word', stop_words=noise)\n",
    "bow = vec.fit_transform(x_train)\n",
    "clf = LogisticRegression(random_state=42)\n",
    "clf.fit(bow, y_train)\n",
    "pred = clf.predict(vec.transform(x_test))\n",
    "print(classification_report(pred, y_test))"
   ]
  },
  {
   "cell_type": "markdown",
   "metadata": {
    "id": "D7O_oD1fLVRc"
   },
   "source": [
    "## Лемматизация"
   ]
  },
  {
   "cell_type": "code",
   "execution_count": 159,
   "metadata": {
    "colab": {
     "base_uri": "https://localhost:8080/"
    },
    "id": "96HdoB7zLVRc",
    "outputId": "987397bc-55cb-4830-c361-5568f1f2e015"
   },
   "outputs": [
    {
     "name": "stdout",
     "output_type": "stream",
     "text": [
      "/bin/bash: /home/ekaterina/anaconda3/lib/libtinfo.so.6: no version information available (required by /bin/bash)\n",
      "--2023-12-06 22:55:11--  http://download.cdn.yandex.net/mystem/mystem-3.0-linux3.1-64bit.tar.gz\n",
      "Распознаётся download.cdn.yandex.net (download.cdn.yandex.net)… 5.45.205.245, 5.45.205.241, 5.45.205.242, ...\n",
      "Подключение к download.cdn.yandex.net (download.cdn.yandex.net)|5.45.205.245|:80... соединение установлено.\n",
      "HTTP-запрос отправлен. Ожидание ответа… 302 Found\n",
      "Адрес: http://cachev2-m9-16.cdn.yandex.net/download.cdn.yandex.net/mystem/mystem-3.0-linux3.1-64bit.tar.gz?lid=35 [переход]\n",
      "--2023-12-06 22:55:11--  http://cachev2-m9-16.cdn.yandex.net/download.cdn.yandex.net/mystem/mystem-3.0-linux3.1-64bit.tar.gz?lid=35\n",
      "Распознаётся cachev2-m9-16.cdn.yandex.net (cachev2-m9-16.cdn.yandex.net)… 37.9.117.103, 2a02:6b8:c35:6:0:562:0:28\n",
      "Подключение к cachev2-m9-16.cdn.yandex.net (cachev2-m9-16.cdn.yandex.net)|37.9.117.103|:80... соединение установлено.\n",
      "HTTP-запрос отправлен. Ожидание ответа… 200 OK\n",
      "Длина: 16457938 (16M) [application/octet-stream]\n",
      "Сохранение в: «mystem-3.0-linux3.1-64bit.tar.gz.1»\n",
      "\n",
      "mystem-3.0-linux3.1 100%[===================>]  15,70M  8,73MB/s    за 1,8s    \n",
      "\n",
      "2023-12-06 22:55:14 (8,73 MB/s) - «mystem-3.0-linux3.1-64bit.tar.gz.1» сохранён [16457938/16457938]\n",
      "\n",
      "/bin/bash: /home/ekaterina/anaconda3/lib/libtinfo.so.6: no version information available (required by /bin/bash)\n",
      "mystem\n",
      "/bin/bash: /home/ekaterina/anaconda3/lib/libtinfo.so.6: no version information available (required by /bin/bash)\n",
      "cp: невозможно создать обычный файл '/bin/mystem': Отказано в доступе\n"
     ]
    }
   ],
   "source": [
    "!wget http://download.cdn.yandex.net/mystem/mystem-3.0-linux3.1-64bit.tar.gz\n",
    "!tar -xvf mystem-3.0-linux3.1-64bit.tar.gz\n",
    "!cp mystem /bin"
   ]
  },
  {
   "cell_type": "code",
   "execution_count": 160,
   "metadata": {},
   "outputs": [
    {
     "name": "stdout",
     "output_type": "stream",
     "text": [
      "/bin/bash: /home/ekaterina/anaconda3/lib/libtinfo.so.6: no version information available (required by /bin/bash)\n",
      "Requirement already satisfied: pymystem3 in /home/ekaterina/anaconda3/lib/python3.9/site-packages (0.2.0)\n",
      "Requirement already satisfied: requests in /home/ekaterina/anaconda3/lib/python3.9/site-packages (from pymystem3) (2.27.1)\n",
      "Requirement already satisfied: idna<4,>=2.5 in /home/ekaterina/anaconda3/lib/python3.9/site-packages (from requests->pymystem3) (3.3)\n",
      "Requirement already satisfied: certifi>=2017.4.17 in /home/ekaterina/anaconda3/lib/python3.9/site-packages (from requests->pymystem3) (2023.7.22)\n",
      "Requirement already satisfied: urllib3<1.27,>=1.21.1 in /home/ekaterina/anaconda3/lib/python3.9/site-packages (from requests->pymystem3) (1.26.9)\n",
      "Requirement already satisfied: charset-normalizer~=2.0.0 in /home/ekaterina/anaconda3/lib/python3.9/site-packages (from requests->pymystem3) (2.0.4)\n"
     ]
    }
   ],
   "source": [
    "!pip install pymystem3"
   ]
  },
  {
   "cell_type": "code",
   "execution_count": 161,
   "metadata": {
    "id": "kzQwGwAaZWV5"
   },
   "outputs": [],
   "source": [
    "import pymystem3\n",
    "from pymystem3 import Mystem\n",
    "mystem_analyzer = Mystem()"
   ]
  },
  {
   "cell_type": "code",
   "execution_count": 162,
   "metadata": {},
   "outputs": [],
   "source": [
    "example = 'мама сказала, что посмотрим, на счет посмотрим.'"
   ]
  },
  {
   "cell_type": "code",
   "execution_count": 163,
   "metadata": {
    "colab": {
     "base_uri": "https://localhost:8080/"
    },
    "id": "fjHHLQv9txDq",
    "outputId": "35bcb3cc-7853-48bf-d38d-04157f45221d"
   },
   "outputs": [
    {
     "name": "stdout",
     "output_type": "stream",
     "text": [
      "['мама', ' ', 'сказать', ', ', 'что', ' ', 'посмотреть', ', ', 'на', ' ', 'счет', ' ', 'посмотреть', '.', '\\n']\n"
     ]
    }
   ],
   "source": [
    "print(mystem_analyzer.lemmatize(example))"
   ]
  },
  {
   "cell_type": "code",
   "execution_count": 164,
   "metadata": {
    "colab": {
     "base_uri": "https://localhost:8080/"
    },
    "id": "j4MLqlZnxNEj",
    "outputId": "ffb676bb-932e-4579-817a-c15616431521"
   },
   "outputs": [
    {
     "data": {
      "text/plain": [
       "[{'analysis': [{'lex': 'мама', 'wt': 1, 'gr': 'S,жен,од=им,ед'}],\n",
       "  'text': 'мама'},\n",
       " {'text': ' '},\n",
       " {'analysis': [{'lex': 'сказать',\n",
       "    'wt': 1,\n",
       "    'gr': 'V,сов,пе=прош,ед,изъяв,жен'}],\n",
       "  'text': 'сказала'},\n",
       " {'text': ', '},\n",
       " {'analysis': [{'lex': 'что', 'wt': 0.688532576, 'gr': 'CONJ='}],\n",
       "  'text': 'что'},\n",
       " {'text': ' '},\n",
       " {'analysis': [{'lex': 'посмотреть',\n",
       "    'wt': 1,\n",
       "    'gr': 'V,сов,пе=(непрош,мн,изъяв,1-л|мн,пов,1-л)'}],\n",
       "  'text': 'посмотрим'},\n",
       " {'text': ', '},\n",
       " {'analysis': [{'lex': 'на', 'wt': 0.9989522965, 'gr': 'PR='}], 'text': 'на'},\n",
       " {'text': ' '},\n",
       " {'analysis': [{'lex': 'счет', 'wt': 1, 'gr': 'S,муж,неод=(вин,ед|им,ед)'}],\n",
       "  'text': 'счет'},\n",
       " {'text': ' '},\n",
       " {'analysis': [{'lex': 'посмотреть',\n",
       "    'wt': 1,\n",
       "    'gr': 'V,сов,пе=(непрош,мн,изъяв,1-л|мн,пов,1-л)'}],\n",
       "  'text': 'посмотрим'},\n",
       " {'text': '.'},\n",
       " {'text': '\\n'}]"
      ]
     },
     "execution_count": 164,
     "metadata": {},
     "output_type": "execute_result"
    }
   ],
   "source": [
    "mystem_analyzer.analyze(example)"
   ]
  },
  {
   "cell_type": "code",
   "execution_count": 165,
   "metadata": {
    "id": "x48Q56tiLVRn"
   },
   "outputs": [],
   "source": [
    "import re\n",
    "def my_preproc(text):\n",
    "    text = re.sub('[{}]'.format(punctuation), '', text)\n",
    "    text = mystem_analyzer.lemmatize(text)\n",
    "    return [word for word in text if word not in stopwords.words('russian') + [' ', '\\n']]"
   ]
  },
  {
   "cell_type": "code",
   "execution_count": 166,
   "metadata": {
    "colab": {
     "base_uri": "https://localhost:8080/"
    },
    "id": "wEwOQTJPLVRq",
    "outputId": "b1047a05-9fa7-4994-c947-578cfc4d9825"
   },
   "outputs": [
    {
     "name": "stderr",
     "output_type": "stream",
     "text": [
      "/home/ekaterina/anaconda3/lib/python3.9/site-packages/sklearn/linear_model/_logistic.py:814: ConvergenceWarning: lbfgs failed to converge (status=1):\n",
      "STOP: TOTAL NO. of ITERATIONS REACHED LIMIT.\n",
      "\n",
      "Increase the number of iterations (max_iter) or scale the data as shown in:\n",
      "    https://scikit-learn.org/stable/modules/preprocessing.html\n",
      "Please also refer to the documentation for alternative solver options:\n",
      "    https://scikit-learn.org/stable/modules/linear_model.html#logistic-regression\n",
      "  n_iter_i = _check_optimize_result(\n"
     ]
    },
    {
     "name": "stdout",
     "output_type": "stream",
     "text": [
      "              precision    recall  f1-score   support\n",
      "\n",
      "    negative       0.78      0.74      0.76     29107\n",
      "    positive       0.74      0.77      0.76     27602\n",
      "\n",
      "    accuracy                           0.76     56709\n",
      "   macro avg       0.76      0.76      0.76     56709\n",
      "weighted avg       0.76      0.76      0.76     56709\n",
      "\n"
     ]
    }
   ],
   "source": [
    "vec = CountVectorizer(ngram_range=(1, 1), tokenizer=my_preproc)\n",
    "bow = vec.fit_transform(x_train)\n",
    "clf = LogisticRegression(random_state=42)\n",
    "clf.fit(bow, y_train)\n",
    "pred = clf.predict(vec.transform(x_test))\n",
    "print(classification_report(pred, y_test))"
   ]
  },
  {
   "cell_type": "markdown",
   "metadata": {
    "id": "RJlvqWuALVRs"
   },
   "source": [
    "### [Pymorphy](http://pymorphy2.readthedocs.io/en/latest/)\n"
   ]
  },
  {
   "cell_type": "code",
   "execution_count": 167,
   "metadata": {
    "colab": {
     "base_uri": "https://localhost:8080/"
    },
    "id": "tHDkurN1zf7g",
    "outputId": "c9934446-bf72-4603-8a51-9f6ebf406e44"
   },
   "outputs": [
    {
     "name": "stdout",
     "output_type": "stream",
     "text": [
      "/bin/bash: /home/ekaterina/anaconda3/lib/libtinfo.so.6: no version information available (required by /bin/bash)\n",
      "Requirement already satisfied: pymorphy2 in /home/ekaterina/anaconda3/lib/python3.9/site-packages (0.9.1)\n",
      "Requirement already satisfied: docopt>=0.6 in /home/ekaterina/anaconda3/lib/python3.9/site-packages (from pymorphy2) (0.6.2)\n",
      "Requirement already satisfied: dawg-python>=0.7.1 in /home/ekaterina/anaconda3/lib/python3.9/site-packages (from pymorphy2) (0.7.2)\n",
      "Requirement already satisfied: pymorphy2-dicts-ru<3.0,>=2.4 in /home/ekaterina/anaconda3/lib/python3.9/site-packages (from pymorphy2) (2.4.417127.4579844)\n"
     ]
    }
   ],
   "source": [
    "!pip install pymorphy2"
   ]
  },
  {
   "cell_type": "code",
   "execution_count": 168,
   "metadata": {
    "id": "7SlwsLU7LVRt"
   },
   "outputs": [],
   "source": [
    "from pymorphy2 import MorphAnalyzer\n",
    "pymorphy2_analyzer = MorphAnalyzer()"
   ]
  },
  {
   "cell_type": "code",
   "execution_count": 169,
   "metadata": {
    "colab": {
     "base_uri": "https://localhost:8080/"
    },
    "id": "jdf6XoEbLVRw",
    "outputId": "a1984e06-dbeb-4377-896d-b7014b6b84c1"
   },
   "outputs": [
    {
     "data": {
      "text/plain": [
       "[Parse(word='платили', tag=OpencorporaTag('VERB,impf,tran plur,past,indc'), normal_form='платить', score=1.0, methods_stack=((DictionaryAnalyzer(), 'платили', 2472, 10),))]"
      ]
     },
     "execution_count": 169,
     "metadata": {},
     "output_type": "execute_result"
    }
   ],
   "source": [
    "ana = pymorphy2_analyzer.parse(sent[3])\n",
    "ana"
   ]
  },
  {
   "cell_type": "code",
   "execution_count": 170,
   "metadata": {
    "colab": {
     "base_uri": "https://localhost:8080/",
     "height": 35
    },
    "id": "0KuHQGPgLVRz",
    "outputId": "3cdbe79d-ec3f-4a07-ff3a-52e8810face1"
   },
   "outputs": [
    {
     "data": {
      "text/plain": [
       "'платить'"
      ]
     },
     "execution_count": 170,
     "metadata": {},
     "output_type": "execute_result"
    }
   ],
   "source": [
    "ana[0].normal_form"
   ]
  },
  {
   "cell_type": "markdown",
   "metadata": {
    "id": "gFTkF8xUARlS"
   },
   "source": [
    "### [Natasha](https://github.com/natasha/)"
   ]
  },
  {
   "cell_type": "code",
   "execution_count": 171,
   "metadata": {
    "colab": {
     "base_uri": "https://localhost:8080/"
    },
    "id": "-CVeDxeIA6rg",
    "outputId": "ff583009-ae7a-4b68-b6a7-ca1ba48c0732"
   },
   "outputs": [
    {
     "name": "stdout",
     "output_type": "stream",
     "text": [
      "/bin/bash: /home/ekaterina/anaconda3/lib/libtinfo.so.6: no version information available (required by /bin/bash)\n",
      "Requirement already satisfied: razdel in /home/ekaterina/anaconda3/lib/python3.9/site-packages (0.5.0)\n"
     ]
    }
   ],
   "source": [
    "!pip install razdel"
   ]
  },
  {
   "cell_type": "code",
   "execution_count": 172,
   "metadata": {
    "colab": {
     "base_uri": "https://localhost:8080/"
    },
    "id": "MOTkw9MpAnNN",
    "outputId": "51fc6e54-3b82-4c1c-91c2-5b6a60f6304f"
   },
   "outputs": [
    {
     "data": {
      "text/plain": [
       "[Substring(0, 13, 'Кружка-термос'),\n",
       " Substring(14, 16, 'на'),\n",
       " Substring(17, 20, '0.5'),\n",
       " Substring(20, 21, 'л'),\n",
       " Substring(22, 23, '('),\n",
       " Substring(23, 28, '50/64'),\n",
       " Substring(29, 32, 'см³'),\n",
       " Substring(32, 33, ','),\n",
       " Substring(34, 37, '516'),\n",
       " Substring(37, 38, ';'),\n",
       " Substring(38, 41, '...'),\n",
       " Substring(41, 42, ')')]"
      ]
     },
     "execution_count": 172,
     "metadata": {},
     "output_type": "execute_result"
    }
   ],
   "source": [
    "from razdel import tokenize\n",
    "\n",
    "tokens = list(tokenize('Кружка-термос на 0.5л (50/64 см³, 516;...)'))\n",
    "tokens"
   ]
  },
  {
   "cell_type": "code",
   "execution_count": 173,
   "metadata": {
    "colab": {
     "base_uri": "https://localhost:8080/"
    },
    "id": "Ftx-WzUbBCpO",
    "outputId": "40c67fa4-fab6-4c1b-f651-06951a38798e"
   },
   "outputs": [
    {
     "data": {
      "text/plain": [
       "['Кружка-термос',\n",
       " 'на',\n",
       " '0.5',\n",
       " 'л',\n",
       " '(',\n",
       " '50/64',\n",
       " 'см³',\n",
       " ',',\n",
       " '516',\n",
       " ';',\n",
       " '...',\n",
       " ')']"
      ]
     },
     "execution_count": 173,
     "metadata": {},
     "output_type": "execute_result"
    }
   ],
   "source": [
    "[_.text for _ in tokens]"
   ]
  },
  {
   "cell_type": "code",
   "execution_count": 174,
   "metadata": {
    "colab": {
     "base_uri": "https://localhost:8080/"
    },
    "id": "uyhsQp4MGbW8",
    "outputId": "55f84576-aaad-4a68-c5d9-38dc0ea2f721"
   },
   "outputs": [
    {
     "name": "stdout",
     "output_type": "stream",
     "text": [
      "/bin/bash: /home/ekaterina/anaconda3/lib/libtinfo.so.6: no version information available (required by /bin/bash)\n",
      "Requirement already satisfied: natasha in /home/ekaterina/anaconda3/lib/python3.9/site-packages (1.6.0)\n",
      "Requirement already satisfied: razdel>=0.5.0 in /home/ekaterina/anaconda3/lib/python3.9/site-packages (from natasha) (0.5.0)\n",
      "Requirement already satisfied: slovnet>=0.6.0 in /home/ekaterina/anaconda3/lib/python3.9/site-packages (from natasha) (0.6.0)\n",
      "Requirement already satisfied: navec>=0.9.0 in /home/ekaterina/anaconda3/lib/python3.9/site-packages (from natasha) (0.10.0)\n",
      "Requirement already satisfied: ipymarkup>=0.8.0 in /home/ekaterina/anaconda3/lib/python3.9/site-packages (from natasha) (0.9.0)\n",
      "Requirement already satisfied: pymorphy2 in /home/ekaterina/anaconda3/lib/python3.9/site-packages (from natasha) (0.9.1)\n",
      "Requirement already satisfied: yargy>=0.16.0 in /home/ekaterina/anaconda3/lib/python3.9/site-packages (from natasha) (0.16.0)\n",
      "Requirement already satisfied: intervaltree>=3 in /home/ekaterina/anaconda3/lib/python3.9/site-packages (from ipymarkup>=0.8.0->natasha) (3.1.0)\n",
      "Requirement already satisfied: sortedcontainers<3.0,>=2.0 in /home/ekaterina/anaconda3/lib/python3.9/site-packages (from intervaltree>=3->ipymarkup>=0.8.0->natasha) (2.4.0)\n",
      "Requirement already satisfied: numpy in /home/ekaterina/anaconda3/lib/python3.9/site-packages (from navec>=0.9.0->natasha) (1.22.4)\n",
      "Requirement already satisfied: pymorphy2-dicts-ru<3.0,>=2.4 in /home/ekaterina/anaconda3/lib/python3.9/site-packages (from pymorphy2->natasha) (2.4.417127.4579844)\n",
      "Requirement already satisfied: dawg-python>=0.7.1 in /home/ekaterina/anaconda3/lib/python3.9/site-packages (from pymorphy2->natasha) (0.7.2)\n",
      "Requirement already satisfied: docopt>=0.6 in /home/ekaterina/anaconda3/lib/python3.9/site-packages (from pymorphy2->natasha) (0.6.2)\n"
     ]
    }
   ],
   "source": [
    "!pip install natasha"
   ]
  },
  {
   "cell_type": "code",
   "execution_count": 175,
   "metadata": {
    "id": "vJZgfRnvIS2q"
   },
   "outputs": [],
   "source": [
    "from natasha import Doc, MorphVocab, Segmenter, NewsEmbedding, NewsMorphTagger\n",
    "\n",
    "segmenter = Segmenter()\n",
    "morph_vocab = MorphVocab()\n",
    "emb = NewsEmbedding()\n",
    "morph_tagger = NewsMorphTagger(emb)\n",
    "\n",
    "def natasha_lemmatize(text):\n",
    "  doc = Doc(text)\n",
    "  doc.segment(segmenter)\n",
    "  doc.tag_morph(morph_tagger)\n",
    "  for token in doc.tokens:\n",
    "    token.lemmatize(morph_vocab)\n",
    "  return {_.text: _.lemma for _ in doc.tokens}"
   ]
  },
  {
   "cell_type": "code",
   "execution_count": 176,
   "metadata": {
    "colab": {
     "base_uri": "https://localhost:8080/"
    },
    "id": "iBtlnYlFBOKv",
    "outputId": "47a9e7d6-7f03-4e93-e57c-84dce5657d97"
   },
   "outputs": [
    {
     "data": {
      "text/plain": [
       "{'Посол': 'посол',\n",
       " 'Израиля': 'израиль',\n",
       " 'на': 'на',\n",
       " 'Украине': 'украина',\n",
       " 'Йоэль': 'йоэль',\n",
       " 'Лион': 'лион',\n",
       " 'признался': 'признаться',\n",
       " ',': ',',\n",
       " 'что': 'что',\n",
       " 'пришел': 'прийти',\n",
       " 'в': 'в',\n",
       " 'шок': 'шок',\n",
       " 'узнав': 'узнать',\n",
       " 'о': 'о',\n",
       " 'решении': 'решение',\n",
       " 'властей': 'власть',\n",
       " 'Львовской': 'львовский',\n",
       " 'области': 'область',\n",
       " 'объявить': 'объявить',\n",
       " '2019': '2019',\n",
       " 'год': 'год',\n",
       " 'годом': 'год',\n",
       " 'лидера': 'лидер',\n",
       " 'запрещенной': 'запретить',\n",
       " 'России': 'россия',\n",
       " 'Организации': 'организация',\n",
       " 'украинских': 'украинский',\n",
       " 'националистов': 'националист',\n",
       " '(': '(',\n",
       " 'ОУН': 'оун',\n",
       " ')': ')',\n",
       " 'Степана': 'степан',\n",
       " 'Бандеры': 'бандера',\n",
       " '.': '.',\n",
       " 'Свое': 'свой',\n",
       " 'заявление': 'заявление',\n",
       " 'он': 'он',\n",
       " 'разместил': 'разместить',\n",
       " 'Twitter': 'twitter',\n",
       " '«': '«',\n",
       " 'Я': 'я',\n",
       " 'не': 'не',\n",
       " 'могу': 'мочь',\n",
       " 'понять': 'понять',\n",
       " 'как': 'как',\n",
       " 'прославление': 'прославление',\n",
       " 'тех': 'тот',\n",
       " 'кто': 'кто',\n",
       " 'непосредственно': 'непосредственно',\n",
       " 'принимал': 'принимать',\n",
       " 'участие': 'участие',\n",
       " 'ужасных': 'ужасный',\n",
       " 'антисемитских': 'антисемитский',\n",
       " 'преступлениях': 'преступление',\n",
       " 'помогает': 'помогать',\n",
       " 'бороться': 'бороться',\n",
       " 'с': 'с',\n",
       " 'антисемитизмом': 'антисемитизм',\n",
       " 'и': 'и',\n",
       " 'ксенофобией': 'ксенофобия',\n",
       " 'Украина': 'украина',\n",
       " 'должна': 'должный',\n",
       " 'забывать': 'забывать',\n",
       " 'совершенных': 'совершить',\n",
       " 'против': 'против',\n",
       " 'евреев': 'еврей',\n",
       " 'никоим': 'никой',\n",
       " 'образом': 'образ',\n",
       " 'отмечать': 'отмечать',\n",
       " 'их': 'они',\n",
       " 'через': 'через',\n",
       " 'почитание': 'почитание',\n",
       " 'исполнителей': 'исполнитель',\n",
       " '»': '»',\n",
       " '—': '—',\n",
       " 'написал': 'написать',\n",
       " 'дипломат': 'дипломат',\n",
       " '11': '11',\n",
       " 'декабря': 'декабрь',\n",
       " 'Львовский': 'львовский',\n",
       " 'областной': 'областной',\n",
       " 'совет': 'совет',\n",
       " 'принял': 'принять',\n",
       " 'решение': 'решение',\n",
       " 'провозгласить': 'провозгласить',\n",
       " 'регионе': 'регион',\n",
       " 'связи': 'связь',\n",
       " 'празднованием': 'празднование',\n",
       " '110-летия': '110-летие',\n",
       " 'со': 'с',\n",
       " 'дня': 'день',\n",
       " 'рождения': 'рождение',\n",
       " 'Бандера': 'бандера',\n",
       " 'родился': 'родиться',\n",
       " '1': '1',\n",
       " 'января': 'январь',\n",
       " '1909': '1909',\n",
       " 'года': 'год',\n",
       " 'В': 'в',\n",
       " 'июле': 'июль',\n",
       " 'аналогичное': 'аналогичный',\n",
       " 'Житомирский': 'житомирский',\n",
       " 'начале': 'начало',\n",
       " 'месяца': 'месяц',\n",
       " 'предложением': 'предложение',\n",
       " 'к': 'к',\n",
       " 'президенту': 'президент',\n",
       " 'страны': 'страна',\n",
       " 'Петру': 'петр',\n",
       " 'Порошенко': 'порошенко',\n",
       " 'вернуть': 'вернуть',\n",
       " 'Бандере': 'бандера',\n",
       " 'звание': 'звание',\n",
       " 'Героя': 'герой',\n",
       " 'Украины': 'украина',\n",
       " 'обратились': 'обратиться',\n",
       " 'депутаты': 'депутат',\n",
       " 'Верховной': 'верховный',\n",
       " 'Рады': 'рада',\n",
       " 'Парламентарии': 'парламентарий',\n",
       " 'уверены': 'уверить',\n",
       " 'признание': 'признание',\n",
       " 'национальным': 'национальный',\n",
       " 'героем': 'герой',\n",
       " 'поможет': 'помочь',\n",
       " 'борьбе': 'борьба',\n",
       " 'подрывной': 'подрывной',\n",
       " 'деятельностью': 'деятельность',\n",
       " 'информационном': 'информационный',\n",
       " 'поле': 'поле',\n",
       " 'а': 'а',\n",
       " 'также': 'также',\n",
       " 'остановит': 'остановить',\n",
       " 'распространение': 'распространение',\n",
       " 'мифов': 'миф',\n",
       " 'созданных': 'создать',\n",
       " 'российской': 'российский',\n",
       " 'пропагандой': 'пропаганда',\n",
       " 'Степан': 'степан',\n",
       " '1909-1959': '1909-1959',\n",
       " 'был': 'быть',\n",
       " 'одним': 'один',\n",
       " 'из': 'из',\n",
       " 'лидеров': 'лидер',\n",
       " 'выступающей': 'выступать',\n",
       " 'за': 'за',\n",
       " 'создание': 'создание',\n",
       " 'независимого': 'независимый',\n",
       " 'государства': 'государство',\n",
       " 'территориях': 'территория',\n",
       " 'украиноязычным': 'украиноязычный',\n",
       " 'населением': 'население',\n",
       " '2010': '2010',\n",
       " 'году': 'год',\n",
       " 'период': 'период',\n",
       " 'президентства': 'президентство',\n",
       " 'Виктора': 'виктор',\n",
       " 'Ющенко': 'ющенко',\n",
       " 'посмертно': 'посмертно',\n",
       " 'признан': 'признать',\n",
       " 'Героем': 'герой',\n",
       " 'однако': 'однако',\n",
       " 'впоследствии': 'впоследствии',\n",
       " 'это': 'это',\n",
       " 'было': 'быть',\n",
       " 'отменено': 'отменить',\n",
       " 'судом': 'суд'}"
      ]
     },
     "execution_count": 176,
     "metadata": {},
     "output_type": "execute_result"
    }
   ],
   "source": [
    "text = 'Посол Израиля на Украине Йоэль Лион признался, что пришел в шок, узнав о решении властей Львовской области объявить 2019 год годом лидера запрещенной в России Организации украинских националистов (ОУН) Степана Бандеры. Свое заявление он разместил в Twitter. «Я не могу понять, как прославление тех, кто непосредственно принимал участие в ужасных антисемитских преступлениях, помогает бороться с антисемитизмом и ксенофобией. Украина не должна забывать о преступлениях, совершенных против украинских евреев, и никоим образом не отмечать их через почитание их исполнителей», — написал дипломат. 11 декабря Львовский областной совет принял решение провозгласить 2019 год в регионе годом Степана Бандеры в связи с празднованием 110-летия со дня рождения лидера ОУН (Бандера родился 1 января 1909 года). В июле аналогичное решение принял Житомирский областной совет. В начале месяца с предложением к президенту страны Петру Порошенко вернуть Бандере звание Героя Украины обратились депутаты Верховной Рады. Парламентарии уверены, что признание Бандеры национальным героем поможет в борьбе с подрывной деятельностью против Украины в информационном поле, а также остановит «распространение мифов, созданных российской пропагандой». Степан Бандера (1909-1959) был одним из лидеров Организации украинских националистов, выступающей за создание независимого государства на территориях с украиноязычным населением. В 2010 году в период президентства Виктора Ющенко Бандера был посмертно признан Героем Украины, однако впоследствии это решение было отменено судом. '\n",
    "\n",
    "natasha_lemmatize(text)"
   ]
  },
  {
   "cell_type": "markdown",
   "metadata": {
    "id": "rck5OVqhLVSA"
   },
   "source": [
    "### mystem vs. pymorphy vs. natasha"
   ]
  },
  {
   "cell_type": "code",
   "execution_count": 177,
   "metadata": {
    "id": "kH2GQ4ddLVSB"
   },
   "outputs": [],
   "source": [
    "homonym1 = 'За время обучения я прослушал больше сорока курсов.'\n",
    "homonym2 = 'Сорока своровала блестящее украшение со стола.'"
   ]
  },
  {
   "cell_type": "code",
   "execution_count": 178,
   "metadata": {
    "colab": {
     "base_uri": "https://localhost:8080/"
    },
    "id": "WwF-XsjeI3eX",
    "outputId": "34e9f131-3af5-4a87-9a8c-aa51d6e076ae"
   },
   "outputs": [
    {
     "name": "stdout",
     "output_type": "stream",
     "text": [
      "{'analysis': [{'lex': 'сорок', 'wt': 0.8710292664, 'gr': 'NUM=(пр|дат|род|твор)'}], 'text': 'сорока'}\n",
      "{'analysis': [{'lex': 'сорока', 'wt': 0.1210970041, 'gr': 'S,жен,од=им,ед'}], 'text': 'Сорока'}\n"
     ]
    }
   ],
   "source": [
    "mystem_analyzer = Mystem() # инициализирую объект с дефолтными параметрами\n",
    "\n",
    "print(mystem_analyzer.analyze(homonym1)[-5])\n",
    "print(mystem_analyzer.analyze(homonym2)[0])"
   ]
  },
  {
   "cell_type": "code",
   "execution_count": 179,
   "metadata": {
    "colab": {
     "base_uri": "https://localhost:8080/"
    },
    "id": "t9jezRVlFmDo",
    "outputId": "e2224fd9-09e3-428e-fa6a-1af94dcb2ca8"
   },
   "outputs": [
    {
     "name": "stdout",
     "output_type": "stream",
     "text": [
      "{'За': 'за', 'время': 'время', 'обучения': 'обучение', 'я': 'я', 'прослушал': 'прослушать', 'больше': 'большой', 'сорока': 'сорок', 'курсов': 'курс', '.': '.'}\n"
     ]
    }
   ],
   "source": [
    "print(natasha_lemmatize(homonym1))"
   ]
  },
  {
   "cell_type": "code",
   "execution_count": 180,
   "metadata": {
    "colab": {
     "base_uri": "https://localhost:8080/"
    },
    "id": "SXjGBQPoI9gl",
    "outputId": "049fe8af-e0c5-499f-cc10-6d05b047a168"
   },
   "outputs": [
    {
     "name": "stdout",
     "output_type": "stream",
     "text": [
      "{'Сорока': 'сорок', 'своровала': 'своровать', 'блестящее': 'блестящий', 'украшение': 'украшение', 'со': 'с', 'стола': 'стол', '.': '.'}\n"
     ]
    }
   ],
   "source": [
    "print(natasha_lemmatize(homonym2))"
   ]
  },
  {
   "cell_type": "markdown",
   "metadata": {
    "id": "aP5qFnilLVSI"
   },
   "source": [
    "## Словарь, закон Ципфа и закон Хипса"
   ]
  },
  {
   "cell_type": "markdown",
   "metadata": {
    "id": "s1umtd3OLVSI"
   },
   "source": [
    "Закон Ципфа -- эмпирическая закономерность: если все слова корпуса текста упорядочить по убыванию частоты их использования, то частота n-го слова в таком списке окажется приблизительно обратно пропорциональной его порядковому номеру n. Иными словами, частотность слов убывает очень быстро."
   ]
  },
  {
   "cell_type": "code",
   "execution_count": 492,
   "metadata": {
    "id": "lY0cWJ7eLVSJ"
   },
   "outputs": [],
   "source": [
    "from collections import Counter"
   ]
  },
  {
   "cell_type": "code",
   "execution_count": 493,
   "metadata": {
    "colab": {
     "base_uri": "https://localhost:8080/"
    },
    "id": "vIjqSVjpLVSL",
    "outputId": "a75ec748-ab21-4bd0-cd41-5a9fa8362b22"
   },
   "outputs": [
    {
     "name": "stdout",
     "output_type": "stream",
     "text": [
      "2870536\n"
     ]
    },
    {
     "data": {
      "text/plain": [
       "['first_timee', 'хоть', 'я', 'и', 'школота', 'но', 'поверь', 'у', 'нас', 'то']"
      ]
     },
     "execution_count": 493,
     "metadata": {},
     "output_type": "execute_result"
    }
   ],
   "source": [
    "corpus = [token for tweet in df.text for token in nltk.word_tokenize(tweet) if token not in punctuation]\n",
    "print(len(corpus))\n",
    "corpus[:10]"
   ]
  },
  {
   "cell_type": "code",
   "execution_count": 494,
   "metadata": {
    "id": "_oWC7NpkLVSO",
    "outputId": "965b9fbd-6328-4c13-f20f-cd3714d1adb4"
   },
   "outputs": [
    {
     "data": {
      "text/plain": [
       "[('не', 69472),\n",
       " ('и', 55166),\n",
       " ('в', 52902),\n",
       " ('я', 52818),\n",
       " ('RT', 38070),\n",
       " ('на', 35759),\n",
       " ('http', 32998),\n",
       " ('что', 31541),\n",
       " ('с', 27217),\n",
       " ('а', 26860)]"
      ]
     },
     "execution_count": 494,
     "metadata": {},
     "output_type": "execute_result"
    }
   ],
   "source": [
    "freq_dict = Counter(corpus)\n",
    "freq_dict_sorted= sorted(freq_dict.items(), key=lambda x: -x[1])\n",
    "list(freq_dict_sorted)[:10]"
   ]
  },
  {
   "cell_type": "code",
   "execution_count": 495,
   "metadata": {
    "id": "FrPkce0SLVSQ",
    "outputId": "d2ab5675-433a-480a-90ee-fa5dd9890922"
   },
   "outputs": [
    {
     "data": {
      "image/png": "[encoded data removed]",
      "text/plain": [
       "<Figure size 432x288 with 1 Axes>"
      ]
     },
     "metadata": {
      "needs_background": "light"
     },
     "output_type": "display_data"
    }
   ],
   "source": [
    "import matplotlib.pyplot as plt\n",
    "%matplotlib inline\n",
    "first_100_freqs = [freq for word, freq in freq_dict_sorted[:100]]\n",
    "plt.plot(first_100_freqs)\n",
    "plt.show()"
   ]
  },
  {
   "cell_type": "markdown",
   "metadata": {
    "id": "i_N5V_K-LVSU"
   },
   "source": [
    "Закон Хипса -- обратная сторона закона Ципфа. Он описывает, что чем больше корпус, тем меньше новых слов добавляется с добавлением новых текстов. В какой-то момент корпус насыщается."
   ]
  },
  {
   "cell_type": "markdown",
   "metadata": {
    "id": "dw0GieJSMU-O"
   },
   "source": [
    "## Задача\n",
    "\n",
    "Обучение трех классификаторов: \n",
    "\n",
    "1) на токенах с высокой частотой \n",
    "\n",
    "2) на токенах со средней частотой \n",
    "\n",
    "3) на токенах с низкой частотой\n",
    "\n",
    "Сравнить полученные результаты, оценить какие токены наиболее важные для классификации."
   ]
  },
  {
   "cell_type": "code",
   "execution_count": 506,
   "metadata": {},
   "outputs": [
    {
     "data": {
      "text/plain": [
       "351123"
      ]
     },
     "execution_count": 506,
     "metadata": {},
     "output_type": "execute_result"
    }
   ],
   "source": [
    "#длина словаря\n",
    "len(freq_dict_sorted)"
   ]
  },
  {
   "cell_type": "code",
   "execution_count": 507,
   "metadata": {},
   "outputs": [
    {
     "data": {
      "text/plain": [
       "[('не', 69472),\n",
       " ('и', 55166),\n",
       " ('в', 52902),\n",
       " ('я', 52818),\n",
       " ('RT', 38070),\n",
       " ('на', 35759),\n",
       " ('http', 32998),\n",
       " ('что', 31541),\n",
       " ('с', 27217),\n",
       " ('а', 26860)]"
      ]
     },
     "execution_count": 507,
     "metadata": {},
     "output_type": "execute_result"
    }
   ],
   "source": [
    "freq_dict_sorted[:10]"
   ]
  },
  {
   "cell_type": "code",
   "execution_count": 508,
   "metadata": {},
   "outputs": [
    {
     "data": {
      "image/png": "[encoded data removed]",
      "text/plain": [
       "<Figure size 432x288 with 1 Axes>"
      ]
     },
     "metadata": {
      "needs_background": "light"
     },
     "output_type": "display_data"
    }
   ],
   "source": [
    "import matplotlib.pyplot as plt\n",
    "%matplotlib inline\n",
    "first_100_freqs = [freq for word, freq in freq_dict_sorted[:100]]\n",
    "plt.plot(first_100_freqs)\n",
    "plt.show()"
   ]
  },
  {
   "cell_type": "code",
   "execution_count": 512,
   "metadata": {},
   "outputs": [
    {
     "data": {
      "text/plain": [
       "['школу', 'НЕ', 'весь', '1', 'мной', 'Если', 'жизнь', 'нравится', 'ж', 'болит']"
      ]
     },
     "execution_count": 512,
     "metadata": {},
     "output_type": "execute_result"
    }
   ],
   "source": [
    "#словарь из самых частовстречающихся слов\n",
    "first_freqs = [word for word, freq in freq_dict_sorted[:200]]\n",
    "first_freqs[190:]"
   ]
  },
  {
   "cell_type": "code",
   "execution_count": 513,
   "metadata": {},
   "outputs": [
    {
     "data": {
      "text/plain": [
       "['пахнет',\n",
       " 'едем',\n",
       " 'Скорее',\n",
       " 'фак',\n",
       " 'заходит',\n",
       " 'учителя',\n",
       " 'Сука',\n",
       " 'группе',\n",
       " 'красота',\n",
       " 'нафиг']"
      ]
     },
     "execution_count": 513,
     "metadata": {},
     "output_type": "execute_result"
    }
   ],
   "source": [
    "# слова самой низкой частотности\n",
    "last_freqs = [word for word, freq in freq_dict_sorted[2000:]]\n",
    "last_freqs[:10]"
   ]
  },
  {
   "cell_type": "code",
   "execution_count": 514,
   "metadata": {},
   "outputs": [
    {
     "data": {
      "text/plain": [
       "['DD',\n",
       " 'мама',\n",
       " 'хотя',\n",
       " 'Хочу',\n",
       " 'одна',\n",
       " 'человек',\n",
       " 'эти',\n",
       " 'думаю',\n",
       " 'вроде',\n",
       " 'них']"
      ]
     },
     "execution_count": 514,
     "metadata": {},
     "output_type": "execute_result"
    }
   ],
   "source": [
    "# слова средней частотности\n",
    "med_freqs = [word for word, freq in freq_dict_sorted[200:2000]]\n",
    "med_freqs[:10]"
   ]
  },
  {
   "cell_type": "code",
   "execution_count": 515,
   "metadata": {},
   "outputs": [],
   "source": [
    "def max_len_tokens(df):\n",
    "    max_len = 0\n",
    "    for text in df:\n",
    "        tokens = nltk.word_tokenize(text.lower())\n",
    "        if len(tokens) > max_len:\n",
    "            max_len = len(tokens)\n",
    "    return max_len"
   ]
  },
  {
   "cell_type": "code",
   "execution_count": 516,
   "metadata": {},
   "outputs": [],
   "source": [
    "#max_len_tokens(df.text)"
   ]
  },
  {
   "cell_type": "code",
   "execution_count": 517,
   "metadata": {},
   "outputs": [],
   "source": [
    "max_len = 131"
   ]
  },
  {
   "cell_type": "code",
   "execution_count": 518,
   "metadata": {},
   "outputs": [],
   "source": [
    "import numpy as np\n",
    "\n",
    "def text_to_freqs(text, vocabulary):\n",
    "    result = ''\n",
    "    tokens = nltk.word_tokenize(text.lower())\n",
    "    tokens_filtered = [word for word in tokens if word.isalnum()]\n",
    "    for word in tokens_filtered:\n",
    "        if word in vocabulary:\n",
    "            result += word\n",
    "            result += ' '\n",
    "\n",
    "    return result"
   ]
  },
  {
   "cell_type": "markdown",
   "metadata": {},
   "source": [
    "## Расчет для самых частотных слов"
   ]
  },
  {
   "cell_type": "code",
   "execution_count": 473,
   "metadata": {},
   "outputs": [],
   "source": [
    "vocabulary = first_freqs"
   ]
  },
  {
   "cell_type": "code",
   "execution_count": 474,
   "metadata": {},
   "outputs": [
    {
     "data": {
      "text/plain": [
       "['не', 'и', 'в', 'я', 'RT', 'на', 'http', 'что', 'с', 'а']"
      ]
     },
     "execution_count": 474,
     "metadata": {},
     "output_type": "execute_result"
    }
   ],
   "source": [
    "vocabulary[:10]"
   ]
  },
  {
   "cell_type": "code",
   "execution_count": 377,
   "metadata": {},
   "outputs": [
    {
     "name": "stdout",
     "output_type": "stream",
     "text": [
      "CPU times: user 33.2 s, sys: 24 ms, total: 33.2 s\n",
      "Wall time: 33.2 s\n"
     ]
    }
   ],
   "source": [
    "%%time\n",
    "x_train_vocab = np.asarray([text_to_freqs(text, vocabulary) for text in x_train])\n",
    "x_test_vocab = np.asarray([text_to_freqs(text, vocabulary) for text in x_test])"
   ]
  },
  {
   "cell_type": "code",
   "execution_count": 378,
   "metadata": {},
   "outputs": [
    {
     "data": {
      "text/plain": [
       "array(['блин я пока этот а до школы совсем не будет ',\n",
       "       'чем я тем экзамен ',\n",
       "       'сегодня было вообще это наш последний год поэтому я этот день http ',\n",
       "       ..., 'то чувство когда завтра все в школу а я нет ',\n",
       "       'не ну люблю тебя моя ',\n",
       "       'можно я а там об этом по всем завтра в будет что люди '],\n",
       "      dtype='<U121')"
      ]
     },
     "execution_count": 378,
     "metadata": {},
     "output_type": "execute_result"
    }
   ],
   "source": [
    "x_train_vocab"
   ]
  },
  {
   "cell_type": "code",
   "execution_count": 379,
   "metadata": {},
   "outputs": [
    {
     "name": "stderr",
     "output_type": "stream",
     "text": [
      "/home/ekaterina/anaconda3/lib/python3.9/site-packages/sklearn/linear_model/_logistic.py:814: ConvergenceWarning: lbfgs failed to converge (status=1):\n",
      "STOP: TOTAL NO. of ITERATIONS REACHED LIMIT.\n",
      "\n",
      "Increase the number of iterations (max_iter) or scale the data as shown in:\n",
      "    https://scikit-learn.org/stable/modules/preprocessing.html\n",
      "Please also refer to the documentation for alternative solver options:\n",
      "    https://scikit-learn.org/stable/modules/linear_model.html#logistic-regression\n",
      "  n_iter_i = _check_optimize_result(\n"
     ]
    },
    {
     "name": "stdout",
     "output_type": "stream",
     "text": [
      "              precision    recall  f1-score   support\n",
      "\n",
      "    negative       0.63      0.69      0.66     25266\n",
      "    positive       0.73      0.67      0.70     31443\n",
      "\n",
      "    accuracy                           0.68     56709\n",
      "   macro avg       0.68      0.68      0.68     56709\n",
      "weighted avg       0.69      0.68      0.68     56709\n",
      "\n"
     ]
    }
   ],
   "source": [
    "vec = CountVectorizer(ngram_range=(1, 1))\n",
    "bow = vec.fit_transform(x_train_vocab)\n",
    "clf = LogisticRegression(random_state=42)\n",
    "clf.fit(bow, y_train)\n",
    "pred = clf.predict(vec.transform(x_test_vocab))\n",
    "print(classification_report(pred, y_test))"
   ]
  },
  {
   "cell_type": "markdown",
   "metadata": {},
   "source": [
    "## Расчет для слов средней частоты"
   ]
  },
  {
   "cell_type": "code",
   "execution_count": 475,
   "metadata": {},
   "outputs": [
    {
     "data": {
      "text/plain": [
       "['спокойно',\n",
       " 'детей',\n",
       " 'тупо',\n",
       " 'любимой',\n",
       " 'какого',\n",
       " 'аааа',\n",
       " 'первая',\n",
       " 'надоело',\n",
       " 'мозг',\n",
       " 'рад']"
      ]
     },
     "execution_count": 475,
     "metadata": {},
     "output_type": "execute_result"
    }
   ],
   "source": [
    "vocabulary = med_freqs\n",
    "vocabulary[:10]"
   ]
  },
  {
   "cell_type": "code",
   "execution_count": 406,
   "metadata": {},
   "outputs": [
    {
     "ename": "KeyboardInterrupt",
     "evalue": "",
     "output_type": "error",
     "traceback": [
      "\u001b[0;31m---------------------------------------------------------------------------\u001b[0m",
      "\u001b[0;31mKeyboardInterrupt\u001b[0m                         Traceback (most recent call last)",
      "File \u001b[0;32m<timed exec>:1\u001b[0m, in \u001b[0;36m<module>\u001b[0;34m\u001b[0m\n",
      "File \u001b[0;32m<timed exec>:1\u001b[0m, in \u001b[0;36m<listcomp>\u001b[0;34m(.0)\u001b[0m\n",
      "Input \u001b[0;32mIn [402]\u001b[0m, in \u001b[0;36mtext_to_freqs\u001b[0;34m(text, vocabulary)\u001b[0m\n\u001b[1;32m      5\u001b[0m tokens \u001b[38;5;241m=\u001b[39m nltk\u001b[38;5;241m.\u001b[39mword_tokenize(text\u001b[38;5;241m.\u001b[39mlower())\n\u001b[1;32m      6\u001b[0m tokens_filtered \u001b[38;5;241m=\u001b[39m [word \u001b[38;5;28;01mfor\u001b[39;00m word \u001b[38;5;129;01min\u001b[39;00m tokens \u001b[38;5;28;01mif\u001b[39;00m word\u001b[38;5;241m.\u001b[39misalnum()]\n\u001b[0;32m----> 7\u001b[0m \u001b[38;5;28;01mfor\u001b[39;00m word \u001b[38;5;129;01min\u001b[39;00m tokens_filtered:\n\u001b[1;32m      8\u001b[0m     \u001b[38;5;28;01mif\u001b[39;00m word \u001b[38;5;129;01min\u001b[39;00m vocabulary:\n\u001b[1;32m      9\u001b[0m         result \u001b[38;5;241m+\u001b[39m\u001b[38;5;241m=\u001b[39m word\n",
      "\u001b[0;31mKeyboardInterrupt\u001b[0m: "
     ]
    }
   ],
   "source": [
    "%%time\n",
    "x_train_vocab = np.asarray([text_to_freqs(text, vocabulary) for text in x_train])\n",
    "x_test_vocab = np.asarray([text_to_freqs(text, vocabulary) for text in x_test])"
   ]
  },
  {
   "cell_type": "code",
   "execution_count": 350,
   "metadata": {},
   "outputs": [
    {
     "data": {
      "text/plain": [
       "array(['блин http ', 'я что хоть ты по мне в ',\n",
       "       'жаль что я не могу свою ', ...,\n",
       "       'были на у себя опять как но я думаю мы ему ', '', 'в http '],\n",
       "      dtype='<U121')"
      ]
     },
     "execution_count": 350,
     "metadata": {},
     "output_type": "execute_result"
    }
   ],
   "source": [
    "x_train_vocab"
   ]
  },
  {
   "cell_type": "code",
   "execution_count": 351,
   "metadata": {},
   "outputs": [
    {
     "name": "stderr",
     "output_type": "stream",
     "text": [
      "/home/ekaterina/anaconda3/lib/python3.9/site-packages/sklearn/linear_model/_logistic.py:814: ConvergenceWarning: lbfgs failed to converge (status=1):\n",
      "STOP: TOTAL NO. of ITERATIONS REACHED LIMIT.\n",
      "\n",
      "Increase the number of iterations (max_iter) or scale the data as shown in:\n",
      "    https://scikit-learn.org/stable/modules/preprocessing.html\n",
      "Please also refer to the documentation for alternative solver options:\n",
      "    https://scikit-learn.org/stable/modules/linear_model.html#logistic-regression\n",
      "  n_iter_i = _check_optimize_result(\n"
     ]
    },
    {
     "name": "stdout",
     "output_type": "stream",
     "text": [
      "              precision    recall  f1-score   support\n",
      "\n",
      "    negative       0.63      0.69      0.66     25526\n",
      "    positive       0.73      0.67      0.70     31183\n",
      "\n",
      "    accuracy                           0.68     56709\n",
      "   macro avg       0.68      0.68      0.68     56709\n",
      "weighted avg       0.68      0.68      0.68     56709\n",
      "\n"
     ]
    }
   ],
   "source": [
    "vec = CountVectorizer(ngram_range=(1, 1))\n",
    "bow = vec.fit_transform(x_train_vocab)\n",
    "clf = LogisticRegression(random_state=42)\n",
    "clf.fit(bow, y_train)\n",
    "pred = clf.predict(vec.transform(x_test_vocab))\n",
    "print(classification_report(pred, y_test))"
   ]
  },
  {
   "cell_type": "markdown",
   "metadata": {},
   "source": [
    "## Расчет для наименее частотных слов"
   ]
  },
  {
   "cell_type": "code",
   "execution_count": null,
   "metadata": {},
   "outputs": [],
   "source": [
    "vocabulary = last_freqs"
   ]
  },
  {
   "cell_type": "code",
   "execution_count": null,
   "metadata": {},
   "outputs": [],
   "source": [
    "%%time\n",
    "x_train_vocab = np.asarray([text_to_freqs(text, vocabulary) for text in x_train])\n",
    "x_test_vocab = np.asarray([text_to_freqs(text, vocabulary) for text in x_test])"
   ]
  },
  {
   "cell_type": "code",
   "execution_count": null,
   "metadata": {},
   "outputs": [],
   "source": [
    "x_train_vocab"
   ]
  },
  {
   "cell_type": "code",
   "execution_count": null,
   "metadata": {},
   "outputs": [],
   "source": [
    "vec = CountVectorizer(ngram_range=(1, 1))\n",
    "bow = vec.fit_transform(x_train_vocab)\n",
    "clf = LogisticRegression(random_state=42)\n",
    "clf.fit(bow, y_train)\n",
    "pred = clf.predict(vec.transform(x_test_vocab))\n",
    "print(classification_report(pred, y_test))"
   ]
  },
  {
   "cell_type": "markdown",
   "metadata": {},
   "source": [
    "### Оставим пунктуацию"
   ]
  },
  {
   "cell_type": "code",
   "execution_count": 519,
   "metadata": {
    "id": "qjkMxK9VLVSV",
    "outputId": "dfea56d5-4d92-4862-9788-29c8c8db29ac"
   },
   "outputs": [
    {
     "name": "stdout",
     "output_type": "stream",
     "text": [
      "              precision    recall  f1-score   support\n",
      "\n",
      "    negative       1.00      1.00      1.00     28092\n",
      "    positive       1.00      1.00      1.00     28617\n",
      "\n",
      "    accuracy                           1.00     56709\n",
      "   macro avg       1.00      1.00      1.00     56709\n",
      "weighted avg       1.00      1.00      1.00     56709\n",
      "\n"
     ]
    }
   ],
   "source": [
    "vec = TfidfVectorizer(ngram_range=(1, 1), tokenizer=nltk.word_tokenize)\n",
    "bow = vec.fit_transform(x_train)\n",
    "clf = LogisticRegression(random_state=42)\n",
    "clf.fit(bow, y_train)\n",
    "pred = clf.predict(vec.transform(x_test))\n",
    "print(classification_report(pred, y_test))"
   ]
  },
  {
   "cell_type": "markdown",
   "metadata": {
    "id": "w2fRbUAvLVSX"
   },
   "source": [
    "Стоило оставить пунктуацию"
   ]
  },
  {
   "cell_type": "markdown",
   "metadata": {},
   "source": [
    "## Задача: найти фичи с наибольшей значимостью, и вывести их"
   ]
  },
  {
   "cell_type": "code",
   "execution_count": 521,
   "metadata": {},
   "outputs": [
    {
     "data": {
      "text/plain": [
       "array(['!', '#', '$', '%', '&', \"'\", \"''\", '(', ')', '*'], dtype=object)"
      ]
     },
     "execution_count": 521,
     "metadata": {},
     "output_type": "execute_result"
    }
   ],
   "source": [
    "features = vec.get_feature_names_out(bow)\n",
    "features[:10]"
   ]
  },
  {
   "cell_type": "code",
   "execution_count": 522,
   "metadata": {},
   "outputs": [
    {
     "data": {
      "text/plain": [
       "array([ 1.18068646e-01,  3.83728879e-01, -1.07315796e-01,  1.38354974e+00,\n",
       "       -3.60470731e-01,  3.02508022e-03,  3.38369693e-03, -5.97609517e+01,\n",
       "        5.83164395e+01,  7.19207307e+00])"
      ]
     },
     "execution_count": 522,
     "metadata": {},
     "output_type": "execute_result"
    }
   ],
   "source": [
    "coefficients = clf.coef_[0]\n",
    "coefficients[:10]"
   ]
  },
  {
   "cell_type": "code",
   "execution_count": 523,
   "metadata": {},
   "outputs": [],
   "source": [
    "feature_importance = pd.DataFrame({'Feature': features, 'Importance': np.abs(coefficients)})"
   ]
  },
  {
   "cell_type": "code",
   "execution_count": 526,
   "metadata": {},
   "outputs": [],
   "source": [
    "feature_importance = feature_importance.sort_values('Importance', ascending=False)"
   ]
  },
  {
   "cell_type": "code",
   "execution_count": 528,
   "metadata": {},
   "outputs": [
    {
     "data": {
      "text/html": [
       "<div>\n",
       "<style scoped>\n",
       "    .dataframe tbody tr th:only-of-type {\n",
       "        vertical-align: middle;\n",
       "    }\n",
       "\n",
       "    .dataframe tbody tr th {\n",
       "        vertical-align: top;\n",
       "    }\n",
       "\n",
       "    .dataframe thead th {\n",
       "        text-align: right;\n",
       "    }\n",
       "</style>\n",
       "<table border=\"1\" class=\"dataframe\">\n",
       "  <thead>\n",
       "    <tr style=\"text-align: right;\">\n",
       "      <th></th>\n",
       "      <th>Feature</th>\n",
       "      <th>Importance</th>\n",
       "    </tr>\n",
       "  </thead>\n",
       "  <tbody>\n",
       "    <tr>\n",
       "      <th>7</th>\n",
       "      <td>(</td>\n",
       "      <td>59.760952</td>\n",
       "    </tr>\n",
       "    <tr>\n",
       "      <th>8</th>\n",
       "      <td>)</td>\n",
       "      <td>58.316439</td>\n",
       "    </tr>\n",
       "    <tr>\n",
       "      <th>43454</th>\n",
       "      <td>d</td>\n",
       "      <td>26.821647</td>\n",
       "    </tr>\n",
       "    <tr>\n",
       "      <th>101355</th>\n",
       "      <td>|</td>\n",
       "      <td>11.246174</td>\n",
       "    </tr>\n",
       "    <tr>\n",
       "      <th>44881</th>\n",
       "      <td>dd</td>\n",
       "      <td>10.617428</td>\n",
       "    </tr>\n",
       "    <tr>\n",
       "      <th>179734</th>\n",
       "      <td>о_о</td>\n",
       "      <td>10.599915</td>\n",
       "    </tr>\n",
       "    <tr>\n",
       "      <th>29398</th>\n",
       "      <td>^_^</td>\n",
       "      <td>9.024994</td>\n",
       "    </tr>\n",
       "    <tr>\n",
       "      <th>77506</th>\n",
       "      <td>o_o</td>\n",
       "      <td>8.780190</td>\n",
       "    </tr>\n",
       "    <tr>\n",
       "      <th>131</th>\n",
       "      <td>-/</td>\n",
       "      <td>8.658823</td>\n",
       "    </tr>\n",
       "    <tr>\n",
       "      <th>44890</th>\n",
       "      <td>ddd</td>\n",
       "      <td>7.917141</td>\n",
       "    </tr>\n",
       "  </tbody>\n",
       "</table>\n",
       "</div>"
      ],
      "text/plain": [
       "       Feature  Importance\n",
       "7            (   59.760952\n",
       "8            )   58.316439\n",
       "43454        d   26.821647\n",
       "101355       |   11.246174\n",
       "44881       dd   10.617428\n",
       "179734     о_о   10.599915\n",
       "29398      ^_^    9.024994\n",
       "77506      o_o    8.780190\n",
       "131         -/    8.658823\n",
       "44890      ddd    7.917141"
      ]
     },
     "execution_count": 528,
     "metadata": {},
     "output_type": "execute_result"
    }
   ],
   "source": [
    "feature_importance[:10]"
   ]
  },
  {
   "cell_type": "code",
   "execution_count": 529,
   "metadata": {
    "id": "b_JRuyuRLVSY"
   },
   "outputs": [
    {
     "data": {
      "text/plain": [
       "<AxesSubplot:ylabel='Feature'>"
      ]
     },
     "execution_count": 529,
     "metadata": {},
     "output_type": "execute_result"
    },
    {
     "data": {
      "image/png": "[encoded data removed]",
      "text/plain": [
       "<Figure size 720x432 with 1 Axes>"
      ]
     },
     "metadata": {
      "needs_background": "light"
     },
     "output_type": "display_data"
    }
   ],
   "source": [
    "feature_importance[:10].plot(x='Feature', y='Importance', kind='barh', figsize=(10, 6))"
   ]
  },
  {
   "cell_type": "markdown",
   "metadata": {
    "id": "8vtAyItvLVSb"
   },
   "source": [
    "Посмотрим, как один из супер-значительных токенов справится с классификацией безо всякого машинного обучения:"
   ]
  },
  {
   "cell_type": "code",
   "execution_count": 531,
   "metadata": {
    "id": "uqH07o-7LVSc",
    "outputId": "fad0a24a-98ee-4f84-8782-495548eb0fb4"
   },
   "outputs": [
    {
     "name": "stdout",
     "output_type": "stream",
     "text": [
      "              precision    recall  f1-score   support\n",
      "\n",
      "    negative       1.00      0.85      0.92     32969\n",
      "    positive       0.83      1.00      0.91     23740\n",
      "\n",
      "    accuracy                           0.92     56709\n",
      "   macro avg       0.92      0.93      0.91     56709\n",
      "weighted avg       0.93      0.92      0.92     56709\n",
      "\n"
     ]
    }
   ],
   "source": [
    "cool_token = ')'\n",
    "pred = ['positive' if cool_token in tweet else 'negative' for tweet in x_test]\n",
    "print(classification_report(pred, y_test))"
   ]
  },
  {
   "cell_type": "markdown",
   "metadata": {},
   "source": [
    "Вывод: самые значимые токены ')' и  '('"
   ]
  },
  {
   "cell_type": "markdown",
   "metadata": {
    "id": "H5THCOjMLVSg"
   },
   "source": [
    "## Символьные n-граммы\n",
    "\n",
    "Теперь в качестве фичей используем, например, униграммы символов:"
   ]
  },
  {
   "cell_type": "code",
   "execution_count": null,
   "metadata": {
    "id": "AIUwDOabLVSh",
    "outputId": "54f129b1-994f-448e-e861-1912b4a21cdc"
   },
   "outputs": [
    {
     "name": "stdout",
     "output_type": "stream",
     "text": [
      "             precision    recall  f1-score   support\n",
      "\n",
      "   negative       0.99      1.00      1.00     27667\n",
      "   positive       1.00      0.99      1.00     29042\n",
      "\n",
      "avg / total       1.00      1.00      1.00     56709\n",
      "\n"
     ]
    }
   ],
   "source": [
    "vec = CountVectorizer(analyzer='char', ngram_range=(1, 1))\n",
    "bow = vec.fit_transform(x_train)\n",
    "clf = LogisticRegression(random_state=42)\n",
    "clf.fit(bow, y_train)\n",
    "pred = clf.predict(vec.transform(x_test))\n",
    "print(classification_report(pred, y_test))"
   ]
  },
  {
   "cell_type": "markdown",
   "metadata": {
    "id": "Z_E0uPpgLVSj"
   },
   "source": [
    "В общем-то, теперь уже понятно, почему на этих данных здесь 1. Так или инчае, на символах классифицировать тоже можно: для некторых задач (например, для определения языка) фичи-символьные n-граммы решительно рулят.\n",
    "\n",
    "Ещё одна замечательная особенность фичей-символов: токенизация и лемматизация не нужна, можно использовать такой подход для языков, у которых нет готвых анализаторов."
   ]
  },
  {
   "cell_type": "markdown",
   "metadata": {},
   "source": [
    "### Задача 3.\n",
    "\n",
    "1) сравнить count/tf-idf/hashing векторайзеры/полносвязанную сетку (построить classification_report)\n",
    "\n",
    "2) подобрать оптимальный размер для hashing векторайзера \n",
    "\n",
    "3) убедиться что для сетки нет переобучения"
   ]
  },
  {
   "cell_type": "code",
   "execution_count": 22,
   "metadata": {},
   "outputs": [
    {
     "name": "stdout",
     "output_type": "stream",
     "text": [
      "              precision    recall  f1-score   support\n",
      "\n",
      "    negative       1.00      1.00      1.00     27983\n",
      "    positive       1.00      1.00      1.00     28726\n",
      "\n",
      "    accuracy                           1.00     56709\n",
      "   macro avg       1.00      1.00      1.00     56709\n",
      "weighted avg       1.00      1.00      1.00     56709\n",
      "\n"
     ]
    }
   ],
   "source": [
    "vec = TfidfVectorizer(ngram_range=(1, 1), tokenizer=nltk.word_tokenize)\n",
    "bow = vec.fit_transform(x_train)\n",
    "clf = LogisticRegression(random_state=42)\n",
    "clf.fit(bow, y_train)\n",
    "pred = clf.predict(vec.transform(x_test))\n",
    "print(classification_report(pred, y_test))"
   ]
  },
  {
   "cell_type": "code",
   "execution_count": 23,
   "metadata": {},
   "outputs": [
    {
     "name": "stderr",
     "output_type": "stream",
     "text": [
      "/home/ekaterina/anaconda3/lib/python3.9/site-packages/sklearn/linear_model/_logistic.py:814: ConvergenceWarning: lbfgs failed to converge (status=1):\n",
      "STOP: TOTAL NO. of ITERATIONS REACHED LIMIT.\n",
      "\n",
      "Increase the number of iterations (max_iter) or scale the data as shown in:\n",
      "    https://scikit-learn.org/stable/modules/preprocessing.html\n",
      "Please also refer to the documentation for alternative solver options:\n",
      "    https://scikit-learn.org/stable/modules/linear_model.html#logistic-regression\n",
      "  n_iter_i = _check_optimize_result(\n"
     ]
    },
    {
     "name": "stdout",
     "output_type": "stream",
     "text": [
      "              precision    recall  f1-score   support\n",
      "\n",
      "    negative       1.00      1.00      1.00     28049\n",
      "    positive       1.00      1.00      1.00     28660\n",
      "\n",
      "    accuracy                           1.00     56709\n",
      "   macro avg       1.00      1.00      1.00     56709\n",
      "weighted avg       1.00      1.00      1.00     56709\n",
      "\n"
     ]
    }
   ],
   "source": [
    "vec = CountVectorizer(ngram_range=(1, 1), tokenizer=nltk.word_tokenize)\n",
    "bow = vec.fit_transform(x_train)\n",
    "clf = LogisticRegression(random_state=42)\n",
    "clf.fit(bow, y_train)\n",
    "pred = clf.predict(vec.transform(x_test))\n",
    "print(classification_report(pred, y_test))"
   ]
  },
  {
   "cell_type": "code",
   "execution_count": 24,
   "metadata": {},
   "outputs": [],
   "source": [
    "from sklearn.feature_extraction.text import HashingVectorizer"
   ]
  },
  {
   "cell_type": "code",
   "execution_count": 25,
   "metadata": {},
   "outputs": [
    {
     "name": "stdout",
     "output_type": "stream",
     "text": [
      "              precision    recall  f1-score   support\n",
      "\n",
      "    negative       0.52      0.55      0.53     26335\n",
      "    positive       0.59      0.55      0.57     30374\n",
      "\n",
      "    accuracy                           0.55     56709\n",
      "   macro avg       0.55      0.55      0.55     56709\n",
      "weighted avg       0.56      0.55      0.55     56709\n",
      "\n"
     ]
    }
   ],
   "source": [
    "vec = HashingVectorizer(n_features=2**5,)\n",
    "bow = vec.fit_transform(x_train)\n",
    "clf = LogisticRegression(random_state=42)\n",
    "clf.fit(bow, y_train)\n",
    "pred = clf.predict(vec.transform(x_test))\n",
    "print(classification_report(pred, y_test))"
   ]
  },
  {
   "cell_type": "markdown",
   "metadata": {},
   "source": [
    "Вывод: hashvectorizer справляется с задачей хуже, чем count и tfidf. Нужно подбирать оптимальный размер признакового пространства."
   ]
  },
  {
   "cell_type": "code",
   "execution_count": 11,
   "metadata": {},
   "outputs": [],
   "source": [
    "import torch"
   ]
  },
  {
   "cell_type": "code",
   "execution_count": 41,
   "metadata": {},
   "outputs": [],
   "source": [
    "max_words = 2000\n",
    "max_len = 20\n",
    "num_classes = 1\n",
    "\n",
    "# Training\n",
    "epochs = 20\n",
    "batch_size = 512\n",
    "print_batch_n = 100"
   ]
  },
  {
   "cell_type": "code",
   "execution_count": 13,
   "metadata": {},
   "outputs": [],
   "source": [
    "import pandas as pd"
   ]
  },
  {
   "cell_type": "code",
   "execution_count": 14,
   "metadata": {},
   "outputs": [
    {
     "data": {
      "text/html": [
       "<div>\n",
       "<style scoped>\n",
       "    .dataframe tbody tr th:only-of-type {\n",
       "        vertical-align: middle;\n",
       "    }\n",
       "\n",
       "    .dataframe tbody tr th {\n",
       "        vertical-align: top;\n",
       "    }\n",
       "\n",
       "    .dataframe thead th {\n",
       "        text-align: right;\n",
       "    }\n",
       "</style>\n",
       "<table border=\"1\" class=\"dataframe\">\n",
       "  <thead>\n",
       "    <tr style=\"text-align: right;\">\n",
       "      <th></th>\n",
       "      <th>text</th>\n",
       "      <th>label</th>\n",
       "    </tr>\n",
       "  </thead>\n",
       "  <tbody>\n",
       "    <tr>\n",
       "      <th>0</th>\n",
       "      <td>@first_timee хоть я и школота, но поверь, у на...</td>\n",
       "      <td>positive</td>\n",
       "    </tr>\n",
       "    <tr>\n",
       "      <th>1</th>\n",
       "      <td>Да, все-таки он немного похож на него. Но мой ...</td>\n",
       "      <td>positive</td>\n",
       "    </tr>\n",
       "    <tr>\n",
       "      <th>2</th>\n",
       "      <td>RT @KatiaCheh: Ну ты идиотка) я испугалась за ...</td>\n",
       "      <td>positive</td>\n",
       "    </tr>\n",
       "    <tr>\n",
       "      <th>3</th>\n",
       "      <td>RT @digger2912: \"Кто то в углу сидит и погибае...</td>\n",
       "      <td>positive</td>\n",
       "    </tr>\n",
       "    <tr>\n",
       "      <th>4</th>\n",
       "      <td>@irina_dyshkant Вот что значит страшилка :D\\nН...</td>\n",
       "      <td>positive</td>\n",
       "    </tr>\n",
       "  </tbody>\n",
       "</table>\n",
       "</div>"
      ],
      "text/plain": [
       "                                                text     label\n",
       "0  @first_timee хоть я и школота, но поверь, у на...  positive\n",
       "1  Да, все-таки он немного похож на него. Но мой ...  positive\n",
       "2  RT @KatiaCheh: Ну ты идиотка) я испугалась за ...  positive\n",
       "3  RT @digger2912: \"Кто то в углу сидит и погибае...  positive\n",
       "4  @irina_dyshkant Вот что значит страшилка :D\\nН...  positive"
      ]
     },
     "execution_count": 14,
     "metadata": {},
     "output_type": "execute_result"
    }
   ],
   "source": [
    "df.head()"
   ]
  },
  {
   "cell_type": "code",
   "execution_count": 15,
   "metadata": {},
   "outputs": [],
   "source": [
    "df.loc[df['label'] == 'positive', 'label'] = 0\n",
    "df.loc[df['label'] == 'negative', 'label'] = 1"
   ]
  },
  {
   "cell_type": "code",
   "execution_count": 16,
   "metadata": {},
   "outputs": [
    {
     "data": {
      "text/html": [
       "<div>\n",
       "<style scoped>\n",
       "    .dataframe tbody tr th:only-of-type {\n",
       "        vertical-align: middle;\n",
       "    }\n",
       "\n",
       "    .dataframe tbody tr th {\n",
       "        vertical-align: top;\n",
       "    }\n",
       "\n",
       "    .dataframe thead th {\n",
       "        text-align: right;\n",
       "    }\n",
       "</style>\n",
       "<table border=\"1\" class=\"dataframe\">\n",
       "  <thead>\n",
       "    <tr style=\"text-align: right;\">\n",
       "      <th></th>\n",
       "      <th>text</th>\n",
       "      <th>label</th>\n",
       "    </tr>\n",
       "  </thead>\n",
       "  <tbody>\n",
       "    <tr>\n",
       "      <th>0</th>\n",
       "      <td>@first_timee хоть я и школота, но поверь, у на...</td>\n",
       "      <td>0</td>\n",
       "    </tr>\n",
       "    <tr>\n",
       "      <th>1</th>\n",
       "      <td>Да, все-таки он немного похож на него. Но мой ...</td>\n",
       "      <td>0</td>\n",
       "    </tr>\n",
       "    <tr>\n",
       "      <th>2</th>\n",
       "      <td>RT @KatiaCheh: Ну ты идиотка) я испугалась за ...</td>\n",
       "      <td>0</td>\n",
       "    </tr>\n",
       "    <tr>\n",
       "      <th>3</th>\n",
       "      <td>RT @digger2912: \"Кто то в углу сидит и погибае...</td>\n",
       "      <td>0</td>\n",
       "    </tr>\n",
       "    <tr>\n",
       "      <th>4</th>\n",
       "      <td>@irina_dyshkant Вот что значит страшилка :D\\nН...</td>\n",
       "      <td>0</td>\n",
       "    </tr>\n",
       "  </tbody>\n",
       "</table>\n",
       "</div>"
      ],
      "text/plain": [
       "                                                text label\n",
       "0  @first_timee хоть я и школота, но поверь, у на...     0\n",
       "1  Да, все-таки он немного похож на него. Но мой ...     0\n",
       "2  RT @KatiaCheh: Ну ты идиотка) я испугалась за ...     0\n",
       "3  RT @digger2912: \"Кто то в углу сидит и погибае...     0\n",
       "4  @irina_dyshkant Вот что значит страшилка :D\\nН...     0"
      ]
     },
     "execution_count": 16,
     "metadata": {},
     "output_type": "execute_result"
    }
   ],
   "source": [
    "df.head()"
   ]
  },
  {
   "cell_type": "code",
   "execution_count": 17,
   "metadata": {},
   "outputs": [
    {
     "data": {
      "text/plain": [
       "array([0, 1], dtype=object)"
      ]
     },
     "execution_count": 17,
     "metadata": {},
     "output_type": "execute_result"
    }
   ],
   "source": [
    "df['label'].unique()"
   ]
  },
  {
   "cell_type": "code",
   "execution_count": 18,
   "metadata": {},
   "outputs": [],
   "source": [
    "df_train, df_val = train_test_split(df, test_size=0.3, random_state = 21)"
   ]
  },
  {
   "cell_type": "code",
   "execution_count": 19,
   "metadata": {},
   "outputs": [
    {
     "data": {
      "text/plain": [
       "0    80379\n",
       "1    78404\n",
       "Name: label, dtype: int64"
      ]
     },
     "execution_count": 19,
     "metadata": {},
     "output_type": "execute_result"
    }
   ],
   "source": [
    "df_train['label'].value_counts()"
   ]
  },
  {
   "cell_type": "code",
   "execution_count": 20,
   "metadata": {},
   "outputs": [
    {
     "data": {
      "text/plain": [
       "0    34532\n",
       "1    33519\n",
       "Name: label, dtype: int64"
      ]
     },
     "execution_count": 20,
     "metadata": {},
     "output_type": "execute_result"
    }
   ],
   "source": [
    "df_val['label'].value_counts()"
   ]
  },
  {
   "cell_type": "code",
   "execution_count": 21,
   "metadata": {},
   "outputs": [],
   "source": [
    "from string import punctuation\n",
    "from stop_words import get_stop_words\n",
    "from pymorphy2 import MorphAnalyzer\n",
    "import re"
   ]
  },
  {
   "cell_type": "code",
   "execution_count": 22,
   "metadata": {},
   "outputs": [],
   "source": [
    "sw = set(get_stop_words(\"ru\"))"
   ]
  },
  {
   "cell_type": "code",
   "execution_count": 23,
   "metadata": {},
   "outputs": [
    {
     "data": {
      "text/plain": [
       "{'!',\n",
       " '\"',\n",
       " '#',\n",
       " '$',\n",
       " '%',\n",
       " '&',\n",
       " \"'\",\n",
       " '(',\n",
       " ')',\n",
       " '*',\n",
       " '+',\n",
       " ',',\n",
       " '-',\n",
       " '.',\n",
       " '/',\n",
       " ':',\n",
       " ';',\n",
       " '<',\n",
       " '=',\n",
       " '>',\n",
       " '?',\n",
       " '@',\n",
       " '[',\n",
       " '\\\\',\n",
       " ']',\n",
       " '^',\n",
       " '_',\n",
       " '`',\n",
       " '{',\n",
       " '|',\n",
       " '}',\n",
       " '~'}"
      ]
     },
     "execution_count": 23,
     "metadata": {},
     "output_type": "execute_result"
    }
   ],
   "source": [
    "puncts = set(punctuation)\n",
    "puncts"
   ]
  },
  {
   "cell_type": "code",
   "execution_count": 24,
   "metadata": {},
   "outputs": [],
   "source": [
    "morpher = MorphAnalyzer()\n",
    "\n",
    "\n",
    "def preprocess_text(txt):\n",
    "    txt = str(txt)\n",
    "    txt = \"\".join(c for c in txt if c not in puncts or c == ')' or c == '(')\n",
    "    txt = txt.lower()\n",
    "#     txt = re.sub(\"no\\s\", \"not\", 'nore', txt)\n",
    "    txt = [morpher.parse(word)[0].normal_form for word in txt.split() if word not in sw]\n",
    "    for word in txt:\n",
    "        if '@' in word:\n",
    "            txt.remove(word)\n",
    "    return \" \".join(txt)"
   ]
  },
  {
   "cell_type": "code",
   "execution_count": 25,
   "metadata": {},
   "outputs": [
    {
     "name": "stderr",
     "output_type": "stream",
     "text": [
      "100%|██████████| 158783/158783 [01:33<00:00, 1692.51it/s]\n",
      "100%|██████████| 68051/68051 [00:41<00:00, 1626.73it/s]\n"
     ]
    }
   ],
   "source": [
    "from tqdm import tqdm \n",
    "tqdm.pandas()\n",
    "\n",
    "df_train['text'] = df_train['text'].progress_apply(preprocess_text)\n",
    "df_val['text'] = df_val['text'].progress_apply(preprocess_text)"
   ]
  },
  {
   "cell_type": "code",
   "execution_count": 26,
   "metadata": {},
   "outputs": [],
   "source": [
    "train_corpus = \" \".join(df_train[\"text\"])\n",
    "train_corpus = train_corpus.lower()"
   ]
  },
  {
   "cell_type": "code",
   "execution_count": 27,
   "metadata": {},
   "outputs": [
    {
     "name": "stderr",
     "output_type": "stream",
     "text": [
      "[nltk_data] Downloading package punkt to /home/ekaterina/nltk_data...\n",
      "[nltk_data]   Package punkt is already up-to-date!\n"
     ]
    }
   ],
   "source": [
    "import nltk\n",
    "from nltk.tokenize import word_tokenize\n",
    "nltk.download(\"punkt\")\n",
    "\n",
    "tokens = word_tokenize(train_corpus)"
   ]
  },
  {
   "cell_type": "code",
   "execution_count": 28,
   "metadata": {},
   "outputs": [],
   "source": [
    "tokens_filtered = [word for word in tokens if word.isalnum()]"
   ]
  },
  {
   "cell_type": "code",
   "execution_count": 29,
   "metadata": {},
   "outputs": [
    {
     "data": {
      "text/plain": [
       "1999"
      ]
     },
     "execution_count": 29,
     "metadata": {},
     "output_type": "execute_result"
    }
   ],
   "source": [
    "from nltk.probability import FreqDist\n",
    "\n",
    "dist = FreqDist(tokens_filtered)\n",
    "tokens_filtered_top = [pair[0] for pair in dist.most_common(max_words-1)]  # вычитание 1 для padding\n",
    "len(tokens_filtered_top)"
   ]
  },
  {
   "cell_type": "code",
   "execution_count": 30,
   "metadata": {},
   "outputs": [
    {
     "data": {
      "text/plain": [
       "{'rt': 1,\n",
       " 'd': 2,\n",
       " 'хотеть': 3,\n",
       " 'знать': 4,\n",
       " 'завтра': 5,\n",
       " 'новый': 6,\n",
       " 'мочь': 7,\n",
       " 'любить': 8,\n",
       " 'мой': 9,\n",
       " 'вообще': 10,\n",
       " 'день': 11,\n",
       " 'делать': 12,\n",
       " 'хороший': 13,\n",
       " 'смотреть': 14,\n",
       " 'думать': 15,\n",
       " 'блин': 16,\n",
       " 'идти': 17,\n",
       " 'самый': 18,\n",
       " 'спать': 19,\n",
       " '3': 20,\n",
       " 'сидеть': 21,\n",
       " 'один': 22,\n",
       " 'дом': 23,\n",
       " '2': 24,\n",
       " 'утро': 25,\n",
       " 'пойти': 26,\n",
       " 'сделать': 27,\n",
       " 'писать': 28,\n",
       " 'друг': 29,\n",
       " 'такой': 30,\n",
       " 'мама': 31,\n",
       " 'настроение': 32,\n",
       " 'школа': 33,\n",
       " 'человек': 34,\n",
       " 'час': 35,\n",
       " 'ждать': 36,\n",
       " 'любимый': 37,\n",
       " 'говорить': 38,\n",
       " 'написать': 39,\n",
       " 'никто': 40,\n",
       " 'последний': 41,\n",
       " 'хотеться': 42,\n",
       " 'посмотреть': 43,\n",
       " 'свой': 44,\n",
       " 'видеть': 45,\n",
       " 'добрый': 46,\n",
       " 'ночь': 47,\n",
       " 'прийти': 48,\n",
       " 'работа': 49,\n",
       " 'какой': 50,\n",
       " 'болеть': 51,\n",
       " 'купить': 52,\n",
       " 'чтоть': 53,\n",
       " 'найти': 54,\n",
       " 'вчера': 55,\n",
       " 'скоро': 56,\n",
       " 'понять': 57,\n",
       " 'неделя': 58,\n",
       " 'плохо': 59,\n",
       " 'давать': 60,\n",
       " 'понимать': 61,\n",
       " '9': 62,\n",
       " 'снег': 63,\n",
       " 'читать': 64,\n",
       " 'первый': 65,\n",
       " 'фильм': 66,\n",
       " 'оо': 67,\n",
       " 'домой': 68,\n",
       " 'голова': 69,\n",
       " 'забыть': 70,\n",
       " 'стать': 71,\n",
       " 'нравиться': 72,\n",
       " 'нет': 73,\n",
       " 'дело': 74,\n",
       " 'остаться': 75,\n",
       " 'твой': 76,\n",
       " 'работать': 77,\n",
       " 'жить': 78,\n",
       " 'урок': 79,\n",
       " 'что': 80,\n",
       " 'вечер': 81,\n",
       " 'ходить': 82,\n",
       " 'скучать': 83,\n",
       " '5': 84,\n",
       " 'нг': 85,\n",
       " 'телефон': 86,\n",
       " 'надеяться': 87,\n",
       " 'пара': 88,\n",
       " 'правда': 89,\n",
       " 'равно': 90,\n",
       " '4': 91,\n",
       " 'жаль': 92,\n",
       " 'ахах': 93,\n",
       " 'нужный': 94,\n",
       " 'дать': 95,\n",
       " 'сказать': 96,\n",
       " 'бля': 97,\n",
       " 'изз': 98,\n",
       " 'жизнь': 99,\n",
       " 'сон': 100,\n",
       " 'вроде': 101,\n",
       " 'сейчас': 102,\n",
       " '1': 103,\n",
       " 'слово': 104,\n",
       " 'песня': 105,\n",
       " 'наш': 106,\n",
       " 'новогодний': 107,\n",
       " 'парень': 108,\n",
       " 'увидеть': 109,\n",
       " 'твиттер': 110,\n",
       " 'улица': 111,\n",
       " 'рука': 112,\n",
       " 'твит': 113,\n",
       " 'х': 114,\n",
       " 'привет': 115,\n",
       " '10': 116,\n",
       " 'сразу': 117,\n",
       " 'точно': 118,\n",
       " 'место': 119,\n",
       " 'круто': 120,\n",
       " 'пройти': 121,\n",
       " 'фотка': 122,\n",
       " 'решить': 123,\n",
       " 'минута': 124,\n",
       " 'плохой': 125,\n",
       " 'ехать': 126,\n",
       " 'играть': 127,\n",
       " 'девушка': 128,\n",
       " 'помнить': 129,\n",
       " 'ахи': 130,\n",
       " 'слушать': 131,\n",
       " 'крутой': 132,\n",
       " 'рождение': 133,\n",
       " 'подарок': 134,\n",
       " 'выйти': 135,\n",
       " 'кстати': 136,\n",
       " 'приехать': 137,\n",
       " 'начать': 138,\n",
       " 'вопрос': 139,\n",
       " 'должный': 140,\n",
       " 'столько': 141,\n",
       " 'прям': 142,\n",
       " 'конец': 143,\n",
       " 'лента': 144,\n",
       " 'папа': 145,\n",
       " 'прийтись': 146,\n",
       " 'вк': 147,\n",
       " 'ненавидеть': 148,\n",
       " 'както': 149,\n",
       " 'наверное': 150,\n",
       " 'сильно': 151,\n",
       " 'взять': 152,\n",
       " 'выходной': 153,\n",
       " 'бог': 154,\n",
       " 'смочь': 155,\n",
       " 'че': 156,\n",
       " 'деньга': 157,\n",
       " 'месяц': 158,\n",
       " 'чувствовать': 159,\n",
       " 'бояться': 160,\n",
       " 'город': 161,\n",
       " 'класс': 162,\n",
       " 'стоить': 163,\n",
       " 'любовь': 164,\n",
       " 'интересно': 165,\n",
       " 'русский': 166,\n",
       " 'зима': 167,\n",
       " 'пиздец': 168,\n",
       " 'еда': 169,\n",
       " 'ребёнок': 170,\n",
       " 'глаз': 171,\n",
       " 'момент': 172,\n",
       " 'маленький': 173,\n",
       " 'целый': 174,\n",
       " 'блядь': 175,\n",
       " 'есть': 176,\n",
       " 'девочка': 177,\n",
       " 'фото': 178,\n",
       " 'жалко': 179,\n",
       " 'нога': 180,\n",
       " 'нормально': 181,\n",
       " 'ладный': 182,\n",
       " 'ужасно': 183,\n",
       " 'красивый': 184,\n",
       " 'гулять': 185,\n",
       " 'приятно': 186,\n",
       " 'серия': 187,\n",
       " 'экзамен': 188,\n",
       " 'простить': 189,\n",
       " 'уйти': 190,\n",
       " 'успеть': 191,\n",
       " 'меня': 192,\n",
       " 'отличный': 193,\n",
       " 'сходить': 194,\n",
       " 'ибо': 195,\n",
       " '8': 196,\n",
       " 'учить': 197,\n",
       " 'получить': 198,\n",
       " 'скучно': 199,\n",
       " 'музыка': 200,\n",
       " 'сука': 201,\n",
       " 'душа': 202,\n",
       " 'узнать': 203,\n",
       " 'ктоть': 204,\n",
       " 'проснуться': 205,\n",
       " 'большой': 206,\n",
       " 'россия': 207,\n",
       " 'ёлка': 208,\n",
       " 'чувство': 209,\n",
       " 'ребята': 210,\n",
       " 'начинать': 211,\n",
       " 'мир': 212,\n",
       " 'поставить': 213,\n",
       " 'понравиться': 214,\n",
       " 'раз': 215,\n",
       " 'так': 216,\n",
       " 'вспомнить': 217,\n",
       " 'праздник': 218,\n",
       " 'таки': 219,\n",
       " 'вместе': 220,\n",
       " 'норма': 221,\n",
       " 'история': 222,\n",
       " 'они': 223,\n",
       " 'поехать': 224,\n",
       " 'главное': 225,\n",
       " 'каникулы': 226,\n",
       " 'эх': 227,\n",
       " 'лето': 228,\n",
       " 'обидно': 229,\n",
       " 'dd': 230,\n",
       " 'игра': 231,\n",
       " 'счастие': 232,\n",
       " 'пусть': 233,\n",
       " 'к': 234,\n",
       " 'пить': 235,\n",
       " 'пол': 236,\n",
       " 'милый': 237,\n",
       " 'будет': 238,\n",
       " 'видео': 239,\n",
       " '6': 240,\n",
       " 'который': 241,\n",
       " 'проблема': 242,\n",
       " 'учиться': 243,\n",
       " 'быстро': 244,\n",
       " 'погода': 245,\n",
       " 'никак': 246,\n",
       " 'получиться': 247,\n",
       " 'полный': 248,\n",
       " 'подруга': 249,\n",
       " 'ага': 250,\n",
       " 'закончиться': 251,\n",
       " 'интересный': 252,\n",
       " 'интернет': 253,\n",
       " 'отлично': 254,\n",
       " 'классный': 255,\n",
       " 'поход': 256,\n",
       " 'каждый': 257,\n",
       " 'поэтому': 258,\n",
       " 'нету': 259,\n",
       " 'ой': 260,\n",
       " 'помочь': 261,\n",
       " 'б': 262,\n",
       " 'старый': 263,\n",
       " 'утром': 264,\n",
       " 'ахахи': 265,\n",
       " 'сдать': 266,\n",
       " 'голос': 267,\n",
       " 'пятница': 268,\n",
       " 'верить': 269,\n",
       " 'прекрасный': 270,\n",
       " 'плакать': 271,\n",
       " 'машина': 272,\n",
       " 'тип': 273,\n",
       " 'умереть': 274,\n",
       " 'брат': 275,\n",
       " 'новость': 276,\n",
       " 'понедельник': 277,\n",
       " 'уметь': 278,\n",
       " 'кот': 279,\n",
       " 'грустно': 280,\n",
       " 'устать': 281,\n",
       " 'родитель': 282,\n",
       " 'ть': 283,\n",
       " 'желание': 284,\n",
       " 'реально': 285,\n",
       " 'лицо': 286,\n",
       " 'боль': 287,\n",
       " 'вставать': 288,\n",
       " 'тема': 289,\n",
       " 'хватать': 290,\n",
       " 'следующий': 291,\n",
       " 'з': 292,\n",
       " 'пытаться': 293,\n",
       " '7': 294,\n",
       " 'ужасный': 295,\n",
       " 'группа': 296,\n",
       " 'офигенный': 297,\n",
       " 'рада': 298,\n",
       " 'начаться': 299,\n",
       " 'магазин': 300,\n",
       " 'план': 301,\n",
       " 'концерт': 302,\n",
       " 'встать': 303,\n",
       " 'капец': 304,\n",
       " 'зайти': 305,\n",
       " 'сезон': 306,\n",
       " 'мысль': 307,\n",
       " 'зачёт': 308,\n",
       " 'весело': 309,\n",
       " 'холодно': 310,\n",
       " 'собираться': 311,\n",
       " 'сериал': 312,\n",
       " 'дорога': 313,\n",
       " 'год': 314,\n",
       " 'скорее': 315,\n",
       " 'нормальный': 316,\n",
       " 'подумать': 317,\n",
       " 'др': 318,\n",
       " 'лень': 319,\n",
       " 'книга': 320,\n",
       " 'подарить': 321,\n",
       " 'заболеть': 322,\n",
       " 'нечего': 323,\n",
       " 'ох': 324,\n",
       " 'искать': 325,\n",
       " 'выходить': 326,\n",
       " 'москва': 327,\n",
       " 'обожать': 328,\n",
       " 'євромайдан': 329,\n",
       " 'второй': 330,\n",
       " 'бесить': 331,\n",
       " 'спасибо': 332,\n",
       " 'да': 333,\n",
       " 'было': 334,\n",
       " 'удача': 335,\n",
       " 'окно': 336,\n",
       " 'убить': 337,\n",
       " 'страшно': 338,\n",
       " 'всякий': 339,\n",
       " 'видимо': 340,\n",
       " 'счастливый': 341,\n",
       " 'никакой': 342,\n",
       " '20': 343,\n",
       " 'чувак': 344,\n",
       " 'ахахах': 345,\n",
       " 'мороз': 346,\n",
       " '15': 347,\n",
       " 'приходить': 348,\n",
       " 'сердце': 349,\n",
       " 'провести': 350,\n",
       " 'ааа': 351,\n",
       " 'учёба': 352,\n",
       " 'oo': 353,\n",
       " 'считать': 354,\n",
       " 'аж': 355,\n",
       " 'мозг': 356,\n",
       " 'заходить': 357,\n",
       " 'желать': 358,\n",
       " 'лежать': 359,\n",
       " 'сессия': 360,\n",
       " 'тви': 361,\n",
       " 'какойтый': 362,\n",
       " 'короче': 363,\n",
       " '0': 364,\n",
       " 'сила': 365,\n",
       " 'позвонить': 366,\n",
       " 'вернуться': 367,\n",
       " 'суббота': 368,\n",
       " 'женщина': 369,\n",
       " 'оказываться': 370,\n",
       " 'чай': 371,\n",
       " 'поздравлять': 372,\n",
       " 'ужас': 373,\n",
       " 'любой': 374,\n",
       " 'приятный': 375,\n",
       " 'тупой': 376,\n",
       " 'куча': 377,\n",
       " 'молодец': 378,\n",
       " 'близкий': 379,\n",
       " 'некоторый': 380,\n",
       " 'больно': 381,\n",
       " 'английский': 382,\n",
       " 'мужик': 383,\n",
       " 'жопа': 384,\n",
       " 'другой': 385,\n",
       " 'общаться': 386,\n",
       " 'тебя': 387,\n",
       " 'родный': 388,\n",
       " 'попасть': 389,\n",
       " 'комп': 390,\n",
       " 'хватить': 391,\n",
       " 'потерять': 392,\n",
       " 'мальчик': 393,\n",
       " 'рассказать': 394,\n",
       " 'вещь': 395,\n",
       " 'скорый': 396,\n",
       " 'вечером': 397,\n",
       " 'прочитать': 398,\n",
       " 'черта': 399,\n",
       " 'уехать': 400,\n",
       " '12': 401,\n",
       " 'брать': 402,\n",
       " 'правильно': 403,\n",
       " 'свет': 404,\n",
       " 'билет': 405,\n",
       " 'больший': 406,\n",
       " '30': 407,\n",
       " 'похоже': 408,\n",
       " 'готовый': 409,\n",
       " 'наверно': 410,\n",
       " 'хд': 411,\n",
       " 'вместо': 412,\n",
       " 'часть': 413,\n",
       " 'декабрь': 414,\n",
       " 'мужчина': 415,\n",
       " 'кофе': 416,\n",
       " 'звонить': 417,\n",
       " 'уснуть': 418,\n",
       " 'сайт': 419,\n",
       " '99': 420,\n",
       " 'сегодня': 421,\n",
       " 'детство': 422,\n",
       " 'ночью': 423,\n",
       " 'чёрный': 424,\n",
       " 'лечь': 425,\n",
       " 'честно': 426,\n",
       " 'печаль': 427,\n",
       " 'спокойный': 428,\n",
       " 'народ': 429,\n",
       " 'бабушка': 430,\n",
       " 'перестать': 431,\n",
       " 'страна': 432,\n",
       " 'температура': 433,\n",
       " 'уходить': 434,\n",
       " 'весёлый': 435,\n",
       " 'постоянно': 436,\n",
       " 'кино': 437,\n",
       " 'просить': 438,\n",
       " 'отвечать': 439,\n",
       " 'общий': 440,\n",
       " 'вид': 441,\n",
       " 'я': 442,\n",
       " 'выспаться': 443,\n",
       " 'оказаться': 444,\n",
       " 'хах': 445,\n",
       " 'номер': 446,\n",
       " 'послать': 447,\n",
       " 'готовиться': 448,\n",
       " 'ваш': 449,\n",
       " 'ставить': 450,\n",
       " 'настоящий': 451,\n",
       " 'хорошо': 452,\n",
       " 'дорогой': 453,\n",
       " 'слышать': 454,\n",
       " 'наконецтый': 455,\n",
       " 'ответ': 456,\n",
       " 'заметить': 457,\n",
       " 'случай': 458,\n",
       " 'единственный': 459,\n",
       " 'сестра': 460,\n",
       " 'смысл': 461,\n",
       " 'ич': 462,\n",
       " 'быстрый': 463,\n",
       " 'время': 464,\n",
       " 'все': 465,\n",
       " 'забрать': 466,\n",
       " 'получаться': 467,\n",
       " 'письмо': 468,\n",
       " 'ура': 469,\n",
       " 'надоесть': 470,\n",
       " 'обещать': 471,\n",
       " 'квартира': 472,\n",
       " 'придумать': 473,\n",
       " 'открыть': 474,\n",
       " 'ответить': 475,\n",
       " 'говно': 476,\n",
       " 'петь': 477,\n",
       " 'надо': 478,\n",
       " 'жена': 479,\n",
       " 'смешно': 480,\n",
       " 'физика': 481,\n",
       " 'готовить': 482,\n",
       " 'лох': 483,\n",
       " 'ddd': 484,\n",
       " 'огромный': 485,\n",
       " 'разный': 486,\n",
       " 'поговорить': 487,\n",
       " 'каток': 488,\n",
       " 'рабочий': 489,\n",
       " 'половина': 490,\n",
       " 'появиться': 491,\n",
       " 'волос': 492,\n",
       " 'соскучиться': 493,\n",
       " 'сторона': 494,\n",
       " 'слеза': 495,\n",
       " 'семья': 496,\n",
       " 'замечательный': 497,\n",
       " 'картинка': 498,\n",
       " 'настя': 499,\n",
       " 'спросить': 500,\n",
       " 'танец': 501,\n",
       " 'погулять': 502,\n",
       " 'безумно': 503,\n",
       " 'вода': 504,\n",
       " '11': 505,\n",
       " 'остальной': 506,\n",
       " 'даа': 507,\n",
       " 'мечта': 508,\n",
       " 'попробовать': 509,\n",
       " 'супер': 510,\n",
       " 'показать': 511,\n",
       " 'добро': 512,\n",
       " 'либо': 513,\n",
       " 'покупать': 514,\n",
       " 'заниматься': 515,\n",
       " 'звать': 516,\n",
       " 'знаю': 517,\n",
       " 'иметь': 518,\n",
       " 'a': 519,\n",
       " 'обязательно': 520,\n",
       " 'пропустить': 521,\n",
       " 'печально': 522,\n",
       " 'радость': 523,\n",
       " 'бегать': 524,\n",
       " 'похожий': 525,\n",
       " 'странный': 526,\n",
       " 'могу': 527,\n",
       " 'кинуть': 528,\n",
       " 'сообщение': 529,\n",
       " 'начало': 530,\n",
       " 'упасть': 531,\n",
       " 'бедный': 532,\n",
       " 'помощь': 533,\n",
       " 'встретить': 534,\n",
       " 'сдавать': 535,\n",
       " 'спасть': 536,\n",
       " '100': 537,\n",
       " 'идиот': 538,\n",
       " 'итог': 539,\n",
       " 'сниться': 540,\n",
       " 'ощущение': 541,\n",
       " 'начинаться': 542,\n",
       " 'январь': 543,\n",
       " 'автобус': 544,\n",
       " 'вспоминать': 545,\n",
       " 'оставаться': 546,\n",
       " 'ващий': 547,\n",
       " 'радовать': 548,\n",
       " 'саша': 549,\n",
       " 'вернуть': 550,\n",
       " 'пост': 551,\n",
       " 'страшный': 552,\n",
       " 'представлять': 553,\n",
       " 'обратно': 554,\n",
       " 'право': 555,\n",
       " 'нос': 556,\n",
       " 'дождь': 557,\n",
       " 'сегодняшний': 558,\n",
       " 'химия': 559,\n",
       " 'стоять': 560,\n",
       " 'прислать': 561,\n",
       " 'жрать': 562,\n",
       " 'майдан': 563,\n",
       " 'знакомый': 564,\n",
       " '13': 565,\n",
       " 'сильный': 566,\n",
       " 'хочу': 567,\n",
       " 'собака': 568,\n",
       " 'шк': 569,\n",
       " 'ездить': 570,\n",
       " 'комната': 571,\n",
       " 'ради': 572,\n",
       " 'фотография': 573,\n",
       " 'как': 574,\n",
       " 'кушать': 575,\n",
       " 'прямо': 576,\n",
       " 'сладкий': 577,\n",
       " 'ум': 578,\n",
       " 'весь': 579,\n",
       " 'повод': 580,\n",
       " 'становиться': 581,\n",
       " 'называть': 582,\n",
       " 'горло': 583,\n",
       " 'видно': 584,\n",
       " 'оставить': 585,\n",
       " 'стыдно': 586,\n",
       " 'то': 587,\n",
       " 'состояние': 588,\n",
       " 'странно': 589,\n",
       " 'ооо': 590,\n",
       " 'язык': 591,\n",
       " 'красный': 592,\n",
       " 'ретвит': 593,\n",
       " 'хуй': 594,\n",
       " 'фигня': 595,\n",
       " 'сложно': 596,\n",
       " 'универ': 597,\n",
       " 'классно': 598,\n",
       " 'понятно': 599,\n",
       " 'же': 600,\n",
       " 'настолько': 601,\n",
       " 'зря': 602,\n",
       " 'испортить': 603,\n",
       " 'курс': 604,\n",
       " 'встреча': 605,\n",
       " 'поздно': 606,\n",
       " 'тебе': 607,\n",
       " 'муж': 608,\n",
       " 'аааа': 609,\n",
       " 'дед': 610,\n",
       " 'лола': 611,\n",
       " 'возможно': 612,\n",
       " 'lt3': 613,\n",
       " 'ничего': 614,\n",
       " 'мило': 615,\n",
       " 'тренировка': 616,\n",
       " 'скинуть': 617,\n",
       " 'одноклассник': 618,\n",
       " 'ь': 619,\n",
       " 'вести': 620,\n",
       " 'метро': 621,\n",
       " 'происходить': 622,\n",
       " 'шикарный': 623,\n",
       " 'лёгкий': 624,\n",
       " 'простой': 625,\n",
       " 'белый': 626,\n",
       " 'выглядеть': 627,\n",
       " 'уже': 628,\n",
       " 'кровать': 629,\n",
       " 'всетаки': 630,\n",
       " 'ах': 631,\n",
       " 'очередной': 632,\n",
       " 'follow': 633,\n",
       " 'пробка': 634,\n",
       " 'нахуй': 635,\n",
       " 'тяжёлый': 636,\n",
       " 'страница': 637,\n",
       " 'число': 638,\n",
       " 'стол': 639,\n",
       " 'палец': 640,\n",
       " 'идея': 641,\n",
       " 'л': 642,\n",
       " 'вкусный': 643,\n",
       " 'прошлый': 644,\n",
       " 'попросить': 645,\n",
       " 'украина': 646,\n",
       " 'тёплый': 647,\n",
       " 'контрольный': 648,\n",
       " 'проходить': 649,\n",
       " 'больница': 650,\n",
       " 'встретиться': 651,\n",
       " 'ток': 652,\n",
       " 'разговаривать': 653,\n",
       " 'наушник': 654,\n",
       " 'поднять': 655,\n",
       " 'дура': 656,\n",
       " 'уезжать': 657,\n",
       " 'дома': 658,\n",
       " 'ложиться': 659,\n",
       " 'tukvasociopat': 660,\n",
       " 'живой': 661,\n",
       " 'съесть': 662,\n",
       " 'около': 663,\n",
       " 'показывать': 664,\n",
       " 'сожаление': 665,\n",
       " 'жуйк': 666,\n",
       " 'гость': 667,\n",
       " 'жизньболь': 668,\n",
       " 'оч': 669,\n",
       " 'очень': 670,\n",
       " 'мечтать': 671,\n",
       " 'ктонибыть': 672,\n",
       " 'отдать': 673,\n",
       " 'шок': 674,\n",
       " 'поздравить': 675,\n",
       " 'питер': 676,\n",
       " 'радоваться': 677,\n",
       " 'приезжать': 678,\n",
       " 'кароч': 679,\n",
       " 'удалить': 680,\n",
       " 'везти': 681,\n",
       " 'путин': 682,\n",
       " 'проспать': 683,\n",
       " 'оценка': 684,\n",
       " 'тепло': 685,\n",
       " 'платье': 686,\n",
       " 'вчерашний': 687,\n",
       " 'спрашивать': 688,\n",
       " 'дааа': 689,\n",
       " 'гдеть': 690,\n",
       " 'называться': 691,\n",
       " 'сломать': 692,\n",
       " 'алгебра': 693,\n",
       " 'болит': 694,\n",
       " 'школу': 695,\n",
       " 'учитель': 696,\n",
       " 'достать': 697,\n",
       " 'молодёжка': 698,\n",
       " 'киев': 699,\n",
       " 'баба': 700,\n",
       " 'тоже': 701,\n",
       " 'тяжело': 702,\n",
       " 'кататься': 703,\n",
       " 'увы': 704,\n",
       " 'хрен': 705,\n",
       " 'отношение': 706,\n",
       " 'присниться': 707,\n",
       " 'быть': 708,\n",
       " 'менять': 709,\n",
       " 'хуйня': 710,\n",
       " 'заставить': 711,\n",
       " 'реклама': 712,\n",
       " 'почемуть': 713,\n",
       " 'красиво': 714,\n",
       " 'послушать': 715,\n",
       " 'q': 716,\n",
       " 'катя': 717,\n",
       " 'ппц': 718,\n",
       " 'смеяться': 719,\n",
       " 'откуда': 720,\n",
       " 'вариант': 721,\n",
       " 'просыпаться': 722,\n",
       " 'цвет': 723,\n",
       " 'выздоравливать': 724,\n",
       " 'мать': 725,\n",
       " 'тт': 726,\n",
       " 'статус': 727,\n",
       " 'волгоград': 728,\n",
       " 'коготь': 729,\n",
       " 'жизни': 730,\n",
       " 'отправить': 731,\n",
       " 'назвать': 732,\n",
       " 'ссылка': 733,\n",
       " 'воскресение': 734,\n",
       " 'танцевать': 735,\n",
       " 'вечно': 736,\n",
       " 'жесть': 737,\n",
       " 'просто': 738,\n",
       " 'пацан': 739,\n",
       " 'сюда': 740,\n",
       " 'разговор': 741,\n",
       " 'принести': 742,\n",
       " 'фу': 743,\n",
       " 'забывать': 744,\n",
       " 'ухо': 745,\n",
       " 'читатель': 746,\n",
       " 'например': 747,\n",
       " 'случиться': 748,\n",
       " 'нь': 749,\n",
       " 'дождаться': 750,\n",
       " 'личный': 751,\n",
       " 'о': 752,\n",
       " 'главный': 753,\n",
       " 'поиграть': 754,\n",
       " 'альбом': 755,\n",
       " 'кровь': 756,\n",
       " 'выучить': 757,\n",
       " 'красота': 758,\n",
       " 'это': 759,\n",
       " 'врач': 760,\n",
       " 'рассказывать': 761,\n",
       " 'бросить': 762,\n",
       " 'штука': 763,\n",
       " 'ааааа': 764,\n",
       " 'инет': 765,\n",
       " 'список': 766,\n",
       " 'сутки': 767,\n",
       " 'память': 768,\n",
       " 'включить': 769,\n",
       " 'олимпиада': 770,\n",
       " 'даша': 771,\n",
       " 'судить': 772,\n",
       " 'случайно': 773,\n",
       " 'фига': 774,\n",
       " 'зимний': 775,\n",
       " 'ожидать': 776,\n",
       " 'впервые': 777,\n",
       " 'держать': 778,\n",
       " 'поспать': 779,\n",
       " 'ржать': 780,\n",
       " 'помогать': 781,\n",
       " 'кошка': 782,\n",
       " 'ошибка': 783,\n",
       " 'неужели': 784,\n",
       " '111213': 785,\n",
       " 'подряд': 786,\n",
       " 'добавить': 787,\n",
       " 'господь': 788,\n",
       " 'какаять': 789,\n",
       " 'пиво': 790,\n",
       " 'тож': 791,\n",
       " 'компания': 792,\n",
       " 'рубль': 793,\n",
       " 'детский': 794,\n",
       " 'больной': 795,\n",
       " 'рад': 796,\n",
       " 'ноут': 797,\n",
       " 'тупо': 798,\n",
       " 'собраться': 799,\n",
       " 'проводить': 800,\n",
       " 'поесть': 801,\n",
       " 'teamfollowback': 802,\n",
       " 'злой': 803,\n",
       " 'дойти': 804,\n",
       " 'грустный': 805,\n",
       " 'фраза': 806,\n",
       " 'контакт': 807,\n",
       " 'рисовать': 808,\n",
       " 'шутка': 809,\n",
       " 'сосед': 810,\n",
       " 'сеть': 811,\n",
       " 'бл': 812,\n",
       " 'физр': 813,\n",
       " 'футбол': 814,\n",
       " 'переживать': 815,\n",
       " 'gt': 816,\n",
       " 'встречать': 817,\n",
       " 'выпить': 818,\n",
       " 'четверг': 819,\n",
       " 'иначе': 820,\n",
       " 'мне': 821,\n",
       " 'снежок': 822,\n",
       " '40': 823,\n",
       " 'идеальный': 824,\n",
       " 'отдыхать': 825,\n",
       " 'шапка': 826,\n",
       " 'причина': 827,\n",
       " 'почитать': 828,\n",
       " 'айфон': 829,\n",
       " 'чтонибыть': 830,\n",
       " 'чудо': 831,\n",
       " 'хрень': 832,\n",
       " '2014': 833,\n",
       " 'сложный': 834,\n",
       " 'помоему': 835,\n",
       " 'команда': 836,\n",
       " 'устроить': 837,\n",
       " 'минь': 838,\n",
       " 'спокойно': 839,\n",
       " 'зимой': 840,\n",
       " 'решать': 841,\n",
       " 'обед': 842,\n",
       " 'очередь': 843,\n",
       " 'mtvstars': 844,\n",
       " 'ситуация': 845,\n",
       " 'срочно': 846,\n",
       " '50': 847,\n",
       " 'пользоваться': 848,\n",
       " 'редко': 849,\n",
       " 'улыбка': 850,\n",
       " 'вот': 851,\n",
       " 'умный': 852,\n",
       " 'центр': 853,\n",
       " 'хз': 854,\n",
       " 'привыкнуть': 855,\n",
       " 'название': 856,\n",
       " 'здорово': 857,\n",
       " 'вкус': 858,\n",
       " 'тело': 859,\n",
       " 'скучаю': 860,\n",
       " 'the': 861,\n",
       " 'весна': 862,\n",
       " 'дня': 863,\n",
       " 'загадать': 864,\n",
       " 'ахахахах': 865,\n",
       " 'збс': 866,\n",
       " 'і': 867,\n",
       " 'нравится': 868,\n",
       " 'обычный': 869,\n",
       " 'полностью': 870,\n",
       " 'скачать': 871,\n",
       " 'напомнить': 872,\n",
       " 'ахаха': 873,\n",
       " 'извинить': 874,\n",
       " 'подойти': 875,\n",
       " 'получать': 876,\n",
       " 'пропасть': 877,\n",
       " 'серьёзно': 878,\n",
       " 'умирать': 879,\n",
       " 'трудно': 880,\n",
       " 'ciooptimal': 881,\n",
       " 'smampgt': 882,\n",
       " 'чета': 883,\n",
       " 'звонок': 884,\n",
       " 'отдохнуть': 885,\n",
       " 'разбудить': 886,\n",
       " 'судьба': 887,\n",
       " 'курить': 888,\n",
       " 'дарить': 889,\n",
       " 'смешной': 890,\n",
       " 'возможность': 891,\n",
       " 'особо': 892,\n",
       " 'причём': 893,\n",
       " 'бывать': 894,\n",
       " '25': 895,\n",
       " 'почта': 896,\n",
       " 'секс': 897,\n",
       " 'посидеть': 898,\n",
       " 'пароль': 899,\n",
       " '18': 900,\n",
       " 'страдать': 901,\n",
       " 'спина': 902,\n",
       " 'цена': 903,\n",
       " 'российский': 904,\n",
       " 'жутко': 905,\n",
       " 'стараться': 906,\n",
       " 'завидовать': 907,\n",
       " 'типо': 908,\n",
       " 'огонь': 909,\n",
       " 'пизда': 910,\n",
       " 'ты': 911,\n",
       " 'свободный': 912,\n",
       " 'приходиться': 913,\n",
       " 'хочется': 914,\n",
       " 'стих': 915,\n",
       " 'результат': 916,\n",
       " 'согласный': 917,\n",
       " 'живот': 918,\n",
       " 'снимать': 919,\n",
       " 'солнце': 920,\n",
       " 'продолжать': 921,\n",
       " 'третий': 922,\n",
       " 'счёт': 923,\n",
       " 'геометрия': 924,\n",
       " 'рот': 925,\n",
       " 'удачный': 926,\n",
       " 'матч': 927,\n",
       " 'херня': 928,\n",
       " 'юм': 929,\n",
       " 'представить': 930,\n",
       " 'люблю': 931,\n",
       " 'лететь': 932,\n",
       " 'многие': 933,\n",
       " 'повезти': 934,\n",
       " 'наоборот': 935,\n",
       " 'отмечать': 936,\n",
       " 'улыбаться': 937,\n",
       " 'тест': 938,\n",
       " 'похуй': 939,\n",
       " 'блять': 940,\n",
       " 'предлагать': 941,\n",
       " 'вика': 942,\n",
       " 'минус': 943,\n",
       " 'внимание': 944,\n",
       " 'создать': 945,\n",
       " 'шерлок': 946,\n",
       " 'специально': 947,\n",
       " 'заставлять': 948,\n",
       " 'заказать': 949,\n",
       " 'кончиться': 950,\n",
       " 'виноватый': 951,\n",
       " '2013': 952,\n",
       " 'ска': 953,\n",
       " 'его': 954,\n",
       " '23': 955,\n",
       " 'выбор': 956,\n",
       " 'буду': 957,\n",
       " 'слава': 958,\n",
       " 'зал': 959,\n",
       " 'впереди': 960,\n",
       " 'дико': 961,\n",
       " 'сын': 962,\n",
       " 'забить': 963,\n",
       " 'ад': 964,\n",
       " 'нифига': 965,\n",
       " 'выбрать': 966,\n",
       " 'домашний': 967,\n",
       " 'среда': 968,\n",
       " 'здоровье': 969,\n",
       " '14': 970,\n",
       " 'зуб': 971,\n",
       " 'качество': 972,\n",
       " 'мелкий': 973,\n",
       " 'кошмар': 974,\n",
       " 'совершенно': 975,\n",
       " 'явно': 976,\n",
       " 'падать': 977,\n",
       " 'запись': 978,\n",
       " 'ахахахи': 979,\n",
       " 'победитель': 980,\n",
       " 'клуб': 981,\n",
       " 'пипец': 982,\n",
       " 'закончить': 983,\n",
       " 'малый': 984,\n",
       " 'внезапно': 985,\n",
       " 'выиграть': 986,\n",
       " 'горячий': 987,\n",
       " 'текст': 988,\n",
       " 'игрушка': 989,\n",
       " 'серый': 990,\n",
       " 'дверь': 991,\n",
       " '16': 992,\n",
       " 'захотеть': 993,\n",
       " 'высокий': 994,\n",
       " 'плюс': 995,\n",
       " 'карта': 996,\n",
       " 'онлайн': 997,\n",
       " 'клип': 998,\n",
       " 'пздца': 999,\n",
       " 'приложение': 1000,\n",
       " ...}"
      ]
     },
     "execution_count": 30,
     "metadata": {},
     "output_type": "execute_result"
    }
   ],
   "source": [
    "vocabulary = {v: k for k, v in dict(enumerate(tokens_filtered_top, 1)).items()}\n",
    "vocabulary"
   ]
  },
  {
   "cell_type": "code",
   "execution_count": 31,
   "metadata": {},
   "outputs": [],
   "source": [
    "import numpy as np\n",
    "\n",
    "\n",
    "def text_to_sequence(text, maxlen):\n",
    "    result = []\n",
    "    tokens = word_tokenize(text.lower())\n",
    "    tokens_filtered = [word for word in tokens if word.isalnum()]\n",
    "    for word in tokens_filtered:\n",
    "        if word in vocabulary:\n",
    "            result.append(vocabulary[word])\n",
    "\n",
    "    padding = [0] * (maxlen-len(result))\n",
    "    return result[-maxlen:] + padding"
   ]
  },
  {
   "cell_type": "code",
   "execution_count": 32,
   "metadata": {},
   "outputs": [
    {
     "name": "stdout",
     "output_type": "stream",
     "text": [
      "CPU times: user 13.7 s, sys: 48 ms, total: 13.7 s\n",
      "Wall time: 13.7 s\n"
     ]
    }
   ],
   "source": [
    "%%time\n",
    "x_train = np.asarray([text_to_sequence(text, max_len) for text in df_train[\"text\"]])\n",
    "x_val = np.asarray([text_to_sequence(text, max_len) for text in df_val[\"text\"]])"
   ]
  },
  {
   "cell_type": "code",
   "execution_count": 33,
   "metadata": {},
   "outputs": [],
   "source": [
    "import torch\n",
    "import torch.nn as nn\n",
    "import torch.nn.functional as F\n",
    "\n",
    "\n",
    "class Net(nn.Module):\n",
    "    def __init__(self, vocab_size=2000, embedding_dim=128, out_channel=128, num_classes=1):\n",
    "        super().__init__()\n",
    "        self.embedding = nn.Embedding(vocab_size, embedding_dim)\n",
    "        self.conv_1 = nn.Conv1d(embedding_dim, out_channel, kernel_size=2)\n",
    "        self.conv_2 = nn.Conv1d(embedding_dim, out_channel, kernel_size=3)\n",
    "        self.pool = nn.MaxPool1d(2)\n",
    "        self.relu = nn.ReLU()\n",
    "        self.linear_1 = nn.Linear(out_channel, out_channel // 2)\n",
    "        self.linear_2 = nn.Linear(out_channel // 2, num_classes)\n",
    "        \n",
    "    def forward(self, x):        \n",
    "        output = self.embedding(x) # B, L, E\n",
    "        #                       B  E  L         \n",
    "        output = output.permute(0, 2, 1)\n",
    "        output = self.conv_1(output)\n",
    "        output = self.relu(output)\n",
    "        output = self.pool(output)\n",
    "\n",
    "        output = self.conv_2(output)\n",
    "        output = self.relu(output)\n",
    "        output = self.pool(output)\n",
    "        output = torch.max(output, axis=2).values\n",
    "        output = self.linear_1(output)\n",
    "        output = self.relu(output)\n",
    "        output = self.linear_2(output)\n",
    "        output = F.sigmoid(output)\n",
    "        return output"
   ]
  },
  {
   "cell_type": "code",
   "execution_count": 34,
   "metadata": {},
   "outputs": [],
   "source": [
    "from torch.utils.data import DataLoader, Dataset\n",
    "\n",
    "\n",
    "class DataWrapper(Dataset):\n",
    "    def __init__(self, data, target, transform=None):\n",
    "        self.data = torch.from_numpy(data).long()\n",
    "        self.target = torch.from_numpy(target).long()\n",
    "        self.transform = transform\n",
    "        \n",
    "    def __getitem__(self, index):\n",
    "        x = self.data[index]\n",
    "        y = self.target[index]\n",
    "        \n",
    "        if self.transform:\n",
    "            x = self.transform(x)\n",
    "            \n",
    "        return x, y\n",
    "    \n",
    "    def __len__(self):\n",
    "        return len(self.data)"
   ]
  },
  {
   "cell_type": "code",
   "execution_count": 35,
   "metadata": {},
   "outputs": [],
   "source": [
    "df_train['label'] = df_train['label'].astype(int)\n",
    "df_val['label'] = df_val['label'].astype(int)"
   ]
  },
  {
   "cell_type": "code",
   "execution_count": 36,
   "metadata": {},
   "outputs": [],
   "source": [
    "train_dataset = DataWrapper(x_train, df_train['label'].values)\n",
    "train_loader = DataLoader(train_dataset, batch_size=batch_size, shuffle=True)\n",
    "\n",
    "val_dataset = DataWrapper(x_val, df_val['label'].values)\n",
    "val_loader = DataLoader(val_dataset, batch_size=8, shuffle=True)"
   ]
  },
  {
   "cell_type": "code",
   "execution_count": 37,
   "metadata": {},
   "outputs": [
    {
     "data": {
      "text/plain": [
       "'cpu'"
      ]
     },
     "execution_count": 37,
     "metadata": {},
     "output_type": "execute_result"
    }
   ],
   "source": [
    "model = Net(vocab_size=max_words)\n",
    "\n",
    "device = 'cuda' if torch.cuda.is_available() else 'cpu'\n",
    "device"
   ]
  },
  {
   "cell_type": "code",
   "execution_count": 38,
   "metadata": {},
   "outputs": [
    {
     "name": "stdout",
     "output_type": "stream",
     "text": [
      "Net(\n",
      "  (embedding): Embedding(2000, 128)\n",
      "  (conv_1): Conv1d(128, 128, kernel_size=(2,), stride=(1,))\n",
      "  (conv_2): Conv1d(128, 128, kernel_size=(3,), stride=(1,))\n",
      "  (pool): MaxPool1d(kernel_size=2, stride=2, padding=0, dilation=1, ceil_mode=False)\n",
      "  (relu): ReLU()\n",
      "  (linear_1): Linear(in_features=128, out_features=64, bias=True)\n",
      "  (linear_2): Linear(in_features=64, out_features=1, bias=True)\n",
      ")\n",
      "Parameters: 346497\n"
     ]
    }
   ],
   "source": [
    "print(model)\n",
    "print(\"Parameters:\", sum([param.nelement() for param in model.parameters()]))"
   ]
  },
  {
   "cell_type": "code",
   "execution_count": 39,
   "metadata": {},
   "outputs": [],
   "source": [
    "optimizer = torch.optim.Adam(model.parameters(), lr=0.01 )\n",
    "criterion = nn.BCELoss()"
   ]
  },
  {
   "cell_type": "code",
   "execution_count": 42,
   "metadata": {},
   "outputs": [
    {
     "name": "stdout",
     "output_type": "stream",
     "text": [
      "Epoch [1/20]. Step [311/311]. Loss: 0.479. Acc: 0.766. Test loss: 0.716. Test acc: 0.690\n",
      "Epoch [2/20]. Step [311/311]. Loss: 0.427. Acc: 0.781. Test loss: 0.468. Test acc: 0.686\n",
      "Epoch [3/20]. Step [311/311]. Loss: 0.422. Acc: 0.797. Test loss: 0.432. Test acc: 0.683\n",
      "Epoch [4/20]. Step [311/311]. Loss: 0.355. Acc: 0.812. Test loss: 1.913. Test acc: 0.680\n",
      "Epoch [5/20]. Step [311/311]. Loss: 0.382. Acc: 0.824. Test loss: 2.295. Test acc: 0.679\n",
      "Epoch [6/20]. Step [311/311]. Loss: 0.264. Acc: 0.834. Test loss: 0.945. Test acc: 0.681\n",
      "Epoch [7/20]. Step [311/311]. Loss: 0.211. Acc: 0.844. Test loss: 0.514. Test acc: 0.679\n",
      "Epoch [8/20]. Step [311/311]. Loss: 0.339. Acc: 0.853. Test loss: 0.275. Test acc: 0.673\n",
      "Epoch [9/20]. Step [311/311]. Loss: 0.308. Acc: 0.859. Test loss: 1.468. Test acc: 0.679\n",
      "Epoch [10/20]. Step [311/311]. Loss: 0.273. Acc: 0.866. Test loss: 0.652. Test acc: 0.675\n",
      "Epoch [11/20]. Step [311/311]. Loss: 0.210. Acc: 0.872. Test loss: 2.909. Test acc: 0.671\n",
      "Epoch [12/20]. Step [311/311]. Loss: 0.322. Acc: 0.877. Test loss: 1.539. Test acc: 0.671\n",
      "Epoch [13/20]. Step [311/311]. Loss: 0.268. Acc: 0.879. Test loss: 0.277. Test acc: 0.672\n",
      "Epoch [14/20]. Step [311/311]. Loss: 0.153. Acc: 0.884. Test loss: 2.611. Test acc: 0.670\n",
      "Epoch [15/20]. Step [311/311]. Loss: 0.170. Acc: 0.887. Test loss: 0.359. Test acc: 0.675\n",
      "Epoch [16/20]. Step [311/311]. Loss: 0.177. Acc: 0.890. Test loss: 6.582. Test acc: 0.674\n",
      "Epoch [17/20]. Step [311/311]. Loss: 0.158. Acc: 0.892. Test loss: 0.001. Test acc: 0.671\n",
      "Epoch [18/20]. Step [311/311]. Loss: 0.110. Acc: 0.893. Test loss: 0.175. Test acc: 0.673\n",
      "Epoch [19/20]. Step [311/311]. Loss: 0.225. Acc: 0.894. Test loss: 0.209. Test acc: 0.670\n",
      "Epoch [20/20]. Step [311/311]. Loss: 0.143. Acc: 0.896. Test loss: 0.215. Test acc: 0.671\n",
      "Training is finished!\n"
     ]
    }
   ],
   "source": [
    "model = model.to(device)\n",
    "model.train()\n",
    "th = 0.5\n",
    "\n",
    "train_loss_history = []\n",
    "test_loss_history = []\n",
    "\n",
    "\n",
    "for epoch in range(epochs):  \n",
    "    running_items, running_right = 0.0, 0.0\n",
    "    for i, data in enumerate(train_loader, 0):\n",
    "        inputs, labels = data[0].to(device), data[1].to(device)\n",
    "        \n",
    "        # обнуляем градиент\n",
    "        optimizer.zero_grad()\n",
    "        outputs = model(inputs)\n",
    "        \n",
    "        loss = criterion(outputs, labels.float().view(-1, 1))\n",
    "        loss.backward()\n",
    "        optimizer.step()\n",
    "\n",
    "        # подсчет ошибки на обучении\n",
    "        loss = loss.item()\n",
    "        running_items += len(labels)\n",
    "        # подсчет метрики на обучении\n",
    "        pred_labels = torch.squeeze((outputs > th).int())\n",
    "        running_right += (labels == pred_labels).sum()\n",
    "        \n",
    "    # выводим статистику о процессе обучения\n",
    "    model.eval()\n",
    "    \n",
    "    print(f'Epoch [{epoch + 1}/{epochs}]. ' \\\n",
    "            f'Step [{i + 1}/{len(train_loader)}]. ' \\\n",
    "            f'Loss: {loss:.3f}. ' \\\n",
    "            f'Acc: {running_right / running_items:.3f}', end='. ')\n",
    "    running_loss, running_items, running_right = 0.0, 0.0, 0.0\n",
    "    train_loss_history.append(loss)\n",
    "\n",
    "        # выводим статистику на тестовых данных\n",
    "    test_running_right, test_running_total, test_loss = 0.0, 0.0, 0.0\n",
    "    for j, data in enumerate(val_loader):\n",
    "        test_labels = data[1].to(device)\n",
    "        test_outputs = model(data[0].to(device))\n",
    "        \n",
    "        # подсчет ошибки на тесте\n",
    "        test_loss = criterion(test_outputs, test_labels.float().view(-1, 1))\n",
    "        # подсчет метрики на тесте\n",
    "        test_running_total += len(data[1])\n",
    "        pred_test_labels = torch.squeeze((test_outputs > th).int())\n",
    "        test_running_right += (test_labels == pred_test_labels).sum()\n",
    "    \n",
    "    test_loss_history.append(test_loss.item())\n",
    "    print(f'Test loss: {test_loss:.3f}. Test acc: {test_running_right / test_running_total:.3f}')\n",
    "    \n",
    "    model.train()\n",
    "        \n",
    "print('Training is finished!')"
   ]
  },
  {
   "cell_type": "markdown",
   "metadata": {},
   "source": [
    "Вывод: сеть тренируется, но присутствует переобучение. Показатель accuracy растет на трейне, но не растет на тесте"
   ]
  },
  {
   "cell_type": "code",
   "execution_count": null,
   "metadata": {},
   "outputs": [],
   "source": []
  },
  {
   "cell_type": "code",
   "execution_count": null,
   "metadata": {},
   "outputs": [],
   "source": []
  },
  {
   "cell_type": "code",
   "execution_count": null,
   "metadata": {},
   "outputs": [],
   "source": []
  },
  {
   "cell_type": "code",
   "execution_count": null,
   "metadata": {},
   "outputs": [],
   "source": []
  }
 ],
 "metadata": {
  "colab": {
   "collapsed_sections": [
    "gJABxhalLVQu",
    "IaQMCGHFLVQ6",
    "5AJk1B39LVRP",
    "RJlvqWuALVRs",
    "rck5OVqhLVSA",
    "mV3fmzp-LVSU",
    "H5THCOjMLVSg",
    "02s2Vh7MLVSj",
    "b1khxRFDLVSm",
    "sfUmWcAQLVSt",
    "BxvtN-3zLVS5",
    "gyrHhYkgLVTB"
   ],
   "name": "sem1_intro_common.ipynb",
   "provenance": []
  },
  "kernelspec": {
   "display_name": "Python 3 (ipykernel)",
   "language": "python",
   "name": "python3"
  },
  "language_info": {
   "codemirror_mode": {
    "name": "ipython",
    "version": 3
   },
   "file_extension": ".py",
   "mimetype": "text/x-python",
   "name": "python",
   "nbconvert_exporter": "python",
   "pygments_lexer": "ipython3",
   "version": "3.9.12"
  }
 },
 "nbformat": 4,
 "nbformat_minor": 1
}
