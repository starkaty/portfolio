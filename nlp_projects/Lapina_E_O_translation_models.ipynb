{
 "cells": [
  {
   "cell_type": "markdown",
   "metadata": {
    "id": "J0Qjg6vuaHNt"
   },
   "source": [
    "# Neural machine translation"
   ]
  },
  {
   "cell_type": "markdown",
   "metadata": {},
   "source": [
    "Задача:\n",
    "запустить модель для перевода с русского на английский"
   ]
  },
  {
   "cell_type": "code",
   "execution_count": 30,
   "metadata": {
    "id": "tnxXKDjq3jEL"
   },
   "outputs": [],
   "source": [
    "import tensorflow as tf\n",
    "\n",
    "import matplotlib.pyplot as plt\n",
    "import matplotlib.ticker as ticker\n",
    "from sklearn.model_selection import train_test_split\n",
    "\n",
    "import unicodedata\n",
    "import re\n",
    "import numpy as np\n",
    "import os\n",
    "import io\n",
    "import time"
   ]
  },
  {
   "cell_type": "markdown",
   "metadata": {
    "id": "wfodePkj3jEa"
   },
   "source": [
    "## Download and prepare the dataset\n",
    "\n",
    "We'll use a language dataset provided by http://www.manythings.org/anki/"
   ]
  },
  {
   "cell_type": "code",
   "execution_count": 31,
   "metadata": {
    "colab": {
     "base_uri": "https://localhost:8080/"
    },
    "executionInfo": {
     "elapsed": 5156,
     "status": "ok",
     "timestamp": 1619789089261,
     "user": {
      "displayName": "Roman Zakharov",
      "photoUrl": "",
      "userId": "18255168926005506833"
     },
     "user_tz": -180
    },
    "id": "CNvjhDyAKk3U",
    "outputId": "3166c525-fc56-4fd1-92b2-2f1ac4ac18a6"
   },
   "outputs": [],
   "source": [
    "# !wget http://www.manythings.org/anki/rus-eng.zip"
   ]
  },
  {
   "cell_type": "code",
   "execution_count": 32,
   "metadata": {
    "colab": {
     "base_uri": "https://localhost:8080/"
    },
    "executionInfo": {
     "elapsed": 1813,
     "status": "ok",
     "timestamp": 1619789098992,
     "user": {
      "displayName": "Roman Zakharov",
      "photoUrl": "",
      "userId": "18255168926005506833"
     },
     "user_tz": -180
    },
    "id": "83bg17Lr-7XK",
    "outputId": "91ec0134-b351-4d0a-c8ac-215affefed97"
   },
   "outputs": [],
   "source": [
    "# !mkdir rus-eng\n",
    "# !unzip rus-eng.zip -d rus-eng/"
   ]
  },
  {
   "cell_type": "code",
   "execution_count": 33,
   "metadata": {
    "colab": {
     "base_uri": "https://localhost:8080/"
    },
    "executionInfo": {
     "elapsed": 1166,
     "status": "ok",
     "timestamp": 1619789101916,
     "user": {
      "displayName": "Roman Zakharov",
      "photoUrl": "",
      "userId": "18255168926005506833"
     },
     "user_tz": -180
    },
    "id": "7o5L92efMMhf",
    "outputId": "6ac53232-05f5-449b-8cfc-e0dda693d57f"
   },
   "outputs": [],
   "source": [
    "# !ls rus-eng/ -lah"
   ]
  },
  {
   "cell_type": "code",
   "execution_count": 34,
   "metadata": {
    "id": "kRVATYOgJs1b"
   },
   "outputs": [],
   "source": [
    "# Download the file\n",
    "path_to_file = \"rus-eng/rus.txt\""
   ]
  },
  {
   "cell_type": "code",
   "execution_count": 35,
   "metadata": {
    "id": "rd0jw-eC3jEh"
   },
   "outputs": [],
   "source": [
    "def preprocess_sentence(w):\n",
    "  w = w.lower().strip()\n",
    "\n",
    "  # creating a space between a word and the punctuation following it\n",
    "  # eg: \"he is a boy.\" => \"he is a boy .\"\n",
    "  # Reference:- https://stackoverflow.com/questions/3645931/python-padding-punctuation-with-white-spaces-keeping-punctuation\n",
    "  w = re.sub(r\"([?.!,])\", r\" \\1 \", w)\n",
    "  w = re.sub(r'[\" \"]+', \" \", w)\n",
    "\n",
    "  # replacing everything with space except (a-z, A-Z, \".\", \"?\", \"!\", \",\")\n",
    "  w = re.sub(r\"[^a-zA-Zа-яА-Я?.!,']+\", \" \", w)\n",
    "\n",
    "  w = w.strip()\n",
    "\n",
    "  # adding a start and an end token to the sentence\n",
    "  # so that the model know when to start and stop predicting.\n",
    "  w = '<start> ' + w + ' <end>'\n",
    "  return w"
   ]
  },
  {
   "cell_type": "code",
   "execution_count": 36,
   "metadata": {
    "colab": {
     "base_uri": "https://localhost:8080/",
     "height": 35
    },
    "executionInfo": {
     "elapsed": 865,
     "status": "ok",
     "timestamp": 1619789112313,
     "user": {
      "displayName": "Roman Zakharov",
      "photoUrl": "",
      "userId": "18255168926005506833"
     },
     "user_tz": -180
    },
    "id": "yV9lZXQXNbnH",
    "outputId": "2f509965-ecec-4988-cffa-09ab9f954f13"
   },
   "outputs": [
    {
     "data": {
      "text/plain": [
       "\"<start> i can't go . <end>\""
      ]
     },
     "execution_count": 36,
     "metadata": {},
     "output_type": "execute_result"
    }
   ],
   "source": [
    "preprocess_sentence(\"I can't go.\")"
   ]
  },
  {
   "cell_type": "code",
   "execution_count": 37,
   "metadata": {
    "id": "OHn4Dct23jEm"
   },
   "outputs": [],
   "source": [
    "# 1. Remove the accents\n",
    "# 2. Clean the sentences\n",
    "# 3. Return word pairs in the format: [ENG, RUS]\n",
    "def create_dataset(path, num_examples):\n",
    "  lines = io.open(path, encoding='UTF-8').read().strip().split('\\n')\n",
    "\n",
    "  word_pairs = [[preprocess_sentence(w) for w in l.split('\\t')[:2]]  for l in lines[:num_examples]]\n",
    "\n",
    "  return zip(*word_pairs)"
   ]
  },
  {
   "cell_type": "code",
   "execution_count": 38,
   "metadata": {
    "colab": {
     "base_uri": "https://localhost:8080/"
    },
    "executionInfo": {
     "elapsed": 12954,
     "status": "ok",
     "timestamp": 1619808083270,
     "user": {
      "displayName": "Roman Zakharov",
      "photoUrl": "",
      "userId": "18255168926005506833"
     },
     "user_tz": -180
    },
    "id": "cTbSbBz55QtF",
    "outputId": "5a5b0b4e-da16-4483-8e56-5e07fd79f0bf"
   },
   "outputs": [
    {
     "name": "stdout",
     "output_type": "stream",
     "text": [
      "<start> go . <end>\n",
      "<start> марш ! <end>\n"
     ]
    }
   ],
   "source": [
    "en, ru = create_dataset(path_to_file, None)\n",
    "print(en[0])\n",
    "print(ru[0])"
   ]
  },
  {
   "cell_type": "code",
   "execution_count": 39,
   "metadata": {
    "id": "bIOn8RCNDJXG"
   },
   "outputs": [],
   "source": [
    "def tokenize(lang):\n",
    "  lang_tokenizer = tf.keras.preprocessing.text.Tokenizer(\n",
    "      filters='')\n",
    "  lang_tokenizer.fit_on_texts(lang)\n",
    "\n",
    "  tensor = lang_tokenizer.texts_to_sequences(lang)\n",
    "\n",
    "  tensor = tf.keras.preprocessing.sequence.pad_sequences(tensor,\n",
    "                                                         padding='post')\n",
    "\n",
    "  return tensor, lang_tokenizer"
   ]
  },
  {
   "cell_type": "code",
   "execution_count": 40,
   "metadata": {
    "id": "eAY9k49G3jE_"
   },
   "outputs": [],
   "source": [
    "def load_dataset(path, num_examples=None):\n",
    "  # creating cleaned input, output pairs\n",
    "  targ_lang, inp_lang = create_dataset(path, num_examples)\n",
    "\n",
    "  input_tensor, inp_lang_tokenizer = tokenize(inp_lang)\n",
    "  target_tensor, targ_lang_tokenizer = tokenize(targ_lang)\n",
    "\n",
    "  return input_tensor, target_tensor, inp_lang_tokenizer, targ_lang_tokenizer"
   ]
  },
  {
   "cell_type": "markdown",
   "metadata": {
    "id": "GOi42V79Ydlr"
   },
   "source": [
    "### Limit the size of the dataset to experiment faster (optional)\n"
   ]
  },
  {
   "cell_type": "code",
   "execution_count": 41,
   "metadata": {
    "colab": {
     "base_uri": "https://localhost:8080/"
    },
    "executionInfo": {
     "elapsed": 1074,
     "status": "ok",
     "timestamp": 1619789980135,
     "user": {
      "displayName": "Roman Zakharov",
      "photoUrl": "",
      "userId": "18255168926005506833"
     },
     "user_tz": -180
    },
    "id": "C8j9g9AnIeZV",
    "outputId": "510da3ec-5a6d-49b9-a0da-29c693f1aec5"
   },
   "outputs": [
    {
     "data": {
      "text/plain": [
       "(487600, 487600)"
      ]
     },
     "execution_count": 41,
     "metadata": {},
     "output_type": "execute_result"
    }
   ],
   "source": [
    "len(en), len(ru)"
   ]
  },
  {
   "cell_type": "code",
   "execution_count": 42,
   "metadata": {
    "id": "cnxC7q-j3jFD"
   },
   "outputs": [],
   "source": [
    "# Try experimenting with the size of that dataset\n",
    "num_examples = 50000\n",
    "input_tensor, target_tensor, inp_lang, targ_lang = load_dataset(path_to_file, num_examples)\n",
    "\n",
    "# Calculate max_length of the target tensors\n",
    "max_length_targ, max_length_inp = target_tensor.shape[1], input_tensor.shape[1]"
   ]
  },
  {
   "cell_type": "code",
   "execution_count": 43,
   "metadata": {},
   "outputs": [
    {
     "data": {
      "text/plain": [
       "array([[   1, 4062,   17, ...,    0,    0,    0],\n",
       "       [   1,  117,    3, ...,    0,    0,    0],\n",
       "       [   1,  161,    3, ...,    0,    0,    0],\n",
       "       ...,\n",
       "       [   1,  787,   43, ...,    0,    0,    0],\n",
       "       [   1,   18,  423, ...,    0,    0,    0],\n",
       "       [   1,   18,  423, ...,    0,    0,    0]], dtype=int32)"
      ]
     },
     "execution_count": 43,
     "metadata": {},
     "output_type": "execute_result"
    }
   ],
   "source": [
    "input_tensor"
   ]
  },
  {
   "cell_type": "code",
   "execution_count": 54,
   "metadata": {},
   "outputs": [
    {
     "data": {
      "text/plain": [
       "array([   1, 2746,   17,    2,    0,    0,    0,    0,    0,    0,    0,\n",
       "          0], dtype=int32)"
      ]
     },
     "execution_count": 54,
     "metadata": {},
     "output_type": "execute_result"
    }
   ],
   "source": [
    "input_tensor[10]"
   ]
  },
  {
   "cell_type": "code",
   "execution_count": 55,
   "metadata": {
    "colab": {
     "base_uri": "https://localhost:8080/"
    },
    "executionInfo": {
     "elapsed": 854,
     "status": "ok",
     "timestamp": 1619790003654,
     "user": {
      "displayName": "Roman Zakharov",
      "photoUrl": "",
      "userId": "18255168926005506833"
     },
     "user_tz": -180
    },
    "id": "4QILQkOs3jFG",
    "outputId": "ddc672e5-2231-4985-b550-2dbddd4468b9"
   },
   "outputs": [
    {
     "name": "stdout",
     "output_type": "stream",
     "text": [
      "40000 40000 10000 10000\n"
     ]
    }
   ],
   "source": [
    "# Creating training and validation sets using an 80-20 split\n",
    "input_tensor_train, input_tensor_val, target_tensor_train, target_tensor_val = train_test_split(input_tensor, target_tensor, test_size=0.2)\n",
    "\n",
    "# Show length\n",
    "print(len(input_tensor_train), len(target_tensor_train), len(input_tensor_val), len(target_tensor_val))"
   ]
  },
  {
   "cell_type": "code",
   "execution_count": 57,
   "metadata": {
    "id": "lJPmLZGMeD5q"
   },
   "outputs": [],
   "source": [
    "def convert(lang, tensor):\n",
    "  for t in tensor:\n",
    "    if t!=0:\n",
    "      print (\"%d ----> %s\" % (t, lang.index_word[t]))"
   ]
  },
  {
   "cell_type": "code",
   "execution_count": 58,
   "metadata": {
    "colab": {
     "base_uri": "https://localhost:8080/"
    },
    "executionInfo": {
     "elapsed": 762,
     "status": "ok",
     "timestamp": 1619790005935,
     "user": {
      "displayName": "Roman Zakharov",
      "photoUrl": "",
      "userId": "18255168926005506833"
     },
     "user_tz": -180
    },
    "id": "VXukARTDd7MT",
    "outputId": "a3606064-f48d-4e81-94d5-9c30d5e90ae6"
   },
   "outputs": [
    {
     "name": "stdout",
     "output_type": "stream",
     "text": [
      "Input Language; index to word mapping\n",
      "1 ----> <start>\n",
      "104 ----> дайте\n",
      "10 ----> мне\n",
      "1443 ----> молока\n",
      "3 ----> .\n",
      "2 ----> <end>\n",
      "\n",
      "Target Language; index to word mapping\n",
      "1 ----> <start>\n",
      "82 ----> give\n",
      "12 ----> me\n",
      "145 ----> some\n",
      "412 ----> milk\n",
      "3 ----> .\n",
      "2 ----> <end>\n"
     ]
    }
   ],
   "source": [
    "print (\"Input Language; index to word mapping\")\n",
    "convert(inp_lang, input_tensor_train[0])\n",
    "print ()\n",
    "print (\"Target Language; index to word mapping\")\n",
    "convert(targ_lang, target_tensor_train[0])"
   ]
  },
  {
   "cell_type": "markdown",
   "metadata": {
    "id": "rgCLkfv5uO3d"
   },
   "source": [
    "### Create a tf.data dataset"
   ]
  },
  {
   "cell_type": "code",
   "execution_count": 59,
   "metadata": {
    "id": "TqHsArVZ3jFS"
   },
   "outputs": [],
   "source": [
    "BUFFER_SIZE = len(input_tensor_train)\n",
    "BATCH_SIZE = 64\n",
    "steps_per_epoch = len(input_tensor_train)//BATCH_SIZE\n",
    "embedding_dim = 300\n",
    "units = 1024\n",
    "vocab_inp_size = len(inp_lang.word_index)+1\n",
    "vocab_tar_size = len(targ_lang.word_index)+1\n",
    "\n",
    "dataset = tf.data.Dataset.from_tensor_slices((input_tensor_train, target_tensor_train)).shuffle(BUFFER_SIZE)\n",
    "dataset = dataset.batch(BATCH_SIZE, drop_remainder=True)"
   ]
  },
  {
   "cell_type": "code",
   "execution_count": 60,
   "metadata": {
    "colab": {
     "base_uri": "https://localhost:8080/"
    },
    "executionInfo": {
     "elapsed": 1279,
     "status": "ok",
     "timestamp": 1619790037553,
     "user": {
      "displayName": "Roman Zakharov",
      "photoUrl": "",
      "userId": "18255168926005506833"
     },
     "user_tz": -180
    },
    "id": "qc6-NK1GtWQt",
    "outputId": "5f42bae2-eefc-492f-f5c5-ad5215d549cf"
   },
   "outputs": [
    {
     "data": {
      "text/plain": [
       "(TensorShape([64, 12]), TensorShape([64, 9]))"
      ]
     },
     "execution_count": 60,
     "metadata": {},
     "output_type": "execute_result"
    }
   ],
   "source": [
    "example_input_batch, example_target_batch = next(iter(dataset))\n",
    "example_input_batch.shape, example_target_batch.shape"
   ]
  },
  {
   "cell_type": "code",
   "execution_count": 61,
   "metadata": {
    "id": "nZ2rI24i3jFg"
   },
   "outputs": [],
   "source": [
    "class Encoder(tf.keras.Model):\n",
    "  def __init__(self, vocab_size, embedding_dim, enc_units, batch_sz):\n",
    "    super(Encoder, self).__init__()\n",
    "    self.batch_sz = batch_sz\n",
    "    self.enc_units = enc_units\n",
    "    self.embedding = tf.keras.layers.Embedding(vocab_size, embedding_dim)\n",
    "    self.gru = tf.keras.layers.GRU(self.enc_units,\n",
    "                                   return_sequences=False,\n",
    "                                   return_state=True,\n",
    "                                   recurrent_initializer='glorot_uniform')\n",
    "    \n",
    "\n",
    "  def call(self, x, hidden):\n",
    "    x = self.embedding(x)\n",
    "    output, state = self.gru(x, initial_state = hidden)\n",
    "    return state\n",
    "\n",
    "  def initialize_hidden_state(self):\n",
    "    return tf.zeros((self.batch_sz, self.enc_units))"
   ]
  },
  {
   "cell_type": "code",
   "execution_count": 62,
   "metadata": {
    "colab": {
     "base_uri": "https://localhost:8080/"
    },
    "executionInfo": {
     "elapsed": 27335,
     "status": "ok",
     "timestamp": 1619790133885,
     "user": {
      "displayName": "Roman Zakharov",
      "photoUrl": "",
      "userId": "18255168926005506833"
     },
     "user_tz": -180
    },
    "id": "60gSVh05Jl6l",
    "outputId": "4eaa568c-966c-4a9b-895d-4d5e22d20e3c"
   },
   "outputs": [
    {
     "name": "stdout",
     "output_type": "stream",
     "text": [
      "Encoder Hidden state shape: (batch size, units) (64, 1024)\n"
     ]
    }
   ],
   "source": [
    "encoder = Encoder(vocab_inp_size, embedding_dim, units, BATCH_SIZE)\n",
    "\n",
    "# sample input\n",
    "sample_hidden = encoder.initialize_hidden_state()\n",
    "sample_hidden = encoder(example_input_batch, sample_hidden)\n",
    "# print ('Encoder output shape: (batch size, sequence length, units) {}'.format(sample_output.shape))\n",
    "print ('Encoder Hidden state shape: (batch size, units) {}'.format(sample_hidden.shape))"
   ]
  },
  {
   "cell_type": "code",
   "execution_count": 63,
   "metadata": {
    "id": "yJ_B3mhW3jFk"
   },
   "outputs": [],
   "source": [
    "class Decoder(tf.keras.Model):\n",
    "  def __init__(self, vocab_size, embedding_dim, dec_units, batch_sz):\n",
    "    super(Decoder, self).__init__()\n",
    "    self.batch_sz = batch_sz\n",
    "    self.dec_units = dec_units\n",
    "    self.embedding = tf.keras.layers.Embedding(vocab_size, embedding_dim)\n",
    "    self.gru = tf.keras.layers.GRU(self.dec_units,\n",
    "                                   return_sequences=True,\n",
    "                                   return_state=True,\n",
    "                                   recurrent_initializer='glorot_uniform')\n",
    "    self.fc = tf.keras.layers.Dense(vocab_size)\n",
    "\n",
    "  def call(self, x, hidden):\n",
    "    # enc_output shape == (batch_size, max_length, hidden_size)\n",
    "\n",
    "    # x shape after passing through embedding == (batch_size, 1, embedding_dim)\n",
    "    x = self.embedding(x)\n",
    "\n",
    "    # x shape after concatenation == (batch_size, 1, embedding_dim + hidden_size)\n",
    "\n",
    "    # passing the concatenated vector to the GRU\n",
    "    output, state = self.gru(x, initial_state=hidden)\n",
    "\n",
    "    # output shape == (batch_size * 1, hidden_size)\n",
    "    output = tf.reshape(output, (-1, output.shape[2]))\n",
    "\n",
    "    # output shape == (batch_size, vocab)\n",
    "    x = self.fc(output)\n",
    "\n",
    "    return x, state"
   ]
  },
  {
   "cell_type": "code",
   "execution_count": 64,
   "metadata": {
    "id": "P5UY8wko3jFp"
   },
   "outputs": [],
   "source": [
    "decoder = Decoder(vocab_tar_size, embedding_dim, units, BATCH_SIZE)\n",
    "\n",
    "decoder_sample_x, decoder_sample_h = decoder(tf.random.uniform((BATCH_SIZE, 1)),\n",
    "                                      sample_hidden)\n",
    "\n"
   ]
  },
  {
   "cell_type": "code",
   "execution_count": 65,
   "metadata": {
    "colab": {
     "base_uri": "https://localhost:8080/"
    },
    "executionInfo": {
     "elapsed": 955,
     "status": "ok",
     "timestamp": 1619791577723,
     "user": {
      "displayName": "Roman Zakharov",
      "photoUrl": "",
      "userId": "18255168926005506833"
     },
     "user_tz": -180
    },
    "id": "XKcypC0AGeLR",
    "outputId": "6f51f5ef-6d92-4933-d202-e2d512cbba37"
   },
   "outputs": [
    {
     "data": {
      "text/plain": [
       "TensorShape([64, 5019])"
      ]
     },
     "execution_count": 65,
     "metadata": {},
     "output_type": "execute_result"
    }
   ],
   "source": [
    "decoder_sample_x.shape"
   ]
  },
  {
   "cell_type": "code",
   "execution_count": 66,
   "metadata": {
    "colab": {
     "base_uri": "https://localhost:8080/"
    },
    "executionInfo": {
     "elapsed": 726,
     "status": "ok",
     "timestamp": 1619791547930,
     "user": {
      "displayName": "Roman Zakharov",
      "photoUrl": "",
      "userId": "18255168926005506833"
     },
     "user_tz": -180
    },
    "id": "6y0HF-zMF_vp",
    "outputId": "69a0893f-61c6-40c5-bce6-5911c3c4355b"
   },
   "outputs": [
    {
     "data": {
      "text/plain": [
       "TensorShape([64, 1024])"
      ]
     },
     "execution_count": 66,
     "metadata": {},
     "output_type": "execute_result"
    }
   ],
   "source": [
    "decoder_sample_h.shape"
   ]
  },
  {
   "cell_type": "markdown",
   "metadata": {
    "id": "_ch_71VbIRfK"
   },
   "source": [
    "## Define the optimizer and the loss function"
   ]
  },
  {
   "cell_type": "code",
   "execution_count": 67,
   "metadata": {
    "id": "WmTHr5iV3jFr"
   },
   "outputs": [],
   "source": [
    "optimizer = tf.keras.optimizers.Adam()\n",
    "\n",
    "loss_object = tf.keras.losses.SparseCategoricalCrossentropy(\n",
    "    from_logits=True, reduction='none')\n",
    "\n",
    "def loss_function(real, pred):\n",
    "  mask = tf.math.logical_not(tf.math.equal(real, 0))\n",
    "  loss_ = loss_object(real, pred)\n",
    "\n",
    "  mask = tf.cast(mask, dtype=loss_.dtype)\n",
    "  loss_ *= mask\n",
    "\n",
    "  return tf.reduce_mean(loss_)"
   ]
  },
  {
   "cell_type": "markdown",
   "metadata": {
    "id": "DMVWzzsfNl4e"
   },
   "source": [
    "## Checkpoints (Object-based saving)"
   ]
  },
  {
   "cell_type": "code",
   "execution_count": 68,
   "metadata": {
    "id": "Zj8bXQTgNwrF"
   },
   "outputs": [],
   "source": [
    "checkpoint_dir = './training_nmt_checkpoints'\n",
    "\n",
    "checkpoint_prefix = os.path.join(checkpoint_dir, \"ckpt\")\n",
    "\n",
    "checkpoint = tf.train.Checkpoint(optimizer=optimizer,\n",
    "                                 encoder=encoder,\n",
    "                                 decoder=decoder)"
   ]
  },
  {
   "cell_type": "code",
   "execution_count": 69,
   "metadata": {
    "id": "sC9ArXSsVfqn"
   },
   "outputs": [],
   "source": [
    "@tf.function\n",
    "def train_step(inp, targ, enc_hidden):\n",
    "  loss = 0\n",
    "\n",
    "  with tf.GradientTape() as tape:\n",
    "    enc_hidden = encoder(inp, enc_hidden)\n",
    "\n",
    "    dec_hidden = enc_hidden\n",
    "\n",
    "    dec_input = tf.expand_dims([targ_lang.word_index['<start>']] * BATCH_SIZE, 1)\n",
    "\n",
    "    # Teacher forcing - feeding the target as the next input\n",
    "    for t in range(1, targ.shape[1]):\n",
    "      # passing enc_output to the decoder\n",
    "      predictions, dec_hidden = decoder(dec_input, dec_hidden)\n",
    "\n",
    "      loss += loss_function(targ[:, t], predictions)\n",
    "\n",
    "      # using teacher forcing\n",
    "      dec_input = tf.expand_dims(targ[:, t], 1)\n",
    "\n",
    "  batch_loss = (loss / int(targ.shape[1]))\n",
    "\n",
    "  variables = encoder.trainable_variables + decoder.trainable_variables\n",
    "\n",
    "  gradients = tape.gradient(loss, variables)\n",
    "\n",
    "  optimizer.apply_gradients(zip(gradients, variables))\n",
    "\n",
    "  return batch_loss"
   ]
  },
  {
   "cell_type": "code",
   "execution_count": 70,
   "metadata": {
    "colab": {
     "base_uri": "https://localhost:8080/"
    },
    "executionInfo": {
     "elapsed": 10943081,
     "status": "ok",
     "timestamp": 1619803077637,
     "user": {
      "displayName": "Roman Zakharov",
      "photoUrl": "",
      "userId": "18255168926005506833"
     },
     "user_tz": -180
    },
    "id": "ddefjBMa3jF0",
    "outputId": "b54245db-e06a-46b0-edc0-fab6afaba17a"
   },
   "outputs": [
    {
     "name": "stdout",
     "output_type": "stream",
     "text": [
      "Epoch 1 Batch 0 Loss 5.0303\n",
      "Epoch 1 Batch 100 Loss 2.0781\n",
      "Epoch 1 Batch 200 Loss 1.7734\n",
      "Epoch 1 Batch 300 Loss 1.6702\n",
      "Epoch 1 Batch 400 Loss 1.4006\n",
      "Epoch 1 Batch 500 Loss 1.3395\n",
      "Epoch 1 Batch 600 Loss 1.2421\n",
      "Epoch 1 Loss 1.7244\n",
      "Time taken for 1 epoch 236.60418438911438 sec\n",
      "\n",
      "Epoch 2 Batch 0 Loss 1.1382\n",
      "Epoch 2 Batch 100 Loss 0.9609\n",
      "Epoch 2 Batch 200 Loss 0.9584\n",
      "Epoch 2 Batch 300 Loss 1.0316\n",
      "Epoch 2 Batch 400 Loss 0.9909\n",
      "Epoch 2 Batch 500 Loss 0.9382\n",
      "Epoch 2 Batch 600 Loss 0.8574\n",
      "Epoch 2 Loss 0.9675\n",
      "Time taken for 1 epoch 232.31511807441711 sec\n",
      "\n",
      "Epoch 3 Batch 0 Loss 0.6271\n",
      "Epoch 3 Batch 100 Loss 0.5569\n",
      "Epoch 3 Batch 200 Loss 0.5698\n",
      "Epoch 3 Batch 300 Loss 0.5215\n",
      "Epoch 3 Batch 400 Loss 0.6280\n",
      "Epoch 3 Batch 500 Loss 0.6025\n",
      "Epoch 3 Batch 600 Loss 0.6118\n",
      "Epoch 3 Loss 0.5736\n",
      "Time taken for 1 epoch 231.92418384552002 sec\n",
      "\n",
      "Epoch 4 Batch 0 Loss 0.3075\n",
      "Epoch 4 Batch 100 Loss 0.3251\n",
      "Epoch 4 Batch 200 Loss 0.3016\n",
      "Epoch 4 Batch 300 Loss 0.3659\n",
      "Epoch 4 Batch 400 Loss 0.2874\n",
      "Epoch 4 Batch 500 Loss 0.3301\n",
      "Epoch 4 Batch 600 Loss 0.3588\n",
      "Epoch 4 Loss 0.3389\n",
      "Time taken for 1 epoch 233.12708806991577 sec\n",
      "\n",
      "Epoch 5 Batch 0 Loss 0.2050\n",
      "Epoch 5 Batch 100 Loss 0.1394\n",
      "Epoch 5 Batch 200 Loss 0.2475\n",
      "Epoch 5 Batch 300 Loss 0.2334\n",
      "Epoch 5 Batch 400 Loss 0.1821\n",
      "Epoch 5 Batch 500 Loss 0.2194\n",
      "Epoch 5 Batch 600 Loss 0.2800\n",
      "Epoch 5 Loss 0.2115\n",
      "Time taken for 1 epoch 242.88612508773804 sec\n",
      "\n",
      "Epoch 6 Batch 0 Loss 0.0993\n",
      "Epoch 6 Batch 100 Loss 0.1531\n",
      "Epoch 6 Batch 200 Loss 0.1530\n",
      "Epoch 6 Batch 300 Loss 0.1630\n",
      "Epoch 6 Batch 400 Loss 0.1188\n",
      "Epoch 6 Batch 500 Loss 0.1966\n",
      "Epoch 6 Batch 600 Loss 0.1460\n",
      "Epoch 6 Loss 0.1453\n",
      "Time taken for 1 epoch 270.74673199653625 sec\n",
      "\n",
      "Epoch 7 Batch 0 Loss 0.0893\n",
      "Epoch 7 Batch 100 Loss 0.0887\n",
      "Epoch 7 Batch 200 Loss 0.1053\n",
      "Epoch 7 Batch 300 Loss 0.0696\n",
      "Epoch 7 Batch 400 Loss 0.1085\n",
      "Epoch 7 Batch 500 Loss 0.1590\n",
      "Epoch 7 Batch 600 Loss 0.1231\n",
      "Epoch 7 Loss 0.1128\n",
      "Time taken for 1 epoch 248.67568492889404 sec\n",
      "\n",
      "Epoch 8 Batch 0 Loss 0.1080\n",
      "Epoch 8 Batch 100 Loss 0.0980\n",
      "Epoch 8 Batch 200 Loss 0.1551\n",
      "Epoch 8 Batch 300 Loss 0.1002\n",
      "Epoch 8 Batch 400 Loss 0.1238\n",
      "Epoch 8 Batch 500 Loss 0.1472\n",
      "Epoch 8 Batch 600 Loss 0.0848\n",
      "Epoch 8 Loss 0.1004\n",
      "Time taken for 1 epoch 242.7417814731598 sec\n",
      "\n",
      "Epoch 9 Batch 0 Loss 0.1139\n",
      "Epoch 9 Batch 100 Loss 0.0817\n",
      "Epoch 9 Batch 200 Loss 0.1261\n",
      "Epoch 9 Batch 300 Loss 0.0938\n",
      "Epoch 9 Batch 400 Loss 0.0979\n",
      "Epoch 9 Batch 500 Loss 0.0697\n",
      "Epoch 9 Batch 600 Loss 0.0919\n",
      "Epoch 9 Loss 0.0929\n",
      "Time taken for 1 epoch 242.333642244339 sec\n",
      "\n",
      "Epoch 10 Batch 0 Loss 0.0614\n",
      "Epoch 10 Batch 100 Loss 0.0645\n",
      "Epoch 10 Batch 200 Loss 0.0840\n",
      "Epoch 10 Batch 300 Loss 0.0850\n",
      "Epoch 10 Batch 400 Loss 0.0771\n",
      "Epoch 10 Batch 500 Loss 0.0707\n",
      "Epoch 10 Batch 600 Loss 0.0963\n",
      "Epoch 10 Loss 0.0883\n",
      "Time taken for 1 epoch 242.59507179260254 sec\n",
      "\n",
      "Epoch 11 Batch 0 Loss 0.0478\n",
      "Epoch 11 Batch 100 Loss 0.0571\n",
      "Epoch 11 Batch 200 Loss 0.0295\n",
      "Epoch 11 Batch 300 Loss 0.1178\n",
      "Epoch 11 Batch 400 Loss 0.0846\n",
      "Epoch 11 Batch 500 Loss 0.1328\n",
      "Epoch 11 Batch 600 Loss 0.0884\n",
      "Epoch 11 Loss 0.0852\n",
      "Time taken for 1 epoch 240.54614853858948 sec\n",
      "\n",
      "Epoch 12 Batch 0 Loss 0.0850\n",
      "Epoch 12 Batch 100 Loss 0.0513\n",
      "Epoch 12 Batch 200 Loss 0.0539\n",
      "Epoch 12 Batch 300 Loss 0.1098\n",
      "Epoch 12 Batch 400 Loss 0.0686\n",
      "Epoch 12 Batch 500 Loss 0.1338\n",
      "Epoch 12 Batch 600 Loss 0.0873\n",
      "Epoch 12 Loss 0.0833\n",
      "Time taken for 1 epoch 238.53876733779907 sec\n",
      "\n",
      "Epoch 13 Batch 0 Loss 0.1001\n",
      "Epoch 13 Batch 100 Loss 0.0426\n",
      "Epoch 13 Batch 200 Loss 0.0799\n",
      "Epoch 13 Batch 300 Loss 0.0783\n",
      "Epoch 13 Batch 400 Loss 0.0760\n",
      "Epoch 13 Batch 500 Loss 0.0716\n",
      "Epoch 13 Batch 600 Loss 0.1252\n",
      "Epoch 13 Loss 0.0813\n",
      "Time taken for 1 epoch 232.36058473587036 sec\n",
      "\n",
      "Epoch 14 Batch 0 Loss 0.0665\n",
      "Epoch 14 Batch 100 Loss 0.0463\n",
      "Epoch 14 Batch 200 Loss 0.0777\n",
      "Epoch 14 Batch 300 Loss 0.1004\n",
      "Epoch 14 Batch 400 Loss 0.0791\n",
      "Epoch 14 Batch 500 Loss 0.0426\n",
      "Epoch 14 Batch 600 Loss 0.0968\n",
      "Epoch 14 Loss 0.0802\n",
      "Time taken for 1 epoch 232.08320784568787 sec\n",
      "\n",
      "Epoch 15 Batch 0 Loss 0.0326\n",
      "Epoch 15 Batch 100 Loss 0.1025\n",
      "Epoch 15 Batch 200 Loss 0.0495\n",
      "Epoch 15 Batch 300 Loss 0.0894\n",
      "Epoch 15 Batch 400 Loss 0.1108\n",
      "Epoch 15 Batch 500 Loss 0.0825\n",
      "Epoch 15 Batch 600 Loss 0.0702\n",
      "Epoch 15 Loss 0.0778\n",
      "Time taken for 1 epoch 232.30066800117493 sec\n",
      "\n",
      "Epoch 16 Batch 0 Loss 0.0965\n",
      "Epoch 16 Batch 100 Loss 0.0866\n",
      "Epoch 16 Batch 200 Loss 0.0499\n",
      "Epoch 16 Batch 300 Loss 0.0584\n",
      "Epoch 16 Batch 400 Loss 0.0698\n",
      "Epoch 16 Batch 500 Loss 0.0867\n",
      "Epoch 16 Batch 600 Loss 0.1549\n",
      "Epoch 16 Loss 0.0751\n",
      "Time taken for 1 epoch 232.1954231262207 sec\n",
      "\n",
      "Epoch 17 Batch 0 Loss 0.0370\n",
      "Epoch 17 Batch 100 Loss 0.0709\n",
      "Epoch 17 Batch 200 Loss 0.1205\n",
      "Epoch 17 Batch 300 Loss 0.0935\n",
      "Epoch 17 Batch 400 Loss 0.0406\n",
      "Epoch 17 Batch 500 Loss 0.0787\n",
      "Epoch 17 Batch 600 Loss 0.0870\n",
      "Epoch 17 Loss 0.0744\n",
      "Time taken for 1 epoch 232.3757598400116 sec\n",
      "\n",
      "Epoch 18 Batch 0 Loss 0.0353\n",
      "Epoch 18 Batch 100 Loss 0.0595\n",
      "Epoch 18 Batch 200 Loss 0.1011\n",
      "Epoch 18 Batch 300 Loss 0.1070\n",
      "Epoch 18 Batch 400 Loss 0.0493\n",
      "Epoch 18 Batch 500 Loss 0.0979\n",
      "Epoch 18 Batch 600 Loss 0.0880\n",
      "Epoch 18 Loss 0.0725\n",
      "Time taken for 1 epoch 232.25668454170227 sec\n",
      "\n",
      "Epoch 19 Batch 0 Loss 0.0558\n",
      "Epoch 19 Batch 100 Loss 0.0492\n",
      "Epoch 19 Batch 200 Loss 0.0335\n",
      "Epoch 19 Batch 300 Loss 0.0424\n",
      "Epoch 19 Batch 400 Loss 0.0357\n",
      "Epoch 19 Batch 500 Loss 0.0499\n",
      "Epoch 19 Batch 600 Loss 0.0726\n",
      "Epoch 19 Loss 0.0702\n",
      "Time taken for 1 epoch 232.2961037158966 sec\n",
      "\n",
      "Epoch 20 Batch 0 Loss 0.0232\n",
      "Epoch 20 Batch 100 Loss 0.0593\n",
      "Epoch 20 Batch 200 Loss 0.1080\n",
      "Epoch 20 Batch 300 Loss 0.0832\n",
      "Epoch 20 Batch 400 Loss 0.0776\n",
      "Epoch 20 Batch 500 Loss 0.0936\n",
      "Epoch 20 Batch 600 Loss 0.1212\n",
      "Epoch 20 Loss 0.0694\n",
      "Time taken for 1 epoch 232.26872658729553 sec\n",
      "\n",
      "Epoch 21 Batch 0 Loss 0.0273\n",
      "Epoch 21 Batch 100 Loss 0.0697\n",
      "Epoch 21 Batch 200 Loss 0.0717\n",
      "Epoch 21 Batch 300 Loss 0.0765\n",
      "Epoch 21 Batch 400 Loss 0.0293\n",
      "Epoch 21 Batch 500 Loss 0.0671\n",
      "Epoch 21 Batch 600 Loss 0.0654\n",
      "Epoch 21 Loss 0.0685\n",
      "Time taken for 1 epoch 232.42630529403687 sec\n",
      "\n",
      "Epoch 22 Batch 0 Loss 0.0400\n",
      "Epoch 22 Batch 100 Loss 0.0561\n",
      "Epoch 22 Batch 200 Loss 0.0362\n",
      "Epoch 22 Batch 300 Loss 0.0302\n",
      "Epoch 22 Batch 400 Loss 0.1033\n",
      "Epoch 22 Batch 500 Loss 0.0580\n",
      "Epoch 22 Batch 600 Loss 0.0795\n",
      "Epoch 22 Loss 0.0665\n",
      "Time taken for 1 epoch 232.45164728164673 sec\n",
      "\n",
      "Epoch 23 Batch 0 Loss 0.0215\n",
      "Epoch 23 Batch 100 Loss 0.0490\n",
      "Epoch 23 Batch 200 Loss 0.0570\n",
      "Epoch 23 Batch 300 Loss 0.0528\n",
      "Epoch 23 Batch 400 Loss 0.0546\n",
      "Epoch 23 Batch 500 Loss 0.0386\n",
      "Epoch 23 Batch 600 Loss 0.0572\n",
      "Epoch 23 Loss 0.0664\n",
      "Time taken for 1 epoch 232.35166883468628 sec\n",
      "\n",
      "Epoch 24 Batch 0 Loss 0.0736\n",
      "Epoch 24 Batch 100 Loss 0.0425\n",
      "Epoch 24 Batch 200 Loss 0.0954\n",
      "Epoch 24 Batch 300 Loss 0.0571\n",
      "Epoch 24 Batch 400 Loss 0.0280\n",
      "Epoch 24 Batch 500 Loss 0.1059\n",
      "Epoch 24 Batch 600 Loss 0.0861\n",
      "Epoch 24 Loss 0.0655\n",
      "Time taken for 1 epoch 232.34505701065063 sec\n",
      "\n",
      "Epoch 25 Batch 0 Loss 0.0339\n",
      "Epoch 25 Batch 100 Loss 0.0668\n",
      "Epoch 25 Batch 200 Loss 0.0512\n",
      "Epoch 25 Batch 300 Loss 0.0419\n",
      "Epoch 25 Batch 400 Loss 0.0559\n",
      "Epoch 25 Batch 500 Loss 0.0290\n",
      "Epoch 25 Batch 600 Loss 0.0420\n",
      "Epoch 25 Loss 0.0634\n",
      "Time taken for 1 epoch 232.2560212612152 sec\n",
      "\n",
      "Epoch 26 Batch 0 Loss 0.0246\n",
      "Epoch 26 Batch 100 Loss 0.0220\n",
      "Epoch 26 Batch 200 Loss 0.0532\n",
      "Epoch 26 Batch 300 Loss 0.0756\n",
      "Epoch 26 Batch 400 Loss 0.1247\n",
      "Epoch 26 Batch 500 Loss 0.0306\n",
      "Epoch 26 Batch 600 Loss 0.0639\n",
      "Epoch 26 Loss 0.0618\n",
      "Time taken for 1 epoch 231.63962960243225 sec\n",
      "\n",
      "Epoch 27 Batch 0 Loss 0.0426\n",
      "Epoch 27 Batch 100 Loss 0.0400\n",
      "Epoch 27 Batch 200 Loss 0.0826\n",
      "Epoch 27 Batch 300 Loss 0.1219\n",
      "Epoch 27 Batch 400 Loss 0.0775\n",
      "Epoch 27 Batch 500 Loss 0.0852\n",
      "Epoch 27 Batch 600 Loss 0.0701\n",
      "Epoch 27 Loss 0.0612\n",
      "Time taken for 1 epoch 231.43879628181458 sec\n",
      "\n",
      "Epoch 28 Batch 0 Loss 0.0197\n",
      "Epoch 28 Batch 100 Loss 0.0421\n",
      "Epoch 28 Batch 200 Loss 0.0530\n",
      "Epoch 28 Batch 300 Loss 0.0461\n",
      "Epoch 28 Batch 400 Loss 0.0719\n",
      "Epoch 28 Batch 500 Loss 0.0555\n",
      "Epoch 28 Batch 600 Loss 0.0636\n",
      "Epoch 28 Loss 0.0609\n",
      "Time taken for 1 epoch 231.7238643169403 sec\n",
      "\n",
      "Epoch 29 Batch 0 Loss 0.0791\n",
      "Epoch 29 Batch 100 Loss 0.0333\n",
      "Epoch 29 Batch 200 Loss 0.0721\n",
      "Epoch 29 Batch 300 Loss 0.0384\n",
      "Epoch 29 Batch 400 Loss 0.0976\n",
      "Epoch 29 Batch 500 Loss 0.0725\n",
      "Epoch 29 Batch 600 Loss 0.0254\n",
      "Epoch 29 Loss 0.0591\n",
      "Time taken for 1 epoch 231.2974853515625 sec\n",
      "\n",
      "Epoch 30 Batch 0 Loss 0.0427\n",
      "Epoch 30 Batch 100 Loss 0.0275\n",
      "Epoch 30 Batch 200 Loss 0.0889\n"
     ]
    },
    {
     "name": "stdout",
     "output_type": "stream",
     "text": [
      "Epoch 30 Batch 300 Loss 0.0797\n",
      "Epoch 30 Batch 400 Loss 0.0681\n",
      "Epoch 30 Batch 500 Loss 0.0384\n",
      "Epoch 30 Batch 600 Loss 0.0670\n",
      "Epoch 30 Loss 0.0588\n",
      "Time taken for 1 epoch 231.0758535861969 sec\n",
      "\n",
      "Epoch 31 Batch 0 Loss 0.0384\n",
      "Epoch 31 Batch 100 Loss 0.0623\n",
      "Epoch 31 Batch 200 Loss 0.0549\n",
      "Epoch 31 Batch 300 Loss 0.0629\n",
      "Epoch 31 Batch 400 Loss 0.0523\n",
      "Epoch 31 Batch 500 Loss 0.0499\n",
      "Epoch 31 Batch 600 Loss 0.1025\n",
      "Epoch 31 Loss 0.0566\n",
      "Time taken for 1 epoch 231.47737407684326 sec\n",
      "\n",
      "Epoch 32 Batch 0 Loss 0.0646\n",
      "Epoch 32 Batch 100 Loss 0.0494\n",
      "Epoch 32 Batch 200 Loss 0.0668\n",
      "Epoch 32 Batch 300 Loss 0.0768\n",
      "Epoch 32 Batch 400 Loss 0.0797\n",
      "Epoch 32 Batch 500 Loss 0.0501\n",
      "Epoch 32 Batch 600 Loss 0.0733\n",
      "Epoch 32 Loss 0.0570\n",
      "Time taken for 1 epoch 231.11573028564453 sec\n",
      "\n",
      "Epoch 33 Batch 0 Loss 0.0555\n",
      "Epoch 33 Batch 100 Loss 0.0639\n",
      "Epoch 33 Batch 200 Loss 0.0476\n",
      "Epoch 33 Batch 300 Loss 0.0633\n",
      "Epoch 33 Batch 400 Loss 0.0460\n",
      "Epoch 33 Batch 500 Loss 0.0875\n",
      "Epoch 33 Batch 600 Loss 0.0758\n",
      "Epoch 33 Loss 0.0556\n",
      "Time taken for 1 epoch 232.57353901863098 sec\n",
      "\n",
      "Epoch 34 Batch 0 Loss 0.0632\n",
      "Epoch 34 Batch 100 Loss 0.0681\n",
      "Epoch 34 Batch 200 Loss 0.0400\n",
      "Epoch 34 Batch 300 Loss 0.0531\n",
      "Epoch 34 Batch 400 Loss 0.0581\n",
      "Epoch 34 Batch 500 Loss 0.0600\n",
      "Epoch 34 Batch 600 Loss 0.0576\n",
      "Epoch 34 Loss 0.0548\n",
      "Time taken for 1 epoch 232.3528904914856 sec\n",
      "\n",
      "Epoch 35 Batch 0 Loss 0.0305\n",
      "Epoch 35 Batch 100 Loss 0.0179\n",
      "Epoch 35 Batch 200 Loss 0.0819\n",
      "Epoch 35 Batch 300 Loss 0.0378\n",
      "Epoch 35 Batch 400 Loss 0.0350\n",
      "Epoch 35 Batch 500 Loss 0.0835\n",
      "Epoch 35 Batch 600 Loss 0.0611\n",
      "Epoch 35 Loss 0.0542\n",
      "Time taken for 1 epoch 232.77444076538086 sec\n",
      "\n",
      "Epoch 36 Batch 0 Loss 0.0261\n",
      "Epoch 36 Batch 100 Loss 0.0564\n",
      "Epoch 36 Batch 200 Loss 0.0614\n",
      "Epoch 36 Batch 300 Loss 0.0411\n",
      "Epoch 36 Batch 400 Loss 0.0397\n",
      "Epoch 36 Batch 500 Loss 0.0342\n",
      "Epoch 36 Batch 600 Loss 0.0583\n",
      "Epoch 36 Loss 0.0539\n",
      "Time taken for 1 epoch 232.00164532661438 sec\n",
      "\n",
      "Epoch 37 Batch 0 Loss 0.0409\n",
      "Epoch 37 Batch 100 Loss 0.0469\n",
      "Epoch 37 Batch 200 Loss 0.0521\n",
      "Epoch 37 Batch 300 Loss 0.0600\n",
      "Epoch 37 Batch 400 Loss 0.0651\n",
      "Epoch 37 Batch 500 Loss 0.0680\n",
      "Epoch 37 Batch 600 Loss 0.0831\n",
      "Epoch 37 Loss 0.0533\n",
      "Time taken for 1 epoch 230.99136209487915 sec\n",
      "\n",
      "Epoch 38 Batch 0 Loss 0.0759\n",
      "Epoch 38 Batch 100 Loss 0.0258\n",
      "Epoch 38 Batch 200 Loss 0.0579\n",
      "Epoch 38 Batch 300 Loss 0.0442\n",
      "Epoch 38 Batch 400 Loss 0.0415\n",
      "Epoch 38 Batch 500 Loss 0.0380\n",
      "Epoch 38 Batch 600 Loss 0.0649\n",
      "Epoch 38 Loss 0.0514\n",
      "Time taken for 1 epoch 230.92059993743896 sec\n",
      "\n",
      "Epoch 39 Batch 0 Loss 0.0387\n",
      "Epoch 39 Batch 100 Loss 0.0616\n",
      "Epoch 39 Batch 200 Loss 0.0430\n",
      "Epoch 39 Batch 300 Loss 0.0467\n",
      "Epoch 39 Batch 400 Loss 0.0437\n",
      "Epoch 39 Batch 500 Loss 0.0649\n",
      "Epoch 39 Batch 600 Loss 0.0665\n",
      "Epoch 39 Loss 0.0507\n",
      "Time taken for 1 epoch 231.13763546943665 sec\n",
      "\n",
      "Epoch 40 Batch 0 Loss 0.0490\n",
      "Epoch 40 Batch 100 Loss 0.0379\n",
      "Epoch 40 Batch 200 Loss 0.0467\n",
      "Epoch 40 Batch 300 Loss 0.0529\n",
      "Epoch 40 Batch 400 Loss 0.0728\n",
      "Epoch 40 Batch 500 Loss 0.0511\n",
      "Epoch 40 Batch 600 Loss 0.0641\n",
      "Epoch 40 Loss 0.0504\n",
      "Time taken for 1 epoch 230.84632515907288 sec\n",
      "\n",
      "Epoch 41 Batch 0 Loss 0.0332\n",
      "Epoch 41 Batch 100 Loss 0.0740\n",
      "Epoch 41 Batch 200 Loss 0.0474\n",
      "Epoch 41 Batch 300 Loss 0.0432\n",
      "Epoch 41 Batch 400 Loss 0.0420\n",
      "Epoch 41 Batch 500 Loss 0.0619\n",
      "Epoch 41 Batch 600 Loss 0.0632\n",
      "Epoch 41 Loss 0.0505\n",
      "Time taken for 1 epoch 231.23604488372803 sec\n",
      "\n",
      "Epoch 42 Batch 0 Loss 0.0458\n",
      "Epoch 42 Batch 100 Loss 0.0246\n",
      "Epoch 42 Batch 200 Loss 0.0665\n",
      "Epoch 42 Batch 300 Loss 0.0773\n",
      "Epoch 42 Batch 400 Loss 0.0613\n",
      "Epoch 42 Batch 500 Loss 0.0143\n",
      "Epoch 42 Batch 600 Loss 0.0412\n",
      "Epoch 42 Loss 0.0502\n",
      "Time taken for 1 epoch 230.94407415390015 sec\n",
      "\n",
      "Epoch 43 Batch 0 Loss 0.0630\n",
      "Epoch 43 Batch 100 Loss 0.0363\n",
      "Epoch 43 Batch 200 Loss 0.0418\n",
      "Epoch 43 Batch 300 Loss 0.0686\n",
      "Epoch 43 Batch 400 Loss 0.0588\n",
      "Epoch 43 Batch 500 Loss 0.0716\n",
      "Epoch 43 Batch 600 Loss 0.0230\n",
      "Epoch 43 Loss 0.0492\n",
      "Time taken for 1 epoch 230.94835329055786 sec\n",
      "\n",
      "Epoch 44 Batch 0 Loss 0.0396\n",
      "Epoch 44 Batch 100 Loss 0.0262\n",
      "Epoch 44 Batch 200 Loss 0.0312\n",
      "Epoch 44 Batch 300 Loss 0.0332\n",
      "Epoch 44 Batch 400 Loss 0.0298\n",
      "Epoch 44 Batch 500 Loss 0.0313\n",
      "Epoch 44 Batch 600 Loss 0.0762\n",
      "Epoch 44 Loss 0.0477\n",
      "Time taken for 1 epoch 231.29111242294312 sec\n",
      "\n",
      "Epoch 45 Batch 0 Loss 0.0309\n",
      "Epoch 45 Batch 100 Loss 0.0291\n",
      "Epoch 45 Batch 200 Loss 0.0304\n",
      "Epoch 45 Batch 300 Loss 0.0394\n",
      "Epoch 45 Batch 400 Loss 0.0546\n",
      "Epoch 45 Batch 500 Loss 0.0471\n",
      "Epoch 45 Batch 600 Loss 0.0658\n",
      "Epoch 45 Loss 0.0467\n",
      "Time taken for 1 epoch 239.27656602859497 sec\n",
      "\n",
      "Epoch 46 Batch 0 Loss 0.0146\n",
      "Epoch 46 Batch 100 Loss 0.0475\n",
      "Epoch 46 Batch 200 Loss 0.0434\n",
      "Epoch 46 Batch 300 Loss 0.0497\n",
      "Epoch 46 Batch 400 Loss 0.0584\n",
      "Epoch 46 Batch 500 Loss 0.0552\n",
      "Epoch 46 Batch 600 Loss 0.0418\n",
      "Epoch 46 Loss 0.0470\n",
      "Time taken for 1 epoch 232.14938020706177 sec\n",
      "\n",
      "Epoch 47 Batch 0 Loss 0.0260\n",
      "Epoch 47 Batch 100 Loss 0.0306\n",
      "Epoch 47 Batch 200 Loss 0.0203\n",
      "Epoch 47 Batch 300 Loss 0.0239\n",
      "Epoch 47 Batch 400 Loss 0.0443\n",
      "Epoch 47 Batch 500 Loss 0.0558\n",
      "Epoch 47 Batch 600 Loss 0.0334\n",
      "Epoch 47 Loss 0.0471\n",
      "Time taken for 1 epoch 232.25206065177917 sec\n",
      "\n",
      "Epoch 48 Batch 0 Loss 0.0173\n",
      "Epoch 48 Batch 100 Loss 0.0492\n",
      "Epoch 48 Batch 200 Loss 0.0448\n",
      "Epoch 48 Batch 300 Loss 0.0422\n",
      "Epoch 48 Batch 400 Loss 0.0233\n",
      "Epoch 48 Batch 500 Loss 0.0652\n",
      "Epoch 48 Batch 600 Loss 0.0403\n",
      "Epoch 48 Loss 0.0465\n",
      "Time taken for 1 epoch 230.9997100830078 sec\n",
      "\n",
      "Epoch 49 Batch 0 Loss 0.0442\n",
      "Epoch 49 Batch 100 Loss 0.0410\n",
      "Epoch 49 Batch 200 Loss 0.0507\n",
      "Epoch 49 Batch 300 Loss 0.0335\n",
      "Epoch 49 Batch 400 Loss 0.0372\n",
      "Epoch 49 Batch 500 Loss 0.0717\n",
      "Epoch 49 Batch 600 Loss 0.0648\n",
      "Epoch 49 Loss 0.0460\n",
      "Time taken for 1 epoch 231.05641770362854 sec\n",
      "\n",
      "Epoch 50 Batch 0 Loss 0.0304\n",
      "Epoch 50 Batch 100 Loss 0.0398\n",
      "Epoch 50 Batch 200 Loss 0.0529\n",
      "Epoch 50 Batch 300 Loss 0.0656\n",
      "Epoch 50 Batch 400 Loss 0.0530\n",
      "Epoch 50 Batch 500 Loss 0.0504\n",
      "Epoch 50 Batch 600 Loss 0.0625\n",
      "Epoch 50 Loss 0.0461\n",
      "Time taken for 1 epoch 230.81928133964539 sec\n",
      "\n"
     ]
    }
   ],
   "source": [
    "EPOCHS = 50\n",
    "\n",
    "for epoch in range(EPOCHS):\n",
    "  start = time.time()\n",
    "\n",
    "  enc_hidden = encoder.initialize_hidden_state()\n",
    "  total_loss = 0\n",
    "\n",
    "  for (batch, (inp, targ)) in enumerate(dataset.take(steps_per_epoch)):\n",
    "    batch_loss = train_step(inp, targ, enc_hidden)\n",
    "    total_loss += batch_loss\n",
    "\n",
    "    if batch % 100 == 0:\n",
    "      print('Epoch {} Batch {} Loss {:.4f}'.format(epoch + 1,\n",
    "                                                   batch,\n",
    "                                                   batch_loss.numpy()))\n",
    "  # saving (checkpoint) the model every 2 epochs\n",
    "  if (epoch + 1) % 2 == 0:\n",
    "    checkpoint.save(file_prefix = checkpoint_prefix)\n",
    "\n",
    "  print('Epoch {} Loss {:.4f}'.format(epoch + 1,\n",
    "                                      total_loss / steps_per_epoch))\n",
    "  print('Time taken for 1 epoch {} sec\\n'.format(time.time() - start))"
   ]
  },
  {
   "cell_type": "markdown",
   "metadata": {
    "id": "mU3Ce8M6I3rz"
   },
   "source": [
    "## Translate\n",
    "\n",
    "* The evaluate function is similar to the training loop, except we don't use *teacher forcing* here. The input to the decoder at each time step is its previous predictions along with the hidden state and the encoder output.\n",
    "* Stop predicting when the model predicts the *end token*.\n",
    "* And store the *attention weights for every time step*.\n",
    "\n",
    "Note: The encoder output is calculated only once for one input."
   ]
  },
  {
   "cell_type": "code",
   "execution_count": 71,
   "metadata": {
    "id": "EbQpyYs13jF_"
   },
   "outputs": [],
   "source": [
    "def evaluate(sentence):\n",
    "  attention_plot = np.zeros((max_length_targ, max_length_inp))\n",
    "\n",
    "  sentence = preprocess_sentence(sentence)\n",
    "\n",
    "  inputs = [inp_lang.word_index[i] for i in sentence.split(' ')]\n",
    "  inputs = tf.keras.preprocessing.sequence.pad_sequences([inputs],\n",
    "                                                         maxlen=max_length_inp,\n",
    "                                                         padding='post')\n",
    "  inputs = tf.convert_to_tensor(inputs)\n",
    "\n",
    "  result = ''\n",
    "\n",
    "  hidden = [tf.zeros((1, units))]\n",
    "  enc_hidden = encoder(inputs, hidden)\n",
    "\n",
    "  dec_hidden = enc_hidden\n",
    "  dec_input = tf.expand_dims([targ_lang.word_index['<start>']], 0)\n",
    "\n",
    "  for t in range(max_length_targ):\n",
    "    predictions, dec_hidden = decoder(dec_input, dec_hidden)\n",
    "\n",
    "    # storing the attention weights to plot later on\n",
    "    predicted_id = tf.argmax(predictions[0]).numpy()\n",
    "    result += targ_lang.index_word[predicted_id] + ' '\n",
    "\n",
    "    if targ_lang.index_word[predicted_id] == '<end>':\n",
    "      return result, sentence\n",
    "\n",
    "    # the predicted ID is fed back into the model\n",
    "    dec_input = tf.expand_dims([predicted_id], 0)\n",
    "\n",
    "  return result, sentence"
   ]
  },
  {
   "cell_type": "code",
   "execution_count": 72,
   "metadata": {
    "id": "sl9zUHzg3jGI"
   },
   "outputs": [],
   "source": [
    "def translate(sentence):\n",
    "  result, sentence = evaluate(sentence)\n",
    "\n",
    "  print('Input: %s' % (sentence))\n",
    "  print('Predicted translation: {}'.format(result))"
   ]
  },
  {
   "cell_type": "markdown",
   "metadata": {
    "id": "n250XbnjOaqP"
   },
   "source": [
    "## Restore the latest checkpoint and test"
   ]
  },
  {
   "cell_type": "code",
   "execution_count": 73,
   "metadata": {
    "colab": {
     "base_uri": "https://localhost:8080/"
    },
    "executionInfo": {
     "elapsed": 891,
     "status": "ok",
     "timestamp": 1608145599781,
     "user": {
      "displayName": "Roman Zakharov",
      "photoUrl": "",
      "userId": "18255168926005506833"
     },
     "user_tz": -180
    },
    "id": "UJpT9D5_OgP6",
    "outputId": "a5bf709a-7e66-4fd8-aca9-777497144965"
   },
   "outputs": [
    {
     "data": {
      "text/plain": [
       "<tensorflow.python.checkpoint.checkpoint.CheckpointLoadStatus at 0x7f3c4b60c400>"
      ]
     },
     "execution_count": 73,
     "metadata": {},
     "output_type": "execute_result"
    }
   ],
   "source": [
    "# restoring the latest checkpoint in checkpoint_dir\n",
    "checkpoint.restore(tf.train.latest_checkpoint(checkpoint_dir))"
   ]
  },
  {
   "cell_type": "code",
   "execution_count": 74,
   "metadata": {
    "colab": {
     "base_uri": "https://localhost:8080/"
    },
    "executionInfo": {
     "elapsed": 985,
     "status": "ok",
     "timestamp": 1619808753710,
     "user": {
      "displayName": "Roman Zakharov",
      "photoUrl": "",
      "userId": "18255168926005506833"
     },
     "user_tz": -180
    },
    "id": "WrAM0FDomq3E",
    "outputId": "d366d6cc-cc03-4e35-a65a-9d06dcbfff36"
   },
   "outputs": [
    {
     "name": "stdout",
     "output_type": "stream",
     "text": [
      "Input: <start> тут хорошо . <end>\n",
      "Predicted translation: it's good here . <end> \n"
     ]
    }
   ],
   "source": [
    "translate('Тут хорошо.')"
   ]
  },
  {
   "cell_type": "code",
   "execution_count": 75,
   "metadata": {
    "colab": {
     "base_uri": "https://localhost:8080/"
    },
    "executionInfo": {
     "elapsed": 794,
     "status": "ok",
     "timestamp": 1619808761495,
     "user": {
      "displayName": "Roman Zakharov",
      "photoUrl": "",
      "userId": "18255168926005506833"
     },
     "user_tz": -180
    },
    "id": "5bhFfwcIMX5i",
    "outputId": "f89a2d14-a72b-4477-9d76-36837baaefff"
   },
   "outputs": [
    {
     "name": "stdout",
     "output_type": "stream",
     "text": [
      "Input: <start> я смогу поехать . <end>\n",
      "Predicted translation: i can go . <end> \n"
     ]
    }
   ],
   "source": [
    "translate('Я смогу поехать.')"
   ]
  },
  {
   "cell_type": "code",
   "execution_count": 77,
   "metadata": {
    "colab": {
     "base_uri": "https://localhost:8080/"
    },
    "executionInfo": {
     "elapsed": 818,
     "status": "ok",
     "timestamp": 1619808768959,
     "user": {
      "displayName": "Roman Zakharov",
      "photoUrl": "",
      "userId": "18255168926005506833"
     },
     "user_tz": -180
    },
    "id": "zSx2iM36EZQZ",
    "outputId": "42bc96b4-37c0-439f-fff9-224fdc58c527"
   },
   "outputs": [
    {
     "name": "stdout",
     "output_type": "stream",
     "text": [
      "Input: <start> вы уже дома ? <end>\n",
      "Predicted translation: are you home yet ? <end> \n"
     ]
    }
   ],
   "source": [
    "translate(u'Вы уже дома?')"
   ]
  },
  {
   "cell_type": "code",
   "execution_count": 78,
   "metadata": {
    "colab": {
     "base_uri": "https://localhost:8080/"
    },
    "id": "A3LLCx3ZE0Ls",
    "outputId": "b64aa087-8232-474e-e3c7-98c186081845"
   },
   "outputs": [
    {
     "name": "stdout",
     "output_type": "stream",
     "text": [
      "Input: <start> вы все еще дома ? <end>\n",
      "Predicted translation: are you all home ? <end> \n"
     ]
    }
   ],
   "source": [
    "translate(u'Вы все еще дома?')"
   ]
  },
  {
   "cell_type": "code",
   "execution_count": 80,
   "metadata": {
    "colab": {
     "base_uri": "https://localhost:8080/"
    },
    "executionInfo": {
     "elapsed": 799,
     "status": "ok",
     "timestamp": 1619808777901,
     "user": {
      "displayName": "Roman Zakharov",
      "photoUrl": "",
      "userId": "18255168926005506833"
     },
     "user_tz": -180
    },
    "id": "DUQVLVqUE1YW",
    "outputId": "6d768ecc-e145-4a4a-b313-0986c44bc1cc"
   },
   "outputs": [
    {
     "name": "stdout",
     "output_type": "stream",
     "text": [
      "Input: <start> попробуй сделать это . <end>\n",
      "Predicted translation: try this one . <end> \n"
     ]
    }
   ],
   "source": [
    "translate(u'Попробуй сделать это.')"
   ]
  },
  {
   "cell_type": "code",
   "execution_count": 81,
   "metadata": {
    "colab": {
     "base_uri": "https://localhost:8080/"
    },
    "executionInfo": {
     "elapsed": 815,
     "status": "ok",
     "timestamp": 1619808783771,
     "user": {
      "displayName": "Roman Zakharov",
      "photoUrl": "",
      "userId": "18255168926005506833"
     },
     "user_tz": -180
    },
    "id": "f09_hUFx9EJh",
    "outputId": "73980799-f0f9-4ff5-835c-ced55d9a4770"
   },
   "outputs": [
    {
     "name": "stdout",
     "output_type": "stream",
     "text": [
      "Input: <start> я люблю , когда идет дождь . <end>\n",
      "Predicted translation: i love more roses . <end> \n"
     ]
    }
   ],
   "source": [
    "translate(u'Я люблю, когда идет дождь.')"
   ]
  },
  {
   "cell_type": "code",
   "execution_count": 82,
   "metadata": {
    "colab": {
     "base_uri": "https://localhost:8080/"
    },
    "id": "e7c5p8rmkHQG",
    "outputId": "d4682d71-f778-41f5-e4a9-2e1235976123"
   },
   "outputs": [
    {
     "name": "stdout",
     "output_type": "stream",
     "text": [
      "Input: <start> я никогда такого не делаю . <end>\n",
      "Predicted translation: i never do that . <end> \n"
     ]
    }
   ],
   "source": [
    "translate(u'Я никогда такого не делаю.')"
   ]
  },
  {
   "cell_type": "code",
   "execution_count": 88,
   "metadata": {
    "id": "jdXES85KkTVS"
   },
   "outputs": [
    {
     "name": "stdout",
     "output_type": "stream",
     "text": [
      "Input: <start> я никогда не видел воду . <end>\n",
      "Predicted translation: i never saw a lot . <end> \n"
     ]
    }
   ],
   "source": [
    "translate(u'Я никогда не видел воду.')"
   ]
  },
  {
   "cell_type": "code",
   "execution_count": null,
   "metadata": {},
   "outputs": [],
   "source": []
  }
 ],
 "metadata": {
  "accelerator": "GPU",
  "colab": {
   "collapsed_sections": [],
   "name": "nmt.ipynb",
   "provenance": []
  },
  "kernelspec": {
   "display_name": "Python 3 (ipykernel)",
   "language": "python",
   "name": "python3"
  },
  "language_info": {
   "codemirror_mode": {
    "name": "ipython",
    "version": 3
   },
   "file_extension": ".py",
   "mimetype": "text/x-python",
   "name": "python",
   "nbconvert_exporter": "python",
   "pygments_lexer": "ipython3",
   "version": "3.9.12"
  }
 },
 "nbformat": 4,
 "nbformat_minor": 1
}
