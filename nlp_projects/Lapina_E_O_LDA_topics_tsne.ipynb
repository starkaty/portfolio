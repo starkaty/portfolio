{
 "cells": [
  {
   "cell_type": "markdown",
   "metadata": {
    "id": "BFe4TBFLf6Mm"
   },
   "source": [
    "### Тематическое моделирование \n",
    "\n",
    "## Данные - вопросы с сайта роспотребнадзора"
   ]
  },
  {
   "cell_type": "code",
   "execution_count": 69,
   "metadata": {
    "colab": {
     "base_uri": "https://localhost:8080/"
    },
    "id": "Rr7CaUybH2zL",
    "outputId": "fbd9bdfd-90f4-4758-9853-451ec4d6e149"
   },
   "outputs": [],
   "source": [
    "# !pip install corus"
   ]
  },
  {
   "cell_type": "code",
   "execution_count": 3,
   "metadata": {},
   "outputs": [],
   "source": [
    "import requests\n",
    "from bs4 import BeautifulSoup \n",
    "import time\n",
    "from urllib.parse import urlparse, urljoin\n",
    "from tqdm.notebook import tqdm\n",
    "import pandas as pd"
   ]
  },
  {
   "cell_type": "markdown",
   "metadata": {},
   "source": [
    "### Парсер"
   ]
  },
  {
   "cell_type": "code",
   "execution_count": null,
   "metadata": {},
   "outputs": [],
   "source": [
    "## найти id каждого вопроса на страницах\n",
    "page = 1\n",
    "main_url = 'https://zpp.rospotrebnadzor.ru/Forum/Appeals/AjaxindexList?page={page}&searchtext=&categories=[]'\n",
    "\n",
    "def ids_from_page(soup):\n",
    "    return [i.get('href') for i  in soup.findAll('a', {'class':'appeal-title-link'})]\n",
    "    \n",
    "urls = []\n",
    "for page in tqdm(range(1, 500), desc='Pages'):\n",
    "    time.sleep(0.5)\n",
    "    res = requests.get(main_url.format(page=page))  \n",
    "    soup = BeautifulSoup(res.text)\n",
    "    urls.extend(ids_from_page(soup))"
   ]
  },
  {
   "cell_type": "code",
   "execution_count": null,
   "metadata": {},
   "outputs": [],
   "source": [
    "## имея id запросов достанем тексты на страницах\n",
    "domain = 'https://zpp.rospotrebnadzor.ru'\n",
    "\n",
    "def get_text_page_question(soup):\n",
    "    return soup.findAll('p', {'class':'appeal-details-message'})[0].text\n",
    "\n",
    "question = []\n",
    "\n",
    "for url in tqdm(urls, desc='Pages'):\n",
    "    time.sleep(0.5)\n",
    "    res = requests.get(urljoin(domain, url))  \n",
    "    soup = BeautifulSoup(res.text)\n",
    "    \n",
    "    question.append(get_text_page_question(soup))"
   ]
  },
  {
   "cell_type": "code",
   "execution_count": null,
   "metadata": {},
   "outputs": [],
   "source": [
    "df = pd.DataFrame(question, columns = ['question'])"
   ]
  },
  {
   "cell_type": "code",
   "execution_count": null,
   "metadata": {},
   "outputs": [],
   "source": [
    "df.to_csv('question_rospotreb.csv') #сохраняем данные"
   ]
  },
  {
   "cell_type": "code",
   "execution_count": 6,
   "metadata": {},
   "outputs": [],
   "source": [
    "data = pd.read_csv('question_rospotreb.csv')"
   ]
  },
  {
   "cell_type": "code",
   "execution_count": 7,
   "metadata": {
    "colab": {
     "base_uri": "https://localhost:8080/"
    },
    "id": "yQn0BZNTf6Mo",
    "outputId": "bfb1c088-3186-4c22-dff8-2eb28d932c13"
   },
   "outputs": [
    {
     "data": {
      "text/plain": [
       "2495"
      ]
     },
     "execution_count": 7,
     "metadata": {},
     "output_type": "execute_result"
    }
   ],
   "source": [
    "len(data)"
   ]
  },
  {
   "cell_type": "code",
   "execution_count": 11,
   "metadata": {
    "colab": {
     "base_uri": "https://localhost:8080/"
    },
    "id": "0NVPadeXf6Mo",
    "outputId": "5d990738-fa1a-4fca-a161-418090146019"
   },
   "outputs": [
    {
     "data": {
      "text/html": [
       "<div>\n",
       "<style scoped>\n",
       "    .dataframe tbody tr th:only-of-type {\n",
       "        vertical-align: middle;\n",
       "    }\n",
       "\n",
       "    .dataframe tbody tr th {\n",
       "        vertical-align: top;\n",
       "    }\n",
       "\n",
       "    .dataframe thead th {\n",
       "        text-align: right;\n",
       "    }\n",
       "</style>\n",
       "<table border=\"1\" class=\"dataframe\">\n",
       "  <thead>\n",
       "    <tr style=\"text-align: right;\">\n",
       "      <th></th>\n",
       "      <th>Unnamed: 0</th>\n",
       "      <th>question</th>\n",
       "    </tr>\n",
       "  </thead>\n",
       "  <tbody>\n",
       "    <tr>\n",
       "      <th>0</th>\n",
       "      <td>0</td>\n",
       "      <td>31 октября 2023 г.я оформила заказ в приложени...</td>\n",
       "    </tr>\n",
       "    <tr>\n",
       "      <th>1</th>\n",
       "      <td>1</td>\n",
       "      <td>Добры день, по ошибке заказал на wildberries н...</td>\n",
       "    </tr>\n",
       "    <tr>\n",
       "      <th>2</th>\n",
       "      <td>2</td>\n",
       "      <td>Здравствуйте.  В марте я обратилась в стоматол...</td>\n",
       "    </tr>\n",
       "    <tr>\n",
       "      <th>3</th>\n",
       "      <td>3</td>\n",
       "      <td>Добрый день! \\r\\n\\r\\nНедавно преодолев мужские...</td>\n",
       "    </tr>\n",
       "    <tr>\n",
       "      <th>4</th>\n",
       "      <td>4</td>\n",
       "      <td>Доброе утро!\\r\\nПолучила в подарок сертификат ...</td>\n",
       "    </tr>\n",
       "  </tbody>\n",
       "</table>\n",
       "</div>"
      ],
      "text/plain": [
       "   Unnamed: 0                                           question\n",
       "0           0  31 октября 2023 г.я оформила заказ в приложени...\n",
       "1           1  Добры день, по ошибке заказал на wildberries н...\n",
       "2           2  Здравствуйте.  В марте я обратилась в стоматол...\n",
       "3           3  Добрый день! \\r\\n\\r\\nНедавно преодолев мужские...\n",
       "4           4  Доброе утро!\\r\\nПолучила в подарок сертификат ..."
      ]
     },
     "execution_count": 11,
     "metadata": {},
     "output_type": "execute_result"
    }
   ],
   "source": [
    "data.head()"
   ]
  },
  {
   "cell_type": "markdown",
   "metadata": {
    "id": "bsWr6XDzf6Mp"
   },
   "source": [
    "### Предобработка\n",
    "\n",
    "\n",
    "Все модели, с которыми мы будем работать далее, работают с предобработанными текстами, поэтому сперва проведем стандартную предобработку текста:"
   ]
  },
  {
   "cell_type": "code",
   "execution_count": 12,
   "metadata": {
    "id": "JVrWuN09f6Mp"
   },
   "outputs": [],
   "source": [
    "import re\n",
    "import numpy as np\n",
    "from nltk.corpus import stopwords\n",
    "from tqdm.notebook import tqdm\n",
    "from multiprocessing import Pool\n",
    "from pymystem3 import Mystem"
   ]
  },
  {
   "cell_type": "code",
   "execution_count": 13,
   "metadata": {
    "colab": {
     "base_uri": "https://localhost:8080/"
    },
    "id": "KabTrpuCJIPw",
    "outputId": "138879d5-e293-4dc2-826c-b622ceb58cfe"
   },
   "outputs": [
    {
     "name": "stderr",
     "output_type": "stream",
     "text": [
      "[nltk_data] Downloading package stopwords to\n",
      "[nltk_data]     /home/ekaterina/nltk_data...\n",
      "[nltk_data]   Package stopwords is already up-to-date!\n"
     ]
    },
    {
     "data": {
      "text/plain": [
       "True"
      ]
     },
     "execution_count": 13,
     "metadata": {},
     "output_type": "execute_result"
    }
   ],
   "source": [
    "import nltk\n",
    "nltk.download('stopwords')"
   ]
  },
  {
   "cell_type": "code",
   "execution_count": 14,
   "metadata": {
    "colab": {
     "base_uri": "https://localhost:8080/"
    },
    "id": "nTW_QQmfKd0A",
    "outputId": "9572da94-79a1-4590-9dc8-0b5851e3a413"
   },
   "outputs": [
    {
     "name": "stdout",
     "output_type": "stream",
     "text": [
      "/bin/bash: /home/ekaterina/anaconda3/lib/libtinfo.so.6: no version information available (required by /bin/bash)\n",
      "Requirement already satisfied: pymorphy2 in /home/ekaterina/anaconda3/lib/python3.9/site-packages (0.9.1)\n",
      "Requirement already satisfied: dawg-python>=0.7.1 in /home/ekaterina/anaconda3/lib/python3.9/site-packages (from pymorphy2) (0.7.2)\n",
      "Requirement already satisfied: docopt>=0.6 in /home/ekaterina/anaconda3/lib/python3.9/site-packages (from pymorphy2) (0.6.2)\n",
      "Requirement already satisfied: pymorphy2-dicts-ru<3.0,>=2.4 in /home/ekaterina/anaconda3/lib/python3.9/site-packages (from pymorphy2) (2.4.417127.4579844)\n"
     ]
    }
   ],
   "source": [
    "! pip install pymorphy2"
   ]
  },
  {
   "cell_type": "code",
   "execution_count": 15,
   "metadata": {
    "id": "XDBV03ENKhgu"
   },
   "outputs": [],
   "source": [
    "import pymorphy2\n",
    "morph = pymorphy2.MorphAnalyzer()"
   ]
  },
  {
   "cell_type": "code",
   "execution_count": 16,
   "metadata": {
    "id": "V3a8Btmff6Mp"
   },
   "outputs": [],
   "source": [
    "words_regex = re.compile('\\w+')\n",
    "\n",
    "def find_words(text, regex = words_regex):\n",
    "    tokens =  regex.findall(text.lower())\n",
    "    return [w for w in tokens if w.isalpha() and len(w) >= 3]\n",
    "\n",
    "\n",
    "stopwords_list = stopwords.words('russian')\n",
    "\n",
    "# mystem = Mystem()\n",
    "# def lemmatize(words, lemmer = mystem, stopwords = stopwords_list):\n",
    "#     lemmas = lemmer.lemmatize(' '.join(words))\n",
    "#     return [w for w in lemmas if not w in stopwords \n",
    "#             and w.isalpha()]\n",
    "\n",
    "def lemmatize(words, lemmer = morph, stopwords = stopwords_list):\n",
    "    lemmas = [lemmer.parse(w)[0].normal_form for w in words]\n",
    "    return [w for w in lemmas if not w in stopwords \n",
    "            and w.isalpha()]\n",
    "\n",
    "def preprocess(text):\n",
    "    return (lemmatize(find_words(text)))"
   ]
  },
  {
   "cell_type": "code",
   "execution_count": 17,
   "metadata": {
    "colab": {
     "base_uri": "https://localhost:8080/",
     "height": 120
    },
    "id": "zkxfy_uXf6Mp",
    "outputId": "84474359-0294-44f7-e071-57a69d26787c"
   },
   "outputs": [
    {
     "data": {
      "text/plain": [
       "'Добры день, по ошибке заказал на wildberries не тот товар, хотел сразу же отказаться, а такой возможности нет, нужно ждать когда товар прибудет в пункт выдачи и только тогда можно будет отказаться платно! либо если товар не доставят в течении 6 дней, то так же платно можно отказаться.  почему нельзя отказаться от товара до его отправки в ПВЗ, допустим в течение часа после оформления? Почему я должен ждать не нужны мне товар и потом платить за отказ от него и ждать возвращения денежных средств? Является ли это нарушением Закона РФ от 07.02.1992 N 2300-1 (ред. от 04.08.2023) \"О защите прав потребителей статьи 16 пункта 2? Не занимается ли данная торговая площадка элементарным вымогательством, создавая своим покупателям  такие условия при которых они должны просто так отдавать свои деньги?'"
      ]
     },
     "execution_count": 17,
     "metadata": {},
     "output_type": "execute_result"
    }
   ],
   "source": [
    "data.question.iloc[1]"
   ]
  },
  {
   "cell_type": "code",
   "execution_count": 19,
   "metadata": {
    "colab": {
     "base_uri": "https://localhost:8080/"
    },
    "id": "TLz9uO5Yf6Mp",
    "outputId": "b5d29c15-6385-4ce7-92cc-bf3030f75a84",
    "scrolled": true
   },
   "outputs": [
    {
     "name": "stdout",
     "output_type": "stream",
     "text": [
      "['добрый', 'день', 'ошибка', 'заказать', 'wildberries', 'товар', 'хотеть', 'сразу', 'отказаться', 'возможность', 'нужно', 'ждать', 'товар', 'прибыть', 'пункт', 'выдача', 'отказаться', 'платно', 'либо', 'товар', 'доставить', 'течение', 'день', 'платно', 'отказаться', 'почему', 'отказаться', 'товар', 'отправка', 'пвз', 'допустить', 'течение', 'час', 'оформление', 'почему', 'должный', 'ждать', 'нужный', 'товар', 'платить', 'отказ', 'ждать', 'возвращение', 'денежный', 'средство', 'являться', 'это', 'нарушение', 'закон', 'ред', 'защита', 'право', 'потребитель', 'статья', 'пункт', 'заниматься', 'дать', 'торговый', 'площадка', 'элементарный', 'вымогательство', 'создавать', 'свой', 'покупатель', 'условие', 'который', 'должный', 'просто', 'отдавать', 'свой', 'деньга']\n"
     ]
    }
   ],
   "source": [
    "print(preprocess(data.question.iloc[1]))"
   ]
  },
  {
   "cell_type": "code",
   "execution_count": 20,
   "metadata": {
    "colab": {
     "base_uri": "https://localhost:8080/",
     "height": 66,
     "referenced_widgets": [
      "c5db15f805134b869887817835f301b1",
      "c6ad8e27121c4f909e74ec993281570d",
      "85065c1565e34dcf949fe1b000cae741",
      "4161c2a28c2e4d53993e0c60232ba619",
      "32891e0e6ed5423cbe9b35b9712411d5",
      "15bf3aeff54047258371a0d0e2babf7c",
      "7695232c7bb54bc2b9b679c127b2706e",
      "b4e7967843e94cae8c4a8d0cc8d41ce3"
     ]
    },
    "id": "S8PnTSmRf6Mp",
    "outputId": "37d244ae-0d6a-436f-fd19-9b1bc2d7ac5f"
   },
   "outputs": [
    {
     "data": {
      "application/vnd.jupyter.widget-view+json": {
       "model_id": "5c6a013009c746a3bac19bf654c69330",
       "version_major": 2,
       "version_minor": 0
      },
      "text/plain": [
       "  0%|          | 0/2495 [00:00<?, ?it/s]"
      ]
     },
     "metadata": {},
     "output_type": "display_data"
    }
   ],
   "source": [
    "preprocessed_text = list(tqdm(map(preprocess, data['question']), total=len(data)))"
   ]
  },
  {
   "cell_type": "code",
   "execution_count": 21,
   "metadata": {
    "colab": {
     "base_uri": "https://localhost:8080/",
     "height": 397
    },
    "id": "DriM5_5_f6Mq",
    "outputId": "43d95e2c-cb4e-4f02-b3af-1eaf911b17f3"
   },
   "outputs": [
    {
     "data": {
      "text/html": [
       "<div>\n",
       "<style scoped>\n",
       "    .dataframe tbody tr th:only-of-type {\n",
       "        vertical-align: middle;\n",
       "    }\n",
       "\n",
       "    .dataframe tbody tr th {\n",
       "        vertical-align: top;\n",
       "    }\n",
       "\n",
       "    .dataframe thead th {\n",
       "        text-align: right;\n",
       "    }\n",
       "</style>\n",
       "<table border=\"1\" class=\"dataframe\">\n",
       "  <thead>\n",
       "    <tr style=\"text-align: right;\">\n",
       "      <th></th>\n",
       "      <th>Unnamed: 0</th>\n",
       "      <th>question</th>\n",
       "      <th>question_prep</th>\n",
       "    </tr>\n",
       "  </thead>\n",
       "  <tbody>\n",
       "    <tr>\n",
       "      <th>1638</th>\n",
       "      <td>1638</td>\n",
       "      <td>Прошу обязать УК Вектор провести дезинсекцию п...</td>\n",
       "      <td>[просить, обязать, вектор, провести, дезинсекц...</td>\n",
       "    </tr>\n",
       "    <tr>\n",
       "      <th>314</th>\n",
       "      <td>314</td>\n",
       "      <td>Добрый день. Озон подтвердил возврат стирально...</td>\n",
       "      <td>[добрый, день, озон, подтвердить, возврат, сти...</td>\n",
       "    </tr>\n",
       "    <tr>\n",
       "      <th>2020</th>\n",
       "      <td>2020</td>\n",
       "      <td>Здравствуйте. Мне пришло сообщение от компании...</td>\n",
       "      <td>[здравствуйте, прийти, сообщение, компания, от...</td>\n",
       "    </tr>\n",
       "  </tbody>\n",
       "</table>\n",
       "</div>"
      ],
      "text/plain": [
       "      Unnamed: 0                                           question  \\\n",
       "1638        1638  Прошу обязать УК Вектор провести дезинсекцию п...   \n",
       "314          314  Добрый день. Озон подтвердил возврат стирально...   \n",
       "2020        2020  Здравствуйте. Мне пришло сообщение от компании...   \n",
       "\n",
       "                                          question_prep  \n",
       "1638  [просить, обязать, вектор, провести, дезинсекц...  \n",
       "314   [добрый, день, озон, подтвердить, возврат, сти...  \n",
       "2020  [здравствуйте, прийти, сообщение, компания, от...  "
      ]
     },
     "execution_count": 21,
     "metadata": {},
     "output_type": "execute_result"
    }
   ],
   "source": [
    "data['question_prep'] = preprocessed_text\n",
    "data.sample(3)"
   ]
  },
  {
   "cell_type": "markdown",
   "metadata": {
    "id": "FFmXozKkf6Mq"
   },
   "source": [
    "## Модель LDA"
   ]
  },
  {
   "cell_type": "code",
   "execution_count": 22,
   "metadata": {
    "colab": {
     "base_uri": "https://localhost:8080/"
    },
    "id": "8Q0q12sDPl3m",
    "outputId": "c806d5cd-3d1a-4e63-8ff1-c9869851cd0d"
   },
   "outputs": [
    {
     "name": "stdout",
     "output_type": "stream",
     "text": [
      "/bin/bash: /home/ekaterina/anaconda3/lib/libtinfo.so.6: no version information available (required by /bin/bash)\n",
      "Requirement already satisfied: gensim in /home/ekaterina/anaconda3/lib/python3.9/site-packages (4.1.2)\n",
      "Collecting gensim\n",
      "  Downloading gensim-4.3.2-cp39-cp39-manylinux_2_17_x86_64.manylinux2014_x86_64.whl (26.6 MB)\n",
      "\u001b[K     |████████████████████████████████| 26.6 MB 3.6 MB/s eta 0:00:01\n",
      "\u001b[?25hRequirement already satisfied: numpy>=1.18.5 in /home/ekaterina/anaconda3/lib/python3.9/site-packages (from gensim) (1.22.4)\n",
      "Requirement already satisfied: smart-open>=1.8.1 in /home/ekaterina/anaconda3/lib/python3.9/site-packages (from gensim) (6.4.0)\n",
      "Requirement already satisfied: scipy>=1.7.0 in /home/ekaterina/anaconda3/lib/python3.9/site-packages (from gensim) (1.7.3)\n",
      "Installing collected packages: gensim\n",
      "  Attempting uninstall: gensim\n",
      "    Found existing installation: gensim 4.1.2\n",
      "    Uninstalling gensim-4.1.2:\n",
      "      Successfully uninstalled gensim-4.1.2\n",
      "Successfully installed gensim-4.3.2\n"
     ]
    }
   ],
   "source": [
    "!pip install -U gensim"
   ]
  },
  {
   "cell_type": "code",
   "execution_count": 23,
   "metadata": {
    "id": "jITId1Axf6Mq"
   },
   "outputs": [],
   "source": [
    "from gensim.models import *\n",
    "from gensim import corpora"
   ]
  },
  {
   "cell_type": "markdown",
   "metadata": {
    "id": "b1usmvtHf6Mq"
   },
   "source": [
    "Модель использует векторное представление документов, например, мешок слов (bow), поэтому сперва создадим словарь:"
   ]
  },
  {
   "cell_type": "code",
   "execution_count": 24,
   "metadata": {
    "id": "l9-iZNVuf6Mq"
   },
   "outputs": [],
   "source": [
    "dictionary = corpora.Dictionary(data['question_prep'])\n",
    "\n",
    "dictionary.filter_extremes(no_below = 5, no_above = 0.95, keep_n=None) # игнорируем слова, которые встречаются реже 5 раз или составляют более 0.95 словаря \n",
    "dictionary.save('rospotreb.dict')"
   ]
  },
  {
   "cell_type": "markdown",
   "metadata": {
    "id": "gUZtBF3gf6Mq"
   },
   "source": [
    "Векторизуем документы:"
   ]
  },
  {
   "cell_type": "code",
   "execution_count": 25,
   "metadata": {
    "id": "Sn17WY1vf6Mq"
   },
   "outputs": [],
   "source": [
    "corpus = [dictionary.doc2bow(text) for text in data['question_prep']]\n",
    "corpora.MmCorpus.serialize('rospotreb.model', corpus) "
   ]
  },
  {
   "cell_type": "markdown",
   "metadata": {
    "id": "cx4kZUtff6Mq"
   },
   "source": [
    "Теперь можем обучать модель:"
   ]
  },
  {
   "cell_type": "code",
   "execution_count": 26,
   "metadata": {
    "colab": {
     "base_uri": "https://localhost:8080/"
    },
    "id": "oOzLXIDQf6Mq",
    "outputId": "0783ca0e-aa3b-48d6-c8ab-5bd1657e665e"
   },
   "outputs": [
    {
     "name": "stdout",
     "output_type": "stream",
     "text": [
      "CPU times: user 1.86 s, sys: 1.25 s, total: 3.11 s\n",
      "Wall time: 1.57 s\n"
     ]
    }
   ],
   "source": [
    "%time lda = ldamodel.LdaModel(corpus, id2word=dictionary, num_topics=30, chunksize=50, update_every=1, passes=2)"
   ]
  },
  {
   "cell_type": "markdown",
   "metadata": {
    "id": "BbQWg_jPf6Mq"
   },
   "source": [
    "Посмотрим на получившиеся темы:"
   ]
  },
  {
   "cell_type": "code",
   "execution_count": 29,
   "metadata": {
    "colab": {
     "base_uri": "https://localhost:8080/"
    },
    "id": "EqQzwFm2c1_B",
    "outputId": "a69fe8ba-d8b7-483a-e95e-addf2e0b6b1f"
   },
   "outputs": [
    {
     "data": {
      "text/plain": [
       "[(20,\n",
       "  '0.063*\"день\" + 0.049*\"средство\" + 0.035*\"ответ\" + 0.033*\"денежный\" + 0.026*\"получить\" + 0.025*\"срок\" + 0.023*\"оплата\" + 0.020*\"поступить\" + 0.020*\"сумма\" + 0.019*\"течение\"'),\n",
       " (25,\n",
       "  '0.167*\"очень\" + 0.111*\"экспертиза\" + 0.111*\"детский\" + 0.091*\"обувь\" + 0.052*\"температура\" + 0.046*\"комната\" + 0.046*\"группа\" + 0.037*\"киров\" + 0.031*\"материал\" + 0.030*\"годность\"'),\n",
       " (4,\n",
       "  '0.129*\"оплатить\" + 0.122*\"сайт\" + 0.057*\"условие\" + 0.053*\"курьер\" + 0.033*\"спасибо\" + 0.030*\"осуществлять\" + 0.030*\"изменение\" + 0.025*\"иной\" + 0.024*\"утверждать\" + 0.023*\"случай\"'),\n",
       " (11,\n",
       "  '0.122*\"услуга\" + 0.082*\"потребитель\" + 0.062*\"право\" + 0.051*\"закон\" + 0.046*\"год\" + 0.041*\"оператор\" + 0.036*\"информация\" + 0.032*\"защита\" + 0.030*\"компания\" + 0.028*\"подать\"'),\n",
       " (5,\n",
       "  '0.000*\"эксплуатация\" + 0.000*\"повлечь\" + 0.000*\"ограничение\" + 0.000*\"продолжить\" + 0.000*\"применение\" + 0.000*\"полчаса\" + 0.000*\"стиральный\" + 0.000*\"незаконный\" + 0.000*\"необоснованный\" + 0.000*\"опломбировать\"'),\n",
       " (21,\n",
       "  '0.000*\"повлечь\" + 0.000*\"опломбировать\" + 0.000*\"продолжить\" + 0.000*\"применение\" + 0.000*\"полчаса\" + 0.000*\"стиральный\" + 0.000*\"незаконный\" + 0.000*\"необоснованный\" + 0.000*\"угроза\" + 0.000*\"ограничение\"'),\n",
       " (0,\n",
       "  '0.161*\"провести\" + 0.150*\"проверка\" + 0.131*\"почему\" + 0.091*\"продукт\" + 0.074*\"возможно\" + 0.074*\"просить\" + 0.037*\"платить\" + 0.033*\"находиться\" + 0.031*\"данный\" + 0.025*\"хороший\"'),\n",
       " (13,\n",
       "  '0.088*\"день\" + 0.081*\"пожалуйста\" + 0.065*\"подсказать\" + 0.058*\"добрый\" + 0.055*\"невозможно\" + 0.045*\"брать\" + 0.041*\"подойти\" + 0.039*\"законно\" + 0.033*\"делать\" + 0.029*\"здоровье\"'),\n",
       " (14,\n",
       "  '0.166*\"банк\" + 0.154*\"карта\" + 0.091*\"счёт\" + 0.056*\"остаться\" + 0.049*\"перевод\" + 0.036*\"количество\" + 0.036*\"открытый\" + 0.029*\"копия\" + 0.027*\"общий\" + 0.027*\"порядок\"'),\n",
       " (18,\n",
       "  '0.114*\"площадка\" + 0.070*\"место\" + 0.057*\"проверить\" + 0.048*\"видеть\" + 0.046*\"фото\" + 0.043*\"область\" + 0.037*\"адрес\" + 0.036*\"просить\" + 0.034*\"находиться\" + 0.031*\"забирать\"')]"
      ]
     },
     "execution_count": 29,
     "metadata": {},
     "output_type": "execute_result"
    }
   ],
   "source": [
    "lda.show_topics(num_topics=10, num_words=10, formatted=True)"
   ]
  },
  {
   "cell_type": "markdown",
   "metadata": {
    "id": "N1_QuVBaf6Mr"
   },
   "source": [
    "Посмотрим на метрики качества получившейся модели: перплексию и среднюю когерентность:"
   ]
  },
  {
   "cell_type": "code",
   "execution_count": 33,
   "metadata": {
    "colab": {
     "base_uri": "https://localhost:8080/"
    },
    "id": "ZotOH4d6f6Mr",
    "outputId": "5054802c-7d61-441c-9c35-fd62298b8322"
   },
   "outputs": [
    {
     "name": "stdout",
     "output_type": "stream",
     "text": [
      "-15.372088637325428\n"
     ]
    }
   ],
   "source": [
    "print(lda.log_perplexity(corpus))\n"
   ]
  },
  {
   "cell_type": "code",
   "execution_count": 34,
   "metadata": {
    "colab": {
     "base_uri": "https://localhost:8080/"
    },
    "id": "VqyxqodWf6Mr",
    "outputId": "9ab44faa-9629-41f4-aa3e-96f0195ad9ca"
   },
   "outputs": [
    {
     "name": "stdout",
     "output_type": "stream",
     "text": [
      "Персплексия:  2.1085151573407054e-07\n"
     ]
    }
   ],
   "source": [
    "print('Персплексия: ', np.exp(lda.log_perplexity(corpus)))"
   ]
  },
  {
   "cell_type": "code",
   "execution_count": 35,
   "metadata": {
    "colab": {
     "base_uri": "https://localhost:8080/"
    },
    "id": "agpzf-CVf6Mr",
    "outputId": "e50cd17d-585c-41ca-de11-f9e4cfd6412c"
   },
   "outputs": [
    {
     "name": "stdout",
     "output_type": "stream",
     "text": [
      "Средняя когерентность:  0.3436410915908497\n"
     ]
    }
   ],
   "source": [
    "coherence_model_lda = CoherenceModel(model=lda, texts=data['question_prep'], dictionary=dictionary, coherence='c_v')\n",
    "coherence_lda = coherence_model_lda.get_coherence()\n",
    "print('Средняя когерентность: ', coherence_lda)"
   ]
  },
  {
   "cell_type": "markdown",
   "metadata": {
    "id": "QscCr17Zf6Mr"
   },
   "source": [
    "Теперь можно подобрать оптимальное количество тем, опираясь на значение метрик:"
   ]
  },
  {
   "cell_type": "code",
   "execution_count": 36,
   "metadata": {
    "id": "UZBPpBxYf6Mr"
   },
   "outputs": [],
   "source": [
    "import matplotlib.pyplot as plt\n",
    "%matplotlib inline"
   ]
  },
  {
   "cell_type": "code",
   "execution_count": 38,
   "metadata": {
    "colab": {
     "base_uri": "https://localhost:8080/",
     "height": 328,
     "referenced_widgets": [
      "cbb8bf6d4f4d4d67b07184732996de9c",
      "a01dad28f9a141f9aea1f4eb0c1dd1ab",
      "f585a45cc1664ec1baa521f873a27532",
      "1847c95665e7477fb1cfe4f9c7b68188",
      "351af6e9d11547b78d9e4b8d26060264",
      "cc231a00b547499293dd22cc06134cef",
      "2e658cc97cf04cf098b56f2cc61f1311",
      "d1bf7879e95f4fb3855744e017528cf8"
     ]
    },
    "id": "q7dUj8ClSOvg",
    "outputId": "0c81a67f-f7a3-4fdd-84a4-90b26156a8dd"
   },
   "outputs": [
    {
     "data": {
      "application/vnd.jupyter.widget-view+json": {
       "model_id": "918bd83431bb4eb0bdfc3f3f31d5a1bc",
       "version_major": 2,
       "version_minor": 0
      },
      "text/plain": [
       "  0%|          | 0/8 [00:00<?, ?it/s]"
      ]
     },
     "metadata": {},
     "output_type": "display_data"
    },
    {
     "name": "stderr",
     "output_type": "stream",
     "text": [
      "/home/ekaterina/anaconda3/lib/python3.9/site-packages/gensim/models/ldamodel.py:850: RuntimeWarning: overflow encountered in exp2\n",
      "  perwordbound, np.exp2(-perwordbound), len(chunk), corpus_words\n"
     ]
    },
    {
     "data": {
      "image/png": "[encoded data removed]",
      "text/plain": [
       "<Figure size 432x288 with 1 Axes>"
      ]
     },
     "metadata": {
      "needs_background": "light"
     },
     "output_type": "display_data"
    }
   ],
   "source": [
    "topics_list = [20, 50, 100, 200, 500, 700, 1000, 2500]\n",
    "coherences = []\n",
    "\n",
    "for num in tqdm(topics_list):\n",
    "    lda = ldamodel.LdaModel(corpus, id2word=dictionary, num_topics=num, chunksize=50, update_every=1, passes=2)\n",
    "    coherences.append(CoherenceModel(model=lda, texts=data['question_prep'], dictionary=dictionary, coherence='c_v').get_coherence())\n",
    "\n",
    "plt.plot(topics_list, coherences)\n",
    "plt.xlabel(\"Число тем\")\n",
    "plt.ylabel(\"Средняя когерентность\")\n",
    "plt.show()"
   ]
  },
  {
   "cell_type": "markdown",
   "metadata": {},
   "source": [
    "Посмотрим динамику показателя perplexity в зависимости от количества тем"
   ]
  },
  {
   "cell_type": "code",
   "execution_count": 47,
   "metadata": {},
   "outputs": [
    {
     "data": {
      "application/vnd.jupyter.widget-view+json": {
       "model_id": "0c409cc251144e1ba426c47d6ca64cf4",
       "version_major": 2,
       "version_minor": 0
      },
      "text/plain": [
       "  0%|          | 0/8 [00:00<?, ?it/s]"
      ]
     },
     "metadata": {},
     "output_type": "display_data"
    },
    {
     "data": {
      "image/png": "[encoded data removed]",
      "text/plain": [
       "<Figure size 432x288 with 1 Axes>"
      ]
     },
     "metadata": {
      "needs_background": "light"
     },
     "output_type": "display_data"
    }
   ],
   "source": [
    "topics_list = [20, 50, 100, 200, 500, 700, 1000, 2500]\n",
    "perplexity = []\n",
    "\n",
    "for num in tqdm(topics_list):\n",
    "    lda = ldamodel.LdaModel(corpus, id2word=dictionary, num_topics=num, chunksize=50, update_every=1, passes=2)\n",
    "    perplexity.append(np.exp(lda.log_perplexity(corpus)))\n",
    "\n",
    "plt.plot(topics_list, perplexity)\n",
    "plt.xlabel(\"Число тем\")\n",
    "plt.ylabel(\"Perplexity\")\n",
    "plt.show()"
   ]
  },
  {
   "cell_type": "markdown",
   "metadata": {},
   "source": [
    "Исходя из анализа двух метрик выбираем оптимальное количество тем 1000."
   ]
  },
  {
   "cell_type": "code",
   "execution_count": 49,
   "metadata": {
    "colab": {
     "base_uri": "https://localhost:8080/",
     "height": 861
    },
    "id": "-l9FrKjff6Ms",
    "outputId": "d10c0a58-4f3b-4d98-a79e-1b7999243e99"
   },
   "outputs": [],
   "source": [
    "lda_model = ldamodel.LdaModel(corpus, id2word=dictionary, num_topics=1000, chunksize=50, update_every=1, passes=2)"
   ]
  },
  {
   "cell_type": "code",
   "execution_count": 50,
   "metadata": {},
   "outputs": [
    {
     "name": "stdout",
     "output_type": "stream",
     "text": [
      "-354.8091062006668\n"
     ]
    }
   ],
   "source": [
    "print(lda_model.log_perplexity(corpus))"
   ]
  },
  {
   "cell_type": "code",
   "execution_count": 51,
   "metadata": {},
   "outputs": [
    {
     "name": "stdout",
     "output_type": "stream",
     "text": [
      "Персплексия:  8.101041336775778e-155\n"
     ]
    }
   ],
   "source": [
    "print('Персплексия: ', np.exp(lda_model.log_perplexity(corpus)))"
   ]
  },
  {
   "cell_type": "code",
   "execution_count": 52,
   "metadata": {},
   "outputs": [
    {
     "name": "stdout",
     "output_type": "stream",
     "text": [
      "Средняя когерентность:  0.49969884917234697\n"
     ]
    }
   ],
   "source": [
    "coherence_model_lda = CoherenceModel(model=lda_model, texts=data['question_prep'], dictionary=dictionary, coherence='c_v')\n",
    "coherence_lda = coherence_model_lda.get_coherence()\n",
    "print('Средняя когерентность: ', coherence_lda)"
   ]
  },
  {
   "cell_type": "markdown",
   "metadata": {},
   "source": [
    "## Визуализация"
   ]
  },
  {
   "cell_type": "markdown",
   "metadata": {},
   "source": [
    "Для наглядности посмотрим визуализацию для модели LDA из 10 тем"
   ]
  },
  {
   "cell_type": "code",
   "execution_count": 64,
   "metadata": {},
   "outputs": [],
   "source": [
    "lda_model = ldamodel.LdaModel(corpus, id2word=dictionary, num_topics=10, chunksize=50, update_every=1, passes=2)"
   ]
  },
  {
   "cell_type": "code",
   "execution_count": 66,
   "metadata": {},
   "outputs": [
    {
     "name": "stderr",
     "output_type": "stream",
     "text": [
      "/home/ekaterina/anaconda3/lib/python3.9/site-packages/sklearn/manifold/_t_sne.py:790: FutureWarning: The default learning rate in TSNE will change from 200.0 to 'auto' in 1.2.\n",
      "  warnings.warn(\n",
      "/home/ekaterina/anaconda3/lib/python3.9/site-packages/sklearn/manifold/_t_sne.py:982: FutureWarning: The PCA initialization in TSNE will change to have the standard deviation of PC1 equal to 1e-4 in 1.2. This will ensure better convergence.\n",
      "  warnings.warn(\n"
     ]
    },
    {
     "name": "stdout",
     "output_type": "stream",
     "text": [
      "[t-SNE] Computing 91 nearest neighbors...\n",
      "[t-SNE] Indexed 1335 samples in 0.001s...\n",
      "[t-SNE] Computed neighbors for 1335 samples in 0.030s...\n",
      "[t-SNE] Computed conditional probabilities for sample 1000 / 1335\n",
      "[t-SNE] Computed conditional probabilities for sample 1335 / 1335\n",
      "[t-SNE] Mean sigma: 0.103155\n",
      "[t-SNE] KL divergence after 250 iterations with early exaggeration: 65.305626\n",
      "[t-SNE] KL divergence after 1000 iterations: 0.821507\n"
     ]
    },
    {
     "name": "stderr",
     "output_type": "stream",
     "text": [
      "/home/ekaterina/anaconda3/lib/python3.9/site-packages/bokeh/io/notebook.py:487: DeprecationWarning: The `source` parameter emit a  deprecation warning since IPython 8.0, it had no effects for a long time and will  be removed in future versions.\n",
      "  publish_display_data(data, metadata, source, transient=transient, **kwargs)\n"
     ]
    },
    {
     "data": {
      "text/html": [
       "\n",
       "    <div class=\"bk-root\">\n",
       "        <a href=\"https://bokeh.org\" target=\"_blank\" class=\"bk-logo bk-logo-small bk-logo-notebook\"></a>\n",
       "        <span id=\"1037\">Loading BokehJS ...</span>\n",
       "    </div>"
      ]
     },
     "metadata": {},
     "output_type": "display_data"
    },
    {
     "name": "stderr",
     "output_type": "stream",
     "text": [
      "/home/ekaterina/anaconda3/lib/python3.9/site-packages/bokeh/io/notebook.py:487: DeprecationWarning: The `source` parameter emit a  deprecation warning since IPython 8.0, it had no effects for a long time and will  be removed in future versions.\n",
      "  publish_display_data(data, metadata, source, transient=transient, **kwargs)\n"
     ]
    },
    {
     "data": {
      "application/javascript": [
       "\n",
       "(function(root) {\n",
       "  function now() {\n",
       "    return new Date();\n",
       "  }\n",
       "\n",
       "  const force = true;\n",
       "\n",
       "  if (typeof root._bokeh_onload_callbacks === \"undefined\" || force === true) {\n",
       "    root._bokeh_onload_callbacks = [];\n",
       "    root._bokeh_is_loading = undefined;\n",
       "  }\n",
       "\n",
       "  const JS_MIME_TYPE = 'application/javascript';\n",
       "  const HTML_MIME_TYPE = 'text/html';\n",
       "  const EXEC_MIME_TYPE = 'application/vnd.bokehjs_exec.v0+json';\n",
       "  const CLASS_NAME = 'output_bokeh rendered_html';\n",
       "\n",
       "  /**\n",
       "   * Render data to the DOM node\n",
       "   */\n",
       "  function render(props, node) {\n",
       "    const script = document.createElement(\"script\");\n",
       "    node.appendChild(script);\n",
       "  }\n",
       "\n",
       "  /**\n",
       "   * Handle when an output is cleared or removed\n",
       "   */\n",
       "  function handleClearOutput(event, handle) {\n",
       "    const cell = handle.cell;\n",
       "\n",
       "    const id = cell.output_area._bokeh_element_id;\n",
       "    const server_id = cell.output_area._bokeh_server_id;\n",
       "    // Clean up Bokeh references\n",
       "    if (id != null && id in Bokeh.index) {\n",
       "      Bokeh.index[id].model.document.clear();\n",
       "      delete Bokeh.index[id];\n",
       "    }\n",
       "\n",
       "    if (server_id !== undefined) {\n",
       "      // Clean up Bokeh references\n",
       "      const cmd_clean = \"from bokeh.io.state import curstate; print(curstate().uuid_to_server['\" + server_id + \"'].get_sessions()[0].document.roots[0]._id)\";\n",
       "      cell.notebook.kernel.execute(cmd_clean, {\n",
       "        iopub: {\n",
       "          output: function(msg) {\n",
       "            const id = msg.content.text.trim();\n",
       "            if (id in Bokeh.index) {\n",
       "              Bokeh.index[id].model.document.clear();\n",
       "              delete Bokeh.index[id];\n",
       "            }\n",
       "          }\n",
       "        }\n",
       "      });\n",
       "      // Destroy server and session\n",
       "      const cmd_destroy = \"import bokeh.io.notebook as ion; ion.destroy_server('\" + server_id + \"')\";\n",
       "      cell.notebook.kernel.execute(cmd_destroy);\n",
       "    }\n",
       "  }\n",
       "\n",
       "  /**\n",
       "   * Handle when a new output is added\n",
       "   */\n",
       "  function handleAddOutput(event, handle) {\n",
       "    const output_area = handle.output_area;\n",
       "    const output = handle.output;\n",
       "\n",
       "    // limit handleAddOutput to display_data with EXEC_MIME_TYPE content only\n",
       "    if ((output.output_type != \"display_data\") || (!Object.prototype.hasOwnProperty.call(output.data, EXEC_MIME_TYPE))) {\n",
       "      return\n",
       "    }\n",
       "\n",
       "    const toinsert = output_area.element.find(\".\" + CLASS_NAME.split(' ')[0]);\n",
       "\n",
       "    if (output.metadata[EXEC_MIME_TYPE][\"id\"] !== undefined) {\n",
       "      toinsert[toinsert.length - 1].firstChild.textContent = output.data[JS_MIME_TYPE];\n",
       "      // store reference to embed id on output_area\n",
       "      output_area._bokeh_element_id = output.metadata[EXEC_MIME_TYPE][\"id\"];\n",
       "    }\n",
       "    if (output.metadata[EXEC_MIME_TYPE][\"server_id\"] !== undefined) {\n",
       "      const bk_div = document.createElement(\"div\");\n",
       "      bk_div.innerHTML = output.data[HTML_MIME_TYPE];\n",
       "      const script_attrs = bk_div.children[0].attributes;\n",
       "      for (let i = 0; i < script_attrs.length; i++) {\n",
       "        toinsert[toinsert.length - 1].firstChild.setAttribute(script_attrs[i].name, script_attrs[i].value);\n",
       "        toinsert[toinsert.length - 1].firstChild.textContent = bk_div.children[0].textContent\n",
       "      }\n",
       "      // store reference to server id on output_area\n",
       "      output_area._bokeh_server_id = output.metadata[EXEC_MIME_TYPE][\"server_id\"];\n",
       "    }\n",
       "  }\n",
       "\n",
       "  function register_renderer(events, OutputArea) {\n",
       "\n",
       "    function append_mime(data, metadata, element) {\n",
       "      // create a DOM node to render to\n",
       "      const toinsert = this.create_output_subarea(\n",
       "        metadata,\n",
       "        CLASS_NAME,\n",
       "        EXEC_MIME_TYPE\n",
       "      );\n",
       "      this.keyboard_manager.register_events(toinsert);\n",
       "      // Render to node\n",
       "      const props = {data: data, metadata: metadata[EXEC_MIME_TYPE]};\n",
       "      render(props, toinsert[toinsert.length - 1]);\n",
       "      element.append(toinsert);\n",
       "      return toinsert\n",
       "    }\n",
       "\n",
       "    /* Handle when an output is cleared or removed */\n",
       "    events.on('clear_output.CodeCell', handleClearOutput);\n",
       "    events.on('delete.Cell', handleClearOutput);\n",
       "\n",
       "    /* Handle when a new output is added */\n",
       "    events.on('output_added.OutputArea', handleAddOutput);\n",
       "\n",
       "    /**\n",
       "     * Register the mime type and append_mime function with output_area\n",
       "     */\n",
       "    OutputArea.prototype.register_mime_type(EXEC_MIME_TYPE, append_mime, {\n",
       "      /* Is output safe? */\n",
       "      safe: true,\n",
       "      /* Index of renderer in `output_area.display_order` */\n",
       "      index: 0\n",
       "    });\n",
       "  }\n",
       "\n",
       "  // register the mime type if in Jupyter Notebook environment and previously unregistered\n",
       "  if (root.Jupyter !== undefined) {\n",
       "    const events = require('base/js/events');\n",
       "    const OutputArea = require('notebook/js/outputarea').OutputArea;\n",
       "\n",
       "    if (OutputArea.prototype.mime_types().indexOf(EXEC_MIME_TYPE) == -1) {\n",
       "      register_renderer(events, OutputArea);\n",
       "    }\n",
       "  }\n",
       "\n",
       "  \n",
       "  if (typeof (root._bokeh_timeout) === \"undefined\" || force === true) {\n",
       "    root._bokeh_timeout = Date.now() + 5000;\n",
       "    root._bokeh_failed_load = false;\n",
       "  }\n",
       "\n",
       "  const NB_LOAD_WARNING = {'data': {'text/html':\n",
       "     \"<div style='background-color: #fdd'>\\n\"+\n",
       "     \"<p>\\n\"+\n",
       "     \"BokehJS does not appear to have successfully loaded. If loading BokehJS from CDN, this \\n\"+\n",
       "     \"may be due to a slow or bad network connection. Possible fixes:\\n\"+\n",
       "     \"</p>\\n\"+\n",
       "     \"<ul>\\n\"+\n",
       "     \"<li>re-rerun `output_notebook()` to attempt to load from CDN again, or</li>\\n\"+\n",
       "     \"<li>use INLINE resources instead, as so:</li>\\n\"+\n",
       "     \"</ul>\\n\"+\n",
       "     \"<code>\\n\"+\n",
       "     \"from bokeh.resources import INLINE\\n\"+\n",
       "     \"output_notebook(resources=INLINE)\\n\"+\n",
       "     \"</code>\\n\"+\n",
       "     \"</div>\"}};\n",
       "\n",
       "  function display_loaded() {\n",
       "    const el = document.getElementById(\"1037\");\n",
       "    if (el != null) {\n",
       "      el.textContent = \"BokehJS is loading...\";\n",
       "    }\n",
       "    if (root.Bokeh !== undefined) {\n",
       "      if (el != null) {\n",
       "        el.textContent = \"BokehJS \" + root.Bokeh.version + \" successfully loaded.\";\n",
       "      }\n",
       "    } else if (Date.now() < root._bokeh_timeout) {\n",
       "      setTimeout(display_loaded, 100)\n",
       "    }\n",
       "  }\n",
       "\n",
       "\n",
       "  function run_callbacks() {\n",
       "    try {\n",
       "      root._bokeh_onload_callbacks.forEach(function(callback) {\n",
       "        if (callback != null)\n",
       "          callback();\n",
       "      });\n",
       "    } finally {\n",
       "      delete root._bokeh_onload_callbacks\n",
       "    }\n",
       "    console.debug(\"Bokeh: all callbacks have finished\");\n",
       "  }\n",
       "\n",
       "  function load_libs(css_urls, js_urls, callback) {\n",
       "    if (css_urls == null) css_urls = [];\n",
       "    if (js_urls == null) js_urls = [];\n",
       "\n",
       "    root._bokeh_onload_callbacks.push(callback);\n",
       "    if (root._bokeh_is_loading > 0) {\n",
       "      console.debug(\"Bokeh: BokehJS is being loaded, scheduling callback at\", now());\n",
       "      return null;\n",
       "    }\n",
       "    if (js_urls == null || js_urls.length === 0) {\n",
       "      run_callbacks();\n",
       "      return null;\n",
       "    }\n",
       "    console.debug(\"Bokeh: BokehJS not loaded, scheduling load and callback at\", now());\n",
       "    root._bokeh_is_loading = css_urls.length + js_urls.length;\n",
       "\n",
       "    function on_load() {\n",
       "      root._bokeh_is_loading--;\n",
       "      if (root._bokeh_is_loading === 0) {\n",
       "        console.debug(\"Bokeh: all BokehJS libraries/stylesheets loaded\");\n",
       "        run_callbacks()\n",
       "      }\n",
       "    }\n",
       "\n",
       "    function on_error(url) {\n",
       "      console.error(\"failed to load \" + url);\n",
       "    }\n",
       "\n",
       "    for (let i = 0; i < css_urls.length; i++) {\n",
       "      const url = css_urls[i];\n",
       "      const element = document.createElement(\"link\");\n",
       "      element.onload = on_load;\n",
       "      element.onerror = on_error.bind(null, url);\n",
       "      element.rel = \"stylesheet\";\n",
       "      element.type = \"text/css\";\n",
       "      element.href = url;\n",
       "      console.debug(\"Bokeh: injecting link tag for BokehJS stylesheet: \", url);\n",
       "      document.body.appendChild(element);\n",
       "    }\n",
       "\n",
       "    for (let i = 0; i < js_urls.length; i++) {\n",
       "      const url = js_urls[i];\n",
       "      const element = document.createElement('script');\n",
       "      element.onload = on_load;\n",
       "      element.onerror = on_error.bind(null, url);\n",
       "      element.async = false;\n",
       "      element.src = url;\n",
       "      console.debug(\"Bokeh: injecting script tag for BokehJS library: \", url);\n",
       "      document.head.appendChild(element);\n",
       "    }\n",
       "  };\n",
       "\n",
       "  function inject_raw_css(css) {\n",
       "    const element = document.createElement(\"style\");\n",
       "    element.appendChild(document.createTextNode(css));\n",
       "    document.body.appendChild(element);\n",
       "  }\n",
       "\n",
       "  \n",
       "  const js_urls = [\"https://cdn.bokeh.org/bokeh/release/bokeh-2.4.2.min.js\", \"https://cdn.bokeh.org/bokeh/release/bokeh-gl-2.4.2.min.js\", \"https://cdn.bokeh.org/bokeh/release/bokeh-widgets-2.4.2.min.js\", \"https://cdn.bokeh.org/bokeh/release/bokeh-tables-2.4.2.min.js\", \"https://cdn.bokeh.org/bokeh/release/bokeh-mathjax-2.4.2.min.js\"];\n",
       "  const css_urls = [];\n",
       "  \n",
       "\n",
       "  const inline_js = [\n",
       "    function(Bokeh) {\n",
       "      Bokeh.set_log_level(\"info\");\n",
       "    },\n",
       "    function(Bokeh) {\n",
       "    \n",
       "    \n",
       "    }\n",
       "  ];\n",
       "\n",
       "  function run_inline_js() {\n",
       "    \n",
       "    if (root.Bokeh !== undefined || force === true) {\n",
       "      \n",
       "    for (let i = 0; i < inline_js.length; i++) {\n",
       "      inline_js[i].call(root, root.Bokeh);\n",
       "    }\n",
       "    if (force === true) {\n",
       "        display_loaded();\n",
       "      }} else if (Date.now() < root._bokeh_timeout) {\n",
       "      setTimeout(run_inline_js, 100);\n",
       "    } else if (!root._bokeh_failed_load) {\n",
       "      console.log(\"Bokeh: BokehJS failed to load within specified timeout.\");\n",
       "      root._bokeh_failed_load = true;\n",
       "    } else if (force !== true) {\n",
       "      const cell = $(document.getElementById(\"1037\")).parents('.cell').data().cell;\n",
       "      cell.output_area.append_execute_result(NB_LOAD_WARNING)\n",
       "    }\n",
       "\n",
       "  }\n",
       "\n",
       "  if (root._bokeh_is_loading === 0) {\n",
       "    console.debug(\"Bokeh: BokehJS loaded, going straight to plotting\");\n",
       "    run_inline_js();\n",
       "  } else {\n",
       "    load_libs(css_urls, js_urls, function() {\n",
       "      console.debug(\"Bokeh: BokehJS plotting callback run at\", now());\n",
       "      run_inline_js();\n",
       "    });\n",
       "  }\n",
       "}(window));"
      ],
      "application/vnd.bokehjs_load.v0+json": "\n(function(root) {\n  function now() {\n    return new Date();\n  }\n\n  const force = true;\n\n  if (typeof root._bokeh_onload_callbacks === \"undefined\" || force === true) {\n    root._bokeh_onload_callbacks = [];\n    root._bokeh_is_loading = undefined;\n  }\n\n  \n\n  \n  if (typeof (root._bokeh_timeout) === \"undefined\" || force === true) {\n    root._bokeh_timeout = Date.now() + 5000;\n    root._bokeh_failed_load = false;\n  }\n\n  const NB_LOAD_WARNING = {'data': {'text/html':\n     \"<div style='background-color: #fdd'>\\n\"+\n     \"<p>\\n\"+\n     \"BokehJS does not appear to have successfully loaded. If loading BokehJS from CDN, this \\n\"+\n     \"may be due to a slow or bad network connection. Possible fixes:\\n\"+\n     \"</p>\\n\"+\n     \"<ul>\\n\"+\n     \"<li>re-rerun `output_notebook()` to attempt to load from CDN again, or</li>\\n\"+\n     \"<li>use INLINE resources instead, as so:</li>\\n\"+\n     \"</ul>\\n\"+\n     \"<code>\\n\"+\n     \"from bokeh.resources import INLINE\\n\"+\n     \"output_notebook(resources=INLINE)\\n\"+\n     \"</code>\\n\"+\n     \"</div>\"}};\n\n  function display_loaded() {\n    const el = document.getElementById(\"1037\");\n    if (el != null) {\n      el.textContent = \"BokehJS is loading...\";\n    }\n    if (root.Bokeh !== undefined) {\n      if (el != null) {\n        el.textContent = \"BokehJS \" + root.Bokeh.version + \" successfully loaded.\";\n      }\n    } else if (Date.now() < root._bokeh_timeout) {\n      setTimeout(display_loaded, 100)\n    }\n  }\n\n\n  function run_callbacks() {\n    try {\n      root._bokeh_onload_callbacks.forEach(function(callback) {\n        if (callback != null)\n          callback();\n      });\n    } finally {\n      delete root._bokeh_onload_callbacks\n    }\n    console.debug(\"Bokeh: all callbacks have finished\");\n  }\n\n  function load_libs(css_urls, js_urls, callback) {\n    if (css_urls == null) css_urls = [];\n    if (js_urls == null) js_urls = [];\n\n    root._bokeh_onload_callbacks.push(callback);\n    if (root._bokeh_is_loading > 0) {\n      console.debug(\"Bokeh: BokehJS is being loaded, scheduling callback at\", now());\n      return null;\n    }\n    if (js_urls == null || js_urls.length === 0) {\n      run_callbacks();\n      return null;\n    }\n    console.debug(\"Bokeh: BokehJS not loaded, scheduling load and callback at\", now());\n    root._bokeh_is_loading = css_urls.length + js_urls.length;\n\n    function on_load() {\n      root._bokeh_is_loading--;\n      if (root._bokeh_is_loading === 0) {\n        console.debug(\"Bokeh: all BokehJS libraries/stylesheets loaded\");\n        run_callbacks()\n      }\n    }\n\n    function on_error(url) {\n      console.error(\"failed to load \" + url);\n    }\n\n    for (let i = 0; i < css_urls.length; i++) {\n      const url = css_urls[i];\n      const element = document.createElement(\"link\");\n      element.onload = on_load;\n      element.onerror = on_error.bind(null, url);\n      element.rel = \"stylesheet\";\n      element.type = \"text/css\";\n      element.href = url;\n      console.debug(\"Bokeh: injecting link tag for BokehJS stylesheet: \", url);\n      document.body.appendChild(element);\n    }\n\n    for (let i = 0; i < js_urls.length; i++) {\n      const url = js_urls[i];\n      const element = document.createElement('script');\n      element.onload = on_load;\n      element.onerror = on_error.bind(null, url);\n      element.async = false;\n      element.src = url;\n      console.debug(\"Bokeh: injecting script tag for BokehJS library: \", url);\n      document.head.appendChild(element);\n    }\n  };\n\n  function inject_raw_css(css) {\n    const element = document.createElement(\"style\");\n    element.appendChild(document.createTextNode(css));\n    document.body.appendChild(element);\n  }\n\n  \n  const js_urls = [\"https://cdn.bokeh.org/bokeh/release/bokeh-2.4.2.min.js\", \"https://cdn.bokeh.org/bokeh/release/bokeh-gl-2.4.2.min.js\", \"https://cdn.bokeh.org/bokeh/release/bokeh-widgets-2.4.2.min.js\", \"https://cdn.bokeh.org/bokeh/release/bokeh-tables-2.4.2.min.js\", \"https://cdn.bokeh.org/bokeh/release/bokeh-mathjax-2.4.2.min.js\"];\n  const css_urls = [];\n  \n\n  const inline_js = [\n    function(Bokeh) {\n      Bokeh.set_log_level(\"info\");\n    },\n    function(Bokeh) {\n    \n    \n    }\n  ];\n\n  function run_inline_js() {\n    \n    if (root.Bokeh !== undefined || force === true) {\n      \n    for (let i = 0; i < inline_js.length; i++) {\n      inline_js[i].call(root, root.Bokeh);\n    }\n    if (force === true) {\n        display_loaded();\n      }} else if (Date.now() < root._bokeh_timeout) {\n      setTimeout(run_inline_js, 100);\n    } else if (!root._bokeh_failed_load) {\n      console.log(\"Bokeh: BokehJS failed to load within specified timeout.\");\n      root._bokeh_failed_load = true;\n    } else if (force !== true) {\n      const cell = $(document.getElementById(\"1037\")).parents('.cell').data().cell;\n      cell.output_area.append_execute_result(NB_LOAD_WARNING)\n    }\n\n  }\n\n  if (root._bokeh_is_loading === 0) {\n    console.debug(\"Bokeh: BokehJS loaded, going straight to plotting\");\n    run_inline_js();\n  } else {\n    load_libs(css_urls, js_urls, function() {\n      console.debug(\"Bokeh: BokehJS plotting callback run at\", now());\n      run_inline_js();\n    });\n  }\n}(window));"
     },
     "metadata": {},
     "output_type": "display_data"
    },
    {
     "name": "stderr",
     "output_type": "stream",
     "text": [
      "/home/ekaterina/anaconda3/lib/python3.9/site-packages/bokeh/io/notebook.py:487: DeprecationWarning: The `source` parameter emit a  deprecation warning since IPython 8.0, it had no effects for a long time and will  be removed in future versions.\n",
      "  publish_display_data(data, metadata, source, transient=transient, **kwargs)\n"
     ]
    },
    {
     "data": {
      "text/html": [
       "\n",
       "\n",
       "\n",
       "\n",
       "\n",
       "\n",
       "  <div class=\"bk-root\" id=\"5d419c34-4a55-46fc-a9b2-db327a8ebb6e\" data-root-id=\"1038\"></div>\n"
      ]
     },
     "metadata": {},
     "output_type": "display_data"
    },
    {
     "name": "stderr",
     "output_type": "stream",
     "text": [
      "/home/ekaterina/anaconda3/lib/python3.9/site-packages/bokeh/io/notebook.py:487: DeprecationWarning: The `source` parameter emit a  deprecation warning since IPython 8.0, it had no effects for a long time and will  be removed in future versions.\n",
      "  publish_display_data(data, metadata, source, transient=transient, **kwargs)\n"
     ]
    },
    {
     "data": {
      "application/javascript": [
       "(function(root) {\n",
       "  function embed_document(root) {\n",
       "    \n",
       "  const docs_json = {\"6deaa8b1-7c7e-4b60-8807-90950b641948\":{\"defs\":[],\"roots\":{\"references\":[{\"attributes\":{\"below\":[{\"id\":\"1049\"}],\"center\":[{\"id\":\"1052\"},{\"id\":\"1056\"}],\"height\":700,\"left\":[{\"id\":\"1053\"}],\"renderers\":[{\"id\":\"1075\"}],\"title\":{\"id\":\"1039\"},\"toolbar\":{\"id\":\"1064\"},\"width\":900,\"x_range\":{\"id\":\"1041\"},\"x_scale\":{\"id\":\"1045\"},\"y_range\":{\"id\":\"1043\"},\"y_scale\":{\"id\":\"1047\"}},\"id\":\"1038\",\"subtype\":\"Figure\",\"type\":\"Plot\"},{\"attributes\":{},\"id\":\"1041\",\"type\":\"DataRange1d\"},{\"attributes\":{},\"id\":\"1061\",\"type\":\"ResetTool\"},{\"attributes\":{},\"id\":\"1058\",\"type\":\"WheelZoomTool\"},{\"attributes\":{\"fill_color\":{\"field\":\"fill_color\"},\"hatch_color\":{\"field\":\"hatch_color\"},\"line_color\":{\"field\":\"line_color\"},\"x\":{\"field\":\"x\"},\"y\":{\"field\":\"y\"}},\"id\":\"1072\",\"type\":\"Scatter\"},{\"attributes\":{},\"id\":\"1057\",\"type\":\"PanTool\"},{\"attributes\":{},\"id\":\"1084\",\"type\":\"UnionRenderers\"},{\"attributes\":{},\"id\":\"1083\",\"type\":\"AllLabels\"},{\"attributes\":{\"source\":{\"id\":\"1071\"}},\"id\":\"1076\",\"type\":\"CDSView\"},{\"attributes\":{\"coordinates\":null,\"group\":null,\"text\":\"t-SNE Clustering of 4 LDA Topics\"},\"id\":\"1039\",\"type\":\"Title\"},{\"attributes\":{},\"id\":\"1079\",\"type\":\"BasicTickFormatter\"},{\"attributes\":{},\"id\":\"1043\",\"type\":\"DataRange1d\"},{\"attributes\":{\"overlay\":{\"id\":\"1063\"}},\"id\":\"1059\",\"type\":\"BoxZoomTool\"},{\"attributes\":{},\"id\":\"1060\",\"type\":\"SaveTool\"},{\"attributes\":{},\"id\":\"1082\",\"type\":\"BasicTickFormatter\"},{\"attributes\":{\"fill_alpha\":{\"value\":0.2},\"fill_color\":{\"field\":\"fill_color\"},\"hatch_alpha\":{\"value\":0.2},\"hatch_color\":{\"field\":\"hatch_color\"},\"line_alpha\":{\"value\":0.2},\"line_color\":{\"field\":\"line_color\"},\"x\":{\"field\":\"x\"},\"y\":{\"field\":\"y\"}},\"id\":\"1074\",\"type\":\"Scatter\"},{\"attributes\":{},\"id\":\"1085\",\"type\":\"Selection\"},{\"attributes\":{\"axis\":{\"id\":\"1053\"},\"coordinates\":null,\"dimension\":1,\"group\":null,\"ticker\":null},\"id\":\"1056\",\"type\":\"Grid\"},{\"attributes\":{},\"id\":\"1050\",\"type\":\"BasicTicker\"},{\"attributes\":{},\"id\":\"1080\",\"type\":\"AllLabels\"},{\"attributes\":{},\"id\":\"1047\",\"type\":\"LinearScale\"},{\"attributes\":{\"axis\":{\"id\":\"1049\"},\"coordinates\":null,\"group\":null,\"ticker\":null},\"id\":\"1052\",\"type\":\"Grid\"},{\"attributes\":{},\"id\":\"1054\",\"type\":\"BasicTicker\"},{\"attributes\":{\"coordinates\":null,\"formatter\":{\"id\":\"1079\"},\"group\":null,\"major_label_policy\":{\"id\":\"1080\"},\"ticker\":{\"id\":\"1054\"}},\"id\":\"1053\",\"type\":\"LinearAxis\"},{\"attributes\":{\"coordinates\":null,\"data_source\":{\"id\":\"1071\"},\"glyph\":{\"id\":\"1072\"},\"group\":null,\"hover_glyph\":null,\"muted_glyph\":{\"id\":\"1074\"},\"nonselection_glyph\":{\"id\":\"1073\"},\"view\":{\"id\":\"1076\"}},\"id\":\"1075\",\"type\":\"GlyphRenderer\"},{\"attributes\":{},\"id\":\"1062\",\"type\":\"HelpTool\"},{\"attributes\":{\"tools\":[{\"id\":\"1057\"},{\"id\":\"1058\"},{\"id\":\"1059\"},{\"id\":\"1060\"},{\"id\":\"1061\"},{\"id\":\"1062\"}]},\"id\":\"1064\",\"type\":\"Toolbar\"},{\"attributes\":{\"coordinates\":null,\"formatter\":{\"id\":\"1082\"},\"group\":null,\"major_label_policy\":{\"id\":\"1083\"},\"ticker\":{\"id\":\"1050\"}},\"id\":\"1049\",\"type\":\"LinearAxis\"},{\"attributes\":{},\"id\":\"1045\",\"type\":\"LinearScale\"},{\"attributes\":{\"bottom_units\":\"screen\",\"coordinates\":null,\"fill_alpha\":0.5,\"fill_color\":\"lightgrey\",\"group\":null,\"left_units\":\"screen\",\"level\":\"overlay\",\"line_alpha\":1.0,\"line_color\":\"black\",\"line_dash\":[4,4],\"line_width\":2,\"right_units\":\"screen\",\"syncable\":false,\"top_units\":\"screen\"},\"id\":\"1063\",\"type\":\"BoxAnnotation\"},{\"attributes\":{\"data\":{\"fill_color\":[\"#9467bd\",\"#ff7f0e\",\"#8c564b\",\"#2ca02c\",\"#1f77b4\",\"#ff7f0e\",\"#9467bd\",\"#2ca02c\",\"#ff7f0e\",\"#d62728\",\"#8c564b\",\"#2ca02c\",\"#1f77b4\",\"#8c564b\",\"#d62728\",\"#1f77b4\",\"#d62728\",\"#ff7f0e\",\"#1f77b4\",\"#2ca02c\",\"#d62728\",\"#d62728\",\"#d62728\",\"#2ca02c\",\"#2ca02c\",\"#1f77b4\",\"#2ca02c\",\"#d62728\",\"#2ca02c\",\"#ff7f0e\",\"#1f77b4\",\"#1f77b4\",\"#ff7f0e\",\"#ff7f0e\",\"#1f77b4\",\"#1f77b4\",\"#1f77b4\",\"#ff7f0e\",\"#2ca02c\",\"#1f77b4\",\"#2ca02c\",\"#d62728\",\"#d62728\",\"#2ca02c\",\"#7f7f7f\",\"#2ca02c\",\"#d62728\",\"#d62728\",\"#2ca02c\",\"#2ca02c\",\"#8c564b\",\"#1f77b4\",\"#e377c2\",\"#8c564b\",\"#ff7f0e\",\"#d62728\",\"#8c564b\",\"#8c564b\",\"#d62728\",\"#d62728\",\"#2ca02c\",\"#ff7f0e\",\"#ff7f0e\",\"#1f77b4\",\"#2ca02c\",\"#2ca02c\",\"#2ca02c\",\"#ff7f0e\",\"#1f77b4\",\"#1f77b4\",\"#ff7f0e\",\"#ff7f0e\",\"#1f77b4\",\"#2ca02c\",\"#e377c2\",\"#d62728\",\"#ff7f0e\",\"#ff7f0e\",\"#ff7f0e\",\"#9467bd\",\"#1f77b4\",\"#d62728\",\"#1f77b4\",\"#8c564b\",\"#d62728\",\"#8c564b\",\"#2ca02c\",\"#2ca02c\",\"#8c564b\",\"#ff7f0e\",\"#1f77b4\",\"#9467bd\",\"#ff7f0e\",\"#8c564b\",\"#1f77b4\",\"#8c564b\",\"#2ca02c\",\"#9467bd\",\"#9467bd\",\"#9467bd\",\"#2ca02c\",\"#ff7f0e\",\"#2ca02c\",\"#ff7f0e\",\"#2ca02c\",\"#2ca02c\",\"#2ca02c\",\"#e377c2\",\"#d62728\",\"#9467bd\",\"#17becf\",\"#d62728\",\"#2ca02c\",\"#1f77b4\",\"#9467bd\",\"#7f7f7f\",\"#ff7f0e\",\"#ff7f0e\",\"#2ca02c\",\"#ff7f0e\",\"#9467bd\",\"#1f77b4\",\"#ff7f0e\",\"#8c564b\",\"#d62728\",\"#2ca02c\",\"#2ca02c\",\"#8c564b\",\"#9467bd\",\"#7f7f7f\",\"#ff7f0e\",\"#d62728\",\"#8c564b\",\"#ff7f0e\",\"#ff7f0e\",\"#2ca02c\",\"#ff7f0e\",\"#8c564b\",\"#1f77b4\",\"#bcbd22\",\"#17becf\",\"#ff7f0e\",\"#d62728\",\"#9467bd\",\"#e377c2\",\"#1f77b4\",\"#9467bd\",\"#d62728\",\"#ff7f0e\",\"#1f77b4\",\"#2ca02c\",\"#7f7f7f\",\"#ff7f0e\",\"#9467bd\",\"#2ca02c\",\"#d62728\",\"#9467bd\",\"#1f77b4\",\"#ff7f0e\",\"#8c564b\",\"#d62728\",\"#1f77b4\",\"#d62728\",\"#1f77b4\",\"#1f77b4\",\"#ff7f0e\",\"#ff7f0e\",\"#ff7f0e\",\"#ff7f0e\",\"#e377c2\",\"#d62728\",\"#ff7f0e\",\"#d62728\",\"#9467bd\",\"#ff7f0e\",\"#2ca02c\",\"#1f77b4\",\"#2ca02c\",\"#ff7f0e\",\"#2ca02c\",\"#ff7f0e\",\"#2ca02c\",\"#d62728\",\"#9467bd\",\"#d62728\",\"#9467bd\",\"#ff7f0e\",\"#1f77b4\",\"#1f77b4\",\"#2ca02c\",\"#2ca02c\",\"#9467bd\",\"#d62728\",\"#ff7f0e\",\"#8c564b\",\"#1f77b4\",\"#1f77b4\",\"#2ca02c\",\"#2ca02c\",\"#d62728\",\"#1f77b4\",\"#2ca02c\",\"#1f77b4\",\"#7f7f7f\",\"#d62728\",\"#9467bd\",\"#ff7f0e\",\"#2ca02c\",\"#d62728\",\"#2ca02c\",\"#2ca02c\",\"#1f77b4\",\"#2ca02c\",\"#2ca02c\",\"#2ca02c\",\"#d62728\",\"#1f77b4\",\"#9467bd\",\"#1f77b4\",\"#2ca02c\",\"#8c564b\",\"#2ca02c\",\"#ff7f0e\",\"#2ca02c\",\"#8c564b\",\"#ff7f0e\",\"#9467bd\",\"#ff7f0e\",\"#9467bd\",\"#ff7f0e\",\"#1f77b4\",\"#1f77b4\",\"#e377c2\",\"#e377c2\",\"#7f7f7f\",\"#9467bd\",\"#7f7f7f\",\"#9467bd\",\"#d62728\",\"#8c564b\",\"#1f77b4\",\"#1f77b4\",\"#8c564b\",\"#8c564b\",\"#d62728\",\"#e377c2\",\"#d62728\",\"#9467bd\",\"#2ca02c\",\"#ff7f0e\",\"#d62728\",\"#8c564b\",\"#1f77b4\",\"#9467bd\",\"#1f77b4\",\"#d62728\",\"#1f77b4\",\"#2ca02c\",\"#d62728\",\"#8c564b\",\"#1f77b4\",\"#1f77b4\",\"#1f77b4\",\"#7f7f7f\",\"#1f77b4\",\"#d62728\",\"#d62728\",\"#ff7f0e\",\"#ff7f0e\",\"#9467bd\",\"#ff7f0e\",\"#ff7f0e\",\"#2ca02c\",\"#2ca02c\",\"#ff7f0e\",\"#1f77b4\",\"#bcbd22\",\"#ff7f0e\",\"#8c564b\",\"#1f77b4\",\"#2ca02c\",\"#9467bd\",\"#ff7f0e\",\"#1f77b4\",\"#d62728\",\"#ff7f0e\",\"#d62728\",\"#ff7f0e\",\"#1f77b4\",\"#1f77b4\",\"#d62728\",\"#d62728\",\"#9467bd\",\"#9467bd\",\"#1f77b4\",\"#1f77b4\",\"#2ca02c\",\"#9467bd\",\"#17becf\",\"#1f77b4\",\"#1f77b4\",\"#ff7f0e\",\"#ff7f0e\",\"#ff7f0e\",\"#ff7f0e\",\"#d62728\",\"#9467bd\",\"#ff7f0e\",\"#2ca02c\",\"#1f77b4\",\"#1f77b4\",\"#d62728\",\"#ff7f0e\",\"#9467bd\",\"#1f77b4\",\"#ff7f0e\",\"#ff7f0e\",\"#1f77b4\",\"#9467bd\",\"#ff7f0e\",\"#9467bd\",\"#ff7f0e\",\"#1f77b4\",\"#d62728\",\"#ff7f0e\",\"#ff7f0e\",\"#ff7f0e\",\"#2ca02c\",\"#9467bd\",\"#7f7f7f\",\"#1f77b4\",\"#2ca02c\",\"#7f7f7f\",\"#2ca02c\",\"#8c564b\",\"#9467bd\",\"#7f7f7f\",\"#d62728\",\"#1f77b4\",\"#1f77b4\",\"#d62728\",\"#2ca02c\",\"#17becf\",\"#e377c2\",\"#9467bd\",\"#d62728\",\"#ff7f0e\",\"#ff7f0e\",\"#ff7f0e\",\"#d62728\",\"#e377c2\",\"#ff7f0e\",\"#d62728\",\"#d62728\",\"#1f77b4\",\"#1f77b4\",\"#9467bd\",\"#ff7f0e\",\"#1f77b4\",\"#ff7f0e\",\"#9467bd\",\"#1f77b4\",\"#d62728\",\"#2ca02c\",\"#ff7f0e\",\"#9467bd\",\"#9467bd\",\"#1f77b4\",\"#2ca02c\",\"#ff7f0e\",\"#1f77b4\",\"#d62728\",\"#ff7f0e\",\"#9467bd\",\"#1f77b4\",\"#1f77b4\",\"#ff7f0e\",\"#d62728\",\"#ff7f0e\",\"#d62728\",\"#ff7f0e\",\"#8c564b\",\"#ff7f0e\",\"#ff7f0e\",\"#2ca02c\",\"#e377c2\",\"#ff7f0e\",\"#2ca02c\",\"#d62728\",\"#d62728\",\"#ff7f0e\",\"#2ca02c\",\"#1f77b4\",\"#1f77b4\",\"#ff7f0e\",\"#ff7f0e\",\"#9467bd\",\"#d62728\",\"#ff7f0e\",\"#1f77b4\",\"#ff7f0e\",\"#ff7f0e\",\"#ff7f0e\",\"#ff7f0e\",\"#9467bd\",\"#ff7f0e\",\"#1f77b4\",\"#9467bd\",\"#d62728\",\"#1f77b4\",\"#ff7f0e\",\"#1f77b4\",\"#9467bd\",\"#ff7f0e\",\"#7f7f7f\",\"#ff7f0e\",\"#e377c2\",\"#8c564b\",\"#2ca02c\",\"#8c564b\",\"#8c564b\",\"#8c564b\",\"#d62728\",\"#d62728\",\"#ff7f0e\",\"#ff7f0e\",\"#ff7f0e\",\"#9467bd\",\"#9467bd\",\"#2ca02c\",\"#ff7f0e\",\"#e377c2\",\"#8c564b\",\"#d62728\",\"#9467bd\",\"#9467bd\",\"#9467bd\",\"#ff7f0e\",\"#ff7f0e\",\"#ff7f0e\",\"#1f77b4\",\"#ff7f0e\",\"#9467bd\",\"#1f77b4\",\"#ff7f0e\",\"#1f77b4\",\"#ff7f0e\",\"#ff7f0e\",\"#ff7f0e\",\"#e377c2\",\"#ff7f0e\",\"#1f77b4\",\"#d62728\",\"#1f77b4\",\"#d62728\",\"#7f7f7f\",\"#2ca02c\",\"#d62728\",\"#2ca02c\",\"#d62728\",\"#d62728\",\"#e377c2\",\"#8c564b\",\"#9467bd\",\"#ff7f0e\",\"#9467bd\",\"#d62728\",\"#ff7f0e\",\"#1f77b4\",\"#9467bd\",\"#e377c2\",\"#2ca02c\",\"#d62728\",\"#2ca02c\",\"#d62728\",\"#8c564b\",\"#7f7f7f\",\"#2ca02c\",\"#9467bd\",\"#1f77b4\",\"#8c564b\",\"#ff7f0e\",\"#d62728\",\"#d62728\",\"#1f77b4\",\"#d62728\",\"#9467bd\",\"#ff7f0e\",\"#2ca02c\",\"#ff7f0e\",\"#2ca02c\",\"#ff7f0e\",\"#d62728\",\"#8c564b\",\"#9467bd\",\"#e377c2\",\"#e377c2\",\"#ff7f0e\",\"#2ca02c\",\"#2ca02c\",\"#1f77b4\",\"#9467bd\",\"#e377c2\",\"#1f77b4\",\"#1f77b4\",\"#d62728\",\"#2ca02c\",\"#9467bd\",\"#1f77b4\",\"#ff7f0e\",\"#2ca02c\",\"#ff7f0e\",\"#7f7f7f\",\"#2ca02c\",\"#d62728\",\"#2ca02c\",\"#1f77b4\",\"#1f77b4\",\"#1f77b4\",\"#ff7f0e\",\"#1f77b4\",\"#e377c2\",\"#1f77b4\",\"#1f77b4\",\"#ff7f0e\",\"#1f77b4\",\"#9467bd\",\"#1f77b4\",\"#ff7f0e\",\"#d62728\",\"#9467bd\",\"#2ca02c\",\"#1f77b4\",\"#ff7f0e\",\"#e377c2\",\"#2ca02c\",\"#ff7f0e\",\"#d62728\",\"#ff7f0e\",\"#1f77b4\",\"#ff7f0e\",\"#d62728\",\"#ff7f0e\",\"#ff7f0e\",\"#ff7f0e\",\"#1f77b4\",\"#ff7f0e\",\"#e377c2\",\"#17becf\",\"#ff7f0e\",\"#1f77b4\",\"#1f77b4\",\"#d62728\",\"#e377c2\",\"#2ca02c\",\"#ff7f0e\",\"#ff7f0e\",\"#ff7f0e\",\"#ff7f0e\",\"#1f77b4\",\"#8c564b\",\"#8c564b\",\"#ff7f0e\",\"#ff7f0e\",\"#ff7f0e\",\"#1f77b4\",\"#1f77b4\",\"#d62728\",\"#9467bd\",\"#7f7f7f\",\"#9467bd\",\"#1f77b4\",\"#1f77b4\",\"#ff7f0e\",\"#d62728\",\"#d62728\",\"#2ca02c\",\"#e377c2\",\"#ff7f0e\",\"#d62728\",\"#d62728\",\"#2ca02c\",\"#2ca02c\",\"#ff7f0e\",\"#9467bd\",\"#d62728\",\"#ff7f0e\",\"#ff7f0e\",\"#d62728\",\"#ff7f0e\",\"#ff7f0e\",\"#d62728\",\"#ff7f0e\",\"#ff7f0e\",\"#2ca02c\",\"#ff7f0e\",\"#9467bd\",\"#9467bd\",\"#2ca02c\",\"#d62728\",\"#d62728\",\"#ff7f0e\",\"#1f77b4\",\"#d62728\",\"#8c564b\",\"#2ca02c\",\"#ff7f0e\",\"#e377c2\",\"#ff7f0e\",\"#ff7f0e\",\"#1f77b4\",\"#1f77b4\",\"#d62728\",\"#1f77b4\",\"#ff7f0e\",\"#1f77b4\",\"#d62728\",\"#1f77b4\",\"#ff7f0e\",\"#2ca02c\",\"#ff7f0e\",\"#ff7f0e\",\"#1f77b4\",\"#1f77b4\",\"#ff7f0e\",\"#9467bd\",\"#ff7f0e\",\"#d62728\",\"#1f77b4\",\"#ff7f0e\",\"#e377c2\",\"#1f77b4\",\"#1f77b4\",\"#d62728\",\"#1f77b4\",\"#2ca02c\",\"#ff7f0e\",\"#d62728\",\"#8c564b\",\"#e377c2\",\"#ff7f0e\",\"#1f77b4\",\"#d62728\",\"#9467bd\",\"#7f7f7f\",\"#1f77b4\",\"#1f77b4\",\"#2ca02c\",\"#2ca02c\",\"#8c564b\",\"#9467bd\",\"#d62728\",\"#2ca02c\",\"#d62728\",\"#ff7f0e\",\"#1f77b4\",\"#ff7f0e\",\"#e377c2\",\"#1f77b4\",\"#8c564b\",\"#ff7f0e\",\"#d62728\",\"#2ca02c\",\"#ff7f0e\",\"#2ca02c\",\"#9467bd\",\"#9467bd\",\"#ff7f0e\",\"#1f77b4\",\"#ff7f0e\",\"#1f77b4\",\"#d62728\",\"#2ca02c\",\"#d62728\",\"#ff7f0e\",\"#9467bd\",\"#d62728\",\"#e377c2\",\"#ff7f0e\",\"#7f7f7f\",\"#d62728\",\"#ff7f0e\",\"#bcbd22\",\"#1f77b4\",\"#1f77b4\",\"#ff7f0e\",\"#ff7f0e\",\"#2ca02c\",\"#ff7f0e\",\"#e377c2\",\"#2ca02c\",\"#8c564b\",\"#ff7f0e\",\"#ff7f0e\",\"#2ca02c\",\"#2ca02c\",\"#e377c2\",\"#ff7f0e\",\"#ff7f0e\",\"#ff7f0e\",\"#d62728\",\"#9467bd\",\"#d62728\",\"#9467bd\",\"#d62728\",\"#2ca02c\",\"#ff7f0e\",\"#e377c2\",\"#ff7f0e\",\"#ff7f0e\",\"#9467bd\",\"#ff7f0e\",\"#d62728\",\"#d62728\",\"#ff7f0e\",\"#1f77b4\",\"#ff7f0e\",\"#e377c2\",\"#1f77b4\",\"#9467bd\",\"#ff7f0e\",\"#9467bd\",\"#7f7f7f\",\"#d62728\",\"#ff7f0e\",\"#ff7f0e\",\"#d62728\",\"#8c564b\",\"#ff7f0e\",\"#d62728\",\"#2ca02c\",\"#9467bd\",\"#2ca02c\",\"#2ca02c\",\"#2ca02c\",\"#e377c2\",\"#1f77b4\",\"#ff7f0e\",\"#1f77b4\",\"#ff7f0e\",\"#ff7f0e\",\"#d62728\",\"#ff7f0e\",\"#1f77b4\",\"#9467bd\",\"#ff7f0e\",\"#9467bd\",\"#1f77b4\",\"#1f77b4\",\"#ff7f0e\",\"#9467bd\",\"#1f77b4\",\"#d62728\",\"#8c564b\",\"#1f77b4\",\"#1f77b4\",\"#ff7f0e\",\"#1f77b4\",\"#1f77b4\",\"#9467bd\",\"#9467bd\",\"#2ca02c\",\"#d62728\",\"#7f7f7f\",\"#8c564b\",\"#2ca02c\",\"#ff7f0e\",\"#1f77b4\",\"#1f77b4\",\"#1f77b4\",\"#2ca02c\",\"#1f77b4\",\"#8c564b\",\"#9467bd\",\"#2ca02c\",\"#1f77b4\",\"#2ca02c\",\"#ff7f0e\",\"#9467bd\",\"#ff7f0e\",\"#9467bd\",\"#d62728\",\"#1f77b4\",\"#2ca02c\",\"#8c564b\",\"#1f77b4\",\"#1f77b4\",\"#9467bd\",\"#ff7f0e\",\"#9467bd\",\"#1f77b4\",\"#ff7f0e\",\"#1f77b4\",\"#ff7f0e\",\"#d62728\",\"#ff7f0e\",\"#e377c2\",\"#ff7f0e\",\"#1f77b4\",\"#ff7f0e\",\"#8c564b\",\"#ff7f0e\",\"#d62728\",\"#1f77b4\",\"#d62728\",\"#d62728\",\"#e377c2\",\"#1f77b4\",\"#ff7f0e\",\"#2ca02c\",\"#1f77b4\",\"#ff7f0e\",\"#8c564b\",\"#1f77b4\",\"#9467bd\",\"#1f77b4\",\"#ff7f0e\",\"#2ca02c\",\"#ff7f0e\",\"#d62728\",\"#2ca02c\",\"#1f77b4\",\"#d62728\",\"#1f77b4\",\"#1f77b4\",\"#ff7f0e\",\"#ff7f0e\",\"#2ca02c\",\"#ff7f0e\",\"#17becf\",\"#1f77b4\",\"#1f77b4\",\"#1f77b4\",\"#d62728\",\"#ff7f0e\",\"#ff7f0e\",\"#2ca02c\",\"#9467bd\",\"#1f77b4\",\"#9467bd\",\"#ff7f0e\",\"#d62728\",\"#9467bd\",\"#d62728\",\"#d62728\",\"#9467bd\",\"#9467bd\",\"#2ca02c\",\"#ff7f0e\",\"#1f77b4\",\"#1f77b4\",\"#d62728\",\"#2ca02c\",\"#ff7f0e\",\"#e377c2\",\"#2ca02c\",\"#1f77b4\",\"#1f77b4\",\"#9467bd\",\"#ff7f0e\",\"#ff7f0e\",\"#ff7f0e\",\"#d62728\",\"#d62728\",\"#2ca02c\",\"#7f7f7f\",\"#1f77b4\",\"#d62728\",\"#2ca02c\",\"#d62728\",\"#8c564b\",\"#e377c2\",\"#1f77b4\",\"#ff7f0e\",\"#8c564b\",\"#2ca02c\",\"#ff7f0e\",\"#2ca02c\",\"#9467bd\",\"#1f77b4\",\"#ff7f0e\",\"#2ca02c\",\"#ff7f0e\",\"#9467bd\",\"#1f77b4\",\"#d62728\",\"#e377c2\",\"#d62728\",\"#ff7f0e\",\"#d62728\",\"#9467bd\",\"#9467bd\",\"#d62728\",\"#ff7f0e\",\"#ff7f0e\",\"#1f77b4\",\"#2ca02c\",\"#1f77b4\",\"#ff7f0e\",\"#d62728\",\"#2ca02c\",\"#e377c2\",\"#ff7f0e\",\"#9467bd\",\"#7f7f7f\",\"#2ca02c\",\"#1f77b4\",\"#2ca02c\",\"#e377c2\",\"#ff7f0e\",\"#1f77b4\",\"#2ca02c\",\"#8c564b\",\"#d62728\",\"#d62728\",\"#ff7f0e\",\"#ff7f0e\",\"#9467bd\",\"#1f77b4\",\"#d62728\",\"#2ca02c\",\"#ff7f0e\",\"#8c564b\",\"#1f77b4\",\"#bcbd22\",\"#bcbd22\",\"#ff7f0e\",\"#d62728\",\"#d62728\",\"#e377c2\",\"#1f77b4\",\"#ff7f0e\",\"#d62728\",\"#d62728\",\"#ff7f0e\",\"#8c564b\",\"#1f77b4\",\"#d62728\",\"#ff7f0e\",\"#ff7f0e\",\"#2ca02c\",\"#ff7f0e\",\"#e377c2\",\"#2ca02c\",\"#1f77b4\",\"#ff7f0e\",\"#ff7f0e\",\"#ff7f0e\",\"#17becf\",\"#ff7f0e\",\"#e377c2\",\"#1f77b4\",\"#17becf\",\"#1f77b4\",\"#e377c2\",\"#ff7f0e\",\"#9467bd\",\"#ff7f0e\",\"#2ca02c\",\"#ff7f0e\",\"#9467bd\",\"#2ca02c\",\"#1f77b4\",\"#ff7f0e\",\"#8c564b\",\"#9467bd\",\"#2ca02c\",\"#2ca02c\",\"#d62728\",\"#1f77b4\",\"#1f77b4\",\"#8c564b\",\"#9467bd\",\"#9467bd\",\"#ff7f0e\",\"#2ca02c\",\"#2ca02c\",\"#1f77b4\",\"#9467bd\",\"#9467bd\",\"#ff7f0e\",\"#8c564b\",\"#d62728\",\"#1f77b4\",\"#1f77b4\",\"#7f7f7f\",\"#ff7f0e\",\"#ff7f0e\",\"#ff7f0e\",\"#7f7f7f\",\"#d62728\",\"#8c564b\",\"#8c564b\",\"#9467bd\",\"#7f7f7f\",\"#ff7f0e\",\"#ff7f0e\",\"#e377c2\",\"#9467bd\",\"#ff7f0e\",\"#bcbd22\",\"#ff7f0e\",\"#ff7f0e\",\"#bcbd22\",\"#ff7f0e\",\"#1f77b4\",\"#9467bd\",\"#ff7f0e\",\"#1f77b4\",\"#d62728\",\"#ff7f0e\",\"#ff7f0e\",\"#9467bd\",\"#1f77b4\",\"#1f77b4\",\"#2ca02c\",\"#e377c2\",\"#2ca02c\",\"#1f77b4\",\"#1f77b4\",\"#ff7f0e\",\"#ff7f0e\",\"#8c564b\",\"#d62728\",\"#d62728\",\"#9467bd\",\"#d62728\",\"#d62728\",\"#ff7f0e\",\"#ff7f0e\",\"#2ca02c\",\"#ff7f0e\",\"#2ca02c\",\"#9467bd\",\"#8c564b\",\"#1f77b4\",\"#d62728\",\"#9467bd\",\"#9467bd\",\"#1f77b4\",\"#ff7f0e\",\"#7f7f7f\",\"#d62728\",\"#9467bd\",\"#ff7f0e\",\"#9467bd\",\"#1f77b4\",\"#ff7f0e\",\"#d62728\",\"#1f77b4\",\"#d62728\",\"#8c564b\",\"#9467bd\",\"#9467bd\",\"#1f77b4\",\"#2ca02c\",\"#d62728\",\"#d62728\",\"#1f77b4\",\"#1f77b4\",\"#2ca02c\",\"#ff7f0e\",\"#d62728\",\"#ff7f0e\",\"#2ca02c\",\"#ff7f0e\",\"#9467bd\",\"#2ca02c\",\"#e377c2\",\"#d62728\",\"#2ca02c\",\"#1f77b4\",\"#1f77b4\",\"#2ca02c\",\"#2ca02c\",\"#e377c2\",\"#1f77b4\",\"#1f77b4\",\"#9467bd\",\"#8c564b\",\"#ff7f0e\",\"#1f77b4\",\"#1f77b4\",\"#ff7f0e\",\"#d62728\",\"#ff7f0e\",\"#8c564b\",\"#e377c2\",\"#2ca02c\",\"#2ca02c\",\"#7f7f7f\",\"#d62728\",\"#ff7f0e\",\"#17becf\",\"#ff7f0e\",\"#ff7f0e\",\"#ff7f0e\",\"#8c564b\",\"#d62728\",\"#8c564b\",\"#9467bd\",\"#1f77b4\",\"#1f77b4\",\"#ff7f0e\",\"#2ca02c\",\"#ff7f0e\",\"#ff7f0e\",\"#1f77b4\",\"#ff7f0e\",\"#1f77b4\",\"#d62728\",\"#9467bd\",\"#d62728\",\"#9467bd\",\"#d62728\",\"#9467bd\",\"#ff7f0e\",\"#e377c2\",\"#ff7f0e\",\"#ff7f0e\",\"#ff7f0e\",\"#d62728\",\"#ff7f0e\",\"#ff7f0e\",\"#d62728\",\"#d62728\",\"#8c564b\",\"#ff7f0e\",\"#2ca02c\",\"#1f77b4\",\"#2ca02c\",\"#e377c2\",\"#ff7f0e\",\"#d62728\",\"#d62728\",\"#8c564b\",\"#ff7f0e\",\"#1f77b4\",\"#1f77b4\",\"#ff7f0e\",\"#8c564b\",\"#d62728\",\"#1f77b4\",\"#d62728\",\"#e377c2\",\"#d62728\",\"#8c564b\",\"#ff7f0e\",\"#ff7f0e\",\"#ff7f0e\",\"#d62728\",\"#9467bd\",\"#1f77b4\",\"#d62728\",\"#2ca02c\",\"#ff7f0e\",\"#9467bd\",\"#7f7f7f\",\"#1f77b4\",\"#2ca02c\",\"#ff7f0e\",\"#1f77b4\",\"#9467bd\",\"#ff7f0e\",\"#d62728\",\"#ff7f0e\",\"#1f77b4\",\"#ff7f0e\",\"#ff7f0e\",\"#ff7f0e\",\"#ff7f0e\",\"#ff7f0e\",\"#7f7f7f\",\"#1f77b4\",\"#ff7f0e\",\"#d62728\",\"#ff7f0e\",\"#9467bd\",\"#1f77b4\",\"#ff7f0e\",\"#1f77b4\",\"#9467bd\",\"#ff7f0e\",\"#9467bd\",\"#1f77b4\",\"#e377c2\",\"#9467bd\",\"#9467bd\",\"#d62728\",\"#8c564b\",\"#8c564b\",\"#d62728\",\"#17becf\",\"#9467bd\",\"#1f77b4\",\"#8c564b\",\"#ff7f0e\",\"#9467bd\",\"#17becf\",\"#2ca02c\",\"#2ca02c\",\"#1f77b4\",\"#1f77b4\",\"#ff7f0e\",\"#ff7f0e\",\"#ff7f0e\",\"#d62728\",\"#9467bd\",\"#ff7f0e\",\"#ff7f0e\",\"#bcbd22\",\"#1f77b4\",\"#2ca02c\",\"#1f77b4\",\"#ff7f0e\",\"#d62728\",\"#9467bd\",\"#ff7f0e\",\"#8c564b\",\"#2ca02c\",\"#1f77b4\",\"#e377c2\",\"#ff7f0e\",\"#e377c2\",\"#8c564b\",\"#2ca02c\",\"#e377c2\",\"#1f77b4\",\"#2ca02c\",\"#7f7f7f\",\"#2ca02c\",\"#7f7f7f\",\"#1f77b4\",\"#9467bd\",\"#8c564b\",\"#7f7f7f\",\"#d62728\",\"#ff7f0e\",\"#1f77b4\",\"#d62728\",\"#9467bd\",\"#1f77b4\",\"#8c564b\",\"#ff7f0e\",\"#9467bd\",\"#2ca02c\",\"#8c564b\",\"#ff7f0e\",\"#ff7f0e\",\"#ff7f0e\",\"#ff7f0e\",\"#1f77b4\",\"#e377c2\",\"#9467bd\",\"#e377c2\",\"#9467bd\",\"#9467bd\",\"#ff7f0e\",\"#9467bd\",\"#2ca02c\",\"#d62728\",\"#ff7f0e\",\"#ff7f0e\",\"#d62728\",\"#1f77b4\",\"#1f77b4\",\"#9467bd\",\"#ff7f0e\",\"#1f77b4\",\"#ff7f0e\",\"#2ca02c\",\"#2ca02c\",\"#2ca02c\",\"#d62728\",\"#9467bd\",\"#2ca02c\",\"#d62728\",\"#ff7f0e\",\"#ff7f0e\",\"#9467bd\",\"#9467bd\",\"#1f77b4\",\"#ff7f0e\",\"#ff7f0e\",\"#ff7f0e\",\"#ff7f0e\",\"#9467bd\",\"#9467bd\",\"#ff7f0e\",\"#ff7f0e\",\"#ff7f0e\",\"#1f77b4\",\"#e377c2\",\"#1f77b4\",\"#1f77b4\",\"#1f77b4\",\"#8c564b\",\"#1f77b4\",\"#8c564b\",\"#2ca02c\",\"#8c564b\",\"#ff7f0e\",\"#9467bd\",\"#ff7f0e\",\"#d62728\",\"#8c564b\",\"#ff7f0e\",\"#e377c2\",\"#ff7f0e\",\"#8c564b\",\"#ff7f0e\",\"#2ca02c\",\"#1f77b4\",\"#1f77b4\",\"#1f77b4\",\"#ff7f0e\",\"#ff7f0e\",\"#ff7f0e\",\"#ff7f0e\",\"#ff7f0e\",\"#7f7f7f\",\"#1f77b4\",\"#1f77b4\",\"#e377c2\",\"#ff7f0e\",\"#d62728\",\"#9467bd\",\"#ff7f0e\",\"#9467bd\",\"#e377c2\",\"#1f77b4\",\"#bcbd22\",\"#1f77b4\",\"#ff7f0e\",\"#bcbd22\"],\"hatch_color\":[\"#9467bd\",\"#ff7f0e\",\"#8c564b\",\"#2ca02c\",\"#1f77b4\",\"#ff7f0e\",\"#9467bd\",\"#2ca02c\",\"#ff7f0e\",\"#d62728\",\"#8c564b\",\"#2ca02c\",\"#1f77b4\",\"#8c564b\",\"#d62728\",\"#1f77b4\",\"#d62728\",\"#ff7f0e\",\"#1f77b4\",\"#2ca02c\",\"#d62728\",\"#d62728\",\"#d62728\",\"#2ca02c\",\"#2ca02c\",\"#1f77b4\",\"#2ca02c\",\"#d62728\",\"#2ca02c\",\"#ff7f0e\",\"#1f77b4\",\"#1f77b4\",\"#ff7f0e\",\"#ff7f0e\",\"#1f77b4\",\"#1f77b4\",\"#1f77b4\",\"#ff7f0e\",\"#2ca02c\",\"#1f77b4\",\"#2ca02c\",\"#d62728\",\"#d62728\",\"#2ca02c\",\"#7f7f7f\",\"#2ca02c\",\"#d62728\",\"#d62728\",\"#2ca02c\",\"#2ca02c\",\"#8c564b\",\"#1f77b4\",\"#e377c2\",\"#8c564b\",\"#ff7f0e\",\"#d62728\",\"#8c564b\",\"#8c564b\",\"#d62728\",\"#d62728\",\"#2ca02c\",\"#ff7f0e\",\"#ff7f0e\",\"#1f77b4\",\"#2ca02c\",\"#2ca02c\",\"#2ca02c\",\"#ff7f0e\",\"#1f77b4\",\"#1f77b4\",\"#ff7f0e\",\"#ff7f0e\",\"#1f77b4\",\"#2ca02c\",\"#e377c2\",\"#d62728\",\"#ff7f0e\",\"#ff7f0e\",\"#ff7f0e\",\"#9467bd\",\"#1f77b4\",\"#d62728\",\"#1f77b4\",\"#8c564b\",\"#d62728\",\"#8c564b\",\"#2ca02c\",\"#2ca02c\",\"#8c564b\",\"#ff7f0e\",\"#1f77b4\",\"#9467bd\",\"#ff7f0e\",\"#8c564b\",\"#1f77b4\",\"#8c564b\",\"#2ca02c\",\"#9467bd\",\"#9467bd\",\"#9467bd\",\"#2ca02c\",\"#ff7f0e\",\"#2ca02c\",\"#ff7f0e\",\"#2ca02c\",\"#2ca02c\",\"#2ca02c\",\"#e377c2\",\"#d62728\",\"#9467bd\",\"#17becf\",\"#d62728\",\"#2ca02c\",\"#1f77b4\",\"#9467bd\",\"#7f7f7f\",\"#ff7f0e\",\"#ff7f0e\",\"#2ca02c\",\"#ff7f0e\",\"#9467bd\",\"#1f77b4\",\"#ff7f0e\",\"#8c564b\",\"#d62728\",\"#2ca02c\",\"#2ca02c\",\"#8c564b\",\"#9467bd\",\"#7f7f7f\",\"#ff7f0e\",\"#d62728\",\"#8c564b\",\"#ff7f0e\",\"#ff7f0e\",\"#2ca02c\",\"#ff7f0e\",\"#8c564b\",\"#1f77b4\",\"#bcbd22\",\"#17becf\",\"#ff7f0e\",\"#d62728\",\"#9467bd\",\"#e377c2\",\"#1f77b4\",\"#9467bd\",\"#d62728\",\"#ff7f0e\",\"#1f77b4\",\"#2ca02c\",\"#7f7f7f\",\"#ff7f0e\",\"#9467bd\",\"#2ca02c\",\"#d62728\",\"#9467bd\",\"#1f77b4\",\"#ff7f0e\",\"#8c564b\",\"#d62728\",\"#1f77b4\",\"#d62728\",\"#1f77b4\",\"#1f77b4\",\"#ff7f0e\",\"#ff7f0e\",\"#ff7f0e\",\"#ff7f0e\",\"#e377c2\",\"#d62728\",\"#ff7f0e\",\"#d62728\",\"#9467bd\",\"#ff7f0e\",\"#2ca02c\",\"#1f77b4\",\"#2ca02c\",\"#ff7f0e\",\"#2ca02c\",\"#ff7f0e\",\"#2ca02c\",\"#d62728\",\"#9467bd\",\"#d62728\",\"#9467bd\",\"#ff7f0e\",\"#1f77b4\",\"#1f77b4\",\"#2ca02c\",\"#2ca02c\",\"#9467bd\",\"#d62728\",\"#ff7f0e\",\"#8c564b\",\"#1f77b4\",\"#1f77b4\",\"#2ca02c\",\"#2ca02c\",\"#d62728\",\"#1f77b4\",\"#2ca02c\",\"#1f77b4\",\"#7f7f7f\",\"#d62728\",\"#9467bd\",\"#ff7f0e\",\"#2ca02c\",\"#d62728\",\"#2ca02c\",\"#2ca02c\",\"#1f77b4\",\"#2ca02c\",\"#2ca02c\",\"#2ca02c\",\"#d62728\",\"#1f77b4\",\"#9467bd\",\"#1f77b4\",\"#2ca02c\",\"#8c564b\",\"#2ca02c\",\"#ff7f0e\",\"#2ca02c\",\"#8c564b\",\"#ff7f0e\",\"#9467bd\",\"#ff7f0e\",\"#9467bd\",\"#ff7f0e\",\"#1f77b4\",\"#1f77b4\",\"#e377c2\",\"#e377c2\",\"#7f7f7f\",\"#9467bd\",\"#7f7f7f\",\"#9467bd\",\"#d62728\",\"#8c564b\",\"#1f77b4\",\"#1f77b4\",\"#8c564b\",\"#8c564b\",\"#d62728\",\"#e377c2\",\"#d62728\",\"#9467bd\",\"#2ca02c\",\"#ff7f0e\",\"#d62728\",\"#8c564b\",\"#1f77b4\",\"#9467bd\",\"#1f77b4\",\"#d62728\",\"#1f77b4\",\"#2ca02c\",\"#d62728\",\"#8c564b\",\"#1f77b4\",\"#1f77b4\",\"#1f77b4\",\"#7f7f7f\",\"#1f77b4\",\"#d62728\",\"#d62728\",\"#ff7f0e\",\"#ff7f0e\",\"#9467bd\",\"#ff7f0e\",\"#ff7f0e\",\"#2ca02c\",\"#2ca02c\",\"#ff7f0e\",\"#1f77b4\",\"#bcbd22\",\"#ff7f0e\",\"#8c564b\",\"#1f77b4\",\"#2ca02c\",\"#9467bd\",\"#ff7f0e\",\"#1f77b4\",\"#d62728\",\"#ff7f0e\",\"#d62728\",\"#ff7f0e\",\"#1f77b4\",\"#1f77b4\",\"#d62728\",\"#d62728\",\"#9467bd\",\"#9467bd\",\"#1f77b4\",\"#1f77b4\",\"#2ca02c\",\"#9467bd\",\"#17becf\",\"#1f77b4\",\"#1f77b4\",\"#ff7f0e\",\"#ff7f0e\",\"#ff7f0e\",\"#ff7f0e\",\"#d62728\",\"#9467bd\",\"#ff7f0e\",\"#2ca02c\",\"#1f77b4\",\"#1f77b4\",\"#d62728\",\"#ff7f0e\",\"#9467bd\",\"#1f77b4\",\"#ff7f0e\",\"#ff7f0e\",\"#1f77b4\",\"#9467bd\",\"#ff7f0e\",\"#9467bd\",\"#ff7f0e\",\"#1f77b4\",\"#d62728\",\"#ff7f0e\",\"#ff7f0e\",\"#ff7f0e\",\"#2ca02c\",\"#9467bd\",\"#7f7f7f\",\"#1f77b4\",\"#2ca02c\",\"#7f7f7f\",\"#2ca02c\",\"#8c564b\",\"#9467bd\",\"#7f7f7f\",\"#d62728\",\"#1f77b4\",\"#1f77b4\",\"#d62728\",\"#2ca02c\",\"#17becf\",\"#e377c2\",\"#9467bd\",\"#d62728\",\"#ff7f0e\",\"#ff7f0e\",\"#ff7f0e\",\"#d62728\",\"#e377c2\",\"#ff7f0e\",\"#d62728\",\"#d62728\",\"#1f77b4\",\"#1f77b4\",\"#9467bd\",\"#ff7f0e\",\"#1f77b4\",\"#ff7f0e\",\"#9467bd\",\"#1f77b4\",\"#d62728\",\"#2ca02c\",\"#ff7f0e\",\"#9467bd\",\"#9467bd\",\"#1f77b4\",\"#2ca02c\",\"#ff7f0e\",\"#1f77b4\",\"#d62728\",\"#ff7f0e\",\"#9467bd\",\"#1f77b4\",\"#1f77b4\",\"#ff7f0e\",\"#d62728\",\"#ff7f0e\",\"#d62728\",\"#ff7f0e\",\"#8c564b\",\"#ff7f0e\",\"#ff7f0e\",\"#2ca02c\",\"#e377c2\",\"#ff7f0e\",\"#2ca02c\",\"#d62728\",\"#d62728\",\"#ff7f0e\",\"#2ca02c\",\"#1f77b4\",\"#1f77b4\",\"#ff7f0e\",\"#ff7f0e\",\"#9467bd\",\"#d62728\",\"#ff7f0e\",\"#1f77b4\",\"#ff7f0e\",\"#ff7f0e\",\"#ff7f0e\",\"#ff7f0e\",\"#9467bd\",\"#ff7f0e\",\"#1f77b4\",\"#9467bd\",\"#d62728\",\"#1f77b4\",\"#ff7f0e\",\"#1f77b4\",\"#9467bd\",\"#ff7f0e\",\"#7f7f7f\",\"#ff7f0e\",\"#e377c2\",\"#8c564b\",\"#2ca02c\",\"#8c564b\",\"#8c564b\",\"#8c564b\",\"#d62728\",\"#d62728\",\"#ff7f0e\",\"#ff7f0e\",\"#ff7f0e\",\"#9467bd\",\"#9467bd\",\"#2ca02c\",\"#ff7f0e\",\"#e377c2\",\"#8c564b\",\"#d62728\",\"#9467bd\",\"#9467bd\",\"#9467bd\",\"#ff7f0e\",\"#ff7f0e\",\"#ff7f0e\",\"#1f77b4\",\"#ff7f0e\",\"#9467bd\",\"#1f77b4\",\"#ff7f0e\",\"#1f77b4\",\"#ff7f0e\",\"#ff7f0e\",\"#ff7f0e\",\"#e377c2\",\"#ff7f0e\",\"#1f77b4\",\"#d62728\",\"#1f77b4\",\"#d62728\",\"#7f7f7f\",\"#2ca02c\",\"#d62728\",\"#2ca02c\",\"#d62728\",\"#d62728\",\"#e377c2\",\"#8c564b\",\"#9467bd\",\"#ff7f0e\",\"#9467bd\",\"#d62728\",\"#ff7f0e\",\"#1f77b4\",\"#9467bd\",\"#e377c2\",\"#2ca02c\",\"#d62728\",\"#2ca02c\",\"#d62728\",\"#8c564b\",\"#7f7f7f\",\"#2ca02c\",\"#9467bd\",\"#1f77b4\",\"#8c564b\",\"#ff7f0e\",\"#d62728\",\"#d62728\",\"#1f77b4\",\"#d62728\",\"#9467bd\",\"#ff7f0e\",\"#2ca02c\",\"#ff7f0e\",\"#2ca02c\",\"#ff7f0e\",\"#d62728\",\"#8c564b\",\"#9467bd\",\"#e377c2\",\"#e377c2\",\"#ff7f0e\",\"#2ca02c\",\"#2ca02c\",\"#1f77b4\",\"#9467bd\",\"#e377c2\",\"#1f77b4\",\"#1f77b4\",\"#d62728\",\"#2ca02c\",\"#9467bd\",\"#1f77b4\",\"#ff7f0e\",\"#2ca02c\",\"#ff7f0e\",\"#7f7f7f\",\"#2ca02c\",\"#d62728\",\"#2ca02c\",\"#1f77b4\",\"#1f77b4\",\"#1f77b4\",\"#ff7f0e\",\"#1f77b4\",\"#e377c2\",\"#1f77b4\",\"#1f77b4\",\"#ff7f0e\",\"#1f77b4\",\"#9467bd\",\"#1f77b4\",\"#ff7f0e\",\"#d62728\",\"#9467bd\",\"#2ca02c\",\"#1f77b4\",\"#ff7f0e\",\"#e377c2\",\"#2ca02c\",\"#ff7f0e\",\"#d62728\",\"#ff7f0e\",\"#1f77b4\",\"#ff7f0e\",\"#d62728\",\"#ff7f0e\",\"#ff7f0e\",\"#ff7f0e\",\"#1f77b4\",\"#ff7f0e\",\"#e377c2\",\"#17becf\",\"#ff7f0e\",\"#1f77b4\",\"#1f77b4\",\"#d62728\",\"#e377c2\",\"#2ca02c\",\"#ff7f0e\",\"#ff7f0e\",\"#ff7f0e\",\"#ff7f0e\",\"#1f77b4\",\"#8c564b\",\"#8c564b\",\"#ff7f0e\",\"#ff7f0e\",\"#ff7f0e\",\"#1f77b4\",\"#1f77b4\",\"#d62728\",\"#9467bd\",\"#7f7f7f\",\"#9467bd\",\"#1f77b4\",\"#1f77b4\",\"#ff7f0e\",\"#d62728\",\"#d62728\",\"#2ca02c\",\"#e377c2\",\"#ff7f0e\",\"#d62728\",\"#d62728\",\"#2ca02c\",\"#2ca02c\",\"#ff7f0e\",\"#9467bd\",\"#d62728\",\"#ff7f0e\",\"#ff7f0e\",\"#d62728\",\"#ff7f0e\",\"#ff7f0e\",\"#d62728\",\"#ff7f0e\",\"#ff7f0e\",\"#2ca02c\",\"#ff7f0e\",\"#9467bd\",\"#9467bd\",\"#2ca02c\",\"#d62728\",\"#d62728\",\"#ff7f0e\",\"#1f77b4\",\"#d62728\",\"#8c564b\",\"#2ca02c\",\"#ff7f0e\",\"#e377c2\",\"#ff7f0e\",\"#ff7f0e\",\"#1f77b4\",\"#1f77b4\",\"#d62728\",\"#1f77b4\",\"#ff7f0e\",\"#1f77b4\",\"#d62728\",\"#1f77b4\",\"#ff7f0e\",\"#2ca02c\",\"#ff7f0e\",\"#ff7f0e\",\"#1f77b4\",\"#1f77b4\",\"#ff7f0e\",\"#9467bd\",\"#ff7f0e\",\"#d62728\",\"#1f77b4\",\"#ff7f0e\",\"#e377c2\",\"#1f77b4\",\"#1f77b4\",\"#d62728\",\"#1f77b4\",\"#2ca02c\",\"#ff7f0e\",\"#d62728\",\"#8c564b\",\"#e377c2\",\"#ff7f0e\",\"#1f77b4\",\"#d62728\",\"#9467bd\",\"#7f7f7f\",\"#1f77b4\",\"#1f77b4\",\"#2ca02c\",\"#2ca02c\",\"#8c564b\",\"#9467bd\",\"#d62728\",\"#2ca02c\",\"#d62728\",\"#ff7f0e\",\"#1f77b4\",\"#ff7f0e\",\"#e377c2\",\"#1f77b4\",\"#8c564b\",\"#ff7f0e\",\"#d62728\",\"#2ca02c\",\"#ff7f0e\",\"#2ca02c\",\"#9467bd\",\"#9467bd\",\"#ff7f0e\",\"#1f77b4\",\"#ff7f0e\",\"#1f77b4\",\"#d62728\",\"#2ca02c\",\"#d62728\",\"#ff7f0e\",\"#9467bd\",\"#d62728\",\"#e377c2\",\"#ff7f0e\",\"#7f7f7f\",\"#d62728\",\"#ff7f0e\",\"#bcbd22\",\"#1f77b4\",\"#1f77b4\",\"#ff7f0e\",\"#ff7f0e\",\"#2ca02c\",\"#ff7f0e\",\"#e377c2\",\"#2ca02c\",\"#8c564b\",\"#ff7f0e\",\"#ff7f0e\",\"#2ca02c\",\"#2ca02c\",\"#e377c2\",\"#ff7f0e\",\"#ff7f0e\",\"#ff7f0e\",\"#d62728\",\"#9467bd\",\"#d62728\",\"#9467bd\",\"#d62728\",\"#2ca02c\",\"#ff7f0e\",\"#e377c2\",\"#ff7f0e\",\"#ff7f0e\",\"#9467bd\",\"#ff7f0e\",\"#d62728\",\"#d62728\",\"#ff7f0e\",\"#1f77b4\",\"#ff7f0e\",\"#e377c2\",\"#1f77b4\",\"#9467bd\",\"#ff7f0e\",\"#9467bd\",\"#7f7f7f\",\"#d62728\",\"#ff7f0e\",\"#ff7f0e\",\"#d62728\",\"#8c564b\",\"#ff7f0e\",\"#d62728\",\"#2ca02c\",\"#9467bd\",\"#2ca02c\",\"#2ca02c\",\"#2ca02c\",\"#e377c2\",\"#1f77b4\",\"#ff7f0e\",\"#1f77b4\",\"#ff7f0e\",\"#ff7f0e\",\"#d62728\",\"#ff7f0e\",\"#1f77b4\",\"#9467bd\",\"#ff7f0e\",\"#9467bd\",\"#1f77b4\",\"#1f77b4\",\"#ff7f0e\",\"#9467bd\",\"#1f77b4\",\"#d62728\",\"#8c564b\",\"#1f77b4\",\"#1f77b4\",\"#ff7f0e\",\"#1f77b4\",\"#1f77b4\",\"#9467bd\",\"#9467bd\",\"#2ca02c\",\"#d62728\",\"#7f7f7f\",\"#8c564b\",\"#2ca02c\",\"#ff7f0e\",\"#1f77b4\",\"#1f77b4\",\"#1f77b4\",\"#2ca02c\",\"#1f77b4\",\"#8c564b\",\"#9467bd\",\"#2ca02c\",\"#1f77b4\",\"#2ca02c\",\"#ff7f0e\",\"#9467bd\",\"#ff7f0e\",\"#9467bd\",\"#d62728\",\"#1f77b4\",\"#2ca02c\",\"#8c564b\",\"#1f77b4\",\"#1f77b4\",\"#9467bd\",\"#ff7f0e\",\"#9467bd\",\"#1f77b4\",\"#ff7f0e\",\"#1f77b4\",\"#ff7f0e\",\"#d62728\",\"#ff7f0e\",\"#e377c2\",\"#ff7f0e\",\"#1f77b4\",\"#ff7f0e\",\"#8c564b\",\"#ff7f0e\",\"#d62728\",\"#1f77b4\",\"#d62728\",\"#d62728\",\"#e377c2\",\"#1f77b4\",\"#ff7f0e\",\"#2ca02c\",\"#1f77b4\",\"#ff7f0e\",\"#8c564b\",\"#1f77b4\",\"#9467bd\",\"#1f77b4\",\"#ff7f0e\",\"#2ca02c\",\"#ff7f0e\",\"#d62728\",\"#2ca02c\",\"#1f77b4\",\"#d62728\",\"#1f77b4\",\"#1f77b4\",\"#ff7f0e\",\"#ff7f0e\",\"#2ca02c\",\"#ff7f0e\",\"#17becf\",\"#1f77b4\",\"#1f77b4\",\"#1f77b4\",\"#d62728\",\"#ff7f0e\",\"#ff7f0e\",\"#2ca02c\",\"#9467bd\",\"#1f77b4\",\"#9467bd\",\"#ff7f0e\",\"#d62728\",\"#9467bd\",\"#d62728\",\"#d62728\",\"#9467bd\",\"#9467bd\",\"#2ca02c\",\"#ff7f0e\",\"#1f77b4\",\"#1f77b4\",\"#d62728\",\"#2ca02c\",\"#ff7f0e\",\"#e377c2\",\"#2ca02c\",\"#1f77b4\",\"#1f77b4\",\"#9467bd\",\"#ff7f0e\",\"#ff7f0e\",\"#ff7f0e\",\"#d62728\",\"#d62728\",\"#2ca02c\",\"#7f7f7f\",\"#1f77b4\",\"#d62728\",\"#2ca02c\",\"#d62728\",\"#8c564b\",\"#e377c2\",\"#1f77b4\",\"#ff7f0e\",\"#8c564b\",\"#2ca02c\",\"#ff7f0e\",\"#2ca02c\",\"#9467bd\",\"#1f77b4\",\"#ff7f0e\",\"#2ca02c\",\"#ff7f0e\",\"#9467bd\",\"#1f77b4\",\"#d62728\",\"#e377c2\",\"#d62728\",\"#ff7f0e\",\"#d62728\",\"#9467bd\",\"#9467bd\",\"#d62728\",\"#ff7f0e\",\"#ff7f0e\",\"#1f77b4\",\"#2ca02c\",\"#1f77b4\",\"#ff7f0e\",\"#d62728\",\"#2ca02c\",\"#e377c2\",\"#ff7f0e\",\"#9467bd\",\"#7f7f7f\",\"#2ca02c\",\"#1f77b4\",\"#2ca02c\",\"#e377c2\",\"#ff7f0e\",\"#1f77b4\",\"#2ca02c\",\"#8c564b\",\"#d62728\",\"#d62728\",\"#ff7f0e\",\"#ff7f0e\",\"#9467bd\",\"#1f77b4\",\"#d62728\",\"#2ca02c\",\"#ff7f0e\",\"#8c564b\",\"#1f77b4\",\"#bcbd22\",\"#bcbd22\",\"#ff7f0e\",\"#d62728\",\"#d62728\",\"#e377c2\",\"#1f77b4\",\"#ff7f0e\",\"#d62728\",\"#d62728\",\"#ff7f0e\",\"#8c564b\",\"#1f77b4\",\"#d62728\",\"#ff7f0e\",\"#ff7f0e\",\"#2ca02c\",\"#ff7f0e\",\"#e377c2\",\"#2ca02c\",\"#1f77b4\",\"#ff7f0e\",\"#ff7f0e\",\"#ff7f0e\",\"#17becf\",\"#ff7f0e\",\"#e377c2\",\"#1f77b4\",\"#17becf\",\"#1f77b4\",\"#e377c2\",\"#ff7f0e\",\"#9467bd\",\"#ff7f0e\",\"#2ca02c\",\"#ff7f0e\",\"#9467bd\",\"#2ca02c\",\"#1f77b4\",\"#ff7f0e\",\"#8c564b\",\"#9467bd\",\"#2ca02c\",\"#2ca02c\",\"#d62728\",\"#1f77b4\",\"#1f77b4\",\"#8c564b\",\"#9467bd\",\"#9467bd\",\"#ff7f0e\",\"#2ca02c\",\"#2ca02c\",\"#1f77b4\",\"#9467bd\",\"#9467bd\",\"#ff7f0e\",\"#8c564b\",\"#d62728\",\"#1f77b4\",\"#1f77b4\",\"#7f7f7f\",\"#ff7f0e\",\"#ff7f0e\",\"#ff7f0e\",\"#7f7f7f\",\"#d62728\",\"#8c564b\",\"#8c564b\",\"#9467bd\",\"#7f7f7f\",\"#ff7f0e\",\"#ff7f0e\",\"#e377c2\",\"#9467bd\",\"#ff7f0e\",\"#bcbd22\",\"#ff7f0e\",\"#ff7f0e\",\"#bcbd22\",\"#ff7f0e\",\"#1f77b4\",\"#9467bd\",\"#ff7f0e\",\"#1f77b4\",\"#d62728\",\"#ff7f0e\",\"#ff7f0e\",\"#9467bd\",\"#1f77b4\",\"#1f77b4\",\"#2ca02c\",\"#e377c2\",\"#2ca02c\",\"#1f77b4\",\"#1f77b4\",\"#ff7f0e\",\"#ff7f0e\",\"#8c564b\",\"#d62728\",\"#d62728\",\"#9467bd\",\"#d62728\",\"#d62728\",\"#ff7f0e\",\"#ff7f0e\",\"#2ca02c\",\"#ff7f0e\",\"#2ca02c\",\"#9467bd\",\"#8c564b\",\"#1f77b4\",\"#d62728\",\"#9467bd\",\"#9467bd\",\"#1f77b4\",\"#ff7f0e\",\"#7f7f7f\",\"#d62728\",\"#9467bd\",\"#ff7f0e\",\"#9467bd\",\"#1f77b4\",\"#ff7f0e\",\"#d62728\",\"#1f77b4\",\"#d62728\",\"#8c564b\",\"#9467bd\",\"#9467bd\",\"#1f77b4\",\"#2ca02c\",\"#d62728\",\"#d62728\",\"#1f77b4\",\"#1f77b4\",\"#2ca02c\",\"#ff7f0e\",\"#d62728\",\"#ff7f0e\",\"#2ca02c\",\"#ff7f0e\",\"#9467bd\",\"#2ca02c\",\"#e377c2\",\"#d62728\",\"#2ca02c\",\"#1f77b4\",\"#1f77b4\",\"#2ca02c\",\"#2ca02c\",\"#e377c2\",\"#1f77b4\",\"#1f77b4\",\"#9467bd\",\"#8c564b\",\"#ff7f0e\",\"#1f77b4\",\"#1f77b4\",\"#ff7f0e\",\"#d62728\",\"#ff7f0e\",\"#8c564b\",\"#e377c2\",\"#2ca02c\",\"#2ca02c\",\"#7f7f7f\",\"#d62728\",\"#ff7f0e\",\"#17becf\",\"#ff7f0e\",\"#ff7f0e\",\"#ff7f0e\",\"#8c564b\",\"#d62728\",\"#8c564b\",\"#9467bd\",\"#1f77b4\",\"#1f77b4\",\"#ff7f0e\",\"#2ca02c\",\"#ff7f0e\",\"#ff7f0e\",\"#1f77b4\",\"#ff7f0e\",\"#1f77b4\",\"#d62728\",\"#9467bd\",\"#d62728\",\"#9467bd\",\"#d62728\",\"#9467bd\",\"#ff7f0e\",\"#e377c2\",\"#ff7f0e\",\"#ff7f0e\",\"#ff7f0e\",\"#d62728\",\"#ff7f0e\",\"#ff7f0e\",\"#d62728\",\"#d62728\",\"#8c564b\",\"#ff7f0e\",\"#2ca02c\",\"#1f77b4\",\"#2ca02c\",\"#e377c2\",\"#ff7f0e\",\"#d62728\",\"#d62728\",\"#8c564b\",\"#ff7f0e\",\"#1f77b4\",\"#1f77b4\",\"#ff7f0e\",\"#8c564b\",\"#d62728\",\"#1f77b4\",\"#d62728\",\"#e377c2\",\"#d62728\",\"#8c564b\",\"#ff7f0e\",\"#ff7f0e\",\"#ff7f0e\",\"#d62728\",\"#9467bd\",\"#1f77b4\",\"#d62728\",\"#2ca02c\",\"#ff7f0e\",\"#9467bd\",\"#7f7f7f\",\"#1f77b4\",\"#2ca02c\",\"#ff7f0e\",\"#1f77b4\",\"#9467bd\",\"#ff7f0e\",\"#d62728\",\"#ff7f0e\",\"#1f77b4\",\"#ff7f0e\",\"#ff7f0e\",\"#ff7f0e\",\"#ff7f0e\",\"#ff7f0e\",\"#7f7f7f\",\"#1f77b4\",\"#ff7f0e\",\"#d62728\",\"#ff7f0e\",\"#9467bd\",\"#1f77b4\",\"#ff7f0e\",\"#1f77b4\",\"#9467bd\",\"#ff7f0e\",\"#9467bd\",\"#1f77b4\",\"#e377c2\",\"#9467bd\",\"#9467bd\",\"#d62728\",\"#8c564b\",\"#8c564b\",\"#d62728\",\"#17becf\",\"#9467bd\",\"#1f77b4\",\"#8c564b\",\"#ff7f0e\",\"#9467bd\",\"#17becf\",\"#2ca02c\",\"#2ca02c\",\"#1f77b4\",\"#1f77b4\",\"#ff7f0e\",\"#ff7f0e\",\"#ff7f0e\",\"#d62728\",\"#9467bd\",\"#ff7f0e\",\"#ff7f0e\",\"#bcbd22\",\"#1f77b4\",\"#2ca02c\",\"#1f77b4\",\"#ff7f0e\",\"#d62728\",\"#9467bd\",\"#ff7f0e\",\"#8c564b\",\"#2ca02c\",\"#1f77b4\",\"#e377c2\",\"#ff7f0e\",\"#e377c2\",\"#8c564b\",\"#2ca02c\",\"#e377c2\",\"#1f77b4\",\"#2ca02c\",\"#7f7f7f\",\"#2ca02c\",\"#7f7f7f\",\"#1f77b4\",\"#9467bd\",\"#8c564b\",\"#7f7f7f\",\"#d62728\",\"#ff7f0e\",\"#1f77b4\",\"#d62728\",\"#9467bd\",\"#1f77b4\",\"#8c564b\",\"#ff7f0e\",\"#9467bd\",\"#2ca02c\",\"#8c564b\",\"#ff7f0e\",\"#ff7f0e\",\"#ff7f0e\",\"#ff7f0e\",\"#1f77b4\",\"#e377c2\",\"#9467bd\",\"#e377c2\",\"#9467bd\",\"#9467bd\",\"#ff7f0e\",\"#9467bd\",\"#2ca02c\",\"#d62728\",\"#ff7f0e\",\"#ff7f0e\",\"#d62728\",\"#1f77b4\",\"#1f77b4\",\"#9467bd\",\"#ff7f0e\",\"#1f77b4\",\"#ff7f0e\",\"#2ca02c\",\"#2ca02c\",\"#2ca02c\",\"#d62728\",\"#9467bd\",\"#2ca02c\",\"#d62728\",\"#ff7f0e\",\"#ff7f0e\",\"#9467bd\",\"#9467bd\",\"#1f77b4\",\"#ff7f0e\",\"#ff7f0e\",\"#ff7f0e\",\"#ff7f0e\",\"#9467bd\",\"#9467bd\",\"#ff7f0e\",\"#ff7f0e\",\"#ff7f0e\",\"#1f77b4\",\"#e377c2\",\"#1f77b4\",\"#1f77b4\",\"#1f77b4\",\"#8c564b\",\"#1f77b4\",\"#8c564b\",\"#2ca02c\",\"#8c564b\",\"#ff7f0e\",\"#9467bd\",\"#ff7f0e\",\"#d62728\",\"#8c564b\",\"#ff7f0e\",\"#e377c2\",\"#ff7f0e\",\"#8c564b\",\"#ff7f0e\",\"#2ca02c\",\"#1f77b4\",\"#1f77b4\",\"#1f77b4\",\"#ff7f0e\",\"#ff7f0e\",\"#ff7f0e\",\"#ff7f0e\",\"#ff7f0e\",\"#7f7f7f\",\"#1f77b4\",\"#1f77b4\",\"#e377c2\",\"#ff7f0e\",\"#d62728\",\"#9467bd\",\"#ff7f0e\",\"#9467bd\",\"#e377c2\",\"#1f77b4\",\"#bcbd22\",\"#1f77b4\",\"#ff7f0e\",\"#bcbd22\"],\"line_color\":[\"#9467bd\",\"#ff7f0e\",\"#8c564b\",\"#2ca02c\",\"#1f77b4\",\"#ff7f0e\",\"#9467bd\",\"#2ca02c\",\"#ff7f0e\",\"#d62728\",\"#8c564b\",\"#2ca02c\",\"#1f77b4\",\"#8c564b\",\"#d62728\",\"#1f77b4\",\"#d62728\",\"#ff7f0e\",\"#1f77b4\",\"#2ca02c\",\"#d62728\",\"#d62728\",\"#d62728\",\"#2ca02c\",\"#2ca02c\",\"#1f77b4\",\"#2ca02c\",\"#d62728\",\"#2ca02c\",\"#ff7f0e\",\"#1f77b4\",\"#1f77b4\",\"#ff7f0e\",\"#ff7f0e\",\"#1f77b4\",\"#1f77b4\",\"#1f77b4\",\"#ff7f0e\",\"#2ca02c\",\"#1f77b4\",\"#2ca02c\",\"#d62728\",\"#d62728\",\"#2ca02c\",\"#7f7f7f\",\"#2ca02c\",\"#d62728\",\"#d62728\",\"#2ca02c\",\"#2ca02c\",\"#8c564b\",\"#1f77b4\",\"#e377c2\",\"#8c564b\",\"#ff7f0e\",\"#d62728\",\"#8c564b\",\"#8c564b\",\"#d62728\",\"#d62728\",\"#2ca02c\",\"#ff7f0e\",\"#ff7f0e\",\"#1f77b4\",\"#2ca02c\",\"#2ca02c\",\"#2ca02c\",\"#ff7f0e\",\"#1f77b4\",\"#1f77b4\",\"#ff7f0e\",\"#ff7f0e\",\"#1f77b4\",\"#2ca02c\",\"#e377c2\",\"#d62728\",\"#ff7f0e\",\"#ff7f0e\",\"#ff7f0e\",\"#9467bd\",\"#1f77b4\",\"#d62728\",\"#1f77b4\",\"#8c564b\",\"#d62728\",\"#8c564b\",\"#2ca02c\",\"#2ca02c\",\"#8c564b\",\"#ff7f0e\",\"#1f77b4\",\"#9467bd\",\"#ff7f0e\",\"#8c564b\",\"#1f77b4\",\"#8c564b\",\"#2ca02c\",\"#9467bd\",\"#9467bd\",\"#9467bd\",\"#2ca02c\",\"#ff7f0e\",\"#2ca02c\",\"#ff7f0e\",\"#2ca02c\",\"#2ca02c\",\"#2ca02c\",\"#e377c2\",\"#d62728\",\"#9467bd\",\"#17becf\",\"#d62728\",\"#2ca02c\",\"#1f77b4\",\"#9467bd\",\"#7f7f7f\",\"#ff7f0e\",\"#ff7f0e\",\"#2ca02c\",\"#ff7f0e\",\"#9467bd\",\"#1f77b4\",\"#ff7f0e\",\"#8c564b\",\"#d62728\",\"#2ca02c\",\"#2ca02c\",\"#8c564b\",\"#9467bd\",\"#7f7f7f\",\"#ff7f0e\",\"#d62728\",\"#8c564b\",\"#ff7f0e\",\"#ff7f0e\",\"#2ca02c\",\"#ff7f0e\",\"#8c564b\",\"#1f77b4\",\"#bcbd22\",\"#17becf\",\"#ff7f0e\",\"#d62728\",\"#9467bd\",\"#e377c2\",\"#1f77b4\",\"#9467bd\",\"#d62728\",\"#ff7f0e\",\"#1f77b4\",\"#2ca02c\",\"#7f7f7f\",\"#ff7f0e\",\"#9467bd\",\"#2ca02c\",\"#d62728\",\"#9467bd\",\"#1f77b4\",\"#ff7f0e\",\"#8c564b\",\"#d62728\",\"#1f77b4\",\"#d62728\",\"#1f77b4\",\"#1f77b4\",\"#ff7f0e\",\"#ff7f0e\",\"#ff7f0e\",\"#ff7f0e\",\"#e377c2\",\"#d62728\",\"#ff7f0e\",\"#d62728\",\"#9467bd\",\"#ff7f0e\",\"#2ca02c\",\"#1f77b4\",\"#2ca02c\",\"#ff7f0e\",\"#2ca02c\",\"#ff7f0e\",\"#2ca02c\",\"#d62728\",\"#9467bd\",\"#d62728\",\"#9467bd\",\"#ff7f0e\",\"#1f77b4\",\"#1f77b4\",\"#2ca02c\",\"#2ca02c\",\"#9467bd\",\"#d62728\",\"#ff7f0e\",\"#8c564b\",\"#1f77b4\",\"#1f77b4\",\"#2ca02c\",\"#2ca02c\",\"#d62728\",\"#1f77b4\",\"#2ca02c\",\"#1f77b4\",\"#7f7f7f\",\"#d62728\",\"#9467bd\",\"#ff7f0e\",\"#2ca02c\",\"#d62728\",\"#2ca02c\",\"#2ca02c\",\"#1f77b4\",\"#2ca02c\",\"#2ca02c\",\"#2ca02c\",\"#d62728\",\"#1f77b4\",\"#9467bd\",\"#1f77b4\",\"#2ca02c\",\"#8c564b\",\"#2ca02c\",\"#ff7f0e\",\"#2ca02c\",\"#8c564b\",\"#ff7f0e\",\"#9467bd\",\"#ff7f0e\",\"#9467bd\",\"#ff7f0e\",\"#1f77b4\",\"#1f77b4\",\"#e377c2\",\"#e377c2\",\"#7f7f7f\",\"#9467bd\",\"#7f7f7f\",\"#9467bd\",\"#d62728\",\"#8c564b\",\"#1f77b4\",\"#1f77b4\",\"#8c564b\",\"#8c564b\",\"#d62728\",\"#e377c2\",\"#d62728\",\"#9467bd\",\"#2ca02c\",\"#ff7f0e\",\"#d62728\",\"#8c564b\",\"#1f77b4\",\"#9467bd\",\"#1f77b4\",\"#d62728\",\"#1f77b4\",\"#2ca02c\",\"#d62728\",\"#8c564b\",\"#1f77b4\",\"#1f77b4\",\"#1f77b4\",\"#7f7f7f\",\"#1f77b4\",\"#d62728\",\"#d62728\",\"#ff7f0e\",\"#ff7f0e\",\"#9467bd\",\"#ff7f0e\",\"#ff7f0e\",\"#2ca02c\",\"#2ca02c\",\"#ff7f0e\",\"#1f77b4\",\"#bcbd22\",\"#ff7f0e\",\"#8c564b\",\"#1f77b4\",\"#2ca02c\",\"#9467bd\",\"#ff7f0e\",\"#1f77b4\",\"#d62728\",\"#ff7f0e\",\"#d62728\",\"#ff7f0e\",\"#1f77b4\",\"#1f77b4\",\"#d62728\",\"#d62728\",\"#9467bd\",\"#9467bd\",\"#1f77b4\",\"#1f77b4\",\"#2ca02c\",\"#9467bd\",\"#17becf\",\"#1f77b4\",\"#1f77b4\",\"#ff7f0e\",\"#ff7f0e\",\"#ff7f0e\",\"#ff7f0e\",\"#d62728\",\"#9467bd\",\"#ff7f0e\",\"#2ca02c\",\"#1f77b4\",\"#1f77b4\",\"#d62728\",\"#ff7f0e\",\"#9467bd\",\"#1f77b4\",\"#ff7f0e\",\"#ff7f0e\",\"#1f77b4\",\"#9467bd\",\"#ff7f0e\",\"#9467bd\",\"#ff7f0e\",\"#1f77b4\",\"#d62728\",\"#ff7f0e\",\"#ff7f0e\",\"#ff7f0e\",\"#2ca02c\",\"#9467bd\",\"#7f7f7f\",\"#1f77b4\",\"#2ca02c\",\"#7f7f7f\",\"#2ca02c\",\"#8c564b\",\"#9467bd\",\"#7f7f7f\",\"#d62728\",\"#1f77b4\",\"#1f77b4\",\"#d62728\",\"#2ca02c\",\"#17becf\",\"#e377c2\",\"#9467bd\",\"#d62728\",\"#ff7f0e\",\"#ff7f0e\",\"#ff7f0e\",\"#d62728\",\"#e377c2\",\"#ff7f0e\",\"#d62728\",\"#d62728\",\"#1f77b4\",\"#1f77b4\",\"#9467bd\",\"#ff7f0e\",\"#1f77b4\",\"#ff7f0e\",\"#9467bd\",\"#1f77b4\",\"#d62728\",\"#2ca02c\",\"#ff7f0e\",\"#9467bd\",\"#9467bd\",\"#1f77b4\",\"#2ca02c\",\"#ff7f0e\",\"#1f77b4\",\"#d62728\",\"#ff7f0e\",\"#9467bd\",\"#1f77b4\",\"#1f77b4\",\"#ff7f0e\",\"#d62728\",\"#ff7f0e\",\"#d62728\",\"#ff7f0e\",\"#8c564b\",\"#ff7f0e\",\"#ff7f0e\",\"#2ca02c\",\"#e377c2\",\"#ff7f0e\",\"#2ca02c\",\"#d62728\",\"#d62728\",\"#ff7f0e\",\"#2ca02c\",\"#1f77b4\",\"#1f77b4\",\"#ff7f0e\",\"#ff7f0e\",\"#9467bd\",\"#d62728\",\"#ff7f0e\",\"#1f77b4\",\"#ff7f0e\",\"#ff7f0e\",\"#ff7f0e\",\"#ff7f0e\",\"#9467bd\",\"#ff7f0e\",\"#1f77b4\",\"#9467bd\",\"#d62728\",\"#1f77b4\",\"#ff7f0e\",\"#1f77b4\",\"#9467bd\",\"#ff7f0e\",\"#7f7f7f\",\"#ff7f0e\",\"#e377c2\",\"#8c564b\",\"#2ca02c\",\"#8c564b\",\"#8c564b\",\"#8c564b\",\"#d62728\",\"#d62728\",\"#ff7f0e\",\"#ff7f0e\",\"#ff7f0e\",\"#9467bd\",\"#9467bd\",\"#2ca02c\",\"#ff7f0e\",\"#e377c2\",\"#8c564b\",\"#d62728\",\"#9467bd\",\"#9467bd\",\"#9467bd\",\"#ff7f0e\",\"#ff7f0e\",\"#ff7f0e\",\"#1f77b4\",\"#ff7f0e\",\"#9467bd\",\"#1f77b4\",\"#ff7f0e\",\"#1f77b4\",\"#ff7f0e\",\"#ff7f0e\",\"#ff7f0e\",\"#e377c2\",\"#ff7f0e\",\"#1f77b4\",\"#d62728\",\"#1f77b4\",\"#d62728\",\"#7f7f7f\",\"#2ca02c\",\"#d62728\",\"#2ca02c\",\"#d62728\",\"#d62728\",\"#e377c2\",\"#8c564b\",\"#9467bd\",\"#ff7f0e\",\"#9467bd\",\"#d62728\",\"#ff7f0e\",\"#1f77b4\",\"#9467bd\",\"#e377c2\",\"#2ca02c\",\"#d62728\",\"#2ca02c\",\"#d62728\",\"#8c564b\",\"#7f7f7f\",\"#2ca02c\",\"#9467bd\",\"#1f77b4\",\"#8c564b\",\"#ff7f0e\",\"#d62728\",\"#d62728\",\"#1f77b4\",\"#d62728\",\"#9467bd\",\"#ff7f0e\",\"#2ca02c\",\"#ff7f0e\",\"#2ca02c\",\"#ff7f0e\",\"#d62728\",\"#8c564b\",\"#9467bd\",\"#e377c2\",\"#e377c2\",\"#ff7f0e\",\"#2ca02c\",\"#2ca02c\",\"#1f77b4\",\"#9467bd\",\"#e377c2\",\"#1f77b4\",\"#1f77b4\",\"#d62728\",\"#2ca02c\",\"#9467bd\",\"#1f77b4\",\"#ff7f0e\",\"#2ca02c\",\"#ff7f0e\",\"#7f7f7f\",\"#2ca02c\",\"#d62728\",\"#2ca02c\",\"#1f77b4\",\"#1f77b4\",\"#1f77b4\",\"#ff7f0e\",\"#1f77b4\",\"#e377c2\",\"#1f77b4\",\"#1f77b4\",\"#ff7f0e\",\"#1f77b4\",\"#9467bd\",\"#1f77b4\",\"#ff7f0e\",\"#d62728\",\"#9467bd\",\"#2ca02c\",\"#1f77b4\",\"#ff7f0e\",\"#e377c2\",\"#2ca02c\",\"#ff7f0e\",\"#d62728\",\"#ff7f0e\",\"#1f77b4\",\"#ff7f0e\",\"#d62728\",\"#ff7f0e\",\"#ff7f0e\",\"#ff7f0e\",\"#1f77b4\",\"#ff7f0e\",\"#e377c2\",\"#17becf\",\"#ff7f0e\",\"#1f77b4\",\"#1f77b4\",\"#d62728\",\"#e377c2\",\"#2ca02c\",\"#ff7f0e\",\"#ff7f0e\",\"#ff7f0e\",\"#ff7f0e\",\"#1f77b4\",\"#8c564b\",\"#8c564b\",\"#ff7f0e\",\"#ff7f0e\",\"#ff7f0e\",\"#1f77b4\",\"#1f77b4\",\"#d62728\",\"#9467bd\",\"#7f7f7f\",\"#9467bd\",\"#1f77b4\",\"#1f77b4\",\"#ff7f0e\",\"#d62728\",\"#d62728\",\"#2ca02c\",\"#e377c2\",\"#ff7f0e\",\"#d62728\",\"#d62728\",\"#2ca02c\",\"#2ca02c\",\"#ff7f0e\",\"#9467bd\",\"#d62728\",\"#ff7f0e\",\"#ff7f0e\",\"#d62728\",\"#ff7f0e\",\"#ff7f0e\",\"#d62728\",\"#ff7f0e\",\"#ff7f0e\",\"#2ca02c\",\"#ff7f0e\",\"#9467bd\",\"#9467bd\",\"#2ca02c\",\"#d62728\",\"#d62728\",\"#ff7f0e\",\"#1f77b4\",\"#d62728\",\"#8c564b\",\"#2ca02c\",\"#ff7f0e\",\"#e377c2\",\"#ff7f0e\",\"#ff7f0e\",\"#1f77b4\",\"#1f77b4\",\"#d62728\",\"#1f77b4\",\"#ff7f0e\",\"#1f77b4\",\"#d62728\",\"#1f77b4\",\"#ff7f0e\",\"#2ca02c\",\"#ff7f0e\",\"#ff7f0e\",\"#1f77b4\",\"#1f77b4\",\"#ff7f0e\",\"#9467bd\",\"#ff7f0e\",\"#d62728\",\"#1f77b4\",\"#ff7f0e\",\"#e377c2\",\"#1f77b4\",\"#1f77b4\",\"#d62728\",\"#1f77b4\",\"#2ca02c\",\"#ff7f0e\",\"#d62728\",\"#8c564b\",\"#e377c2\",\"#ff7f0e\",\"#1f77b4\",\"#d62728\",\"#9467bd\",\"#7f7f7f\",\"#1f77b4\",\"#1f77b4\",\"#2ca02c\",\"#2ca02c\",\"#8c564b\",\"#9467bd\",\"#d62728\",\"#2ca02c\",\"#d62728\",\"#ff7f0e\",\"#1f77b4\",\"#ff7f0e\",\"#e377c2\",\"#1f77b4\",\"#8c564b\",\"#ff7f0e\",\"#d62728\",\"#2ca02c\",\"#ff7f0e\",\"#2ca02c\",\"#9467bd\",\"#9467bd\",\"#ff7f0e\",\"#1f77b4\",\"#ff7f0e\",\"#1f77b4\",\"#d62728\",\"#2ca02c\",\"#d62728\",\"#ff7f0e\",\"#9467bd\",\"#d62728\",\"#e377c2\",\"#ff7f0e\",\"#7f7f7f\",\"#d62728\",\"#ff7f0e\",\"#bcbd22\",\"#1f77b4\",\"#1f77b4\",\"#ff7f0e\",\"#ff7f0e\",\"#2ca02c\",\"#ff7f0e\",\"#e377c2\",\"#2ca02c\",\"#8c564b\",\"#ff7f0e\",\"#ff7f0e\",\"#2ca02c\",\"#2ca02c\",\"#e377c2\",\"#ff7f0e\",\"#ff7f0e\",\"#ff7f0e\",\"#d62728\",\"#9467bd\",\"#d62728\",\"#9467bd\",\"#d62728\",\"#2ca02c\",\"#ff7f0e\",\"#e377c2\",\"#ff7f0e\",\"#ff7f0e\",\"#9467bd\",\"#ff7f0e\",\"#d62728\",\"#d62728\",\"#ff7f0e\",\"#1f77b4\",\"#ff7f0e\",\"#e377c2\",\"#1f77b4\",\"#9467bd\",\"#ff7f0e\",\"#9467bd\",\"#7f7f7f\",\"#d62728\",\"#ff7f0e\",\"#ff7f0e\",\"#d62728\",\"#8c564b\",\"#ff7f0e\",\"#d62728\",\"#2ca02c\",\"#9467bd\",\"#2ca02c\",\"#2ca02c\",\"#2ca02c\",\"#e377c2\",\"#1f77b4\",\"#ff7f0e\",\"#1f77b4\",\"#ff7f0e\",\"#ff7f0e\",\"#d62728\",\"#ff7f0e\",\"#1f77b4\",\"#9467bd\",\"#ff7f0e\",\"#9467bd\",\"#1f77b4\",\"#1f77b4\",\"#ff7f0e\",\"#9467bd\",\"#1f77b4\",\"#d62728\",\"#8c564b\",\"#1f77b4\",\"#1f77b4\",\"#ff7f0e\",\"#1f77b4\",\"#1f77b4\",\"#9467bd\",\"#9467bd\",\"#2ca02c\",\"#d62728\",\"#7f7f7f\",\"#8c564b\",\"#2ca02c\",\"#ff7f0e\",\"#1f77b4\",\"#1f77b4\",\"#1f77b4\",\"#2ca02c\",\"#1f77b4\",\"#8c564b\",\"#9467bd\",\"#2ca02c\",\"#1f77b4\",\"#2ca02c\",\"#ff7f0e\",\"#9467bd\",\"#ff7f0e\",\"#9467bd\",\"#d62728\",\"#1f77b4\",\"#2ca02c\",\"#8c564b\",\"#1f77b4\",\"#1f77b4\",\"#9467bd\",\"#ff7f0e\",\"#9467bd\",\"#1f77b4\",\"#ff7f0e\",\"#1f77b4\",\"#ff7f0e\",\"#d62728\",\"#ff7f0e\",\"#e377c2\",\"#ff7f0e\",\"#1f77b4\",\"#ff7f0e\",\"#8c564b\",\"#ff7f0e\",\"#d62728\",\"#1f77b4\",\"#d62728\",\"#d62728\",\"#e377c2\",\"#1f77b4\",\"#ff7f0e\",\"#2ca02c\",\"#1f77b4\",\"#ff7f0e\",\"#8c564b\",\"#1f77b4\",\"#9467bd\",\"#1f77b4\",\"#ff7f0e\",\"#2ca02c\",\"#ff7f0e\",\"#d62728\",\"#2ca02c\",\"#1f77b4\",\"#d62728\",\"#1f77b4\",\"#1f77b4\",\"#ff7f0e\",\"#ff7f0e\",\"#2ca02c\",\"#ff7f0e\",\"#17becf\",\"#1f77b4\",\"#1f77b4\",\"#1f77b4\",\"#d62728\",\"#ff7f0e\",\"#ff7f0e\",\"#2ca02c\",\"#9467bd\",\"#1f77b4\",\"#9467bd\",\"#ff7f0e\",\"#d62728\",\"#9467bd\",\"#d62728\",\"#d62728\",\"#9467bd\",\"#9467bd\",\"#2ca02c\",\"#ff7f0e\",\"#1f77b4\",\"#1f77b4\",\"#d62728\",\"#2ca02c\",\"#ff7f0e\",\"#e377c2\",\"#2ca02c\",\"#1f77b4\",\"#1f77b4\",\"#9467bd\",\"#ff7f0e\",\"#ff7f0e\",\"#ff7f0e\",\"#d62728\",\"#d62728\",\"#2ca02c\",\"#7f7f7f\",\"#1f77b4\",\"#d62728\",\"#2ca02c\",\"#d62728\",\"#8c564b\",\"#e377c2\",\"#1f77b4\",\"#ff7f0e\",\"#8c564b\",\"#2ca02c\",\"#ff7f0e\",\"#2ca02c\",\"#9467bd\",\"#1f77b4\",\"#ff7f0e\",\"#2ca02c\",\"#ff7f0e\",\"#9467bd\",\"#1f77b4\",\"#d62728\",\"#e377c2\",\"#d62728\",\"#ff7f0e\",\"#d62728\",\"#9467bd\",\"#9467bd\",\"#d62728\",\"#ff7f0e\",\"#ff7f0e\",\"#1f77b4\",\"#2ca02c\",\"#1f77b4\",\"#ff7f0e\",\"#d62728\",\"#2ca02c\",\"#e377c2\",\"#ff7f0e\",\"#9467bd\",\"#7f7f7f\",\"#2ca02c\",\"#1f77b4\",\"#2ca02c\",\"#e377c2\",\"#ff7f0e\",\"#1f77b4\",\"#2ca02c\",\"#8c564b\",\"#d62728\",\"#d62728\",\"#ff7f0e\",\"#ff7f0e\",\"#9467bd\",\"#1f77b4\",\"#d62728\",\"#2ca02c\",\"#ff7f0e\",\"#8c564b\",\"#1f77b4\",\"#bcbd22\",\"#bcbd22\",\"#ff7f0e\",\"#d62728\",\"#d62728\",\"#e377c2\",\"#1f77b4\",\"#ff7f0e\",\"#d62728\",\"#d62728\",\"#ff7f0e\",\"#8c564b\",\"#1f77b4\",\"#d62728\",\"#ff7f0e\",\"#ff7f0e\",\"#2ca02c\",\"#ff7f0e\",\"#e377c2\",\"#2ca02c\",\"#1f77b4\",\"#ff7f0e\",\"#ff7f0e\",\"#ff7f0e\",\"#17becf\",\"#ff7f0e\",\"#e377c2\",\"#1f77b4\",\"#17becf\",\"#1f77b4\",\"#e377c2\",\"#ff7f0e\",\"#9467bd\",\"#ff7f0e\",\"#2ca02c\",\"#ff7f0e\",\"#9467bd\",\"#2ca02c\",\"#1f77b4\",\"#ff7f0e\",\"#8c564b\",\"#9467bd\",\"#2ca02c\",\"#2ca02c\",\"#d62728\",\"#1f77b4\",\"#1f77b4\",\"#8c564b\",\"#9467bd\",\"#9467bd\",\"#ff7f0e\",\"#2ca02c\",\"#2ca02c\",\"#1f77b4\",\"#9467bd\",\"#9467bd\",\"#ff7f0e\",\"#8c564b\",\"#d62728\",\"#1f77b4\",\"#1f77b4\",\"#7f7f7f\",\"#ff7f0e\",\"#ff7f0e\",\"#ff7f0e\",\"#7f7f7f\",\"#d62728\",\"#8c564b\",\"#8c564b\",\"#9467bd\",\"#7f7f7f\",\"#ff7f0e\",\"#ff7f0e\",\"#e377c2\",\"#9467bd\",\"#ff7f0e\",\"#bcbd22\",\"#ff7f0e\",\"#ff7f0e\",\"#bcbd22\",\"#ff7f0e\",\"#1f77b4\",\"#9467bd\",\"#ff7f0e\",\"#1f77b4\",\"#d62728\",\"#ff7f0e\",\"#ff7f0e\",\"#9467bd\",\"#1f77b4\",\"#1f77b4\",\"#2ca02c\",\"#e377c2\",\"#2ca02c\",\"#1f77b4\",\"#1f77b4\",\"#ff7f0e\",\"#ff7f0e\",\"#8c564b\",\"#d62728\",\"#d62728\",\"#9467bd\",\"#d62728\",\"#d62728\",\"#ff7f0e\",\"#ff7f0e\",\"#2ca02c\",\"#ff7f0e\",\"#2ca02c\",\"#9467bd\",\"#8c564b\",\"#1f77b4\",\"#d62728\",\"#9467bd\",\"#9467bd\",\"#1f77b4\",\"#ff7f0e\",\"#7f7f7f\",\"#d62728\",\"#9467bd\",\"#ff7f0e\",\"#9467bd\",\"#1f77b4\",\"#ff7f0e\",\"#d62728\",\"#1f77b4\",\"#d62728\",\"#8c564b\",\"#9467bd\",\"#9467bd\",\"#1f77b4\",\"#2ca02c\",\"#d62728\",\"#d62728\",\"#1f77b4\",\"#1f77b4\",\"#2ca02c\",\"#ff7f0e\",\"#d62728\",\"#ff7f0e\",\"#2ca02c\",\"#ff7f0e\",\"#9467bd\",\"#2ca02c\",\"#e377c2\",\"#d62728\",\"#2ca02c\",\"#1f77b4\",\"#1f77b4\",\"#2ca02c\",\"#2ca02c\",\"#e377c2\",\"#1f77b4\",\"#1f77b4\",\"#9467bd\",\"#8c564b\",\"#ff7f0e\",\"#1f77b4\",\"#1f77b4\",\"#ff7f0e\",\"#d62728\",\"#ff7f0e\",\"#8c564b\",\"#e377c2\",\"#2ca02c\",\"#2ca02c\",\"#7f7f7f\",\"#d62728\",\"#ff7f0e\",\"#17becf\",\"#ff7f0e\",\"#ff7f0e\",\"#ff7f0e\",\"#8c564b\",\"#d62728\",\"#8c564b\",\"#9467bd\",\"#1f77b4\",\"#1f77b4\",\"#ff7f0e\",\"#2ca02c\",\"#ff7f0e\",\"#ff7f0e\",\"#1f77b4\",\"#ff7f0e\",\"#1f77b4\",\"#d62728\",\"#9467bd\",\"#d62728\",\"#9467bd\",\"#d62728\",\"#9467bd\",\"#ff7f0e\",\"#e377c2\",\"#ff7f0e\",\"#ff7f0e\",\"#ff7f0e\",\"#d62728\",\"#ff7f0e\",\"#ff7f0e\",\"#d62728\",\"#d62728\",\"#8c564b\",\"#ff7f0e\",\"#2ca02c\",\"#1f77b4\",\"#2ca02c\",\"#e377c2\",\"#ff7f0e\",\"#d62728\",\"#d62728\",\"#8c564b\",\"#ff7f0e\",\"#1f77b4\",\"#1f77b4\",\"#ff7f0e\",\"#8c564b\",\"#d62728\",\"#1f77b4\",\"#d62728\",\"#e377c2\",\"#d62728\",\"#8c564b\",\"#ff7f0e\",\"#ff7f0e\",\"#ff7f0e\",\"#d62728\",\"#9467bd\",\"#1f77b4\",\"#d62728\",\"#2ca02c\",\"#ff7f0e\",\"#9467bd\",\"#7f7f7f\",\"#1f77b4\",\"#2ca02c\",\"#ff7f0e\",\"#1f77b4\",\"#9467bd\",\"#ff7f0e\",\"#d62728\",\"#ff7f0e\",\"#1f77b4\",\"#ff7f0e\",\"#ff7f0e\",\"#ff7f0e\",\"#ff7f0e\",\"#ff7f0e\",\"#7f7f7f\",\"#1f77b4\",\"#ff7f0e\",\"#d62728\",\"#ff7f0e\",\"#9467bd\",\"#1f77b4\",\"#ff7f0e\",\"#1f77b4\",\"#9467bd\",\"#ff7f0e\",\"#9467bd\",\"#1f77b4\",\"#e377c2\",\"#9467bd\",\"#9467bd\",\"#d62728\",\"#8c564b\",\"#8c564b\",\"#d62728\",\"#17becf\",\"#9467bd\",\"#1f77b4\",\"#8c564b\",\"#ff7f0e\",\"#9467bd\",\"#17becf\",\"#2ca02c\",\"#2ca02c\",\"#1f77b4\",\"#1f77b4\",\"#ff7f0e\",\"#ff7f0e\",\"#ff7f0e\",\"#d62728\",\"#9467bd\",\"#ff7f0e\",\"#ff7f0e\",\"#bcbd22\",\"#1f77b4\",\"#2ca02c\",\"#1f77b4\",\"#ff7f0e\",\"#d62728\",\"#9467bd\",\"#ff7f0e\",\"#8c564b\",\"#2ca02c\",\"#1f77b4\",\"#e377c2\",\"#ff7f0e\",\"#e377c2\",\"#8c564b\",\"#2ca02c\",\"#e377c2\",\"#1f77b4\",\"#2ca02c\",\"#7f7f7f\",\"#2ca02c\",\"#7f7f7f\",\"#1f77b4\",\"#9467bd\",\"#8c564b\",\"#7f7f7f\",\"#d62728\",\"#ff7f0e\",\"#1f77b4\",\"#d62728\",\"#9467bd\",\"#1f77b4\",\"#8c564b\",\"#ff7f0e\",\"#9467bd\",\"#2ca02c\",\"#8c564b\",\"#ff7f0e\",\"#ff7f0e\",\"#ff7f0e\",\"#ff7f0e\",\"#1f77b4\",\"#e377c2\",\"#9467bd\",\"#e377c2\",\"#9467bd\",\"#9467bd\",\"#ff7f0e\",\"#9467bd\",\"#2ca02c\",\"#d62728\",\"#ff7f0e\",\"#ff7f0e\",\"#d62728\",\"#1f77b4\",\"#1f77b4\",\"#9467bd\",\"#ff7f0e\",\"#1f77b4\",\"#ff7f0e\",\"#2ca02c\",\"#2ca02c\",\"#2ca02c\",\"#d62728\",\"#9467bd\",\"#2ca02c\",\"#d62728\",\"#ff7f0e\",\"#ff7f0e\",\"#9467bd\",\"#9467bd\",\"#1f77b4\",\"#ff7f0e\",\"#ff7f0e\",\"#ff7f0e\",\"#ff7f0e\",\"#9467bd\",\"#9467bd\",\"#ff7f0e\",\"#ff7f0e\",\"#ff7f0e\",\"#1f77b4\",\"#e377c2\",\"#1f77b4\",\"#1f77b4\",\"#1f77b4\",\"#8c564b\",\"#1f77b4\",\"#8c564b\",\"#2ca02c\",\"#8c564b\",\"#ff7f0e\",\"#9467bd\",\"#ff7f0e\",\"#d62728\",\"#8c564b\",\"#ff7f0e\",\"#e377c2\",\"#ff7f0e\",\"#8c564b\",\"#ff7f0e\",\"#2ca02c\",\"#1f77b4\",\"#1f77b4\",\"#1f77b4\",\"#ff7f0e\",\"#ff7f0e\",\"#ff7f0e\",\"#ff7f0e\",\"#ff7f0e\",\"#7f7f7f\",\"#1f77b4\",\"#1f77b4\",\"#e377c2\",\"#ff7f0e\",\"#d62728\",\"#9467bd\",\"#ff7f0e\",\"#9467bd\",\"#e377c2\",\"#1f77b4\",\"#bcbd22\",\"#1f77b4\",\"#ff7f0e\",\"#bcbd22\"],\"x\":{\"__ndarray__\":\"BK2HwANfmEEQ97DAJ/vRwAEoU8Ht1jVB+lbyP1KOIsG8bKJBNCPtwZG/CEFiBGXBYL1zwdcOOEGS2dPBf9N1wGF4HMIu/zpBtHjhwEt0NcHY76jBimUXwuOiFsLCKRPBkW0WwUTUWcGhFUjBQg7SwWeCVMFhDqBBU497wZMtRsGNMJtBXoKoQY6XOsGwly7ANcs9wUMbmkH8qTXB1AZawf3pLsHsgxTCYjUcwpIsJsHEswtC59frwK8Z58G5VqTBPp8dwVSfHcHptCtB+4OPwF6shEGFiVdBh9SsQd6Dn8HW6gFBbicQQdBAssHw/qfBB4L6wHrO8UD1Qc5B41vOwL4zeMG9+EfBuPhHwVD+h0HRFDLBgn1VwWxWr0Ea3PVA2TJcwaoeMMGwwo9BJ3y2waoTP0E7VcbBR0roQAYohr/AovLAqUOmwSGZ18BSOyRB5L8Owm3jEUEQNOQ/0/8cwZKs8ECPM4tB8z0EwD0nccBBm2JBLaoCQVv5X8GfhA1BJyZWwfLYMEBB0DBAjbm1v1PmE8HHgqhBTLA6wdWU+EBtd0PB+EYxwQD3f8Crh4NBSblzwSg1XL/Lr9pB80gYwmglR8EhMwnBb8Wev191AUIJNjpB03uVQfp8Lb8cjLNBvv6Zv5OVXsC8C+xB9V7BwFuOC8Lqg0vBmCGjvxELWkFpt/c/4jYMQoQzrUFw5gvCeZ8KQThN60F3t25BiP9twEyfp0E5gSJBg9sawSXGA0LN1NdBSZ8/QQSQCcKmgZW/5B74v74qbsE0ZfQ/Gz2/wZu9PEEW0xrBoF8WweQOAUIIZOBBQoSfv+pLvb/Q/ezBlqyRQBy1FcGo2ahBk2L7QJ2TDsLSotTAXmEJwqnj58BY09jAsHwuQXn8zEAjvGVB9t3PQXxSj0HKuw7CAjqQQYmIoMFzdojA2p1YQSCEwsCr27fAcVIvwX+FPEGPF1PBkiiJQWUkm0Dm7tfBZDENwescBcJDu4HAVZS9QT03GcGEmc/AoPndwFrE28CPVhPBtI7XwUkxOEHXNUJBhqXNwI+mpcBMgYDB0zIuwUXY/cHyniHBDIKAwdLiJMGsVg9CmEUJwokoOcByHc5BTJJ3wcH/CMLpgIDBsoGAwQYHcMH83XvA/N17wA3ee8B88M3BNZr4wO8aK8AEN6nAJf+9wMjAMkHmyk3BxbTTQSkZv8BXpVFBPZD/QJ3sXsALIkZBp6riwGlBCEElH4jAv4k2wYdUnEHKc3lBLS8PQuuOXD8aaxFCzqbhwB6+18FShd9Ao1+QwFXhn8Coit9ArYrfQFpg0cF6tZpBGjDewUnFG7/Hl5C/N5TQQTGf8cGjg8/Bn/CvwBWq4sBB4h7BTlX1wcJP68DvOFTB2aYHwl5v5EAqzE7A6yiHwXYIc8FVsw1CzUBNwQT/5ME8YeDB+K/HQR+rC0E48xLBHx3UQE2bx0A2cx3BG3BTwWNUs0HDf4TBAtkBQvNWHUEwmh9B46dawAnpjcBU+3HAdm6tQXd6X8G6cuzBgsvSQTJfCMJc2p5A2388wduOkcHvht3B/xQPwuPKKsB5WAHBrgOawX2OIsHTwRfBejGlPjJa3kEkmJnAdvOawIPevEGcxHRBj8m6QOy/lUHKq9nB1pfywD1tpEHRmJDAIEoRwdyuE8HXIQLCLUSuQUl67sDhrZXBuFXJQaFQwEEZaB/B31DYvz+5hkEXMgvBBoyMQTeNuMDpQBTCiHxkQZxloUEm3lpBSlhzwcu7pMB0zgNCEwwawRtLIME31wNC+MfIvlolPUGWVZDAJRMHQiK2r8HBnoTAdmBBwb8v1sHVKQ3Ao7TZQarNsEF3pYhAZibHwWHF20HjQKVBJ/5yQdBa4sGdkpZB2MaBQdzzE8IE4NXBSy+MwXVoZMCgtB1AL6+2QdKyl8FiMSdBHZRcwJQ7Fr83vxLCBfCEwFhHTUFk75RAG/CUQJjZzD5AeDvB38JmQdA9KcDW6tTBOT+4QR/hIMGnb5TA9tCEwAWcvkGk18bBKOfHQfn428EV+AlBHuxHQaelz0HXOLFBS9idwLy6o0FvuEpB+zyMvWPs3cGPq6HBlb6FQa15M8Cfh/XA5bMUwfO4t0GhGoFBDOeowIMpyMHRnMtAVMzJwKjy1EG+i5lBSAWFQbTwfEBC41xA0oiRQWcNvcA1rMTAJ1z/wVId4r+8ALZBiwgXwbrTr8Cd6GBBfrsLQoHUn0G5jn9Bdhc3QQRtU8FsPRVB3HjfQNsAT0F5fNjBiHzYwQ9d+0Dw5t5A6jnxQDXMmr/kSovAsM9bwXuMqEEO849BGVQyQfqTAMIujzW/DGfswKWC1cCjnqtBWUP1QMPDPUHf/h/BNYZGQbOfq782WLu8ggVjQWShNcHteVZBo0eGQYatvkCEbJZBjisOwPSt0sBP0BDCsIBqQfv0EcLVMQVC2X5bwVXeDsLbhJPAL4wVwnFVGMLNlqBBoJPRQBn47T/gIOhBhdE+wKVQocEEzLlBE0DVwBDMCMEJcnZBpmkNwIbME8LEOQfB/VTTwWc/7EDxZgZCYJFQwbrpNEAgdU7BSbQKQcu0r0GW+evBruIAwjYdiMF6ANbBUErZvfL+9j72yzbBlTnpQN5JJ8GCXddBAN7YwYDcOkFDn03ALS+cQU82kkGAFWFBt205wQWHuMDx/aHASWjGP9/5jkH8g5zAolKXwLMD68H5x7BAjyqKwD/cJcH8SG9AKvp+wPWYYUFHHAtCCpwCP5UK0sELFrDAG4kLwc2ZQsDFN1fBUKemQQtZeMATtZxBzwNrwEduIMER9LVBOXVWwR0nGj9OpRzBK9OkQUcDA8IuiCrAt8dpwfM1oMDDQopB8U2dQVVAvECtnjZBgm50wfwukUFCQP6/Zk2zQDAt8sFDJsdBDWWeQStlnkGCzbXAE7m0QQGpfUGOr+FB2sdXQc1siMCukZ3ARYrpwSfygkEtiUHBq5ugQXyI00CTiNNAaBKBPxgxlMH+KtLB/CrSwb41ikEAxDlBEi3MQRKoQMEPOgHBSW8SwnbTiEB2agVCSf/uwOmwAsFN0evAWvy8QeqOu8EIPwLCUP6Awf/YpkHfk7pBxWjrwQADBMJV5jjBoIV/wIzThkFT3ZzAKhYHwrFsrkEheItB8hcBwsFBekFuVKRBo9oPwn14kkHGJK9BPng7wQ0LI0E3wNHAS8HRwCOdrMAsTtPBrdqgwcuHnUEKtsbACq8MwhpoJ0GmT1jAGvFRQc8nk0EGx3xBnR2NQVlrEsGLByPBCtoSwkB8qcDY88BBziUfwe395MFBjDvBrGcOQcJKO8E8IIFB0fXFweQmxMDc1hfBDddxQV5lq8CLMcZBkGGfwbhUmcC0TpVBr2eAQdcA5MCPigTBl8B0war4msEJVDvBHuU4QXBI6MEMyQVB1DmgQdr8t0FYxAvACLwPwkRQQUCKlApCI5UQwc2L8cDl+p/AJrjowAxuF0E3F3JA4NASwo61Y8E8GNzBV7FnQcbzk8EwwF1BolWAQZnYmsCG4xlBWL1yQclECMKe80nBXC5OQeVhOcG+FbDAYWCMwAmCUkGlDX/AmQaRQfDB5sAfBuDBkhLXwN9q6cFMP15BtsD1wJOIHcJ76XRBqisSQZnlBUJJ3gnC7FmTQQLyAEJPHlfBxJ2PwQrrqUG4KQRB1kVOwT2O2EAOIaJBKeC8QJ7EIkEQledAc7GqQR9gFcE5dEvBIXCWQeNdgUFKFcFBCXSFQU9a3sGs578/UtarwWeWOEBiIALC9n85wbZ03kHdJpZBwwdeQZztXEFy9RHB/cGuQZXt7MHKZLzBa/fpQU1+3sAjahNBvPSaQe0cp8BTPBG/3be2QY2ulcASIgVC+8UUwr91P0FolhVBEF8TwsUb3kAGXLpB0Qb7wew7UcG2vIrAcr5twXsmUsEkJlLBcSqQQTxaTME+CKJBli0awUDcZ0HqTZ9BNg7Zwbqr/kAo4lDBDrQNwcz3VkHcVN+/Ou4gwSY9kMG6QLRBEzsRwQGgkMErufjBBe0DQfarJsGzMhrBPezcQKzoWsHYxqjACLXAwF+Y5MAeBzvBNzULwtdlCELhr1BBXCW9wCCpC0H5YB/BpGEfwYBiH8GKbMbAcKhGwFFgJkGP0gC/RGAyP/ThDMErTYXAmVaZQZfeAcFeXclBaVWlwEKBD8J0gb7AS7g4we2GDkE4rq3AziaBwN1QucCh3U9Bn9zQwDOi78CTFFlBiTizwJdyEEFHvhPC9pGEQePdBsAgysRB47oJwS1dikFNnbtAaJrJQb2y+cF9qjXBHc30wT+K98H+PIhBcDLwwA6EgEHIxpS/19CCwJ1F3EB4fkNBdVCKwO16PUBfFsjAVKykQa0SSsFx+TBBV9oIwhwsyr/LjRLBhzu2wUfe48AI4KDAz+HQQf3R2EFtmtnAZRpGQc2L4UG7K7LAxAkvwQoTUsGpOtfB1RtFQcAyEEE6bfHAttiLwPAEXcFkNle/VBtaQUuy9MFENzvAqU7xwRl468G9uwXBXECfv5SxNMDxIohAXD8ZwQbR9sCP9/vBpJz/wMsVNEEzkYdBI/N5wcc3E8FRf6/AyPvOP+7ZnkEsvOZAOof0QI9l8sF8suPB/VbVwK5yC0JxuiHAHnYCwgTTV8C+ZQHCC6viQEeek0ErdlnBV6+VQcCrykBoscDA0dFTQaKzs8DCHMXA/LIewNEAd0GYyjjBawV0QXCmWr9GQ5fBZrn/wUWJlUFCXNXBkgjbQLDA1sEWi88/NNakPuPnB8K1RmxBtgl+Qai0XsH6YE3BCgPewHeX1EGzmwPCgyhbwWwTmkG1ovpA8DfOwKeECUIICxvBInTRwIhKOsHL+HVB0KXAQZrX08DRcHQ+T9EIwJLv7MGiqNvB3zu9QcFNjUFJmZjATB06wawY18E3Z0U/T5q7QGE58kDMXpnBilkEQqcTAUJPupVBjcEQwlvBEMKaf4pBrJA6wADINEEF2L7BxzEHwmft2EASYAtB8DtRwQ081cEKxHdB6t+kQW5Ppr/SjHNBuEWVQeDx2sCCFKPAVGy8QDsxmUEos6dBDZThQcAIdUEqepNBL95wwDwn2EGXuLbA+xigQVpnukEGBgXAfQ2RQVqP5MCv5/BAPscHQHFiw8A7VzLBfmaXQahcIEEVWZM+fuPIwBt0JcCPBN7BGWujv09Gi8DhEdZAAL2swAZtRj+gQatBJr8OweWSNsGSGj3B5ivtwDO3/78CyYBBM05ZQTTS9MEhpznBD5I6wS7zC0J2u4VBQCmWQYw9tUGtRgdCG6nTwVy0CkFHMOxABYwVv/Mi/kGUttxBKOZUQRKUmkEPY03AgAvJQS7jAkIT0hRBS97vQMfAA0Lu0l1BGJlfv6FId0DVn3lB+w/YwGoIB8Lft7NBBe7vQFQi1L//wj7BRiAmwa5eKcAEaYpB6DdmwY1C08BqPuO/U3MoQQBLN0H0bRdBh88Awp2i3sHdm7K/rVL6wZB3B8KRautBH1WsQS6sgsDpXplBn0FWwb411sBvykVB+dwowSp95MECP/a/9lELwfi2978tqrZBepQJQpZ048FPT4JAqujJQScFs8AATkDAh41iQQe78cH1PlXA1SdYwc/bQ0FOeZfAj3mXwL94VL+12BTBVCMdwpkiAcJ0CZrAwKvKwIu1QcHMyS5BH1DjwcDz7UESuQbAsVddQWFsD0C6uOjAFCaiQaJ5AMK895rA6DJqwAoo68AHjS3AzUExwRk0k0FXl5HBOhdRwTU84z/B+46/BNGZQV3CnsBqeNrADKXKQRGQBMKrG9JBXhv6QHg8mkHbU8rAoo90wVVqDULC9a/B7gnzQNN/20FYdSJBIlcmQeJpSkEB2spAQFkPwmFpFEHPaNHAGwCzwDNFBsHhb4FBqgJQwfRMo0FmFtBBszsGwcSLp0EeLerASNjZwXp+kMCU6sXBK9cHQC/ZF8KQhu0/y2yrQW++oUEmFpRBxksrQSxVp0HKwsTBuXxYQX8nh0Hb8OPB8R8Cwn6WQ0GSG39BIefDwFqpHsGz/VDBCnKOQdPUD0GR1gnChbdywX87KUFwFR9BHEqTwUZJlMFFIblBOFskQUcmvMGHQGrBXkgWwsA8gEHkY+XBGlE+QbGjxkH4501BABp3QXWvrcHmS6BAENcbwU0Lt8HQjz/BLJewQeqJpcBfTgtCxB5awatYF8GH3dJBX0HzwCrBbMAI42RBfx/TwUBLtkDCdjfB97zkQLNzgUE2WCpBtdKQQS3VfEHmPAdCWMHEwK5LikF06t3BSLC2QaT0AcFdLmbBNam8Qb+ix8CTWwrARiSuQWlmhTx+T2xBjeyFQaa3QsAE4Eq/qh8UwuBr3UAYzzVBdtbTwa7m2kES+nNApskmwYfJCkEO88jBvtooQC783UF0gLnADmfgwCafX8HXeS3BByKUQR8PnEGj31JBAKn0wRcsOb4JPttBYnexQazTAEJMGI/B16HXwCO9WME6/QBBpvz8weMEFcG9gvJAOo85QXoREMERGITAqoGeQepzmUFWw59BdJfcQDXmSsEufY1Bk7ebwEuNKMFYSwNCYSd5wDo2/EHklz3BT8qpPwT/0UDRuAZCzR3bwXYerEGdWELBCO7qwQ/dZMApEkjBZLkHQRcKW0HYX55AqPlTwE5bN0G7oOpBy4s/QcnyJ0HvJLNBIBEbwfQ+lkEbx/PA8lmeQa4laUCNMca/uDygQXAUosCh6y7Bg6oNwki+kkESVohB9bfuwVyTCsGd4BvBeWLIwGBJv0GCrZvBmZKvQfgsG8HVPm7B5j5uwZwJ8MEjjg/BeqxfwUR2t8E05IZBV//AQKkxT0DIr73Ak+6ZwHHTwkEIj1NBKSOHQZwr9EC5a3ZApbe/P10WukH81V9B+NVfQQcoasBxVY1B9kECwQguAsHzow2/Y6LOQBO7l8CeHANBst0CwThcGkHTA61B5qAVP0oYq0Gm0NDBRe4KQQrZq0GDCJZB7qPnQYtOFkFM1AtBmw+AwWificCpU+3A2PUMwTSsw0HdaFtBKHS8QWI6gEH/yYJB9Z0NQi5tCME28JbBifmjQVUhdUHun/HBJmpIwKGzpEGdePU/ks+VQQtWZMAkqQFC60YVwQ5WokHvXgRC\",\"dtype\":\"float32\",\"order\":\"little\",\"shape\":[1335]},\"y\":{\"__ndarray__\":\"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\",\"dtype\":\"float32\",\"order\":\"little\",\"shape\":[1335]}},\"selected\":{\"id\":\"1085\"},\"selection_policy\":{\"id\":\"1084\"}},\"id\":\"1071\",\"type\":\"ColumnDataSource\"},{\"attributes\":{\"fill_alpha\":{\"value\":0.1},\"fill_color\":{\"field\":\"fill_color\"},\"hatch_alpha\":{\"value\":0.1},\"hatch_color\":{\"field\":\"hatch_color\"},\"line_alpha\":{\"value\":0.1},\"line_color\":{\"field\":\"line_color\"},\"x\":{\"field\":\"x\"},\"y\":{\"field\":\"y\"}},\"id\":\"1073\",\"type\":\"Scatter\"}],\"root_ids\":[\"1038\"]},\"title\":\"Bokeh Application\",\"version\":\"2.4.2\"}};\n",
       "  const render_items = [{\"docid\":\"6deaa8b1-7c7e-4b60-8807-90950b641948\",\"root_ids\":[\"1038\"],\"roots\":{\"1038\":\"5d419c34-4a55-46fc-a9b2-db327a8ebb6e\"}}];\n",
       "  root.Bokeh.embed.embed_items_notebook(docs_json, render_items);\n",
       "\n",
       "  }\n",
       "  if (root.Bokeh !== undefined) {\n",
       "    embed_document(root);\n",
       "  } else {\n",
       "    let attempts = 0;\n",
       "    const timer = setInterval(function(root) {\n",
       "      if (root.Bokeh !== undefined) {\n",
       "        clearInterval(timer);\n",
       "        embed_document(root);\n",
       "      } else {\n",
       "        attempts++;\n",
       "        if (attempts > 100) {\n",
       "          clearInterval(timer);\n",
       "          console.log(\"Bokeh: ERROR: Unable to run BokehJS code because BokehJS library is missing\");\n",
       "        }\n",
       "      }\n",
       "    }, 10, root)\n",
       "  }\n",
       "})(window);"
      ],
      "application/vnd.bokehjs_exec.v0+json": ""
     },
     "metadata": {
      "application/vnd.bokehjs_exec.v0+json": {
       "id": "1038"
      }
     },
     "output_type": "display_data"
    }
   ],
   "source": [
    "# Get topic weights and dominant topics ------------\n",
    "from sklearn.manifold import TSNE\n",
    "from bokeh.plotting import figure, output_file, show\n",
    "from bokeh.models import Label\n",
    "from bokeh.io import output_notebook\n",
    "import matplotlib.pyplot as plt\n",
    "import matplotlib.colors as mcolors\n",
    "\n",
    "# Get topic weights\n",
    "topic_weights = []\n",
    "for i, row_list in enumerate(lda_model[corpus]):\n",
    "    topic_weights.append([w for i, w in row_list])\n",
    "\n",
    "# Array of topic weights    \n",
    "arr = pd.DataFrame(topic_weights).fillna(0).values\n",
    "\n",
    "# Keep the well separated points (optional)\n",
    "arr = arr[np.amax(arr, axis=1) > 0.35]\n",
    "\n",
    "# Dominant topic number in each doc\n",
    "topic_num = np.argmax(arr, axis=1)\n",
    "\n",
    "# tSNE Dimension Reduction\n",
    "tsne_model = TSNE(n_components=2, verbose=1, random_state=0, angle=.99, init='pca')\n",
    "tsne_lda = tsne_model.fit_transform(arr)\n",
    "\n",
    "# Plot the Topic Clusters using Bokeh\n",
    "output_notebook()\n",
    "n_topics = 4\n",
    "mycolors = np.array([color for name, color in mcolors.TABLEAU_COLORS.items()])\n",
    "plot = figure(title=\"t-SNE Clustering of {} LDA Topics\".format(n_topics), \n",
    "              plot_width=900, plot_height=700)\n",
    "plot.scatter(x=tsne_lda[:,0], y=tsne_lda[:,1], color=mycolors[topic_num])\n",
    "show(plot)"
   ]
  },
  {
   "cell_type": "code",
   "execution_count": 67,
   "metadata": {},
   "outputs": [
    {
     "name": "stdout",
     "output_type": "stream",
     "text": [
      "Персплексия:  0.0006970234405116232\n"
     ]
    }
   ],
   "source": [
    "print('Персплексия: ', np.exp(lda_model.log_perplexity(corpus)))"
   ]
  },
  {
   "cell_type": "code",
   "execution_count": 68,
   "metadata": {},
   "outputs": [
    {
     "name": "stdout",
     "output_type": "stream",
     "text": [
      "Средняя когерентность:  0.39878512189799087\n"
     ]
    }
   ],
   "source": [
    "coherence_model_lda = CoherenceModel(model=lda_model, texts=data['question_prep'], dictionary=dictionary, coherence='c_v')\n",
    "coherence_lda = coherence_model_lda.get_coherence()\n",
    "print('Средняя когерентность: ', coherence_lda)"
   ]
  },
  {
   "cell_type": "markdown",
   "metadata": {},
   "source": [
    "На 10 темах модель неплохо проводит кластеризацию данных. На графике TSNE темы хорошо разделены."
   ]
  },
  {
   "cell_type": "code",
   "execution_count": null,
   "metadata": {},
   "outputs": [],
   "source": []
  }
 ],
 "metadata": {
  "colab": {
   "collapsed_sections": [
    "oy0GNiJ4jbWZ"
   ],
   "name": "topic_modeling.ipynb",
   "provenance": [],
   "toc_visible": true
  },
  "kernelspec": {
   "display_name": "Python 3 (ipykernel)",
   "language": "python",
   "name": "python3"
  },
  "language_info": {
   "codemirror_mode": {
    "name": "ipython",
    "version": 3
   },
   "file_extension": ".py",
   "mimetype": "text/x-python",
   "name": "python",
   "nbconvert_exporter": "python",
   "pygments_lexer": "ipython3",
   "version": "3.9.12"
  },
  "widgets": {
   "application/vnd.jupyter.widget-state+json": {
    "15bf3aeff54047258371a0d0e2babf7c": {
     "model_module": "@jupyter-widgets/base",
     "model_name": "LayoutModel",
     "state": {
      "_model_module": "@jupyter-widgets/base",
      "_model_module_version": "1.2.0",
      "_model_name": "LayoutModel",
      "_view_count": null,
      "_view_module": "@jupyter-widgets/base",
      "_view_module_version": "1.2.0",
      "_view_name": "LayoutView",
      "align_content": null,
      "align_items": null,
      "align_self": null,
      "border": null,
      "bottom": null,
      "display": null,
      "flex": null,
      "flex_flow": null,
      "grid_area": null,
      "grid_auto_columns": null,
      "grid_auto_flow": null,
      "grid_auto_rows": null,
      "grid_column": null,
      "grid_gap": null,
      "grid_row": null,
      "grid_template_areas": null,
      "grid_template_columns": null,
      "grid_template_rows": null,
      "height": null,
      "justify_content": null,
      "justify_items": null,
      "left": null,
      "margin": null,
      "max_height": null,
      "max_width": null,
      "min_height": null,
      "min_width": null,
      "object_fit": null,
      "object_position": null,
      "order": null,
      "overflow": null,
      "overflow_x": null,
      "overflow_y": null,
      "padding": null,
      "right": null,
      "top": null,
      "visibility": null,
      "width": null
     }
    },
    "1847c95665e7477fb1cfe4f9c7b68188": {
     "model_module": "@jupyter-widgets/controls",
     "model_name": "HTMLModel",
     "state": {
      "_dom_classes": [],
      "_model_module": "@jupyter-widgets/controls",
      "_model_module_version": "1.5.0",
      "_model_name": "HTMLModel",
      "_view_count": null,
      "_view_module": "@jupyter-widgets/controls",
      "_view_module_version": "1.5.0",
      "_view_name": "HTMLView",
      "description": "",
      "description_tooltip": null,
      "layout": "IPY_MODEL_d1bf7879e95f4fb3855744e017528cf8",
      "placeholder": "​",
      "style": "IPY_MODEL_2e658cc97cf04cf098b56f2cc61f1311",
      "value": " 5/5 [03:04&lt;00:00, 36.81s/it]"
     }
    },
    "2e658cc97cf04cf098b56f2cc61f1311": {
     "model_module": "@jupyter-widgets/controls",
     "model_name": "DescriptionStyleModel",
     "state": {
      "_model_module": "@jupyter-widgets/controls",
      "_model_module_version": "1.5.0",
      "_model_name": "DescriptionStyleModel",
      "_view_count": null,
      "_view_module": "@jupyter-widgets/base",
      "_view_module_version": "1.2.0",
      "_view_name": "StyleView",
      "description_width": ""
     }
    },
    "32891e0e6ed5423cbe9b35b9712411d5": {
     "model_module": "@jupyter-widgets/controls",
     "model_name": "ProgressStyleModel",
     "state": {
      "_model_module": "@jupyter-widgets/controls",
      "_model_module_version": "1.5.0",
      "_model_name": "ProgressStyleModel",
      "_view_count": null,
      "_view_module": "@jupyter-widgets/base",
      "_view_module_version": "1.2.0",
      "_view_name": "StyleView",
      "bar_color": null,
      "description_width": "initial"
     }
    },
    "351af6e9d11547b78d9e4b8d26060264": {
     "model_module": "@jupyter-widgets/controls",
     "model_name": "ProgressStyleModel",
     "state": {
      "_model_module": "@jupyter-widgets/controls",
      "_model_module_version": "1.5.0",
      "_model_name": "ProgressStyleModel",
      "_view_count": null,
      "_view_module": "@jupyter-widgets/base",
      "_view_module_version": "1.2.0",
      "_view_name": "StyleView",
      "bar_color": null,
      "description_width": "initial"
     }
    },
    "4161c2a28c2e4d53993e0c60232ba619": {
     "model_module": "@jupyter-widgets/controls",
     "model_name": "HTMLModel",
     "state": {
      "_dom_classes": [],
      "_model_module": "@jupyter-widgets/controls",
      "_model_module_version": "1.5.0",
      "_model_name": "HTMLModel",
      "_view_count": null,
      "_view_module": "@jupyter-widgets/controls",
      "_view_module_version": "1.5.0",
      "_view_name": "HTMLView",
      "description": "",
      "description_tooltip": null,
      "layout": "IPY_MODEL_b4e7967843e94cae8c4a8d0cc8d41ce3",
      "placeholder": "​",
      "style": "IPY_MODEL_7695232c7bb54bc2b9b679c127b2706e",
      "value": " 10000/10000 [25:35&lt;00:00,  6.51it/s]"
     }
    },
    "7695232c7bb54bc2b9b679c127b2706e": {
     "model_module": "@jupyter-widgets/controls",
     "model_name": "DescriptionStyleModel",
     "state": {
      "_model_module": "@jupyter-widgets/controls",
      "_model_module_version": "1.5.0",
      "_model_name": "DescriptionStyleModel",
      "_view_count": null,
      "_view_module": "@jupyter-widgets/base",
      "_view_module_version": "1.2.0",
      "_view_name": "StyleView",
      "description_width": ""
     }
    },
    "85065c1565e34dcf949fe1b000cae741": {
     "model_module": "@jupyter-widgets/controls",
     "model_name": "FloatProgressModel",
     "state": {
      "_dom_classes": [],
      "_model_module": "@jupyter-widgets/controls",
      "_model_module_version": "1.5.0",
      "_model_name": "FloatProgressModel",
      "_view_count": null,
      "_view_module": "@jupyter-widgets/controls",
      "_view_module_version": "1.5.0",
      "_view_name": "ProgressView",
      "bar_style": "success",
      "description": "100%",
      "description_tooltip": null,
      "layout": "IPY_MODEL_15bf3aeff54047258371a0d0e2babf7c",
      "max": 10000,
      "min": 0,
      "orientation": "horizontal",
      "style": "IPY_MODEL_32891e0e6ed5423cbe9b35b9712411d5",
      "value": 10000
     }
    },
    "a01dad28f9a141f9aea1f4eb0c1dd1ab": {
     "model_module": "@jupyter-widgets/base",
     "model_name": "LayoutModel",
     "state": {
      "_model_module": "@jupyter-widgets/base",
      "_model_module_version": "1.2.0",
      "_model_name": "LayoutModel",
      "_view_count": null,
      "_view_module": "@jupyter-widgets/base",
      "_view_module_version": "1.2.0",
      "_view_name": "LayoutView",
      "align_content": null,
      "align_items": null,
      "align_self": null,
      "border": null,
      "bottom": null,
      "display": null,
      "flex": null,
      "flex_flow": null,
      "grid_area": null,
      "grid_auto_columns": null,
      "grid_auto_flow": null,
      "grid_auto_rows": null,
      "grid_column": null,
      "grid_gap": null,
      "grid_row": null,
      "grid_template_areas": null,
      "grid_template_columns": null,
      "grid_template_rows": null,
      "height": null,
      "justify_content": null,
      "justify_items": null,
      "left": null,
      "margin": null,
      "max_height": null,
      "max_width": null,
      "min_height": null,
      "min_width": null,
      "object_fit": null,
      "object_position": null,
      "order": null,
      "overflow": null,
      "overflow_x": null,
      "overflow_y": null,
      "padding": null,
      "right": null,
      "top": null,
      "visibility": null,
      "width": null
     }
    },
    "b4e7967843e94cae8c4a8d0cc8d41ce3": {
     "model_module": "@jupyter-widgets/base",
     "model_name": "LayoutModel",
     "state": {
      "_model_module": "@jupyter-widgets/base",
      "_model_module_version": "1.2.0",
      "_model_name": "LayoutModel",
      "_view_count": null,
      "_view_module": "@jupyter-widgets/base",
      "_view_module_version": "1.2.0",
      "_view_name": "LayoutView",
      "align_content": null,
      "align_items": null,
      "align_self": null,
      "border": null,
      "bottom": null,
      "display": null,
      "flex": null,
      "flex_flow": null,
      "grid_area": null,
      "grid_auto_columns": null,
      "grid_auto_flow": null,
      "grid_auto_rows": null,
      "grid_column": null,
      "grid_gap": null,
      "grid_row": null,
      "grid_template_areas": null,
      "grid_template_columns": null,
      "grid_template_rows": null,
      "height": null,
      "justify_content": null,
      "justify_items": null,
      "left": null,
      "margin": null,
      "max_height": null,
      "max_width": null,
      "min_height": null,
      "min_width": null,
      "object_fit": null,
      "object_position": null,
      "order": null,
      "overflow": null,
      "overflow_x": null,
      "overflow_y": null,
      "padding": null,
      "right": null,
      "top": null,
      "visibility": null,
      "width": null
     }
    },
    "c5db15f805134b869887817835f301b1": {
     "model_module": "@jupyter-widgets/controls",
     "model_name": "HBoxModel",
     "state": {
      "_dom_classes": [],
      "_model_module": "@jupyter-widgets/controls",
      "_model_module_version": "1.5.0",
      "_model_name": "HBoxModel",
      "_view_count": null,
      "_view_module": "@jupyter-widgets/controls",
      "_view_module_version": "1.5.0",
      "_view_name": "HBoxView",
      "box_style": "",
      "children": [
       "IPY_MODEL_85065c1565e34dcf949fe1b000cae741",
       "IPY_MODEL_4161c2a28c2e4d53993e0c60232ba619"
      ],
      "layout": "IPY_MODEL_c6ad8e27121c4f909e74ec993281570d"
     }
    },
    "c6ad8e27121c4f909e74ec993281570d": {
     "model_module": "@jupyter-widgets/base",
     "model_name": "LayoutModel",
     "state": {
      "_model_module": "@jupyter-widgets/base",
      "_model_module_version": "1.2.0",
      "_model_name": "LayoutModel",
      "_view_count": null,
      "_view_module": "@jupyter-widgets/base",
      "_view_module_version": "1.2.0",
      "_view_name": "LayoutView",
      "align_content": null,
      "align_items": null,
      "align_self": null,
      "border": null,
      "bottom": null,
      "display": null,
      "flex": null,
      "flex_flow": null,
      "grid_area": null,
      "grid_auto_columns": null,
      "grid_auto_flow": null,
      "grid_auto_rows": null,
      "grid_column": null,
      "grid_gap": null,
      "grid_row": null,
      "grid_template_areas": null,
      "grid_template_columns": null,
      "grid_template_rows": null,
      "height": null,
      "justify_content": null,
      "justify_items": null,
      "left": null,
      "margin": null,
      "max_height": null,
      "max_width": null,
      "min_height": null,
      "min_width": null,
      "object_fit": null,
      "object_position": null,
      "order": null,
      "overflow": null,
      "overflow_x": null,
      "overflow_y": null,
      "padding": null,
      "right": null,
      "top": null,
      "visibility": null,
      "width": null
     }
    },
    "cbb8bf6d4f4d4d67b07184732996de9c": {
     "model_module": "@jupyter-widgets/controls",
     "model_name": "HBoxModel",
     "state": {
      "_dom_classes": [],
      "_model_module": "@jupyter-widgets/controls",
      "_model_module_version": "1.5.0",
      "_model_name": "HBoxModel",
      "_view_count": null,
      "_view_module": "@jupyter-widgets/controls",
      "_view_module_version": "1.5.0",
      "_view_name": "HBoxView",
      "box_style": "",
      "children": [
       "IPY_MODEL_f585a45cc1664ec1baa521f873a27532",
       "IPY_MODEL_1847c95665e7477fb1cfe4f9c7b68188"
      ],
      "layout": "IPY_MODEL_a01dad28f9a141f9aea1f4eb0c1dd1ab"
     }
    },
    "cc231a00b547499293dd22cc06134cef": {
     "model_module": "@jupyter-widgets/base",
     "model_name": "LayoutModel",
     "state": {
      "_model_module": "@jupyter-widgets/base",
      "_model_module_version": "1.2.0",
      "_model_name": "LayoutModel",
      "_view_count": null,
      "_view_module": "@jupyter-widgets/base",
      "_view_module_version": "1.2.0",
      "_view_name": "LayoutView",
      "align_content": null,
      "align_items": null,
      "align_self": null,
      "border": null,
      "bottom": null,
      "display": null,
      "flex": null,
      "flex_flow": null,
      "grid_area": null,
      "grid_auto_columns": null,
      "grid_auto_flow": null,
      "grid_auto_rows": null,
      "grid_column": null,
      "grid_gap": null,
      "grid_row": null,
      "grid_template_areas": null,
      "grid_template_columns": null,
      "grid_template_rows": null,
      "height": null,
      "justify_content": null,
      "justify_items": null,
      "left": null,
      "margin": null,
      "max_height": null,
      "max_width": null,
      "min_height": null,
      "min_width": null,
      "object_fit": null,
      "object_position": null,
      "order": null,
      "overflow": null,
      "overflow_x": null,
      "overflow_y": null,
      "padding": null,
      "right": null,
      "top": null,
      "visibility": null,
      "width": null
     }
    },
    "d1bf7879e95f4fb3855744e017528cf8": {
     "model_module": "@jupyter-widgets/base",
     "model_name": "LayoutModel",
     "state": {
      "_model_module": "@jupyter-widgets/base",
      "_model_module_version": "1.2.0",
      "_model_name": "LayoutModel",
      "_view_count": null,
      "_view_module": "@jupyter-widgets/base",
      "_view_module_version": "1.2.0",
      "_view_name": "LayoutView",
      "align_content": null,
      "align_items": null,
      "align_self": null,
      "border": null,
      "bottom": null,
      "display": null,
      "flex": null,
      "flex_flow": null,
      "grid_area": null,
      "grid_auto_columns": null,
      "grid_auto_flow": null,
      "grid_auto_rows": null,
      "grid_column": null,
      "grid_gap": null,
      "grid_row": null,
      "grid_template_areas": null,
      "grid_template_columns": null,
      "grid_template_rows": null,
      "height": null,
      "justify_content": null,
      "justify_items": null,
      "left": null,
      "margin": null,
      "max_height": null,
      "max_width": null,
      "min_height": null,
      "min_width": null,
      "object_fit": null,
      "object_position": null,
      "order": null,
      "overflow": null,
      "overflow_x": null,
      "overflow_y": null,
      "padding": null,
      "right": null,
      "top": null,
      "visibility": null,
      "width": null
     }
    },
    "f585a45cc1664ec1baa521f873a27532": {
     "model_module": "@jupyter-widgets/controls",
     "model_name": "FloatProgressModel",
     "state": {
      "_dom_classes": [],
      "_model_module": "@jupyter-widgets/controls",
      "_model_module_version": "1.5.0",
      "_model_name": "FloatProgressModel",
      "_view_count": null,
      "_view_module": "@jupyter-widgets/controls",
      "_view_module_version": "1.5.0",
      "_view_name": "ProgressView",
      "bar_style": "success",
      "description": "100%",
      "description_tooltip": null,
      "layout": "IPY_MODEL_cc231a00b547499293dd22cc06134cef",
      "max": 5,
      "min": 0,
      "orientation": "horizontal",
      "style": "IPY_MODEL_351af6e9d11547b78d9e4b8d26060264",
      "value": 5
     }
    }
   }
  }
 },
 "nbformat": 4,
 "nbformat_minor": 1
}
