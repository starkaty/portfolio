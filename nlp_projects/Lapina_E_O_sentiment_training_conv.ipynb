{
 "cells": [
  {
   "cell_type": "markdown",
   "metadata": {
    "colab": {
     "base_uri": "https://localhost:8080/"
    },
    "executionInfo": {
     "elapsed": 31704,
     "status": "ok",
     "timestamp": 1626350967438,
     "user": {
      "displayName": "Roman Zakharov",
      "photoUrl": "",
      "userId": "18255168926005506833"
     },
     "user_tz": -180
    },
    "id": "OlqOAQmQGXOL",
    "outputId": "aca2c4aa-6c6d-4cd8-fecf-17fc9dbaecaf"
   },
   "source": [
    "## Задача\n",
    "Берем отызывы за лето (из архива с материалами или предыдущего занятия)\n",
    "1. Учим conv сеть для классификации\n",
    "2. Рассмотреть 2-а варианта сеточек \n",
    "2.1 Инициализировать tf.keras.layers.Embedding предобученными векторами взять к примеру с https://rusvectores.org/ru/\n",
    "2.2 Инициализировать слой tf.keras.layers.Embedding по умолчанию (ну то есть вам ничего не делать с весами)\n",
    " \t\t\t\t\n",
    "Сравнить две архитектуры с предобученными весами и когда tf.keras.layers.Embedding обучается сразу со всей сеточкой, что получилось лучше\n"
   ]
  },
  {
   "cell_type": "code",
   "execution_count": 155,
   "metadata": {},
   "outputs": [],
   "source": [
    "# !wget -O imdb.zip -qq --no-check-certificate \"https://drive.google.com/uc?export=download&id=1vrQ5czMHoO3pEnmofFskymXMkq_u1dPc\"\n",
    "# !unzip imdb.zip\n",
    "# !pip -q install eli5\n",
    "# !pip -q install spacy\n",
    "# !python -m spacy download en"
   ]
  },
  {
   "cell_type": "markdown",
   "metadata": {
    "id": "kqbkG4qoS0AB"
   },
   "source": [
    "# Классификация текстов\n",
    "\n",
    "Начнём с самого простого - анализа тональности текста.\n",
    "\n",
    "Будем классифицировать отзывы с IMDB на положительные/отрицательные.\n",
    "\n",
    "Датасет взят с http://ai.stanford.edu/~amaas/data/sentiment/"
   ]
  },
  {
   "cell_type": "code",
   "execution_count": 156,
   "metadata": {},
   "outputs": [
    {
     "name": "stdout",
     "output_type": "stream",
     "text": [
      "/bin/bash: /home/ekaterina/anaconda3/lib/libtinfo.so.6: no version information available (required by /bin/bash)\r\n",
      "is_positive\treview\r",
      "\r\n",
      "0\t\"Dreamgirls, despite its fistful of Tony wins in an incredibly weak year on Broadway, has never been what one would call a jewel in the crown of stage musicals. However, that is not to say that in the right cinematic hands it could not be fleshed out and polished into something worthwhile on-screen. Unfortunately, what transfers to the screen is basically a slavishly faithful version of the stage hit with all of its inherent weaknesses intact. First, the score has never been one of the strong points of this production and the film does not change that factor. There are lots of songs (perhaps too many?), but few of them are especially memorable. The closest any come to catchy tunes are the title song and One Night Only - the much acclaimed And I Am Telling You That I Am Not Going is less a great song than it is a dramatic set piece for the character of Effie (Jennifer Hudson). The film is slick and technically well-produced, but the story and characters are surprisingly thin and lacking in any resonance. There is some interest in the opening moments, watching Jamie Foxx's Svengali-like manager manipulate his acts to the top, but that takes a back seat in the latter portion of the film, when the story conveniently tries to cast him as a villain, despite his having been right from a business stand-point for a good majority of the film. Beyonce Knowles is lovely and sings her songs perfectly well, but is stuck with a character who is basically all surface glitz. Anika Noni Rose as the third member of the Dreamgirls trio literally has nothing to do for the entire film. Eddie Murphy acquits himself well as a singer obviously based on James Brown, but the role is not especially meaty and ultimately has little impact. Foxx would seem ideal casting, but he seems oddly withdrawn and bored. The film's biggest selling point is surely former American Idol contestant/Oscar winner Jennifer Hudson in the central role of Effie White, the temperamental singer who gets booted from the group and makes a triumphant closing act return. For me, Effie has always been a big problem in both the show and the movie. The film obviously wants you to feel sorry for her and rather ham-handedly takes her side, but I have never been sure that this character deserves that kind of devotion. From the start, Effie conducts herself for the most part like an obnoxious, egotistical, self-centered diva, who is more interested in what everyone else can do for her rather than having much vested interest in the group of which she is a part. When she is booted from the group for her unprofessionalism and bad attitude, the charges are more than well-founded, but the stage show/film seem to think Effie should be cut unlimited slack simply because she has a great voice. Even though the film tries to soften some of Effie's harder edges to make her more likable, the charges still stand. Her story becomes more manipulative by suggesting she should have our further sympathy because she is an unwed mother struggling to raise her daughter - using the implication that (much like the talent card) motherhood immediately makes any behavior excusable. Indeed the only big effort the film makes to show Effie's mothering is to tell us about it and then include a scene where she barks at her daughter in the unemployment office, insists that the girl has \"\"no father\"\" and then refuse to look for gainful employment to support them since singing is all she knows. In the hands of a skillful actress, the gaps could perhaps have been remedied with technique and charisma. Unfortunately, Hudson is not that actress. She sings well, but the dialog-driven moments do not come naturally to her nor do high emotional moments. Effie's signature moment (the aforementioned And I Am Telling You... number) is well-sung by Hudson, but emotionally flat in the acting department. Effie is supposed to expressing her rage and desperation at her predicament, but Hudson comes off as a cabaret performer belting out a hot number. All in all, not quite the emotional highlight one expects. The latter portion of the film is basically a predictable melange of events that maneuver Foxx into Hudson's earlier position and allow her to strut back in and lord it over everyone. Foxx's criminal offenses in the film are undoubtedly par for the course of many struggling record producers, but the film's seeming implication that he has it coming because he helped usher in the disco era is rather ridiculous, not to mention pretentious and condescending, particularly coming from a film with all of the depth of a puddle. The end result is a faithful rendition of the stage hit, drained of emotion, energy or anything that can be described as dynamic.\"\r",
      "\r\n",
      "0\tThis show comes up with interesting locations as fast as the travel channel. It is billed as reality but in actuality it is pure prime time soap opera. It's tries to use exotic locales as a facade to bring people into a phony contest & then proceeds to hook viewers on the contestants soap opera style.<br /><br />It also borrows from an early CBS game show pioneer- Beat The Clock- by inventing situations for its contestants to try & overcome. Then it rewards the winner money. If they can spice it up with a little interaction between the characters, even better. While the game format is in slow motion versus Beat The Clock- the real accomplishment of this series is to escape reality. <br /><br />This show has elements of several types of successful past programs. Reality television, hardly, but if your hooked on the contestants, locale or contest, this is your cup of tea. If your not, this entire series is as I say, drivel dripping with gravy. It is another show hiding behind the reality label which is the trend it started in 2000.<br /><br />It is slick & well produced, so it might last a while yet. After all, so do re-runs of Gilligan's Island, Green Acres, The Beverly Hillbillies & The Brady Bunch. This just doesn't employ professional actors. The intelligence level is about the same.\r",
      "\r\n",
      "1\tI simply love this movie. I also love the Ramones, so I am sorta biased to begin with in the first place. There isn't a lot of critical praise to give this film, either you like it or you don't. I think it's a great cult movie.\r",
      "\r\n",
      "0\t\"Spoilers ahead if you want to call them that...<br /><br />I would almost recommend this film just so people can truly see a 1/10. Where to begin, we'll start from the top...<br /><br />THE STORY: Don't believe the premise - the movie has nothing to do with abandoned cars, and people finially understanding what the mysterious happenings are. It's a draub, basic, go to cabin movie with no intensity or \"\"effort\"\".<br /><br />THE SCREENPLAY: I usually give credit to indie screenwriters, it's hard work when you are starting out...but this is crap. The story is flat - it leaves you emotionless the entire movie. The dialogue is extremely weak and predictable boasting lines of \"\"Woah, you totally freaked me out\"\" and \"\"I was wondering if you'd uh...if you'd like to..uh, would you come to the cabin with me?\"\". It makes me want to rip out all my hair, one strand at a time and feed it to myself.<br /><br />THE CHARACTERS: HOLY CRAP!!!! Some have described the characters as flat, I want to take it one step further and say that they actually have a reverse character arch.. They actually start working on a parallel universe and almost start acting backwards...<br /><br />THE ACTORS: Worse than the characters are the actors. They take already poor written characters and add in terrible high school drama acting. The \"\"Woah you totally freaked me out\"\" was said so monotone and slow - like it was dumbed down. I could complain for hours on the actors alone.<br /><br />TECHNICAL: LIGHTING: An eight year old would be disappointed with lighting on this movie. Too shadowy in areas, too bleached in others. The director shouldn't use light as an emotion until he learns how to light a basic scene properly. Baby Steps! SOUND: How many sound guys does it take to make a really shotty sounding movie? 9. With that many sound guys this should sound amazing but quite the opposite has occured. There is one scene in particular that really sticks out, these guys are driving in a car and the sound of the car changes with every camera angle....WEAK! CAMERA: Learn to use it.<br /><br />Anyway, I'm running out of complaining space.....rent it - I dare you...Rent it and learn from it...give it a 1 rating..it deserves it.<br /><br />Signing off... Amanda Christmas\"\r",
      "\r\n",
      "1\t\"My all-time favorite movie! I have seen many movies, but this one beats them all! Excelent acting, wonderful story. You will, as a \"\"normal\"\" caring person start to love George. Altough he is an actor, he is also himself and a very lovable person. And maby most important thing: you will learn to respect & look different to people with Down Syndrome.\"\r",
      "\r\n",
      "1\tWonderful film, one of the best horror films of the 70s. She is realistic settings and atmospheres. As usual it was inevitable the usual negative comments. I have noticed that most horror films of a certain period many times fail to reach even sufficiency. Obviously because most horror movies are old and must be denigrati, is like a mental mechanism that moves the minds of the potential of music critics here.<br /><br />Before you read the review already knew what was the final judgment. In the film a good gift because 10 is really well done. Raines reads quite well and the film as a way in which it was produced reminds me a lot of Kubrick films. He really impression. Excellent film really. I consider a film anthology of years'70.\r",
      "\r\n",
      "0\tand shot in Vancouver with the 'mountains' of the low country of South Carolina visible in the background. For heaven's sake, they should have reset the location. There are no coastal mountains in South Carolina. Period.<br /><br />Lame visuals. They should have been beautiful. And the story limped along.<br /><br />I really don't understand why it was such a hit as a book, although I have to admit it's one I haven't read as yet. Usually I read the book and give the film a miss. There was nothing in this movie that made me want to buy the book, or even borrow it from the library.<br /><br />Verdict: The Mermaid Chair seemed pretty shallow to moi.\r",
      "\r\n",
      "1\tThis is the best dub I've ever heard by Disney, as well as the best adaptation since the biggest abuse ever on soundtrack, themes, characters, dialogues in Kiki Delivery Service. Urrrghhh<br /><br />This one has different atmosphere, especially the deviation from the common heroine. This one has both hero and heroine (although I don't really endorse the use of hero & heroine here, since Miyazaki is out from the stereotype & common theme). As usual, after being introduced by Spirited away, amazed by Mononoke, troubled by Grave of Fireflies, and deeply touched by Majo no Takkyuubin , this one start with a bit doubt in my part. Wondering if this will be the first Ghibi's dud. Well, in the end just like Only Yesterday and Whisper of the Heart, I ended up giving 10 rating. I'd give 9.8 rating, but the additional 0.2 is there to share the good feeling by encouraging people to see the movie.<br /><br />SPOILER Somehow I see this as a sad movie, people die in this one, the lonely robot, the abandoned place, and it ends with destruction. It is as if mankind really can't live with too much power. The collapsing scene gave me patches of Metropolis ending. It's just sad somehow. The plot is apparent in most reviews and the soundtrack rules as well (as always). Joe Hisaishi really belongs to Uematsu, Kanno, Williams caliber.People who can brings a movie, a game, an event to life, even to be a lingering moments by astounding composition.<br /><br />This is a feel good movie that used to be part of US cinema in the classic days (It's a Wonderful Life etc etc). Well, things change....\r",
      "\r\n",
      "1\t\"Linking story: another first-time viewing for me and, again, this is one of the most popular of the Amicus anthologies - and it's easy to see why, though I realize how the film's rather meaningless title could be misleading for some; I certainly fancied director Peter Duffell's choice - DEATH AND THE MAIDEN (which, incidentally, is a classical piece by Schubert that is heard in the film during the Peter Cushing episode) - a great deal more. Though the linking device itself is not all that great, the episodes are all equally compelling and enjoyable. Production values come off as very respectable indeed for the budget Duffell had to work with. The latter infuses the film with a great deal of style which is not so common with this type of film and, frankly, it makes one regret the fact that he wished to distance himself from the genre (though more so as not to be typecast rather than because he felt it was beneath him).<br /><br />Now to the individual stories themselves: <br /><br />\"\"Method For Murder\"\": the opening segment does not offer any real surprises but, to make up for this, it's quietly suspenseful and appropriately creepy at times (Tom Adams' 'fictitious' villain looking like the long-lost brother of Boris Karloff from THE OLD DARK HOUSE [1932]); also, it ends with a satisfactory DIABOLIQUE-type twist, and features a fairly intense role for Denholm Elliott in the lead. That's all we need out of it, really.<br /><br />\"\"Waxworks\"\": for the second story we are introduced to a curiously romantic mood which is quite unusual for this type of film; Peter Cushing and Joss Ackland are both excellent (as well as impeccably dressed) in their roles of two jilted lovers of a woman who continues to obsess them even after such a long time, and whose friendly rivalry can only lead them blindly and inexorably to a fate that is literally worse than death; an ominous hallucination scene with Peter Cushing is quite well done in view of the limited resources at hand, and Ackland's inexplicable inability - or unwillingness - to leave town somewhat recalls the house-trapped aristocrats of Bunuel's THE EXTERMINATING ANGEL (1962).<br /><br />\"\"Sweets To The Sweet\"\": this is perhaps the finest episode of all - with his ambiguous role here, Christopher Lee continues to demonstrate his versatility and he is matched by an understanding Nyree Dawn Porter and the deceptive innocence of Chloe Franks (who appears as Lee's daughter). The film's treatment of the occult here is both subtle and mature, culminating in a powerful and extremely chilling 'curtain'. Trivia Note: Chloe Franks appears as a grown-up in the featurette included on the disc, and when I saw her I felt an immediate familiarity with her face but couldn't quite put my finger on it. Later, on reading her filmography, it was revealed to me that she had played one of the leads in the long-running stage adaptation of Agatha Christie's \"\"The Mousetrap\"\" in London's West End, which my brother and I were fortunate enough to catch while we there on holiday in the Summer of 2002! Needless to say, we had no idea then that she had once created such a delicate - and delicious - portrayal in sheer evil, mainly by virtue of her peculiar look and a devilish smile!! <br /><br />\"\"The Cloak\"\": a wacky but oddly reverent vampire tale (that still manages to debunk many of the myths attached to the subgenre, while inventing some new ones!) which takes in some wonderful digs at exploitation cinema and, at one point, Christopher Lee himself!; Jon Pertwee is marvelous as the campy horror star who gets more than he bargained for when he attempts to bring a measure of authenticity to his work; Ingrid Pitt sends up her image nicely though her role is somewhat subsidiary to the proceedings; Geoffrey Bayldon (made up to look like Ernest Thesiger) also has a memorably quirky bit; the 'silent-cinema' style of the ending was a pretty audacious one to pull on an audience, I suppose - and, while some of the humor comes off as heavy-handed a' la THE FEARLESS VAMPIRE KILLERS (1967) or THEATRE OF BLOOD (1973), it's also rather infectious and certainly ends the film on a high (and highly unusual) note! <br /><br />Video and audio quality are relatively satisfactory, considering I had no other version to compare it with; the main culprit is some noticeable print damage but this is never so nasty as to affect one's enjoyment of the film. As for the extras, beginning with the Audio Commentary: frankly, this is one of the finest chats about a genre film that I can remember listening to; Jonathan Rigby gets to butt in with his opinion more than is usual for a moderator but his effort certainly allows director Peter Duffell to touch on every aspect of the production (whereas with some other films, you're left rather expecting there to be more!) and, as such, it's an extremely pleasant track that complements the main feature very nicely indeed. The featurette \"\"A-Rated Horror Film\"\" is a worthwhile effort with Peter Duffell again at center-stage but this time backed up with valid, if all-too-brief, contributions from producer Max J. Rosenberg and stars Chloe Franks, Ingrid Pitt and Geoffrey Bayldon. We also get film notes, reviews, bios and a poster/stills gallery which, again, are wonderfully assembled (with the contemporary reviews being something of a novelty - and a welcome one at that).\"\r",
      "\r\n"
     ]
    }
   ],
   "source": [
    "!head train.tsv"
   ]
  },
  {
   "cell_type": "code",
   "execution_count": 157,
   "metadata": {
    "colab": {
     "base_uri": "https://localhost:8080/"
    },
    "executionInfo": {
     "elapsed": 1395,
     "status": "ok",
     "timestamp": 1626351031134,
     "user": {
      "displayName": "Roman Zakharov",
      "photoUrl": "",
      "userId": "18255168926005506833"
     },
     "user_tz": -180
    },
    "id": "5R9e3pctHIV2",
    "outputId": "34384220-8813-47b8-f4fb-1abc96ac5462"
   },
   "outputs": [
    {
     "name": "stdout",
     "output_type": "stream",
     "text": [
      "Train size = 25000\n",
      "Test size = 25000\n"
     ]
    }
   ],
   "source": [
    "import pandas as pd\n",
    "\n",
    "train_df = pd.read_csv(\"train.tsv\", delimiter=\"\\t\")\n",
    "test_df = pd.read_csv(\"test.tsv\", delimiter=\"\\t\")\n",
    "\n",
    "print('Train size = {}'.format(len(train_df)))\n",
    "print('Test size = {}'.format(len(test_df)))"
   ]
  },
  {
   "cell_type": "code",
   "execution_count": 158,
   "metadata": {
    "colab": {
     "base_uri": "https://localhost:8080/"
    },
    "executionInfo": {
     "elapsed": 1000,
     "status": "ok",
     "timestamp": 1617972489868,
     "user": {
      "displayName": "Roman Zakharov",
      "photoUrl": "",
      "userId": "18255168926005506833"
     },
     "user_tz": -180
    },
    "id": "DywUCyMLr_TD",
    "outputId": "89faa95b-d06b-445c-ae31-3529c5602cb9"
   },
   "outputs": [
    {
     "name": "stdout",
     "output_type": "stream",
     "text": [
      "Test accuracy = 71.15%\n"
     ]
    }
   ],
   "source": [
    "#@title Начинаем классифицировать! { vertical-output: true, display-mode: \"form\" }\n",
    "positive_words = 'excellent','sensational','brilliant','awsome','love', 'great', 'best', 'wonderful', 'interesting', 'funny', 'amazing', 'magnificent', 'splendid', 'gorgeous', 'beautiful', 'happy', 'fantastic', 'fabulous', 'perfect' #@param {type:\"raw\"}\n",
    "negative_words = 'worst', 'awful', '1/10', 'crap', 'bad', 'worse', 'less', 'talentless', 'mediocre', 'worthless', 'unhappy'  #@param {type:\"raw\"}\n",
    "\n",
    "positives_count = test_df.review.apply(lambda text: sum(word in text for word in positive_words))\n",
    "negatives_count = test_df.review.apply(lambda text: sum(word in text for word in negative_words))\n",
    "is_positive = positives_count > negatives_count\n",
    "correct_count = (is_positive == test_df.is_positive).values.sum()\n",
    "\n",
    "accuracy = correct_count / len(test_df)\n",
    "\n",
    "print('Test accuracy = {:.2%}'.format(accuracy))"
   ]
  },
  {
   "cell_type": "code",
   "execution_count": 159,
   "metadata": {
    "colab": {
     "base_uri": "https://localhost:8080/"
    },
    "executionInfo": {
     "elapsed": 13,
     "status": "ok",
     "timestamp": 1626351034439,
     "user": {
      "displayName": "Roman Zakharov",
      "photoUrl": "",
      "userId": "18255168926005506833"
     },
     "user_tz": -180
    },
    "id": "09OkUmtde6ny",
    "outputId": "d206e083-12c9-4184-9862-b20220d796dc"
   },
   "outputs": [],
   "source": [
    "import re\n",
    "\n",
    "pattern = re.compile('<br />')"
   ]
  },
  {
   "cell_type": "markdown",
   "metadata": {
    "id": "vO6D9NuMi4II"
   },
   "source": [
    "Применим ее:"
   ]
  },
  {
   "cell_type": "code",
   "execution_count": 160,
   "metadata": {
    "id": "7LTwQqs_hD-K"
   },
   "outputs": [],
   "source": [
    "train_df['review'] = train_df['review'].apply(lambda text: pattern.subn(' ', text)[0])\n",
    "test_df['review'] = test_df['review'].apply(lambda text: pattern.subn(' ', text)[0])"
   ]
  },
  {
   "cell_type": "code",
   "execution_count": 161,
   "metadata": {},
   "outputs": [
    {
     "data": {
      "text/html": [
       "<div>\n",
       "<style scoped>\n",
       "    .dataframe tbody tr th:only-of-type {\n",
       "        vertical-align: middle;\n",
       "    }\n",
       "\n",
       "    .dataframe tbody tr th {\n",
       "        vertical-align: top;\n",
       "    }\n",
       "\n",
       "    .dataframe thead th {\n",
       "        text-align: right;\n",
       "    }\n",
       "</style>\n",
       "<table border=\"1\" class=\"dataframe\">\n",
       "  <thead>\n",
       "    <tr style=\"text-align: right;\">\n",
       "      <th></th>\n",
       "      <th>is_positive</th>\n",
       "      <th>review</th>\n",
       "    </tr>\n",
       "  </thead>\n",
       "  <tbody>\n",
       "    <tr>\n",
       "      <th>0</th>\n",
       "      <td>0</td>\n",
       "      <td>Dreamgirls, despite its fistful of Tony wins i...</td>\n",
       "    </tr>\n",
       "    <tr>\n",
       "      <th>1</th>\n",
       "      <td>0</td>\n",
       "      <td>This show comes up with interesting locations ...</td>\n",
       "    </tr>\n",
       "    <tr>\n",
       "      <th>2</th>\n",
       "      <td>1</td>\n",
       "      <td>I simply love this movie. I also love the Ramo...</td>\n",
       "    </tr>\n",
       "    <tr>\n",
       "      <th>3</th>\n",
       "      <td>0</td>\n",
       "      <td>Spoilers ahead if you want to call them that.....</td>\n",
       "    </tr>\n",
       "    <tr>\n",
       "      <th>4</th>\n",
       "      <td>1</td>\n",
       "      <td>My all-time favorite movie! I have seen many m...</td>\n",
       "    </tr>\n",
       "  </tbody>\n",
       "</table>\n",
       "</div>"
      ],
      "text/plain": [
       "   is_positive                                             review\n",
       "0            0  Dreamgirls, despite its fistful of Tony wins i...\n",
       "1            0  This show comes up with interesting locations ...\n",
       "2            1  I simply love this movie. I also love the Ramo...\n",
       "3            0  Spoilers ahead if you want to call them that.....\n",
       "4            1  My all-time favorite movie! I have seen many m..."
      ]
     },
     "execution_count": 161,
     "metadata": {},
     "output_type": "execute_result"
    }
   ],
   "source": [
    "train_df.head()"
   ]
  },
  {
   "cell_type": "markdown",
   "metadata": {},
   "source": [
    "### Замена NER\n",
    "Заменим именованные сущности на их тэги, чтобы модель не обучалась на расличных названиях сущностей"
   ]
  },
  {
   "cell_type": "code",
   "execution_count": 162,
   "metadata": {},
   "outputs": [],
   "source": [
    "# !python -m spacy download ru_core_news_lg"
   ]
  },
  {
   "cell_type": "code",
   "execution_count": 163,
   "metadata": {},
   "outputs": [],
   "source": [
    "# !pip install corus razdel navec slovnet deeppavlov"
   ]
  },
  {
   "cell_type": "code",
   "execution_count": 164,
   "metadata": {},
   "outputs": [
    {
     "name": "stderr",
     "output_type": "stream",
     "text": [
      "[nltk_data] Downloading package punkt to /home/ekaterina/nltk_data...\n",
      "[nltk_data]   Package punkt is already up-to-date!\n",
      "[nltk_data] Downloading package averaged_perceptron_tagger to\n",
      "[nltk_data]     /home/ekaterina/nltk_data...\n",
      "[nltk_data]   Package averaged_perceptron_tagger is already up-to-\n",
      "[nltk_data]       date!\n",
      "[nltk_data] Downloading package maxent_ne_chunker to\n",
      "[nltk_data]     /home/ekaterina/nltk_data...\n",
      "[nltk_data]   Package maxent_ne_chunker is already up-to-date!\n",
      "[nltk_data] Downloading package words to /home/ekaterina/nltk_data...\n",
      "[nltk_data]   Package words is already up-to-date!\n"
     ]
    },
    {
     "data": {
      "text/plain": [
       "True"
      ]
     },
     "execution_count": 164,
     "metadata": {},
     "output_type": "execute_result"
    }
   ],
   "source": [
    "import numpy as np\n",
    "import nltk\n",
    "import spacy\n",
    "from spacy import displacy\n",
    "import en_core_web_md\n",
    "import ru_core_news_lg\n",
    "\n",
    "import corus\n",
    "from corus import load_ne5\n",
    "from razdel import tokenize\n",
    "\n",
    "import tensorflow as tf\n",
    "\n",
    "from tensorflow.keras import Sequential\n",
    "from tensorflow.keras.layers import Dense, Embedding, GlobalAveragePooling1D, GlobalMaxPooling1D, Conv1D, GRU, LSTM, Dropout, Input\n",
    "from tensorflow.keras.layers.experimental.preprocessing import TextVectorization\n",
    "from sklearn import model_selection, preprocessing, linear_model\n",
    "\n",
    "nltk.download('punkt')\n",
    "nltk.download('averaged_perceptron_tagger')\n",
    "nltk.download('maxent_ne_chunker')\n",
    "nltk.download('words')"
   ]
  },
  {
   "cell_type": "code",
   "execution_count": 165,
   "metadata": {},
   "outputs": [],
   "source": [
    "import spacy\n",
    "from spacy import displacy\n",
    "\n",
    "nlp = spacy.load(\"en_core_web_sm\")"
   ]
  },
  {
   "cell_type": "markdown",
   "metadata": {},
   "source": [
    "Заменим найденные сущности на их тэги"
   ]
  },
  {
   "cell_type": "code",
   "execution_count": 166,
   "metadata": {},
   "outputs": [
    {
     "name": "stdout",
     "output_type": "stream",
     "text": [
      "Dreamgirls ORG\n",
      "Tony PERSON\n",
      "an incredibly weak year DATE\n",
      "Broadway FAC\n",
      "First ORDINAL\n",
      "One CARDINAL\n",
      "Effie ORG\n",
      "Jennifer Hudson PERSON\n",
      "Jamie Foxx's PERSON\n",
      "Beyonce Knowles PERSON\n",
      "Anika Noni Rose PERSON\n",
      "third ORDINAL\n",
      "Dreamgirls ORG\n",
      "Eddie Murphy PERSON\n",
      "James Brown PERSON\n",
      "American Idol ORG\n",
      "Jennifer Hudson PERSON\n",
      "Effie ORG\n",
      "Effie ORG\n",
      "Effie ORG\n",
      "Effie ORG\n",
      "Effie ORG\n",
      "Effie ORG\n",
      "Hudson PERSON\n",
      "Effie ORG\n",
      "Hudson PERSON\n",
      "Effie ORG\n",
      "Hudson PERSON\n",
      "Foxx ORG\n",
      "Hudson ORG\n",
      "Foxx ORG\n"
     ]
    },
    {
     "data": {
      "text/html": [
       "<span class=\"tex2jax_ignore\"><div class=\"entities\" style=\"line-height: 2.5; direction: ltr\">\n",
       "<mark class=\"entity\" style=\"background: #7aecec; padding: 0.45em 0.6em; margin: 0 0.25em; line-height: 1; border-radius: 0.35em;\">\n",
       "    Dreamgirls\n",
       "    <span style=\"font-size: 0.8em; font-weight: bold; line-height: 1; border-radius: 0.35em; vertical-align: middle; margin-left: 0.5rem\">ORG</span>\n",
       "</mark>\n",
       ", despite its fistful of \n",
       "<mark class=\"entity\" style=\"background: #aa9cfc; padding: 0.45em 0.6em; margin: 0 0.25em; line-height: 1; border-radius: 0.35em;\">\n",
       "    Tony\n",
       "    <span style=\"font-size: 0.8em; font-weight: bold; line-height: 1; border-radius: 0.35em; vertical-align: middle; margin-left: 0.5rem\">PERSON</span>\n",
       "</mark>\n",
       " wins in \n",
       "<mark class=\"entity\" style=\"background: #bfe1d9; padding: 0.45em 0.6em; margin: 0 0.25em; line-height: 1; border-radius: 0.35em;\">\n",
       "    an incredibly weak year\n",
       "    <span style=\"font-size: 0.8em; font-weight: bold; line-height: 1; border-radius: 0.35em; vertical-align: middle; margin-left: 0.5rem\">DATE</span>\n",
       "</mark>\n",
       " on \n",
       "<mark class=\"entity\" style=\"background: #9cc9cc; padding: 0.45em 0.6em; margin: 0 0.25em; line-height: 1; border-radius: 0.35em;\">\n",
       "    Broadway\n",
       "    <span style=\"font-size: 0.8em; font-weight: bold; line-height: 1; border-radius: 0.35em; vertical-align: middle; margin-left: 0.5rem\">FAC</span>\n",
       "</mark>\n",
       ", has never been what one would call a jewel in the crown of stage musicals. However, that is not to say that in the right cinematic hands it could not be fleshed out and polished into something worthwhile on-screen. Unfortunately, what transfers to the screen is basically a slavishly faithful version of the stage hit with all of its inherent weaknesses intact. \n",
       "<mark class=\"entity\" style=\"background: #e4e7d2; padding: 0.45em 0.6em; margin: 0 0.25em; line-height: 1; border-radius: 0.35em;\">\n",
       "    First\n",
       "    <span style=\"font-size: 0.8em; font-weight: bold; line-height: 1; border-radius: 0.35em; vertical-align: middle; margin-left: 0.5rem\">ORDINAL</span>\n",
       "</mark>\n",
       ", the score has never been one of the strong points of this production and the film does not change that factor. There are lots of songs (perhaps too many?), but few of them are especially memorable. The closest any come to catchy tunes are the title song and \n",
       "<mark class=\"entity\" style=\"background: #e4e7d2; padding: 0.45em 0.6em; margin: 0 0.25em; line-height: 1; border-radius: 0.35em;\">\n",
       "    One\n",
       "    <span style=\"font-size: 0.8em; font-weight: bold; line-height: 1; border-radius: 0.35em; vertical-align: middle; margin-left: 0.5rem\">CARDINAL</span>\n",
       "</mark>\n",
       " Night Only - the much acclaimed And I Am Telling You That I Am Not Going is less a great song than it is a dramatic set piece for the character of \n",
       "<mark class=\"entity\" style=\"background: #7aecec; padding: 0.45em 0.6em; margin: 0 0.25em; line-height: 1; border-radius: 0.35em;\">\n",
       "    Effie\n",
       "    <span style=\"font-size: 0.8em; font-weight: bold; line-height: 1; border-radius: 0.35em; vertical-align: middle; margin-left: 0.5rem\">ORG</span>\n",
       "</mark>\n",
       " (\n",
       "<mark class=\"entity\" style=\"background: #aa9cfc; padding: 0.45em 0.6em; margin: 0 0.25em; line-height: 1; border-radius: 0.35em;\">\n",
       "    Jennifer Hudson\n",
       "    <span style=\"font-size: 0.8em; font-weight: bold; line-height: 1; border-radius: 0.35em; vertical-align: middle; margin-left: 0.5rem\">PERSON</span>\n",
       "</mark>\n",
       "). The film is slick and technically well-produced, but the story and characters are surprisingly thin and lacking in any resonance. There is some interest in the opening moments, watching \n",
       "<mark class=\"entity\" style=\"background: #aa9cfc; padding: 0.45em 0.6em; margin: 0 0.25em; line-height: 1; border-radius: 0.35em;\">\n",
       "    Jamie Foxx's\n",
       "    <span style=\"font-size: 0.8em; font-weight: bold; line-height: 1; border-radius: 0.35em; vertical-align: middle; margin-left: 0.5rem\">PERSON</span>\n",
       "</mark>\n",
       " Svengali-like manager manipulate his acts to the top, but that takes a back seat in the latter portion of the film, when the story conveniently tries to cast him as a villain, despite his having been right from a business stand-point for a good majority of the film. \n",
       "<mark class=\"entity\" style=\"background: #aa9cfc; padding: 0.45em 0.6em; margin: 0 0.25em; line-height: 1; border-radius: 0.35em;\">\n",
       "    Beyonce Knowles\n",
       "    <span style=\"font-size: 0.8em; font-weight: bold; line-height: 1; border-radius: 0.35em; vertical-align: middle; margin-left: 0.5rem\">PERSON</span>\n",
       "</mark>\n",
       " is lovely and sings her songs perfectly well, but is stuck with a character who is basically all surface glitz. \n",
       "<mark class=\"entity\" style=\"background: #aa9cfc; padding: 0.45em 0.6em; margin: 0 0.25em; line-height: 1; border-radius: 0.35em;\">\n",
       "    Anika Noni Rose\n",
       "    <span style=\"font-size: 0.8em; font-weight: bold; line-height: 1; border-radius: 0.35em; vertical-align: middle; margin-left: 0.5rem\">PERSON</span>\n",
       "</mark>\n",
       " as the \n",
       "<mark class=\"entity\" style=\"background: #e4e7d2; padding: 0.45em 0.6em; margin: 0 0.25em; line-height: 1; border-radius: 0.35em;\">\n",
       "    third\n",
       "    <span style=\"font-size: 0.8em; font-weight: bold; line-height: 1; border-radius: 0.35em; vertical-align: middle; margin-left: 0.5rem\">ORDINAL</span>\n",
       "</mark>\n",
       " member of the \n",
       "<mark class=\"entity\" style=\"background: #7aecec; padding: 0.45em 0.6em; margin: 0 0.25em; line-height: 1; border-radius: 0.35em;\">\n",
       "    Dreamgirls\n",
       "    <span style=\"font-size: 0.8em; font-weight: bold; line-height: 1; border-radius: 0.35em; vertical-align: middle; margin-left: 0.5rem\">ORG</span>\n",
       "</mark>\n",
       " trio literally has nothing to do for the entire film. \n",
       "<mark class=\"entity\" style=\"background: #aa9cfc; padding: 0.45em 0.6em; margin: 0 0.25em; line-height: 1; border-radius: 0.35em;\">\n",
       "    Eddie Murphy\n",
       "    <span style=\"font-size: 0.8em; font-weight: bold; line-height: 1; border-radius: 0.35em; vertical-align: middle; margin-left: 0.5rem\">PERSON</span>\n",
       "</mark>\n",
       " acquits himself well as a singer obviously based on \n",
       "<mark class=\"entity\" style=\"background: #aa9cfc; padding: 0.45em 0.6em; margin: 0 0.25em; line-height: 1; border-radius: 0.35em;\">\n",
       "    James Brown\n",
       "    <span style=\"font-size: 0.8em; font-weight: bold; line-height: 1; border-radius: 0.35em; vertical-align: middle; margin-left: 0.5rem\">PERSON</span>\n",
       "</mark>\n",
       ", but the role is not especially meaty and ultimately has little impact. Foxx would seem ideal casting, but he seems oddly withdrawn and bored. The film's biggest selling point is surely former \n",
       "<mark class=\"entity\" style=\"background: #7aecec; padding: 0.45em 0.6em; margin: 0 0.25em; line-height: 1; border-radius: 0.35em;\">\n",
       "    American Idol\n",
       "    <span style=\"font-size: 0.8em; font-weight: bold; line-height: 1; border-radius: 0.35em; vertical-align: middle; margin-left: 0.5rem\">ORG</span>\n",
       "</mark>\n",
       " contestant/Oscar winner \n",
       "<mark class=\"entity\" style=\"background: #aa9cfc; padding: 0.45em 0.6em; margin: 0 0.25em; line-height: 1; border-radius: 0.35em;\">\n",
       "    Jennifer Hudson\n",
       "    <span style=\"font-size: 0.8em; font-weight: bold; line-height: 1; border-radius: 0.35em; vertical-align: middle; margin-left: 0.5rem\">PERSON</span>\n",
       "</mark>\n",
       " in the central role of \n",
       "<mark class=\"entity\" style=\"background: #7aecec; padding: 0.45em 0.6em; margin: 0 0.25em; line-height: 1; border-radius: 0.35em;\">\n",
       "    Effie\n",
       "    <span style=\"font-size: 0.8em; font-weight: bold; line-height: 1; border-radius: 0.35em; vertical-align: middle; margin-left: 0.5rem\">ORG</span>\n",
       "</mark>\n",
       " White, the temperamental singer who gets booted from the group and makes a triumphant closing act return. For me, \n",
       "<mark class=\"entity\" style=\"background: #7aecec; padding: 0.45em 0.6em; margin: 0 0.25em; line-height: 1; border-radius: 0.35em;\">\n",
       "    Effie\n",
       "    <span style=\"font-size: 0.8em; font-weight: bold; line-height: 1; border-radius: 0.35em; vertical-align: middle; margin-left: 0.5rem\">ORG</span>\n",
       "</mark>\n",
       " has always been a big problem in both the show and the movie. The film obviously wants you to feel sorry for her and rather ham-handedly takes her side, but I have never been sure that this character deserves that kind of devotion. From the start, \n",
       "<mark class=\"entity\" style=\"background: #7aecec; padding: 0.45em 0.6em; margin: 0 0.25em; line-height: 1; border-radius: 0.35em;\">\n",
       "    Effie\n",
       "    <span style=\"font-size: 0.8em; font-weight: bold; line-height: 1; border-radius: 0.35em; vertical-align: middle; margin-left: 0.5rem\">ORG</span>\n",
       "</mark>\n",
       " conducts herself for the most part like an obnoxious, egotistical, self-centered diva, who is more interested in what everyone else can do for her rather than having much vested interest in the group of which she is a part. When she is booted from the group for her unprofessionalism and bad attitude, the charges are more than well-founded, but the stage show/film seem to think \n",
       "<mark class=\"entity\" style=\"background: #7aecec; padding: 0.45em 0.6em; margin: 0 0.25em; line-height: 1; border-radius: 0.35em;\">\n",
       "    Effie\n",
       "    <span style=\"font-size: 0.8em; font-weight: bold; line-height: 1; border-radius: 0.35em; vertical-align: middle; margin-left: 0.5rem\">ORG</span>\n",
       "</mark>\n",
       " should be cut unlimited slack simply because she has a great voice. Even though the film tries to soften some of \n",
       "<mark class=\"entity\" style=\"background: #7aecec; padding: 0.45em 0.6em; margin: 0 0.25em; line-height: 1; border-radius: 0.35em;\">\n",
       "    Effie\n",
       "    <span style=\"font-size: 0.8em; font-weight: bold; line-height: 1; border-radius: 0.35em; vertical-align: middle; margin-left: 0.5rem\">ORG</span>\n",
       "</mark>\n",
       "'s harder edges to make her more likable, the charges still stand. Her story becomes more manipulative by suggesting she should have our further sympathy because she is an unwed mother struggling to raise her daughter - using the implication that (much like the talent card) motherhood immediately makes any behavior excusable. Indeed the only big effort the film makes to show \n",
       "<mark class=\"entity\" style=\"background: #7aecec; padding: 0.45em 0.6em; margin: 0 0.25em; line-height: 1; border-radius: 0.35em;\">\n",
       "    Effie\n",
       "    <span style=\"font-size: 0.8em; font-weight: bold; line-height: 1; border-radius: 0.35em; vertical-align: middle; margin-left: 0.5rem\">ORG</span>\n",
       "</mark>\n",
       "'s mothering is to tell us about it and then include a scene where she barks at her daughter in the unemployment office, insists that the girl has &quot;no father&quot; and then refuse to look for gainful employment to support them since singing is all she knows. In the hands of a skillful actress, the gaps could perhaps have been remedied with technique and charisma. Unfortunately, \n",
       "<mark class=\"entity\" style=\"background: #aa9cfc; padding: 0.45em 0.6em; margin: 0 0.25em; line-height: 1; border-radius: 0.35em;\">\n",
       "    Hudson\n",
       "    <span style=\"font-size: 0.8em; font-weight: bold; line-height: 1; border-radius: 0.35em; vertical-align: middle; margin-left: 0.5rem\">PERSON</span>\n",
       "</mark>\n",
       " is not that actress. She sings well, but the dialog-driven moments do not come naturally to her nor do high emotional moments. \n",
       "<mark class=\"entity\" style=\"background: #7aecec; padding: 0.45em 0.6em; margin: 0 0.25em; line-height: 1; border-radius: 0.35em;\">\n",
       "    Effie\n",
       "    <span style=\"font-size: 0.8em; font-weight: bold; line-height: 1; border-radius: 0.35em; vertical-align: middle; margin-left: 0.5rem\">ORG</span>\n",
       "</mark>\n",
       "'s signature moment (the aforementioned And I Am Telling You... number) is well-sung by \n",
       "<mark class=\"entity\" style=\"background: #aa9cfc; padding: 0.45em 0.6em; margin: 0 0.25em; line-height: 1; border-radius: 0.35em;\">\n",
       "    Hudson\n",
       "    <span style=\"font-size: 0.8em; font-weight: bold; line-height: 1; border-radius: 0.35em; vertical-align: middle; margin-left: 0.5rem\">PERSON</span>\n",
       "</mark>\n",
       ", but emotionally flat in the acting department. \n",
       "<mark class=\"entity\" style=\"background: #7aecec; padding: 0.45em 0.6em; margin: 0 0.25em; line-height: 1; border-radius: 0.35em;\">\n",
       "    Effie\n",
       "    <span style=\"font-size: 0.8em; font-weight: bold; line-height: 1; border-radius: 0.35em; vertical-align: middle; margin-left: 0.5rem\">ORG</span>\n",
       "</mark>\n",
       " is supposed to expressing her rage and desperation at her predicament, but \n",
       "<mark class=\"entity\" style=\"background: #aa9cfc; padding: 0.45em 0.6em; margin: 0 0.25em; line-height: 1; border-radius: 0.35em;\">\n",
       "    Hudson\n",
       "    <span style=\"font-size: 0.8em; font-weight: bold; line-height: 1; border-radius: 0.35em; vertical-align: middle; margin-left: 0.5rem\">PERSON</span>\n",
       "</mark>\n",
       " comes off as a cabaret performer belting out a hot number. All in all, not quite the emotional highlight one expects. The latter portion of the film is basically a predictable melange of events that maneuver \n",
       "<mark class=\"entity\" style=\"background: #7aecec; padding: 0.45em 0.6em; margin: 0 0.25em; line-height: 1; border-radius: 0.35em;\">\n",
       "    Foxx\n",
       "    <span style=\"font-size: 0.8em; font-weight: bold; line-height: 1; border-radius: 0.35em; vertical-align: middle; margin-left: 0.5rem\">ORG</span>\n",
       "</mark>\n",
       " into \n",
       "<mark class=\"entity\" style=\"background: #7aecec; padding: 0.45em 0.6em; margin: 0 0.25em; line-height: 1; border-radius: 0.35em;\">\n",
       "    Hudson\n",
       "    <span style=\"font-size: 0.8em; font-weight: bold; line-height: 1; border-radius: 0.35em; vertical-align: middle; margin-left: 0.5rem\">ORG</span>\n",
       "</mark>\n",
       "'s earlier position and allow her to strut back in and lord it over everyone. \n",
       "<mark class=\"entity\" style=\"background: #7aecec; padding: 0.45em 0.6em; margin: 0 0.25em; line-height: 1; border-radius: 0.35em;\">\n",
       "    Foxx\n",
       "    <span style=\"font-size: 0.8em; font-weight: bold; line-height: 1; border-radius: 0.35em; vertical-align: middle; margin-left: 0.5rem\">ORG</span>\n",
       "</mark>\n",
       "'s criminal offenses in the film are undoubtedly par for the course of many struggling record producers, but the film's seeming implication that he has it coming because he helped usher in the disco era is rather ridiculous, not to mention pretentious and condescending, particularly coming from a film with all of the depth of a puddle. The end result is a faithful rendition of the stage hit, drained of emotion, energy or anything that can be described as dynamic.</div></span>"
      ],
      "text/plain": [
       "<IPython.core.display.HTML object>"
      ]
     },
     "metadata": {},
     "output_type": "display_data"
    }
   ],
   "source": [
    "doc =nlp(train_df['review'][0])\n",
    "for ent in doc.ents:\n",
    "    print(ent.text, ent.label_)\n",
    "displacy.render(doc, style='ent', jupyter=True)"
   ]
  },
  {
   "cell_type": "code",
   "execution_count": 167,
   "metadata": {},
   "outputs": [],
   "source": [
    "# функция для замены ner в тексте на тэги\n",
    "def ner_to_text(text, nlp):\n",
    "    doc = nlp(text)\n",
    "    for ent in doc.ents:\n",
    "        text = text.replace(ent.text, ent.label_)\n",
    "    return text"
   ]
  },
  {
   "cell_type": "code",
   "execution_count": 168,
   "metadata": {},
   "outputs": [],
   "source": [
    "train_df['review_ner'] = train_df['review'].apply(lambda row: ner_to_text(row, nlp))"
   ]
  },
  {
   "cell_type": "code",
   "execution_count": 169,
   "metadata": {},
   "outputs": [
    {
     "data": {
      "text/html": [
       "<div>\n",
       "<style scoped>\n",
       "    .dataframe tbody tr th:only-of-type {\n",
       "        vertical-align: middle;\n",
       "    }\n",
       "\n",
       "    .dataframe tbody tr th {\n",
       "        vertical-align: top;\n",
       "    }\n",
       "\n",
       "    .dataframe thead th {\n",
       "        text-align: right;\n",
       "    }\n",
       "</style>\n",
       "<table border=\"1\" class=\"dataframe\">\n",
       "  <thead>\n",
       "    <tr style=\"text-align: right;\">\n",
       "      <th></th>\n",
       "      <th>is_positive</th>\n",
       "      <th>review</th>\n",
       "      <th>review_ner</th>\n",
       "    </tr>\n",
       "  </thead>\n",
       "  <tbody>\n",
       "    <tr>\n",
       "      <th>0</th>\n",
       "      <td>0</td>\n",
       "      <td>Dreamgirls, despite its fistful of Tony wins i...</td>\n",
       "      <td>ORG, despite its fistful of PERSON wins in DAT...</td>\n",
       "    </tr>\n",
       "    <tr>\n",
       "      <th>1</th>\n",
       "      <td>0</td>\n",
       "      <td>This show comes up with interesting locations ...</td>\n",
       "      <td>This show comes up with interesting locations ...</td>\n",
       "    </tr>\n",
       "    <tr>\n",
       "      <th>2</th>\n",
       "      <td>1</td>\n",
       "      <td>I simply love this movie. I also love the Ramo...</td>\n",
       "      <td>I simply love this movie. I also love the ORG,...</td>\n",
       "    </tr>\n",
       "    <tr>\n",
       "      <th>3</th>\n",
       "      <td>0</td>\n",
       "      <td>Spoilers ahead if you want to call them that.....</td>\n",
       "      <td>Spoilers ahead if you want to call them that.....</td>\n",
       "    </tr>\n",
       "    <tr>\n",
       "      <th>4</th>\n",
       "      <td>1</td>\n",
       "      <td>My all-time favorite movie! I have seen many m...</td>\n",
       "      <td>My all-time favorite movie! I have seen many m...</td>\n",
       "    </tr>\n",
       "  </tbody>\n",
       "</table>\n",
       "</div>"
      ],
      "text/plain": [
       "   is_positive                                             review  \\\n",
       "0            0  Dreamgirls, despite its fistful of Tony wins i...   \n",
       "1            0  This show comes up with interesting locations ...   \n",
       "2            1  I simply love this movie. I also love the Ramo...   \n",
       "3            0  Spoilers ahead if you want to call them that.....   \n",
       "4            1  My all-time favorite movie! I have seen many m...   \n",
       "\n",
       "                                          review_ner  \n",
       "0  ORG, despite its fistful of PERSON wins in DAT...  \n",
       "1  This show comes up with interesting locations ...  \n",
       "2  I simply love this movie. I also love the ORG,...  \n",
       "3  Spoilers ahead if you want to call them that.....  \n",
       "4  My all-time favorite movie! I have seen many m...  "
      ]
     },
     "execution_count": 169,
     "metadata": {},
     "output_type": "execute_result"
    }
   ],
   "source": [
    "train_df.head()"
   ]
  },
  {
   "cell_type": "code",
   "execution_count": 170,
   "metadata": {},
   "outputs": [],
   "source": [
    "test_df['review_ner'] = test_df['review'].apply(lambda row: ner_to_text(row, nlp))"
   ]
  },
  {
   "cell_type": "markdown",
   "metadata": {},
   "source": [
    "### Лемматизация и удаление стоп-слов"
   ]
  },
  {
   "cell_type": "code",
   "execution_count": 171,
   "metadata": {},
   "outputs": [],
   "source": [
    "from string import punctuation\n",
    "from stop_words import get_stop_words\n",
    "from pymorphy2 import MorphAnalyzer\n",
    "import re"
   ]
  },
  {
   "cell_type": "code",
   "execution_count": 172,
   "metadata": {},
   "outputs": [],
   "source": [
    "sw = set(get_stop_words(\"en\"))\n",
    "sw_left = set(['no','not', 'nor', \"mustn't\", \"shouldn't\",\"shan't\", 'against', \"aren't\", \"can't\",\n",
    " 'cannot',\"wouldn't\",\n",
    " \"couldn't\",\"didn't\", \"doesn't\", \"don't\", \"hadn't\", \"hasn't\",\"haven't\", \"isn't\", \"wasn't\", \"weren't\", \"won't\"\n",
    "              ])\n",
    "sw_in = set(['im', 'u', 'will', 'just'])"
   ]
  },
  {
   "cell_type": "code",
   "execution_count": 173,
   "metadata": {},
   "outputs": [],
   "source": [
    "sw.symmetric_difference_update(sw_left)"
   ]
  },
  {
   "cell_type": "code",
   "execution_count": 174,
   "metadata": {},
   "outputs": [],
   "source": [
    "sw.update(sw_in)"
   ]
  },
  {
   "cell_type": "code",
   "execution_count": 175,
   "metadata": {},
   "outputs": [],
   "source": [
    "puncts = set(punctuation)"
   ]
  },
  {
   "cell_type": "code",
   "execution_count": 176,
   "metadata": {},
   "outputs": [],
   "source": [
    "morpher = MorphAnalyzer()\n",
    "\n",
    "\n",
    "def preprocess_text(txt):\n",
    "    txt = str(txt)\n",
    "    txt = \"\".join(c for c in txt if c not in puncts)\n",
    "    txt = txt.lower()\n",
    "#     txt = re.sub(\"no\\s\", \"not\", 'nore', txt)\n",
    "    txt = [morpher.parse(word)[0].normal_form for word in txt.split() if word not in sw]\n",
    "    for word in txt:\n",
    "        if '@' in word:\n",
    "            txt.remove(word)\n",
    "    return \" \".join(txt)"
   ]
  },
  {
   "cell_type": "code",
   "execution_count": 177,
   "metadata": {},
   "outputs": [
    {
     "name": "stderr",
     "output_type": "stream",
     "text": [
      "100%|██████████| 25000/25000 [00:36<00:00, 686.10it/s]\n",
      "100%|██████████| 25000/25000 [00:35<00:00, 707.38it/s]\n"
     ]
    }
   ],
   "source": [
    "from tqdm import tqdm \n",
    "tqdm.pandas()\n",
    "\n",
    "train_df['review_ner'] = train_df['review_ner'].progress_apply(preprocess_text)\n",
    "test_df['review_ner'] = test_df['review_ner'].progress_apply(preprocess_text)"
   ]
  },
  {
   "cell_type": "code",
   "execution_count": 178,
   "metadata": {},
   "outputs": [
    {
     "data": {
      "text/html": [
       "<div>\n",
       "<style scoped>\n",
       "    .dataframe tbody tr th:only-of-type {\n",
       "        vertical-align: middle;\n",
       "    }\n",
       "\n",
       "    .dataframe tbody tr th {\n",
       "        vertical-align: top;\n",
       "    }\n",
       "\n",
       "    .dataframe thead th {\n",
       "        text-align: right;\n",
       "    }\n",
       "</style>\n",
       "<table border=\"1\" class=\"dataframe\">\n",
       "  <thead>\n",
       "    <tr style=\"text-align: right;\">\n",
       "      <th></th>\n",
       "      <th>is_positive</th>\n",
       "      <th>review</th>\n",
       "      <th>review_ner</th>\n",
       "    </tr>\n",
       "  </thead>\n",
       "  <tbody>\n",
       "    <tr>\n",
       "      <th>0</th>\n",
       "      <td>0</td>\n",
       "      <td>Dreamgirls, despite its fistful of Tony wins i...</td>\n",
       "      <td>org despite fistful person wins date fac never...</td>\n",
       "    </tr>\n",
       "    <tr>\n",
       "      <th>1</th>\n",
       "      <td>0</td>\n",
       "      <td>This show comes up with interesting locations ...</td>\n",
       "      <td>show comes interesting locations fast travel c...</td>\n",
       "    </tr>\n",
       "    <tr>\n",
       "      <th>2</th>\n",
       "      <td>1</td>\n",
       "      <td>I simply love this movie. I also love the Ramo...</td>\n",
       "      <td>simply love movie also love org sorta biased b...</td>\n",
       "    </tr>\n",
       "    <tr>\n",
       "      <th>3</th>\n",
       "      <td>0</td>\n",
       "      <td>Spoilers ahead if you want to call them that.....</td>\n",
       "      <td>spoilers ahead want call almost recommend film...</td>\n",
       "    </tr>\n",
       "    <tr>\n",
       "      <th>4</th>\n",
       "      <td>1</td>\n",
       "      <td>My all-time favorite movie! I have seen many m...</td>\n",
       "      <td>alltime favorite movie seen many movies one be...</td>\n",
       "    </tr>\n",
       "  </tbody>\n",
       "</table>\n",
       "</div>"
      ],
      "text/plain": [
       "   is_positive                                             review  \\\n",
       "0            0  Dreamgirls, despite its fistful of Tony wins i...   \n",
       "1            0  This show comes up with interesting locations ...   \n",
       "2            1  I simply love this movie. I also love the Ramo...   \n",
       "3            0  Spoilers ahead if you want to call them that.....   \n",
       "4            1  My all-time favorite movie! I have seen many m...   \n",
       "\n",
       "                                          review_ner  \n",
       "0  org despite fistful person wins date fac never...  \n",
       "1  show comes interesting locations fast travel c...  \n",
       "2  simply love movie also love org sorta biased b...  \n",
       "3  spoilers ahead want call almost recommend film...  \n",
       "4  alltime favorite movie seen many movies one be...  "
      ]
     },
     "execution_count": 178,
     "metadata": {},
     "output_type": "execute_result"
    }
   ],
   "source": [
    "train_df.head()"
   ]
  },
  {
   "cell_type": "code",
   "execution_count": 179,
   "metadata": {},
   "outputs": [
    {
     "data": {
      "text/plain": [
       "(25000, 3)"
      ]
     },
     "execution_count": 179,
     "metadata": {},
     "output_type": "execute_result"
    }
   ],
   "source": [
    "train_df.shape"
   ]
  },
  {
   "cell_type": "code",
   "execution_count": 180,
   "metadata": {},
   "outputs": [],
   "source": [
    "train_df.to_csv('train_df_review_ner.csv',sep='\\t', encoding='utf-8', index=False)\n",
    "test_df.to_csv('test_df_review_ner.csv', sep='\\t', encoding='utf-8', index=False)"
   ]
  },
  {
   "cell_type": "markdown",
   "metadata": {
    "id": "k2fHA70b0zEZ"
   },
   "source": [
    "## Обучение нейросети"
   ]
  },
  {
   "cell_type": "markdown",
   "metadata": {
    "id": "y1VCrM671XO5"
   },
   "source": [
    "Мы тут пришли deep learning'ом заниматься, а делаем почему-то модель на логистической регрессии. Как так?\n",
    "\n",
    "Попробуем запустить относительно стандартную модель для классификации текстов - сверточная сеть поверх словных эмбеддингов.\n",
    "\n",
    "Разбираться, что это за зверь, будем на следующих занятиях, а пока будем просто им пользоваться :)\n",
    "\n",
    "Каждое предложение нужно представлять набором слов - и сразу же начинаются проблемы. Во-первых, как ограничить длину предложения?\n",
    "\n",
    "Прикинем по гистограмме, какая длина нам подходит:"
   ]
  },
  {
   "cell_type": "code",
   "execution_count": 181,
   "metadata": {
    "colab": {
     "base_uri": "https://localhost:8080/"
    },
    "executionInfo": {
     "elapsed": 1051,
     "status": "ok",
     "timestamp": 1617972850890,
     "user": {
      "displayName": "Roman Zakharov",
      "photoUrl": "",
      "userId": "18255168926005506833"
     },
     "user_tz": -180
    },
    "id": "02Kv8YUPbhzG",
    "outputId": "457dbb1c-caff-4dcc-8735-3cc78098efcf"
   },
   "outputs": [
    {
     "data": {
      "text/plain": [
       "0        org despite fistful person wins date fac never...\n",
       "1        show comes interesting locations fast travel c...\n",
       "2        simply love movie also love org sorta biased b...\n",
       "3        spoilers ahead want call almost recommend film...\n",
       "4        alltime favorite movie seen many movies one be...\n",
       "                               ...                        \n",
       "24995    big fan movie not usual reasons think person o...\n",
       "24996    not going bother plot synopsis since know movi...\n",
       "24997    movie dont know take indellible character pers...\n",
       "24998    saw film dvd date gobsmacked flabbergasted una...\n",
       "24999    disappointment none nuance original norp seem ...\n",
       "Name: review_ner, Length: 25000, dtype: object"
      ]
     },
     "execution_count": 181,
     "metadata": {},
     "output_type": "execute_result"
    }
   ],
   "source": [
    "train_df['review_ner']"
   ]
  },
  {
   "cell_type": "code",
   "execution_count": 136,
   "metadata": {
    "colab": {
     "base_uri": "https://localhost:8080/",
     "height": 282
    },
    "executionInfo": {
     "elapsed": 2272,
     "status": "ok",
     "timestamp": 1617972857946,
     "user": {
      "displayName": "Roman Zakharov",
      "photoUrl": "",
      "userId": "18255168926005506833"
     },
     "user_tz": -180
    },
    "id": "O477ZV1t1WIO",
    "outputId": "fb1053f0-abc6-4b91-cd6d-9b6849da2e3b"
   },
   "outputs": [
    {
     "data": {
      "text/plain": [
       "<BarContainer object of 246 artists>"
      ]
     },
     "execution_count": 136,
     "metadata": {},
     "output_type": "execute_result"
    },
    {
     "data": {
      "image/png": "[encoded data removed]",
      "text/plain": [
       "<Figure size 432x288 with 1 Axes>"
      ]
     },
     "metadata": {
      "needs_background": "light"
     },
     "output_type": "display_data"
    }
   ],
   "source": [
    "%matplotlib inline\n",
    "import matplotlib.pyplot as plt\n",
    "\n",
    "_, _, hist = plt.hist(train_df.review_ner.apply(lambda text: len(text.split())), bins='auto')\n",
    "hist"
   ]
  },
  {
   "cell_type": "code",
   "execution_count": 137,
   "metadata": {
    "colab": {
     "base_uri": "https://localhost:8080/"
    },
    "executionInfo": {
     "elapsed": 2729,
     "status": "ok",
     "timestamp": 1617973036848,
     "user": {
      "displayName": "Roman Zakharov",
      "photoUrl": "",
      "userId": "18255168926005506833"
     },
     "user_tz": -180
    },
    "id": "mIMGE7L-55fs",
    "outputId": "c399154c-82ae-4ff2-9c69-1a9a7c5a81c4"
   },
   "outputs": [
    {
     "name": "stdout",
     "output_type": "stream",
     "text": [
      "Words count 15441\n"
     ]
    }
   ],
   "source": [
    "from collections import Counter\n",
    "\n",
    "words_counter = Counter((word for text in train_df.review_ner for word in text.lower().split()))\n",
    "\n",
    "word2idx = {\n",
    "    '': 0,\n",
    "    '<unk>': 1\n",
    "}\n",
    "for word, count in words_counter.most_common():\n",
    "    if count < 10:\n",
    "        break\n",
    "        \n",
    "    word2idx[word] = len(word2idx)\n",
    "    \n",
    "print('Words count', len(word2idx))"
   ]
  },
  {
   "cell_type": "code",
   "execution_count": 32,
   "metadata": {
    "id": "ZPP0cYdJ5VkE"
   },
   "outputs": [
    {
     "name": "stderr",
     "output_type": "stream",
     "text": [
      "/tmp/ipykernel_30007/2083256968.py:2: DeprecationWarning: `np.int` is a deprecated alias for the builtin `int`. To silence this warning, use `int` by itself. Doing this will not modify any behavior and is safe. When replacing `np.int`, you may wish to use e.g. `np.int64` or `np.int32` to specify the precision. If you wish to review your current use, check the release note link for additional information.\n",
      "Deprecated in NumPy 1.20; for more details and guidance: https://numpy.org/devdocs/release/1.20.0-notes.html#deprecations\n",
      "  data = np.zeros((len(texts), max_text_len), dtype=np.int)\n",
      "/tmp/ipykernel_30007/2083256968.py:10: DeprecationWarning: `np.int` is a deprecated alias for the builtin `int`. To silence this warning, use `int` by itself. Doing this will not modify any behavior and is safe. When replacing `np.int`, you may wish to use e.g. `np.int64` or `np.int32` to specify the precision. If you wish to review your current use, check the release note link for additional information.\n",
      "Deprecated in NumPy 1.20; for more details and guidance: https://numpy.org/devdocs/release/1.20.0-notes.html#deprecations\n",
      "  data[inx] = np.array(padding + result[-max_text_len:], dtype=np.int)\n"
     ]
    }
   ],
   "source": [
    "def convert(texts, word2idx, max_text_len):\n",
    "    data = np.zeros((len(texts), max_text_len), dtype=np.int)\n",
    "    \n",
    "    for inx, text in enumerate(texts):\n",
    "        result = []\n",
    "        for word in text.split():\n",
    "            if word in word2idx:\n",
    "                result.append(word2idx[word])\n",
    "        padding = [0]*(max_text_len - len(result))\n",
    "        data[inx] = np.array(padding + result[-max_text_len:], dtype=np.int)\n",
    "    return data\n",
    "\n",
    "X_train = convert(train_df.review_ner, word2idx, 1000)\n",
    "X_test = convert(test_df.review_ner, word2idx, 1000)"
   ]
  },
  {
   "cell_type": "code",
   "execution_count": 35,
   "metadata": {
    "colab": {
     "base_uri": "https://localhost:8080/",
     "height": 35
    },
    "executionInfo": {
     "elapsed": 1175,
     "status": "ok",
     "timestamp": 1617976380962,
     "user": {
      "displayName": "Roman Zakharov",
      "photoUrl": "",
      "userId": "18255168926005506833"
     },
     "user_tz": -180
    },
    "id": "Ncrq09zRxEvN",
    "outputId": "453b501d-c0bf-414c-9e9a-667eddcc38e8"
   },
   "outputs": [
    {
     "data": {
      "text/plain": [
       "'2.13.0'"
      ]
     },
     "execution_count": 35,
     "metadata": {},
     "output_type": "execute_result"
    }
   ],
   "source": [
    "import tensorflow as tf\n",
    "tf.__version__"
   ]
  },
  {
   "cell_type": "code",
   "execution_count": 66,
   "metadata": {
    "id": "KddjCCo-w50h"
   },
   "outputs": [],
   "source": [
    "import tensorflow as tf\n",
    "from tensorflow.keras import Sequential\n",
    "from tensorflow.keras.layers import Dense, Embedding, GlobalMaxPooling1D, MaxPooling1D, Dropout, Activation, Input, Conv1D"
   ]
  },
  {
   "cell_type": "code",
   "execution_count": 245,
   "metadata": {
    "colab": {
     "base_uri": "https://localhost:8080/"
    },
    "executionInfo": {
     "elapsed": 686,
     "status": "ok",
     "timestamp": 1617977526745,
     "user": {
      "displayName": "Roman Zakharov",
      "photoUrl": "",
      "userId": "18255168926005506833"
     },
     "user_tz": -180
    },
    "id": "dDjri3167vFf",
    "outputId": "a82ade6e-49f1-496f-e80a-ed1b590cfc69"
   },
   "outputs": [
    {
     "name": "stdout",
     "output_type": "stream",
     "text": [
      "Model: \"sequential_3\"\n",
      "_________________________________________________________________\n",
      " Layer (type)                Output Shape              Param #   \n",
      "=================================================================\n",
      " embedding_3 (Embedding)     (None, 1000, 64)          988224    \n",
      "                                                                 \n",
      " global_max_pooling1d_3 (Gl  (None, 64)                0         \n",
      " obalMaxPooling1D)                                               \n",
      "                                                                 \n",
      " dense_9 (Dense)             (None, 32)                2080      \n",
      "                                                                 \n",
      " dense_10 (Dense)            (None, 16)                528       \n",
      "                                                                 \n",
      " dense_11 (Dense)            (None, 1)                 17        \n",
      "                                                                 \n",
      "=================================================================\n",
      "Total params: 990849 (3.78 MB)\n",
      "Trainable params: 990849 (3.78 MB)\n",
      "Non-trainable params: 0 (0.00 Byte)\n",
      "_________________________________________________________________\n"
     ]
    }
   ],
   "source": [
    "model = Sequential([\n",
    "    Embedding(input_dim=len(word2idx), output_dim=64, input_shape=(X_train.shape[1],)),\n",
    "    GlobalMaxPooling1D(),\n",
    "    Dense(units=32, activation='relu'),\n",
    "    Dense(units=16, activation='relu'),\n",
    "    \n",
    "    Dense(units=1, activation='sigmoid')\n",
    "])\n",
    "\n",
    "model.summary()\n",
    "model.compile(loss='binary_crossentropy',\n",
    "              optimizer='adam',\n",
    "              metrics=['accuracy'])"
   ]
  },
  {
   "cell_type": "code",
   "execution_count": 246,
   "metadata": {
    "colab": {
     "base_uri": "https://localhost:8080/"
    },
    "executionInfo": {
     "elapsed": 127725,
     "status": "ok",
     "timestamp": 1617977655745,
     "user": {
      "displayName": "Roman Zakharov",
      "photoUrl": "",
      "userId": "18255168926005506833"
     },
     "user_tz": -180
    },
    "id": "lw93gTmq8gZl",
    "outputId": "e10a2d0b-0287-4295-e796-41943209d305"
   },
   "outputs": [
    {
     "name": "stdout",
     "output_type": "stream",
     "text": [
      "Epoch 1/3\n",
      "196/196 [==============================] - 8s 37ms/step - loss: 0.5648 - accuracy: 0.7368 - val_loss: 0.3461 - val_accuracy: 0.8580\n",
      "Epoch 2/3\n",
      "196/196 [==============================] - 7s 35ms/step - loss: 0.2682 - accuracy: 0.8930 - val_loss: 0.2933 - val_accuracy: 0.8758\n",
      "Epoch 3/3\n",
      "196/196 [==============================] - 7s 36ms/step - loss: 0.1778 - accuracy: 0.9360 - val_loss: 0.2998 - val_accuracy: 0.8776\n"
     ]
    },
    {
     "data": {
      "text/plain": [
       "<keras.src.callbacks.History at 0x7f20feabff10>"
      ]
     },
     "execution_count": 246,
     "metadata": {},
     "output_type": "execute_result"
    }
   ],
   "source": [
    "model.fit(X_train, train_df.is_positive, batch_size=128, epochs=3, \n",
    "          validation_data=(X_test, test_df.is_positive))"
   ]
  },
  {
   "cell_type": "markdown",
   "metadata": {
    "id": "yBGdVRQTyynD"
   },
   "source": [
    "**Задание** Подсчитайте качество модели на тесте"
   ]
  },
  {
   "cell_type": "code",
   "execution_count": 247,
   "metadata": {},
   "outputs": [
    {
     "name": "stdout",
     "output_type": "stream",
     "text": [
      "782/782 [==============================] - 1s 2ms/step\n"
     ]
    }
   ],
   "source": [
    "test_pred_proba = model.predict(X_test)"
   ]
  },
  {
   "cell_type": "code",
   "execution_count": 248,
   "metadata": {},
   "outputs": [],
   "source": [
    "test_pred = test_pred_proba.round()"
   ]
  },
  {
   "cell_type": "code",
   "execution_count": 37,
   "metadata": {},
   "outputs": [],
   "source": [
    "from sklearn.metrics import classification_report"
   ]
  },
  {
   "cell_type": "code",
   "execution_count": 38,
   "metadata": {},
   "outputs": [],
   "source": [
    "# отчет по метрикам\n",
    "def get_classification_report(y_test_true, y_test_pred):\n",
    "    print('TEST\\n\\n' + classification_report(y_test_true, y_test_pred))"
   ]
  },
  {
   "cell_type": "code",
   "execution_count": 251,
   "metadata": {},
   "outputs": [
    {
     "name": "stdout",
     "output_type": "stream",
     "text": [
      "TEST\n",
      "\n",
      "              precision    recall  f1-score   support\n",
      "\n",
      "           0       0.88      0.87      0.88     12500\n",
      "           1       0.87      0.88      0.88     12500\n",
      "\n",
      "    accuracy                           0.88     25000\n",
      "   macro avg       0.88      0.88      0.88     25000\n",
      "weighted avg       0.88      0.88      0.88     25000\n",
      "\n"
     ]
    }
   ],
   "source": [
    "get_classification_report(test_df.is_positive, test_pred)"
   ]
  },
  {
   "cell_type": "code",
   "execution_count": 39,
   "metadata": {},
   "outputs": [],
   "source": [
    "from sklearn.metrics import classification_report, f1_score, precision_score, recall_score, roc_auc_score, roc_curve, confusion_matrix, accuracy_score, plot_confusion_matrix, plot_precision_recall_curve, precision_recall_curve, recall_score, plot_roc_curve\n",
    "\n",
    "def show_proba_calibration_plots(y_predicted_probs, y_true_labels):\n",
    "    preds_with_true_labels = np.array(list(zip(y_predicted_probs, y_true_labels)))\n",
    "\n",
    "    thresholds = []\n",
    "    precisions = []\n",
    "    recalls = []\n",
    "    f1_scores = []\n",
    "\n",
    "    for threshold in np.linspace(0.1, 0.9, 9):\n",
    "        thresholds.append(threshold)\n",
    "        precisions.append(precision_score(y_true_labels, list(map(int, y_predicted_probs > threshold))))\n",
    "        recalls.append(recall_score(y_true_labels, list(map(int, y_predicted_probs > threshold))))\n",
    "        f1_scores.append(f1_score(y_true_labels, list(map(int, y_predicted_probs > threshold))))\n",
    "\n",
    "    scores_table = pd.DataFrame({'f1':f1_scores,\n",
    "                                 'precision':precisions,\n",
    "                                 'recall':recalls,\n",
    "                                 'probability':thresholds}).sort_values('f1', ascending=False).round(3)\n",
    "  \n",
    "    figure = plt.figure(figsize = (15, 5))\n",
    "\n",
    "    plt1 = figure.add_subplot(121)\n",
    "    plt1.plot(thresholds, precisions, label='Precision', linewidth=4)\n",
    "    plt1.plot(thresholds, recalls, label='Recall', linewidth=4)\n",
    "    plt1.plot(thresholds, f1_scores, label='F1', linewidth=4)\n",
    "    plt1.set_ylabel('Scores')\n",
    "    plt1.set_xlabel('Probability threshold')\n",
    "    plt1.set_title('Probabilities threshold calibration')\n",
    "    plt1.legend(bbox_to_anchor=(0.25, 0.25))   \n",
    "    plt1.table(cellText = scores_table.values,\n",
    "               colLabels = scores_table.columns, \n",
    "               colLoc = 'center', cellLoc = 'center', loc = 'bottom', bbox = [0, -1.3, 1, 1])\n",
    "\n",
    "\n",
    "    plt.show()"
   ]
  },
  {
   "cell_type": "code",
   "execution_count": 253,
   "metadata": {},
   "outputs": [
    {
     "name": "stderr",
     "output_type": "stream",
     "text": [
      "/tmp/ipykernel_4137/1996997817.py:4: VisibleDeprecationWarning: Creating an ndarray from ragged nested sequences (which is a list-or-tuple of lists-or-tuples-or ndarrays with different lengths or shapes) is deprecated. If you meant to do this, you must specify 'dtype=object' when creating the ndarray.\n",
      "  preds_with_true_labels = np.array(list(zip(y_predicted_probs, y_true_labels)))\n"
     ]
    },
    {
     "data": {
      "image/png": "[encoded data removed]",
      "text/plain": [
       "<Figure size 1080x360 with 1 Axes>"
      ]
     },
     "metadata": {
      "needs_background": "light"
     },
     "output_type": "display_data"
    }
   ],
   "source": [
    "show_proba_calibration_plots(test_pred_proba, test_df.is_positive)"
   ]
  },
  {
   "cell_type": "code",
   "execution_count": 254,
   "metadata": {},
   "outputs": [
    {
     "data": {
      "text/plain": [
       "array([[0],\n",
       "       [1],\n",
       "       [1],\n",
       "       ...,\n",
       "       [1],\n",
       "       [1],\n",
       "       [1]])"
      ]
     },
     "execution_count": 254,
     "metadata": {},
     "output_type": "execute_result"
    }
   ],
   "source": [
    "test_pred= np.where(test_pred_proba.round(2)>0.5, 1, 0)\n",
    "test_pred"
   ]
  },
  {
   "cell_type": "code",
   "execution_count": 255,
   "metadata": {},
   "outputs": [
    {
     "name": "stdout",
     "output_type": "stream",
     "text": [
      "TEST\n",
      "\n",
      "              precision    recall  f1-score   support\n",
      "\n",
      "           0       0.88      0.87      0.88     12500\n",
      "           1       0.88      0.88      0.88     12500\n",
      "\n",
      "    accuracy                           0.88     25000\n",
      "   macro avg       0.88      0.88      0.88     25000\n",
      "weighted avg       0.88      0.88      0.88     25000\n",
      "\n"
     ]
    }
   ],
   "source": [
    "get_classification_report(test_df.is_positive, test_pred)"
   ]
  },
  {
   "cell_type": "markdown",
   "metadata": {},
   "source": [
    "В результате преобразований и использования нейросети удалось добиться повышения accuracy, f1 меры. Они составляют 0.88. Но логистическая регрессия, обученная на tf_idf векторах дает accuracy 0.8846. Для данной задачи линейная модель рааботает не хуже нейросети."
   ]
  },
  {
   "cell_type": "markdown",
   "metadata": {},
   "source": [
    "# Использование conv слоев для обучения нейросети для работы с текстом."
   ]
  },
  {
   "cell_type": "markdown",
   "metadata": {},
   "source": [
    "## Вариант 1. Embedding без предобучения"
   ]
  },
  {
   "cell_type": "code",
   "execution_count": 50,
   "metadata": {},
   "outputs": [
    {
     "data": {
      "text/plain": [
       "1000"
      ]
     },
     "execution_count": 50,
     "metadata": {},
     "output_type": "execute_result"
    }
   ],
   "source": [
    "X_train.shape[1]"
   ]
  },
  {
   "cell_type": "code",
   "execution_count": 87,
   "metadata": {},
   "outputs": [
    {
     "name": "stdout",
     "output_type": "stream",
     "text": [
      "Model: \"sequential_24\"\n",
      "_________________________________________________________________\n",
      " Layer (type)                Output Shape              Param #   \n",
      "=================================================================\n",
      " embedding_24 (Embedding)    (None, 1000, 64)          988224    \n",
      "                                                                 \n",
      " conv1d_36 (Conv1D)          (None, 998, 128)          24704     \n",
      "                                                                 \n",
      " activation_47 (Activation)  (None, 998, 128)          0         \n",
      "                                                                 \n",
      " global_max_pooling1d_23 (G  (None, 128)               0         \n",
      " lobalMaxPooling1D)                                              \n",
      "                                                                 \n",
      " dense_45 (Dense)            (None, 32)                4128      \n",
      "                                                                 \n",
      " dense_46 (Dense)            (None, 16)                528       \n",
      "                                                                 \n",
      " dense_47 (Dense)            (None, 1)                 17        \n",
      "                                                                 \n",
      "=================================================================\n",
      "Total params: 1017601 (3.88 MB)\n",
      "Trainable params: 1017601 (3.88 MB)\n",
      "Non-trainable params: 0 (0.00 Byte)\n",
      "_________________________________________________________________\n"
     ]
    }
   ],
   "source": [
    "model = Sequential([\n",
    "    Embedding(input_dim=len(word2idx), output_dim=64, input_shape=(X_train.shape[1],)),\n",
    "    Conv1D(128, 3),\n",
    "    Activation(\"relu\"),\n",
    "    GlobalMaxPooling1D(),\n",
    "    Dense(units=32, activation='relu'),\n",
    "    Dense(units=16, activation='relu'),\n",
    "    \n",
    "    Dense(units=1, activation='sigmoid')\n",
    "])\n",
    "\n",
    "model.summary()\n",
    "model.compile(loss='binary_crossentropy',\n",
    "              optimizer='adam',\n",
    "              metrics=['accuracy'])"
   ]
  },
  {
   "cell_type": "code",
   "execution_count": 89,
   "metadata": {},
   "outputs": [
    {
     "name": "stdout",
     "output_type": "stream",
     "text": [
      "Epoch 1/3\n",
      "196/196 [==============================] - 29s 148ms/step - loss: 0.0176 - accuracy: 0.9971 - val_loss: 0.4157 - val_accuracy: 0.8723\n",
      "Epoch 2/3\n",
      "196/196 [==============================] - 34s 171ms/step - loss: 0.0042 - accuracy: 0.9997 - val_loss: 0.4464 - val_accuracy: 0.8771\n",
      "Epoch 3/3\n",
      "196/196 [==============================] - 33s 167ms/step - loss: 0.0016 - accuracy: 0.9998 - val_loss: 0.4832 - val_accuracy: 0.8746\n"
     ]
    },
    {
     "data": {
      "text/plain": [
       "<keras.src.callbacks.History at 0x7fa86ed061c0>"
      ]
     },
     "execution_count": 89,
     "metadata": {},
     "output_type": "execute_result"
    }
   ],
   "source": [
    "model.fit(X_train, train_df.is_positive, batch_size=128, epochs=3, \n",
    "          validation_data=(X_test, test_df.is_positive))"
   ]
  },
  {
   "cell_type": "code",
   "execution_count": 90,
   "metadata": {},
   "outputs": [
    {
     "name": "stdout",
     "output_type": "stream",
     "text": [
      "782/782 [==============================] - 6s 7ms/step\n"
     ]
    }
   ],
   "source": [
    "test_pred_proba = model.predict(X_test)"
   ]
  },
  {
   "cell_type": "code",
   "execution_count": 91,
   "metadata": {},
   "outputs": [],
   "source": [
    "test_pred = test_pred_proba.round()"
   ]
  },
  {
   "cell_type": "code",
   "execution_count": 92,
   "metadata": {},
   "outputs": [
    {
     "name": "stdout",
     "output_type": "stream",
     "text": [
      "TEST\n",
      "\n",
      "              precision    recall  f1-score   support\n",
      "\n",
      "           0       0.89      0.85      0.87     12500\n",
      "           1       0.86      0.90      0.88     12500\n",
      "\n",
      "    accuracy                           0.87     25000\n",
      "   macro avg       0.88      0.87      0.87     25000\n",
      "weighted avg       0.88      0.87      0.87     25000\n",
      "\n"
     ]
    }
   ],
   "source": [
    "get_classification_report(test_df.is_positive, test_pred)"
   ]
  },
  {
   "cell_type": "code",
   "execution_count": 93,
   "metadata": {},
   "outputs": [
    {
     "name": "stderr",
     "output_type": "stream",
     "text": [
      "/tmp/ipykernel_30007/1996997817.py:4: VisibleDeprecationWarning: Creating an ndarray from ragged nested sequences (which is a list-or-tuple of lists-or-tuples-or ndarrays with different lengths or shapes) is deprecated. If you meant to do this, you must specify 'dtype=object' when creating the ndarray.\n",
      "  preds_with_true_labels = np.array(list(zip(y_predicted_probs, y_true_labels)))\n"
     ]
    },
    {
     "data": {
      "image/png": "[encoded data removed]",
      "text/plain": [
       "<Figure size 1080x360 with 1 Axes>"
      ]
     },
     "metadata": {
      "needs_background": "light"
     },
     "output_type": "display_data"
    }
   ],
   "source": [
    "show_proba_calibration_plots(test_pred_proba, test_df.is_positive)"
   ]
  },
  {
   "cell_type": "code",
   "execution_count": 98,
   "metadata": {},
   "outputs": [
    {
     "data": {
      "text/plain": [
       "array([[0],\n",
       "       [1],\n",
       "       [0],\n",
       "       ...,\n",
       "       [1],\n",
       "       [1],\n",
       "       [1]])"
      ]
     },
     "execution_count": 98,
     "metadata": {},
     "output_type": "execute_result"
    }
   ],
   "source": [
    "test_pred= np.where(test_pred_proba.round(2)>0.7, 1, 0)\n",
    "test_pred"
   ]
  },
  {
   "cell_type": "code",
   "execution_count": 99,
   "metadata": {},
   "outputs": [
    {
     "name": "stdout",
     "output_type": "stream",
     "text": [
      "TEST\n",
      "\n",
      "              precision    recall  f1-score   support\n",
      "\n",
      "           0       0.87      0.88      0.88     12500\n",
      "           1       0.88      0.87      0.88     12500\n",
      "\n",
      "    accuracy                           0.88     25000\n",
      "   macro avg       0.88      0.88      0.88     25000\n",
      "weighted avg       0.88      0.88      0.88     25000\n",
      "\n"
     ]
    }
   ],
   "source": [
    "get_classification_report(test_df.is_positive, test_pred)"
   ]
  },
  {
   "cell_type": "code",
   "execution_count": null,
   "metadata": {},
   "outputs": [],
   "source": []
  },
  {
   "cell_type": "markdown",
   "metadata": {},
   "source": [
    "## Вариант 2. Embedding предобученный на distilbert"
   ]
  },
  {
   "cell_type": "code",
   "execution_count": 182,
   "metadata": {},
   "outputs": [],
   "source": [
    "import torch\n",
    "import torch.nn as nn\n",
    "import torch.nn.functional as F\n",
    "from torch.optim import Adam\n",
    "from tqdm import tqdm\n",
    "from collections import Counter\n",
    "\n",
    "import pandas as pd\n",
    "from sklearn.metrics import accuracy_score,  precision_recall_fscore_support"
   ]
  },
  {
   "cell_type": "code",
   "execution_count": 183,
   "metadata": {},
   "outputs": [],
   "source": [
    "from transformers import pipeline"
   ]
  },
  {
   "cell_type": "code",
   "execution_count": 184,
   "metadata": {},
   "outputs": [],
   "source": [
    "from transformers import BertTokenizer\n",
    "\n",
    "tokenizer = BertTokenizer.from_pretrained('bert-base-multilingual-cased')"
   ]
  },
  {
   "cell_type": "code",
   "execution_count": 185,
   "metadata": {},
   "outputs": [
    {
     "data": {
      "text/plain": [
       "1000"
      ]
     },
     "execution_count": 185,
     "metadata": {},
     "output_type": "execute_result"
    }
   ],
   "source": [
    "txt1 = tokenizer(train_df.review_ner[0], padding='max_length', max_length=1000,\n",
    "                             truncation=True, return_tensors=\"pt\")\n",
    "len(txt1['input_ids'][0])"
   ]
  },
  {
   "cell_type": "code",
   "execution_count": 186,
   "metadata": {},
   "outputs": [],
   "source": [
    "class TwitterDataset(torch.utils.data.Dataset):\n",
    "\n",
    "    def __init__(self, txts, labels):\n",
    "        self._labels = labels\n",
    "        \n",
    "        #пользуемся токенайзером bert, чтобы данные можно было далее использовать для формирования эмбеддингов обученной модели bert\n",
    "        self.tokenizer = BertTokenizer.from_pretrained('bert-base-multilingual-cased')\n",
    "        self._txts = [self.tokenizer(text, padding='max_length', max_length=512,\n",
    "                                     truncation=True, return_tensors=\"pt\")\n",
    "                      for text in txts]\n",
    "\n",
    "    def __len__(self):\n",
    "        return len(self._txts)\n",
    "\n",
    "    def __getitem__(self, index):\n",
    "        return self._txts[index], self._labels[index]"
   ]
  },
  {
   "cell_type": "code",
   "execution_count": 187,
   "metadata": {},
   "outputs": [],
   "source": [
    "#создает загрузчик данных для обучения\n",
    "batch_size = 32\n",
    "y_train = train_df.is_positive.values\n",
    "y_val = test_df.is_positive.values\n",
    "\n",
    "train_dataset = TwitterDataset(train_df.review_ner, y_train)\n",
    "valid_dataset = TwitterDataset(test_df.review_ner, y_val)\n",
    "\n",
    "train_loader = torch.utils.data.DataLoader(train_dataset,\n",
    "                          batch_size=batch_size,\n",
    "                          shuffle=True,\n",
    "                          num_workers=2)\n",
    "valid_loader = torch.utils.data.DataLoader(valid_dataset,\n",
    "                          batch_size=batch_size,\n",
    "                          shuffle=False,\n",
    "                          num_workers=1)"
   ]
  },
  {
   "cell_type": "code",
   "execution_count": 188,
   "metadata": {},
   "outputs": [],
   "source": [
    "from torch import nn\n",
    "from transformers import DistilBertModel\n",
    "\n",
    "\n",
    "class BertClassifier(nn.Module):\n",
    "\n",
    "    def __init__(self, dropout=0.1):\n",
    "        super().__init__()\n",
    "        self.bert = DistilBertModel.from_pretrained('distilbert-base-multilingual-cased')\n",
    "        self.conv1d = nn.Conv1d(in_channels = 512, out_channels = 128, kernel_size=3)\n",
    "        self.maxpool1d = nn.AdaptiveMaxPool1d(768)\n",
    "        self.dropout = nn.Dropout(dropout)\n",
    "        self.linear1 = nn.Linear(768, 32)\n",
    "        self.linear2 = nn.Linear(32, 16)\n",
    "        self.linear3 = nn.Linear(16, 1)\n",
    "        self.relu = nn.ReLU()\n",
    "        self.sigm = nn.Sigmoid()\n",
    "\n",
    "    def forward(self, x):\n",
    "\n",
    "        pooled_output = self.bert(input_ids=x.to(torch.int64), return_dict=None)\n",
    "        dropout_output = self.dropout(pooled_output.last_hidden_state)\n",
    "        conv1d_output = self.conv1d(dropout_output)\n",
    "        maxpool1d_output = self.maxpool1d(conv1d_output)\n",
    "        linear1_output = self.linear1(maxpool1d_output)\n",
    "        relu_l1 = self.relu(linear1_output)\n",
    "        linear2_output = self.linear2(relu_l1)\n",
    "        relu_l2 = self.relu(linear2_output)\n",
    "        linear3_output = self.linear3(relu_l2)\n",
    "        final_layer = self.sigm(linear3_output)\n",
    "        return final_layer"
   ]
  },
  {
   "cell_type": "code",
   "execution_count": 189,
   "metadata": {},
   "outputs": [
    {
     "data": {
      "text/plain": [
       "'cpu'"
      ]
     },
     "execution_count": 189,
     "metadata": {},
     "output_type": "execute_result"
    }
   ],
   "source": [
    "device = 'cuda' if torch.cuda.is_available() else 'cpu'\n",
    "device"
   ]
  },
  {
   "cell_type": "code",
   "execution_count": 190,
   "metadata": {},
   "outputs": [],
   "source": [
    "model = BertClassifier().to(device)\n",
    "criterion = nn.BCELoss()\n",
    "\n",
    "for param in list(model.parameters())[:]:\n",
    "    param.requires_grad = False\n",
    "for param in list(model.linear1.parameters())[:]:\n",
    "    param.requires_grad = True\n",
    "for param in list(model.linear2.parameters())[:]:\n",
    "    param.requires_grad = True\n",
    "for param in list(model.linear3.parameters())[:]:\n",
    "    param.requires_grad = True\n",
    "for param in list(model.conv1d.parameters())[:]:\n",
    "    param.requires_grad = True"
   ]
  },
  {
   "cell_type": "code",
   "execution_count": 191,
   "metadata": {},
   "outputs": [
    {
     "name": "stdout",
     "output_type": "stream",
     "text": [
      "Parameters full train: 134955969\n",
      "Parameters transfer learning: 221889\n"
     ]
    }
   ],
   "source": [
    "print(\"Parameters full train:\", sum([param.nelement() for param in model.parameters()]))\n",
    "print(\"Parameters transfer learning:\", sum([param.nelement() for param in model.parameters() if param.requires_grad == True]))"
   ]
  },
  {
   "cell_type": "code",
   "execution_count": 192,
   "metadata": {},
   "outputs": [
    {
     "data": {
      "text/plain": [
       "[Parameter containing:\n",
       " tensor([[[ 0.0030, -0.0085,  0.0075],\n",
       "          [-0.0057, -0.0084,  0.0110],\n",
       "          [-0.0116, -0.0221,  0.0229],\n",
       "          ...,\n",
       "          [-0.0031,  0.0043, -0.0044],\n",
       "          [ 0.0043, -0.0010,  0.0021],\n",
       "          [-0.0060,  0.0226,  0.0170]],\n",
       " \n",
       "         [[ 0.0011,  0.0218, -0.0024],\n",
       "          [ 0.0041,  0.0185, -0.0157],\n",
       "          [ 0.0153,  0.0210,  0.0051],\n",
       "          ...,\n",
       "          [ 0.0238,  0.0114, -0.0158],\n",
       "          [-0.0033,  0.0157, -0.0178],\n",
       "          [ 0.0147, -0.0076,  0.0131]],\n",
       " \n",
       "         [[-0.0190, -0.0015,  0.0102],\n",
       "          [-0.0093, -0.0089,  0.0162],\n",
       "          [ 0.0222,  0.0032, -0.0223],\n",
       "          ...,\n",
       "          [-0.0182,  0.0218, -0.0188],\n",
       "          [-0.0210, -0.0181, -0.0163],\n",
       "          [-0.0209,  0.0238, -0.0120]],\n",
       " \n",
       "         ...,\n",
       " \n",
       "         [[-0.0079, -0.0191,  0.0193],\n",
       "          [ 0.0078,  0.0157,  0.0137],\n",
       "          [-0.0056, -0.0222,  0.0021],\n",
       "          ...,\n",
       "          [ 0.0045, -0.0150, -0.0183],\n",
       "          [ 0.0175,  0.0078,  0.0048],\n",
       "          [-0.0076,  0.0038,  0.0038]],\n",
       " \n",
       "         [[-0.0092,  0.0024,  0.0144],\n",
       "          [ 0.0049, -0.0084,  0.0151],\n",
       "          [-0.0119, -0.0169, -0.0172],\n",
       "          ...,\n",
       "          [ 0.0248, -0.0092, -0.0139],\n",
       "          [ 0.0043, -0.0208,  0.0127],\n",
       "          [ 0.0093,  0.0158, -0.0225]],\n",
       " \n",
       "         [[ 0.0161,  0.0126, -0.0226],\n",
       "          [ 0.0017, -0.0168, -0.0056],\n",
       "          [ 0.0197,  0.0254,  0.0190],\n",
       "          ...,\n",
       "          [-0.0227,  0.0235,  0.0158],\n",
       "          [ 0.0130, -0.0021, -0.0144],\n",
       "          [-0.0144, -0.0154,  0.0210]]], requires_grad=True),\n",
       " Parameter containing:\n",
       " tensor([ 2.3944e-02, -2.1880e-02,  2.1739e-02,  2.2839e-02,  1.8597e-02,\n",
       "          1.3737e-02, -1.6272e-02,  1.7918e-02,  1.2775e-02,  1.4682e-02,\n",
       "         -1.0841e-02, -2.3384e-03, -1.4730e-02, -2.0269e-02,  2.3778e-02,\n",
       "         -8.3980e-03,  2.3110e-02,  1.6580e-02,  1.8059e-03, -1.0780e-02,\n",
       "          7.3685e-03,  1.6643e-02,  1.1762e-02, -3.1037e-03,  1.7876e-02,\n",
       "          7.3641e-03, -4.1397e-03, -1.8041e-03, -1.7125e-02, -1.5157e-02,\n",
       "         -1.6128e-02,  2.3735e-02, -1.9221e-03, -2.3016e-02, -2.4876e-03,\n",
       "         -2.3129e-02,  5.1112e-03,  1.5713e-03,  1.1749e-02, -8.1287e-03,\n",
       "         -2.4151e-06,  3.0193e-03, -7.6550e-03, -1.3670e-02, -1.6474e-02,\n",
       "         -1.8330e-02,  1.6148e-02, -1.4900e-02,  1.4786e-02, -1.5575e-03,\n",
       "         -2.2550e-03,  2.3949e-02,  7.6204e-03, -5.8133e-03,  2.3975e-02,\n",
       "          9.3467e-03,  6.7057e-03, -2.4703e-02,  2.3623e-02, -1.1955e-02,\n",
       "          2.1287e-03, -2.1451e-02,  7.1135e-03, -1.6819e-02, -1.6936e-02,\n",
       "          1.3881e-02,  2.4185e-02,  3.7273e-04,  6.5529e-03, -1.1685e-02,\n",
       "         -2.4322e-02,  2.5021e-02,  2.5068e-02, -7.6188e-03,  1.4415e-02,\n",
       "         -1.8375e-02,  1.1723e-02,  1.4450e-03, -8.4979e-03, -8.3565e-04,\n",
       "         -1.6072e-02, -2.3328e-02,  5.2276e-03,  2.2456e-03, -2.4747e-02,\n",
       "         -1.8882e-02,  6.0053e-03,  1.3744e-02, -1.0196e-02, -1.9285e-02,\n",
       "          8.5873e-03,  2.0695e-03,  2.3558e-02, -7.3219e-03,  1.4637e-02,\n",
       "         -1.2390e-02, -1.4284e-02,  1.5984e-02, -1.5997e-02,  2.4630e-02,\n",
       "          8.4142e-04, -1.6255e-02,  1.6619e-02, -4.0330e-03, -1.7647e-02,\n",
       "         -1.6357e-02, -1.4807e-02,  8.3658e-03,  1.5351e-02, -4.9860e-03,\n",
       "         -3.1116e-06,  2.5117e-02, -7.9971e-03, -1.6349e-02,  2.2647e-02,\n",
       "          7.9581e-03, -7.0492e-04,  2.2015e-02, -1.9967e-03, -6.1316e-03,\n",
       "          1.0426e-02,  1.1427e-03,  3.0095e-03, -5.9872e-04,  3.2722e-03,\n",
       "          2.0249e-02, -1.4631e-03, -6.8881e-03], requires_grad=True),\n",
       " Parameter containing:\n",
       " tensor([[ 0.0045, -0.0295,  0.0274,  ...,  0.0310, -0.0077, -0.0109],\n",
       "         [-0.0301, -0.0345,  0.0328,  ..., -0.0091, -0.0114,  0.0174],\n",
       "         [ 0.0011, -0.0200, -0.0361,  ..., -0.0324, -0.0153,  0.0311],\n",
       "         ...,\n",
       "         [ 0.0254,  0.0313,  0.0269,  ..., -0.0350,  0.0249,  0.0167],\n",
       "         [-0.0243, -0.0110,  0.0068,  ...,  0.0351,  0.0287,  0.0116],\n",
       "         [ 0.0112,  0.0359, -0.0136,  ..., -0.0137, -0.0144, -0.0103]],\n",
       "        requires_grad=True),\n",
       " Parameter containing:\n",
       " tensor([ 0.0133, -0.0007,  0.0285,  0.0293, -0.0277,  0.0347,  0.0053,  0.0314,\n",
       "          0.0115,  0.0155, -0.0242, -0.0058,  0.0197,  0.0080, -0.0228,  0.0223,\n",
       "          0.0345, -0.0173, -0.0351, -0.0323, -0.0083, -0.0145,  0.0109,  0.0138,\n",
       "          0.0242,  0.0164, -0.0246, -0.0082, -0.0068,  0.0231, -0.0055,  0.0322],\n",
       "        requires_grad=True),\n",
       " Parameter containing:\n",
       " tensor([[ 5.8255e-02,  1.3965e-01, -1.6849e-01,  1.1149e-01, -6.0273e-02,\n",
       "          -1.5048e-01, -7.5020e-02,  1.3641e-01, -1.5466e-01,  1.7160e-01,\n",
       "           1.2691e-02, -1.4945e-01, -1.2395e-01, -3.7969e-02, -1.6844e-01,\n",
       "           1.6192e-01, -2.9004e-02, -1.6540e-01, -1.4584e-01, -1.6184e-01,\n",
       "          -1.2104e-02,  1.5300e-01,  7.8610e-02, -1.6142e-01, -9.1368e-02,\n",
       "          -1.0939e-01,  1.6287e-01, -5.1979e-02,  1.0817e-01, -1.3384e-01,\n",
       "           1.7070e-01, -5.3967e-02],\n",
       "         [ 9.4873e-05, -7.8740e-02,  6.2887e-02, -1.3073e-01, -9.4627e-03,\n",
       "          -2.2939e-02,  2.6670e-02,  1.6840e-01,  4.3641e-02, -4.3026e-02,\n",
       "          -1.6576e-01,  1.2944e-01,  4.1726e-03,  3.2981e-03, -9.9340e-02,\n",
       "           1.7626e-01, -6.0128e-02,  1.1202e-01,  1.2155e-01,  7.7663e-02,\n",
       "           2.6424e-02,  2.6124e-02, -1.4420e-02,  3.7966e-02, -4.4827e-02,\n",
       "          -1.1349e-01,  1.6606e-02, -1.0835e-01, -7.7196e-03,  1.3259e-01,\n",
       "          -5.3762e-02, -6.8027e-02],\n",
       "         [-2.6618e-02, -8.3277e-02, -4.9079e-02,  1.4660e-01, -1.4949e-01,\n",
       "          -1.2107e-01,  5.7129e-02, -1.6957e-01, -9.1560e-02, -1.6331e-01,\n",
       "           5.5879e-02,  2.9495e-02,  1.2224e-01, -1.1590e-01,  1.6559e-01,\n",
       "           4.3278e-02,  1.5949e-01,  1.6181e-01, -9.1461e-03,  6.4773e-02,\n",
       "          -2.2830e-03, -4.3781e-02,  1.0775e-01, -1.3895e-01,  7.6130e-02,\n",
       "           4.4878e-02, -1.3765e-01,  1.0864e-01, -1.1495e-01, -2.5373e-02,\n",
       "           7.5166e-02,  1.4531e-01],\n",
       "         [-1.1414e-01,  1.0942e-01,  3.4663e-02,  6.7558e-02, -5.3831e-02,\n",
       "           6.1073e-02,  4.1902e-02, -1.5284e-01,  1.0708e-01, -1.2160e-01,\n",
       "          -8.8014e-02, -2.2357e-02, -1.4226e-01,  2.2416e-02, -1.4443e-01,\n",
       "           1.6756e-01, -1.7384e-01,  8.7038e-02, -1.5805e-02, -1.4689e-01,\n",
       "          -2.4249e-02,  4.3861e-02, -1.6270e-01,  5.0497e-02,  1.1597e-01,\n",
       "           7.8679e-02, -3.9276e-02,  9.7071e-02, -1.5928e-01, -8.0330e-02,\n",
       "          -2.4364e-02, -7.4284e-02],\n",
       "         [-2.9288e-02, -1.4673e-01,  8.6405e-02,  1.2485e-01, -1.2837e-01,\n",
       "           1.6474e-01, -1.7373e-01, -9.9034e-02,  1.6660e-01,  3.3340e-02,\n",
       "           3.8597e-02,  1.7109e-01,  8.6589e-02, -1.2831e-02,  1.2808e-01,\n",
       "           4.6436e-02, -1.2417e-01, -3.3921e-02,  9.2121e-02,  1.6709e-01,\n",
       "          -1.8332e-02, -1.4873e-01, -9.2591e-02, -8.8919e-02,  1.1958e-01,\n",
       "           1.3282e-02, -8.9986e-02, -1.0166e-01, -8.3966e-02, -4.9012e-02,\n",
       "           1.0522e-01, -8.1893e-03],\n",
       "         [ 7.5275e-02,  1.5387e-01, -6.6390e-02,  1.0981e-02, -1.6311e-01,\n",
       "          -1.5603e-01, -1.0184e-01, -1.3136e-01,  1.2975e-01, -5.0961e-02,\n",
       "          -1.4430e-01, -1.5411e-01,  9.7208e-02, -1.6872e-01,  1.2864e-01,\n",
       "           3.0342e-02, -7.1946e-02, -6.1298e-02,  3.1319e-03, -1.6363e-01,\n",
       "           1.2197e-01,  2.3607e-02, -1.3187e-01,  1.7227e-01, -2.4303e-02,\n",
       "           1.5125e-01,  2.5632e-02, -1.5589e-02, -3.0125e-02,  5.9607e-02,\n",
       "           1.4495e-01, -1.3664e-01],\n",
       "         [-5.2789e-02, -1.0234e-01, -3.3152e-02,  7.2871e-02,  2.5143e-02,\n",
       "           5.0895e-02, -5.3142e-02,  1.5614e-01,  6.9310e-02,  7.6180e-02,\n",
       "           8.2709e-02,  5.3620e-02, -4.3657e-02,  2.0083e-02, -1.8474e-02,\n",
       "           2.3043e-03,  9.8227e-02,  1.1900e-01, -1.0694e-01, -4.6167e-03,\n",
       "           1.3080e-02,  1.5745e-01,  1.5452e-01, -7.0591e-02,  4.3815e-02,\n",
       "           5.4915e-02, -9.1539e-02,  1.0970e-01, -1.1821e-01,  3.8019e-02,\n",
       "           7.6074e-03,  1.3613e-01],\n",
       "         [-1.0434e-02,  1.7149e-02,  6.4838e-02, -7.4232e-02, -1.4075e-01,\n",
       "           6.5874e-03,  1.4107e-01,  1.3809e-01, -2.4094e-02, -8.5042e-02,\n",
       "          -1.1746e-01,  1.5338e-01,  5.9875e-02, -6.5090e-02, -8.1694e-02,\n",
       "          -7.9519e-02, -8.1456e-02,  1.0146e-02,  1.3245e-01, -1.6104e-01,\n",
       "           9.0108e-02,  9.2022e-03,  2.1213e-02,  1.1858e-02,  9.3549e-02,\n",
       "           1.4400e-01,  1.7290e-01, -7.8040e-03, -1.5136e-01, -8.7621e-02,\n",
       "           1.0802e-01, -4.8562e-02],\n",
       "         [ 1.3488e-01,  1.7543e-01, -7.1949e-02, -7.6393e-03,  5.6682e-03,\n",
       "           9.0863e-02, -7.3663e-02, -4.9371e-02, -1.2641e-01,  5.0699e-02,\n",
       "          -1.6975e-01, -1.5503e-01, -9.4103e-02, -1.3355e-01,  1.4249e-01,\n",
       "          -5.9221e-02,  4.8055e-02,  1.1963e-01,  1.3883e-01,  2.8504e-02,\n",
       "          -1.3525e-01,  8.4482e-03,  4.6159e-02,  3.1279e-02, -6.9489e-02,\n",
       "          -7.9393e-02,  1.5490e-01,  1.6725e-01,  7.3581e-02,  2.9562e-02,\n",
       "          -9.2079e-02,  3.4902e-02],\n",
       "         [ 1.9589e-02, -1.7756e-02, -2.5692e-02, -8.8785e-02, -1.6581e-01,\n",
       "           7.0504e-02, -7.1894e-02,  1.6672e-01,  5.4281e-02,  5.8425e-02,\n",
       "          -1.7173e-01, -1.0003e-01, -2.3901e-02, -9.2052e-02,  8.9071e-03,\n",
       "           1.1492e-01, -1.0075e-01, -1.1477e-01,  6.1627e-02, -2.6529e-02,\n",
       "           1.7017e-01, -1.5621e-01,  1.8290e-02,  1.0831e-01,  6.3429e-02,\n",
       "           5.7503e-02,  1.4107e-02, -9.5018e-02, -1.3005e-02, -1.3825e-01,\n",
       "           5.8774e-02,  1.0118e-01],\n",
       "         [-3.1505e-02, -1.1663e-01,  6.7812e-02, -6.6594e-02, -1.4363e-01,\n",
       "          -1.3231e-02, -1.4681e-01,  1.9730e-02, -2.3193e-02,  1.2702e-01,\n",
       "           6.0215e-02, -2.7885e-02,  5.9163e-03,  1.0487e-01,  3.2725e-02,\n",
       "          -1.3661e-01, -4.7836e-02, -4.4393e-02,  9.1732e-02, -1.5684e-01,\n",
       "           6.4340e-02, -4.0891e-02, -1.0847e-01,  8.1234e-02,  7.8958e-02,\n",
       "          -2.5142e-02,  1.0627e-01,  1.5534e-03,  4.0752e-02,  1.4121e-01,\n",
       "           1.2532e-01,  2.5302e-02],\n",
       "         [ 1.3654e-01,  5.1295e-02, -9.6581e-02, -5.3681e-02,  2.9455e-02,\n",
       "          -3.0509e-02,  1.3208e-01,  5.7104e-02, -7.9981e-02,  9.7353e-02,\n",
       "          -5.9612e-02,  3.5819e-02, -7.8460e-03,  9.8605e-02, -1.6345e-01,\n",
       "           1.1643e-01,  1.1466e-01,  1.6761e-01, -4.8802e-02,  1.5404e-01,\n",
       "          -2.1261e-02,  1.3654e-01,  6.0436e-03,  2.7715e-02,  2.8555e-02,\n",
       "           4.3956e-02, -1.0801e-01,  2.2554e-02,  1.4924e-01, -1.0523e-01,\n",
       "          -1.7506e-01, -4.3268e-02],\n",
       "         [-9.6660e-02,  6.5290e-02,  7.0962e-02,  5.1508e-02, -1.8738e-02,\n",
       "          -9.7189e-02, -9.6280e-02, -6.9776e-03,  1.0196e-01,  7.3382e-02,\n",
       "           3.0586e-03,  1.1710e-01,  8.8708e-02, -6.6332e-02, -9.0144e-02,\n",
       "          -3.4468e-04, -1.8329e-02, -1.4572e-01, -1.3730e-01,  4.7464e-02,\n",
       "          -8.5057e-02, -1.2323e-01,  1.3341e-01,  1.3361e-01, -9.7494e-02,\n",
       "          -1.1664e-01, -1.5250e-01,  1.8998e-03,  1.6435e-01, -9.6242e-02,\n",
       "          -3.9441e-02, -1.7288e-01],\n",
       "         [-9.0563e-03,  5.7836e-02, -8.1761e-02, -8.6695e-02, -9.2883e-02,\n",
       "          -1.5636e-01,  4.6279e-02, -9.6550e-02, -1.3289e-01, -1.2664e-02,\n",
       "          -8.1411e-02,  1.5618e-01, -9.5032e-02,  1.2357e-01,  1.5862e-01,\n",
       "          -4.2415e-02,  1.0041e-01,  1.0419e-01, -8.9103e-02,  1.2502e-01,\n",
       "          -1.6134e-01, -1.8131e-02, -1.7780e-03,  1.3004e-01,  1.2281e-01,\n",
       "          -1.7343e-01, -1.6903e-01, -8.2847e-02,  9.4953e-04, -1.5229e-01,\n",
       "           9.0276e-02, -1.2954e-02],\n",
       "         [-1.2468e-01,  9.6351e-02,  4.4318e-02, -1.2996e-01,  1.7428e-01,\n",
       "           1.0719e-01, -1.5323e-01,  8.1595e-02,  1.2096e-01, -7.5713e-02,\n",
       "          -4.8611e-02, -1.7629e-01,  8.8635e-02,  5.7791e-02, -1.5462e-01,\n",
       "          -5.6981e-02,  1.5458e-01, -1.0021e-01,  1.6495e-01,  9.5960e-02,\n",
       "          -7.8822e-02, -7.0244e-02,  2.1277e-02, -8.1140e-02, -1.6079e-01,\n",
       "           2.1380e-02, -1.4484e-01, -1.2624e-01,  1.4374e-01, -2.4331e-02,\n",
       "           1.3702e-01,  8.4363e-02],\n",
       "         [ 9.8439e-02,  6.1433e-02,  1.3121e-01, -1.0208e-01, -4.5546e-02,\n",
       "           1.2705e-01, -7.6257e-02,  1.0642e-01,  1.6618e-01, -1.3459e-01,\n",
       "           8.3302e-02, -6.4349e-03, -9.2476e-02,  6.5480e-03,  2.1969e-02,\n",
       "           1.0970e-01, -1.0167e-01,  8.2658e-02, -1.3855e-01, -3.5822e-02,\n",
       "           9.9542e-02,  7.5158e-02,  1.0984e-01, -8.5189e-02, -1.0550e-01,\n",
       "           5.9838e-02, -1.6963e-01, -1.5855e-01,  6.1536e-02,  3.8627e-02,\n",
       "           4.2078e-02, -3.7985e-02]], requires_grad=True),\n",
       " Parameter containing:\n",
       " tensor([-0.0118,  0.1305, -0.1721, -0.0865,  0.0064, -0.1163,  0.0517,  0.0078,\n",
       "         -0.1673,  0.0507,  0.0083,  0.1699, -0.0544, -0.0124,  0.0483,  0.1632],\n",
       "        requires_grad=True),\n",
       " Parameter containing:\n",
       " tensor([[-0.0138,  0.1552,  0.1240, -0.0922,  0.0429, -0.0563,  0.0849,  0.1477,\n",
       "           0.2450, -0.2054, -0.2419, -0.1336, -0.1848, -0.0709, -0.0247, -0.1539]],\n",
       "        requires_grad=True),\n",
       " Parameter containing:\n",
       " tensor([0.2282], requires_grad=True)]"
      ]
     },
     "execution_count": 192,
     "metadata": {},
     "output_type": "execute_result"
    }
   ],
   "source": [
    "trainable_params = [p for p in model.parameters() if p.requires_grad]\n",
    "trainable_params"
   ]
  },
  {
   "cell_type": "code",
   "execution_count": 193,
   "metadata": {},
   "outputs": [],
   "source": [
    "# optimizer = Adam(model.parameters(), lr=0.001)  # полное обучение\n",
    "# params = [p for p in model.parameters() if p.requires_grad]\n",
    "optimizer = Adam(model.parameters(), lr=0.001)  # неполное обучение"
   ]
  },
  {
   "cell_type": "code",
   "execution_count": 194,
   "metadata": {},
   "outputs": [
    {
     "name": "stdout",
     "output_type": "stream",
     "text": [
      "BertClassifier(\n",
      "  (bert): DistilBertModel(\n",
      "    (embeddings): Embeddings(\n",
      "      (word_embeddings): Embedding(119547, 768, padding_idx=0)\n",
      "      (position_embeddings): Embedding(512, 768)\n",
      "      (LayerNorm): LayerNorm((768,), eps=1e-12, elementwise_affine=True)\n",
      "      (dropout): Dropout(p=0.1, inplace=False)\n",
      "    )\n",
      "    (transformer): Transformer(\n",
      "      (layer): ModuleList(\n",
      "        (0-5): 6 x TransformerBlock(\n",
      "          (attention): MultiHeadSelfAttention(\n",
      "            (dropout): Dropout(p=0.1, inplace=False)\n",
      "            (q_lin): Linear(in_features=768, out_features=768, bias=True)\n",
      "            (k_lin): Linear(in_features=768, out_features=768, bias=True)\n",
      "            (v_lin): Linear(in_features=768, out_features=768, bias=True)\n",
      "            (out_lin): Linear(in_features=768, out_features=768, bias=True)\n",
      "          )\n",
      "          (sa_layer_norm): LayerNorm((768,), eps=1e-12, elementwise_affine=True)\n",
      "          (ffn): FFN(\n",
      "            (dropout): Dropout(p=0.1, inplace=False)\n",
      "            (lin1): Linear(in_features=768, out_features=3072, bias=True)\n",
      "            (lin2): Linear(in_features=3072, out_features=768, bias=True)\n",
      "            (activation): GELUActivation()\n",
      "          )\n",
      "          (output_layer_norm): LayerNorm((768,), eps=1e-12, elementwise_affine=True)\n",
      "        )\n",
      "      )\n",
      "    )\n",
      "  )\n",
      "  (conv1d): Conv1d(512, 128, kernel_size=(3,), stride=(1,))\n",
      "  (maxpool1d): AdaptiveMaxPool1d(output_size=768)\n",
      "  (dropout): Dropout(p=0.1, inplace=False)\n",
      "  (linear1): Linear(in_features=768, out_features=32, bias=True)\n",
      "  (linear2): Linear(in_features=32, out_features=16, bias=True)\n",
      "  (linear3): Linear(in_features=16, out_features=1, bias=True)\n",
      "  (relu): ReLU()\n",
      "  (sigm): Sigmoid()\n",
      ")\n",
      "Parameters full train: 134955969\n",
      "Parameters transfer learning: 221889\n"
     ]
    }
   ],
   "source": [
    "print(model)\n",
    "print(\"Parameters full train:\", sum([param.nelement() for param in model.parameters()]))\n",
    "print(\"Parameters transfer learning:\", sum([param.nelement() for param in model.parameters() if param.requires_grad == True]))"
   ]
  },
  {
   "cell_type": "code",
   "execution_count": 200,
   "metadata": {},
   "outputs": [
    {
     "name": "stderr",
     "output_type": "stream",
     "text": [
      "100%|██████████| 782/782 [2:08:16<00:00,  9.84s/it]  \n"
     ]
    },
    {
     "name": "stdout",
     "output_type": "stream",
     "text": [
      "Epochs: 1 | Train Loss:  0.018         | Train Accuracy:  0.683         | Val Loss:  0.017         | Val Accuracy:  0.738\n"
     ]
    },
    {
     "name": "stderr",
     "output_type": "stream",
     "text": [
      "100%|██████████| 782/782 [2:06:21<00:00,  9.70s/it]  \n"
     ]
    },
    {
     "name": "stdout",
     "output_type": "stream",
     "text": [
      "Epochs: 2 | Train Loss:  0.016         | Train Accuracy:  0.743         | Val Loss:  0.016         | Val Accuracy:  0.743\n"
     ]
    },
    {
     "name": "stderr",
     "output_type": "stream",
     "text": [
      "100%|██████████| 782/782 [2:08:56<00:00,  9.89s/it]  \n"
     ]
    },
    {
     "name": "stdout",
     "output_type": "stream",
     "text": [
      "Epochs: 3 | Train Loss:  0.016         | Train Accuracy:  0.749         | Val Loss:  0.017         | Val Accuracy:  0.714\n"
     ]
    }
   ],
   "source": [
    "for epoch_num in range(3):\n",
    "    total_acc_train = 0\n",
    "    total_loss_train = 0\n",
    "\n",
    "    model.train()\n",
    "    for train_input, train_label in tqdm(train_loader):\n",
    "\n",
    "        input_id = train_input['input_ids'].squeeze(1).to(device)\n",
    "        train_label = train_label.to(device).float() \n",
    "\n",
    "        output = model(input_id)[:,-1].flatten()\n",
    "    \n",
    "\n",
    "        batch_loss = criterion(output, train_label)\n",
    "        total_loss_train += batch_loss.item()\n",
    "\n",
    "        acc = (output.round() == train_label).sum().item()\n",
    "        total_acc_train += acc\n",
    "\n",
    "        model.zero_grad()\n",
    "        batch_loss.backward()\n",
    "        optimizer.step()\n",
    "\n",
    "    model.eval()\n",
    "    total_loss_val, total_acc_val = 0.0, 0.0\n",
    "    for val_input, val_label in valid_loader:\n",
    "        val_label = val_label.to(device).float() \n",
    "        input_id = val_input['input_ids'].squeeze(1).to(device)\n",
    "\n",
    "        output = model(input_id)[:,-1].flatten()\n",
    "\n",
    "        batch_loss = criterion(output, val_label)\n",
    "        total_loss_val += batch_loss.item()\n",
    "\n",
    "        acc = (output.round() == val_label).sum().item()\n",
    "        total_acc_val += acc\n",
    "\n",
    "    print(\n",
    "        f'Epochs: {epoch_num + 1} | Train Loss: {total_loss_train / len(train_dataset): .3f} \\\n",
    "        | Train Accuracy: {total_acc_train / len(train_dataset): .3f} \\\n",
    "        | Val Loss: {total_loss_val / len(valid_dataset): .3f} \\\n",
    "        | Val Accuracy: {total_acc_val / len(valid_dataset): .3f}')"
   ]
  },
  {
   "cell_type": "markdown",
   "metadata": {},
   "source": [
    "Вывод: на предобученной модели, ипользованной для построения эмбеддингов, accuracy ниже при прочих равных условиях обучения, чем у модели со сверточным слоем, обучающей эмбеддинг самостоятельно "
   ]
  },
  {
   "cell_type": "code",
   "execution_count": null,
   "metadata": {},
   "outputs": [],
   "source": []
  }
 ],
 "metadata": {
  "accelerator": "GPU",
  "colab": {
   "collapsed_sections": [],
   "name": "colab_text_classification_part1.ipynb",
   "provenance": [
    {
     "file_id": "12nrEX3JXTxsHWC-HpuwkTWyJybjmkZu-",
     "timestamp": 1617977674484
    }
   ]
  },
  "kernelspec": {
   "display_name": "Python 3 (ipykernel)",
   "language": "python",
   "name": "python3"
  },
  "language_info": {
   "codemirror_mode": {
    "name": "ipython",
    "version": 3
   },
   "file_extension": ".py",
   "mimetype": "text/x-python",
   "name": "python",
   "nbconvert_exporter": "python",
   "pygments_lexer": "ipython3",
   "version": "3.9.12"
  }
 },
 "nbformat": 4,
 "nbformat_minor": 1
}
