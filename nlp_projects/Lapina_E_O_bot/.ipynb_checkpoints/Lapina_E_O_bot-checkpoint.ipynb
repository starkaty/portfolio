{
 "cells": [
  {
   "cell_type": "markdown",
   "metadata": {},
   "source": [
    "# Проект Создание чат-бота Лапина Е.О.\n",
    "## Бот используется для общения, поиска книг и поиска в энциклопедии\n",
    "\n",
    " Данные для книг закачаны с помощью парсера parser_test.ipynb"
   ]
  },
  {
   "cell_type": "code",
   "execution_count": 76,
   "metadata": {},
   "outputs": [],
   "source": [
    "import torch\n",
    "from transformers import GPT2LMHeadModel\n",
    "from transformers import GPT2Tokenizer\n",
    "import pandas as pd\n",
    "import numpy as np\n",
    "import re\n",
    "import random"
   ]
  },
  {
   "cell_type": "markdown",
   "metadata": {},
   "source": [
    "# Загрузка предобученной модели для поддержания разговора (sber, на gpt2)"
   ]
  },
  {
   "cell_type": "code",
   "execution_count": 77,
   "metadata": {},
   "outputs": [],
   "source": [
    "tokenizer = GPT2Tokenizer.from_pretrained(\"sberbank-ai/rugpt3large_based_on_gpt2\")\n",
    "ru_gpt = GPT2LMHeadModel.from_pretrained(\"sberbank-ai/rugpt3large_based_on_gpt2\", output_attentions=True)"
   ]
  },
  {
   "cell_type": "code",
   "execution_count": 78,
   "metadata": {},
   "outputs": [],
   "source": [
    "def talking(text):\n",
    "    inp = text\n",
    "    encoded = tokenizer.encode(inp, return_tensors=\"pt\")\n",
    "\n",
    "\n",
    "    result = ru_gpt.generate(encoded,\n",
    "        max_length=64,\n",
    "        early_stopping=True,\n",
    "        no_repeat_ngram_size=5)\n",
    "    result= tokenizer.decode(result.cpu().flatten().numpy(), skip_special_tokens=True)\n",
    "    result = result.replace('\\n\\n—\\xa0', '\\n')\n",
    "    result = result.replace('\\n\\n', '\\n')\n",
    "    result = result.replace('\\xa0', '')\n",
    "    stop_words = ['не согласилась она', 'не согласилась я', 'не согласился он', 'не согласился я', 'согласилась она', 'согласилась я', 'согласился он', 'согласился я','переспросил я','переспросила я','переспросил он', 'переспросила она', 'спросил я', 'спросила я', 'спросила она','спросил он', 'ответил я','ответила я','ответил он', 'ответила она','сказал я', 'сказала я', 'сказала она', 'сказал он', 'повторил я','повторила я', 'повторила она', 'повторил он','удивился я', 'удивилась я', 'удивился он', 'удивилась она','пояснила я', 'пояснил я', 'пояснила она', 'пояснил он',  'кивнула я', 'кивнул я', 'кивнула она', 'кивнул он','подтвердила я', 'подтвердил я','подтвердила она', 'подтвердил он', '.']\n",
    "    for word in stop_words:\n",
    "        result = result.replace(word, '')\n",
    "    result = re.sub('[^а-яА-ЯёЁ0-9?,-=/+\\s]', '', result)\n",
    "    for i in range(20, 2, -1):\n",
    "        result = result.replace(' '*i, ' ')\n",
    "    result = result.split('\\n')\n",
    "    try:\n",
    "        result = result[1]\n",
    "        \n",
    "        if result[-1] == ',':\n",
    "            result = result[:-1]\n",
    "        result = result.replace('  ', ' ')\n",
    "        result = result.replace(' Я ', ' я ')\n",
    "        result = result.replace('- -', '')\n",
    "        result = result.replace(' я я ', ' я ')\n",
    "        result = result.replace('-Я', 'Я')\n",
    "            \n",
    "        return result\n",
    "    except:\n",
    "        return 'Давай поговорим о чем-нибудь другом... копать-хоронить!'"
   ]
  },
  {
   "cell_type": "code",
   "execution_count": 79,
   "metadata": {},
   "outputs": [
    {
     "name": "stdout",
     "output_type": "stream",
     "text": [
      "Нет, я не голоден\n"
     ]
    }
   ],
   "source": [
    "print(talking('ты хочешь есть?'))"
   ]
  },
  {
   "cell_type": "markdown",
   "metadata": {},
   "source": [
    "# Загрузка датасета описаний произведений детской литературы с сайта литрес (парсинг)"
   ]
  },
  {
   "cell_type": "code",
   "execution_count": 80,
   "metadata": {},
   "outputs": [
    {
     "data": {
      "text/html": [
       "<div>\n",
       "<style scoped>\n",
       "    .dataframe tbody tr th:only-of-type {\n",
       "        vertical-align: middle;\n",
       "    }\n",
       "\n",
       "    .dataframe tbody tr th {\n",
       "        vertical-align: top;\n",
       "    }\n",
       "\n",
       "    .dataframe thead th {\n",
       "        text-align: right;\n",
       "    }\n",
       "</style>\n",
       "<table border=\"1\" class=\"dataframe\">\n",
       "  <thead>\n",
       "    <tr style=\"text-align: right;\">\n",
       "      <th></th>\n",
       "      <th>Unnamed: 0</th>\n",
       "      <th>title</th>\n",
       "      <th>texts</th>\n",
       "      <th>images</th>\n",
       "      <th>link</th>\n",
       "    </tr>\n",
       "  </thead>\n",
       "  <tbody>\n",
       "    <tr>\n",
       "      <th>0</th>\n",
       "      <td>0</td>\n",
       "      <td>Дикий робот</td>\n",
       "      <td>Удивительная сказка про одного робота по имени...</td>\n",
       "      <td>https://cv7.litres.ru/pub/c/cover_250/39141373...</td>\n",
       "      <td>https://www.litres.ru/book/piter-braun-1753189...</td>\n",
       "    </tr>\n",
       "    <tr>\n",
       "      <th>1</th>\n",
       "      <td>1</td>\n",
       "      <td>Пёс по имени Мани</td>\n",
       "      <td>Трогательная история говорящего Лабрадора Мани...</td>\n",
       "      <td>https://cv6.litres.ru/pub/c/cover_250/22649364...</td>\n",
       "      <td>https://www.litres.ru/book/bodo-shefer/pes-po-...</td>\n",
       "    </tr>\n",
       "    <tr>\n",
       "      <th>2</th>\n",
       "      <td>2</td>\n",
       "      <td>Хранители мира</td>\n",
       "      <td>Первая часть сказочной дилогии Мелиссы Харрисо...</td>\n",
       "      <td>https://cv6.litres.ru/pub/c/cover_250/67978266...</td>\n",
       "      <td>https://www.litres.ru/book/melissa-harrison/hr...</td>\n",
       "    </tr>\n",
       "    <tr>\n",
       "      <th>3</th>\n",
       "      <td>3</td>\n",
       "      <td>Хроники Нарнии. Вся история Нарнии в 7 повестях</td>\n",
       "      <td>Хроники Нарнии – удивительная и прекрасная ист...</td>\n",
       "      <td>https://cv5.litres.ru/pub/c/cover_250/69759154...</td>\n",
       "      <td>https://www.litres.ru/audiobook/klayv-luis/hro...</td>\n",
       "    </tr>\n",
       "    <tr>\n",
       "      <th>4</th>\n",
       "      <td>4</td>\n",
       "      <td>Дело о пропавшей учительнице, или Параллельные...</td>\n",
       "      <td>В жизни 6 «А» происходит нечто фантастическое!...</td>\n",
       "      <td>https://cv8.litres.ru/pub/c/cover_250/66583884...</td>\n",
       "      <td>https://www.litres.ru/book/masha-rupasova/delo...</td>\n",
       "    </tr>\n",
       "    <tr>\n",
       "      <th>...</th>\n",
       "      <td>...</td>\n",
       "      <td>...</td>\n",
       "      <td>...</td>\n",
       "      <td>...</td>\n",
       "      <td>...</td>\n",
       "    </tr>\n",
       "    <tr>\n",
       "      <th>9598</th>\n",
       "      <td>9598</td>\n",
       "      <td>Девочки с характером. Большая книга романтичес...</td>\n",
       "      <td>«Приз за характер»</td>\n",
       "      <td>https://cv2.litres.ru/pub/c/cover_250/68508527...</td>\n",
       "      <td>https://www.litres.ru/audiobook/vladimir-kukuz...</td>\n",
       "    </tr>\n",
       "    <tr>\n",
       "      <th>9599</th>\n",
       "      <td>9599</td>\n",
       "      <td>Сказочные хитрости</td>\n",
       "      <td>Евгений Пермяк – автор многочисленных книг и с...</td>\n",
       "      <td>https://cv0.litres.ru/pub/c/cover_250/68508505...</td>\n",
       "      <td>https://www.litres.ru/book/nina-borisova-32381...</td>\n",
       "    </tr>\n",
       "    <tr>\n",
       "      <th>9600</th>\n",
       "      <td>9600</td>\n",
       "      <td>Школа Единорогов. Друзья-первоклассники</td>\n",
       "      <td>Ивка очень ждёт начало учебного года в Школе Е...</td>\n",
       "      <td>https://cv5.litres.ru/pub/c/cover_250/68317952...</td>\n",
       "      <td>https://www.litres.ru/audiobook/anzhelika-rays...</td>\n",
       "    </tr>\n",
       "    <tr>\n",
       "      <th>9601</th>\n",
       "      <td>9601</td>\n",
       "      <td>Шантон-Болтон</td>\n",
       "      <td>В сборник вошли добрые и мудрые сказки известн...</td>\n",
       "      <td>https://cv0.litres.ru/pub/c/cover_250/68511209...</td>\n",
       "      <td>https://www.litres.ru/book/anastasiya-sklyanki...</td>\n",
       "    </tr>\n",
       "    <tr>\n",
       "      <th>9602</th>\n",
       "      <td>9602</td>\n",
       "      <td>Маленькие лукавинки</td>\n",
       "      <td>Добрые и честные, справедливые и мудрые сказки...</td>\n",
       "      <td>https://cv6.litres.ru/pub/c/cover_250/68510569...</td>\n",
       "      <td>https://www.litres.ru/book/otkrytye-sistemy/po...</td>\n",
       "    </tr>\n",
       "  </tbody>\n",
       "</table>\n",
       "<p>9603 rows × 5 columns</p>\n",
       "</div>"
      ],
      "text/plain": [
       "      Unnamed: 0                                              title  \\\n",
       "0              0                                        Дикий робот   \n",
       "1              1                                  Пёс по имени Мани   \n",
       "2              2                                     Хранители мира   \n",
       "3              3    Хроники Нарнии. Вся история Нарнии в 7 повестях   \n",
       "4              4  Дело о пропавшей учительнице, или Параллельные...   \n",
       "...          ...                                                ...   \n",
       "9598        9598  Девочки с характером. Большая книга романтичес...   \n",
       "9599        9599                                 Сказочные хитрости   \n",
       "9600        9600            Школа Единорогов. Друзья-первоклассники   \n",
       "9601        9601                                      Шантон-Болтон   \n",
       "9602        9602                                Маленькие лукавинки   \n",
       "\n",
       "                                                  texts  \\\n",
       "0     Удивительная сказка про одного робота по имени...   \n",
       "1     Трогательная история говорящего Лабрадора Мани...   \n",
       "2     Первая часть сказочной дилогии Мелиссы Харрисо...   \n",
       "3     Хроники Нарнии – удивительная и прекрасная ист...   \n",
       "4     В жизни 6 «А» происходит нечто фантастическое!...   \n",
       "...                                                 ...   \n",
       "9598                                 «Приз за характер»   \n",
       "9599  Евгений Пермяк – автор многочисленных книг и с...   \n",
       "9600  Ивка очень ждёт начало учебного года в Школе Е...   \n",
       "9601  В сборник вошли добрые и мудрые сказки известн...   \n",
       "9602  Добрые и честные, справедливые и мудрые сказки...   \n",
       "\n",
       "                                                 images  \\\n",
       "0     https://cv7.litres.ru/pub/c/cover_250/39141373...   \n",
       "1     https://cv6.litres.ru/pub/c/cover_250/22649364...   \n",
       "2     https://cv6.litres.ru/pub/c/cover_250/67978266...   \n",
       "3     https://cv5.litres.ru/pub/c/cover_250/69759154...   \n",
       "4     https://cv8.litres.ru/pub/c/cover_250/66583884...   \n",
       "...                                                 ...   \n",
       "9598  https://cv2.litres.ru/pub/c/cover_250/68508527...   \n",
       "9599  https://cv0.litres.ru/pub/c/cover_250/68508505...   \n",
       "9600  https://cv5.litres.ru/pub/c/cover_250/68317952...   \n",
       "9601  https://cv0.litres.ru/pub/c/cover_250/68511209...   \n",
       "9602  https://cv6.litres.ru/pub/c/cover_250/68510569...   \n",
       "\n",
       "                                                   link  \n",
       "0     https://www.litres.ru/book/piter-braun-1753189...  \n",
       "1     https://www.litres.ru/book/bodo-shefer/pes-po-...  \n",
       "2     https://www.litres.ru/book/melissa-harrison/hr...  \n",
       "3     https://www.litres.ru/audiobook/klayv-luis/hro...  \n",
       "4     https://www.litres.ru/book/masha-rupasova/delo...  \n",
       "...                                                 ...  \n",
       "9598  https://www.litres.ru/audiobook/vladimir-kukuz...  \n",
       "9599  https://www.litres.ru/book/nina-borisova-32381...  \n",
       "9600  https://www.litres.ru/audiobook/anzhelika-rays...  \n",
       "9601  https://www.litres.ru/book/anastasiya-sklyanki...  \n",
       "9602  https://www.litres.ru/book/otkrytye-sistemy/po...  \n",
       "\n",
       "[9603 rows x 5 columns]"
      ]
     },
     "execution_count": 80,
     "metadata": {},
     "output_type": "execute_result"
    }
   ],
   "source": [
    "df_books = pd.read_csv('books_list_litres.csv')\n",
    "df_books"
   ]
  },
  {
   "cell_type": "code",
   "execution_count": 81,
   "metadata": {},
   "outputs": [
    {
     "data": {
      "text/html": [
       "<div>\n",
       "<style scoped>\n",
       "    .dataframe tbody tr th:only-of-type {\n",
       "        vertical-align: middle;\n",
       "    }\n",
       "\n",
       "    .dataframe tbody tr th {\n",
       "        vertical-align: top;\n",
       "    }\n",
       "\n",
       "    .dataframe thead th {\n",
       "        text-align: right;\n",
       "    }\n",
       "</style>\n",
       "<table border=\"1\" class=\"dataframe\">\n",
       "  <thead>\n",
       "    <tr style=\"text-align: right;\">\n",
       "      <th></th>\n",
       "      <th>Unnamed: 0</th>\n",
       "      <th>title</th>\n",
       "      <th>texts</th>\n",
       "      <th>images</th>\n",
       "      <th>link</th>\n",
       "    </tr>\n",
       "  </thead>\n",
       "  <tbody>\n",
       "    <tr>\n",
       "      <th>0</th>\n",
       "      <td>0</td>\n",
       "      <td>Волшебные краски</td>\n",
       "      <td>Умные, добрые, философские сказки известного п...</td>\n",
       "      <td>https://cv3.litres.ru/pub/c/cover_250/68511339...</td>\n",
       "      <td>https://www.litres.ru/book/evgeniy-permyak/vol...</td>\n",
       "    </tr>\n",
       "    <tr>\n",
       "      <th>1</th>\n",
       "      <td>1</td>\n",
       "      <td>Сказка: Счастливого конца у героя не бывает</td>\n",
       "      <td>Сюжет строится вокруг Ёны и её желания помочь ...</td>\n",
       "      <td>https://cv2.litres.ru/pub/c/cover_250/68564026...</td>\n",
       "      <td>https://www.litres.ru/book/egor-udodov-2906627...</td>\n",
       "    </tr>\n",
       "    <tr>\n",
       "      <th>2</th>\n",
       "      <td>2</td>\n",
       "      <td>Хитрый коврик</td>\n",
       "      <td>Книги серии «Читаем сами» необходимы каждому д...</td>\n",
       "      <td>https://cv9.litres.ru/pub/c/cover_250/68511291...</td>\n",
       "      <td>https://www.litres.ru/book/evgeniy-permyak/hit...</td>\n",
       "    </tr>\n",
       "    <tr>\n",
       "      <th>3</th>\n",
       "      <td>3</td>\n",
       "      <td>Сказки Кириной бабушки, или Сказки, что читали...</td>\n",
       "      <td>Жила была Кира. Когда Киры была маленькой и ис...</td>\n",
       "      <td>https://cv8.litres.ru/pub/c/cover_250/68610385...</td>\n",
       "      <td>https://www.litres.ru/book/nikolay-putilin-323...</td>\n",
       "    </tr>\n",
       "    <tr>\n",
       "      <th>4</th>\n",
       "      <td>4</td>\n",
       "      <td>Атмосферная поэзия для детей</td>\n",
       "      <td>Под обложкой этой книги собраны добрые, искрен...</td>\n",
       "      <td>https://cv7.litres.ru/pub/c/cover_250/68610274...</td>\n",
       "      <td>https://www.litres.ru/book/aleksandra-aleksand...</td>\n",
       "    </tr>\n",
       "    <tr>\n",
       "      <th>...</th>\n",
       "      <td>...</td>\n",
       "      <td>...</td>\n",
       "      <td>...</td>\n",
       "      <td>...</td>\n",
       "      <td>...</td>\n",
       "    </tr>\n",
       "    <tr>\n",
       "      <th>1399</th>\n",
       "      <td>1399</td>\n",
       "      <td>Слепая Вера</td>\n",
       "      <td>Слепая мышка по имени Вера ослушалась мудрого ...</td>\n",
       "      <td>https://cv2.litres.ru/pub/c/cover_250/67775328...</td>\n",
       "      <td>https://www.litres.ru/book/stepan-dmitrievich-...</td>\n",
       "    </tr>\n",
       "    <tr>\n",
       "      <th>1400</th>\n",
       "      <td>1400</td>\n",
       "      <td>Все произведения школьной программы в кратком ...</td>\n",
       "      <td>Предлагаемое пособие является универсальным пр...</td>\n",
       "      <td>https://cv5.litres.ru/pub/c/cover_250/67634850...</td>\n",
       "      <td>https://www.litres.ru/book/o-b-marina/vse-proi...</td>\n",
       "    </tr>\n",
       "    <tr>\n",
       "      <th>1401</th>\n",
       "      <td>1401</td>\n",
       "      <td>Пингвины-шпионы</td>\n",
       "      <td>Отважный агент 00Ноль (для мамы – Джексон) и е...</td>\n",
       "      <td>https://cv3.litres.ru/pub/c/cover_250/67608830...</td>\n",
       "      <td>https://www.litres.ru/book/sem-hey/pingviny-sh...</td>\n",
       "    </tr>\n",
       "    <tr>\n",
       "      <th>1402</th>\n",
       "      <td>1402</td>\n",
       "      <td>Я динозавр</td>\n",
       "      <td>Второклассник Данил большой любитель динозавро...</td>\n",
       "      <td>https://cv8.litres.ru/pub/c/cover_250/67766388...</td>\n",
       "      <td>https://www.litres.ru/book/anastasiya-karp/ya-...</td>\n",
       "    </tr>\n",
       "    <tr>\n",
       "      <th>1403</th>\n",
       "      <td>1403</td>\n",
       "      <td>Динозавры</td>\n",
       "      <td>Книга «Динозавры» из серии «Детская энциклопед...</td>\n",
       "      <td>https://cv9.litres.ru/pub/c/cover_250/67671590...</td>\n",
       "      <td>https://www.litres.ru/book/loredana-agosta/din...</td>\n",
       "    </tr>\n",
       "  </tbody>\n",
       "</table>\n",
       "<p>1404 rows × 5 columns</p>\n",
       "</div>"
      ],
      "text/plain": [
       "      Unnamed: 0                                              title  \\\n",
       "0              0                                   Волшебные краски   \n",
       "1              1        Сказка: Счастливого конца у героя не бывает   \n",
       "2              2                                      Хитрый коврик   \n",
       "3              3  Сказки Кириной бабушки, или Сказки, что читали...   \n",
       "4              4                       Атмосферная поэзия для детей   \n",
       "...          ...                                                ...   \n",
       "1399        1399                                        Слепая Вера   \n",
       "1400        1400  Все произведения школьной программы в кратком ...   \n",
       "1401        1401                                    Пингвины-шпионы   \n",
       "1402        1402                                         Я динозавр   \n",
       "1403        1403                                          Динозавры   \n",
       "\n",
       "                                                  texts  \\\n",
       "0     Умные, добрые, философские сказки известного п...   \n",
       "1     Сюжет строится вокруг Ёны и её желания помочь ...   \n",
       "2     Книги серии «Читаем сами» необходимы каждому д...   \n",
       "3     Жила была Кира. Когда Киры была маленькой и ис...   \n",
       "4     Под обложкой этой книги собраны добрые, искрен...   \n",
       "...                                                 ...   \n",
       "1399  Слепая мышка по имени Вера ослушалась мудрого ...   \n",
       "1400  Предлагаемое пособие является универсальным пр...   \n",
       "1401  Отважный агент 00Ноль (для мамы – Джексон) и е...   \n",
       "1402  Второклассник Данил большой любитель динозавро...   \n",
       "1403  Книга «Динозавры» из серии «Детская энциклопед...   \n",
       "\n",
       "                                                 images  \\\n",
       "0     https://cv3.litres.ru/pub/c/cover_250/68511339...   \n",
       "1     https://cv2.litres.ru/pub/c/cover_250/68564026...   \n",
       "2     https://cv9.litres.ru/pub/c/cover_250/68511291...   \n",
       "3     https://cv8.litres.ru/pub/c/cover_250/68610385...   \n",
       "4     https://cv7.litres.ru/pub/c/cover_250/68610274...   \n",
       "...                                                 ...   \n",
       "1399  https://cv2.litres.ru/pub/c/cover_250/67775328...   \n",
       "1400  https://cv5.litres.ru/pub/c/cover_250/67634850...   \n",
       "1401  https://cv3.litres.ru/pub/c/cover_250/67608830...   \n",
       "1402  https://cv8.litres.ru/pub/c/cover_250/67766388...   \n",
       "1403  https://cv9.litres.ru/pub/c/cover_250/67671590...   \n",
       "\n",
       "                                                   link  \n",
       "0     https://www.litres.ru/book/evgeniy-permyak/vol...  \n",
       "1     https://www.litres.ru/book/egor-udodov-2906627...  \n",
       "2     https://www.litres.ru/book/evgeniy-permyak/hit...  \n",
       "3     https://www.litres.ru/book/nikolay-putilin-323...  \n",
       "4     https://www.litres.ru/book/aleksandra-aleksand...  \n",
       "...                                                 ...  \n",
       "1399  https://www.litres.ru/book/stepan-dmitrievich-...  \n",
       "1400  https://www.litres.ru/book/o-b-marina/vse-proi...  \n",
       "1401  https://www.litres.ru/book/sem-hey/pingviny-sh...  \n",
       "1402  https://www.litres.ru/book/anastasiya-karp/ya-...  \n",
       "1403  https://www.litres.ru/book/loredana-agosta/din...  \n",
       "\n",
       "[1404 rows x 5 columns]"
      ]
     },
     "execution_count": 81,
     "metadata": {},
     "output_type": "execute_result"
    }
   ],
   "source": [
    "df_books1 = pd.read_csv('books_list_litres1.csv')\n",
    "df_books1"
   ]
  },
  {
   "cell_type": "code",
   "execution_count": 82,
   "metadata": {},
   "outputs": [],
   "source": [
    "df_books = pd.concat([\n",
    "    df_books,\n",
    "    df_books1\n",
    "])"
   ]
  },
  {
   "cell_type": "code",
   "execution_count": 83,
   "metadata": {},
   "outputs": [],
   "source": [
    "df_books['title_text'] = df_books['title']+ ' ' + df_books['texts']"
   ]
  },
  {
   "cell_type": "code",
   "execution_count": 84,
   "metadata": {},
   "outputs": [
    {
     "data": {
      "text/plain": [
       "0    Дикий робот Удивительная сказка про одного роб...\n",
       "1    Пёс по имени Мани Трогательная история говорящ...\n",
       "2    Хранители мира Первая часть сказочной дилогии ...\n",
       "3    Хроники Нарнии. Вся история Нарнии в 7 повестя...\n",
       "4    Дело о пропавшей учительнице, или Параллельные...\n",
       "Name: title_text, dtype: object"
      ]
     },
     "execution_count": 84,
     "metadata": {},
     "output_type": "execute_result"
    }
   ],
   "source": [
    "df_books['title_text'].head()"
   ]
  },
  {
   "cell_type": "code",
   "execution_count": 85,
   "metadata": {},
   "outputs": [
    {
     "data": {
      "text/plain": [
       "(11007, 6)"
      ]
     },
     "execution_count": 85,
     "metadata": {},
     "output_type": "execute_result"
    }
   ],
   "source": [
    "df_books.shape"
   ]
  },
  {
   "cell_type": "code",
   "execution_count": 86,
   "metadata": {},
   "outputs": [],
   "source": [
    "df_books = df_books.reset_index()"
   ]
  },
  {
   "cell_type": "code",
   "execution_count": 87,
   "metadata": {},
   "outputs": [
    {
     "data": {
      "text/plain": [
       "Index(['index', 'Unnamed: 0', 'title', 'texts', 'images', 'link',\n",
       "       'title_text'],\n",
       "      dtype='object')"
      ]
     },
     "execution_count": 87,
     "metadata": {},
     "output_type": "execute_result"
    }
   ],
   "source": [
    "df_books.columns"
   ]
  },
  {
   "cell_type": "code",
   "execution_count": 88,
   "metadata": {},
   "outputs": [],
   "source": [
    "df_books = df_books[['title', 'texts', 'images','title_text']]"
   ]
  },
  {
   "cell_type": "markdown",
   "metadata": {},
   "source": [
    "# Загрузка wikipedia для поиска информации"
   ]
  },
  {
   "cell_type": "code",
   "execution_count": 89,
   "metadata": {},
   "outputs": [],
   "source": [
    "# !pip3 install transformers torch wikipedia torchvision torchaudio"
   ]
  },
  {
   "cell_type": "code",
   "execution_count": 90,
   "metadata": {},
   "outputs": [],
   "source": [
    "# !pip3 install torch==1.12.1 torchvision==0.13.1 torchaudio==0.12.1"
   ]
  },
  {
   "cell_type": "code",
   "execution_count": 91,
   "metadata": {},
   "outputs": [],
   "source": [
    "# !pip install wikipedia"
   ]
  },
  {
   "cell_type": "code",
   "execution_count": 92,
   "metadata": {},
   "outputs": [],
   "source": [
    "import wikipedia\n",
    "import re\n",
    "wikipedia.set_lang(\"ru\")"
   ]
  },
  {
   "cell_type": "code",
   "execution_count": 99,
   "metadata": {},
   "outputs": [],
   "source": [
    "# Чистим текст статьи из Wikipedia и ограничиваем его тысячей символов\n",
    "def getwiki(s):\n",
    "    try:\n",
    "        ny = wikipedia.page(s)\n",
    "        # Получаем первую тысячу символов\n",
    "        wikitext=ny.content[:2000]\n",
    "        # Разбиваем, считая точку разделителем\n",
    "        wikimas=wikitext.split('.')\n",
    "        # Отбрасываем всё после последней точки\n",
    "        wikimas = wikimas[:-1]\n",
    "        # Создаем пустую переменную для текста\n",
    "        wikitext2 = ''\n",
    "        # Проходимся по строкам, где нет знаков «равно» (то есть все, кроме заголовков)\n",
    "        for x in wikimas:\n",
    "            if not('==' in x):\n",
    "                    # Если в строке осталось больше трех символов, добавляем ее\n",
    "                    # к нашей переменной и возвращаем утерянные при разделении строк точки на место\n",
    "                if(len((x.strip()))>3):\n",
    "                   wikitext2=wikitext2+x+'.'\n",
    "            else:\n",
    "                break\n",
    "        # Теперь при помощи регулярных выражений убираем разметку\n",
    "        wikitext2=re.sub('\\([^()]*\\)', '', wikitext2)\n",
    "        wikitext2=re.sub('\\{[^\\{\\}]*\\}', '', wikitext2)\n",
    "        # Возвращаем текстовую строку\n",
    "        return wikitext2\n",
    "    # Обрабатываем исключение, которое мог вернуть модуль wikipedia при запросе\n",
    "    except Exception as e:\n",
    "        return 'В энциклопедии нет информации об этом'"
   ]
  },
  {
   "cell_type": "code",
   "execution_count": 100,
   "metadata": {},
   "outputs": [],
   "source": [
    "# !pip install dialogflow gensim==3.6.0 annoy tqdm stop_words pymorphy2 python-telegram-bot==13.3"
   ]
  },
  {
   "cell_type": "code",
   "execution_count": 101,
   "metadata": {},
   "outputs": [],
   "source": [
    "# !pip install pandarallel"
   ]
  },
  {
   "cell_type": "code",
   "execution_count": 102,
   "metadata": {},
   "outputs": [],
   "source": [
    "# !pip3 install gensim==3.6.0 --use-pep517"
   ]
  },
  {
   "cell_type": "code",
   "execution_count": 103,
   "metadata": {},
   "outputs": [],
   "source": [
    "# !pip3 install dialogflow annoy tqdm stop_words pymorphy2 python-telegram-bot==13.3 pandarallel ipywidgets"
   ]
  },
  {
   "cell_type": "code",
   "execution_count": 104,
   "metadata": {},
   "outputs": [],
   "source": [
    "# pip freeze"
   ]
  },
  {
   "cell_type": "code",
   "execution_count": 105,
   "metadata": {
    "id": "xAhRcgdAVJzn"
   },
   "outputs": [
    {
     "name": "stdout",
     "output_type": "stream",
     "text": [
      "INFO: Pandarallel will run on 4 workers.\n",
      "INFO: Pandarallel will use Memory file system to transfer data between the main process and workers.\n"
     ]
    }
   ],
   "source": [
    "import os\n",
    "from telegram.ext  import Updater, CommandHandler, MessageHandler, Filters\n",
    "import string\n",
    "from pymorphy2 import MorphAnalyzer\n",
    "from stop_words import get_stop_words\n",
    "import annoy\n",
    "from gensim.models import Word2Vec, FastText\n",
    "import pickle\n",
    "import numpy as np\n",
    "from tqdm.notebook import tqdm\n",
    "import pandas as pd\n",
    "import pickle\n",
    "import mmap\n",
    "import re\n",
    "import annoy\n",
    "from tqdm import tqdm_notebook\n",
    "import tensorflow as tf\n",
    "from transformers import TFAutoModel, AutoTokenizer\n",
    "import dill\n",
    "    \n",
    "tqdm.pandas()\n",
    "\n",
    "from pandarallel import pandarallel\n",
    "pandarallel.initialize(progress_bar=True)"
   ]
  },
  {
   "cell_type": "code",
   "execution_count": 106,
   "metadata": {},
   "outputs": [
    {
     "data": {
      "text/plain": [
       "(11004, 4)"
      ]
     },
     "execution_count": 106,
     "metadata": {},
     "output_type": "execute_result"
    }
   ],
   "source": [
    "df_books = df_books[['title', 'texts', 'images', 'title_text']].dropna()\n",
    "df_books.shape"
   ]
  },
  {
   "cell_type": "markdown",
   "metadata": {},
   "source": [
    "### Применим бертовый токенайзер для поиска и обработки запроса на описания книг"
   ]
  },
  {
   "cell_type": "code",
   "execution_count": 107,
   "metadata": {},
   "outputs": [
    {
     "name": "stderr",
     "output_type": "stream",
     "text": [
      "Some weights of the PyTorch model were not used when initializing the TF 2.0 model TFBertModel: ['cls.predictions.transform.LayerNorm.bias', 'cls.predictions.bias', 'cls.predictions.transform.dense.bias', 'cls.predictions.transform.LayerNorm.weight', 'bert.embeddings.position_ids', 'cls.predictions.transform.dense.weight']\n",
      "- This IS expected if you are initializing TFBertModel from a PyTorch model trained on another task or with another architecture (e.g. initializing a TFBertForSequenceClassification model from a BertForPreTraining model).\n",
      "- This IS NOT expected if you are initializing TFBertModel from a PyTorch model that you expect to be exactly identical (e.g. initializing a TFBertForSequenceClassification model from a BertForSequenceClassification model).\n",
      "Some weights or buffers of the TF 2.0 model TFBertModel were not initialized from the PyTorch model and are newly initialized: ['bert.pooler.dense.weight', 'bert.pooler.dense.bias']\n",
      "You should probably TRAIN this model on a down-stream task to be able to use it for predictions and inference.\n"
     ]
    }
   ],
   "source": [
    "bert = TFAutoModel.from_pretrained(\"Geotrend/bert-base-ru-cased\")\n",
    "bert_tokenizer = AutoTokenizer.from_pretrained(\"Geotrend/bert-base-ru-cased\")"
   ]
  },
  {
   "cell_type": "code",
   "execution_count": 108,
   "metadata": {},
   "outputs": [],
   "source": [
    "encodings1 = bert_tokenizer(df_books['title_text'].tolist()[:df_books['title_text'].shape[0]//2], \n",
    "                      max_length=128, \n",
    "                      truncation=True, \n",
    "                      padding='max_length', \n",
    "                      return_token_type_ids=False, \n",
    "                      return_tensors='tf')\n",
    "encodings2 = bert_tokenizer(df_books['title_text'].tolist()[df_books['title_text'].shape[0]//2:], \n",
    "                      max_length=128, \n",
    "                      truncation=True, \n",
    "                      padding='max_length', \n",
    "                      return_token_type_ids=False, \n",
    "                      return_tensors='tf')"
   ]
  },
  {
   "cell_type": "code",
   "execution_count": 109,
   "metadata": {},
   "outputs": [],
   "source": [
    "tokens = bert_tokenizer('собака и кошка', \n",
    "                      max_length=128, \n",
    "                      truncation=True, \n",
    "                      padding='max_length', \n",
    "                      return_token_type_ids=False, \n",
    "                      return_tensors='tf')"
   ]
  },
  {
   "cell_type": "code",
   "execution_count": 110,
   "metadata": {},
   "outputs": [
    {
     "data": {
      "text/plain": [
       "(11004, 128)"
      ]
     },
     "execution_count": 110,
     "metadata": {},
     "output_type": "execute_result"
    }
   ],
   "source": [
    "encodings = np.concatenate([encodings1.input_ids, encodings1.input_ids])\n",
    "encodings.shape"
   ]
  },
  {
   "cell_type": "code",
   "execution_count": 111,
   "metadata": {},
   "outputs": [],
   "source": [
    "def getbooks_count(text):\n",
    "    tokens = bert_tokenizer(text, \n",
    "                      max_length=128, \n",
    "                      truncation=True, \n",
    "                      padding='max_length', \n",
    "                      return_token_type_ids=False, \n",
    "                      return_tensors='tf')\n",
    "    intersect_ids_dict = {}\n",
    "    for i in range(encodings.shape[0]):\n",
    "        intersect_ids = np.intersect1d(encodings[i], tokens.input_ids, return_indices=False)\n",
    "        counter = intersect_ids.shape[0]\n",
    "        intersect_ids_dict[i] = counter\n",
    "    intersect_ids_dict_sorted = sorted(intersect_ids_dict.items(), key=lambda item: item[1], reverse=True)\n",
    "    ids_list = []\n",
    "    \n",
    "    for el in intersect_ids_dict_sorted[:5]:\n",
    "        if el[1]>2:\n",
    "            ids_list.append(el[0])\n",
    "        else: \n",
    "            break\n",
    "    return ids_list"
   ]
  },
  {
   "cell_type": "code",
   "execution_count": 112,
   "metadata": {},
   "outputs": [],
   "source": [
    "# Можно добавить еще фразу после ответа бота. Пока не будем этого делать\n",
    "# extra_list = 'Звонило прошлое, просилось в будущее…. Злость — это такое состояние, когда язык и руки работают быстрее мозга. Ошибочно набранный номер телефона никогда не бывает занят. Можно не бояться быть дураком. Кругом все свои. Господа, за вами будущее. Отойдите. Мне чужого не надо, но свое я возьму — чьё бы оно ни было!. Хватит париться, живи как нравится!. Хватит сидеть без денег!. Будешь много знать – очень расстроишься. Если ты сегодня не позвонишь, звонить буду я, причём не тебе…. Все к лучшему. Хотя, конечно, хрен его знает. Если ты умнее всех — кто ж это оценит?. Твоя голова всегда в ответе за то, куда сядет твой зад. Меня деньги не волнуют! Они меня успокаивают. У китайцев нет слова «изменил», а есть слово «перепутал»…. Жизнь грустная… Зато зарплата смешная. Шоколад вдвойне вкусней, если его нельзя. В аптеках надо продавать время, оно же лечит. Все хотят попасть в рай, но никто не хочет умирать. Если точно знаешь, кто виноват – не выдавай себя. Душа в душу могут жить только матрешки. Будильник ненавидят всего в двух случаях – когда он звенит, и когда он не прозвенел. Вместе мы горы свернём! Ну, или дров наломаем…. Воздух не чувствуется пока его не испортят. Странно, что слово «трудновыговариваемо» настолько трудновыговариваемо. В жизни каждого человека наступает момент, когда давно уже пора спать. Если вы чувствуете, что охрипли — возможно, кто-то оглох. Человек на вершине горы туда не упал. Не важно, что вы в дом берете котенка или мужика! Полгода миленькая моська, а дальше хитрый наглый тип!. Все инструкции на русском языке должны начинаться со слов: «Ну что, придурок, уже сломал?». Если девушка просит тебя оставить её одну, оставь её одну, только ни в коем случае не оставляй её одну!. Короче, удачи тебе, братишка. Сегодня лег спать в 22-00, уже 3-10, а я все еще не могу нарадоваться тому, что лег так рано!. Людям надо доверять, не деньги, конечно, или секреты, а так — вообще. Труднее всего выполнить обещание, данное себе самому. Знаешь ведь: если что — тебя поймут и простят. «Нельзя» бывает только для тех, кто спрашивает. Кто не рискует, тот пьёт водку на поминках того, кто рисковал. Когда я был маленьким, то очень хотел вырасти, кто же знал, что здесь такая подстава. Если можно, а тем более нужно, то как-то не очень и хочется. Лечебные свойства хрена: если его положить на что-нибудь, то сразу становится легче. Мудрость — это возрастное замедление работы мозга, приводящее к невозможности принятия скоропалительных решений. Повесила оберег над дверью, от всякой нечисти, вышла в магазин, вернулась, ключ в двери сломался, зайти не могу. А что если Ленин лежит в мавзолее потому, что его заколдовала злая фея, и если его поцеловать, то заклятие спадет и СССР вернется?. Те, кто рассказывает вам обо мне, рассказывают мне о вас. Никогда не забывайте об этом. Все понтуются, абсолютно все, а те, кто не понтуется, потом понтуется тем, что не понтуется. При пожаре соблюдайте очередность! Сначала — выйти из здания, потом — написать в соц сетях: VK, Одноклассниках, Фейсбуке, Твиттере. Совесть — она такая, она мучает не тех, кого должна мучить, а тех, у кого она есть. У нас на работе стоит кофейный автомат, я уже проиграл в него зарплату. Петух увидел курицу в микроволновке и говорит: «Ядрен батон! в деревне яйца нести некому, а она тут на каруселях катается!». Хвост у человека отпал, а необходимость им вилять осталась. Занимать деньги нужно у пессимистов, они заранее знают, что им не отдадут. Сидя по уши в дерьме, рта особенно не раскроешь. Органы как органы и лишь задница массовик затейник. История Мальвины доказала, что женщина легко может полюбить мужчину пусть и с деревянной головой, но зато обладающего золотым ключиком. Идешь такой с кружкой чая в руках и книгой, и вместо книги кидаешь на кровать чай. Раньше, когда у меня не было денег, я связывал это с отсутствием работы, сейчас у меня есть работа, но, видимо, я что-то делаю не так. Секрет моего всегда прекрасного самочувствия и постоянно хорошего настроения? Вегетарианство, йога и немного мяса и водочки на ужин!. Люблю выходные! Можно быстро и без пробок доехать на работу. Завтра — мифическое место, где ты бегаешь по утрам, живешь полной жизнью и решаешь свои жизненные проблемы. Прогресс! Умные очки, умные часы, умные кроссовки, умные микроволновки! Одни люди тупые остались. Вы замечали, что если ты в купе заходишь последним, то у тебя такое ощущение, как будто ты заходишь в гости?. Проснулся пораньше, чтобы подольше походить с недовольным лицом. Человек рождён для счастья, а не для того, “чтобы слушаться”!. Лучше быть последним — первым, чем первым — последним. На случай, если буду нужен, то я там же, где и был, когда был не нужен. Если волк молчит, то лучше его не перебивай. Легко вставать, когда ты не ложился. Кем бы ты ни был, кем бы ты не стал, помни, где ты был и кем ты стал. Иногда жизнь — это жизнь, а ты в ней иногда. В жизни полно лжи и грязи, она не так красива. Даже твой лучший друг может не поделиться пивом. Бесплатный сыр бывает только бесплатным. Я не боюсь ударов в спину, гораздо страшнее, если это моя спина. Сначала потом, затем, снова опять. Если в дверь не постучаться, ее никогда не откроют. Штаны коту не полагаются, мессир. Уж не прикажете ли Вы мне надеть и сапоги? Кот в сапогах бывает только в сказках, мессир. Но видели ли Вы когда-нибудь кого-нибудь на балу без галстука? Я не намерен оказаться в комическом положении и рисковать тем, что меня вытолкают в шею!. — Голову ему оторвать! — сказал кто-то сурово на галерке. Tаити, Tаити! Не были мы ни в какой Таити! Нас и здесь неплохо кормят. Свободу попугаям! Сво-бо-ду по-пу-га-ям!. Вернись, я всё прощу!. А с чем пироги-то?. У тебя — своя сказка, а у меня — своя. Ой бяда, бяда! Разорение! Запасы не меряны! Убытки не считаны! Разоримся по миру пойдем. Это что, сказка такая? - Это жизня такая. Говорят, вам счастья привалило? - Бессо-овестно врут!. Я не жадный, я домовитый!. Счастье - это когда у тебя все дома. Я птица вольная! Куда хочу - туда лечу!. Нафаня, сундук украли!. Кузенька! Вернись, яхонтовый мой!. Не очень-то вежливо уходить из гостей сразу, как только ты наелся. Никто не может грустить, когда у него есть воздушный шарик!. И это всё потому что у кого-то слишком узкие двери. Всё потому что кто-то слишком много ест!. Я думал, думал и наконец все понял! Это неправильные пчелы!. Кто ходит в гости по утрам, тот поступает мудро!. Кажется, дождь собирается. Я тучка, тучка, тучка, я вовсе не медведь. Безвозмездно — то есть даром. Поздравляю с днём рожденья, желаю счастья в личной жизни, Пух!. Копать-хоронить!!!.  А где дедушка-то спит? Да вон там в коридоре, на коврике, а если не слушается, так я его веником!. Человек собаке друг - это знают все вокруг!. Или, может, обратиться к врачу?. Ни-че-го я не хо-чу!. Фокусы — это ловкость рук и никакого мошенства. Щас спою!. Ты заходи, если что!. А мы тут, знаете, все плюшками балуемся. Пустяки, дело-то житейское!. Спокойствие, только спокойствие!. Поверь мне, не в пирогах счастье. Он улетел, но обещал вернуться. Я мужчина хоть куда! В полном расцвете сил. Это я шалю, ну, то есть балуюсь. Там ещё осталось немножечко варенья?. А как же я? Ведь я же лучше? Лучше собаки? А?. О, я самый больной в мире человек. Ну я так не играю. А у вас молоко убежало. Ребята, давайте жить дружно!. Выходи, подлый трус!. У меня есть мысль, и я её думаю!. Не будем говорить - кто, хотя это был слоненок. Я не хочу быть, извините, напримером. А в попугаях–то я гора-а-аздо длиннее!. Я про одно и то же два раза думать не умею!. А я такой голодный, как айсберг в океане! А ты такой прекрасный, как летом эскимо. Начинаем утреннюю зарядку для тех, кто нас смотрит вечером. Лучший мой подарочек - это ты!. Не правильно ты, дядя Федор, бутерброд ешь! Ты его колбасой кверху держишь, а надо колбасой на язык класть! Так вкуснее получится. Это я, почтальон Печкин! Принес заметку про вашего мальчика!. С ума поодиночке сходят, это только гриппом все вместе болеют. До чего же бывают люди до чужого добра жадные. В такую погоду свои дома сидят, телевизор смотрют! Только чужие шастают! Не будем дверь открывать!. Не надо меня из ружья щелкать! Я может, только жить начинаю — на пенсию перехожу. Поздравляю тебя, Шарик, ты балбес!. Усы, лапы и хвост — вот мои документы!. Это индейская национальная народная изба — «фиг вам» называется. Ничего себе! Вашу маму и там, и тут передают! До чего техника дошла!. Мы строили, строили и наконец построили! Ура!. Нет, мы не хотим в живой уголок — мы хотим в пионеры!. Чебурашка, Чебурашка, где ты?. Ведь кто же, кроме тебя, звезды-то считать будет?!. Все-таки хорошо, что мы снова вместе. Казнить нельзя помиловать. Его что, трамвай переехал?. У него получилось полтора землекопа. Птица Говорун отличается умом и сообразительностью. Я же просил 400 капель! А здесь 402. Ах, если бы сбылась моя мечта, какая жизнь настала бы тогда. А я не хочу, не хочу по расчету, а я по любви, по любви хочу. Эх, жизнь моя, жестянка! Да ну ее в болото! Живу я как поганка, а мне летать, а мне летать, а мне летать охота!. Шла лесною стороной, увязался черт за мной! Думала: мужчина - что за чертовщина?!. Я там и тут — куда пошлют, а посылают часто. Как вы яхту назовёте, так она и поплывет. Ха-ха-ха! Руки вверх! Ваша песенка спета. Не ходи туда, там тебя ждут неприятности. А давай вместе бояться, а?'\n",
    "# extra_list = extra_list.split('. ')\n",
    "# extra_list"
   ]
  },
  {
   "cell_type": "code",
   "execution_count": 113,
   "metadata": {},
   "outputs": [],
   "source": [
    "# len(extra_list)"
   ]
  },
  {
   "cell_type": "code",
   "execution_count": 114,
   "metadata": {},
   "outputs": [],
   "source": [
    "# rand_extra = extra_list[random.randint(0,len(extra_list)-1)]\n",
    "# rand_extra "
   ]
  },
  {
   "cell_type": "code",
   "execution_count": 115,
   "metadata": {},
   "outputs": [],
   "source": [
    "# Создание бота в телеграмм\n",
    "# @botfather\n",
    "# /start\n",
    "# /newbot - create a new bot\n",
    "# name1\n",
    "# name1_BOT\n",
    "#. ->. API"
   ]
  },
  {
   "cell_type": "code",
   "execution_count": null,
   "metadata": {
    "id": "B3sxuG-hVJ0S",
    "outputId": "e61e1613-8860-4e1a-814a-eda3f75bd6ad"
   },
   "outputs": [
    {
     "name": "stderr",
     "output_type": "stream",
     "text": [
      "/home/ekaterina/anaconda3/lib/python3.9/site-packages/transformers/generation/configuration_utils.py:418: UserWarning: `num_beams` is set to 1. However, `early_stopping` is set to `True` -- this flag is only used in beam-based generation modes. You should set `num_beams>1` or unset `early_stopping`.\n",
      "  warnings.warn(\n"
     ]
    }
   ],
   "source": [
    "# заменить на свой токен\n",
    "updater = Updater(\"6501041402:AAG6_eNolYfOz0FpRGJiD35DHVGGxwR32bE\", use_context=True) # Токен API к Telegram\n",
    "dispatcher = updater.dispatcher\n",
    "\n",
    "def startCommand(update, context):\n",
    "    context.bot.send_message(chat_id=update.message.chat_id, text='Привет, давай пообщаемся! Я умею искать книги (для этого напиши \"почитать\" и то, о чем тебе было бы интересно), я порекомендую книги. Могу находить полезную информацию в энциклопедии (для этого напиши \"найди\" и то, что тебя интересует). Могу просто поболтать или сочинить что-нибудь в ответ на твои слова.')\n",
    "\n",
    "def textMessage(update, context):\n",
    "    \n",
    "    input_txt = update.message.text\n",
    "    if input_txt.lower() == \"как тебя зовут\" or input_txt.lower() == \"как тебя зовут?\":\n",
    "        context.bot.send_message(chat_id=update.message.chat_id, text=\"Жан-Жак\")\n",
    "        return\n",
    "    if input_txt.lower() == \"привет\" or input_txt.lower() == \"здравствуй\":\n",
    "        context.bot.send_message(chat_id=update.message.chat_id, text=\"Привет!\")\n",
    "        return\n",
    "    # поиск книг\n",
    "    if \"почитать\" in input_txt.lower():\n",
    "        text = input_txt.lower().replace(\"почитать\", '')\n",
    "        ids = getbooks_count(text)\n",
    "        if ids != []:\n",
    "            for el in ids:\n",
    "                title, image, text = df_books['title'][el], df_books['images'][el], df_books['texts'][el]\n",
    "                context.bot.send_message(chat_id=update.message.chat_id, text=\"Название книги: {} Обложка: {} Описание {}\".format(title, image, text))\n",
    "            return\n",
    "\n",
    "        else: \n",
    "            context.bot.send_message(chat_id=update.message.chat_id, text=\"Я не могу найти такие книги в моей библиотеке... Копать-хоронить!\")\n",
    "            return\n",
    "    # поиск в энциклопедии\n",
    "    elif \"найди\" in input_txt.lower():\n",
    "        text = input_txt.lower().replace(\"найди\", '')\n",
    "        result = getwiki(text)\n",
    "        context.bot.send_message(chat_id=update.message.chat_id, text=result)\n",
    "        return\n",
    "     # разговор\n",
    "    else:\n",
    "        \n",
    "        text = input_txt\n",
    "        #result = talking(text) + '\\n' + extra_list[random.randint(0,len(extra_list)-1)]\n",
    "        result = talking(text)\n",
    "        context.bot.send_message(chat_id=update.message.chat_id, text=result)\n",
    "        return\n",
    "        \n",
    "start_command_handler = CommandHandler('start', startCommand)\n",
    "text_message_handler = MessageHandler(Filters.text, textMessage)\n",
    "dispatcher.add_handler(start_command_handler)\n",
    "dispatcher.add_handler(text_message_handler)\n",
    "updater.start_polling(clean=True)\n",
    "updater.idle()"
   ]
  },
  {
   "cell_type": "code",
   "execution_count": null,
   "metadata": {},
   "outputs": [],
   "source": [
    "# Имя бота JacquesTalkbot"
   ]
  },
  {
   "cell_type": "code",
   "execution_count": null,
   "metadata": {},
   "outputs": [],
   "source": []
  },
  {
   "cell_type": "code",
   "execution_count": null,
   "metadata": {},
   "outputs": [],
   "source": []
  },
  {
   "cell_type": "code",
   "execution_count": null,
   "metadata": {},
   "outputs": [],
   "source": []
  },
  {
   "cell_type": "code",
   "execution_count": null,
   "metadata": {},
   "outputs": [],
   "source": []
  }
 ],
 "metadata": {
  "colab": {
   "name": "lesson_16.ipynb",
   "provenance": []
  },
  "kernelspec": {
   "display_name": "Python 3 (ipykernel)",
   "language": "python",
   "name": "python3"
  },
  "language_info": {
   "codemirror_mode": {
    "name": "ipython",
    "version": 3
   },
   "file_extension": ".py",
   "mimetype": "text/x-python",
   "name": "python",
   "nbconvert_exporter": "python",
   "pygments_lexer": "ipython3",
   "version": "3.9.12"
  }
 },
 "nbformat": 4,
 "nbformat_minor": 4
}
