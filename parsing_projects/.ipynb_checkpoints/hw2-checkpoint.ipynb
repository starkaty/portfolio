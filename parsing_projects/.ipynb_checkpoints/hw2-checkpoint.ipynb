{
 "cells": [
  {
   "cell_type": "code",
   "execution_count": 355,
   "id": "223d0f45",
   "metadata": {},
   "outputs": [],
   "source": [
    "import requests\n",
    "import json\n",
    "from pprintpp import pprint as pp\n",
    "from lxml import html"
   ]
  },
  {
   "cell_type": "markdown",
   "id": "6bd5bd81",
   "metadata": {},
   "source": [
    "## Сбор информации с сайта lenta.ru: название, ссылка на новость, дата."
   ]
  },
  {
   "cell_type": "code",
   "execution_count": 356,
   "id": "8841044c",
   "metadata": {},
   "outputs": [],
   "source": [
    "url = 'https://www.lenta.ru/'"
   ]
  },
  {
   "cell_type": "code",
   "execution_count": 357,
   "id": "f3452bad",
   "metadata": {},
   "outputs": [],
   "source": [
    "headers = {'User-Agent':'Mozilla/5.0 (X11; Ubuntu; Linux x86_64; rv:109.0) Gecko/20100101 Firefox/109.0'}"
   ]
  },
  {
   "cell_type": "code",
   "execution_count": 358,
   "id": "cfc16ffb",
   "metadata": {},
   "outputs": [],
   "source": [
    "name_main = \"//main/div/section/div[@class = 'main-container']/div[@class = 'topnews']/div/div/a/div/h3/text()\""
   ]
  },
  {
   "cell_type": "code",
   "execution_count": 359,
   "id": "d0eff90c",
   "metadata": {},
   "outputs": [],
   "source": [
    "link_main = \"//main/div/section/div[@class = 'main-container']/div[@class = 'topnews']/div/div/a/@href\""
   ]
  },
  {
   "cell_type": "code",
   "execution_count": 360,
   "id": "acd2f05c",
   "metadata": {},
   "outputs": [],
   "source": [
    "name = \"//main/div/section/div[@class = 'main-container']/div[@class = 'topnews']/div/a/div/span/text()\""
   ]
  },
  {
   "cell_type": "code",
   "execution_count": 361,
   "id": "e1c097c3",
   "metadata": {},
   "outputs": [],
   "source": [
    "link = \"//main/div/section/div[@class = 'main-container']/div[@class = 'topnews']/div/a/@href\""
   ]
  },
  {
   "cell_type": "code",
   "execution_count": 362,
   "id": "55da0574",
   "metadata": {},
   "outputs": [],
   "source": [
    "def lenta_news(url, headers, name_main, link_main, name, link, date):\n",
    "    res = requests.get(url, headers = headers)\n",
    "    page = html.fromstring(res.text)\n",
    "    name_main_list = page.xpath(name_main)\n",
    "    link_main_list = page.xpath(link_main)\n",
    "    name_list = page.xpath(name)\n",
    "    link_list = page.xpath(link)\n",
    "    date =  link_main_list[0][6:16]\n",
    "    \n",
    "    news = {}\n",
    "    \n",
    "    for i in range(len(name_list)):\n",
    "        news[name_list[i]] = {'link':url+link_list[i], 'date': date, 'main': 'no'}\n",
    "    \n",
    "    news[name_main_list[0]] = {'link':url+link_main_list[0], 'date': date, 'main': 'yes'} #основная новость выделена на странице, для ее идентификации введем ключ main (yes/no)\n",
    "    \n",
    "    return news"
   ]
  },
  {
   "cell_type": "code",
   "execution_count": 363,
   "id": "5534e885",
   "metadata": {},
   "outputs": [],
   "source": [
    "news = lenta_news(url, headers, name_main, link_main, name, link, date)"
   ]
  },
  {
   "cell_type": "code",
   "execution_count": 364,
   "id": "5bf323f4",
   "metadata": {},
   "outputs": [
    {
     "name": "stdout",
     "output_type": "stream",
     "text": [
      "{\n",
      "    '«ВКонтакте» представила новый инструмент для поддержки самозанятых': {\n",
      "        'date': '2023/02/15',\n",
      "        'link': 'https://www.lenta.ru//news/2023/02/15/vkcab/',\n",
      "        'main': 'no',\n",
      "    },\n",
      "    'Американцы стали меньше поддерживать оказание помощи Украине': {\n",
      "        'date': '2023/02/15',\n",
      "        'link': 'https://www.lenta.ru//news/2023/02/15/us_support/',\n",
      "        'main': 'no',\n",
      "    },\n",
      "    'В «Вашингтоне» отреагировали на отъезд Овечкина из США': {\n",
      "        'date': '2023/02/15',\n",
      "        'link': 'https://www.lenta.ru//news/2023/02/15/washington/',\n",
      "        'main': 'no',\n",
      "    },\n",
      "    'В Новой Зеландии произошло землетрясение': {\n",
      "        'date': '2023/02/15',\n",
      "        'link': 'https://www.lenta.ru//news/2023/02/15/nz_earth/',\n",
      "        'main': 'no',\n",
      "    },\n",
      "    'Изнывающему от ревности парню дали совет': {\n",
      "        'date': '2023/02/15',\n",
      "        'link': 'https://www.lenta.ru//news/2023/02/15/jealousy/',\n",
      "        'main': 'no',\n",
      "    },\n",
      "    'На российского блогера пожаловались в полицию из-за футболки': {\n",
      "        'date': '2023/02/15',\n",
      "        'link': 'https://www.lenta.ru//news/2023/02/15/evg/',\n",
      "        'main': 'no',\n",
      "    },\n",
      "    'Норвегия ответила на обвинения в провокации против России': {\n",
      "        'date': '2023/02/15',\n",
      "        'link': 'https://www.lenta.ru//news/2023/02/15/norway_reject/',\n",
      "        'main': 'yes',\n",
      "    },\n",
      "    'Пентагон опроверг слухи о стягивании российской авиации к границам Украины': {\n",
      "        'date': '2023/02/15',\n",
      "        'link': 'https://www.lenta.ru//news/2023/02/15/ostinpowers/',\n",
      "        'main': 'no',\n",
      "    },\n",
      "    'Посетители супермаркета предотвратили похищение ребенка': {\n",
      "        'date': '2023/02/15',\n",
      "        'link': 'https://www.lenta.ru//news/2023/02/15/kiddnapping/',\n",
      "        'main': 'no',\n",
      "    },\n",
      "    'Россиянка рассказала о случившемся на Камчатке землетрясении': {\n",
      "        'date': '2023/02/15',\n",
      "        'link': 'https://www.lenta.ru//news/2023/02/15/kamch/',\n",
      "        'main': 'no',\n",
      "    },\n",
      "    'Сейсмолог оценил безопасность туристов на отдыхе в Турции после землетрясений': {\n",
      "        'date': '2023/02/15',\n",
      "        'link': 'https://www.lenta.ru//news/2023/02/15/seis/',\n",
      "        'main': 'no',\n",
      "    },\n",
      "    'Украинские СМИ сообщили о вывозе архивов из Артемовска': {\n",
      "        'date': '2023/02/15',\n",
      "        'link': 'https://www.lenta.ru//news/2023/02/15/archivesartemovsk/',\n",
      "        'main': 'no',\n",
      "    },\n",
      "    'Умер сценарист сериалов «Секретные материалы» и «Ганнибал» Джефф Влэминг': {\n",
      "        'date': '2023/02/15',\n",
      "        'link': 'https://www.lenta.ru//news/2023/02/15/jeff_died/',\n",
      "        'main': 'no',\n",
      "    },\n",
      "}\n"
     ]
    }
   ],
   "source": [
    "pp(news)"
   ]
  },
  {
   "cell_type": "code",
   "execution_count": 365,
   "id": "115ec192",
   "metadata": {},
   "outputs": [],
   "source": [
    "with open('hw2.json', 'w', encoding = 'utf8') as f:\n",
    "    json.dump(news, f)"
   ]
  },
  {
   "cell_type": "code",
   "execution_count": null,
   "id": "6c5ab95a",
   "metadata": {},
   "outputs": [],
   "source": []
  }
 ],
 "metadata": {
  "kernelspec": {
   "display_name": "Python 3 (ipykernel)",
   "language": "python",
   "name": "python3"
  },
  "language_info": {
   "codemirror_mode": {
    "name": "ipython",
    "version": 3
   },
   "file_extension": ".py",
   "mimetype": "text/x-python",
   "name": "python",
   "nbconvert_exporter": "python",
   "pygments_lexer": "ipython3",
   "version": "3.9.12"
  }
 },
 "nbformat": 4,
 "nbformat_minor": 5
}
