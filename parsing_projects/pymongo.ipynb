{
 "cells": [
  {
   "cell_type": "code",
   "execution_count": 1,
   "id": "f0c96ece",
   "metadata": {},
   "outputs": [
    {
     "name": "stdout",
     "output_type": "stream",
     "text": [
      "Requirement already satisfied: pymongo in /home/ekaterina/anaconda3/lib/python3.9/site-packages (4.3.3)\r\n",
      "Requirement already satisfied: dnspython<3.0.0,>=1.16.0 in /home/ekaterina/anaconda3/lib/python3.9/site-packages (from pymongo) (2.3.0)\r\n"
     ]
    }
   ],
   "source": [
    "!pip install pymongo"
   ]
  },
  {
   "cell_type": "markdown",
   "id": "28d4b5b0",
   "metadata": {},
   "source": [
    "1. Развернуть у себя на компьютере/виртуальной машине/хостинге MongoDB и реализовать функцию, которая будет добавлять только новые вакансии/продукты в вашу базу."
   ]
  },
  {
   "cell_type": "code",
   "execution_count": 146,
   "id": "8b1ec722",
   "metadata": {},
   "outputs": [],
   "source": [
    "from pymongo import MongoClient\n",
    "from pymongo.errors import DuplicateKeyError\n",
    "\n",
    "from bs4 import BeautifulSoup as bs\n",
    "import requests\n",
    "from pprintpp import pprint as pp\n",
    "import pandas as pd\n",
    "import numpy as np\n",
    "from time import sleep"
   ]
  },
  {
   "cell_type": "markdown",
   "id": "09c94be7",
   "metadata": {},
   "source": [
    "*Для выполнения задания воспользуемся парсингом страниц hh.ru, который мы выполнили в предыдущей работе."
   ]
  },
  {
   "cell_type": "code",
   "execution_count": 122,
   "id": "1009031f",
   "metadata": {},
   "outputs": [],
   "source": [
    "#функция для парсинга сайта hh.ru, принимает аргументы название вакансии и количество страниц, с которых будут поступать данные\n",
    "def vacancy(name, num_pages):\n",
    "    url = f'https://reutov.hh.ru/search/vacancy?area=1&search_field=name&search_field=company_name&search_field=description&enable_snippets=true&text={name}&page='\n",
    "    headers = {'User-Agent':'Mozilla/5.0 (X11; Ubuntu; Linux x86_64; rv:109.0) Gecko/20100101 Firefox/109.0'}\n",
    "    vacancy_list = []\n",
    "    for page_number in range(num_pages):\n",
    "        url_page = url + str(page_number)\n",
    "        res = requests.get(url_page, headers = headers)\n",
    "        soup = bs(res.content, 'html.parser')\n",
    "        #Поскольку не во всех вакансиях присутствует тег с информацией о зарплате, рассмотрим отдельные списки вакансий, в которых зарплата присутствует и в которых нет\n",
    "        #Наименование вакансии\n",
    "        vacancy_name = soup.find_all('a', {'class':'serp-item__title'})\n",
    "        vacancy_name_with_salary = [soup.find_all('span', {'class':'bloko-header-section-3'})[i].parent.find('a', {'class':'serp-item__title'}) for i in range(len(soup.find_all('span', {'class':'bloko-header-section-3'})))]\n",
    "        vacancy_name_no_salary = [vacancy_name[i] for i in range(len(vacancy_name)) if vacancy_name[i].parent.parent.parent.find_all('span', {'class':'bloko-header-section-3'}) == []]\n",
    "        #Компания\n",
    "        company = soup.find_all('a', {'class':'bloko-link bloko-link_kind-tertiary'})\n",
    "        company_with_salary = [soup.find_all('span', {'class':'bloko-header-section-3'})[i].parent.parent.find('a', {'class':'bloko-link bloko-link_kind-tertiary'}) for i in range(len(soup.find_all('span', {'class':'bloko-header-section-3'})))]\n",
    "        company_no_salary = company_no_salary = [company[i] for i in range(len(company)) if vacancy_name[i].parent.parent.parent.find_all('span', {'class':'bloko-header-section-3'}) == []]\n",
    "        #Зарплата\n",
    "        salary = soup.find_all('span', {'class':'bloko-header-section-3'})\n",
    "\n",
    "        vacancy_list_page = []\n",
    "\n",
    "        for i in range(len(vacancy_name_with_salary)):\n",
    "            if 'от' in salary[i].text:\n",
    "                salary_min = int(salary[i].text.replace('от ', '').replace('\\u202f', '').split(' ')[0])\n",
    "                salary_max = 'not stated'\n",
    "                currency = salary[i].text.split(' ')[2]\n",
    "            elif 'до' in salary[i].text:\n",
    "                salary_min = 'not stated'\n",
    "                salary_max = int(salary[i].text.replace('до ', '').replace('\\u202f', '').split(' ')[0])\n",
    "                currency = salary[i].text.split(' ')[2]                            \n",
    "            else: \n",
    "                salary_min = int(salary[i].text.split(' ')[0].replace('\\u202f', ''))\n",
    "                salary_max = int(salary[i].text.split(' ')[2].replace('\\u202f', ''))\n",
    "                currency = salary[i].text.split(' ')[3]\n",
    "            vacancy_list_page.append({'name': vacancy_name_with_salary[i].text, 'company': company_with_salary[i].text, 'salary_min':salary_min, 'salary_max':salary_max, 'salary_currency':currency, 'link': vacancy_name_with_salary[i]['href']})\n",
    "        for i in range(len(vacancy_name_no_salary)):\n",
    "            vacancy_list_page.append({'name':vacancy_name_no_salary[i].text, 'company': company_no_salary[i].text, 'salary_min':'not stated', 'salary_max':'not stated', 'salary_currency': 'not stated', 'link':vacancy_name_no_salary[i]['href']})\n",
    "        vacancy_list = vacancy_list + vacancy_list_page\n",
    "        #vacancy_list.append(vacancy_list_page)\n",
    "        sleep(3)\n",
    "    return vacancy_list  "
   ]
  },
  {
   "cell_type": "code",
   "execution_count": 123,
   "id": "825b25d3",
   "metadata": {},
   "outputs": [
    {
     "data": {
      "text/plain": [
       "MongoClient(host=['localhost:27017'], document_class=dict, tz_aware=False, connect=True)"
      ]
     },
     "execution_count": 123,
     "metadata": {},
     "output_type": "execute_result"
    }
   ],
   "source": [
    "client = MongoClient()\n",
    "client"
   ]
  },
  {
   "cell_type": "code",
   "execution_count": 124,
   "id": "0496ace0",
   "metadata": {},
   "outputs": [],
   "source": [
    "db = client['vacancy']"
   ]
  },
  {
   "cell_type": "code",
   "execution_count": 125,
   "id": "6c95d0ae",
   "metadata": {},
   "outputs": [],
   "source": [
    "#функция для внесения данных с сайта hh.ru в базу данных MongoDB \"vacancy\"\n",
    "def insert_into_vacancy_db():\n",
    "    #запрашиваем у пользователя данные по названию вакансии и количеству страниц, с которых будут предоставлены данные\n",
    "    name = input('Введите название вакансии: ')\n",
    "    num_pages = int(input('Введите количество страниц, с которых будет собрана информация: '))\n",
    "    vacancy_list = vacancy(name, num_pages)\n",
    "    v_info = db[name]\n",
    "    for el in vacancy_list:\n",
    "        element_in_db = v_info.find(el)\n",
    "        element_in_db_list = []\n",
    "        for el in element_in_db:\n",
    "            element_in_db_list.append(el)\n",
    "        if element_in_db_list == []:\n",
    "            v_info.insert_one(el)\n",
    "    count_docs = v_info.find()\n",
    "    num = 0\n",
    "    for i in count_docs:\n",
    "        num += 1\n",
    "    return(f'В базе данных \"vacancy\" в коллекции {name} после внесения новых вакансий всего {num} вакансий.')    "
   ]
  },
  {
   "cell_type": "code",
   "execution_count": 126,
   "id": "eb3d0777",
   "metadata": {},
   "outputs": [
    {
     "name": "stdout",
     "output_type": "stream",
     "text": [
      "Введите название вакансии: data\n",
      "Введите количество страниц, с которых будет собрана информация: 1\n"
     ]
    },
    {
     "data": {
      "text/plain": [
       "'В базе данных \"vacancy\" в коллекции data после внесения новых вакансий всего 20 вакансий.'"
      ]
     },
     "execution_count": 126,
     "metadata": {},
     "output_type": "execute_result"
    }
   ],
   "source": [
    "insert_into_vacancy_db()"
   ]
  },
  {
   "cell_type": "code",
   "execution_count": 127,
   "id": "9b055abe",
   "metadata": {},
   "outputs": [
    {
     "data": {
      "text/plain": [
       "['data', 'java', 'python']"
      ]
     },
     "execution_count": 127,
     "metadata": {},
     "output_type": "execute_result"
    }
   ],
   "source": [
    "db.list_collection_names() #проверяем коллекции"
   ]
  },
  {
   "cell_type": "code",
   "execution_count": 128,
   "id": "ae837c36",
   "metadata": {},
   "outputs": [
    {
     "name": "stdout",
     "output_type": "stream",
     "text": [
      "['admin', 'config', 'local', 'vacancy']\n"
     ]
    }
   ],
   "source": [
    "print(client.list_database_names()) #проверяем базы данных"
   ]
  },
  {
   "cell_type": "markdown",
   "id": "689dedeb",
   "metadata": {},
   "source": [
    "2. Написать функцию, которая производит поиск и выводит на экран вакансии с заработной платой больше введённой суммы (необходимо анализировать оба поля зарплаты). Для тех, кто выполнил задание с Росконтролем - напишите запрос для поиска продуктов с рейтингом не ниже введенного или качеством не ниже введенного (то есть цифра вводится одна, а запрос проверяет оба поля)."
   ]
  },
  {
   "cell_type": "markdown",
   "id": "4cdd4343",
   "metadata": {},
   "source": [
    "Для целей решения данной задачи предположим, что функция выводит информацию следубщим образом:\n",
    "    1. В случае, если есть минимальный и максимальный порог заработной платы, выводятся вакансии, где максимальный порог больше введенной пользователем суммы\n",
    "    2. В случае, если есть только максимальный порог, выводятся вакансии с зарплатой больше него\n",
    "    3. В случае, если есть только минимальный порог, выводятся вакансии с зарплатой больше него\n",
    "    4. В случае, если зарплата не указана, эти вакансии не выводятся"
   ]
  },
  {
   "cell_type": "code",
   "execution_count": 154,
   "id": "2dcb0e3c",
   "metadata": {},
   "outputs": [],
   "source": [
    "def salary_gt():\n",
    "    name = input('Введите название вакансии: ')\n",
    "    collection = db[name]\n",
    "    salary = int(input('Введите заработную плату: '))\n",
    "    salary_gt_list = [collection.find({'salary_min':{'$gt':salary}, 'salary_max':'not stated'}), collection.find({'salary_max':{'$gt':salary}, 'salary_min':'not stated'}), collection.find({'salary_max':{'$gt':salary}, 'salary_min':{'$ne':'not stated'}})]\n",
    "    for i in range(len(salary_gt_list)):\n",
    "        for el in salary_gt_list[i]:\n",
    "            pp(el)"
   ]
  },
  {
   "cell_type": "code",
   "execution_count": 158,
   "id": "80fa39b6",
   "metadata": {},
   "outputs": [
    {
     "name": "stdout",
     "output_type": "stream",
     "text": [
      "Введите название вакансии: java\n",
      "Введите заработную плату: 250000\n",
      "{\n",
      "    '_id': ObjectId('63f533f7d695315b37a2a431'),\n",
      "    'company': 'ООО\\xa0HeadHunter::Backend',\n",
      "    'link': 'https://reutov.hh.ru/vacancy/76713727?from=vacancy_search_list&query=java',\n",
      "    'name': 'Java разработчик в команду \"Навыки\"',\n",
      "    'salary_currency': 'руб.',\n",
      "    'salary_max': 'not stated',\n",
      "    'salary_min': 350000,\n",
      "}\n",
      "{\n",
      "    '_id': ObjectId('63f533f7d695315b37a2a435'),\n",
      "    'company': 'АО\\xa0НТЦ ЕЭС Информационные Комплексы',\n",
      "    'link': 'https://reutov.hh.ru/vacancy/76643997?from=vacancy_search_list&query=java',\n",
      "    'name': 'Ведущий Java разработчик (удалённо)',\n",
      "    'salary_currency': 'руб.',\n",
      "    'salary_max': 400000,\n",
      "    'salary_min': 350000,\n",
      "}\n",
      "{\n",
      "    '_id': ObjectId('63f533f7d695315b37a2a436'),\n",
      "    'company': 'BrainHub',\n",
      "    'link': 'https://reutov.hh.ru/vacancy/76610003?from=vacancy_search_list&query=java',\n",
      "    'name': 'Senior Java developer',\n",
      "    'salary_currency': 'руб.',\n",
      "    'salary_max': 450000,\n",
      "    'salary_min': 350000,\n",
      "}\n",
      "{\n",
      "    '_id': ObjectId('63f533f7d695315b37a2a437'),\n",
      "    'company': 'GitFlic',\n",
      "    'link': 'https://reutov.hh.ru/vacancy/76818972?from=vacancy_search_list&query=java',\n",
      "    'name': 'Java-разработчик',\n",
      "    'salary_currency': 'руб.',\n",
      "    'salary_max': 300000,\n",
      "    'salary_min': 150000,\n",
      "}\n",
      "{\n",
      "    '_id': ObjectId('63f533f7d695315b37a2a438'),\n",
      "    'company': 'ООО\\xa0Орбсофт',\n",
      "    'link': 'https://reutov.hh.ru/vacancy/68232620?from=vacancy_search_list&query=java',\n",
      "    'name': 'Java Developer',\n",
      "    'salary_currency': 'руб.',\n",
      "    'salary_max': 300000,\n",
      "    'salary_min': 150000,\n",
      "}\n",
      "{\n",
      "    '_id': ObjectId('63f533f7d695315b37a2a439'),\n",
      "    'company': 'Дартс рекрутинг сервисез',\n",
      "    'link': 'https://reutov.hh.ru/vacancy/77181332?from=vacancy_search_list&query=java',\n",
      "    'name': 'Java Developer',\n",
      "    'salary_currency': 'руб.',\n",
      "    'salary_max': 300000,\n",
      "    'salary_min': 200000,\n",
      "}\n"
     ]
    }
   ],
   "source": [
    "salary_gt()"
   ]
  },
  {
   "cell_type": "code",
   "execution_count": null,
   "id": "f52e9f25",
   "metadata": {},
   "outputs": [],
   "source": []
  }
 ],
 "metadata": {
  "kernelspec": {
   "display_name": "Python 3 (ipykernel)",
   "language": "python",
   "name": "python3"
  },
  "language_info": {
   "codemirror_mode": {
    "name": "ipython",
    "version": 3
   },
   "file_extension": ".py",
   "mimetype": "text/x-python",
   "name": "python",
   "nbconvert_exporter": "python",
   "pygments_lexer": "ipython3",
   "version": "3.9.12"
  }
 },
 "nbformat": 4,
 "nbformat_minor": 5
}
