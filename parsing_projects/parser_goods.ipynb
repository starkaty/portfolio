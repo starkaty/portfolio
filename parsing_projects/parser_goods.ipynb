{
 "cells": [
  {
   "cell_type": "code",
   "execution_count": 223,
   "id": "165d37f1",
   "metadata": {},
   "outputs": [],
   "source": [
    "from pymongo import MongoClient\n",
    "from pymongo.errors import DuplicateKeyError\n",
    "from pprintpp import pprint as pp\n",
    "import requests\n",
    "from lxml import html"
   ]
  },
  {
   "cell_type": "code",
   "execution_count": 224,
   "id": "011121ee",
   "metadata": {},
   "outputs": [
    {
     "data": {
      "text/plain": [
       "MongoClient(host=['localhost:27017'], document_class=dict, tz_aware=False, connect=True)"
      ]
     },
     "execution_count": 224,
     "metadata": {},
     "output_type": "execute_result"
    }
   ],
   "source": [
    "client = MongoClient()\n",
    "client"
   ]
  },
  {
   "cell_type": "code",
   "execution_count": 225,
   "id": "4e9d9a26",
   "metadata": {},
   "outputs": [],
   "source": [
    "db = client.parser_goods"
   ]
  },
  {
   "cell_type": "code",
   "execution_count": 226,
   "id": "9836749c",
   "metadata": {},
   "outputs": [
    {
     "data": {
      "text/plain": [
       "['castorama_ru']"
      ]
     },
     "execution_count": 226,
     "metadata": {},
     "output_type": "execute_result"
    }
   ],
   "source": [
    "db.list_collection_names() #проверяем коллекции"
   ]
  },
  {
   "cell_type": "code",
   "execution_count": 227,
   "id": "fd24b354",
   "metadata": {},
   "outputs": [
    {
     "name": "stdout",
     "output_type": "stream",
     "text": [
      "['admin', 'config', 'local', 'parser_books', 'parser_goods', 'vacancy']\n"
     ]
    }
   ],
   "source": [
    "print(client.list_database_names()) #проверяем базы данных"
   ]
  },
  {
   "cell_type": "code",
   "execution_count": 228,
   "id": "8d07ad0b",
   "metadata": {},
   "outputs": [],
   "source": [
    "collection = db.mvideo"
   ]
  },
  {
   "cell_type": "code",
   "execution_count": 229,
   "id": "de1c69dc",
   "metadata": {},
   "outputs": [],
   "source": [
    "url = 'https://mvideo.ru/'"
   ]
  },
  {
   "cell_type": "code",
   "execution_count": 230,
   "id": "0c6ae2ac",
   "metadata": {},
   "outputs": [],
   "source": [
    "from selenium import webdriver\n",
    "from selenium.webdriver.chrome.service import Service\n",
    "from selenium.webdriver.chrome.options import Options\n",
    "from selenium.webdriver.common.by import By\n",
    "from time import sleep\n",
    "from selenium.webdriver.support.ui import WebDriverWait\n",
    "from selenium.webdriver.support.ui import Select\n",
    "from selenium.webdriver.common.keys import Keys\n",
    "from selenium.webdriver.support import expected_conditions as EC"
   ]
  },
  {
   "cell_type": "code",
   "execution_count": 231,
   "id": "5179f3ad",
   "metadata": {},
   "outputs": [],
   "source": [
    "service = Service('chromedriver.exe')\n",
    "driver = webdriver.Chrome(service=service)\n",
    "driver.maximize_window()\n",
    "driver.get(url)"
   ]
  },
  {
   "cell_type": "code",
   "execution_count": 232,
   "id": "6bfd772a",
   "metadata": {},
   "outputs": [],
   "source": [
    "link_list = []\n",
    "# button = driver.find_element(By.XPATH, '//button[@class=\"mv-promotions-carousel--control-button mv-promotions-carousel--control-button-right mv-icon-button--primary mv-icon-button--medium mv-icon-button--shadow mv-button mv-icon-button ng-star-inserted\"]')\n",
    "# button.click()\n",
    "new_pages = driver.find_elements(By.XPATH, '//a[@_ngcontent-serverapp-c206]')\n",
    "for page in new_pages:\n",
    "    page_link = page.get_attribute(\"href\")\n",
    "    link_list.append(page_link)\n",
    "    sleep(1)"
   ]
  },
  {
   "cell_type": "code",
   "execution_count": 233,
   "id": "86f46539",
   "metadata": {},
   "outputs": [
    {
     "data": {
      "text/plain": [
       "['https://www.mvideo.ru/promo/promocatalog?from=hb',\n",
       " 'https://www.mvideo.ru/promo/akciya-rassrochka-mark199208912?from=hb',\n",
       " 'https://www.mvideo.ru/promo/nedeli-realme?from=hb',\n",
       " 'https://www.mvideo.ru/promo/skidki-do-40-na-tehniku-rowenta-ultimate-mark202684788?from=hb',\n",
       " 'https://www.mvideo.ru/promo/rassrochka-na-vse-iphone?from=hb',\n",
       " 'https://www.mvideo.ru/promo/vygoda-na-noutbuki-huawei?from=hb',\n",
       " 'https://www.mvideo.ru/promo/smart-chasy-xiaomi-smart-band-7-pro-v-podarok-pri-pokupke-smartfona-xiaomi-13-lite?from=hb',\n",
       " 'https://www.mvideo.ru/promo/besplatnaya-ekspress-dostavka-pri-pokupke-ot-4-990-r-mark202300238?from=hb',\n",
       " 'https://www.mvideo.ru/promo/umnaya-pererabotka-tehniki?from=hb']"
      ]
     },
     "execution_count": 233,
     "metadata": {},
     "output_type": "execute_result"
    }
   ],
   "source": [
    "link_list"
   ]
  },
  {
   "cell_type": "code",
   "execution_count": 234,
   "id": "b2032e46",
   "metadata": {},
   "outputs": [],
   "source": [
    "for link in link_list:\n",
    "    driver.get(link)\n",
    "    elements = driver.find_elements(By.XPATH, '//img')\n",
    "    sleep(1)\n",
    "    for el in elements:\n",
    "        photo = {'photo': el.get_attribute('src')}\n",
    "        photo_in_db = collection.find(photo)\n",
    "        photo_in_db_list = []\n",
    "        for el in photo_in_db:\n",
    "            photo_in_db_list.append(el)\n",
    "        if photo_in_db_list == []:\n",
    "            collection.insert_one(photo)\n",
    "        sleep(1)"
   ]
  },
  {
   "cell_type": "code",
   "execution_count": 235,
   "id": "00a2217d",
   "metadata": {},
   "outputs": [
    {
     "name": "stdout",
     "output_type": "stream",
     "text": [
      "В базе данных \"parser_goods\" в коллекции mvideo после внесения новых товаров всего 72 товаров.\n"
     ]
    }
   ],
   "source": [
    "count_docs = collection.find()\n",
    "num = 0\n",
    "for i in count_docs:\n",
    "    num += 1\n",
    "print(f'В базе данных \"parser_goods\" в коллекции mvideo после внесения новых товаров всего {num} товаров.') "
   ]
  }
 ],
 "metadata": {
  "kernelspec": {
   "display_name": "Python 3 (ipykernel)",
   "language": "python",
   "name": "python3"
  },
  "language_info": {
   "codemirror_mode": {
    "name": "ipython",
    "version": 3
   },
   "file_extension": ".py",
   "mimetype": "text/x-python",
   "name": "python",
   "nbconvert_exporter": "python",
   "pygments_lexer": "ipython3",
   "version": "3.9.12"
  }
 },
 "nbformat": 4,
 "nbformat_minor": 5
}
