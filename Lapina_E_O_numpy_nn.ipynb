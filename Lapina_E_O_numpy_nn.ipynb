{
 "cells": [
  {
   "cell_type": "markdown",
   "metadata": {
    "id": "y1FWR90xxpSl"
   },
   "source": [
    "# Искусственные нейронные сети\n",
    "# Сеть на numpy"
   ]
  },
  {
   "cell_type": "code",
   "execution_count": 117,
   "metadata": {
    "id": "ozb9OSh3xpTI"
   },
   "outputs": [],
   "source": [
    "import numpy as np\n",
    "import matplotlib.pyplot as plt\n",
    "import random\n",
    "import pandas as pd\n",
    "\n",
    "from sklearn.datasets import load_digits\n",
    "from sklearn.preprocessing import MinMaxScaler\n",
    "import matplotlib.pyplot as plt\n",
    "\n",
    "import warnings\n",
    "warnings.filterwarnings('ignore')\n",
    "\n",
    "from sklearn.model_selection import train_test_split\n",
    "\n",
    "\n",
    "# вычисление сигмоид функции\n",
    "def sigmoid(x):\n",
    "    x = np.clip(x, a_min=-500, a_max=500)\n",
    "    return 1 / (1 + np.exp(-x))\n",
    "\n",
    "# вычисление производной от сигмоид функции\n",
    "def sigmoid_deriv(x):\n",
    "    return sigmoid(x) * (1 - sigmoid(x))"
   ]
  },
  {
   "cell_type": "code",
   "execution_count": 118,
   "metadata": {
    "colab": {
     "base_uri": "https://localhost:8080/",
     "height": 391
    },
    "executionInfo": {
     "elapsed": 3338,
     "status": "ok",
     "timestamp": 1666199958413,
     "user": {
      "displayName": "Julia Ponomareva",
      "userId": "14904333240138417226"
     },
     "user_tz": -300
    },
    "id": "z_KsqbZ3xpTJ",
    "outputId": "3a764dc8-9a36-4cae-9cb1-c9a199244580"
   },
   "outputs": [
    {
     "name": "stdout",
     "output_type": "stream",
     "text": [
      "(1797, 64)\n"
     ]
    },
    {
     "data": {
      "image/png": "[encoded data removed]",
      "text/plain": [
       "<Figure size 1152x432 with 10 Axes>"
      ]
     },
     "metadata": {
      "needs_background": "light"
     },
     "output_type": "display_data"
    }
   ],
   "source": [
    "# Подготовка тренировочных данных\n",
    "X, y = load_digits(return_X_y=True)\n",
    "print(X.shape) # расскоментируйте, чтобы размер данных\n",
    "\n",
    "# репрезентация данных\n",
    "plt.figure(figsize=(16, 6))\n",
    "for i in range(10):\n",
    "    plt.subplot(2, 5, i + 1)\n",
    "    plt.imshow(X[i,:].reshape([8, 8]), cmap='gray')"
   ]
  },
  {
   "cell_type": "code",
   "execution_count": 119,
   "metadata": {
    "id": "B-KVdVdVxpTJ"
   },
   "outputs": [],
   "source": [
    "def to_one_hot(Y):\n",
    "    n_col = np.max(Y) + 1\n",
    "    binarized = np.zeros((len(Y), n_col))\n",
    "    for i in range(len(Y)):\n",
    "        binarized[i, Y[i]] = 1\n",
    "    return binarized"
   ]
  },
  {
   "cell_type": "code",
   "execution_count": 120,
   "metadata": {
    "colab": {
     "base_uri": "https://localhost:8080/",
     "height": 156
    },
    "executionInfo": {
     "elapsed": 537,
     "status": "ok",
     "timestamp": 1666200087633,
     "user": {
      "displayName": "Julia Ponomareva",
      "userId": "14904333240138417226"
     },
     "user_tz": -300
    },
    "id": "oNJY5ADWxpTK",
    "outputId": "98e4629a-b1ba-4b3a-c5cb-9e1f3cd10936"
   },
   "outputs": [
    {
     "data": {
      "text/plain": [
       "array([[1., 0., 0., ..., 0., 0., 0.],\n",
       "       [0., 1., 0., ..., 0., 0., 0.],\n",
       "       [0., 0., 1., ..., 0., 0., 0.],\n",
       "       ...,\n",
       "       [0., 0., 0., ..., 0., 1., 0.],\n",
       "       [0., 0., 0., ..., 0., 0., 1.],\n",
       "       [0., 0., 0., ..., 0., 1., 0.]])"
      ]
     },
     "metadata": {},
     "output_type": "display_data"
    },
    {
     "data": {
      "text/plain": [
       "(1797, 10)"
      ]
     },
     "metadata": {},
     "output_type": "display_data"
    }
   ],
   "source": [
    "# формирование входных данных\n",
    "scaler = MinMaxScaler()\n",
    "X = scaler.fit_transform(X)\n",
    "\n",
    "# формирование выходных данных(результатов)\n",
    "y = y.flatten()\n",
    "y = to_one_hot(y)\n",
    "display(y, y.shape)"
   ]
  },
  {
   "cell_type": "code",
   "execution_count": 121,
   "metadata": {
    "colab": {
     "base_uri": "https://localhost:8080/"
    },
    "executionInfo": {
     "elapsed": 58,
     "status": "ok",
     "timestamp": 1665401753540,
     "user": {
      "displayName": "Julia Ponomareva",
      "userId": "14904333240138417226"
     },
     "user_tz": -300
    },
    "id": "bBJi_H1LxpTL",
    "outputId": "92b35ba0-d918-43e9-a3e6-17c0a96eb18e"
   },
   "outputs": [
    {
     "data": {
      "text/plain": [
       "((1203, 64), (594, 64))"
      ]
     },
     "execution_count": 121,
     "metadata": {},
     "output_type": "execute_result"
    }
   ],
   "source": [
    "# Разделение данных на тренировочные и тестовые\n",
    "X_train, X_test, y_train, y_test = train_test_split(X, y, test_size=0.33, random_state=21 )\n",
    "X_train.shape, X_test.shape"
   ]
  },
  {
   "cell_type": "markdown",
   "metadata": {
    "id": "4j0g47JcxpTO"
   },
   "source": [
    "## Пример построения  двухслойной нейронной сети на numpy <a class='anchor' id='example2'>"
   ]
  },
  {
   "cell_type": "code",
   "execution_count": 122,
   "metadata": {},
   "outputs": [
    {
     "data": {
      "text/plain": [
       "(1203, 64)"
      ]
     },
     "execution_count": 122,
     "metadata": {},
     "output_type": "execute_result"
    }
   ],
   "source": [
    "X_train.shape"
   ]
  },
  {
   "cell_type": "code",
   "execution_count": 123,
   "metadata": {
    "id": "RIeYUSovxpTP"
   },
   "outputs": [],
   "source": [
    "# Обучение нейронной сети на различных комбинациях параметров\n",
    "\n",
    "neuron_numb_list = [15, 20, 30, 50, 100]\n",
    "learning_rate_list = [0.001, 0.1, 0.01, 0.05, 0.2, 0.5, 1]\n",
    "num_epochs_list = [5, 10, 50, 100, 200, 500]\n",
    "\n",
    "params_list = []\n",
    "metrics_train = []\n",
    "metrics_test = []\n",
    "\n",
    "for neur_num in neuron_numb_list:\n",
    "    for l_rate in learning_rate_list:\n",
    "        for n_epoch in num_epochs_list:\n",
    "\n",
    "            # определим число нейронов скрытого слоя\n",
    "            neuron_numb = neur_num \n",
    "            \n",
    "            # присваивание случайных весов\n",
    "            np.random.seed(1)\n",
    "            w0 = np.random.random((64, neuron_numb))  # для входного слоя    - 64 входа, neuron_numb выходов\n",
    "            w1 = np.random.random((neuron_numb, 10))  # для внутреннего слоя - neuron_numb входов, 10 выходов\n",
    "\n",
    "            # скорость обучения (learning rate)\n",
    "            learning_rate = l_rate\n",
    "            \n",
    "            # количество итераций\n",
    "            num_epochs = n_epoch\n",
    "\n",
    "            # процесс обучения\n",
    "            for i in range(num_epochs):\n",
    "\n",
    "                # прямое распространение(feed forward)\n",
    "                layer0 = X_train\n",
    "                layer1 = sigmoid(np.dot(layer0, w0))\n",
    "                layer2 = sigmoid(np.dot(layer1, w1))\n",
    "\n",
    "                # обратное распространение (back propagation)\n",
    "                # с использованием градиентного спуска\n",
    "                layer2_error = layer2 - y_train  # производная функции потерь\n",
    "                layer2_grad = layer2_error * sigmoid_deriv(layer2)\n",
    "\n",
    "                layer1_error = layer2_grad.dot(w1.T)\n",
    "                # sigmoid_deriv - Для классификации\n",
    "                # relu_deriv - Для регрессии\n",
    "                layer1_grad = layer1_error * sigmoid_deriv(layer1)\n",
    "\n",
    "                w1 -= layer1.T.dot(layer2_grad) * learning_rate\n",
    "                w0 -= layer0.T.dot(layer1_grad) * learning_rate\n",
    "\n",
    "            # метрики качества\n",
    "            preds_train = np.argmax(layer2, axis=1)\n",
    "            labels = np.argmax(y_train, axis=1)\n",
    "            accuracy_train = (preds_train == labels).sum() * 100 / len(labels)\n",
    "            \n",
    "\n",
    "            # прямое распространение(feed forward)\n",
    "            layer0_test = X_test\n",
    "            layer1_test = sigmoid(np.dot(layer0_test, w0))\n",
    "            layer2_test = sigmoid(np.dot(layer1_test, w1))\n",
    "\n",
    "            # метрика модели\n",
    "            preds_test = np.argmax(layer2_test, axis=1)\n",
    "            labels_test = np.argmax(y_test, axis=1)\n",
    "            accuracy_test = (preds_test == labels_test).sum() * 100 / len(labels_test)\n",
    "            \n",
    "            metrics_train.append(accuracy_train)\n",
    "            metrics_test.append(accuracy_test)\n",
    "            params_list.append(str([neur_num, l_rate, n_epoch]))          "
   ]
  },
  {
   "cell_type": "code",
   "execution_count": 124,
   "metadata": {},
   "outputs": [],
   "source": [
    "#создаем таблицу для записи результатов обучения и проверки на тестовых данных\n",
    "table = pd.DataFrame(np.array(metrics_train), columns = ['metrics_train'])"
   ]
  },
  {
   "cell_type": "code",
   "execution_count": 125,
   "metadata": {},
   "outputs": [],
   "source": [
    "table['metrics_test'] = np.array(metrics_test)"
   ]
  },
  {
   "cell_type": "code",
   "execution_count": 126,
   "metadata": {},
   "outputs": [],
   "source": [
    "table['neur_num___l_rate___n_epoch'] = np.array(params_list)"
   ]
  },
  {
   "cell_type": "code",
   "execution_count": 127,
   "metadata": {},
   "outputs": [],
   "source": [
    "table[['metrics_train', 'metrics_test']] = table[['metrics_train', 'metrics_test']].apply(lambda row: row.round(2))"
   ]
  },
  {
   "cell_type": "code",
   "execution_count": 128,
   "metadata": {},
   "outputs": [
    {
     "data": {
      "text/html": [
       "<div>\n",
       "<style scoped>\n",
       "    .dataframe tbody tr th:only-of-type {\n",
       "        vertical-align: middle;\n",
       "    }\n",
       "\n",
       "    .dataframe tbody tr th {\n",
       "        vertical-align: top;\n",
       "    }\n",
       "\n",
       "    .dataframe thead th {\n",
       "        text-align: right;\n",
       "    }\n",
       "</style>\n",
       "<table border=\"1\" class=\"dataframe\">\n",
       "  <thead>\n",
       "    <tr style=\"text-align: right;\">\n",
       "      <th></th>\n",
       "      <th>metrics_train</th>\n",
       "      <th>metrics_test</th>\n",
       "      <th>neur_num___l_rate___n_epoch</th>\n",
       "    </tr>\n",
       "  </thead>\n",
       "  <tbody>\n",
       "    <tr>\n",
       "      <th>185</th>\n",
       "      <td>99.50</td>\n",
       "      <td>97.64</td>\n",
       "      <td>[100, 0.01, 500]</td>\n",
       "    </tr>\n",
       "    <tr>\n",
       "      <th>184</th>\n",
       "      <td>97.76</td>\n",
       "      <td>96.46</td>\n",
       "      <td>[100, 0.01, 200]</td>\n",
       "    </tr>\n",
       "    <tr>\n",
       "      <th>143</th>\n",
       "      <td>99.25</td>\n",
       "      <td>96.46</td>\n",
       "      <td>[50, 0.01, 500]</td>\n",
       "    </tr>\n",
       "    <tr>\n",
       "      <th>191</th>\n",
       "      <td>98.75</td>\n",
       "      <td>96.13</td>\n",
       "      <td>[100, 0.05, 500]</td>\n",
       "    </tr>\n",
       "    <tr>\n",
       "      <th>101</th>\n",
       "      <td>98.42</td>\n",
       "      <td>95.29</td>\n",
       "      <td>[30, 0.01, 500]</td>\n",
       "    </tr>\n",
       "    <tr>\n",
       "      <th>...</th>\n",
       "      <td>...</td>\n",
       "      <td>...</td>\n",
       "      <td>...</td>\n",
       "    </tr>\n",
       "    <tr>\n",
       "      <th>102</th>\n",
       "      <td>10.81</td>\n",
       "      <td>7.91</td>\n",
       "      <td>[30, 0.05, 5]</td>\n",
       "    </tr>\n",
       "    <tr>\n",
       "      <th>1</th>\n",
       "      <td>8.65</td>\n",
       "      <td>7.91</td>\n",
       "      <td>[15, 0.001, 10]</td>\n",
       "    </tr>\n",
       "    <tr>\n",
       "      <th>26</th>\n",
       "      <td>9.98</td>\n",
       "      <td>7.91</td>\n",
       "      <td>[15, 0.2, 50]</td>\n",
       "    </tr>\n",
       "    <tr>\n",
       "      <th>6</th>\n",
       "      <td>10.81</td>\n",
       "      <td>7.91</td>\n",
       "      <td>[15, 0.1, 5]</td>\n",
       "    </tr>\n",
       "    <tr>\n",
       "      <th>127</th>\n",
       "      <td>10.22</td>\n",
       "      <td>7.58</td>\n",
       "      <td>[50, 0.001, 10]</td>\n",
       "    </tr>\n",
       "  </tbody>\n",
       "</table>\n",
       "<p>210 rows × 3 columns</p>\n",
       "</div>"
      ],
      "text/plain": [
       "     metrics_train  metrics_test neur_num___l_rate___n_epoch\n",
       "185          99.50         97.64            [100, 0.01, 500]\n",
       "184          97.76         96.46            [100, 0.01, 200]\n",
       "143          99.25         96.46             [50, 0.01, 500]\n",
       "191          98.75         96.13            [100, 0.05, 500]\n",
       "101          98.42         95.29             [30, 0.01, 500]\n",
       "..             ...           ...                         ...\n",
       "102          10.81          7.91               [30, 0.05, 5]\n",
       "1             8.65          7.91             [15, 0.001, 10]\n",
       "26            9.98          7.91               [15, 0.2, 50]\n",
       "6            10.81          7.91                [15, 0.1, 5]\n",
       "127          10.22          7.58             [50, 0.001, 10]\n",
       "\n",
       "[210 rows x 3 columns]"
      ]
     },
     "execution_count": 128,
     "metadata": {},
     "output_type": "execute_result"
    }
   ],
   "source": [
    "table.sort_values(['metrics_test'], ascending = False)"
   ]
  },
  {
   "cell_type": "markdown",
   "metadata": {
    "id": "5S8aG2KqxpTR"
   },
   "source": [
    "# Вывод: \n",
    "\n",
    "Максимальной accuracy на тестовых данных 97.64% модель достигает при neuron_numb = 100, learning_rate = 0.01, num_epochs = 500. Этот показатель на тесте в вебинаре составлял 73.74%, соответственно изменение параметров существенно улучшило качество модели."
   ]
  },
  {
   "cell_type": "code",
   "execution_count": null,
   "metadata": {},
   "outputs": [],
   "source": []
  }
 ],
 "metadata": {
  "colab": {
   "collapsed_sections": [
    "IADnOuFBxpTS"
   ],
   "provenance": [],
   "toc_visible": true
  },
  "kernelspec": {
   "display_name": "Python 3 (ipykernel)",
   "language": "python",
   "name": "python3"
  },
  "language_info": {
   "codemirror_mode": {
    "name": "ipython",
    "version": 3
   },
   "file_extension": ".py",
   "mimetype": "text/x-python",
   "name": "python",
   "nbconvert_exporter": "python",
   "pygments_lexer": "ipython3",
   "version": "3.9.12"
  }
 },
 "nbformat": 4,
 "nbformat_minor": 1
}
